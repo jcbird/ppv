{
 "cells": [
  {
   "cell_type": "code",
   "execution_count": 1,
   "metadata": {},
   "outputs": [],
   "source": [
    "# this cell is just for display purposes, NOT necessary for your code\n",
    "%config IPCompleter.use_jedi = False\n",
    "# rediculous bug in Jedi it seems"
   ]
  },
  {
   "cell_type": "markdown",
   "metadata": {},
   "source": [
    "# Assumptions\n",
    "#### This short tutorial assumes that you understand the basic concepts and functionality of `ppv`.\n",
    "\n",
    "#### Please review the `PPV_tutorial` first."
   ]
  },
  {
   "cell_type": "markdown",
   "metadata": {},
   "source": [
    "## Setup for five_plates\n",
    "\n",
    "\\# clone the repository\\\n",
    "\n",
    "pwd &nbsp;&nbsp;&nbsp;&nbsp;&nbsp;&nbsp;&nbsp;&nbsp;      \\#  assume the output of this is '/home/user/sdss5' \\\n",
    "git clone https://github.com/sdss/five_plates.git\n",
    "\n",
    "edit your `ppv_setup.ini` file to include the line:\n",
    "\n",
    "fiveplates_dir = /home/user/sdss5/five_plates/plateruns\n",
    "\n",
    "\n"
   ]
  },
  {
   "cell_type": "code",
   "execution_count": 2,
   "metadata": {},
   "outputs": [
    {
     "name": "stdout",
     "output_type": "stream",
     "text": [
      "SDSS-V platePlans table written to /home/jquark/obsdata/plates/test10/platePlans_sdss5.fits\n"
     ]
    },
    {
     "name": "stderr",
     "output_type": "stream",
     "text": [
      "WARNING: VerifyWarning: Keyword name '@insert_new_runs_here' is greater than 8 characters or contains characters not allowed by the FITS standard; a HIERARCH card will be created. [astropy.io.fits.card]\n"
     ]
    }
   ],
   "source": [
    "from astropy.table import Table\n",
    "import ppv  # the FIRST time you import ppv, the platePlans.par file is downloaded\n",
    "# you can ignore the WARNING"
   ]
  },
  {
   "cell_type": "code",
   "execution_count": 3,
   "metadata": {},
   "outputs": [
    {
     "data": {
      "text/html": [
       "<i>Table masked=True length=177494</i>\n",
       "<table id=\"table140500654109648\" class=\"table-striped table-bordered table-condensed\">\n",
       "<thead><tr><th>pk</th><th>catalogid</th><th>dec</th><th>epoch</th><th>pmdec</th><th>pmra</th><th>ra</th><th>parallax</th><th>bp</th><th>g</th><th>h</th><th>i</th><th>z</th><th>r</th><th>rp</th><th>carton_to_target_pk</th><th>priority</th><th>cadence</th></tr></thead>\n",
       "<thead><tr><th>int64</th><th>int64</th><th>float64</th><th>float64</th><th>float64</th><th>float64</th><th>float64</th><th>float64</th><th>float64</th><th>float64</th><th>float64</th><th>float64</th><th>float64</th><th>float64</th><th>float64</th><th>int64</th><th>int64</th><th>float64</th></tr></thead>\n",
       "<tr><td>63175099</td><td>5899605923</td><td>-78.21534924835343</td><td>2015.5</td><td>14.1147</td><td>-38.6776</td><td>60.547077373326104</td><td>6.93683</td><td>12.128</td><td>nan</td><td>9.862</td><td>nan</td><td>nan</td><td>nan</td><td>11.0435</td><td>219035535</td><td>2610</td><td>nan</td></tr>\n",
       "<tr><td>63157233</td><td>4402418495</td><td>21.66332767920415</td><td>2015.5</td><td>-109.633</td><td>7.17993</td><td>31.263017487803467</td><td>20.7948</td><td>14.3031</td><td>14.787473</td><td>9.92</td><td>12.3524275</td><td>11.75437</td><td>13.461728</td><td>11.9392</td><td>219017066</td><td>2610</td><td>nan</td></tr>\n",
       "<tr><td>63122016</td><td>5506182135</td><td>-43.21783272575037</td><td>2015.5</td><td>-14.7191</td><td>0.682634</td><td>247.91725296709603</td><td>7.70603</td><td>7.83748</td><td>nan</td><td>7.174</td><td>nan</td><td>nan</td><td>nan</td><td>7.49896</td><td>218980933</td><td>2610</td><td>nan</td></tr>\n",
       "<tr><td>63091382</td><td>4463116855</td><td>-14.513036319380562</td><td>2015.5</td><td>-6.37019</td><td>4.92747</td><td>104.34758191416756</td><td>1.12194</td><td>10.5276</td><td>nan</td><td>7.105</td><td>nan</td><td>nan</td><td>nan</td><td>8.92582</td><td>218949562</td><td>2610</td><td>nan</td></tr>\n",
       "<tr><td>63118257</td><td>5586440847</td><td>-51.41270429850474</td><td>2015.5</td><td>-21.3015</td><td>-13.3081</td><td>260.93348213188403</td><td>5.28588</td><td>10.5844</td><td>nan</td><td>8.957</td><td>nan</td><td>nan</td><td>nan</td><td>9.74636</td><td>218977088</td><td>2610</td><td>nan</td></tr>\n",
       "<tr><td>63091580</td><td>4462892628</td><td>-15.239871845454239</td><td>2015.5</td><td>-2.09111</td><td>8.7913</td><td>104.97090680013638</td><td>4.43258</td><td>8.76869</td><td>nan</td><td>7.386</td><td>nan</td><td>nan</td><td>nan</td><td>8.08015</td><td>218949768</td><td>2610</td><td>nan</td></tr>\n",
       "<tr><td>63108942</td><td>4565510987</td><td>-37.15011033546536</td><td>2015.5</td><td>-3.45415</td><td>1.93608</td><td>174.00421431798677</td><td>5.31434</td><td>10.0641</td><td>nan</td><td>8.811</td><td>nan</td><td>nan</td><td>nan</td><td>9.40888</td><td>218967532</td><td>2610</td><td>nan</td></tr>\n",
       "<tr><td>63168604</td><td>5860755077</td><td>-58.60396191630203</td><td>2015.5</td><td>-7.24925</td><td>-14.9866</td><td>118.09324406932826</td><td>4.37178</td><td>11.0412</td><td>nan</td><td>9.415</td><td>nan</td><td>nan</td><td>nan</td><td>10.2561</td><td>219028843</td><td>2610</td><td>nan</td></tr>\n",
       "<tr><td>63085280</td><td>4359635452</td><td>59.147854858338874</td><td>2015.5</td><td>13.1075</td><td>-37.0682</td><td>177.6627793916816</td><td>5.70058</td><td>10.8702</td><td>11.195846</td><td>9.323</td><td>10.41726</td><td>10.57139</td><td>10.534372</td><td>10.0994</td><td>218943304</td><td>2610</td><td>nan</td></tr>\n",
       "<tr><td>63072890</td><td>5932481921</td><td>-40.69317747383978</td><td>2015.5</td><td>161.619</td><td>135.69</td><td>38.515603314594095</td><td>8.31503</td><td>10.9198</td><td>nan</td><td>9.052</td><td>nan</td><td>nan</td><td>nan</td><td>9.99513</td><td>218930520</td><td>2610</td><td>nan</td></tr>\n",
       "<tr><td>...</td><td>...</td><td>...</td><td>...</td><td>...</td><td>...</td><td>...</td><td>...</td><td>...</td><td>...</td><td>...</td><td>...</td><td>...</td><td>...</td><td>...</td><td>...</td><td>...</td><td>...</td></tr>\n",
       "<tr><td>63195358</td><td>5892268075</td><td>-69.3746317038302</td><td>2015.5</td><td>-8.68023</td><td>12.6084</td><td>325.1945329688176</td><td>2.45252</td><td>8.91657</td><td>nan</td><td>8.165</td><td>nan</td><td>nan</td><td>nan</td><td>8.5458</td><td>218895690</td><td>2605</td><td>nan</td></tr>\n",
       "<tr><td>63195708</td><td>4325907710</td><td>75.26837886678732</td><td>2015.5</td><td>14.6169</td><td>48.2899</td><td>48.37042213660732</td><td>6.28072</td><td>10.894</td><td>nan</td><td>9.211</td><td>nan</td><td>nan</td><td>nan</td><td>10.0878</td><td>218895691</td><td>2605</td><td>nan</td></tr>\n",
       "<tr><td>63196558</td><td>4401870552</td><td>1.6909303337706163</td><td>2015.5</td><td>-2.53159</td><td>397.201</td><td>38.310420410038226</td><td>14.8151</td><td>11.3412</td><td>11.719384</td><td>8.583</td><td>10.339441</td><td>10.409499</td><td>10.681344</td><td>9.96035</td><td>218895692</td><td>2605</td><td>nan</td></tr>\n",
       "<tr><td>63201378</td><td>4980406213</td><td>-34.64665890367149</td><td>2015.5</td><td>-54.5975</td><td>49.3912</td><td>311.362403174722</td><td>6.96663</td><td>9.70466</td><td>nan</td><td>8.343</td><td>nan</td><td>nan</td><td>nan</td><td>9.01957</td><td>218895693</td><td>2605</td><td>nan</td></tr>\n",
       "<tr><td>63202085</td><td>4347765514</td><td>75.88227961455708</td><td>2015.5</td><td>-1.97069</td><td>-18.9349</td><td>261.3748942989903</td><td>7.87874</td><td>12.0087</td><td>nan</td><td>9.607</td><td>nan</td><td>nan</td><td>nan</td><td>10.8327</td><td>218895694</td><td>2605</td><td>nan</td></tr>\n",
       "<tr><td>63202827</td><td>5788702768</td><td>-54.16466351954117</td><td>2015.5</td><td>-0.993491</td><td>-1.7485</td><td>147.34308680452958</td><td>1.56275</td><td>13.2063</td><td>nan</td><td>11.67</td><td>nan</td><td>nan</td><td>nan</td><td>12.4887</td><td>218895695</td><td>2605</td><td>nan</td></tr>\n",
       "<tr><td>63205967</td><td>4398186384</td><td>36.90045563218647</td><td>2015.5</td><td>-77.6596</td><td>112.827</td><td>357.3518362038034</td><td>8.20039</td><td>10.3131</td><td>nan</td><td>8.582</td><td>nan</td><td>nan</td><td>nan</td><td>9.46751</td><td>218895696</td><td>2605</td><td>nan</td></tr>\n",
       "<tr><td>63207442</td><td>5775712787</td><td>-60.575141596843004</td><td>2015.5</td><td>9.12249</td><td>-21.9815</td><td>156.25003178482694</td><td>1.88791</td><td>10.8143</td><td>nan</td><td>10.009</td><td>nan</td><td>nan</td><td>nan</td><td>10.416</td><td>218895697</td><td>2605</td><td>nan</td></tr>\n",
       "<tr><td>63207876</td><td>5787091284</td><td>-59.85171061941523</td><td>2015.5</td><td>3.93221</td><td>-7.36891</td><td>150.3682717854151</td><td>0.969967</td><td>12.6195</td><td>nan</td><td>11.976</td><td>nan</td><td>nan</td><td>nan</td><td>12.2843</td><td>218895698</td><td>2605</td><td>nan</td></tr>\n",
       "<tr><td>63208787</td><td>5816408206</td><td>-64.34707699579073</td><td>2015.5</td><td>9.76431</td><td>-22.1958</td><td>168.74741246252884</td><td>7.25154</td><td>17.0391</td><td>nan</td><td>11.651</td><td>nan</td><td>nan</td><td>nan</td><td>14.0713</td><td>218895699</td><td>2605</td><td>nan</td></tr>\n",
       "</table>"
      ],
      "text/plain": [
       "<Table masked=True length=177494>\n",
       "   pk    catalogid          dec         ... carton_to_target_pk priority cadence\n",
       " int64     int64          float64       ...        int64         int64   float64\n",
       "-------- ---------- ------------------- ... ------------------- -------- -------\n",
       "63175099 5899605923  -78.21534924835343 ...           219035535     2610     nan\n",
       "63157233 4402418495   21.66332767920415 ...           219017066     2610     nan\n",
       "63122016 5506182135  -43.21783272575037 ...           218980933     2610     nan\n",
       "63091382 4463116855 -14.513036319380562 ...           218949562     2610     nan\n",
       "63118257 5586440847  -51.41270429850474 ...           218977088     2610     nan\n",
       "63091580 4462892628 -15.239871845454239 ...           218949768     2610     nan\n",
       "63108942 4565510987  -37.15011033546536 ...           218967532     2610     nan\n",
       "63168604 5860755077  -58.60396191630203 ...           219028843     2610     nan\n",
       "63085280 4359635452  59.147854858338874 ...           218943304     2610     nan\n",
       "63072890 5932481921  -40.69317747383978 ...           218930520     2610     nan\n",
       "     ...        ...                 ... ...                 ...      ...     ...\n",
       "63195358 5892268075   -69.3746317038302 ...           218895690     2605     nan\n",
       "63195708 4325907710   75.26837886678732 ...           218895691     2605     nan\n",
       "63196558 4401870552  1.6909303337706163 ...           218895692     2605     nan\n",
       "63201378 4980406213  -34.64665890367149 ...           218895693     2605     nan\n",
       "63202085 4347765514   75.88227961455708 ...           218895694     2605     nan\n",
       "63202827 5788702768  -54.16466351954117 ...           218895695     2605     nan\n",
       "63205967 4398186384   36.90045563218647 ...           218895696     2605     nan\n",
       "63207442 5775712787 -60.575141596843004 ...           218895697     2605     nan\n",
       "63207876 5787091284  -59.85171061941523 ...           218895698     2605     nan\n",
       "63208787 5816408206  -64.34707699579073 ...           218895699     2605     nan"
      ]
     },
     "execution_count": 3,
     "metadata": {},
     "output_type": "execute_result"
    }
   ],
   "source": [
    "# make the targets object just as before\n",
    "# table of targets from v0.1 of targetDB  (read 'Targets' to see how to get this file; just demoing here)\n",
    "planet_targetDB = Table.read('/home/jquark/projects/sdss5/ppv/data/raw/mwm_planet_0.1.0_targetdb.fits.gz')\n",
    "planet_targetDB"
   ]
  },
  {
   "cell_type": "code",
   "execution_count": 4,
   "metadata": {},
   "outputs": [
    {
     "name": "stdout",
     "output_type": "stream",
     "text": [
      "Assuming RA, Dec are in degrees and 2015.5 epoch\n",
      "177494 targets with IDs: <MaskedColumn name='catalogid' dtype='int64' length=177494>\n",
      "4204692671\n",
      "4204692773\n",
      "4204705857\n",
      "4204751665\n",
      "4204795388\n",
      "4204838200\n",
      "4204854273\n",
      "4204858177\n",
      "4204901910\n",
      "4204917314\n",
      "4204926522\n",
      "4204933546\n",
      "       ...\n",
      "5932663258\n",
      "5932664728\n",
      "5932664785\n",
      "5932665261\n",
      "5932665613\n",
      "5932665963\n",
      "5932666418\n",
      "5932667443\n",
      "5932667724\n",
      "5932667918\n",
      "5932668409\n",
      "5932668452\n"
     ]
    }
   ],
   "source": [
    "from ppv.targets import Targets\n",
    "\n",
    "planet_targets = Targets(planet_targetDB)\n",
    "print(planet_targets)\n"
   ]
  },
  {
   "cell_type": "code",
   "execution_count": 5,
   "metadata": {},
   "outputs": [
    {
     "data": {
      "text/plain": [
       "['2020.08.x.bhm-mwm',\n",
       " '2020.09.x.bhm-mwm',\n",
       " '2020.09.y.bhm-mwm',\n",
       " '2020.10.x.mwm-bhm',\n",
       " '2020.10.y.mwm-bhm',\n",
       " 'BHM_01',\n",
       " 'MWM_02']"
      ]
     },
     "execution_count": 5,
     "metadata": {},
     "output_type": "execute_result"
    }
   ],
   "source": [
    "# find available palteruns in five_plates\n",
    "import ppv.fiveplates\n",
    "\n",
    "ppv.fiveplates.available_plateruns()"
   ]
  },
  {
   "cell_type": "code",
   "execution_count": 6,
   "metadata": {},
   "outputs": [],
   "source": [
    "#Define a platerun \n",
    "platerun_MWM02 = ppv.fiveplates.Platerun('MWM_02')"
   ]
  },
  {
   "cell_type": "code",
   "execution_count": 7,
   "metadata": {},
   "outputs": [
    {
     "data": {
      "text/html": [
       "<i>Table length=46</i>\n",
       "<table id=\"table140499125659968\" class=\"table-striped table-bordered table-condensed\">\n",
       "<thead><tr><th>fieldname</th><th>plateid</th><th>designid</th><th>locationid</th><th>raCen</th><th>decCen</th><th>epoch</th><th>radius</th><th>ha</th><th>cadencecategory</th><th>priority</th><th>fiberfilling</th><th>Nsky_APOGEE</th><th>Nstd_APOGEE</th><th>Nsky_BOSS</th><th>Nstd_BOSS</th><th>notes</th><th>platerun</th></tr></thead>\n",
       "<thead><tr><th>str22</th><th>int64</th><th>int64</th><th>int64</th><th>float64</th><th>float64</th><th>float64</th><th>float64</th><th>float64</th><th>str4</th><th>int64</th><th>str10</th><th>int64</th><th>int64</th><th>int64</th><th>int64</th><th>str34</th><th>str6</th></tr></thead>\n",
       "<tr><td>RV_150-16</td><td>0</td><td>15189</td><td>50068</td><td>47.39417</td><td>39.50294</td><td>2020.9</td><td>1.49</td><td>-30.0</td><td>RV12</td><td>9</td><td>MWM2</td><td>35</td><td>15</td><td>50</td><td>50</td><td>redrill_orig325skiesHA+00_des15068</td><td>MWM_02</td></tr>\n",
       "<tr><td>RV_180-12</td><td>0</td><td>15190</td><td>50069</td><td>75.35158</td><td>22.23817</td><td>2020.9</td><td>1.49</td><td>-15.0</td><td>RV12</td><td>9</td><td>MWM2</td><td>35</td><td>15</td><td>50</td><td>50</td><td>redrill_orig050skiesHA-15_des15069</td><td>MWM_02</td></tr>\n",
       "<tr><td>RV_182+25</td><td>0</td><td>15191</td><td>50072</td><td>114.5958</td><td>37.38599</td><td>2020.9</td><td>1.49</td><td>30.0</td><td>RV12</td><td>9</td><td>MWM2</td><td>35</td><td>15</td><td>50</td><td>50</td><td>redrill_orig150skiesHA+30_des15072</td><td>MWM_02</td></tr>\n",
       "<tr><td>RV_195+18</td><td>0</td><td>15192</td><td>50071</td><td>111.7472</td><td>23.6726</td><td>2020.9</td><td>1.49</td><td>-15.0</td><td>RV12</td><td>9</td><td>MWM2</td><td>35</td><td>15</td><td>50</td><td>50</td><td>redrill_orig150skiesHA+30_des15071</td><td>MWM_02</td></tr>\n",
       "<tr><td>RV_203+18</td><td>0</td><td>15193</td><td>50074</td><td>114.7236</td><td>17.1076</td><td>2020.9</td><td>1.49</td><td>15.0</td><td>RV12</td><td>9</td><td>MWM2</td><td>35</td><td>15</td><td>50</td><td>50</td><td>redrill_orig050skiesHA+15_des15074</td><td>MWM_02</td></tr>\n",
       "<tr><td>RV_247+62_btx</td><td>0</td><td>15194</td><td>50075</td><td>170.3706</td><td>9.9099</td><td>2020.9</td><td>1.49</td><td>0.0</td><td>RV12</td><td>9</td><td>MWM2</td><td>35</td><td>15</td><td>50</td><td>50</td><td>redrill_orig350skiesHA-15_des15075</td><td>MWM_02</td></tr>\n",
       "<tr><td>RV_N188</td><td>0</td><td>15195</td><td>50067</td><td>11.83254</td><td>85.251</td><td>2020.9</td><td>1.49</td><td>30.0</td><td>RV6</td><td>9</td><td>MWM2</td><td>35</td><td>15</td><td>50</td><td>50</td><td>redrill_orig150skiesHA+00_des15067</td><td>MWM_02</td></tr>\n",
       "<tr><td>RV_NGC2420_btx</td><td>0</td><td>15196</td><td>50073</td><td>114.5958</td><td>21.0</td><td>2020.9</td><td>1.49</td><td>0.0</td><td>RV12</td><td>9</td><td>MWM2</td><td>35</td><td>15</td><td>50</td><td>50</td><td>redrill_orig150skiesHA+30_des15073</td><td>MWM_02</td></tr>\n",
       "<tr><td>RV_146+12</td><td>0</td><td>15197</td><td>50182</td><td>72.4084</td><td>63.603</td><td>2021.1</td><td>1.49</td><td>-15.0</td><td>RV12</td><td>8</td><td>MWM2</td><td>35</td><td>15</td><td>50</td><td>50</td><td>Same_location_as_apogee2_field</td><td>MWM_02</td></tr>\n",
       "<tr><td>RV_173+12</td><td>0</td><td>15198</td><td>50183</td><td>94.8905</td><td>41.2531</td><td>2021.1</td><td>1.49</td><td>-15.0</td><td>RV12</td><td>8</td><td>MWM2</td><td>35</td><td>15</td><td>50</td><td>50</td><td>Attempted_in_2020.10.c.mwm-bhm</td><td>MWM_02</td></tr>\n",
       "<tr><td>...</td><td>...</td><td>...</td><td>...</td><td>...</td><td>...</td><td>...</td><td>...</td><td>...</td><td>...</td><td>...</td><td>...</td><td>...</td><td>...</td><td>...</td><td>...</td><td>...</td><td>...</td></tr>\n",
       "<tr><td>GG_081</td><td>0</td><td>15225</td><td>50210</td><td>70.90055</td><td>45.93284</td><td>2021.0</td><td>1.49</td><td>30.0</td><td>GG</td><td>7</td><td>MWM_30min2</td><td>35</td><td>15</td><td>50</td><td>50</td><td>None</td><td>MWM_02</td></tr>\n",
       "<tr><td>GG_082</td><td>0</td><td>15226</td><td>50211</td><td>83.81134</td><td>40.16457</td><td>2021.0</td><td>1.49</td><td>30.0</td><td>GG</td><td>7</td><td>MWM_30min2</td><td>35</td><td>15</td><td>50</td><td>50</td><td>None</td><td>MWM_02</td></tr>\n",
       "<tr><td>GG_083</td><td>0</td><td>15227</td><td>50212</td><td>85.69148</td><td>22.2578</td><td>2021.0</td><td>1.49</td><td>0.0</td><td>GG</td><td>7</td><td>MWM_30min2</td><td>35</td><td>15</td><td>50</td><td>50</td><td>None</td><td>MWM_02</td></tr>\n",
       "<tr><td>GG_084</td><td>0</td><td>15228</td><td>50213</td><td>91.84203</td><td>1.99054</td><td>2021.0</td><td>1.49</td><td>0.0</td><td>GG</td><td>7</td><td>MWM_30min2</td><td>35</td><td>15</td><td>50</td><td>50</td><td>None</td><td>MWM_02</td></tr>\n",
       "<tr><td>GG_085</td><td>0</td><td>15229</td><td>50214</td><td>96.19416</td><td>17.28842</td><td>2021.0</td><td>1.49</td><td>30.0</td><td>GG</td><td>7</td><td>MWM_30min2</td><td>35</td><td>15</td><td>50</td><td>50</td><td>None</td><td>MWM_02</td></tr>\n",
       "<tr><td>GG_086</td><td>0</td><td>15230</td><td>50215</td><td>98.8131</td><td>17.12571</td><td>2021.0</td><td>1.49</td><td>30.0</td><td>GG</td><td>7</td><td>MWM_30min2</td><td>35</td><td>15</td><td>50</td><td>50</td><td>None</td><td>MWM_02</td></tr>\n",
       "<tr><td>GG_087</td><td>0</td><td>15231</td><td>50216</td><td>106.62733</td><td>-2.29425</td><td>2021.0</td><td>1.49</td><td>45.0</td><td>GG</td><td>7</td><td>MWM_30min2</td><td>35</td><td>15</td><td>50</td><td>50</td><td>None</td><td>MWM_02</td></tr>\n",
       "<tr><td>GG_088</td><td>0</td><td>15232</td><td>50217</td><td>112.55582</td><td>-8.45344</td><td>2021.0</td><td>1.49</td><td>30.0</td><td>GG</td><td>7</td><td>MWM_30min2</td><td>35</td><td>15</td><td>50</td><td>50</td><td>None</td><td>MWM_02</td></tr>\n",
       "<tr><td>GG_089</td><td>0</td><td>15233</td><td>50218</td><td>114.80978</td><td>-12.52111</td><td>2021.0</td><td>1.49</td><td>0.0</td><td>GG</td><td>7</td><td>MWM_30min2</td><td>35</td><td>15</td><td>50</td><td>50</td><td>None</td><td>MWM_02</td></tr>\n",
       "<tr><td>GG_090</td><td>0</td><td>15234</td><td>50219</td><td>254.06921</td><td>-13.08858</td><td>2021.0</td><td>1.49</td><td>-30.0</td><td>GG</td><td>7</td><td>MWM_30min2</td><td>35</td><td>15</td><td>50</td><td>50</td><td>None</td><td>MWM_02</td></tr>\n",
       "</table>"
      ],
      "text/plain": [
       "<Table length=46>\n",
       "  fieldname    plateid designid ...               notes                platerun\n",
       "    str22       int64   int64   ...               str34                  str6  \n",
       "-------------- ------- -------- ... ---------------------------------- --------\n",
       "     RV_150-16       0    15189 ... redrill_orig325skiesHA+00_des15068   MWM_02\n",
       "     RV_180-12       0    15190 ... redrill_orig050skiesHA-15_des15069   MWM_02\n",
       "     RV_182+25       0    15191 ... redrill_orig150skiesHA+30_des15072   MWM_02\n",
       "     RV_195+18       0    15192 ... redrill_orig150skiesHA+30_des15071   MWM_02\n",
       "     RV_203+18       0    15193 ... redrill_orig050skiesHA+15_des15074   MWM_02\n",
       " RV_247+62_btx       0    15194 ... redrill_orig350skiesHA-15_des15075   MWM_02\n",
       "       RV_N188       0    15195 ... redrill_orig150skiesHA+00_des15067   MWM_02\n",
       "RV_NGC2420_btx       0    15196 ... redrill_orig150skiesHA+30_des15073   MWM_02\n",
       "     RV_146+12       0    15197 ...     Same_location_as_apogee2_field   MWM_02\n",
       "     RV_173+12       0    15198 ...     Attempted_in_2020.10.c.mwm-bhm   MWM_02\n",
       "           ...     ...      ... ...                                ...      ...\n",
       "        GG_081       0    15225 ...                               None   MWM_02\n",
       "        GG_082       0    15226 ...                               None   MWM_02\n",
       "        GG_083       0    15227 ...                               None   MWM_02\n",
       "        GG_084       0    15228 ...                               None   MWM_02\n",
       "        GG_085       0    15229 ...                               None   MWM_02\n",
       "        GG_086       0    15230 ...                               None   MWM_02\n",
       "        GG_087       0    15231 ...                               None   MWM_02\n",
       "        GG_088       0    15232 ...                               None   MWM_02\n",
       "        GG_089       0    15233 ...                               None   MWM_02\n",
       "        GG_090       0    15234 ...                               None   MWM_02"
      ]
     },
     "execution_count": 7,
     "metadata": {},
     "output_type": "execute_result"
    }
   ],
   "source": [
    "platerun_MWM02.platedata"
   ]
  },
  {
   "cell_type": "code",
   "execution_count": 8,
   "metadata": {},
   "outputs": [
    {
     "name": "stdout",
     "output_type": "stream",
     "text": [
      "Please be patient.\n",
      "                  Initial target loading for Platerun can take up to 1 second per field.\n",
      "                  Loading target data from 46 Fields...\n"
     ]
    },
    {
     "data": {
      "text/html": [
       "<i>Table length=1147</i>\n",
       "<table id=\"table140499124922160\" class=\"table-striped table-bordered table-condensed\">\n",
       "<thead><tr><th>pk</th><th>catalogid</th><th>dec</th><th>epoch</th><th>pmdec</th><th>pmra</th><th>ra</th><th>parallax</th><th>bp</th><th>g</th><th>h</th><th>i</th><th>z</th><th>r</th><th>rp</th><th>carton_to_target_pk</th><th>priority</th><th>cadence</th></tr></thead>\n",
       "<thead><tr><th>int64</th><th>int64</th><th>float64</th><th>float64</th><th>float64</th><th>float64</th><th>float64</th><th>float64</th><th>float64</th><th>float64</th><th>float64</th><th>float64</th><th>float64</th><th>float64</th><th>float64</th><th>int64</th><th>int64</th><th>float64</th></tr></thead>\n",
       "<tr><td>63207702</td><td>4286694073</td><td>85.07228380673702</td><td>2015.5</td><td>-22.8</td><td>13.2</td><td>355.3476804051285</td><td>nan</td><td>9.45439</td><td>nan</td><td>7.508</td><td>nan</td><td>nan</td><td>nan</td><td>8.54265</td><td>219069294</td><td>2610</td><td>nan</td></tr>\n",
       "<tr><td>63207704</td><td>4286695248</td><td>85.32449449491213</td><td>2015.5</td><td>-0.125125</td><td>-16.5065</td><td>356.06065794251816</td><td>5.57036</td><td>9.50645</td><td>nan</td><td>8.54</td><td>nan</td><td>nan</td><td>nan</td><td>9.02068</td><td>219069296</td><td>2610</td><td>nan</td></tr>\n",
       "<tr><td>63207707</td><td>4286707086</td><td>85.90586183214106</td><td>2015.5</td><td>1.39294</td><td>17.5375</td><td>358.7812779362493</td><td>3.56013</td><td>8.87671</td><td>nan</td><td>8.709</td><td>nan</td><td>nan</td><td>nan</td><td>8.7885</td><td>219069299</td><td>2610</td><td>nan</td></tr>\n",
       "<tr><td>63164732</td><td>4291411364</td><td>56.301849460124835</td><td>2015.5</td><td>-1.76537</td><td>-38.344</td><td>3.6301280147115538</td><td>12.3638</td><td>15.0915</td><td>nan</td><td>10.528</td><td>nan</td><td>nan</td><td>nan</td><td>12.6629</td><td>219024811</td><td>2610</td><td>nan</td></tr>\n",
       "<tr><td>63191190</td><td>4291437914</td><td>56.22190291815888</td><td>2015.5</td><td>-4.71401</td><td>-6.66711</td><td>5.090643131409084</td><td>1.29175</td><td>12.7403</td><td>nan</td><td>10.784</td><td>nan</td><td>nan</td><td>nan</td><td>11.7895</td><td>219052143</td><td>2610</td><td>nan</td></tr>\n",
       "<tr><td>63187465</td><td>4291496085</td><td>56.92818314700235</td><td>2015.5</td><td>3.02619</td><td>-54.7055</td><td>2.5608207620390417</td><td>10.9813</td><td>14.2014</td><td>nan</td><td>10.171</td><td>nan</td><td>nan</td><td>nan</td><td>12.1516</td><td>219048294</td><td>2610</td><td>nan</td></tr>\n",
       "<tr><td>63164686</td><td>4291554082</td><td>57.37354004964939</td><td>2015.5</td><td>-52.0874</td><td>192.833</td><td>2.767830770519252</td><td>10.0366</td><td>14.4337</td><td>nan</td><td>10.621</td><td>nan</td><td>nan</td><td>nan</td><td>12.5009</td><td>219024762</td><td>2610</td><td>nan</td></tr>\n",
       "<tr><td>63204813</td><td>4291579377</td><td>56.896964121972445</td><td>2015.5</td><td>-12.4254</td><td>10.1861</td><td>2.8705922224456155</td><td>1.79567</td><td>12.2135</td><td>nan</td><td>10.385</td><td>nan</td><td>nan</td><td>nan</td><td>11.2988</td><td>219066272</td><td>2610</td><td>nan</td></tr>\n",
       "<tr><td>63164709</td><td>4291582182</td><td>56.950046345673464</td><td>2015.5</td><td>3.04801</td><td>25.7811</td><td>3.3190158775002936</td><td>11.2676</td><td>15.7864</td><td>nan</td><td>11.114</td><td>nan</td><td>nan</td><td>nan</td><td>13.2944</td><td>219024786</td><td>2610</td><td>nan</td></tr>\n",
       "<tr><td>63178429</td><td>4291585004</td><td>56.72147128064596</td><td>2015.5</td><td>-113.916</td><td>6.04632</td><td>4.088183481957826</td><td>10.1039</td><td>15.8063</td><td>nan</td><td>11.268</td><td>nan</td><td>nan</td><td>nan</td><td>13.3765</td><td>219038980</td><td>2610</td><td>nan</td></tr>\n",
       "<tr><td>...</td><td>...</td><td>...</td><td>...</td><td>...</td><td>...</td><td>...</td><td>...</td><td>...</td><td>...</td><td>...</td><td>...</td><td>...</td><td>...</td><td>...</td><td>...</td><td>...</td><td>...</td></tr>\n",
       "<tr><td>63186190</td><td>4600275321</td><td>3.50953193000734</td><td>2015.5</td><td>93.8567</td><td>-94.1344</td><td>207.81147950276736</td><td>21.3833</td><td>13.4593</td><td>14.040856</td><td>9.494</td><td>11.774666</td><td>11.37857</td><td>12.594397</td><td>11.3899</td><td>219046979</td><td>2610</td><td>nan</td></tr>\n",
       "<tr><td>63186188</td><td>4600276015</td><td>3.638606608460958</td><td>2015.5</td><td>-144.404</td><td>-127.438</td><td>207.7664638837523</td><td>5.16353</td><td>10.5941</td><td>nan</td><td>8.988</td><td>nan</td><td>nan</td><td>nan</td><td>9.8122</td><td>219046977</td><td>2610</td><td>nan</td></tr>\n",
       "<tr><td>57737003</td><td>4600277402</td><td>4.099872127630114</td><td>2015.5</td><td>-179.816</td><td>-1.20081</td><td>207.20252194338633</td><td>61.1599</td><td>14.6459</td><td>nan</td><td>9.162</td><td>nan</td><td>nan</td><td>nan</td><td>11.5863</td><td>219046961</td><td>2610</td><td>nan</td></tr>\n",
       "<tr><td>63186178</td><td>4600278823</td><td>4.015499369733419</td><td>2015.5</td><td>-5.75304</td><td>17.3969</td><td>207.31673772862788</td><td>1.7233</td><td>10.6459</td><td>10.929689</td><td>7.962</td><td>9.7953825</td><td>9.812333</td><td>10.070168</td><td>9.40127</td><td>219046966</td><td>2610</td><td>nan</td></tr>\n",
       "<tr><td>63186186</td><td>4600279498</td><td>4.140238500062982</td><td>2015.5</td><td>7.51976</td><td>-35.862</td><td>207.7784779993797</td><td>6.89442</td><td>11.7706</td><td>12.053732</td><td>9.823</td><td>11.169203</td><td>11.78554</td><td>11.352908</td><td>10.8362</td><td>219046975</td><td>2610</td><td>nan</td></tr>\n",
       "<tr><td>63186187</td><td>4600279583</td><td>4.080059938159227</td><td>2015.5</td><td>-21.6</td><td>-15.1</td><td>207.8149697281834</td><td>nan</td><td>11.4958</td><td>11.739934</td><td>9.286</td><td>10.802848</td><td>11.591683</td><td>10.996058</td><td>10.4365</td><td>219046976</td><td>2610</td><td>nan</td></tr>\n",
       "<tr><td>63186196</td><td>4600282612</td><td>3.8751908969696784</td><td>2015.5</td><td>-35.9568</td><td>-3.53342</td><td>208.05270180130879</td><td>5.15069</td><td>10.5361</td><td>10.833097</td><td>9.152</td><td>10.179995</td><td>10.40883</td><td>10.275539</td><td>9.85881</td><td>219046985</td><td>2610</td><td>nan</td></tr>\n",
       "<tr><td>63186197</td><td>4600282654</td><td>3.897730231278101</td><td>2015.5</td><td>4.07676</td><td>-29.6224</td><td>208.09544625471503</td><td>6.99448</td><td>8.98586</td><td>9.523791</td><td>7.728</td><td>8.85142</td><td>9.044185</td><td>9.001766</td><td>8.34915</td><td>219046986</td><td>2610</td><td>nan</td></tr>\n",
       "<tr><td>63186200</td><td>4600282748</td><td>3.869486309213405</td><td>2015.5</td><td>-2.28687</td><td>-66.9961</td><td>208.2380517398141</td><td>5.16757</td><td>11.2345</td><td>11.530804</td><td>9.652</td><td>10.753979</td><td>10.906274</td><td>10.883356</td><td>10.4411</td><td>219046989</td><td>2610</td><td>nan</td></tr>\n",
       "<tr><td>63186199</td><td>4600285838</td><td>4.036395748969961</td><td>2015.5</td><td>-53.1095</td><td>-74.7886</td><td>208.23986307779236</td><td>14.4523</td><td>10.1863</td><td>12.77922</td><td>8.125</td><td>9.495265</td><td>9.957475</td><td>9.695006</td><td>9.1558</td><td>219046988</td><td>2610</td><td>nan</td></tr>\n",
       "</table>"
      ],
      "text/plain": [
       "<Table length=1147>\n",
       "   pk    catalogid         dec         ... carton_to_target_pk priority cadence\n",
       " int64     int64         float64       ...        int64         int64   float64\n",
       "-------- ---------- ------------------ ... ------------------- -------- -------\n",
       "63207702 4286694073  85.07228380673702 ...           219069294     2610     nan\n",
       "63207704 4286695248  85.32449449491213 ...           219069296     2610     nan\n",
       "63207707 4286707086  85.90586183214106 ...           219069299     2610     nan\n",
       "63164732 4291411364 56.301849460124835 ...           219024811     2610     nan\n",
       "63191190 4291437914  56.22190291815888 ...           219052143     2610     nan\n",
       "63187465 4291496085  56.92818314700235 ...           219048294     2610     nan\n",
       "63164686 4291554082  57.37354004964939 ...           219024762     2610     nan\n",
       "63204813 4291579377 56.896964121972445 ...           219066272     2610     nan\n",
       "63164709 4291582182 56.950046345673464 ...           219024786     2610     nan\n",
       "63178429 4291585004  56.72147128064596 ...           219038980     2610     nan\n",
       "     ...        ...                ... ...                 ...      ...     ...\n",
       "63186190 4600275321   3.50953193000734 ...           219046979     2610     nan\n",
       "63186188 4600276015  3.638606608460958 ...           219046977     2610     nan\n",
       "57737003 4600277402  4.099872127630114 ...           219046961     2610     nan\n",
       "63186178 4600278823  4.015499369733419 ...           219046966     2610     nan\n",
       "63186186 4600279498  4.140238500062982 ...           219046975     2610     nan\n",
       "63186187 4600279583  4.080059938159227 ...           219046976     2610     nan\n",
       "63186196 4600282612 3.8751908969696784 ...           219046985     2610     nan\n",
       "63186197 4600282654  3.897730231278101 ...           219046986     2610     nan\n",
       "63186200 4600282748  3.869486309213405 ...           219046989     2610     nan\n",
       "63186199 4600285838  4.036395748969961 ...           219046988     2610     nan"
      ]
     },
     "execution_count": 8,
     "metadata": {},
     "output_type": "execute_result"
    }
   ],
   "source": [
    "# SAME functionality as in ppv.groups (for plugplate files)!\n",
    "# Get available targets based on position. \n",
    "# These targets COULD have been observed in this five_plates run\n",
    "\n",
    "maybe_observed = planet_targets.available_in(platerun_MWM02)\n",
    "planet_targets.data[maybe_observed]"
   ]
  },
  {
   "cell_type": "code",
   "execution_count": 9,
   "metadata": {},
   "outputs": [
    {
     "name": "stdout",
     "output_type": "stream",
     "text": [
      "Please be patient.\n",
      "                      Initial target loading can take up to 1 second per field.\n",
      "                      Loading target data from 46 Fields...\n"
     ]
    },
    {
     "data": {
      "text/html": [
       "<i>Table length=1094</i>\n",
       "<table id=\"table140499124160256\" class=\"table-striped table-bordered table-condensed\">\n",
       "<thead><tr><th>pk</th><th>catalogid</th><th>dec</th><th>epoch</th><th>pmdec</th><th>pmra</th><th>ra</th><th>parallax</th><th>bp</th><th>g</th><th>h</th><th>i</th><th>z</th><th>r</th><th>rp</th><th>carton_to_target_pk</th><th>priority</th><th>cadence</th></tr></thead>\n",
       "<thead><tr><th>int64</th><th>int64</th><th>float64</th><th>float64</th><th>float64</th><th>float64</th><th>float64</th><th>float64</th><th>float64</th><th>float64</th><th>float64</th><th>float64</th><th>float64</th><th>float64</th><th>float64</th><th>int64</th><th>int64</th><th>float64</th></tr></thead>\n",
       "<tr><td>63207702</td><td>4286694073</td><td>85.07228380673702</td><td>2015.5</td><td>-22.8</td><td>13.2</td><td>355.3476804051285</td><td>nan</td><td>9.45439</td><td>nan</td><td>7.508</td><td>nan</td><td>nan</td><td>nan</td><td>8.54265</td><td>219069294</td><td>2610</td><td>nan</td></tr>\n",
       "<tr><td>63207704</td><td>4286695248</td><td>85.32449449491213</td><td>2015.5</td><td>-0.125125</td><td>-16.5065</td><td>356.06065794251816</td><td>5.57036</td><td>9.50645</td><td>nan</td><td>8.54</td><td>nan</td><td>nan</td><td>nan</td><td>9.02068</td><td>219069296</td><td>2610</td><td>nan</td></tr>\n",
       "<tr><td>63207707</td><td>4286707086</td><td>85.90586183214106</td><td>2015.5</td><td>1.39294</td><td>17.5375</td><td>358.7812779362493</td><td>3.56013</td><td>8.87671</td><td>nan</td><td>8.709</td><td>nan</td><td>nan</td><td>nan</td><td>8.7885</td><td>219069299</td><td>2610</td><td>nan</td></tr>\n",
       "<tr><td>63164732</td><td>4291411364</td><td>56.301849460124835</td><td>2015.5</td><td>-1.76537</td><td>-38.344</td><td>3.6301280147115538</td><td>12.3638</td><td>15.0915</td><td>nan</td><td>10.528</td><td>nan</td><td>nan</td><td>nan</td><td>12.6629</td><td>219024811</td><td>2610</td><td>nan</td></tr>\n",
       "<tr><td>63191190</td><td>4291437914</td><td>56.22190291815888</td><td>2015.5</td><td>-4.71401</td><td>-6.66711</td><td>5.090643131409084</td><td>1.29175</td><td>12.7403</td><td>nan</td><td>10.784</td><td>nan</td><td>nan</td><td>nan</td><td>11.7895</td><td>219052143</td><td>2610</td><td>nan</td></tr>\n",
       "<tr><td>63187465</td><td>4291496085</td><td>56.92818314700235</td><td>2015.5</td><td>3.02619</td><td>-54.7055</td><td>2.5608207620390417</td><td>10.9813</td><td>14.2014</td><td>nan</td><td>10.171</td><td>nan</td><td>nan</td><td>nan</td><td>12.1516</td><td>219048294</td><td>2610</td><td>nan</td></tr>\n",
       "<tr><td>63164686</td><td>4291554082</td><td>57.37354004964939</td><td>2015.5</td><td>-52.0874</td><td>192.833</td><td>2.767830770519252</td><td>10.0366</td><td>14.4337</td><td>nan</td><td>10.621</td><td>nan</td><td>nan</td><td>nan</td><td>12.5009</td><td>219024762</td><td>2610</td><td>nan</td></tr>\n",
       "<tr><td>63204813</td><td>4291579377</td><td>56.896964121972445</td><td>2015.5</td><td>-12.4254</td><td>10.1861</td><td>2.8705922224456155</td><td>1.79567</td><td>12.2135</td><td>nan</td><td>10.385</td><td>nan</td><td>nan</td><td>nan</td><td>11.2988</td><td>219066272</td><td>2610</td><td>nan</td></tr>\n",
       "<tr><td>63164709</td><td>4291582182</td><td>56.950046345673464</td><td>2015.5</td><td>3.04801</td><td>25.7811</td><td>3.3190158775002936</td><td>11.2676</td><td>15.7864</td><td>nan</td><td>11.114</td><td>nan</td><td>nan</td><td>nan</td><td>13.2944</td><td>219024786</td><td>2610</td><td>nan</td></tr>\n",
       "<tr><td>63178429</td><td>4291585004</td><td>56.72147128064596</td><td>2015.5</td><td>-113.916</td><td>6.04632</td><td>4.088183481957826</td><td>10.1039</td><td>15.8063</td><td>nan</td><td>11.268</td><td>nan</td><td>nan</td><td>nan</td><td>13.3765</td><td>219038980</td><td>2610</td><td>nan</td></tr>\n",
       "<tr><td>...</td><td>...</td><td>...</td><td>...</td><td>...</td><td>...</td><td>...</td><td>...</td><td>...</td><td>...</td><td>...</td><td>...</td><td>...</td><td>...</td><td>...</td><td>...</td><td>...</td><td>...</td></tr>\n",
       "<tr><td>57737007</td><td>4600275180</td><td>3.5100818119697568</td><td>2015.5</td><td>-114.421</td><td>-801.499</td><td>207.6457261011101</td><td>29.2725</td><td>15.6355</td><td>16.21833</td><td>10.095</td><td>16.940714</td><td>12.212362</td><td>14.764837</td><td>12.5729</td><td>219046971</td><td>2610</td><td>nan</td></tr>\n",
       "<tr><td>63186189</td><td>4600275230</td><td>3.5554913140729636</td><td>2015.5</td><td>-8.05432</td><td>-19.4963</td><td>207.7248698614296</td><td>4.97703</td><td>8.96106</td><td>9.297915</td><td>8.067</td><td>8.821657</td><td>9.85588</td><td>8.804993</td><td>8.50664</td><td>219046978</td><td>2610</td><td>nan</td></tr>\n",
       "<tr><td>63186190</td><td>4600275321</td><td>3.50953193000734</td><td>2015.5</td><td>93.8567</td><td>-94.1344</td><td>207.81147950276736</td><td>21.3833</td><td>13.4593</td><td>14.040856</td><td>9.494</td><td>11.774666</td><td>11.37857</td><td>12.594397</td><td>11.3899</td><td>219046979</td><td>2610</td><td>nan</td></tr>\n",
       "<tr><td>63186188</td><td>4600276015</td><td>3.638606608460958</td><td>2015.5</td><td>-144.404</td><td>-127.438</td><td>207.7664638837523</td><td>5.16353</td><td>10.5941</td><td>nan</td><td>8.988</td><td>nan</td><td>nan</td><td>nan</td><td>9.8122</td><td>219046977</td><td>2610</td><td>nan</td></tr>\n",
       "<tr><td>57737003</td><td>4600277402</td><td>4.099872127630114</td><td>2015.5</td><td>-179.816</td><td>-1.20081</td><td>207.20252194338633</td><td>61.1599</td><td>14.6459</td><td>nan</td><td>9.162</td><td>nan</td><td>nan</td><td>nan</td><td>11.5863</td><td>219046961</td><td>2610</td><td>nan</td></tr>\n",
       "<tr><td>63186178</td><td>4600278823</td><td>4.015499369733419</td><td>2015.5</td><td>-5.75304</td><td>17.3969</td><td>207.31673772862788</td><td>1.7233</td><td>10.6459</td><td>10.929689</td><td>7.962</td><td>9.7953825</td><td>9.812333</td><td>10.070168</td><td>9.40127</td><td>219046966</td><td>2610</td><td>nan</td></tr>\n",
       "<tr><td>63186186</td><td>4600279498</td><td>4.140238500062982</td><td>2015.5</td><td>7.51976</td><td>-35.862</td><td>207.7784779993797</td><td>6.89442</td><td>11.7706</td><td>12.053732</td><td>9.823</td><td>11.169203</td><td>11.78554</td><td>11.352908</td><td>10.8362</td><td>219046975</td><td>2610</td><td>nan</td></tr>\n",
       "<tr><td>63186187</td><td>4600279583</td><td>4.080059938159227</td><td>2015.5</td><td>-21.6</td><td>-15.1</td><td>207.8149697281834</td><td>nan</td><td>11.4958</td><td>11.739934</td><td>9.286</td><td>10.802848</td><td>11.591683</td><td>10.996058</td><td>10.4365</td><td>219046976</td><td>2610</td><td>nan</td></tr>\n",
       "<tr><td>63186197</td><td>4600282654</td><td>3.897730231278101</td><td>2015.5</td><td>4.07676</td><td>-29.6224</td><td>208.09544625471503</td><td>6.99448</td><td>8.98586</td><td>9.523791</td><td>7.728</td><td>8.85142</td><td>9.044185</td><td>9.001766</td><td>8.34915</td><td>219046986</td><td>2610</td><td>nan</td></tr>\n",
       "<tr><td>63186199</td><td>4600285838</td><td>4.036395748969961</td><td>2015.5</td><td>-53.1095</td><td>-74.7886</td><td>208.23986307779236</td><td>14.4523</td><td>10.1863</td><td>12.77922</td><td>8.125</td><td>9.495265</td><td>9.957475</td><td>9.695006</td><td>9.1558</td><td>219046988</td><td>2610</td><td>nan</td></tr>\n",
       "</table>"
      ],
      "text/plain": [
       "<Table length=1094>\n",
       "   pk    catalogid         dec         ... carton_to_target_pk priority cadence\n",
       " int64     int64         float64       ...        int64         int64   float64\n",
       "-------- ---------- ------------------ ... ------------------- -------- -------\n",
       "63207702 4286694073  85.07228380673702 ...           219069294     2610     nan\n",
       "63207704 4286695248  85.32449449491213 ...           219069296     2610     nan\n",
       "63207707 4286707086  85.90586183214106 ...           219069299     2610     nan\n",
       "63164732 4291411364 56.301849460124835 ...           219024811     2610     nan\n",
       "63191190 4291437914  56.22190291815888 ...           219052143     2610     nan\n",
       "63187465 4291496085  56.92818314700235 ...           219048294     2610     nan\n",
       "63164686 4291554082  57.37354004964939 ...           219024762     2610     nan\n",
       "63204813 4291579377 56.896964121972445 ...           219066272     2610     nan\n",
       "63164709 4291582182 56.950046345673464 ...           219024786     2610     nan\n",
       "63178429 4291585004  56.72147128064596 ...           219038980     2610     nan\n",
       "     ...        ...                ... ...                 ...      ...     ...\n",
       "57737007 4600275180 3.5100818119697568 ...           219046971     2610     nan\n",
       "63186189 4600275230 3.5554913140729636 ...           219046978     2610     nan\n",
       "63186190 4600275321   3.50953193000734 ...           219046979     2610     nan\n",
       "63186188 4600276015  3.638606608460958 ...           219046977     2610     nan\n",
       "57737003 4600277402  4.099872127630114 ...           219046961     2610     nan\n",
       "63186178 4600278823  4.015499369733419 ...           219046966     2610     nan\n",
       "63186186 4600279498  4.140238500062982 ...           219046975     2610     nan\n",
       "63186187 4600279583  4.080059938159227 ...           219046976     2610     nan\n",
       "63186197 4600282654  3.897730231278101 ...           219046986     2610     nan\n",
       "63186199 4600285838  4.036395748969961 ...           219046988     2610     nan"
      ]
     },
     "execution_count": 9,
     "metadata": {},
     "output_type": "execute_result"
    }
   ],
   "source": [
    "# Get targets that were assigned a fiber in this five_plates platerun.\n",
    "observed = planet_targets.assigned_in(platerun_MWM02)\n",
    "planet_targets.data[observed]"
   ]
  },
  {
   "cell_type": "code",
   "execution_count": 10,
   "metadata": {},
   "outputs": [
    {
     "name": "stdout",
     "output_type": "stream",
     "text": [
      "Please be patient.\n",
      "                  Initial target loading for Platerun can take up to 1 second per field.\n",
      "                  Loading target data from 46 Fields...\n"
     ]
    },
    {
     "data": {
      "text/html": [
       "<i>Table length=53</i>\n",
       "<table id=\"table140499124149168\" class=\"table-striped table-bordered table-condensed\">\n",
       "<thead><tr><th>pk</th><th>catalogid</th><th>dec</th><th>epoch</th><th>pmdec</th><th>pmra</th><th>ra</th><th>parallax</th><th>bp</th><th>g</th><th>h</th><th>i</th><th>z</th><th>r</th><th>rp</th><th>carton_to_target_pk</th><th>priority</th><th>cadence</th></tr></thead>\n",
       "<thead><tr><th>int64</th><th>int64</th><th>float64</th><th>float64</th><th>float64</th><th>float64</th><th>float64</th><th>float64</th><th>float64</th><th>float64</th><th>float64</th><th>float64</th><th>float64</th><th>float64</th><th>float64</th><th>int64</th><th>int64</th><th>float64</th></tr></thead>\n",
       "<tr><td>63107521</td><td>4304703954</td><td>38.93274282737396</td><td>2015.5</td><td>-32.2243</td><td>51.7037</td><td>48.45054124548075</td><td>6.79961</td><td>9.7069</td><td>9.947624</td><td>8.056</td><td>9.214823</td><td>11.035697</td><td>9.348341</td><td>8.89617</td><td>218966077</td><td>2610</td><td>nan</td></tr>\n",
       "<tr><td>63107522</td><td>4304728831</td><td>38.53453806798409</td><td>2015.5</td><td>-20.3183</td><td>84.5581</td><td>48.448145672460896</td><td>13.1163</td><td>10.1705</td><td>10.438906</td><td>8.146</td><td>9.5074415</td><td>10.1581545</td><td>9.712579</td><td>9.18601</td><td>218966078</td><td>2610</td><td>nan</td></tr>\n",
       "<tr><td>63179836</td><td>4314006474</td><td>65.70594769081222</td><td>2015.5</td><td>-53.3872</td><td>88.5628</td><td>27.007509298265948</td><td>17.6661</td><td>13.8757</td><td>nan</td><td>9.609</td><td>nan</td><td>nan</td><td>nan</td><td>11.6423</td><td>219040427</td><td>2610</td><td>nan</td></tr>\n",
       "<tr><td>63209098</td><td>4315565441</td><td>74.4742440049122</td><td>2015.5</td><td>61.8458</td><td>237.665</td><td>12.95721429350821</td><td>6.87871</td><td>9.92168</td><td>nan</td><td>8.363</td><td>nan</td><td>nan</td><td>nan</td><td>9.1996</td><td>219070780</td><td>2610</td><td>nan</td></tr>\n",
       "<tr><td>63209107</td><td>4315662310</td><td>73.16198534152116</td><td>2015.5</td><td>24.576</td><td>26.2007</td><td>13.859794040772135</td><td>7.6475</td><td>9.48671</td><td>nan</td><td>8.112</td><td>nan</td><td>nan</td><td>nan</td><td>8.76373</td><td>219070788</td><td>2610</td><td>nan</td></tr>\n",
       "<tr><td>63209133</td><td>4315836796</td><td>73.91488280149308</td><td>2015.5</td><td>24.0669</td><td>-49.011</td><td>15.768373906226994</td><td>9.10764</td><td>9.8374</td><td>nan</td><td>8.35</td><td>nan</td><td>nan</td><td>nan</td><td>9.11353</td><td>219070814</td><td>2610</td><td>nan</td></tr>\n",
       "<tr><td>63195672</td><td>4316774854</td><td>69.57795170755473</td><td>2015.5</td><td>-60.9685</td><td>32.1386</td><td>31.807894125455856</td><td>13.6523</td><td>13.5596</td><td>14.132261</td><td>9.691</td><td>15.02306</td><td>13.616858</td><td>12.329</td><td>11.6197</td><td>219056778</td><td>2610</td><td>nan</td></tr>\n",
       "<tr><td>63172509</td><td>4317374118</td><td>69.73983784035617</td><td>2015.5</td><td>11.47</td><td>-22.3222</td><td>36.379745917593674</td><td>30.1439</td><td>15.1141</td><td>15.745589</td><td>10.092</td><td>12.853714</td><td>12.073079</td><td>14.260033</td><td>12.3298</td><td>219032876</td><td>2610</td><td>nan</td></tr>\n",
       "<tr><td>63147068</td><td>4317557283</td><td>70.87145554016998</td><td>2015.5</td><td>-19.2657</td><td>-18.1418</td><td>41.18527443800524</td><td>7.75546</td><td>9.30466</td><td>nan</td><td>8.027</td><td>nan</td><td>nan</td><td>nan</td><td>8.68668</td><td>219006573</td><td>2610</td><td>nan</td></tr>\n",
       "<tr><td>63192056</td><td>4317575914</td><td>70.66582881839878</td><td>2015.5</td><td>5.85638</td><td>11.2699</td><td>43.1840052762349</td><td>3.82122</td><td>11.2308</td><td>nan</td><td>9.727</td><td>nan</td><td>nan</td><td>nan</td><td>10.503</td><td>219053032</td><td>2610</td><td>nan</td></tr>\n",
       "<tr><td>...</td><td>...</td><td>...</td><td>...</td><td>...</td><td>...</td><td>...</td><td>...</td><td>...</td><td>...</td><td>...</td><td>...</td><td>...</td><td>...</td><td>...</td><td>...</td><td>...</td><td>...</td></tr>\n",
       "<tr><td>63065294</td><td>4554140868</td><td>38.79495745218146</td><td>2015.5</td><td>-28.0982</td><td>-15.1022</td><td>114.85402634379976</td><td>4.67327</td><td>8.82434</td><td>8.88966</td><td>7.52</td><td>8.491733</td><td>9.076952</td><td>8.559912</td><td>8.16625</td><td>218922696</td><td>2610</td><td>nan</td></tr>\n",
       "<tr><td>63047390</td><td>4554148201</td><td>38.337925932864884</td><td>2015.5</td><td>-32.9337</td><td>-38.276</td><td>115.96302697493104</td><td>6.67823</td><td>10.4619</td><td>10.631881</td><td>9.003</td><td>10.072551</td><td>10.683293</td><td>10.175785</td><td>9.74153</td><td>218904202</td><td>2610</td><td>nan</td></tr>\n",
       "<tr><td>63152117</td><td>4594996072</td><td>11.200366843881563</td><td>2015.5</td><td>-37.5302</td><td>-38.015</td><td>170.0467102881596</td><td>4.1739</td><td>9.77579</td><td>10.214097</td><td>7.884</td><td>9.194571</td><td>9.775469</td><td>24.802662</td><td>8.84708</td><td>219011795</td><td>2610</td><td>nan</td></tr>\n",
       "<tr><td>63186145</td><td>4598878302</td><td>2.776595568030256</td><td>2015.5</td><td>54.032</td><td>-153.953</td><td>206.45657512800784</td><td>20.0678</td><td>11.5613</td><td>12.313433</td><td>8.025</td><td>10.14796</td><td>10.387973</td><td>10.737039</td><td>9.78522</td><td>219046931</td><td>2610</td><td>nan</td></tr>\n",
       "<tr><td>63186162</td><td>4600218865</td><td>2.1417393159790583</td><td>2015.5</td><td>-31.6743</td><td>24.5199</td><td>206.87975090452576</td><td>6.81265</td><td>10.2351</td><td>11.628407</td><td>8.627</td><td>9.762569</td><td>10.023381</td><td>12.682296</td><td>9.43123</td><td>219046948</td><td>2610</td><td>nan</td></tr>\n",
       "<tr><td>63186163</td><td>4600219091</td><td>2.2324563257091734</td><td>2015.5</td><td>-14.4868</td><td>47.5554</td><td>206.88456699486798</td><td>8.04257</td><td>9.83538</td><td>12.468611</td><td>8.145</td><td>9.314004</td><td>9.688034</td><td>12.202089</td><td>8.9844</td><td>219046949</td><td>2610</td><td>nan</td></tr>\n",
       "<tr><td>63186182</td><td>4600225432</td><td>2.6863938988600515</td><td>2015.5</td><td>12.39</td><td>-46.75</td><td>207.630851677188</td><td>nan</td><td>10.1543</td><td>12.673991</td><td>8.818</td><td>9.793241</td><td>9.98463</td><td>9.876193</td><td>9.47573</td><td>219046970</td><td>2610</td><td>nan</td></tr>\n",
       "<tr><td>63186179</td><td>4600273010</td><td>3.4071399012129198</td><td>2015.5</td><td>38.6923</td><td>-15.5472</td><td>207.23821141453394</td><td>5.03979</td><td>10.8416</td><td>11.030708</td><td>9.311</td><td>10.412771</td><td>11.852097</td><td>10.530315</td><td>10.0937</td><td>219046967</td><td>2610</td><td>nan</td></tr>\n",
       "<tr><td>63186196</td><td>4600282612</td><td>3.8751908969696784</td><td>2015.5</td><td>-35.9568</td><td>-3.53342</td><td>208.05270180130879</td><td>5.15069</td><td>10.5361</td><td>10.833097</td><td>9.152</td><td>10.179995</td><td>10.40883</td><td>10.275539</td><td>9.85881</td><td>219046985</td><td>2610</td><td>nan</td></tr>\n",
       "<tr><td>63186200</td><td>4600282748</td><td>3.869486309213405</td><td>2015.5</td><td>-2.28687</td><td>-66.9961</td><td>208.2380517398141</td><td>5.16757</td><td>11.2345</td><td>11.530804</td><td>9.652</td><td>10.753979</td><td>10.906274</td><td>10.883356</td><td>10.4411</td><td>219046989</td><td>2610</td><td>nan</td></tr>\n",
       "</table>"
      ],
      "text/plain": [
       "<Table length=53>\n",
       "   pk    catalogid         dec         ... carton_to_target_pk priority cadence\n",
       " int64     int64         float64       ...        int64         int64   float64\n",
       "-------- ---------- ------------------ ... ------------------- -------- -------\n",
       "63107521 4304703954  38.93274282737396 ...           218966077     2610     nan\n",
       "63107522 4304728831  38.53453806798409 ...           218966078     2610     nan\n",
       "63179836 4314006474  65.70594769081222 ...           219040427     2610     nan\n",
       "63209098 4315565441   74.4742440049122 ...           219070780     2610     nan\n",
       "63209107 4315662310  73.16198534152116 ...           219070788     2610     nan\n",
       "63209133 4315836796  73.91488280149308 ...           219070814     2610     nan\n",
       "63195672 4316774854  69.57795170755473 ...           219056778     2610     nan\n",
       "63172509 4317374118  69.73983784035617 ...           219032876     2610     nan\n",
       "63147068 4317557283  70.87145554016998 ...           219006573     2610     nan\n",
       "63192056 4317575914  70.66582881839878 ...           219053032     2610     nan\n",
       "     ...        ...                ... ...                 ...      ...     ...\n",
       "63065294 4554140868  38.79495745218146 ...           218922696     2610     nan\n",
       "63047390 4554148201 38.337925932864884 ...           218904202     2610     nan\n",
       "63152117 4594996072 11.200366843881563 ...           219011795     2610     nan\n",
       "63186145 4598878302  2.776595568030256 ...           219046931     2610     nan\n",
       "63186162 4600218865 2.1417393159790583 ...           219046948     2610     nan\n",
       "63186163 4600219091 2.2324563257091734 ...           219046949     2610     nan\n",
       "63186182 4600225432 2.6863938988600515 ...           219046970     2610     nan\n",
       "63186179 4600273010 3.4071399012129198 ...           219046967     2610     nan\n",
       "63186196 4600282612 3.8751908969696784 ...           219046985     2610     nan\n",
       "63186200 4600282748  3.869486309213405 ...           219046989     2610     nan"
      ]
     },
     "execution_count": 10,
     "metadata": {},
     "output_type": "execute_result"
    }
   ],
   "source": [
    "# Get targets that were \"available\" but NOT assigned a fiber in this five_plates run.\n",
    "not_observed = planet_targets.not_assigned_in(platerun_MWM02)\n",
    "planet_targets.data[not_observed]"
   ]
  },
  {
   "cell_type": "code",
   "execution_count": 11,
   "metadata": {},
   "outputs": [
    {
     "data": {
      "text/html": [
       "<i>Table length=1102</i>\n",
       "<table id=\"table140499124677840\" class=\"table-striped table-bordered table-condensed\">\n",
       "<thead><tr><th>Program</th><th>First_Carton</th><th>Type</th><th>RA</th><th>Dec</th><th>catalogid</th><th>Priority</th><th>NCartons</th><th>g_mag</th><th>r_mag</th><th>i_mag</th><th>z_mag</th><th>bp_mag</th><th>rp_mag</th><th>h_mag</th><th>apogee_flags0</th><th>boss_flags0</th><th>transformation_flags</th><th>2MASSS_ID</th><th>pmRA</th><th>pmDec</th><th>GaiaG</th><th>instrument</th><th>order_priority</th><th>order_name</th><th>field</th><th>designid</th></tr></thead>\n",
       "<thead><tr><th>str11</th><th>str22</th><th>int64</th><th>float64</th><th>float64</th><th>int64</th><th>int64</th><th>int64</th><th>float64</th><th>float64</th><th>float64</th><th>float64</th><th>float64</th><th>float64</th><th>float64</th><th>str16</th><th>str14</th><th>str12</th><th>str17</th><th>float64</th><th>float64</th><th>float64</th><th>str6</th><th>int64</th><th>str29</th><th>str22</th><th>int64</th></tr></thead>\n",
       "<tr><td>mwm_planet</td><td>mwm_planet_tess</td><td>0</td><td>355.3476804</td><td>85.0722838</td><td>4286694073</td><td>2610</td><td>1</td><td>9.1152</td><td>9.9169</td><td>10.0994</td><td>99.99</td><td>9.4544</td><td>8.5427</td><td>7.508</td><td>13-</td><td>-</td><td>3-6-9-14</td><td>J23412325+8504204</td><td>13.2</td><td>-22.8</td><td>9.0673</td><td>apogee</td><td>8</td><td>apogee_SCI_mwm_planet</td><td>RV_N188</td><td>15195</td></tr>\n",
       "<tr><td>mwm_snc</td><td>mwm_snc_250pc</td><td>0</td><td>356.0606579</td><td>85.3244945</td><td>4286695248</td><td>1810</td><td>2</td><td>9.6912</td><td>10.1028</td><td>10.1269</td><td>99.99</td><td>9.5064</td><td>9.0207</td><td>8.54</td><td>8-13</td><td>43-</td><td>3-6-9-14</td><td>J23441481+8519281</td><td>-16.506</td><td>-0.125</td><td>9.3101</td><td>apogee</td><td>5</td><td>apogee_SCI_mwm_snc_shared</td><td>RV_N188</td><td>15195</td></tr>\n",
       "<tr><td>mwm_planet</td><td>mwm_planet_tess</td><td>0</td><td>358.7812779</td><td>85.9058618</td><td>4286707086</td><td>2610</td><td>1</td><td>9.4546</td><td>99.99</td><td>9.4173</td><td>99.99</td><td>8.8767</td><td>8.7885</td><td>8.709</td><td>13-</td><td>-</td><td>3-7-9-14</td><td>J23550724+8554209</td><td>17.538</td><td>1.393</td><td>8.8347</td><td>apogee</td><td>8</td><td>apogee_SCI_mwm_planet</td><td>RV_N188</td><td>15195</td></tr>\n",
       "<tr><td>mwm_snc</td><td>mwm_snc_100pc</td><td>0</td><td>3.630128</td><td>56.3018495</td><td>4291411364</td><td>1800</td><td>2</td><td>99.99</td><td>14.2008</td><td>15.2874</td><td>99.99</td><td>15.0915</td><td>12.6629</td><td>10.528</td><td>7-13</td><td>37-</td><td>4-6-9-14</td><td>J00143130+5618066</td><td>-38.344</td><td>-1.765</td><td>13.7873</td><td>apogee</td><td>5</td><td>apogee_SCI_mwm_snc_shared</td><td>GG_061</td><td>15205</td></tr>\n",
       "<tr><td>mwm_planet</td><td>mwm_planet_tess</td><td>0</td><td>5.0906431</td><td>56.2219029</td><td>4291437914</td><td>2610</td><td>1</td><td>12.3826</td><td>13.221</td><td>13.4188</td><td>99.99</td><td>12.7403</td><td>11.7895</td><td>10.784</td><td>13-</td><td>-</td><td>3-6-9-14</td><td>J00202176+5613190</td><td>-6.667</td><td>-4.714</td><td>12.3688</td><td>apogee</td><td>6</td><td>apogee_SCI_mwm_planet</td><td>GG_061</td><td>15205</td></tr>\n",
       "<tr><td>mwm_snc</td><td>mwm_snc_100pc</td><td>0</td><td>2.5608208</td><td>56.9281831</td><td>4291496085</td><td>1800</td><td>2</td><td>99.99</td><td>13.807</td><td>14.5849</td><td>99.99</td><td>14.2014</td><td>12.1516</td><td>10.171</td><td>7-13</td><td>37-</td><td>4-6-9-14</td><td>J00101468+5655413</td><td>-54.706</td><td>3.026</td><td>13.1579</td><td>apogee</td><td>5</td><td>apogee_SCI_mwm_snc_shared</td><td>GG_061</td><td>15205</td></tr>\n",
       "<tr><td>mwm_snc</td><td>mwm_snc_100pc</td><td>0</td><td>2.7678308</td><td>57.37354</td><td>4291554082</td><td>1800</td><td>2</td><td>12.449</td><td>14.1683</td><td>14.8649</td><td>99.99</td><td>14.4337</td><td>12.5009</td><td>10.621</td><td>7-13</td><td>37-</td><td>3-6-9-14</td><td>J00110388+5722256</td><td>192.833</td><td>-52.087</td><td>13.4664</td><td>apogee</td><td>5</td><td>apogee_SCI_mwm_snc_shared</td><td>GG_061</td><td>15205</td></tr>\n",
       "<tr><td>mwm_planet</td><td>mwm_planet_tess</td><td>0</td><td>2.8705922</td><td>56.8969641</td><td>4291579377</td><td>2610</td><td>1</td><td>11.8841</td><td>12.6885</td><td>12.8722</td><td>99.99</td><td>12.2135</td><td>11.2988</td><td>10.385</td><td>13-</td><td>-</td><td>3-6-9-14</td><td>J00112891+5653492</td><td>10.186</td><td>-12.425</td><td>11.8388</td><td>apogee</td><td>6</td><td>apogee_SCI_mwm_planet</td><td>GG_061</td><td>15205</td></tr>\n",
       "<tr><td>mwm_snc</td><td>mwm_snc_100pc</td><td>0</td><td>3.3190159</td><td>56.9500463</td><td>4291582182</td><td>1800</td><td>2</td><td>99.99</td><td>14.803</td><td>15.949</td><td>99.99</td><td>15.7864</td><td>13.2944</td><td>11.114</td><td>7-13</td><td>37-</td><td>4-6-9-14</td><td>J00131652+5657000</td><td>25.781</td><td>3.048</td><td>14.4395</td><td>boss</td><td>3</td><td>boss_SCI_mwm_snc_shared</td><td>GG_061</td><td>15205</td></tr>\n",
       "<tr><td>mwm_snc</td><td>mwm_snc_100pc</td><td>0</td><td>4.0881835</td><td>56.7214713</td><td>4291585004</td><td>1800</td><td>2</td><td>99.99</td><td>14.9164</td><td>16.0042</td><td>99.99</td><td>15.8063</td><td>13.3765</td><td>11.268</td><td>7-13</td><td>37-</td><td>4-6-9-14</td><td>J00162115+5643191</td><td>6.046</td><td>-113.916</td><td>14.5039</td><td>boss</td><td>3</td><td>boss_SCI_mwm_snc_shared</td><td>GG_061</td><td>15205</td></tr>\n",
       "<tr><td>...</td><td>...</td><td>...</td><td>...</td><td>...</td><td>...</td><td>...</td><td>...</td><td>...</td><td>...</td><td>...</td><td>...</td><td>...</td><td>...</td><td>...</td><td>...</td><td>...</td><td>...</td><td>...</td><td>...</td><td>...</td><td>...</td><td>...</td><td>...</td><td>...</td><td>...</td><td>...</td></tr>\n",
       "<tr><td>mwm_snc</td><td>mwm_snc_100pc</td><td>0</td><td>207.6457261</td><td>3.5100818</td><td>4600275180</td><td>1800</td><td>3</td><td>17.0161</td><td>15.5786</td><td>17.7637</td><td>13.0359</td><td>15.6355</td><td>12.5729</td><td>10.095</td><td>7-13-21</td><td>37-</td><td>-</td><td>J13503579+0330379</td><td>-801.499</td><td>-114.421</td><td>13.8584</td><td>apogee</td><td>5</td><td>apogee_SCI_mwm_snc_shared</td><td>RV_335+61_btx</td><td>15202</td></tr>\n",
       "<tr><td>mwm_snc</td><td>mwm_snc_250pc</td><td>0</td><td>207.7248699</td><td>3.5554913</td><td>4600275230</td><td>1810</td><td>2</td><td>10.0957</td><td>9.6188</td><td>9.6447</td><td>10.6794</td><td>8.9611</td><td>8.5066</td><td>8.067</td><td>8-13</td><td>43-</td><td>-</td><td>J13505399+0333200</td><td>-19.496</td><td>-8.054</td><td>8.7765</td><td>apogee</td><td>5</td><td>apogee_SCI_mwm_snc_shared</td><td>RV_335+61_btx</td><td>15202</td></tr>\n",
       "<tr><td>mwm_snc</td><td>mwm_snc_100pc</td><td>0</td><td>207.8114795</td><td>3.5095319</td><td>4600275321</td><td>1800</td><td>3</td><td>14.8387</td><td>13.4082</td><td>12.5977</td><td>12.2021</td><td>13.4593</td><td>11.3899</td><td>9.494</td><td>7-13-25</td><td>37-</td><td>-</td><td>J13511484+0330329</td><td>-94.134</td><td>93.857</td><td>12.3968</td><td>apogee</td><td>5</td><td>apogee_SCI_mwm_snc_shared</td><td>RV_335+61_btx</td><td>15202</td></tr>\n",
       "<tr><td>mwm_snc</td><td>mwm_snc_250pc</td><td>0</td><td>207.7664639</td><td>3.6386066</td><td>4600276015</td><td>1810</td><td>5</td><td>10.4287</td><td>11.1088</td><td>11.2417</td><td>99.99</td><td>10.5941</td><td>9.8122</td><td>8.988</td><td>8-9-13-25</td><td>2-43</td><td>3-6-9-14</td><td>J13510407+0338212</td><td>-127.438</td><td>-144.404</td><td>10.2714</td><td>apogee</td><td>5</td><td>apogee_SCI_mwm_snc_shared</td><td>RV_335+61_btx</td><td>15202</td></tr>\n",
       "<tr><td>mwm_snc</td><td>mwm_snc_100pc</td><td>0</td><td>207.2025219</td><td>4.0998721</td><td>4600277402</td><td>1800</td><td>3</td><td>99.99</td><td>99.99</td><td>14.412</td><td>99.99</td><td>14.6459</td><td>11.5863</td><td>9.162</td><td>7-13-21</td><td>37-</td><td>4-7-9-14</td><td>J13484861+0406022</td><td>-1.201</td><td>-179.816</td><td>12.8547</td><td>apogee</td><td>5</td><td>apogee_SCI_mwm_snc_shared</td><td>RV_335+61_btx</td><td>15202</td></tr>\n",
       "<tr><td>mwm_rv</td><td>mwm_rv_short-bplates</td><td>0</td><td>207.3167377</td><td>4.0154994</td><td>4600278823</td><td>2510</td><td>4</td><td>11.7275</td><td>10.884</td><td>10.6184</td><td>10.6358</td><td>10.6459</td><td>9.4013</td><td>7.962</td><td>10-13-23-26</td><td>-</td><td>-</td><td>J13491599+0400560</td><td>17.397</td><td>-5.753</td><td>10.0804</td><td>apogee</td><td>7</td><td>apogee_SCI_mwm_rv_short</td><td>RV_335+61_btx</td><td>15202</td></tr>\n",
       "<tr><td>mwm_snc</td><td>mwm_snc_250pc</td><td>0</td><td>207.778478</td><td>4.1402385</td><td>4600279498</td><td>1810</td><td>2</td><td>12.8515</td><td>12.1667</td><td>11.9922</td><td>12.609</td><td>11.7706</td><td>10.8362</td><td>9.823</td><td>8-13</td><td>43-</td><td>-</td><td>J13510686+0408247</td><td>-35.862</td><td>7.52</td><td>11.373</td><td>apogee</td><td>5</td><td>apogee_SCI_mwm_snc_shared</td><td>RV_335+61_btx</td><td>15202</td></tr>\n",
       "<tr><td>mwm_planet</td><td>mwm_planet_tess</td><td>0</td><td>207.8149697</td><td>4.0800599</td><td>4600279583</td><td>2610</td><td>1</td><td>12.5377</td><td>11.8099</td><td>11.6258</td><td>12.4152</td><td>11.4958</td><td>10.4365</td><td>9.286</td><td>13-</td><td>-</td><td>-</td><td>J13511560+0404485</td><td>-15.1</td><td>-21.6</td><td>11.0427</td><td>apogee</td><td>8</td><td>apogee_SCI_mwm_planet</td><td>RV_335+61_btx</td><td>15202</td></tr>\n",
       "<tr><td>mwm_snc</td><td>mwm_snc_250pc</td><td>0</td><td>208.0954463</td><td>3.8977302</td><td>4600282654</td><td>1810</td><td>2</td><td>10.3216</td><td>9.8156</td><td>9.6744</td><td>9.8677</td><td>8.9859</td><td>8.3491</td><td>7.728</td><td>8-13</td><td>43-</td><td>-</td><td>J13522292+0353518</td><td>-29.622</td><td>4.077</td><td>8.7246</td><td>apogee</td><td>5</td><td>apogee_SCI_mwm_snc_shared</td><td>RV_335+61_btx</td><td>15202</td></tr>\n",
       "<tr><td>mwm_snc</td><td>mwm_snc_100pc</td><td>0</td><td>208.2398631</td><td>4.0363957</td><td>4600285838</td><td>1800</td><td>4</td><td>13.577</td><td>10.5088</td><td>10.3183</td><td>10.781</td><td>10.1863</td><td>9.1558</td><td>8.125</td><td>7-8-13-25</td><td>37-43</td><td>-</td><td>J13525764+0402117</td><td>-74.789</td><td>-53.109</td><td>9.734</td><td>apogee</td><td>5</td><td>apogee_SCI_mwm_snc_shared</td><td>RV_335+61_btx</td><td>15202</td></tr>\n",
       "</table>"
      ],
      "text/plain": [
       "<Table length=1102>\n",
       " Program       First_Carton      Type ...     field     designid\n",
       "  str11           str22         int64 ...     str22      int64  \n",
       "---------- -------------------- ----- ... ------------- --------\n",
       "mwm_planet      mwm_planet_tess     0 ...       RV_N188    15195\n",
       "   mwm_snc        mwm_snc_250pc     0 ...       RV_N188    15195\n",
       "mwm_planet      mwm_planet_tess     0 ...       RV_N188    15195\n",
       "   mwm_snc        mwm_snc_100pc     0 ...        GG_061    15205\n",
       "mwm_planet      mwm_planet_tess     0 ...        GG_061    15205\n",
       "   mwm_snc        mwm_snc_100pc     0 ...        GG_061    15205\n",
       "   mwm_snc        mwm_snc_100pc     0 ...        GG_061    15205\n",
       "mwm_planet      mwm_planet_tess     0 ...        GG_061    15205\n",
       "   mwm_snc        mwm_snc_100pc     0 ...        GG_061    15205\n",
       "   mwm_snc        mwm_snc_100pc     0 ...        GG_061    15205\n",
       "       ...                  ...   ... ...           ...      ...\n",
       "   mwm_snc        mwm_snc_100pc     0 ... RV_335+61_btx    15202\n",
       "   mwm_snc        mwm_snc_250pc     0 ... RV_335+61_btx    15202\n",
       "   mwm_snc        mwm_snc_100pc     0 ... RV_335+61_btx    15202\n",
       "   mwm_snc        mwm_snc_250pc     0 ... RV_335+61_btx    15202\n",
       "   mwm_snc        mwm_snc_100pc     0 ... RV_335+61_btx    15202\n",
       "    mwm_rv mwm_rv_short-bplates     0 ... RV_335+61_btx    15202\n",
       "   mwm_snc        mwm_snc_250pc     0 ... RV_335+61_btx    15202\n",
       "mwm_planet      mwm_planet_tess     0 ... RV_335+61_btx    15202\n",
       "   mwm_snc        mwm_snc_250pc     0 ... RV_335+61_btx    15202\n",
       "   mwm_snc        mwm_snc_100pc     0 ... RV_335+61_btx    15202"
      ]
     },
     "execution_count": 11,
     "metadata": {},
     "output_type": "execute_result"
    }
   ],
   "source": [
    "# Get fiber information for the assigned targets (includes instrument and firstcarton)\n",
    "planet_targets.assigned_info(platerun_MWM02)"
   ]
  },
  {
   "cell_type": "markdown",
   "metadata": {},
   "source": [
    "Thanks for reading this through!"
   ]
  }
 ],
 "metadata": {
  "kernelspec": {
   "display_name": "Python 3",
   "language": "python",
   "name": "python3"
  },
  "language_info": {
   "codemirror_mode": {
    "name": "ipython",
    "version": 3
   },
   "file_extension": ".py",
   "mimetype": "text/x-python",
   "name": "python",
   "nbconvert_exporter": "python",
   "pygments_lexer": "ipython3",
   "version": "3.8.6"
  }
 },
 "nbformat": 4,
 "nbformat_minor": 4
}
