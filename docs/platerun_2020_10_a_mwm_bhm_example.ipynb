{
 "cells": [
  {
   "cell_type": "code",
   "execution_count": 3,
   "metadata": {},
   "outputs": [],
   "source": [
    "# this cell is just for display purposes, NOT necessary for your code\n",
    "%config IPCompleter.use_jedi = False\n",
    "# rediculous bug in Jedi it seems"
   ]
  },
  {
   "cell_type": "markdown",
   "metadata": {},
   "source": [
    "# READ FIRST - `ppv_setup.ini`\n",
    "Before proceeding, let's make sure that the ppv_setup.ini is properly configured:\n",
    "\n",
    "Contents of '~/.config/ppv_setup.ini'\n",
    "\n",
    "> [paths]  \n",
    "> plate_dir = /home/user/obsdata/plates/test5  \n",
    ">\n",
    "> \\# If you want your plate files in, e.g., /home/user/data/plates/0150XX  \n",
    "> \\# and /home/user/data/plates/0160XX, then edit the plate_dir line to read  \n",
    "> \\# plate_dir = /home/user/data/plates  \n",
    ">\n",
    "> [username]  \n",
    "> sdss_org = username_at_utah  \n",
    "> \\# NO quotes  \n",
    "> \\# If you do NOT have an account at Utah, please get one at  \n",
    "> \\# https://wiki.sdss.org/display/DATA/Utah+Accounts  \n",
    "\n",
    "\n",
    "You NEED to edit this file before using any further `ppv` functionality. Importing `ppv` will automatically look for this file in the `~/.config` directory.\n"
   ]
  },
  {
   "cell_type": "markdown",
   "metadata": {},
   "source": [
    "## A first quick spin with `ppv` using the 2020.10.a.mwm-bhm plate run\n",
    "\n",
    "Note that `ppv` will automagically download the files it needs using rsync as long as `ppv_setup.ini` is correctly configured. \n",
    "\n",
    "**NOTE** If needed, you will be prompted for your utah password. For now, the call is through the `apogee.sdss.org` server at Utah.\n"
   ]
  },
  {
   "cell_type": "code",
   "execution_count": 4,
   "metadata": {},
   "outputs": [
    {
     "name": "stdout",
     "output_type": "stream",
     "text": [
      "SDSS-V platePlans table written to /home/jquark/obsdata/plates/test10/platePlans_sdss5.fits\n"
     ]
    },
    {
     "name": "stderr",
     "output_type": "stream",
     "text": [
      "WARNING: VerifyWarning: Keyword name '@insert_new_runs_here' is greater than 8 characters or contains characters not allowed by the FITS standard; a HIERARCH card will be created. [astropy.io.fits.card]\n"
     ]
    }
   ],
   "source": [
    "import ppv  # the FIRST time you import ppv, the platePlans.par file is downloaded\n",
    "# you will be asked for your password if you don't have a platePlanes.par file downloaded\n",
    "# you can ignore the WARNING "
   ]
  },
  {
   "cell_type": "markdown",
   "metadata": {},
   "source": [
    "#### Download plate files (plugHoles)\n",
    "If you don't know what a `plugholes` file is, don't worry! That's what `ppv` is for!\n",
    "\n",
    "##### `ppv` will handle all downloading automatically\n",
    "It's a good idea to tell ppv to update ALL plate-related files at the beginning of your analysis (see next cell)."
   ]
  },
  {
   "cell_type": "code",
   "execution_count": 5,
   "metadata": {},
   "outputs": [
    {
     "name": "stdout",
     "output_type": "stream",
     "text": [
      "Running rsync commands to get latest platePlans.par and plugHoles files at Utah.\n",
      "\n",
      "\n",
      "\n",
      "Enter password for u6009166: \n"
     ]
    },
    {
     "name": "stdin",
     "output_type": "stream",
     "text": [
      " ··········\n"
     ]
    },
    {
     "name": "stdout",
     "output_type": "stream",
     "text": [
      "Running command:\n",
      "rsync -avz u6009166@apogee.sdss.org:///uufs/chpc.utah.edu/common/home/sdss05/software/svn.sdss.org/data/sdss/platelist/trunk/platePlans.par /home/jquark/obsdata/plates/test10/\n",
      "Starting rsync process....\n",
      "rsync command ran successfully.\n",
      "SDSS-V platePlans table written to /home/jquark/obsdata/plates/test10/platePlans_sdss5.fits\n",
      "Running command:\n",
      "rsync -avz --include='plateHoles-*.par' --include='*/' --exclude='*' u6009166@apogee.sdss.org:///uufs/chpc.utah.edu/common/home/sdss05/software/svn.sdss.org/data/sdss/platelist/trunk/plates/0151XX/ /home/jquark/obsdata/plates/test10/0151XX/\n",
      "Starting rsync process....\n",
      "rsync command ran successfully.\n",
      "rsync -avz --include='plateHoles-*.par' --include='*/' --exclude='*' u6009166@apogee.sdss.org:///uufs/chpc.utah.edu/common/home/sdss05/software/svn.sdss.org/data/sdss/platelist/trunk/plates/0901XX/ /home/jquark/obsdata/plates/test10/0901XX/\n",
      "Starting rsync process....\n",
      "rsync command ran successfully.\n",
      "rsync -avz --include='plateHoles-*.par' --include='*/' --exclude='*' u6009166@apogee.sdss.org:///uufs/chpc.utah.edu/common/home/sdss05/software/svn.sdss.org/data/sdss/platelist/trunk/plates/0150XX/ /home/jquark/obsdata/plates/test10/0150XX/\n",
      "Starting rsync process....\n",
      "rsync command ran successfully.\n",
      "Update complete!\n",
      "\n",
      "Latest versions now available for platePlans.par and plugHoles files for batches:\n",
      "\n",
      "('0151XX', '0901XX', '0150XX') plate batches\n"
     ]
    },
    {
     "data": {
      "text/html": [
       "<i>Table masked=True length=177494</i>\n",
       "<table id=\"table140088952164944\" class=\"table-striped table-bordered table-condensed\">\n",
       "<thead><tr><th>pk</th><th>catalogid</th><th>dec</th><th>epoch</th><th>pmdec</th><th>pmra</th><th>ra</th><th>parallax</th><th>bp</th><th>g</th><th>h</th><th>i</th><th>z</th><th>r</th><th>rp</th><th>carton_to_target_pk</th><th>priority</th><th>cadence</th></tr></thead>\n",
       "<thead><tr><th>int64</th><th>int64</th><th>float64</th><th>float64</th><th>float64</th><th>float64</th><th>float64</th><th>float64</th><th>float64</th><th>float64</th><th>float64</th><th>float64</th><th>float64</th><th>float64</th><th>float64</th><th>int64</th><th>int64</th><th>float64</th></tr></thead>\n",
       "<tr><td>63175099</td><td>5899605923</td><td>-78.21534924835343</td><td>2015.5</td><td>14.1147</td><td>-38.6776</td><td>60.547077373326104</td><td>6.93683</td><td>12.128</td><td>nan</td><td>9.862</td><td>nan</td><td>nan</td><td>nan</td><td>11.0435</td><td>219035535</td><td>2610</td><td>nan</td></tr>\n",
       "<tr><td>63157233</td><td>4402418495</td><td>21.66332767920415</td><td>2015.5</td><td>-109.633</td><td>7.17993</td><td>31.263017487803467</td><td>20.7948</td><td>14.3031</td><td>14.787473</td><td>9.92</td><td>12.3524275</td><td>11.75437</td><td>13.461728</td><td>11.9392</td><td>219017066</td><td>2610</td><td>nan</td></tr>\n",
       "<tr><td>63122016</td><td>5506182135</td><td>-43.21783272575037</td><td>2015.5</td><td>-14.7191</td><td>0.682634</td><td>247.91725296709603</td><td>7.70603</td><td>7.83748</td><td>nan</td><td>7.174</td><td>nan</td><td>nan</td><td>nan</td><td>7.49896</td><td>218980933</td><td>2610</td><td>nan</td></tr>\n",
       "<tr><td>63091382</td><td>4463116855</td><td>-14.513036319380562</td><td>2015.5</td><td>-6.37019</td><td>4.92747</td><td>104.34758191416756</td><td>1.12194</td><td>10.5276</td><td>nan</td><td>7.105</td><td>nan</td><td>nan</td><td>nan</td><td>8.92582</td><td>218949562</td><td>2610</td><td>nan</td></tr>\n",
       "<tr><td>63118257</td><td>5586440847</td><td>-51.41270429850474</td><td>2015.5</td><td>-21.3015</td><td>-13.3081</td><td>260.93348213188403</td><td>5.28588</td><td>10.5844</td><td>nan</td><td>8.957</td><td>nan</td><td>nan</td><td>nan</td><td>9.74636</td><td>218977088</td><td>2610</td><td>nan</td></tr>\n",
       "<tr><td>63091580</td><td>4462892628</td><td>-15.239871845454239</td><td>2015.5</td><td>-2.09111</td><td>8.7913</td><td>104.97090680013638</td><td>4.43258</td><td>8.76869</td><td>nan</td><td>7.386</td><td>nan</td><td>nan</td><td>nan</td><td>8.08015</td><td>218949768</td><td>2610</td><td>nan</td></tr>\n",
       "<tr><td>63108942</td><td>4565510987</td><td>-37.15011033546536</td><td>2015.5</td><td>-3.45415</td><td>1.93608</td><td>174.00421431798677</td><td>5.31434</td><td>10.0641</td><td>nan</td><td>8.811</td><td>nan</td><td>nan</td><td>nan</td><td>9.40888</td><td>218967532</td><td>2610</td><td>nan</td></tr>\n",
       "<tr><td>63168604</td><td>5860755077</td><td>-58.60396191630203</td><td>2015.5</td><td>-7.24925</td><td>-14.9866</td><td>118.09324406932826</td><td>4.37178</td><td>11.0412</td><td>nan</td><td>9.415</td><td>nan</td><td>nan</td><td>nan</td><td>10.2561</td><td>219028843</td><td>2610</td><td>nan</td></tr>\n",
       "<tr><td>63085280</td><td>4359635452</td><td>59.147854858338874</td><td>2015.5</td><td>13.1075</td><td>-37.0682</td><td>177.6627793916816</td><td>5.70058</td><td>10.8702</td><td>11.195846</td><td>9.323</td><td>10.41726</td><td>10.57139</td><td>10.534372</td><td>10.0994</td><td>218943304</td><td>2610</td><td>nan</td></tr>\n",
       "<tr><td>63072890</td><td>5932481921</td><td>-40.69317747383978</td><td>2015.5</td><td>161.619</td><td>135.69</td><td>38.515603314594095</td><td>8.31503</td><td>10.9198</td><td>nan</td><td>9.052</td><td>nan</td><td>nan</td><td>nan</td><td>9.99513</td><td>218930520</td><td>2610</td><td>nan</td></tr>\n",
       "<tr><td>...</td><td>...</td><td>...</td><td>...</td><td>...</td><td>...</td><td>...</td><td>...</td><td>...</td><td>...</td><td>...</td><td>...</td><td>...</td><td>...</td><td>...</td><td>...</td><td>...</td><td>...</td></tr>\n",
       "<tr><td>63195358</td><td>5892268075</td><td>-69.3746317038302</td><td>2015.5</td><td>-8.68023</td><td>12.6084</td><td>325.1945329688176</td><td>2.45252</td><td>8.91657</td><td>nan</td><td>8.165</td><td>nan</td><td>nan</td><td>nan</td><td>8.5458</td><td>218895690</td><td>2605</td><td>nan</td></tr>\n",
       "<tr><td>63195708</td><td>4325907710</td><td>75.26837886678732</td><td>2015.5</td><td>14.6169</td><td>48.2899</td><td>48.37042213660732</td><td>6.28072</td><td>10.894</td><td>nan</td><td>9.211</td><td>nan</td><td>nan</td><td>nan</td><td>10.0878</td><td>218895691</td><td>2605</td><td>nan</td></tr>\n",
       "<tr><td>63196558</td><td>4401870552</td><td>1.6909303337706163</td><td>2015.5</td><td>-2.53159</td><td>397.201</td><td>38.310420410038226</td><td>14.8151</td><td>11.3412</td><td>11.719384</td><td>8.583</td><td>10.339441</td><td>10.409499</td><td>10.681344</td><td>9.96035</td><td>218895692</td><td>2605</td><td>nan</td></tr>\n",
       "<tr><td>63201378</td><td>4980406213</td><td>-34.64665890367149</td><td>2015.5</td><td>-54.5975</td><td>49.3912</td><td>311.362403174722</td><td>6.96663</td><td>9.70466</td><td>nan</td><td>8.343</td><td>nan</td><td>nan</td><td>nan</td><td>9.01957</td><td>218895693</td><td>2605</td><td>nan</td></tr>\n",
       "<tr><td>63202085</td><td>4347765514</td><td>75.88227961455708</td><td>2015.5</td><td>-1.97069</td><td>-18.9349</td><td>261.3748942989903</td><td>7.87874</td><td>12.0087</td><td>nan</td><td>9.607</td><td>nan</td><td>nan</td><td>nan</td><td>10.8327</td><td>218895694</td><td>2605</td><td>nan</td></tr>\n",
       "<tr><td>63202827</td><td>5788702768</td><td>-54.16466351954117</td><td>2015.5</td><td>-0.993491</td><td>-1.7485</td><td>147.34308680452958</td><td>1.56275</td><td>13.2063</td><td>nan</td><td>11.67</td><td>nan</td><td>nan</td><td>nan</td><td>12.4887</td><td>218895695</td><td>2605</td><td>nan</td></tr>\n",
       "<tr><td>63205967</td><td>4398186384</td><td>36.90045563218647</td><td>2015.5</td><td>-77.6596</td><td>112.827</td><td>357.3518362038034</td><td>8.20039</td><td>10.3131</td><td>nan</td><td>8.582</td><td>nan</td><td>nan</td><td>nan</td><td>9.46751</td><td>218895696</td><td>2605</td><td>nan</td></tr>\n",
       "<tr><td>63207442</td><td>5775712787</td><td>-60.575141596843004</td><td>2015.5</td><td>9.12249</td><td>-21.9815</td><td>156.25003178482694</td><td>1.88791</td><td>10.8143</td><td>nan</td><td>10.009</td><td>nan</td><td>nan</td><td>nan</td><td>10.416</td><td>218895697</td><td>2605</td><td>nan</td></tr>\n",
       "<tr><td>63207876</td><td>5787091284</td><td>-59.85171061941523</td><td>2015.5</td><td>3.93221</td><td>-7.36891</td><td>150.3682717854151</td><td>0.969967</td><td>12.6195</td><td>nan</td><td>11.976</td><td>nan</td><td>nan</td><td>nan</td><td>12.2843</td><td>218895698</td><td>2605</td><td>nan</td></tr>\n",
       "<tr><td>63208787</td><td>5816408206</td><td>-64.34707699579073</td><td>2015.5</td><td>9.76431</td><td>-22.1958</td><td>168.74741246252884</td><td>7.25154</td><td>17.0391</td><td>nan</td><td>11.651</td><td>nan</td><td>nan</td><td>nan</td><td>14.0713</td><td>218895699</td><td>2605</td><td>nan</td></tr>\n",
       "</table>"
      ],
      "text/plain": [
       "<Table masked=True length=177494>\n",
       "   pk    catalogid          dec         ... carton_to_target_pk priority cadence\n",
       " int64     int64          float64       ...        int64         int64   float64\n",
       "-------- ---------- ------------------- ... ------------------- -------- -------\n",
       "63175099 5899605923  -78.21534924835343 ...           219035535     2610     nan\n",
       "63157233 4402418495   21.66332767920415 ...           219017066     2610     nan\n",
       "63122016 5506182135  -43.21783272575037 ...           218980933     2610     nan\n",
       "63091382 4463116855 -14.513036319380562 ...           218949562     2610     nan\n",
       "63118257 5586440847  -51.41270429850474 ...           218977088     2610     nan\n",
       "63091580 4462892628 -15.239871845454239 ...           218949768     2610     nan\n",
       "63108942 4565510987  -37.15011033546536 ...           218967532     2610     nan\n",
       "63168604 5860755077  -58.60396191630203 ...           219028843     2610     nan\n",
       "63085280 4359635452  59.147854858338874 ...           218943304     2610     nan\n",
       "63072890 5932481921  -40.69317747383978 ...           218930520     2610     nan\n",
       "     ...        ...                 ... ...                 ...      ...     ...\n",
       "63195358 5892268075   -69.3746317038302 ...           218895690     2605     nan\n",
       "63195708 4325907710   75.26837886678732 ...           218895691     2605     nan\n",
       "63196558 4401870552  1.6909303337706163 ...           218895692     2605     nan\n",
       "63201378 4980406213  -34.64665890367149 ...           218895693     2605     nan\n",
       "63202085 4347765514   75.88227961455708 ...           218895694     2605     nan\n",
       "63202827 5788702768  -54.16466351954117 ...           218895695     2605     nan\n",
       "63205967 4398186384   36.90045563218647 ...           218895696     2605     nan\n",
       "63207442 5775712787 -60.575141596843004 ...           218895697     2605     nan\n",
       "63207876 5787091284  -59.85171061941523 ...           218895698     2605     nan\n",
       "63208787 5816408206  -64.34707699579073 ...           218895699     2605     nan"
      ]
     },
     "execution_count": 5,
     "metadata": {},
     "output_type": "execute_result"
    }
   ],
   "source": [
    "# good practice to get the latest plateplan and plug files from Utah\n",
    "# Do this at the beginning of every session with ppv\n",
    "# NO worries if you forget, you will just need to wait for files to download later\n",
    "ppv.ppv.update_platefiles()\n",
    "\n",
    "from astropy.table import Table\n",
    "# table of targets from v0.1 of targetDB  (read 'Targets' to see how to get this file; just demoing here)\n",
    "planet_targetDB = Table.read('/home/jquark/projects/sdss5/ppv/data/raw/mwm_planet_0.1.0_targetdb.fits.gz')\n",
    "planet_targetDB"
   ]
  },
  {
   "cell_type": "code",
   "execution_count": 6,
   "metadata": {},
   "outputs": [
    {
     "name": "stdout",
     "output_type": "stream",
     "text": [
      "Assuming RA, Dec are in degrees and 2015.5 epoch\n",
      "177494 targets with IDs: <MaskedColumn name='catalogid' dtype='int64' length=177494>\n",
      "4204692671\n",
      "4204692773\n",
      "4204705857\n",
      "4204751665\n",
      "4204795388\n",
      "4204838200\n",
      "4204854273\n",
      "4204858177\n",
      "4204901910\n",
      "4204917314\n",
      "4204926522\n",
      "4204933546\n",
      "       ...\n",
      "5932663258\n",
      "5932664728\n",
      "5932664785\n",
      "5932665261\n",
      "5932665613\n",
      "5932665963\n",
      "5932666418\n",
      "5932667443\n",
      "5932667724\n",
      "5932667918\n",
      "5932668409\n",
      "5932668452\n"
     ]
    }
   ],
   "source": [
    "# Create targets object (see Targets section below for more information)\n",
    "from ppv.targets import Targets\n",
    "\n",
    "planet_targets = Targets(planet_targetDB)\n",
    "# Check in the 'targets' section below for more info on how to make a targets object\n",
    "# If you are using the targetDB files, it's as easy as above!\n",
    "print(planet_targets)\n"
   ]
  },
  {
   "cell_type": "code",
   "execution_count": 7,
   "metadata": {},
   "outputs": [],
   "source": [
    "# Define a plate run using the correct string identifier\n",
    "from ppv.groups import Platerun\n",
    "\n",
    "plate_run_2020 = Platerun('2020.10.a.mwm-bhm')\n"
   ]
  },
  {
   "cell_type": "code",
   "execution_count": 8,
   "metadata": {},
   "outputs": [
    {
     "name": "stdout",
     "output_type": "stream",
     "text": [
      "Please be patient.\n",
      "                  Initial target loading for Platerun can take up to 1 second per field.\n",
      "                  Loading target data from 49 Fields...\n"
     ]
    },
    {
     "data": {
      "text/html": [
       "<i>Table length=1444</i>\n",
       "<table id=\"table140087417252400\" class=\"table-striped table-bordered table-condensed\">\n",
       "<thead><tr><th>pk</th><th>catalogid</th><th>dec</th><th>epoch</th><th>pmdec</th><th>pmra</th><th>ra</th><th>parallax</th><th>bp</th><th>g</th><th>h</th><th>i</th><th>z</th><th>r</th><th>rp</th><th>carton_to_target_pk</th><th>priority</th><th>cadence</th></tr></thead>\n",
       "<thead><tr><th>int64</th><th>int64</th><th>float64</th><th>float64</th><th>float64</th><th>float64</th><th>float64</th><th>float64</th><th>float64</th><th>float64</th><th>float64</th><th>float64</th><th>float64</th><th>float64</th><th>float64</th><th>int64</th><th>int64</th><th>float64</th></tr></thead>\n",
       "<tr><td>63148080</td><td>4209394331</td><td>41.875746062153674</td><td>2015.5</td><td>8.91809</td><td>24.6853</td><td>314.4805725811644</td><td>4.80682</td><td>9.18298</td><td>nan</td><td>8.628</td><td>nan</td><td>nan</td><td>nan</td><td>8.89418</td><td>219007626</td><td>2610</td><td>nan</td></tr>\n",
       "<tr><td>63209139</td><td>4209516097</td><td>41.93183897872246</td><td>2015.5</td><td>-33.1254</td><td>-23.2259</td><td>313.9783606797227</td><td>12.2869</td><td>13.9658</td><td>nan</td><td>9.685</td><td>nan</td><td>nan</td><td>nan</td><td>11.7374</td><td>219070820</td><td>2610</td><td>nan</td></tr>\n",
       "<tr><td>63209138</td><td>4209528079</td><td>42.10598853485691</td><td>2015.5</td><td>58.8432</td><td>103.534</td><td>314.0313265352599</td><td>21.0587</td><td>17.2365</td><td>nan</td><td>11.622</td><td>nan</td><td>nan</td><td>nan</td><td>14.0896</td><td>219070819</td><td>2610</td><td>nan</td></tr>\n",
       "<tr><td>63146115</td><td>4209542338</td><td>42.22882846136714</td><td>2015.5</td><td>-104.483</td><td>87.8372</td><td>313.92109159571095</td><td>15.9047</td><td>14.6424</td><td>nan</td><td>10.104</td><td>nan</td><td>nan</td><td>nan</td><td>12.2474</td><td>219005598</td><td>2610</td><td>nan</td></tr>\n",
       "<tr><td>63146116</td><td>4209542867</td><td>42.2449689473793</td><td>2015.5</td><td>-97.1919</td><td>55.1109</td><td>313.80229672601894</td><td>14.1433</td><td>17.0235</td><td>nan</td><td>11.858</td><td>nan</td><td>nan</td><td>nan</td><td>14.1743</td><td>219005599</td><td>2610</td><td>nan</td></tr>\n",
       "<tr><td>63165457</td><td>4209567092</td><td>42.41503046023968</td><td>2015.5</td><td>25.8668</td><td>168.897</td><td>314.9436114999867</td><td>13.5015</td><td>15.0558</td><td>nan</td><td>10.626</td><td>nan</td><td>nan</td><td>nan</td><td>12.7108</td><td>219025569</td><td>2610</td><td>nan</td></tr>\n",
       "<tr><td>63165413</td><td>4209568930</td><td>42.54801605550778</td><td>2015.5</td><td>18.7414</td><td>148.755</td><td>314.7237190403423</td><td>6.92739</td><td>15.0098</td><td>nan</td><td>11.274</td><td>nan</td><td>nan</td><td>nan</td><td>13.1347</td><td>219025521</td><td>2610</td><td>nan</td></tr>\n",
       "<tr><td>63156576</td><td>4209575144</td><td>42.56791745072631</td><td>2015.5</td><td>89.4515</td><td>134.2</td><td>315.6687986797694</td><td>21.554</td><td>15.0932</td><td>nan</td><td>10.527</td><td>nan</td><td>nan</td><td>nan</td><td>12.6246</td><td>219016388</td><td>2610</td><td>nan</td></tr>\n",
       "<tr><td>63156575</td><td>4209577596</td><td>42.67032241556954</td><td>2015.5</td><td>37.4259</td><td>40.9289</td><td>315.63511438795217</td><td>10.1396</td><td>15.1101</td><td>nan</td><td>10.829</td><td>nan</td><td>nan</td><td>nan</td><td>12.902</td><td>219016387</td><td>2610</td><td>nan</td></tr>\n",
       "<tr><td>63174656</td><td>4209594299</td><td>42.852192782882156</td><td>2015.5</td><td>-90.0298</td><td>-16.3967</td><td>315.53170176272243</td><td>14.333</td><td>14.6491</td><td>nan</td><td>10.275</td><td>nan</td><td>nan</td><td>nan</td><td>12.3609</td><td>219035078</td><td>2610</td><td>nan</td></tr>\n",
       "<tr><td>...</td><td>...</td><td>...</td><td>...</td><td>...</td><td>...</td><td>...</td><td>...</td><td>...</td><td>...</td><td>...</td><td>...</td><td>...</td><td>...</td><td>...</td><td>...</td><td>...</td><td>...</td></tr>\n",
       "<tr><td>62669760</td><td>5408492842</td><td>38.455764900247054</td><td>2015.5</td><td>-5.83092</td><td>-3.32613</td><td>305.7619724040829</td><td>0.589562</td><td>9.48912</td><td>nan</td><td>8.049</td><td>nan</td><td>nan</td><td>nan</td><td>8.71374</td><td>218901589</td><td>2610</td><td>nan</td></tr>\n",
       "<tr><td>63044859</td><td>5408495442</td><td>38.5703203330149</td><td>2015.5</td><td>88.0635</td><td>100.418</td><td>305.8121214252395</td><td>11.3252</td><td>15.0639</td><td>nan</td><td>10.749</td><td>nan</td><td>nan</td><td>nan</td><td>12.8067</td><td>218901588</td><td>2610</td><td>nan</td></tr>\n",
       "<tr><td>61299687</td><td>5408495719</td><td>38.449999953161225</td><td>2015.5</td><td>-3.37753</td><td>-0.731075</td><td>305.9215697727172</td><td>0.223191</td><td>14.1894</td><td>nan</td><td>8.311</td><td>nan</td><td>nan</td><td>nan</td><td>11.4039</td><td>218901711</td><td>2610</td><td>nan</td></tr>\n",
       "<tr><td>62669730</td><td>5408495972</td><td>38.43253499301404</td><td>2015.5</td><td>-5.75593</td><td>-3.50252</td><td>305.99468401623017</td><td>0.570064</td><td>12.133</td><td>nan</td><td>9.355</td><td>nan</td><td>nan</td><td>nan</td><td>10.6524</td><td>218901710</td><td>2610</td><td>nan</td></tr>\n",
       "<tr><td>63044978</td><td>5408496418</td><td>38.49281113462188</td><td>2015.5</td><td>-11.3262</td><td>-15.2897</td><td>305.962456817665</td><td>4.00961</td><td>8.72746</td><td>nan</td><td>7.572</td><td>nan</td><td>nan</td><td>nan</td><td>8.14279</td><td>218901712</td><td>2610</td><td>nan</td></tr>\n",
       "<tr><td>63045120</td><td>5408499544</td><td>38.485225183977114</td><td>2015.5</td><td>-3.52424</td><td>-1.68994</td><td>306.1050985187362</td><td>1.38632</td><td>10.1748</td><td>nan</td><td>9.566</td><td>nan</td><td>nan</td><td>nan</td><td>9.90339</td><td>218901855</td><td>2610</td><td>nan</td></tr>\n",
       "<tr><td>61299778</td><td>5408501186</td><td>38.037461233237586</td><td>2015.5</td><td>57.26</td><td>109.84</td><td>306.3875657347261</td><td>nan</td><td>15.8347</td><td>nan</td><td>10.729</td><td>nan</td><td>nan</td><td>nan</td><td>13.0322</td><td>218902029</td><td>2610</td><td>nan</td></tr>\n",
       "<tr><td>62669776</td><td>5408515507</td><td>38.6039707761441</td><td>2015.5</td><td>-5.20185</td><td>-3.5488</td><td>305.8585285948427</td><td>0.569467</td><td>11.2301</td><td>nan</td><td>9.588</td><td>nan</td><td>nan</td><td>nan</td><td>10.3538</td><td>218901587</td><td>2610</td><td>nan</td></tr>\n",
       "<tr><td>62669882</td><td>5408517284</td><td>38.8209839193883</td><td>2015.5</td><td>-5.74294</td><td>-3.20556</td><td>305.7778930496327</td><td>0.495851</td><td>10.7494</td><td>nan</td><td>9.267</td><td>nan</td><td>nan</td><td>nan</td><td>9.93049</td><td>218901586</td><td>2610</td><td>nan</td></tr>\n",
       "<tr><td>63045148</td><td>5408519863</td><td>38.48975308705172</td><td>2015.5</td><td>-1.93702</td><td>2.70143</td><td>306.2860947857546</td><td>1.47244</td><td>12.2685</td><td>nan</td><td>11.153</td><td>nan</td><td>nan</td><td>nan</td><td>11.6908</td><td>218901885</td><td>2610</td><td>nan</td></tr>\n",
       "</table>"
      ],
      "text/plain": [
       "<Table length=1444>\n",
       "   pk    catalogid         dec         ... carton_to_target_pk priority cadence\n",
       " int64     int64         float64       ...        int64         int64   float64\n",
       "-------- ---------- ------------------ ... ------------------- -------- -------\n",
       "63148080 4209394331 41.875746062153674 ...           219007626     2610     nan\n",
       "63209139 4209516097  41.93183897872246 ...           219070820     2610     nan\n",
       "63209138 4209528079  42.10598853485691 ...           219070819     2610     nan\n",
       "63146115 4209542338  42.22882846136714 ...           219005598     2610     nan\n",
       "63146116 4209542867   42.2449689473793 ...           219005599     2610     nan\n",
       "63165457 4209567092  42.41503046023968 ...           219025569     2610     nan\n",
       "63165413 4209568930  42.54801605550778 ...           219025521     2610     nan\n",
       "63156576 4209575144  42.56791745072631 ...           219016388     2610     nan\n",
       "63156575 4209577596  42.67032241556954 ...           219016387     2610     nan\n",
       "63174656 4209594299 42.852192782882156 ...           219035078     2610     nan\n",
       "     ...        ...                ... ...                 ...      ...     ...\n",
       "62669760 5408492842 38.455764900247054 ...           218901589     2610     nan\n",
       "63044859 5408495442   38.5703203330149 ...           218901588     2610     nan\n",
       "61299687 5408495719 38.449999953161225 ...           218901711     2610     nan\n",
       "62669730 5408495972  38.43253499301404 ...           218901710     2610     nan\n",
       "63044978 5408496418  38.49281113462188 ...           218901712     2610     nan\n",
       "63045120 5408499544 38.485225183977114 ...           218901855     2610     nan\n",
       "61299778 5408501186 38.037461233237586 ...           218902029     2610     nan\n",
       "62669776 5408515507   38.6039707761441 ...           218901587     2610     nan\n",
       "62669882 5408517284   38.8209839193883 ...           218901586     2610     nan\n",
       "63045148 5408519863  38.48975308705172 ...           218901885     2610     nan"
      ]
     },
     "execution_count": 8,
     "metadata": {},
     "output_type": "execute_result"
    }
   ],
   "source": [
    "# Get available targets based on position. \n",
    "# These targets COULD have been observed in this plate run, i.e.,\n",
    "# their position is withing 1.49 degrees of a field center belonging to this plate run.\n",
    "# This takes ~30 seconds, it's loading all the plates/fields associated with the plate run.\n",
    "# If this is your first time needed these plates,\n",
    "# they will be downloaded and you will get a password prompt for apogee.sdss.org (Utah)\n",
    "\n",
    "maybe_observed = planet_targets.available_in(plate_run_2020)\n",
    "planet_targets.data[maybe_observed]"
   ]
  },
  {
   "cell_type": "code",
   "execution_count": 9,
   "metadata": {},
   "outputs": [
    {
     "name": "stdout",
     "output_type": "stream",
     "text": [
      "Please be patient.\n",
      "                      Initial target loading can take up to 1 second per field.\n",
      "                      Loading target data from 49 Fields...\n"
     ]
    },
    {
     "data": {
      "text/html": [
       "<i>Table length=1219</i>\n",
       "<table id=\"table140087423749952\" class=\"table-striped table-bordered table-condensed\">\n",
       "<thead><tr><th>pk</th><th>catalogid</th><th>dec</th><th>epoch</th><th>pmdec</th><th>pmra</th><th>ra</th><th>parallax</th><th>bp</th><th>g</th><th>h</th><th>i</th><th>z</th><th>r</th><th>rp</th><th>carton_to_target_pk</th><th>priority</th><th>cadence</th></tr></thead>\n",
       "<thead><tr><th>int64</th><th>int64</th><th>float64</th><th>float64</th><th>float64</th><th>float64</th><th>float64</th><th>float64</th><th>float64</th><th>float64</th><th>float64</th><th>float64</th><th>float64</th><th>float64</th><th>float64</th><th>int64</th><th>int64</th><th>float64</th></tr></thead>\n",
       "<tr><td>63209139</td><td>4209516097</td><td>41.93183897872246</td><td>2015.5</td><td>-33.1254</td><td>-23.2259</td><td>313.9783606797227</td><td>12.2869</td><td>13.9658</td><td>nan</td><td>9.685</td><td>nan</td><td>nan</td><td>nan</td><td>11.7374</td><td>219070820</td><td>2610</td><td>nan</td></tr>\n",
       "<tr><td>63209138</td><td>4209528079</td><td>42.10598853485691</td><td>2015.5</td><td>58.8432</td><td>103.534</td><td>314.0313265352599</td><td>21.0587</td><td>17.2365</td><td>nan</td><td>11.622</td><td>nan</td><td>nan</td><td>nan</td><td>14.0896</td><td>219070819</td><td>2610</td><td>nan</td></tr>\n",
       "<tr><td>63146115</td><td>4209542338</td><td>42.22882846136714</td><td>2015.5</td><td>-104.483</td><td>87.8372</td><td>313.92109159571095</td><td>15.9047</td><td>14.6424</td><td>nan</td><td>10.104</td><td>nan</td><td>nan</td><td>nan</td><td>12.2474</td><td>219005598</td><td>2610</td><td>nan</td></tr>\n",
       "<tr><td>63146116</td><td>4209542867</td><td>42.2449689473793</td><td>2015.5</td><td>-97.1919</td><td>55.1109</td><td>313.80229672601894</td><td>14.1433</td><td>17.0235</td><td>nan</td><td>11.858</td><td>nan</td><td>nan</td><td>nan</td><td>14.1743</td><td>219005599</td><td>2610</td><td>nan</td></tr>\n",
       "<tr><td>63165413</td><td>4209568930</td><td>42.54801605550778</td><td>2015.5</td><td>18.7414</td><td>148.755</td><td>314.7237190403423</td><td>6.92739</td><td>15.0098</td><td>nan</td><td>11.274</td><td>nan</td><td>nan</td><td>nan</td><td>13.1347</td><td>219025521</td><td>2610</td><td>nan</td></tr>\n",
       "<tr><td>63156576</td><td>4209575144</td><td>42.56791745072631</td><td>2015.5</td><td>89.4515</td><td>134.2</td><td>315.6687986797694</td><td>21.554</td><td>15.0932</td><td>nan</td><td>10.527</td><td>nan</td><td>nan</td><td>nan</td><td>12.6246</td><td>219016388</td><td>2610</td><td>nan</td></tr>\n",
       "<tr><td>63156575</td><td>4209577596</td><td>42.67032241556954</td><td>2015.5</td><td>37.4259</td><td>40.9289</td><td>315.63511438795217</td><td>10.1396</td><td>15.1101</td><td>nan</td><td>10.829</td><td>nan</td><td>nan</td><td>nan</td><td>12.902</td><td>219016387</td><td>2610</td><td>nan</td></tr>\n",
       "<tr><td>63174656</td><td>4209594299</td><td>42.852192782882156</td><td>2015.5</td><td>-90.0298</td><td>-16.3967</td><td>315.53170176272243</td><td>14.333</td><td>14.6491</td><td>nan</td><td>10.275</td><td>nan</td><td>nan</td><td>nan</td><td>12.3609</td><td>219035078</td><td>2610</td><td>nan</td></tr>\n",
       "<tr><td>63165412</td><td>4209598274</td><td>42.586066742958074</td><td>2015.5</td><td>420.514</td><td>307.21</td><td>314.5981591107016</td><td>33.8023</td><td>13.5517</td><td>nan</td><td>8.916</td><td>nan</td><td>nan</td><td>nan</td><td>11.0492</td><td>219025520</td><td>2610</td><td>nan</td></tr>\n",
       "<tr><td>57297261</td><td>4209609861</td><td>42.87533613907336</td><td>2015.5</td><td>68.37</td><td>93.51</td><td>314.63772594579297</td><td>nan</td><td>16.4041</td><td>nan</td><td>10.908</td><td>nan</td><td>nan</td><td>nan</td><td>13.403</td><td>219025522</td><td>2610</td><td>nan</td></tr>\n",
       "<tr><td>...</td><td>...</td><td>...</td><td>...</td><td>...</td><td>...</td><td>...</td><td>...</td><td>...</td><td>...</td><td>...</td><td>...</td><td>...</td><td>...</td><td>...</td><td>...</td><td>...</td><td>...</td></tr>\n",
       "<tr><td>62669816</td><td>5408422430</td><td>38.62938143770945</td><td>2015.5</td><td>-3.77973</td><td>-3.01232</td><td>305.46216007143266</td><td>0.539196</td><td>8.81947</td><td>nan</td><td>7.089</td><td>nan</td><td>nan</td><td>nan</td><td>7.93271</td><td>218901402</td><td>2610</td><td>nan</td></tr>\n",
       "<tr><td>62669737</td><td>5408485408</td><td>38.306806510244165</td><td>2015.5</td><td>-5.32692</td><td>-3.14498</td><td>305.73851859865385</td><td>0.530025</td><td>12.7438</td><td>nan</td><td>10.052</td><td>nan</td><td>nan</td><td>nan</td><td>11.3592</td><td>218901590</td><td>2610</td><td>nan</td></tr>\n",
       "<tr><td>62669760</td><td>5408492842</td><td>38.455764900247054</td><td>2015.5</td><td>-5.83092</td><td>-3.32613</td><td>305.7619724040829</td><td>0.589562</td><td>9.48912</td><td>nan</td><td>8.049</td><td>nan</td><td>nan</td><td>nan</td><td>8.71374</td><td>218901589</td><td>2610</td><td>nan</td></tr>\n",
       "<tr><td>63044859</td><td>5408495442</td><td>38.5703203330149</td><td>2015.5</td><td>88.0635</td><td>100.418</td><td>305.8121214252395</td><td>11.3252</td><td>15.0639</td><td>nan</td><td>10.749</td><td>nan</td><td>nan</td><td>nan</td><td>12.8067</td><td>218901588</td><td>2610</td><td>nan</td></tr>\n",
       "<tr><td>61299687</td><td>5408495719</td><td>38.449999953161225</td><td>2015.5</td><td>-3.37753</td><td>-0.731075</td><td>305.9215697727172</td><td>0.223191</td><td>14.1894</td><td>nan</td><td>8.311</td><td>nan</td><td>nan</td><td>nan</td><td>11.4039</td><td>218901711</td><td>2610</td><td>nan</td></tr>\n",
       "<tr><td>62669730</td><td>5408495972</td><td>38.43253499301404</td><td>2015.5</td><td>-5.75593</td><td>-3.50252</td><td>305.99468401623017</td><td>0.570064</td><td>12.133</td><td>nan</td><td>9.355</td><td>nan</td><td>nan</td><td>nan</td><td>10.6524</td><td>218901710</td><td>2610</td><td>nan</td></tr>\n",
       "<tr><td>63044978</td><td>5408496418</td><td>38.49281113462188</td><td>2015.5</td><td>-11.3262</td><td>-15.2897</td><td>305.962456817665</td><td>4.00961</td><td>8.72746</td><td>nan</td><td>7.572</td><td>nan</td><td>nan</td><td>nan</td><td>8.14279</td><td>218901712</td><td>2610</td><td>nan</td></tr>\n",
       "<tr><td>63045120</td><td>5408499544</td><td>38.485225183977114</td><td>2015.5</td><td>-3.52424</td><td>-1.68994</td><td>306.1050985187362</td><td>1.38632</td><td>10.1748</td><td>nan</td><td>9.566</td><td>nan</td><td>nan</td><td>nan</td><td>9.90339</td><td>218901855</td><td>2610</td><td>nan</td></tr>\n",
       "<tr><td>62669882</td><td>5408517284</td><td>38.8209839193883</td><td>2015.5</td><td>-5.74294</td><td>-3.20556</td><td>305.7778930496327</td><td>0.495851</td><td>10.7494</td><td>nan</td><td>9.267</td><td>nan</td><td>nan</td><td>nan</td><td>9.93049</td><td>218901586</td><td>2610</td><td>nan</td></tr>\n",
       "<tr><td>63045148</td><td>5408519863</td><td>38.48975308705172</td><td>2015.5</td><td>-1.93702</td><td>2.70143</td><td>306.2860947857546</td><td>1.47244</td><td>12.2685</td><td>nan</td><td>11.153</td><td>nan</td><td>nan</td><td>nan</td><td>11.6908</td><td>218901885</td><td>2610</td><td>nan</td></tr>\n",
       "</table>"
      ],
      "text/plain": [
       "<Table length=1219>\n",
       "   pk    catalogid         dec         ... carton_to_target_pk priority cadence\n",
       " int64     int64         float64       ...        int64         int64   float64\n",
       "-------- ---------- ------------------ ... ------------------- -------- -------\n",
       "63209139 4209516097  41.93183897872246 ...           219070820     2610     nan\n",
       "63209138 4209528079  42.10598853485691 ...           219070819     2610     nan\n",
       "63146115 4209542338  42.22882846136714 ...           219005598     2610     nan\n",
       "63146116 4209542867   42.2449689473793 ...           219005599     2610     nan\n",
       "63165413 4209568930  42.54801605550778 ...           219025521     2610     nan\n",
       "63156576 4209575144  42.56791745072631 ...           219016388     2610     nan\n",
       "63156575 4209577596  42.67032241556954 ...           219016387     2610     nan\n",
       "63174656 4209594299 42.852192782882156 ...           219035078     2610     nan\n",
       "63165412 4209598274 42.586066742958074 ...           219025520     2610     nan\n",
       "57297261 4209609861  42.87533613907336 ...           219025522     2610     nan\n",
       "     ...        ...                ... ...                 ...      ...     ...\n",
       "62669816 5408422430  38.62938143770945 ...           218901402     2610     nan\n",
       "62669737 5408485408 38.306806510244165 ...           218901590     2610     nan\n",
       "62669760 5408492842 38.455764900247054 ...           218901589     2610     nan\n",
       "63044859 5408495442   38.5703203330149 ...           218901588     2610     nan\n",
       "61299687 5408495719 38.449999953161225 ...           218901711     2610     nan\n",
       "62669730 5408495972  38.43253499301404 ...           218901710     2610     nan\n",
       "63044978 5408496418  38.49281113462188 ...           218901712     2610     nan\n",
       "63045120 5408499544 38.485225183977114 ...           218901855     2610     nan\n",
       "62669882 5408517284   38.8209839193883 ...           218901586     2610     nan\n",
       "63045148 5408519863  38.48975308705172 ...           218901885     2610     nan"
      ]
     },
     "execution_count": 9,
     "metadata": {},
     "output_type": "execute_result"
    }
   ],
   "source": [
    "# Get targets that were assigned a fiber in this platerun.\n",
    "observed = planet_targets.assigned_in(plate_run_2020)\n",
    "planet_targets.data[observed]"
   ]
  },
  {
   "cell_type": "code",
   "execution_count": 10,
   "metadata": {},
   "outputs": [
    {
     "name": "stdout",
     "output_type": "stream",
     "text": [
      "Please be patient.\n",
      "                  Initial target loading for Platerun can take up to 1 second per field.\n",
      "                  Loading target data from 49 Fields...\n"
     ]
    },
    {
     "data": {
      "text/html": [
       "<i>Table length=225</i>\n",
       "<table id=\"table140087196692240\" class=\"table-striped table-bordered table-condensed\">\n",
       "<thead><tr><th>pk</th><th>catalogid</th><th>dec</th><th>epoch</th><th>pmdec</th><th>pmra</th><th>ra</th><th>parallax</th><th>bp</th><th>g</th><th>h</th><th>i</th><th>z</th><th>r</th><th>rp</th><th>carton_to_target_pk</th><th>priority</th><th>cadence</th></tr></thead>\n",
       "<thead><tr><th>int64</th><th>int64</th><th>float64</th><th>float64</th><th>float64</th><th>float64</th><th>float64</th><th>float64</th><th>float64</th><th>float64</th><th>float64</th><th>float64</th><th>float64</th><th>float64</th><th>float64</th><th>int64</th><th>int64</th><th>float64</th></tr></thead>\n",
       "<tr><td>63148080</td><td>4209394331</td><td>41.875746062153674</td><td>2015.5</td><td>8.91809</td><td>24.6853</td><td>314.4805725811644</td><td>4.80682</td><td>9.18298</td><td>nan</td><td>8.628</td><td>nan</td><td>nan</td><td>nan</td><td>8.89418</td><td>219007626</td><td>2610</td><td>nan</td></tr>\n",
       "<tr><td>63165457</td><td>4209567092</td><td>42.41503046023968</td><td>2015.5</td><td>25.8668</td><td>168.897</td><td>314.9436114999867</td><td>13.5015</td><td>15.0558</td><td>nan</td><td>10.626</td><td>nan</td><td>nan</td><td>nan</td><td>12.7108</td><td>219025569</td><td>2610</td><td>nan</td></tr>\n",
       "<tr><td>63171921</td><td>4209856173</td><td>39.68990295466945</td><td>2015.5</td><td>4.80941</td><td>-0.373513</td><td>325.9637911303756</td><td>4.14737</td><td>11.3533</td><td>nan</td><td>9.847</td><td>nan</td><td>nan</td><td>nan</td><td>10.6153</td><td>219032260</td><td>2610</td><td>nan</td></tr>\n",
       "<tr><td>63209117</td><td>4209863629</td><td>39.74586441986511</td><td>2015.5</td><td>80.5261</td><td>89.6342</td><td>326.24676336145177</td><td>10.5845</td><td>14.8434</td><td>nan</td><td>10.347</td><td>nan</td><td>nan</td><td>nan</td><td>12.5542</td><td>219070798</td><td>2610</td><td>nan</td></tr>\n",
       "<tr><td>63138625</td><td>4209864275</td><td>39.80843052083493</td><td>2015.5</td><td>-62.0409</td><td>-29.8816</td><td>326.3216878896495</td><td>14.618</td><td>8.99372</td><td>nan</td><td>7.292</td><td>nan</td><td>nan</td><td>nan</td><td>8.16342</td><td>218997865</td><td>2610</td><td>nan</td></tr>\n",
       "<tr><td>63144619</td><td>4210119235</td><td>40.609362944887096</td><td>2015.5</td><td>9.78557</td><td>21.234</td><td>323.2059772024752</td><td>2.35741</td><td>9.50421</td><td>nan</td><td>8.971</td><td>nan</td><td>nan</td><td>nan</td><td>9.20813</td><td>219004054</td><td>2610</td><td>nan</td></tr>\n",
       "<tr><td>63144737</td><td>4210335282</td><td>41.04233515070619</td><td>2015.5</td><td>12.4199</td><td>19.3849</td><td>323.96100227098475</td><td>4.11007</td><td>8.76249</td><td>nan</td><td>7.295</td><td>nan</td><td>nan</td><td>nan</td><td>8.0153</td><td>219004175</td><td>2610</td><td>nan</td></tr>\n",
       "<tr><td>63179277</td><td>4210401630</td><td>41.59172864013859</td><td>2015.5</td><td>2.90134</td><td>6.84799</td><td>324.951392067081</td><td>4.58764</td><td>8.91382</td><td>nan</td><td>8.379</td><td>nan</td><td>nan</td><td>nan</td><td>8.65385</td><td>219039847</td><td>2610</td><td>nan</td></tr>\n",
       "<tr><td>62673931</td><td>4215718063</td><td>40.80070170414872</td><td>2015.5</td><td>0.451464</td><td>2.8645</td><td>305.3234023673149</td><td>1.14661</td><td>8.01065</td><td>nan</td><td>7.657</td><td>nan</td><td>nan</td><td>nan</td><td>7.8237</td><td>218901360</td><td>2610</td><td>nan</td></tr>\n",
       "<tr><td>62673990</td><td>4215723621</td><td>40.88787878316568</td><td>2015.5</td><td>-5.98019</td><td>-2.39371</td><td>304.84045412069975</td><td>0.943952</td><td>8.56535</td><td>nan</td><td>7.773</td><td>nan</td><td>nan</td><td>nan</td><td>8.09021</td><td>218901014</td><td>2610</td><td>nan</td></tr>\n",
       "<tr><td>...</td><td>...</td><td>...</td><td>...</td><td>...</td><td>...</td><td>...</td><td>...</td><td>...</td><td>...</td><td>...</td><td>...</td><td>...</td><td>...</td><td>...</td><td>...</td><td>...</td><td>...</td></tr>\n",
       "<tr><td>62669708</td><td>5407785006</td><td>38.13839669209823</td><td>2015.5</td><td>-5.57214</td><td>-3.5203</td><td>303.7358816047204</td><td>0.57974</td><td>8.81117</td><td>nan</td><td>7.941</td><td>nan</td><td>nan</td><td>nan</td><td>8.28997</td><td>218900235</td><td>2610</td><td>nan</td></tr>\n",
       "<tr><td>61295797</td><td>5407894189</td><td>38.78201520895514</td><td>2015.5</td><td>-5.48322</td><td>-4.3928</td><td>303.7798705643019</td><td>0.466434</td><td>13.9381</td><td>nan</td><td>9.122</td><td>nan</td><td>nan</td><td>nan</td><td>11.7115</td><td>218900358</td><td>2610</td><td>nan</td></tr>\n",
       "<tr><td>62670142</td><td>5408140141</td><td>38.89927107043292</td><td>2015.5</td><td>-4.99785</td><td>-2.60751</td><td>304.1683284930153</td><td>0.455265</td><td>8.41975</td><td>nan</td><td>7.503</td><td>nan</td><td>nan</td><td>nan</td><td>7.90392</td><td>218900648</td><td>2610</td><td>nan</td></tr>\n",
       "<tr><td>63144163</td><td>5408230953</td><td>37.804123989116654</td><td>2015.5</td><td>-115.103</td><td>-61.7622</td><td>304.74823855952275</td><td>8.93638</td><td>14.2423</td><td>nan</td><td>10.49</td><td>nan</td><td>nan</td><td>nan</td><td>12.3887</td><td>219003584</td><td>2610</td><td>nan</td></tr>\n",
       "<tr><td>63044252</td><td>5408272914</td><td>38.33616107312493</td><td>2015.5</td><td>141.949</td><td>172.693</td><td>304.5846632375681</td><td>18.8403</td><td>15.3111</td><td>nan</td><td>10.606</td><td>nan</td><td>nan</td><td>nan</td><td>12.7686</td><td>218900946</td><td>2610</td><td>nan</td></tr>\n",
       "<tr><td>63045121</td><td>5408325863</td><td>37.575393925193964</td><td>2015.5</td><td>-8.97395</td><td>6.54653</td><td>306.0753066255992</td><td>3.50465</td><td>8.04764</td><td>nan</td><td>8.068</td><td>nan</td><td>nan</td><td>nan</td><td>8.05659</td><td>218901856</td><td>2610</td><td>nan</td></tr>\n",
       "<tr><td>62670272</td><td>5408438949</td><td>39.057265262372084</td><td>2015.5</td><td>-4.73083</td><td>-3.32362</td><td>304.88050899612216</td><td>0.562319</td><td>8.83088</td><td>nan</td><td>7.873</td><td>nan</td><td>nan</td><td>nan</td><td>8.29805</td><td>218901042</td><td>2610</td><td>nan</td></tr>\n",
       "<tr><td>63045147</td><td>5408489402</td><td>38.04295693549839</td><td>2015.5</td><td>-10.8114</td><td>-6.52017</td><td>306.26202654076195</td><td>1.2547</td><td>10.4455</td><td>nan</td><td>7.601</td><td>nan</td><td>nan</td><td>nan</td><td>9.1179</td><td>218901884</td><td>2610</td><td>nan</td></tr>\n",
       "<tr><td>61299778</td><td>5408501186</td><td>38.037461233237586</td><td>2015.5</td><td>57.26</td><td>109.84</td><td>306.3875657347261</td><td>nan</td><td>15.8347</td><td>nan</td><td>10.729</td><td>nan</td><td>nan</td><td>nan</td><td>13.0322</td><td>218902029</td><td>2610</td><td>nan</td></tr>\n",
       "<tr><td>62669776</td><td>5408515507</td><td>38.6039707761441</td><td>2015.5</td><td>-5.20185</td><td>-3.5488</td><td>305.8585285948427</td><td>0.569467</td><td>11.2301</td><td>nan</td><td>9.588</td><td>nan</td><td>nan</td><td>nan</td><td>10.3538</td><td>218901587</td><td>2610</td><td>nan</td></tr>\n",
       "</table>"
      ],
      "text/plain": [
       "<Table length=225>\n",
       "   pk    catalogid         dec         ... carton_to_target_pk priority cadence\n",
       " int64     int64         float64       ...        int64         int64   float64\n",
       "-------- ---------- ------------------ ... ------------------- -------- -------\n",
       "63148080 4209394331 41.875746062153674 ...           219007626     2610     nan\n",
       "63165457 4209567092  42.41503046023968 ...           219025569     2610     nan\n",
       "63171921 4209856173  39.68990295466945 ...           219032260     2610     nan\n",
       "63209117 4209863629  39.74586441986511 ...           219070798     2610     nan\n",
       "63138625 4209864275  39.80843052083493 ...           218997865     2610     nan\n",
       "63144619 4210119235 40.609362944887096 ...           219004054     2610     nan\n",
       "63144737 4210335282  41.04233515070619 ...           219004175     2610     nan\n",
       "63179277 4210401630  41.59172864013859 ...           219039847     2610     nan\n",
       "62673931 4215718063  40.80070170414872 ...           218901360     2610     nan\n",
       "62673990 4215723621  40.88787878316568 ...           218901014     2610     nan\n",
       "     ...        ...                ... ...                 ...      ...     ...\n",
       "62669708 5407785006  38.13839669209823 ...           218900235     2610     nan\n",
       "61295797 5407894189  38.78201520895514 ...           218900358     2610     nan\n",
       "62670142 5408140141  38.89927107043292 ...           218900648     2610     nan\n",
       "63144163 5408230953 37.804123989116654 ...           219003584     2610     nan\n",
       "63044252 5408272914  38.33616107312493 ...           218900946     2610     nan\n",
       "63045121 5408325863 37.575393925193964 ...           218901856     2610     nan\n",
       "62670272 5408438949 39.057265262372084 ...           218901042     2610     nan\n",
       "63045147 5408489402  38.04295693549839 ...           218901884     2610     nan\n",
       "61299778 5408501186 38.037461233237586 ...           218902029     2610     nan\n",
       "62669776 5408515507   38.6039707761441 ...           218901587     2610     nan"
      ]
     },
     "execution_count": 10,
     "metadata": {},
     "output_type": "execute_result"
    }
   ],
   "source": [
    "# Get targets that were \"available\" but NOT assigned a fiber.\n",
    "not_observed = planet_targets.not_assigned_in(plate_run_2020)\n",
    "planet_targets.data[not_observed]"
   ]
  },
  {
   "cell_type": "code",
   "execution_count": 11,
   "metadata": {},
   "outputs": [
    {
     "data": {
      "text/html": [
       "<i>Table length=1292</i>\n",
       "<table id=\"table140088901272864\" class=\"table-striped table-bordered table-condensed\">\n",
       "<thead><tr><th>target_ra</th><th>target_dec</th><th>holetype</th><th>targettype</th><th>catalogid</th><th>tmass_id</th><th>firstcarton</th><th>tmass_h</th><th>gaia_g</th><th>gaia_rp</th><th>gaia_bp</th><th>epoch</th><th>plate</th><th>field</th></tr></thead>\n",
       "<thead><tr><th>float64</th><th>float64</th><th>str13</th><th>str8</th><th>uint64</th><th>str23</th><th>str20</th><th>float64</th><th>float64</th><th>float64</th><th>float64</th><th>float64</th><th>int64</th><th>bytes200</th></tr></thead>\n",
       "<tr><td>313.97831</td><td>41.93179</td><td>APOGEE_SHARED</td><td>science</td><td>4209516097</td><td>2MASS-J20555483+4155551</td><td>mwm_snc_100pc</td><td>9.685</td><td>12.8011</td><td>11.7374</td><td>13.9658</td><td>2020.8</td><td>15092</td><td>GG_052</td></tr>\n",
       "<tr><td>314.03154</td><td>42.106076</td><td>BOSS_SHARED</td><td>science</td><td>4209528079</td><td>2MASS-J20560737+4206207</td><td>mwm_snc_100pc</td><td>11.622</td><td>15.3852</td><td>14.0896</td><td>17.2365</td><td>2020.8</td><td>15092</td><td>GG_052</td></tr>\n",
       "<tr><td>313.92126</td><td>42.228674</td><td>APOGEE_SHARED</td><td>science</td><td>4209542338</td><td>2MASS-J20554093+4213454</td><td>mwm_snc_100pc</td><td>10.104</td><td>13.3647</td><td>12.2474</td><td>14.6424</td><td>2020.8</td><td>15092</td><td>GG_052</td></tr>\n",
       "<tr><td>313.80241</td><td>42.244826</td><td>BOSS_SHARED</td><td>science</td><td>4209542867</td><td>2MASS-J20551247+4214434</td><td>mwm_snc_100pc</td><td>11.858</td><td>15.4133</td><td>14.1743</td><td>17.0235</td><td>2020.8</td><td>15092</td><td>GG_052</td></tr>\n",
       "<tr><td>314.72402</td><td>42.548044</td><td>APOGEE_SHARED</td><td>science</td><td>4209568930</td><td>2MASS-J20585348+4232525</td><td>mwm_planet_tess</td><td>11.274</td><td>14.0841</td><td>13.1347</td><td>15.0098</td><td>2020.8</td><td>15092</td><td>GG_052</td></tr>\n",
       "<tr><td>315.66907</td><td>42.56805</td><td>APOGEE_SHARED</td><td>science</td><td>4209575144</td><td>2MASS-J21024032+4234030</td><td>mwm_snc_100pc</td><td>10.527</td><td>13.7621</td><td>12.6246</td><td>15.0932</td><td>2020.8</td><td>15092</td><td>GG_052</td></tr>\n",
       "<tr><td>315.63519</td><td>42.670377</td><td>APOGEE_SHARED</td><td>science</td><td>4209577596</td><td>2MASS-J21023237+4240126</td><td>mwm_snc_100pc</td><td>10.829</td><td>13.9608</td><td>12.902</td><td>15.1101</td><td>2020.8</td><td>15092</td><td>GG_052</td></tr>\n",
       "<tr><td>315.53167</td><td>42.85206</td><td>APOGEE_SHARED</td><td>science</td><td>4209594299</td><td>2MASS-J21020762+4251093</td><td>mwm_snc_100pc</td><td>10.275</td><td>13.4448</td><td>12.3609</td><td>14.6491</td><td>2020.8</td><td>15092</td><td>GG_052</td></tr>\n",
       "<tr><td>314.59877</td><td>42.586686</td><td>APOGEE_SHARED</td><td>science</td><td>4209598274</td><td>2MASS-J20582314+4235035</td><td>mwm_snc_100pc</td><td>8.916</td><td>12.1868</td><td>11.0492</td><td>13.5517</td><td>2020.8</td><td>15092</td><td>GG_052</td></tr>\n",
       "<tr><td>314.63792</td><td>42.875437</td><td>APOGEE_SHARED</td><td>science</td><td>4209609861</td><td>2MASS-J20583293+4252301</td><td>mwm_planet_tess</td><td>10.908</td><td>14.683</td><td>13.403</td><td>16.4041</td><td>2020.8</td><td>15092</td><td>GG_052</td></tr>\n",
       "<tr><td>...</td><td>...</td><td>...</td><td>...</td><td>...</td><td>...</td><td>...</td><td>...</td><td>...</td><td>...</td><td>...</td><td>...</td><td>...</td><td>...</td></tr>\n",
       "<tr><td>305.46215</td><td>38.629375</td><td>APOGEE_SHARED</td><td>science</td><td>5408422430</td><td>2MASS-J20215092+3837458</td><td>mwm_planet_tess</td><td>7.089</td><td>8.4464</td><td>7.9327</td><td>8.8195</td><td>2020.8</td><td>15091</td><td>GG_047</td></tr>\n",
       "<tr><td>305.73851</td><td>38.306799</td><td>APOGEE_SHARED</td><td>science</td><td>5408485408</td><td>2MASS-J20225724+3818245</td><td>mwm_planet_tess</td><td>10.052</td><td>12.1232</td><td>11.3592</td><td>12.7438</td><td>2020.8</td><td>15091</td><td>GG_047</td></tr>\n",
       "<tr><td>305.76196</td><td>38.455756</td><td>APOGEE_SHARED</td><td>science</td><td>5408492842</td><td>2MASS-J20230286+3827210</td><td>mwm_planet_tess</td><td>8.049</td><td>9.171</td><td>8.7137</td><td>9.4891</td><td>2020.8</td><td>15091</td><td>GG_047</td></tr>\n",
       "<tr><td>305.81231</td><td>38.57045</td><td>APOGEE_SHARED</td><td>science</td><td>5408495442</td><td>2MASS-J20231476+3834116</td><td>mwm_snc_100pc</td><td>10.749</td><td>13.8828</td><td>12.8067</td><td>15.0639</td><td>2020.8</td><td>15091</td><td>GG_047</td></tr>\n",
       "<tr><td>305.92157</td><td>38.449995</td><td>APOGEE_SHARED</td><td>science</td><td>5408495719</td><td>2MASS-J20234116+3827000</td><td>mwm_planet_tess</td><td>8.311</td><td>12.6338</td><td>11.4039</td><td>14.1894</td><td>2020.8</td><td>15091</td><td>GG_047</td></tr>\n",
       "<tr><td>305.99467</td><td>38.432527</td><td>APOGEE_SHARED</td><td>science</td><td>5408495972</td><td>2MASS-J20235873+3825571</td><td>mwm_planet_tess</td><td>9.355</td><td>11.4543</td><td>10.6524</td><td>12.133</td><td>2020.8</td><td>15091</td><td>GG_047</td></tr>\n",
       "<tr><td>305.96243</td><td>38.492794</td><td>APOGEE_SHARED</td><td>science</td><td>5408496418</td><td>2MASS-J20235100+3829343</td><td>mwm_planet_tess</td><td>7.572</td><td>8.4856</td><td>8.1428</td><td>8.7275</td><td>2020.8</td><td>15091</td><td>GG_047</td></tr>\n",
       "<tr><td>306.1051</td><td>38.48522</td><td>APOGEE_SHARED</td><td>science</td><td>5408499544</td><td>2MASS-J20242523+3829068</td><td>mwm_planet_tess</td><td>9.566</td><td>10.0745</td><td>9.9034</td><td>10.1748</td><td>2020.8</td><td>15091</td><td>GG_047</td></tr>\n",
       "<tr><td>305.77788</td><td>38.820976</td><td>APOGEE_SHARED</td><td>science</td><td>5408517284</td><td>2MASS-J20230669+3849156</td><td>mwm_planet_tess</td><td>9.267</td><td>10.4172</td><td>9.9305</td><td>10.7494</td><td>2020.8</td><td>15091</td><td>GG_047</td></tr>\n",
       "<tr><td>306.2861</td><td>38.48975</td><td>APOGEE_SHARED</td><td>science</td><td>5408519863</td><td>2MASS-J20250866+3829230</td><td>mwm_planet_tess</td><td>11.153</td><td>12.0452</td><td>11.6908</td><td>12.2685</td><td>2020.8</td><td>15091</td><td>GG_047</td></tr>\n",
       "</table>"
      ],
      "text/plain": [
       "<Table length=1292>\n",
       "target_ra target_dec    holetype   targettype ... gaia_bp  epoch  plate  field  \n",
       " float64   float64       str13        str8    ... float64 float64 int64 bytes200\n",
       "--------- ---------- ------------- ---------- ... ------- ------- ----- --------\n",
       "313.97831   41.93179 APOGEE_SHARED    science ... 13.9658  2020.8 15092   GG_052\n",
       "314.03154  42.106076   BOSS_SHARED    science ... 17.2365  2020.8 15092   GG_052\n",
       "313.92126  42.228674 APOGEE_SHARED    science ... 14.6424  2020.8 15092   GG_052\n",
       "313.80241  42.244826   BOSS_SHARED    science ... 17.0235  2020.8 15092   GG_052\n",
       "314.72402  42.548044 APOGEE_SHARED    science ... 15.0098  2020.8 15092   GG_052\n",
       "315.66907   42.56805 APOGEE_SHARED    science ... 15.0932  2020.8 15092   GG_052\n",
       "315.63519  42.670377 APOGEE_SHARED    science ... 15.1101  2020.8 15092   GG_052\n",
       "315.53167   42.85206 APOGEE_SHARED    science ... 14.6491  2020.8 15092   GG_052\n",
       "314.59877  42.586686 APOGEE_SHARED    science ... 13.5517  2020.8 15092   GG_052\n",
       "314.63792  42.875437 APOGEE_SHARED    science ... 16.4041  2020.8 15092   GG_052\n",
       "      ...        ...           ...        ... ...     ...     ...   ...      ...\n",
       "305.46215  38.629375 APOGEE_SHARED    science ...  8.8195  2020.8 15091   GG_047\n",
       "305.73851  38.306799 APOGEE_SHARED    science ... 12.7438  2020.8 15091   GG_047\n",
       "305.76196  38.455756 APOGEE_SHARED    science ...  9.4891  2020.8 15091   GG_047\n",
       "305.81231   38.57045 APOGEE_SHARED    science ... 15.0639  2020.8 15091   GG_047\n",
       "305.92157  38.449995 APOGEE_SHARED    science ... 14.1894  2020.8 15091   GG_047\n",
       "305.99467  38.432527 APOGEE_SHARED    science ...  12.133  2020.8 15091   GG_047\n",
       "305.96243  38.492794 APOGEE_SHARED    science ...  8.7275  2020.8 15091   GG_047\n",
       " 306.1051   38.48522 APOGEE_SHARED    science ... 10.1748  2020.8 15091   GG_047\n",
       "305.77788  38.820976 APOGEE_SHARED    science ... 10.7494  2020.8 15091   GG_047\n",
       " 306.2861   38.48975 APOGEE_SHARED    science ... 12.2685  2020.8 15091   GG_047"
      ]
     },
     "execution_count": 11,
     "metadata": {},
     "output_type": "execute_result"
    }
   ],
   "source": [
    "# Get fiber information for the assigned targets (includes instrument and firstcarton)\n",
    "planet_targets.assigned_info(plate_run_2020)"
   ]
  },
  {
   "cell_type": "markdown",
   "metadata": {},
   "source": [
    "## A longer `ppv` Walkthrough (copy of PPV_tutorial)\n",
    "Please read though to get a better sense of how `ppv` works"
   ]
  },
  {
   "cell_type": "markdown",
   "metadata": {},
   "source": [
    "### Convenient References"
   ]
  },
  {
   "cell_type": "code",
   "execution_count": 12,
   "metadata": {},
   "outputs": [
    {
     "data": {
      "text/html": [
       "<i>Table length=166</i>\n",
       "<table id=\"table140088951991264\" class=\"table-striped table-bordered table-condensed\">\n",
       "<thead><tr><th>plateid</th><th>designid</th><th>locationid</th><th>tileid</th><th>plateDesignVersion</th><th>ha [6]</th><th>temp</th><th>epoch</th><th>raCen</th><th>decCen</th><th>survey</th><th>programname</th><th>drillstyle</th><th>rerun</th><th>platerun</th><th>chunk</th><th>name</th><th>comments</th></tr></thead>\n",
       "<thead><tr><th>int32</th><th>int32</th><th>int32</th><th>int32</th><th>bytes20</th><th>float32</th><th>float32</th><th>float32</th><th>float64</th><th>float64</th><th>bytes20</th><th>bytes40</th><th>bytes20</th><th>bytes50</th><th>bytes200</th><th>bytes200</th><th>bytes200</th><th>bytes200</th></tr></thead>\n",
       "<tr><td>90100</td><td>90100</td><td>90100</td><td>-1</td><td>v1</td><td>0.0 .. 0.0</td><td>10.0</td><td>2020.9</td><td>213.7042</td><td>53.08333</td><td>mwm-bhm</td><td>test</td><td>apogee_boss</td><td></td><td>2020.01.e.bhm-mwm</td><td>2020.01.e.bhm-mwm</td><td>test APOGEE and BOSS</td><td>none</td></tr>\n",
       "<tr><td>90101</td><td>90101</td><td>90101</td><td>-1</td><td>v1</td><td>0.0 .. 0.0</td><td>10.0</td><td>2020.9</td><td>213.7042</td><td>53.08333</td><td>mwm-bhm</td><td>test</td><td>bosshalf</td><td></td><td>2020.02.b.bhm</td><td>2020.02.b.bhm</td><td>test BOSSHALF</td><td>none</td></tr>\n",
       "<tr><td>15000</td><td>15000</td><td>50000</td><td>-1</td><td>v1</td><td>0.0 .. 0.0</td><td>11.0</td><td>2020.8</td><td>35.708333</td><td>-5.05</td><td>bhm-mwm</td><td>RM</td><td>apogee_boss</td><td></td><td>2020.08.a.bhm-mwm</td><td>2020.08.a.bhm-mwm</td><td>RM_XMM-LSS</td><td>100</td></tr>\n",
       "<tr><td>15001</td><td>15000</td><td>50000</td><td>-1</td><td>v1</td><td>-25.0 .. 0.0</td><td>11.0</td><td>2020.8</td><td>35.708333</td><td>-5.05</td><td>bhm-mwm</td><td>RM</td><td>apogee_boss</td><td></td><td>2020.08.a.bhm-mwm</td><td>2020.08.a.bhm-mwm</td><td>RM_XMM-LSS</td><td>100</td></tr>\n",
       "<tr><td>15002</td><td>15000</td><td>50000</td><td>-1</td><td>v1</td><td>25.0 .. 0.0</td><td>9.0</td><td>2020.8</td><td>35.708333</td><td>-5.05</td><td>bhm-mwm</td><td>RM</td><td>apogee_boss</td><td></td><td>2020.08.a.bhm-mwm</td><td>2020.08.a.bhm-mwm</td><td>RM_XMM-LSS</td><td>100</td></tr>\n",
       "<tr><td>15004</td><td>15001</td><td>50001</td><td>-1</td><td>v2</td><td>-15.0 .. 0.0</td><td>13.0</td><td>2020.8</td><td>1.845703</td><td>26.443334</td><td>bhm-mwm</td><td>AQMES-Medium</td><td>apogee_boss</td><td></td><td>2020.08.c.bhm-mwm</td><td>2020.08.c.bhm-mwm</td><td>AQM_001.85_+26.44</td><td></td></tr>\n",
       "<tr><td>15005</td><td>15002</td><td>50002</td><td>-1</td><td>v2</td><td>-15.0 .. 0.0</td><td>13.0</td><td>2020.8</td><td>8.525391</td><td>1.044512</td><td>bhm-mwm</td><td>AQMES-Medium</td><td>apogee_boss</td><td></td><td>2020.08.c.bhm-mwm</td><td>2020.08.c.bhm-mwm</td><td>AQM_008.53_+01.04</td><td></td></tr>\n",
       "<tr><td>15006</td><td>15003</td><td>50003</td><td>-1</td><td>v2</td><td>-15.0 .. 0.0</td><td>13.0</td><td>2020.8</td><td>9.316406</td><td>25.530378</td><td>bhm-mwm</td><td>AQMES-Medium</td><td>apogee_boss</td><td></td><td>2020.08.c.bhm-mwm</td><td>2020.08.c.bhm-mwm</td><td>AQM_009.32_+25.53</td><td></td></tr>\n",
       "<tr><td>15007</td><td>15004</td><td>50004</td><td>-1</td><td>v2</td><td>0.0 .. 0.0</td><td>11.0</td><td>2020.8</td><td>10.458984</td><td>-0.447628</td><td>bhm-mwm</td><td>AQMES-Medium</td><td>apogee_boss</td><td></td><td>2020.08.c.bhm-mwm</td><td>2020.08.c.bhm-mwm</td><td>AQM_010.46_-00.45</td><td></td></tr>\n",
       "<tr><td>15008</td><td>15005</td><td>50005</td><td>-1</td><td>v2</td><td>0.0 .. 0.0</td><td>11.0</td><td>2020.8</td><td>13.710938</td><td>0.820671</td><td>bhm-mwm</td><td>AQMES-Medium</td><td>apogee_boss</td><td></td><td>2020.08.c.bhm-mwm</td><td>2020.08.c.bhm-mwm</td><td>AQM_013.71_+00.82</td><td></td></tr>\n",
       "<tr><td>...</td><td>...</td><td>...</td><td>...</td><td>...</td><td>...</td><td>...</td><td>...</td><td>...</td><td>...</td><td>...</td><td>...</td><td>...</td><td>...</td><td>...</td><td>...</td><td>...</td><td>...</td></tr>\n",
       "<tr><td>15160</td><td>15161</td><td>50161</td><td>-1</td><td>v2</td><td>15.0 .. 0.0</td><td>6.0</td><td>2021.1</td><td>141.69548</td><td>3.872903</td><td>bhm-mwm</td><td>eFEDS1</td><td>apogee_boss</td><td></td><td>2020.11.a.bhm-mwm</td><td>2020.11.a.bhm-mwm</td><td>eFEDS_141.70_+03.87</td><td></td></tr>\n",
       "<tr><td>15161</td><td>15162</td><td>50162</td><td>-1</td><td>v2</td><td>15.0 .. 0.0</td><td>6.0</td><td>2021.1</td><td>142.5</td><td>-0.545113</td><td>bhm-mwm</td><td>eFEDS1</td><td>apogee_boss</td><td></td><td>2020.11.a.bhm-mwm</td><td>2020.11.a.bhm-mwm</td><td>eFEDS_142.50_-00.55</td><td></td></tr>\n",
       "<tr><td>15163</td><td>15164</td><td>50164</td><td>-1</td><td>v2</td><td>15.0 .. 0.0</td><td>7.0</td><td>2021.1</td><td>143.66617</td><td>3.872903</td><td>bhm-mwm</td><td>eFEDS1</td><td>apogee_boss</td><td></td><td>2020.11.a.bhm-mwm</td><td>2020.11.a.bhm-mwm</td><td>eFEDS_143.67_+03.87</td><td></td></tr>\n",
       "<tr><td>15164</td><td>15165</td><td>50148</td><td>-1</td><td>v2</td><td>-15.0 .. 0.0</td><td>4.0</td><td>2021.1</td><td>132.20436</td><td>-0.57288</td><td>bhm-mwm</td><td>eFEDS2</td><td>apogee_boss</td><td></td><td>2020.11.a.bhm-mwm</td><td>2020.11.a.bhm-mwm</td><td>eFEDS_132.20_-00.57</td><td></td></tr>\n",
       "<tr><td>15165</td><td>15166</td><td>50147</td><td>-1</td><td>v2</td><td>-15.0 .. 0.0</td><td>4.0</td><td>2021.1</td><td>131.95506</td><td>1.655</td><td>bhm-mwm</td><td>eFEDS2</td><td>apogee_boss</td><td></td><td>2020.11.a.bhm-mwm</td><td>2020.11.a.bhm-mwm</td><td>eFEDS_131.96_+01.66</td><td></td></tr>\n",
       "<tr><td>15166</td><td>15167</td><td>50151</td><td>-1</td><td>v2</td><td>-15.0 .. 0.0</td><td>4.0</td><td>2021.1</td><td>134.14645</td><td>-0.568862</td><td>bhm-mwm</td><td>eFEDS2</td><td>apogee_boss</td><td></td><td>2020.11.a.bhm-mwm</td><td>2020.11.a.bhm-mwm</td><td>eFEDS_134.15_-00.57</td><td></td></tr>\n",
       "<tr><td>15167</td><td>15168</td><td>50150</td><td>-1</td><td>v2</td><td>-15.0 .. 0.0</td><td>4.0</td><td>2021.1</td><td>133.89331</td><td>1.655</td><td>bhm-mwm</td><td>eFEDS2</td><td>apogee_boss</td><td></td><td>2020.11.a.bhm-mwm</td><td>2020.11.a.bhm-mwm</td><td>eFEDS_133.89_+01.66</td><td></td></tr>\n",
       "<tr><td>15168</td><td>15169</td><td>50154</td><td>-1</td><td>v2</td><td>-15.0 .. 0.0</td><td>4.0</td><td>2021.1</td><td>136.0955</td><td>-0.562903</td><td>bhm-mwm</td><td>eFEDS2</td><td>apogee_boss</td><td></td><td>2020.11.a.bhm-mwm</td><td>2020.11.a.bhm-mwm</td><td>eFEDS_136.10_-00.56</td><td></td></tr>\n",
       "<tr><td>15169</td><td>15170</td><td>50153</td><td>-1</td><td>v2</td><td>-15.0 .. 0.0</td><td>4.0</td><td>2021.1</td><td>135.83722</td><td>1.655</td><td>bhm-mwm</td><td>eFEDS2</td><td>apogee_boss</td><td></td><td>2020.11.a.bhm-mwm</td><td>2020.11.a.bhm-mwm</td><td>eFEDS_135.84_+01.66</td><td></td></tr>\n",
       "<tr><td>15170</td><td>15171</td><td>50157</td><td>-1</td><td>v2</td><td>-15.0 .. 0.0</td><td>4.0</td><td>2021.1</td><td>138.0541</td><td>-0.555033</td><td>bhm-mwm</td><td>eFEDS2</td><td>apogee_boss</td><td></td><td>2020.11.a.bhm-mwm</td><td>2020.11.a.bhm-mwm</td><td>eFEDS_138.05_-00.56</td><td></td></tr>\n",
       "</table>"
      ],
      "text/plain": [
       "<Table length=166>\n",
       "plateid designid locationid ...       chunk               name         comments\n",
       " int32   int32     int32    ...      bytes200           bytes200       bytes200\n",
       "------- -------- ---------- ... ----------------- -------------------- --------\n",
       "  90100    90100      90100 ... 2020.01.e.bhm-mwm test APOGEE and BOSS     none\n",
       "  90101    90101      90101 ...     2020.02.b.bhm        test BOSSHALF     none\n",
       "  15000    15000      50000 ... 2020.08.a.bhm-mwm           RM_XMM-LSS      100\n",
       "  15001    15000      50000 ... 2020.08.a.bhm-mwm           RM_XMM-LSS      100\n",
       "  15002    15000      50000 ... 2020.08.a.bhm-mwm           RM_XMM-LSS      100\n",
       "  15004    15001      50001 ... 2020.08.c.bhm-mwm    AQM_001.85_+26.44         \n",
       "  15005    15002      50002 ... 2020.08.c.bhm-mwm    AQM_008.53_+01.04         \n",
       "  15006    15003      50003 ... 2020.08.c.bhm-mwm    AQM_009.32_+25.53         \n",
       "  15007    15004      50004 ... 2020.08.c.bhm-mwm    AQM_010.46_-00.45         \n",
       "  15008    15005      50005 ... 2020.08.c.bhm-mwm    AQM_013.71_+00.82         \n",
       "    ...      ...        ... ...               ...                  ...      ...\n",
       "  15160    15161      50161 ... 2020.11.a.bhm-mwm  eFEDS_141.70_+03.87         \n",
       "  15161    15162      50162 ... 2020.11.a.bhm-mwm  eFEDS_142.50_-00.55         \n",
       "  15163    15164      50164 ... 2020.11.a.bhm-mwm  eFEDS_143.67_+03.87         \n",
       "  15164    15165      50148 ... 2020.11.a.bhm-mwm  eFEDS_132.20_-00.57         \n",
       "  15165    15166      50147 ... 2020.11.a.bhm-mwm  eFEDS_131.96_+01.66         \n",
       "  15166    15167      50151 ... 2020.11.a.bhm-mwm  eFEDS_134.15_-00.57         \n",
       "  15167    15168      50150 ... 2020.11.a.bhm-mwm  eFEDS_133.89_+01.66         \n",
       "  15168    15169      50154 ... 2020.11.a.bhm-mwm  eFEDS_136.10_-00.56         \n",
       "  15169    15170      50153 ... 2020.11.a.bhm-mwm  eFEDS_135.84_+01.66         \n",
       "  15170    15171      50157 ... 2020.11.a.bhm-mwm  eFEDS_138.05_-00.56         "
      ]
     },
     "execution_count": 12,
     "metadata": {},
     "output_type": "execute_result"
    }
   ],
   "source": [
    "# From the base package, you can access the full plate summary\n",
    "ppv.ppv.allplate_summary"
   ]
  },
  {
   "cell_type": "code",
   "execution_count": 13,
   "metadata": {},
   "outputs": [
    {
     "data": {
      "text/plain": [
       "['2020.08.c.bhm-mwm',\n",
       " '2020.09.a.bhm-mwm',\n",
       " '2020.10.a.mwm-bhm',\n",
       " '2020.02.b.bhm',\n",
       " '2020.11.a.bhm-mwm',\n",
       " '2020.08.a.bhm-mwm',\n",
       " '2020.10.c.mwm-bhm',\n",
       " '2020.01.e.bhm-mwm']"
      ]
     },
     "execution_count": 13,
     "metadata": {},
     "output_type": "execute_result"
    }
   ],
   "source": [
    "# You can also get a list of all available plateruns (this is handy)\n",
    "ppv.ppv.available_plateruns()"
   ]
  },
  {
   "cell_type": "markdown",
   "metadata": {},
   "source": [
    "### Plate\n",
    "- A plate holds all the relevant information of a plate, including all targets that are assigned fibers.\n",
    "\n",
    "- This class (and the Field and Platerun classes) will automagically download the relevant plugHoles files (you don't even need to think about it). \n",
    "\n"
   ]
  },
  {
   "cell_type": "code",
   "execution_count": 14,
   "metadata": {},
   "outputs": [
    {
     "data": {
      "text/html": [
       "<i>Table length=1</i>\n",
       "<table id=\"table140087196691664\" class=\"table-striped table-bordered table-condensed\">\n",
       "<thead><tr><th>plateid</th><th>designid</th><th>locationid</th><th>tileid</th><th>plateDesignVersion</th><th>ha [6]</th><th>temp</th><th>epoch</th><th>raCen</th><th>decCen</th><th>survey</th><th>programname</th><th>drillstyle</th><th>rerun</th><th>platerun</th><th>chunk</th><th>name</th><th>comments</th></tr></thead>\n",
       "<thead><tr><th>int32</th><th>int32</th><th>int32</th><th>int32</th><th>bytes20</th><th>float32</th><th>float32</th><th>float32</th><th>float64</th><th>float64</th><th>bytes20</th><th>bytes40</th><th>bytes20</th><th>bytes50</th><th>bytes200</th><th>bytes200</th><th>bytes200</th><th>bytes200</th></tr></thead>\n",
       "<tr><td>15004</td><td>15001</td><td>50001</td><td>-1</td><td>v2</td><td>-15.0 .. 0.0</td><td>13.0</td><td>2020.8</td><td>1.845703</td><td>26.443334</td><td>bhm-mwm</td><td>AQMES-Medium</td><td>apogee_boss</td><td></td><td>2020.08.c.bhm-mwm</td><td>2020.08.c.bhm-mwm</td><td>AQM_001.85_+26.44</td><td></td></tr>\n",
       "</table>"
      ],
      "text/plain": [
       "<Table length=1>\n",
       "plateid designid locationid ...       chunk              name       comments\n",
       " int32   int32     int32    ...      bytes200          bytes200     bytes200\n",
       "------- -------- ---------- ... ----------------- ----------------- --------\n",
       "  15004    15001      50001 ... 2020.08.c.bhm-mwm AQM_001.85_+26.44         "
      ]
     },
     "execution_count": 14,
     "metadata": {},
     "output_type": "execute_result"
    }
   ],
   "source": [
    "# let's say I am interested in plate 15004. Let's look at the plate summary.\n",
    "ppv.ppv.allplate_summary[ppv.ppv.allplate_summary['plateid'] == 15004]"
   ]
  },
  {
   "cell_type": "code",
   "execution_count": 15,
   "metadata": {},
   "outputs": [],
   "source": [
    "from ppv.plate import Plate"
   ]
  },
  {
   "cell_type": "code",
   "execution_count": 16,
   "metadata": {},
   "outputs": [
    {
     "name": "stdout",
     "output_type": "stream",
     "text": [
      "Plate: 15004; RA: 1.845703; Dec: 26.443334\n"
     ]
    }
   ],
   "source": [
    "# Let's load plate 15004 and automatically download the file if it's missing.\n",
    "\n",
    "p15004 = Plate(15004)\n",
    "print(p15004)  # show the plate center and ID\n",
    "\n",
    "# It will take just a few seconds to download if needed.\n",
    "# This will only need to happen once for every \"plate batch\"\n",
    "# which is every ~50 plates (at least one platerun)"
   ]
  },
  {
   "cell_type": "markdown",
   "metadata": {},
   "source": [
    "Viola!"
   ]
  },
  {
   "cell_type": "code",
   "execution_count": 17,
   "metadata": {},
   "outputs": [
    {
     "data": {
      "text/html": [
       "<i>Table length=835</i>\n",
       "<table id=\"table140087305719280\" class=\"table-striped table-bordered table-condensed\">\n",
       "<thead><tr><th>target_ra</th><th>target_dec</th><th>holetype</th><th>targettype</th><th>catalogid</th><th>tmass_id</th><th>firstcarton</th><th>tmass_h</th><th>gaia_g</th><th>gaia_rp</th><th>gaia_bp</th><th>epoch</th><th>plate</th></tr></thead>\n",
       "<thead><tr><th>float64</th><th>float64</th><th>str13</th><th>str8</th><th>uint64</th><th>str23</th><th>str19</th><th>float64</th><th>float64</th><th>float64</th><th>float64</th><th>float64</th><th>int64</th></tr></thead>\n",
       "<tr><td>0.0</td><td>0.0</td><td>CENTER</td><td>NA</td><td>0</td><td>NA</td><td>NA</td><td>-9999.0</td><td>0.0</td><td>0.0</td><td>0.0</td><td>2020.8</td><td>15004</td></tr>\n",
       "<tr><td>1.6147172</td><td>25.346089</td><td>GUIDE</td><td>NA</td><td>0</td><td>NA</td><td>NA</td><td>-9999.0</td><td>0.0</td><td>0.0</td><td>0.0</td><td>2020.8</td><td>15004</td></tr>\n",
       "<tr><td>1.3540637</td><td>25.25106</td><td>GUIDE</td><td>NA</td><td>0</td><td>NA</td><td>NA</td><td>-9999.0</td><td>0.0</td><td>0.0</td><td>0.0</td><td>2020.8</td><td>15004</td></tr>\n",
       "<tr><td>3.4226756</td><td>26.173419</td><td>GUIDE</td><td>NA</td><td>0</td><td>NA</td><td>NA</td><td>-9999.0</td><td>0.0</td><td>0.0</td><td>0.0</td><td>2020.8</td><td>15004</td></tr>\n",
       "<tr><td>2.5636147</td><td>25.779416</td><td>GUIDE</td><td>NA</td><td>0</td><td>NA</td><td>NA</td><td>-9999.0</td><td>0.0</td><td>0.0</td><td>0.0</td><td>2020.8</td><td>15004</td></tr>\n",
       "<tr><td>1.8298627</td><td>26.282657</td><td>GUIDE</td><td>NA</td><td>0</td><td>NA</td><td>NA</td><td>-9999.0</td><td>0.0</td><td>0.0</td><td>0.0</td><td>2020.8</td><td>15004</td></tr>\n",
       "<tr><td>1.155292</td><td>25.855929</td><td>GUIDE</td><td>NA</td><td>0</td><td>NA</td><td>NA</td><td>-9999.0</td><td>0.0</td><td>0.0</td><td>0.0</td><td>2020.8</td><td>15004</td></tr>\n",
       "<tr><td>0.58210083</td><td>26.035824</td><td>GUIDE</td><td>NA</td><td>0</td><td>NA</td><td>NA</td><td>-9999.0</td><td>0.0</td><td>0.0</td><td>0.0</td><td>2020.8</td><td>15004</td></tr>\n",
       "<tr><td>0.0</td><td>0.0</td><td>ALIGNMENT</td><td>NA</td><td>0</td><td>NA</td><td>NA</td><td>-9999.0</td><td>0.0</td><td>0.0</td><td>0.0</td><td>2011.0</td><td>15004</td></tr>\n",
       "<tr><td>2.042921</td><td>25.30027</td><td>APOGEE_SHARED</td><td>standard</td><td>0</td><td>2MASS-J00081030+2518009</td><td>None</td><td>7.669</td><td>-9.99999</td><td>-9.99999</td><td>-9.99999</td><td>2020.8</td><td>15004</td></tr>\n",
       "<tr><td>...</td><td>...</td><td>...</td><td>...</td><td>...</td><td>...</td><td>...</td><td>...</td><td>...</td><td>...</td><td>...</td><td>...</td><td>...</td></tr>\n",
       "<tr><td>0.8500671</td><td>27.481777</td><td>BOSS_SHARED</td><td>sky</td><td>7617384494</td><td>None</td><td>ops_sky_boss</td><td>-9.99999</td><td>-9.99999</td><td>-9.99999</td><td>-9.99999</td><td>2020.8</td><td>15004</td></tr>\n",
       "<tr><td>0.8555603</td><td>27.523831</td><td>BOSS_SHARED</td><td>sky</td><td>7617384501</td><td>None</td><td>ops_sky_boss</td><td>-9.99999</td><td>-9.99999</td><td>-9.99999</td><td>-9.99999</td><td>2020.8</td><td>15004</td></tr>\n",
       "<tr><td>1.3238525</td><td>27.362272</td><td>BOSS_SHARED</td><td>sky</td><td>7617384590</td><td>None</td><td>ops_sky_boss</td><td>-9.99999</td><td>-9.99999</td><td>-9.99999</td><td>-9.99999</td><td>2020.8</td><td>15004</td></tr>\n",
       "<tr><td>1.3005066</td><td>27.410846</td><td>APOGEE_SHARED</td><td>sky</td><td>7617384603</td><td>None</td><td>ops_sky_apogee</td><td>-9.99999</td><td>-9.99999</td><td>-9.99999</td><td>-9.99999</td><td>2020.8</td><td>15004</td></tr>\n",
       "<tr><td>1.3348389</td><td>27.71196</td><td>BOSS_SHARED</td><td>sky</td><td>7617384686</td><td>None</td><td>ops_sky_boss</td><td>-9.99999</td><td>-9.99999</td><td>-9.99999</td><td>-9.99999</td><td>2020.8</td><td>15004</td></tr>\n",
       "<tr><td>1.8814087</td><td>27.780451</td><td>BOSS_SHARED</td><td>sky</td><td>7617384731</td><td>None</td><td>ops_sky_boss</td><td>-9.99999</td><td>-9.99999</td><td>-9.99999</td><td>-9.99999</td><td>2020.8</td><td>15004</td></tr>\n",
       "<tr><td>1.8869019</td><td>27.888544</td><td>BOSS_SHARED</td><td>sky</td><td>7617384757</td><td>None</td><td>ops_sky_boss</td><td>-9.99999</td><td>-9.99999</td><td>-9.99999</td><td>-9.99999</td><td>2020.8</td><td>15004</td></tr>\n",
       "<tr><td>3.3851624</td><td>26.795386</td><td>APOGEE_SHARED</td><td>sky</td><td>7617394337</td><td>None</td><td>ops_sky_apogee</td><td>-9.99999</td><td>-9.99999</td><td>-9.99999</td><td>-9.99999</td><td>2020.8</td><td>15004</td></tr>\n",
       "<tr><td>3.0157471</td><td>27.273055</td><td>APOGEE_SHARED</td><td>sky</td><td>7617394652</td><td>None</td><td>ops_sky_apogee</td><td>-9.99999</td><td>-9.99999</td><td>-9.99999</td><td>-9.99999</td><td>2020.8</td><td>15004</td></tr>\n",
       "<tr><td>3.0445862</td><td>27.439738</td><td>APOGEE_SHARED</td><td>sky</td><td>7617394692</td><td>None</td><td>ops_sky_apogee</td><td>-9.99999</td><td>-9.99999</td><td>-9.99999</td><td>-9.99999</td><td>2020.8</td><td>15004</td></tr>\n",
       "</table>"
      ],
      "text/plain": [
       "<Table length=835>\n",
       "target_ra  target_dec    holetype   targettype ... gaia_bp   epoch  plate\n",
       " float64    float64       str13        str8    ... float64  float64 int64\n",
       "---------- ---------- ------------- ---------- ... -------- ------- -----\n",
       "       0.0        0.0        CENTER         NA ...      0.0  2020.8 15004\n",
       " 1.6147172  25.346089         GUIDE         NA ...      0.0  2020.8 15004\n",
       " 1.3540637   25.25106         GUIDE         NA ...      0.0  2020.8 15004\n",
       " 3.4226756  26.173419         GUIDE         NA ...      0.0  2020.8 15004\n",
       " 2.5636147  25.779416         GUIDE         NA ...      0.0  2020.8 15004\n",
       " 1.8298627  26.282657         GUIDE         NA ...      0.0  2020.8 15004\n",
       "  1.155292  25.855929         GUIDE         NA ...      0.0  2020.8 15004\n",
       "0.58210083  26.035824         GUIDE         NA ...      0.0  2020.8 15004\n",
       "       0.0        0.0     ALIGNMENT         NA ...      0.0  2011.0 15004\n",
       "  2.042921   25.30027 APOGEE_SHARED   standard ... -9.99999  2020.8 15004\n",
       "       ...        ...           ...        ... ...      ...     ...   ...\n",
       " 0.8500671  27.481777   BOSS_SHARED        sky ... -9.99999  2020.8 15004\n",
       " 0.8555603  27.523831   BOSS_SHARED        sky ... -9.99999  2020.8 15004\n",
       " 1.3238525  27.362272   BOSS_SHARED        sky ... -9.99999  2020.8 15004\n",
       " 1.3005066  27.410846 APOGEE_SHARED        sky ... -9.99999  2020.8 15004\n",
       " 1.3348389   27.71196   BOSS_SHARED        sky ... -9.99999  2020.8 15004\n",
       " 1.8814087  27.780451   BOSS_SHARED        sky ... -9.99999  2020.8 15004\n",
       " 1.8869019  27.888544   BOSS_SHARED        sky ... -9.99999  2020.8 15004\n",
       " 3.3851624  26.795386 APOGEE_SHARED        sky ... -9.99999  2020.8 15004\n",
       " 3.0157471  27.273055 APOGEE_SHARED        sky ... -9.99999  2020.8 15004\n",
       " 3.0445862  27.439738 APOGEE_SHARED        sky ... -9.99999  2020.8 15004"
      ]
     },
     "execution_count": 17,
     "metadata": {},
     "output_type": "execute_result"
    }
   ],
   "source": [
    "p15004.targets  # this is a table containing all the positions that are assigned fibers in the plate"
   ]
  },
  {
   "cell_type": "markdown",
   "metadata": {},
   "source": [
    "### Field\n",
    "- A field represents a FOV on the sky. It has a center position\n",
    "- All fields contain at least one plate\n",
    "- If you want to know about targets at a particular position in the sky, you should do so by Field; the Plates within a field could be checked for multiple observations."
   ]
  },
  {
   "cell_type": "code",
   "execution_count": 18,
   "metadata": {},
   "outputs": [],
   "source": [
    "from ppv.groups import Field"
   ]
  },
  {
   "cell_type": "code",
   "execution_count": 19,
   "metadata": {},
   "outputs": [
    {
     "data": {
      "text/html": [
       "<i>Table length=1</i>\n",
       "<table id=\"table140087223999888\" class=\"table-striped table-bordered table-condensed\">\n",
       "<thead><tr><th>plateid</th><th>designid</th><th>locationid</th><th>tileid</th><th>plateDesignVersion</th><th>ha [6]</th><th>temp</th><th>epoch</th><th>raCen</th><th>decCen</th><th>survey</th><th>programname</th><th>drillstyle</th><th>rerun</th><th>platerun</th><th>chunk</th><th>name</th><th>comments</th></tr></thead>\n",
       "<thead><tr><th>int32</th><th>int32</th><th>int32</th><th>int32</th><th>bytes20</th><th>float32</th><th>float32</th><th>float32</th><th>float64</th><th>float64</th><th>bytes20</th><th>bytes40</th><th>bytes20</th><th>bytes50</th><th>bytes200</th><th>bytes200</th><th>bytes200</th><th>bytes200</th></tr></thead>\n",
       "<tr><td>15004</td><td>15001</td><td>50001</td><td>-1</td><td>v2</td><td>-15.0 .. 0.0</td><td>13.0</td><td>2020.8</td><td>1.845703</td><td>26.443334</td><td>bhm-mwm</td><td>AQMES-Medium</td><td>apogee_boss</td><td></td><td>2020.08.c.bhm-mwm</td><td>2020.08.c.bhm-mwm</td><td>AQM_001.85_+26.44</td><td></td></tr>\n",
       "</table>"
      ],
      "text/plain": [
       "<Table length=1>\n",
       "plateid designid locationid ...       chunk              name       comments\n",
       " int32   int32     int32    ...      bytes200          bytes200     bytes200\n",
       "------- -------- ---------- ... ----------------- ----------------- --------\n",
       "  15004    15001      50001 ... 2020.08.c.bhm-mwm AQM_001.85_+26.44         "
      ]
     },
     "execution_count": 19,
     "metadata": {},
     "output_type": "execute_result"
    }
   ],
   "source": [
    "# Let's look at the information for plate 15004 again\n",
    "ppv.ppv.allplate_summary[ppv.ppv.allplate_summary['plateid'] == 15004]"
   ]
  },
  {
   "cell_type": "code",
   "execution_count": 20,
   "metadata": {},
   "outputs": [
    {
     "name": "stdout",
     "output_type": "stream",
     "text": [
      "AQM_001.85_+26.44\n"
     ]
    }
   ],
   "source": [
    "# The field name for plate 15004 is \n",
    "field_name = ppv.ppv.allplate_summary['name'][ppv.ppv.allplate_summary['plateid'] == 15004][0]  # [0] indx just turns column into the data entry\n",
    "print(field_name)"
   ]
  },
  {
   "cell_type": "code",
   "execution_count": 21,
   "metadata": {},
   "outputs": [
    {
     "name": "stdout",
     "output_type": "stream",
     "text": [
      "Field: 'AQM_001.85_+26.44', RA: 1.845703, Dec: 26.443334\n",
      "Plate Numbers: [15004]\n"
     ]
    }
   ],
   "source": [
    "example_field = Field(field_name)\n",
    "print(example_field)"
   ]
  },
  {
   "cell_type": "code",
   "execution_count": 22,
   "metadata": {},
   "outputs": [
    {
     "data": {
      "text/plain": [
       "'AQMES-Medium'"
      ]
     },
     "execution_count": 22,
     "metadata": {},
     "output_type": "execute_result"
    }
   ],
   "source": [
    "# We can see the program that submitted the field center\n",
    "example_field.programname"
   ]
  },
  {
   "cell_type": "code",
   "execution_count": 23,
   "metadata": {},
   "outputs": [
    {
     "data": {
      "text/plain": [
       "[Plate(15004)]"
      ]
     },
     "execution_count": 23,
     "metadata": {},
     "output_type": "execute_result"
    }
   ],
   "source": [
    "# The plates associated with the field\n",
    "example_field.plates\n",
    "# Just the one plate for this field\n",
    "# Note, this is the full Plates object"
   ]
  },
  {
   "cell_type": "code",
   "execution_count": 24,
   "metadata": {},
   "outputs": [
    {
     "data": {
      "text/html": [
       "<i>Table length=835</i>\n",
       "<table id=\"table140087210511424\" class=\"table-striped table-bordered table-condensed\">\n",
       "<thead><tr><th>target_ra</th><th>target_dec</th><th>holetype</th><th>targettype</th><th>catalogid</th><th>tmass_id</th><th>firstcarton</th><th>tmass_h</th><th>gaia_g</th><th>gaia_rp</th><th>gaia_bp</th><th>epoch</th><th>plate</th><th>field</th></tr></thead>\n",
       "<thead><tr><th>float64</th><th>float64</th><th>str13</th><th>str8</th><th>uint64</th><th>str23</th><th>str19</th><th>float64</th><th>float64</th><th>float64</th><th>float64</th><th>float64</th><th>int64</th><th>bytes200</th></tr></thead>\n",
       "<tr><td>0.0</td><td>0.0</td><td>CENTER</td><td>NA</td><td>0</td><td>NA</td><td>NA</td><td>-9999.0</td><td>0.0</td><td>0.0</td><td>0.0</td><td>2020.8</td><td>15004</td><td>AQM_001.85_+26.44</td></tr>\n",
       "<tr><td>0.0</td><td>0.0</td><td>ALIGNMENT</td><td>NA</td><td>0</td><td>NA</td><td>NA</td><td>-9999.0</td><td>0.0</td><td>0.0</td><td>0.0</td><td>2011.0</td><td>15004</td><td>AQM_001.85_+26.44</td></tr>\n",
       "<tr><td>0.0</td><td>0.0</td><td>ALIGNMENT</td><td>NA</td><td>0</td><td>NA</td><td>NA</td><td>-9999.0</td><td>0.0</td><td>0.0</td><td>0.0</td><td>2011.0</td><td>15004</td><td>AQM_001.85_+26.44</td></tr>\n",
       "<tr><td>0.0</td><td>0.0</td><td>ALIGNMENT</td><td>NA</td><td>0</td><td>NA</td><td>NA</td><td>-9999.0</td><td>0.0</td><td>0.0</td><td>0.0</td><td>2011.0</td><td>15004</td><td>AQM_001.85_+26.44</td></tr>\n",
       "<tr><td>0.0</td><td>0.0</td><td>ALIGNMENT</td><td>NA</td><td>0</td><td>NA</td><td>NA</td><td>-9999.0</td><td>0.0</td><td>0.0</td><td>0.0</td><td>2011.0</td><td>15004</td><td>AQM_001.85_+26.44</td></tr>\n",
       "<tr><td>0.0</td><td>0.0</td><td>ALIGNMENT</td><td>NA</td><td>0</td><td>NA</td><td>NA</td><td>-9999.0</td><td>0.0</td><td>0.0</td><td>0.0</td><td>2011.0</td><td>15004</td><td>AQM_001.85_+26.44</td></tr>\n",
       "<tr><td>0.0</td><td>0.0</td><td>ALIGNMENT</td><td>NA</td><td>0</td><td>NA</td><td>NA</td><td>-9999.0</td><td>0.0</td><td>0.0</td><td>0.0</td><td>2011.0</td><td>15004</td><td>AQM_001.85_+26.44</td></tr>\n",
       "<tr><td>0.0</td><td>0.0</td><td>ALIGNMENT</td><td>NA</td><td>0</td><td>NA</td><td>NA</td><td>-9999.0</td><td>0.0</td><td>0.0</td><td>0.0</td><td>2011.0</td><td>15004</td><td>AQM_001.85_+26.44</td></tr>\n",
       "<tr><td>0.0</td><td>0.0</td><td>ALIGNMENT</td><td>NA</td><td>0</td><td>NA</td><td>NA</td><td>-9999.0</td><td>0.0</td><td>0.0</td><td>0.0</td><td>2011.0</td><td>15004</td><td>AQM_001.85_+26.44</td></tr>\n",
       "<tr><td>0.0</td><td>0.0</td><td>ALIGNMENT</td><td>NA</td><td>0</td><td>NA</td><td>NA</td><td>-9999.0</td><td>0.0</td><td>0.0</td><td>0.0</td><td>2011.0</td><td>15004</td><td>AQM_001.85_+26.44</td></tr>\n",
       "<tr><td>...</td><td>...</td><td>...</td><td>...</td><td>...</td><td>...</td><td>...</td><td>...</td><td>...</td><td>...</td><td>...</td><td>...</td><td>...</td><td>...</td></tr>\n",
       "<tr><td>0.8500671</td><td>27.481777</td><td>BOSS_SHARED</td><td>sky</td><td>7617384494</td><td>None</td><td>ops_sky_boss</td><td>-9.99999</td><td>-9.99999</td><td>-9.99999</td><td>-9.99999</td><td>2020.8</td><td>15004</td><td>AQM_001.85_+26.44</td></tr>\n",
       "<tr><td>0.8555603</td><td>27.523831</td><td>BOSS_SHARED</td><td>sky</td><td>7617384501</td><td>None</td><td>ops_sky_boss</td><td>-9.99999</td><td>-9.99999</td><td>-9.99999</td><td>-9.99999</td><td>2020.8</td><td>15004</td><td>AQM_001.85_+26.44</td></tr>\n",
       "<tr><td>1.3238525</td><td>27.362272</td><td>BOSS_SHARED</td><td>sky</td><td>7617384590</td><td>None</td><td>ops_sky_boss</td><td>-9.99999</td><td>-9.99999</td><td>-9.99999</td><td>-9.99999</td><td>2020.8</td><td>15004</td><td>AQM_001.85_+26.44</td></tr>\n",
       "<tr><td>1.3005066</td><td>27.410846</td><td>APOGEE_SHARED</td><td>sky</td><td>7617384603</td><td>None</td><td>ops_sky_apogee</td><td>-9.99999</td><td>-9.99999</td><td>-9.99999</td><td>-9.99999</td><td>2020.8</td><td>15004</td><td>AQM_001.85_+26.44</td></tr>\n",
       "<tr><td>1.3348389</td><td>27.71196</td><td>BOSS_SHARED</td><td>sky</td><td>7617384686</td><td>None</td><td>ops_sky_boss</td><td>-9.99999</td><td>-9.99999</td><td>-9.99999</td><td>-9.99999</td><td>2020.8</td><td>15004</td><td>AQM_001.85_+26.44</td></tr>\n",
       "<tr><td>1.8814087</td><td>27.780451</td><td>BOSS_SHARED</td><td>sky</td><td>7617384731</td><td>None</td><td>ops_sky_boss</td><td>-9.99999</td><td>-9.99999</td><td>-9.99999</td><td>-9.99999</td><td>2020.8</td><td>15004</td><td>AQM_001.85_+26.44</td></tr>\n",
       "<tr><td>1.8869019</td><td>27.888544</td><td>BOSS_SHARED</td><td>sky</td><td>7617384757</td><td>None</td><td>ops_sky_boss</td><td>-9.99999</td><td>-9.99999</td><td>-9.99999</td><td>-9.99999</td><td>2020.8</td><td>15004</td><td>AQM_001.85_+26.44</td></tr>\n",
       "<tr><td>3.3851624</td><td>26.795386</td><td>APOGEE_SHARED</td><td>sky</td><td>7617394337</td><td>None</td><td>ops_sky_apogee</td><td>-9.99999</td><td>-9.99999</td><td>-9.99999</td><td>-9.99999</td><td>2020.8</td><td>15004</td><td>AQM_001.85_+26.44</td></tr>\n",
       "<tr><td>3.0157471</td><td>27.273055</td><td>APOGEE_SHARED</td><td>sky</td><td>7617394652</td><td>None</td><td>ops_sky_apogee</td><td>-9.99999</td><td>-9.99999</td><td>-9.99999</td><td>-9.99999</td><td>2020.8</td><td>15004</td><td>AQM_001.85_+26.44</td></tr>\n",
       "<tr><td>3.0445862</td><td>27.439738</td><td>APOGEE_SHARED</td><td>sky</td><td>7617394692</td><td>None</td><td>ops_sky_apogee</td><td>-9.99999</td><td>-9.99999</td><td>-9.99999</td><td>-9.99999</td><td>2020.8</td><td>15004</td><td>AQM_001.85_+26.44</td></tr>\n",
       "</table>"
      ],
      "text/plain": [
       "<Table length=835>\n",
       "target_ra target_dec    holetype   ...  epoch  plate       field      \n",
       " float64   float64       str13     ... float64 int64      bytes200    \n",
       "--------- ---------- ------------- ... ------- ----- -----------------\n",
       "      0.0        0.0        CENTER ...  2020.8 15004 AQM_001.85_+26.44\n",
       "      0.0        0.0     ALIGNMENT ...  2011.0 15004 AQM_001.85_+26.44\n",
       "      0.0        0.0     ALIGNMENT ...  2011.0 15004 AQM_001.85_+26.44\n",
       "      0.0        0.0     ALIGNMENT ...  2011.0 15004 AQM_001.85_+26.44\n",
       "      0.0        0.0     ALIGNMENT ...  2011.0 15004 AQM_001.85_+26.44\n",
       "      0.0        0.0     ALIGNMENT ...  2011.0 15004 AQM_001.85_+26.44\n",
       "      0.0        0.0     ALIGNMENT ...  2011.0 15004 AQM_001.85_+26.44\n",
       "      0.0        0.0     ALIGNMENT ...  2011.0 15004 AQM_001.85_+26.44\n",
       "      0.0        0.0     ALIGNMENT ...  2011.0 15004 AQM_001.85_+26.44\n",
       "      0.0        0.0     ALIGNMENT ...  2011.0 15004 AQM_001.85_+26.44\n",
       "      ...        ...           ... ...     ...   ...               ...\n",
       "0.8500671  27.481777   BOSS_SHARED ...  2020.8 15004 AQM_001.85_+26.44\n",
       "0.8555603  27.523831   BOSS_SHARED ...  2020.8 15004 AQM_001.85_+26.44\n",
       "1.3238525  27.362272   BOSS_SHARED ...  2020.8 15004 AQM_001.85_+26.44\n",
       "1.3005066  27.410846 APOGEE_SHARED ...  2020.8 15004 AQM_001.85_+26.44\n",
       "1.3348389   27.71196   BOSS_SHARED ...  2020.8 15004 AQM_001.85_+26.44\n",
       "1.8814087  27.780451   BOSS_SHARED ...  2020.8 15004 AQM_001.85_+26.44\n",
       "1.8869019  27.888544   BOSS_SHARED ...  2020.8 15004 AQM_001.85_+26.44\n",
       "3.3851624  26.795386 APOGEE_SHARED ...  2020.8 15004 AQM_001.85_+26.44\n",
       "3.0157471  27.273055 APOGEE_SHARED ...  2020.8 15004 AQM_001.85_+26.44\n",
       "3.0445862  27.439738 APOGEE_SHARED ...  2020.8 15004 AQM_001.85_+26.44"
      ]
     },
     "execution_count": 24,
     "metadata": {},
     "output_type": "execute_result"
    }
   ],
   "source": [
    "# There is also a targets property, which contains all the target information for assigned fibers in this field\n",
    "# If there was more than one plate for this field, this table would a concatenation of all plates.\n",
    "example_field.targets  # Almost identical to the Plate.targets table, except for a column showing the field name."
   ]
  },
  {
   "cell_type": "markdown",
   "metadata": {},
   "source": [
    "### Platerun\n",
    "- A Platerun is simply a collection of fields (as a field is a collection of plates).\n"
   ]
  },
  {
   "cell_type": "code",
   "execution_count": 25,
   "metadata": {},
   "outputs": [],
   "source": [
    "from ppv.groups import Platerun"
   ]
  },
  {
   "cell_type": "code",
   "execution_count": 26,
   "metadata": {},
   "outputs": [
    {
     "data": {
      "text/plain": [
       "['2020.08.c.bhm-mwm',\n",
       " '2020.09.a.bhm-mwm',\n",
       " '2020.10.a.mwm-bhm',\n",
       " '2020.02.b.bhm',\n",
       " '2020.11.a.bhm-mwm',\n",
       " '2020.08.a.bhm-mwm',\n",
       " '2020.10.c.mwm-bhm',\n",
       " '2020.01.e.bhm-mwm']"
      ]
     },
     "execution_count": 26,
     "metadata": {},
     "output_type": "execute_result"
    }
   ],
   "source": [
    "# Let's check available plateruns again\n",
    "ppv.ppv.available_plateruns()"
   ]
  },
  {
   "cell_type": "code",
   "execution_count": 27,
   "metadata": {},
   "outputs": [],
   "source": [
    "platerun_08c = Platerun('2020.08.c.bhm-mwm')  "
   ]
  },
  {
   "cell_type": "code",
   "execution_count": 28,
   "metadata": {},
   "outputs": [
    {
     "name": "stdout",
     "output_type": "stream",
     "text": [
      "34 fields in prun_c\n",
      "\n",
      "[Field('AQM_001.85_+26.44'), Field('AQM_008.53_+01.04'), Field('AQM_009.32_+25.53'), Field('AQM_010.46_-00.45'), Field('AQM_013.71_+00.82'), Field('AQM_019.60_-00.75'), Field('AQM_021.01_+14.79'), Field('AQM_022.15_+00.52'), Field('AQM_024.61_-00.52'), Field('AQM_028.56_+00.15'), Field('AQM_038.50_+00.82'), Field('AQM_040.87_-00.60'), Field('AQM_321.68_-00.67'), Field('AQM_334.95_+00.90'), Field('AQM_344.18_+19.23'), Field('AQM_354.46_-00.45'), Field('AQM_357.10_+00.00'), Field('AQM_359.38_+00.15'), Field('AQW_114.81_+29.83'), Field('AQW_115.68_+38.10'), Field('AQW_116.50_+31.59'), Field('AQW_117.80_+29.33'), Field('AQW_118.85_+37.42'), Field('AQW_119.07_+27.14'), Field('AQW_120.08_+35.03'), Field('AQW_121.38_+32.85'), Field('AQW_122.06_+26.83'), Field('AQW_123.29_+34.70'), Field('AQW_123.88_+38.85'), Field('AQW_335.65_+20.42'), Field('AQW_339.26_+24.05'), Field('AQW_340.05_+26.61'), Field('AQW_351.04_+24.38'), Field('AQW_353.58_+23.97')]\n"
     ]
    }
   ],
   "source": [
    "# When you access the fields of a platerun, they get loaded from disk.\n",
    "# This takes approximately 1 second per field on my laptop. You only need to do this ONCE per session.\n",
    "print(f'{len(platerun_08c.fields)} fields in prun_c\\n')\n",
    "print(platerun_08c.fields)\n",
    "# ~ 30 fields"
   ]
  },
  {
   "cell_type": "code",
   "execution_count": 29,
   "metadata": {},
   "outputs": [
    {
     "name": "stdout",
     "output_type": "stream",
     "text": [
      "       name      \n",
      "-----------------\n",
      "AQM_001.85_+26.44\n",
      "AQM_008.53_+01.04\n",
      "AQM_009.32_+25.53\n",
      "AQM_010.46_-00.45\n",
      "AQM_013.71_+00.82\n",
      "AQM_019.60_-00.75\n",
      "AQM_021.01_+14.79\n",
      "AQM_022.15_+00.52\n",
      "AQM_024.61_-00.52\n",
      "AQM_028.56_+00.15\n",
      "              ...\n",
      "AQW_119.07_+27.14\n",
      "AQW_120.08_+35.03\n",
      "AQW_121.38_+32.85\n",
      "AQW_122.06_+26.83\n",
      "AQW_123.29_+34.70\n",
      "AQW_123.88_+38.85\n",
      "AQW_335.65_+20.42\n",
      "AQW_339.26_+24.05\n",
      "AQW_340.05_+26.61\n",
      "AQW_351.04_+24.38\n",
      "AQW_353.58_+23.97\n",
      "Length = 34 rows\n",
      "plateid designid locationid ...       chunk              name       comments\n",
      "------- -------- ---------- ... ----------------- ----------------- --------\n",
      "  15004    15001      50001 ... 2020.08.c.bhm-mwm AQM_001.85_+26.44         \n",
      "  15005    15002      50002 ... 2020.08.c.bhm-mwm AQM_008.53_+01.04         \n",
      "  15006    15003      50003 ... 2020.08.c.bhm-mwm AQM_009.32_+25.53         \n",
      "  15007    15004      50004 ... 2020.08.c.bhm-mwm AQM_010.46_-00.45         \n",
      "  15008    15005      50005 ... 2020.08.c.bhm-mwm AQM_013.71_+00.82         \n",
      "  15009    15006      50006 ... 2020.08.c.bhm-mwm AQM_019.60_-00.75         \n",
      "  15010    15007      50007 ... 2020.08.c.bhm-mwm AQM_021.01_+14.79         \n",
      "  15011    15008      50008 ... 2020.08.c.bhm-mwm AQM_022.15_+00.52         \n",
      "  15012    15009      50009 ... 2020.08.c.bhm-mwm AQM_024.61_-00.52         \n",
      "  15013    15010      50010 ... 2020.08.c.bhm-mwm AQM_028.56_+00.15         \n",
      "    ...      ...        ... ...               ...               ...      ...\n",
      "  15027    15024      50024 ... 2020.08.c.bhm-mwm AQM_321.68_-00.67         \n",
      "  15028    15025      50025 ... 2020.08.c.bhm-mwm AQM_344.18_+19.23         \n",
      "  15029    15026      50026 ... 2020.08.c.bhm-mwm AQM_334.95_+00.90         \n",
      "  15030    15027      50027 ... 2020.08.c.bhm-mwm AQW_335.65_+20.42         \n",
      "  15031    15028      50028 ... 2020.08.c.bhm-mwm AQW_339.26_+24.05         \n",
      "  15032    15029      50029 ... 2020.08.c.bhm-mwm AQW_340.05_+26.61         \n",
      "  15033    15030      50030 ... 2020.08.c.bhm-mwm AQM_354.46_-00.45         \n",
      "  15034    15031      50031 ... 2020.08.c.bhm-mwm AQM_357.10_+00.00         \n",
      "  15035    15032      50032 ... 2020.08.c.bhm-mwm AQM_359.38_+00.15         \n",
      "  15036    15033      50033 ... 2020.08.c.bhm-mwm AQW_351.04_+24.38         \n",
      "  15037    15034      50034 ... 2020.08.c.bhm-mwm AQW_353.58_+23.97         \n",
      "Length = 34 rows\n"
     ]
    }
   ],
   "source": [
    "# other handy things\n",
    "print(platerun_08c.fieldnames)  # just get the field names associated with the plate run.\n",
    "print(platerun_08c.platesummary) # print the part of the allplate_summary that contains this plate run."
   ]
  },
  {
   "cell_type": "code",
   "execution_count": 30,
   "metadata": {},
   "outputs": [
    {
     "name": "stdout",
     "output_type": "stream",
     "text": [
      "Please be patient.\n",
      "                      Initial target loading can take up to 1 second per field.\n",
      "                      Loading target data from 34 Fields...\n"
     ]
    },
    {
     "data": {
      "text/html": [
       "<i>Table length=28400</i>\n",
       "<table id=\"table140088492614224\" class=\"table-striped table-bordered table-condensed\">\n",
       "<thead><tr><th>target_ra</th><th>target_dec</th><th>holetype</th><th>targettype</th><th>catalogid</th><th>tmass_id</th><th>firstcarton</th><th>tmass_h</th><th>gaia_g</th><th>gaia_rp</th><th>gaia_bp</th><th>epoch</th><th>plate</th><th>field</th></tr></thead>\n",
       "<thead><tr><th>float64</th><th>float64</th><th>str13</th><th>str8</th><th>uint64</th><th>str23</th><th>str21</th><th>float64</th><th>float64</th><th>float64</th><th>float64</th><th>float64</th><th>int64</th><th>bytes200</th></tr></thead>\n",
       "<tr><td>0.0</td><td>0.0</td><td>CENTER</td><td>NA</td><td>0</td><td>NA</td><td>NA</td><td>-9999.0</td><td>0.0</td><td>0.0</td><td>0.0</td><td>2020.8</td><td>15004</td><td>AQM_001.85_+26.44</td></tr>\n",
       "<tr><td>0.0</td><td>0.0</td><td>ALIGNMENT</td><td>NA</td><td>0</td><td>NA</td><td>NA</td><td>-9999.0</td><td>0.0</td><td>0.0</td><td>0.0</td><td>2011.0</td><td>15027</td><td>AQM_321.68_-00.67</td></tr>\n",
       "<tr><td>321.14337</td><td>-1.718298</td><td>APOGEE_SHARED</td><td>standard</td><td>0</td><td>2MASS-J21243440-0143058</td><td>None</td><td>9.203</td><td>-9.99999</td><td>-9.99999</td><td>-9.99999</td><td>2020.8</td><td>15027</td><td>AQM_321.68_-00.67</td></tr>\n",
       "<tr><td>320.65423</td><td>-1.020137</td><td>APOGEE_SHARED</td><td>standard</td><td>0</td><td>2MASS-J21223701-0101124</td><td>None</td><td>7.696</td><td>-9.99999</td><td>-9.99999</td><td>-9.99999</td><td>2020.8</td><td>15027</td><td>AQM_321.68_-00.67</td></tr>\n",
       "<tr><td>322.67429</td><td>-0.3940913</td><td>GUIDE</td><td>NA</td><td>0</td><td>NA</td><td>NA</td><td>-9999.0</td><td>0.0</td><td>0.0</td><td>0.0</td><td>2020.8</td><td>15027</td><td>AQM_321.68_-00.67</td></tr>\n",
       "<tr><td>320.63536</td><td>-0.630551</td><td>APOGEE_SHARED</td><td>standard</td><td>0</td><td>2MASS-J21223248-0037499</td><td>None</td><td>8.176</td><td>-9.99999</td><td>-9.99999</td><td>-9.99999</td><td>2020.8</td><td>15027</td><td>AQM_321.68_-00.67</td></tr>\n",
       "<tr><td>321.82247</td><td>0.679735</td><td>APOGEE_SHARED</td><td>standard</td><td>0</td><td>2MASS-J21271739+0040470</td><td>None</td><td>7.815</td><td>-9.99999</td><td>-9.99999</td><td>-9.99999</td><td>2020.8</td><td>15027</td><td>AQM_321.68_-00.67</td></tr>\n",
       "<tr><td>322.59144</td><td>0.336996</td><td>APOGEE_SHARED</td><td>standard</td><td>0</td><td>2MASS-J21302194+0020131</td><td>None</td><td>9.85</td><td>-9.99999</td><td>-9.99999</td><td>-9.99999</td><td>2020.8</td><td>15027</td><td>AQM_321.68_-00.67</td></tr>\n",
       "<tr><td>322.66091</td><td>-0.241305</td><td>APOGEE_SHARED</td><td>standard</td><td>0</td><td>2MASS-J21303861-0014286</td><td>None</td><td>9.727</td><td>-9.99999</td><td>-9.99999</td><td>-9.99999</td><td>2020.8</td><td>15027</td><td>AQM_321.68_-00.67</td></tr>\n",
       "<tr><td>322.1618</td><td>-1.546113</td><td>APOGEE_SHARED</td><td>standard</td><td>0</td><td>2MASS-J21283883-0132460</td><td>None</td><td>10.979</td><td>-9.99999</td><td>-9.99999</td><td>-9.99999</td><td>2020.8</td><td>15027</td><td>AQM_321.68_-00.67</td></tr>\n",
       "<tr><td>...</td><td>...</td><td>...</td><td>...</td><td>...</td><td>...</td><td>...</td><td>...</td><td>...</td><td>...</td><td>...</td><td>...</td><td>...</td><td>...</td></tr>\n",
       "<tr><td>1.3005066</td><td>27.410846</td><td>APOGEE_SHARED</td><td>sky</td><td>7617384603</td><td>None</td><td>ops_sky_apogee</td><td>-9.99999</td><td>-9.99999</td><td>-9.99999</td><td>-9.99999</td><td>2020.8</td><td>15004</td><td>AQM_001.85_+26.44</td></tr>\n",
       "<tr><td>1.3348389</td><td>27.71196</td><td>BOSS_SHARED</td><td>sky</td><td>7617384686</td><td>None</td><td>ops_sky_boss</td><td>-9.99999</td><td>-9.99999</td><td>-9.99999</td><td>-9.99999</td><td>2020.8</td><td>15004</td><td>AQM_001.85_+26.44</td></tr>\n",
       "<tr><td>1.8814087</td><td>27.780451</td><td>BOSS_SHARED</td><td>sky</td><td>7617384731</td><td>None</td><td>ops_sky_boss</td><td>-9.99999</td><td>-9.99999</td><td>-9.99999</td><td>-9.99999</td><td>2020.8</td><td>15004</td><td>AQM_001.85_+26.44</td></tr>\n",
       "<tr><td>1.8869019</td><td>27.888544</td><td>BOSS_SHARED</td><td>sky</td><td>7617384757</td><td>None</td><td>ops_sky_boss</td><td>-9.99999</td><td>-9.99999</td><td>-9.99999</td><td>-9.99999</td><td>2020.8</td><td>15004</td><td>AQM_001.85_+26.44</td></tr>\n",
       "<tr><td>3.3851624</td><td>26.795386</td><td>APOGEE_SHARED</td><td>sky</td><td>7617394337</td><td>None</td><td>ops_sky_apogee</td><td>-9.99999</td><td>-9.99999</td><td>-9.99999</td><td>-9.99999</td><td>2020.8</td><td>15004</td><td>AQM_001.85_+26.44</td></tr>\n",
       "<tr><td>3.0157471</td><td>27.273055</td><td>APOGEE_SHARED</td><td>sky</td><td>7617394652</td><td>None</td><td>ops_sky_apogee</td><td>-9.99999</td><td>-9.99999</td><td>-9.99999</td><td>-9.99999</td><td>2020.8</td><td>15004</td><td>AQM_001.85_+26.44</td></tr>\n",
       "<tr><td>3.0445862</td><td>27.439738</td><td>APOGEE_SHARED</td><td>sky</td><td>7617394692</td><td>None</td><td>ops_sky_apogee</td><td>-9.99999</td><td>-9.99999</td><td>-9.99999</td><td>-9.99999</td><td>2020.8</td><td>15004</td><td>AQM_001.85_+26.44</td></tr>\n",
       "<tr><td>354.44504</td><td>24.901604</td><td>BOSS_SHARED</td><td>sky</td><td>7617422014</td><td>None</td><td>ops_sky_boss</td><td>-9.99999</td><td>-9.99999</td><td>-9.99999</td><td>-9.99999</td><td>2020.8</td><td>15037</td><td>AQW_353.58_+23.97</td></tr>\n",
       "<tr><td>354.42581</td><td>25.01475</td><td>BOSS_SHARED</td><td>sky</td><td>7617422064</td><td>None</td><td>ops_sky_boss</td><td>-9.99999</td><td>-9.99999</td><td>-9.99999</td><td>-9.99999</td><td>2020.8</td><td>15037</td><td>AQW_353.58_+23.97</td></tr>\n",
       "<tr><td>353.95615</td><td>25.406427</td><td>BOSS_SHARED</td><td>sky</td><td>7617422333</td><td>None</td><td>ops_sky_boss</td><td>-9.99999</td><td>-9.99999</td><td>-9.99999</td><td>-9.99999</td><td>2020.8</td><td>15037</td><td>AQW_353.58_+23.97</td></tr>\n",
       "</table>"
      ],
      "text/plain": [
       "<Table length=28400>\n",
       "target_ra target_dec    holetype   ...  epoch  plate       field      \n",
       " float64   float64       str13     ... float64 int64      bytes200    \n",
       "--------- ---------- ------------- ... ------- ----- -----------------\n",
       "      0.0        0.0        CENTER ...  2020.8 15004 AQM_001.85_+26.44\n",
       "      0.0        0.0     ALIGNMENT ...  2011.0 15027 AQM_321.68_-00.67\n",
       "321.14337  -1.718298 APOGEE_SHARED ...  2020.8 15027 AQM_321.68_-00.67\n",
       "320.65423  -1.020137 APOGEE_SHARED ...  2020.8 15027 AQM_321.68_-00.67\n",
       "322.67429 -0.3940913         GUIDE ...  2020.8 15027 AQM_321.68_-00.67\n",
       "320.63536  -0.630551 APOGEE_SHARED ...  2020.8 15027 AQM_321.68_-00.67\n",
       "321.82247   0.679735 APOGEE_SHARED ...  2020.8 15027 AQM_321.68_-00.67\n",
       "322.59144   0.336996 APOGEE_SHARED ...  2020.8 15027 AQM_321.68_-00.67\n",
       "322.66091  -0.241305 APOGEE_SHARED ...  2020.8 15027 AQM_321.68_-00.67\n",
       " 322.1618  -1.546113 APOGEE_SHARED ...  2020.8 15027 AQM_321.68_-00.67\n",
       "      ...        ...           ... ...     ...   ...               ...\n",
       "1.3005066  27.410846 APOGEE_SHARED ...  2020.8 15004 AQM_001.85_+26.44\n",
       "1.3348389   27.71196   BOSS_SHARED ...  2020.8 15004 AQM_001.85_+26.44\n",
       "1.8814087  27.780451   BOSS_SHARED ...  2020.8 15004 AQM_001.85_+26.44\n",
       "1.8869019  27.888544   BOSS_SHARED ...  2020.8 15004 AQM_001.85_+26.44\n",
       "3.3851624  26.795386 APOGEE_SHARED ...  2020.8 15004 AQM_001.85_+26.44\n",
       "3.0157471  27.273055 APOGEE_SHARED ...  2020.8 15004 AQM_001.85_+26.44\n",
       "3.0445862  27.439738 APOGEE_SHARED ...  2020.8 15004 AQM_001.85_+26.44\n",
       "354.44504  24.901604   BOSS_SHARED ...  2020.8 15037 AQW_353.58_+23.97\n",
       "354.42581   25.01475   BOSS_SHARED ...  2020.8 15037 AQW_353.58_+23.97\n",
       "353.95615  25.406427   BOSS_SHARED ...  2020.8 15037 AQW_353.58_+23.97"
      ]
     },
     "execution_count": 30,
     "metadata": {},
     "output_type": "execute_result"
    }
   ],
   "source": [
    "# A huge table containing all targets assigned fibers in the plate run.\n",
    "# This is akin to the \"summary\" table sent around during the very first plate run\n",
    "platerun_08c.targets  "
   ]
  },
  {
   "cell_type": "markdown",
   "metadata": {},
   "source": [
    "### Targets\n",
    "- Contains the set of targets that you are interested in checking.\n",
    "- Used as an interface with Plate, Field, and Platerun."
   ]
  },
  {
   "cell_type": "markdown",
   "metadata": {},
   "source": [
    "#### Easiest way to completely load targets\n",
    "Use the outputs from Jos&eacute;  for targetDB 0.1, you can download a carton of targets at\n",
    "\n",
    "https://data.sdss.org/sas/sdss5/target/development/0.1.0/   (requires standard SDSS password)"
   ]
  },
  {
   "cell_type": "code",
   "execution_count": 31,
   "metadata": {},
   "outputs": [
    {
     "data": {
      "text/html": [
       "<i>Table masked=True length=177494</i>\n",
       "<table id=\"table140087196591104\" class=\"table-striped table-bordered table-condensed\">\n",
       "<thead><tr><th>pk</th><th>catalogid</th><th>dec</th><th>epoch</th><th>pmdec</th><th>pmra</th><th>ra</th><th>parallax</th><th>bp</th><th>g</th><th>h</th><th>i</th><th>z</th><th>r</th><th>rp</th><th>carton_to_target_pk</th><th>priority</th><th>cadence</th></tr></thead>\n",
       "<thead><tr><th>int64</th><th>int64</th><th>float64</th><th>float64</th><th>float64</th><th>float64</th><th>float64</th><th>float64</th><th>float64</th><th>float64</th><th>float64</th><th>float64</th><th>float64</th><th>float64</th><th>float64</th><th>int64</th><th>int64</th><th>float64</th></tr></thead>\n",
       "<tr><td>63175099</td><td>5899605923</td><td>-78.21534924835343</td><td>2015.5</td><td>14.1147</td><td>-38.6776</td><td>60.547077373326104</td><td>6.93683</td><td>12.128</td><td>nan</td><td>9.862</td><td>nan</td><td>nan</td><td>nan</td><td>11.0435</td><td>219035535</td><td>2610</td><td>nan</td></tr>\n",
       "<tr><td>63157233</td><td>4402418495</td><td>21.66332767920415</td><td>2015.5</td><td>-109.633</td><td>7.17993</td><td>31.263017487803467</td><td>20.7948</td><td>14.3031</td><td>14.787473</td><td>9.92</td><td>12.3524275</td><td>11.75437</td><td>13.461728</td><td>11.9392</td><td>219017066</td><td>2610</td><td>nan</td></tr>\n",
       "<tr><td>63122016</td><td>5506182135</td><td>-43.21783272575037</td><td>2015.5</td><td>-14.7191</td><td>0.682634</td><td>247.91725296709603</td><td>7.70603</td><td>7.83748</td><td>nan</td><td>7.174</td><td>nan</td><td>nan</td><td>nan</td><td>7.49896</td><td>218980933</td><td>2610</td><td>nan</td></tr>\n",
       "<tr><td>63091382</td><td>4463116855</td><td>-14.513036319380562</td><td>2015.5</td><td>-6.37019</td><td>4.92747</td><td>104.34758191416756</td><td>1.12194</td><td>10.5276</td><td>nan</td><td>7.105</td><td>nan</td><td>nan</td><td>nan</td><td>8.92582</td><td>218949562</td><td>2610</td><td>nan</td></tr>\n",
       "<tr><td>63118257</td><td>5586440847</td><td>-51.41270429850474</td><td>2015.5</td><td>-21.3015</td><td>-13.3081</td><td>260.93348213188403</td><td>5.28588</td><td>10.5844</td><td>nan</td><td>8.957</td><td>nan</td><td>nan</td><td>nan</td><td>9.74636</td><td>218977088</td><td>2610</td><td>nan</td></tr>\n",
       "<tr><td>63091580</td><td>4462892628</td><td>-15.239871845454239</td><td>2015.5</td><td>-2.09111</td><td>8.7913</td><td>104.97090680013638</td><td>4.43258</td><td>8.76869</td><td>nan</td><td>7.386</td><td>nan</td><td>nan</td><td>nan</td><td>8.08015</td><td>218949768</td><td>2610</td><td>nan</td></tr>\n",
       "<tr><td>63108942</td><td>4565510987</td><td>-37.15011033546536</td><td>2015.5</td><td>-3.45415</td><td>1.93608</td><td>174.00421431798677</td><td>5.31434</td><td>10.0641</td><td>nan</td><td>8.811</td><td>nan</td><td>nan</td><td>nan</td><td>9.40888</td><td>218967532</td><td>2610</td><td>nan</td></tr>\n",
       "<tr><td>63168604</td><td>5860755077</td><td>-58.60396191630203</td><td>2015.5</td><td>-7.24925</td><td>-14.9866</td><td>118.09324406932826</td><td>4.37178</td><td>11.0412</td><td>nan</td><td>9.415</td><td>nan</td><td>nan</td><td>nan</td><td>10.2561</td><td>219028843</td><td>2610</td><td>nan</td></tr>\n",
       "<tr><td>63085280</td><td>4359635452</td><td>59.147854858338874</td><td>2015.5</td><td>13.1075</td><td>-37.0682</td><td>177.6627793916816</td><td>5.70058</td><td>10.8702</td><td>11.195846</td><td>9.323</td><td>10.41726</td><td>10.57139</td><td>10.534372</td><td>10.0994</td><td>218943304</td><td>2610</td><td>nan</td></tr>\n",
       "<tr><td>63072890</td><td>5932481921</td><td>-40.69317747383978</td><td>2015.5</td><td>161.619</td><td>135.69</td><td>38.515603314594095</td><td>8.31503</td><td>10.9198</td><td>nan</td><td>9.052</td><td>nan</td><td>nan</td><td>nan</td><td>9.99513</td><td>218930520</td><td>2610</td><td>nan</td></tr>\n",
       "<tr><td>...</td><td>...</td><td>...</td><td>...</td><td>...</td><td>...</td><td>...</td><td>...</td><td>...</td><td>...</td><td>...</td><td>...</td><td>...</td><td>...</td><td>...</td><td>...</td><td>...</td><td>...</td></tr>\n",
       "<tr><td>63195358</td><td>5892268075</td><td>-69.3746317038302</td><td>2015.5</td><td>-8.68023</td><td>12.6084</td><td>325.1945329688176</td><td>2.45252</td><td>8.91657</td><td>nan</td><td>8.165</td><td>nan</td><td>nan</td><td>nan</td><td>8.5458</td><td>218895690</td><td>2605</td><td>nan</td></tr>\n",
       "<tr><td>63195708</td><td>4325907710</td><td>75.26837886678732</td><td>2015.5</td><td>14.6169</td><td>48.2899</td><td>48.37042213660732</td><td>6.28072</td><td>10.894</td><td>nan</td><td>9.211</td><td>nan</td><td>nan</td><td>nan</td><td>10.0878</td><td>218895691</td><td>2605</td><td>nan</td></tr>\n",
       "<tr><td>63196558</td><td>4401870552</td><td>1.6909303337706163</td><td>2015.5</td><td>-2.53159</td><td>397.201</td><td>38.310420410038226</td><td>14.8151</td><td>11.3412</td><td>11.719384</td><td>8.583</td><td>10.339441</td><td>10.409499</td><td>10.681344</td><td>9.96035</td><td>218895692</td><td>2605</td><td>nan</td></tr>\n",
       "<tr><td>63201378</td><td>4980406213</td><td>-34.64665890367149</td><td>2015.5</td><td>-54.5975</td><td>49.3912</td><td>311.362403174722</td><td>6.96663</td><td>9.70466</td><td>nan</td><td>8.343</td><td>nan</td><td>nan</td><td>nan</td><td>9.01957</td><td>218895693</td><td>2605</td><td>nan</td></tr>\n",
       "<tr><td>63202085</td><td>4347765514</td><td>75.88227961455708</td><td>2015.5</td><td>-1.97069</td><td>-18.9349</td><td>261.3748942989903</td><td>7.87874</td><td>12.0087</td><td>nan</td><td>9.607</td><td>nan</td><td>nan</td><td>nan</td><td>10.8327</td><td>218895694</td><td>2605</td><td>nan</td></tr>\n",
       "<tr><td>63202827</td><td>5788702768</td><td>-54.16466351954117</td><td>2015.5</td><td>-0.993491</td><td>-1.7485</td><td>147.34308680452958</td><td>1.56275</td><td>13.2063</td><td>nan</td><td>11.67</td><td>nan</td><td>nan</td><td>nan</td><td>12.4887</td><td>218895695</td><td>2605</td><td>nan</td></tr>\n",
       "<tr><td>63205967</td><td>4398186384</td><td>36.90045563218647</td><td>2015.5</td><td>-77.6596</td><td>112.827</td><td>357.3518362038034</td><td>8.20039</td><td>10.3131</td><td>nan</td><td>8.582</td><td>nan</td><td>nan</td><td>nan</td><td>9.46751</td><td>218895696</td><td>2605</td><td>nan</td></tr>\n",
       "<tr><td>63207442</td><td>5775712787</td><td>-60.575141596843004</td><td>2015.5</td><td>9.12249</td><td>-21.9815</td><td>156.25003178482694</td><td>1.88791</td><td>10.8143</td><td>nan</td><td>10.009</td><td>nan</td><td>nan</td><td>nan</td><td>10.416</td><td>218895697</td><td>2605</td><td>nan</td></tr>\n",
       "<tr><td>63207876</td><td>5787091284</td><td>-59.85171061941523</td><td>2015.5</td><td>3.93221</td><td>-7.36891</td><td>150.3682717854151</td><td>0.969967</td><td>12.6195</td><td>nan</td><td>11.976</td><td>nan</td><td>nan</td><td>nan</td><td>12.2843</td><td>218895698</td><td>2605</td><td>nan</td></tr>\n",
       "<tr><td>63208787</td><td>5816408206</td><td>-64.34707699579073</td><td>2015.5</td><td>9.76431</td><td>-22.1958</td><td>168.74741246252884</td><td>7.25154</td><td>17.0391</td><td>nan</td><td>11.651</td><td>nan</td><td>nan</td><td>nan</td><td>14.0713</td><td>218895699</td><td>2605</td><td>nan</td></tr>\n",
       "</table>"
      ],
      "text/plain": [
       "<Table masked=True length=177494>\n",
       "   pk    catalogid          dec         ... carton_to_target_pk priority cadence\n",
       " int64     int64          float64       ...        int64         int64   float64\n",
       "-------- ---------- ------------------- ... ------------------- -------- -------\n",
       "63175099 5899605923  -78.21534924835343 ...           219035535     2610     nan\n",
       "63157233 4402418495   21.66332767920415 ...           219017066     2610     nan\n",
       "63122016 5506182135  -43.21783272575037 ...           218980933     2610     nan\n",
       "63091382 4463116855 -14.513036319380562 ...           218949562     2610     nan\n",
       "63118257 5586440847  -51.41270429850474 ...           218977088     2610     nan\n",
       "63091580 4462892628 -15.239871845454239 ...           218949768     2610     nan\n",
       "63108942 4565510987  -37.15011033546536 ...           218967532     2610     nan\n",
       "63168604 5860755077  -58.60396191630203 ...           219028843     2610     nan\n",
       "63085280 4359635452  59.147854858338874 ...           218943304     2610     nan\n",
       "63072890 5932481921  -40.69317747383978 ...           218930520     2610     nan\n",
       "     ...        ...                 ... ...                 ...      ...     ...\n",
       "63195358 5892268075   -69.3746317038302 ...           218895690     2605     nan\n",
       "63195708 4325907710   75.26837886678732 ...           218895691     2605     nan\n",
       "63196558 4401870552  1.6909303337706163 ...           218895692     2605     nan\n",
       "63201378 4980406213  -34.64665890367149 ...           218895693     2605     nan\n",
       "63202085 4347765514   75.88227961455708 ...           218895694     2605     nan\n",
       "63202827 5788702768  -54.16466351954117 ...           218895695     2605     nan\n",
       "63205967 4398186384   36.90045563218647 ...           218895696     2605     nan\n",
       "63207442 5775712787 -60.575141596843004 ...           218895697     2605     nan\n",
       "63207876 5787091284  -59.85171061941523 ...           218895698     2605     nan\n",
       "63208787 5816408206  -64.34707699579073 ...           218895699     2605     nan"
      ]
     },
     "execution_count": 31,
     "metadata": {},
     "output_type": "execute_result"
    }
   ],
   "source": [
    "# Let's look at the mwm_planet carton\n",
    "from astropy.table import Table\n",
    "\n",
    "\n",
    "planet_targetDB = Table.read('/home/jquark/projects/sdss5/ppv/data/raw/mwm_planet_0.1.0_targetdb.fits.gz')\n",
    "\n",
    "# and the table\n",
    "planet_targetDB"
   ]
  },
  {
   "cell_type": "markdown",
   "metadata": {},
   "source": [
    "#### Targets object creation"
   ]
  },
  {
   "cell_type": "code",
   "execution_count": 32,
   "metadata": {},
   "outputs": [
    {
     "data": {
      "text/plain": [
       "\u001b[0;31mInit signature:\u001b[0m \u001b[0mTargets\u001b[0m\u001b[0;34m(\u001b[0m\u001b[0mdata\u001b[0m\u001b[0;34m,\u001b[0m \u001b[0mcolnames\u001b[0m\u001b[0;34m=\u001b[0m\u001b[0;34m[\u001b[0m\u001b[0;34m'catalogid'\u001b[0m\u001b[0;34m,\u001b[0m \u001b[0;34m'ra'\u001b[0m\u001b[0;34m,\u001b[0m \u001b[0;34m'dec'\u001b[0m\u001b[0;34m]\u001b[0m\u001b[0;34m,\u001b[0m \u001b[0mepoch\u001b[0m\u001b[0;34m=\u001b[0m\u001b[0;36m2015.5\u001b[0m\u001b[0;34m)\u001b[0m\u001b[0;34m\u001b[0m\u001b[0;34m\u001b[0m\u001b[0m\n",
       "\u001b[0;31mDocstring:\u001b[0m     \n",
       "Class to act as interface to target list of interest.\n",
       "\n",
       "methods\n",
       "=======\n",
       "\n",
       "available: relative to its own Target class\n",
       "\n",
       "assigned: relative to the Field\n",
       "\u001b[0;31mInit docstring:\u001b[0m\n",
       "Creates a targets object.\n",
       "\n",
       "The targets object requires at least catalogIDs to work.\n",
       "To check on target availability, RA and Dec must also be provided.\n",
       "Any other column (if data is a table) or field (if data is a record array)\n",
       "or key:value pair (if data is a dict) will be kept as ancillary data\n",
       "for convenience.\n",
       "\n",
       "Using an astropy table is by far the most robust method to construct\n",
       "a targets object.\n",
       "\n",
       "Parameters\n",
       "----------\n",
       "data : astropy table, numpy record array, or dict\n",
       "    N x C in shape, where N is the number of targets and C is the number\n",
       "    of different columns.\n",
       "colnames : list of strings\n",
       "    List of column/field names corresponding to the catalogID (required)\n",
       "    and RA, Dec (optional, but recommended) of the targets.\n",
       "    *Order is fixed and MUST follow [catalogID, RA, Dec] format.*\n",
       "epoch : int\n",
       "    Epoch of target positions.\n",
       "\u001b[0;31mFile:\u001b[0m           ~/projects/sdss5/ppv/src/ppv/targets.py\n",
       "\u001b[0;31mType:\u001b[0m           type\n",
       "\u001b[0;31mSubclasses:\u001b[0m     \n"
      ]
     },
     "metadata": {},
     "output_type": "display_data"
    }
   ],
   "source": [
    "# To create the Targets object, just supply a table-like object (astropy table, numpy record array, or a dictionary)\n",
    "# The data object needs to AT LEAST contain a catalogID array.\n",
    "# If you want to use 'available_in', you need to supply the RA and Dec as well.\n",
    "# Let's look at the call signature\n",
    "Targets?"
   ]
  },
  {
   "cell_type": "markdown",
   "metadata": {},
   "source": [
    "`colnames` is a list of column/field names that refer to, in order, the catalogID, RA, and Dec array.\n",
    "\n",
    "The default is: \n",
    "> colnames = ['catalogid', 'ra', 'dec']  \n",
    "\n",
    "These are the names of the columns containing the catalogID, RA, and Dec; respectively, withing the targetDB files.\n",
    "If you use these carton files, you can just give the astropy table and you are good to go.\n",
    "\n",
    "Otherwise, specify the catalogID, RA, and Dec columns/fields/keys as strings."
   ]
  },
  {
   "cell_type": "code",
   "execution_count": 33,
   "metadata": {},
   "outputs": [
    {
     "name": "stdout",
     "output_type": "stream",
     "text": [
      "Assuming RA, Dec are in degrees and 2015.5 epoch\n"
     ]
    }
   ],
   "source": [
    "# The catalog ID, RA, and Dec columns in planets_targetDB have the names 'catalogid', 'ra', and 'dec'; respectively.\n",
    "# This matches our default so no need to specify the 'colnames' keyword.\n",
    "planet_targets = Targets(planet_targetDB)"
   ]
  },
  {
   "cell_type": "code",
   "execution_count": 34,
   "metadata": {},
   "outputs": [
    {
     "data": {
      "text/plain": [
       "177494 targets with IDs: <MaskedColumn name='catalogid' dtype='int64' length=177494>\n",
       "4204692671\n",
       "4204692773\n",
       "4204705857\n",
       "4204751665\n",
       "4204795388\n",
       "4204838200\n",
       "4204854273\n",
       "4204858177\n",
       "4204901910\n",
       "4204917314\n",
       "4204926522\n",
       "4204933546\n",
       "       ...\n",
       "5932663258\n",
       "5932664728\n",
       "5932664785\n",
       "5932665261\n",
       "5932665613\n",
       "5932665963\n",
       "5932666418\n",
       "5932667443\n",
       "5932667724\n",
       "5932667918\n",
       "5932668409\n",
       "5932668452"
      ]
     },
     "execution_count": 34,
     "metadata": {},
     "output_type": "execute_result"
    }
   ],
   "source": [
    "planet_targets"
   ]
  },
  {
   "cell_type": "markdown",
   "metadata": {},
   "source": [
    "#### Available and Assigned\n",
    "- A target is 'available' if the target's position is in a particular field.\n",
    "\n",
    "- A target is 'assigned' if a fiber was assigned to that target.\n"
   ]
  },
  {
   "cell_type": "code",
   "execution_count": 35,
   "metadata": {},
   "outputs": [
    {
     "name": "stdout",
     "output_type": "stream",
     "text": [
      "[False False False ... False False False]\n"
     ]
    },
    {
     "data": {
      "text/html": [
       "<i>Table length=11</i>\n",
       "<table id=\"table140087196523728\" class=\"table-striped table-bordered table-condensed\">\n",
       "<thead><tr><th>pk</th><th>catalogid</th><th>dec</th><th>epoch</th><th>pmdec</th><th>pmra</th><th>ra</th><th>parallax</th><th>bp</th><th>g</th><th>h</th><th>i</th><th>z</th><th>r</th><th>rp</th><th>carton_to_target_pk</th><th>priority</th><th>cadence</th></tr></thead>\n",
       "<thead><tr><th>int64</th><th>int64</th><th>float64</th><th>float64</th><th>float64</th><th>float64</th><th>float64</th><th>float64</th><th>float64</th><th>float64</th><th>float64</th><th>float64</th><th>float64</th><th>float64</th><th>float64</th><th>int64</th><th>int64</th><th>float64</th></tr></thead>\n",
       "<tr><td>63200143</td><td>4400726315</td><td>26.516624646335984</td><td>2015.5</td><td>-56.43</td><td>43.69</td><td>3.017901588779658</td><td>nan</td><td>12.274</td><td>12.590871</td><td>9.293</td><td>11.220837</td><td>10.989637</td><td>11.615499</td><td>10.8608</td><td>219061402</td><td>2610</td><td>nan</td></tr>\n",
       "<tr><td>63130318</td><td>4400726404</td><td>26.252226477392497</td><td>2015.5</td><td>-7.54142</td><td>-5.06581</td><td>3.1523757514693362</td><td>2.29675</td><td>12.6512</td><td>12.739884</td><td>10.946</td><td>12.137205</td><td>12.083581</td><td>12.301875</td><td>11.8233</td><td>218989341</td><td>2610</td><td>nan</td></tr>\n",
       "<tr><td>63200148</td><td>4402835549</td><td>26.81979450154741</td><td>2015.5</td><td>-14.5468</td><td>-17.4957</td><td>3.3869881453212867</td><td>7.72339</td><td>10.9878</td><td>11.293857</td><td>9.234</td><td>10.443971</td><td>10.474189</td><td>10.604778</td><td>10.1126</td><td>219061408</td><td>2610</td><td>nan</td></tr>\n",
       "<tr><td>63148214</td><td>4402838198</td><td>27.316449524906293</td><td>2015.5</td><td>45.2254</td><td>111.928</td><td>2.3777257433414243</td><td>13.8652</td><td>13.5774</td><td>14.1181555</td><td>9.911</td><td>12.085736</td><td>11.687693</td><td>12.754909</td><td>11.7227</td><td>219007769</td><td>2610</td><td>nan</td></tr>\n",
       "<tr><td>63148215</td><td>4402838643</td><td>27.496560527547583</td><td>2015.5</td><td>-55.7289</td><td>-2.86079</td><td>2.360110141369754</td><td>8.92773</td><td>11.1768</td><td>11.416542</td><td>9.145</td><td>15.27082</td><td>10.906687</td><td>10.808616</td><td>10.2025</td><td>219007770</td><td>2610</td><td>nan</td></tr>\n",
       "<tr><td>63165725</td><td>4402838933</td><td>27.539312853258306</td><td>2015.5</td><td>-13.3591</td><td>24.7408</td><td>2.578731482902514</td><td>5.78841</td><td>11.1787</td><td>11.246591</td><td>9.547</td><td>10.69413</td><td>10.715225</td><td>10.818146</td><td>10.3745</td><td>219025849</td><td>2610</td><td>nan</td></tr>\n",
       "<tr><td>63148216</td><td>4402839819</td><td>27.65221982258546</td><td>2015.5</td><td>145.471</td><td>222.988</td><td>2.2631552646876965</td><td>16.5175</td><td>11.9499</td><td>14.241348</td><td>8.777</td><td>10.735708</td><td>11.299208</td><td>11.204476</td><td>10.4117</td><td>219007771</td><td>2610</td><td>nan</td></tr>\n",
       "<tr><td>63200136</td><td>4402839837</td><td>27.666837577512847</td><td>2015.5</td><td>144.804</td><td>222.239</td><td>2.2492675946101794</td><td>16.535</td><td>13.7767</td><td>14.37903</td><td>9.812</td><td>12.096777</td><td>11.653342</td><td>13.499054</td><td>11.7309</td><td>219061395</td><td>2610</td><td>nan</td></tr>\n",
       "<tr><td>63165724</td><td>4402840037</td><td>27.62920463874903</td><td>2015.5</td><td>-53.9078</td><td>82.6503</td><td>2.5314287283254515</td><td>15.3694</td><td>14.5475</td><td>15.101445</td><td>10.121</td><td>12.637509</td><td>12.075852</td><td>13.708468</td><td>12.2451</td><td>219025848</td><td>2610</td><td>nan</td></tr>\n",
       "<tr><td>63165723</td><td>4402840160</td><td>27.764958026948076</td><td>2015.5</td><td>-3.98578</td><td>-4.70774</td><td>2.5429351496859987</td><td>1.5423</td><td>10.4018</td><td>10.721768</td><td>7.425</td><td>9.303644</td><td>9.377136</td><td>9.637439</td><td>9.01802</td><td>219025847</td><td>2610</td><td>nan</td></tr>\n",
       "<tr><td>63200144</td><td>4402841300</td><td>27.510075074405066</td><td>2015.5</td><td>-26.1208</td><td>4.0662</td><td>2.9407840006128296</td><td>8.51073</td><td>8.57606</td><td>8.70825</td><td>7.317</td><td>8.276394</td><td>8.574736</td><td>8.331132</td><td>7.95118</td><td>219061403</td><td>2610</td><td>nan</td></tr>\n",
       "</table>"
      ],
      "text/plain": [
       "<Table length=11>\n",
       "   pk    catalogid         dec         ... carton_to_target_pk priority cadence\n",
       " int64     int64         float64       ...        int64         int64   float64\n",
       "-------- ---------- ------------------ ... ------------------- -------- -------\n",
       "63200143 4400726315 26.516624646335984 ...           219061402     2610     nan\n",
       "63130318 4400726404 26.252226477392497 ...           218989341     2610     nan\n",
       "63200148 4402835549  26.81979450154741 ...           219061408     2610     nan\n",
       "63148214 4402838198 27.316449524906293 ...           219007769     2610     nan\n",
       "63148215 4402838643 27.496560527547583 ...           219007770     2610     nan\n",
       "63165725 4402838933 27.539312853258306 ...           219025849     2610     nan\n",
       "63148216 4402839819  27.65221982258546 ...           219007771     2610     nan\n",
       "63200136 4402839837 27.666837577512847 ...           219061395     2610     nan\n",
       "63165724 4402840037  27.62920463874903 ...           219025848     2610     nan\n",
       "63165723 4402840160 27.764958026948076 ...           219025847     2610     nan\n",
       "63200144 4402841300 27.510075074405066 ...           219061403     2610     nan"
      ]
     },
     "execution_count": 35,
     "metadata": {},
     "output_type": "execute_result"
    }
   ],
   "source": [
    "# Let's check if any planet_targets are in the example field\n",
    "\n",
    "print(planet_targets.available_in(example_field))   # this is a boolean array just stating if a target is available\n",
    "planet_targets.data[planet_targets.available_in(example_field)]\n",
    "\n",
    "# Viola! We get the 11 targets that COULD have been observed"
   ]
  },
  {
   "cell_type": "code",
   "execution_count": 36,
   "metadata": {},
   "outputs": [
    {
     "data": {
      "text/html": [
       "<i>Table length=8</i>\n",
       "<table id=\"table140087196536944\" class=\"table-striped table-bordered table-condensed\">\n",
       "<thead><tr><th>pk</th><th>catalogid</th><th>dec</th><th>epoch</th><th>pmdec</th><th>pmra</th><th>ra</th><th>parallax</th><th>bp</th><th>g</th><th>h</th><th>i</th><th>z</th><th>r</th><th>rp</th><th>carton_to_target_pk</th><th>priority</th><th>cadence</th></tr></thead>\n",
       "<thead><tr><th>int64</th><th>int64</th><th>float64</th><th>float64</th><th>float64</th><th>float64</th><th>float64</th><th>float64</th><th>float64</th><th>float64</th><th>float64</th><th>float64</th><th>float64</th><th>float64</th><th>float64</th><th>int64</th><th>int64</th><th>float64</th></tr></thead>\n",
       "<tr><td>63200143</td><td>4400726315</td><td>26.516624646335984</td><td>2015.5</td><td>-56.43</td><td>43.69</td><td>3.017901588779658</td><td>nan</td><td>12.274</td><td>12.590871</td><td>9.293</td><td>11.220837</td><td>10.989637</td><td>11.615499</td><td>10.8608</td><td>219061402</td><td>2610</td><td>nan</td></tr>\n",
       "<tr><td>63130318</td><td>4400726404</td><td>26.252226477392497</td><td>2015.5</td><td>-7.54142</td><td>-5.06581</td><td>3.1523757514693362</td><td>2.29675</td><td>12.6512</td><td>12.739884</td><td>10.946</td><td>12.137205</td><td>12.083581</td><td>12.301875</td><td>11.8233</td><td>218989341</td><td>2610</td><td>nan</td></tr>\n",
       "<tr><td>63200148</td><td>4402835549</td><td>26.81979450154741</td><td>2015.5</td><td>-14.5468</td><td>-17.4957</td><td>3.3869881453212867</td><td>7.72339</td><td>10.9878</td><td>11.293857</td><td>9.234</td><td>10.443971</td><td>10.474189</td><td>10.604778</td><td>10.1126</td><td>219061408</td><td>2610</td><td>nan</td></tr>\n",
       "<tr><td>63148214</td><td>4402838198</td><td>27.316449524906293</td><td>2015.5</td><td>45.2254</td><td>111.928</td><td>2.3777257433414243</td><td>13.8652</td><td>13.5774</td><td>14.1181555</td><td>9.911</td><td>12.085736</td><td>11.687693</td><td>12.754909</td><td>11.7227</td><td>219007769</td><td>2610</td><td>nan</td></tr>\n",
       "<tr><td>63148215</td><td>4402838643</td><td>27.496560527547583</td><td>2015.5</td><td>-55.7289</td><td>-2.86079</td><td>2.360110141369754</td><td>8.92773</td><td>11.1768</td><td>11.416542</td><td>9.145</td><td>15.27082</td><td>10.906687</td><td>10.808616</td><td>10.2025</td><td>219007770</td><td>2610</td><td>nan</td></tr>\n",
       "<tr><td>63165725</td><td>4402838933</td><td>27.539312853258306</td><td>2015.5</td><td>-13.3591</td><td>24.7408</td><td>2.578731482902514</td><td>5.78841</td><td>11.1787</td><td>11.246591</td><td>9.547</td><td>10.69413</td><td>10.715225</td><td>10.818146</td><td>10.3745</td><td>219025849</td><td>2610</td><td>nan</td></tr>\n",
       "<tr><td>63200136</td><td>4402839837</td><td>27.666837577512847</td><td>2015.5</td><td>144.804</td><td>222.239</td><td>2.2492675946101794</td><td>16.535</td><td>13.7767</td><td>14.37903</td><td>9.812</td><td>12.096777</td><td>11.653342</td><td>13.499054</td><td>11.7309</td><td>219061395</td><td>2610</td><td>nan</td></tr>\n",
       "<tr><td>63165724</td><td>4402840037</td><td>27.62920463874903</td><td>2015.5</td><td>-53.9078</td><td>82.6503</td><td>2.5314287283254515</td><td>15.3694</td><td>14.5475</td><td>15.101445</td><td>10.121</td><td>12.637509</td><td>12.075852</td><td>13.708468</td><td>12.2451</td><td>219025848</td><td>2610</td><td>nan</td></tr>\n",
       "</table>"
      ],
      "text/plain": [
       "<Table length=8>\n",
       "   pk    catalogid         dec         ... carton_to_target_pk priority cadence\n",
       " int64     int64         float64       ...        int64         int64   float64\n",
       "-------- ---------- ------------------ ... ------------------- -------- -------\n",
       "63200143 4400726315 26.516624646335984 ...           219061402     2610     nan\n",
       "63130318 4400726404 26.252226477392497 ...           218989341     2610     nan\n",
       "63200148 4402835549  26.81979450154741 ...           219061408     2610     nan\n",
       "63148214 4402838198 27.316449524906293 ...           219007769     2610     nan\n",
       "63148215 4402838643 27.496560527547583 ...           219007770     2610     nan\n",
       "63165725 4402838933 27.539312853258306 ...           219025849     2610     nan\n",
       "63200136 4402839837 27.666837577512847 ...           219061395     2610     nan\n",
       "63165724 4402840037  27.62920463874903 ...           219025848     2610     nan"
      ]
     },
     "execution_count": 36,
     "metadata": {},
     "output_type": "execute_result"
    }
   ],
   "source": [
    "# Now let's check what was assigned in this field\n",
    "# Same approach as 'available' his is a boolean array just stating if a target is available\n",
    "planet_targets.data[planet_targets.assigned_in(example_field)]"
   ]
  },
  {
   "cell_type": "code",
   "execution_count": 37,
   "metadata": {},
   "outputs": [
    {
     "data": {
      "text/html": [
       "<i>Table length=3</i>\n",
       "<table id=\"table140087205669472\" class=\"table-striped table-bordered table-condensed\">\n",
       "<thead><tr><th>pk</th><th>catalogid</th><th>dec</th><th>epoch</th><th>pmdec</th><th>pmra</th><th>ra</th><th>parallax</th><th>bp</th><th>g</th><th>h</th><th>i</th><th>z</th><th>r</th><th>rp</th><th>carton_to_target_pk</th><th>priority</th><th>cadence</th></tr></thead>\n",
       "<thead><tr><th>int64</th><th>int64</th><th>float64</th><th>float64</th><th>float64</th><th>float64</th><th>float64</th><th>float64</th><th>float64</th><th>float64</th><th>float64</th><th>float64</th><th>float64</th><th>float64</th><th>float64</th><th>int64</th><th>int64</th><th>float64</th></tr></thead>\n",
       "<tr><td>63148216</td><td>4402839819</td><td>27.65221982258546</td><td>2015.5</td><td>145.471</td><td>222.988</td><td>2.2631552646876965</td><td>16.5175</td><td>11.9499</td><td>14.241348</td><td>8.777</td><td>10.735708</td><td>11.299208</td><td>11.204476</td><td>10.4117</td><td>219007771</td><td>2610</td><td>nan</td></tr>\n",
       "<tr><td>63165723</td><td>4402840160</td><td>27.764958026948076</td><td>2015.5</td><td>-3.98578</td><td>-4.70774</td><td>2.5429351496859987</td><td>1.5423</td><td>10.4018</td><td>10.721768</td><td>7.425</td><td>9.303644</td><td>9.377136</td><td>9.637439</td><td>9.01802</td><td>219025847</td><td>2610</td><td>nan</td></tr>\n",
       "<tr><td>63200144</td><td>4402841300</td><td>27.510075074405066</td><td>2015.5</td><td>-26.1208</td><td>4.0662</td><td>2.9407840006128296</td><td>8.51073</td><td>8.57606</td><td>8.70825</td><td>7.317</td><td>8.276394</td><td>8.574736</td><td>8.331132</td><td>7.95118</td><td>219061403</td><td>2610</td><td>nan</td></tr>\n",
       "</table>"
      ],
      "text/plain": [
       "<Table length=3>\n",
       "   pk    catalogid         dec         ... carton_to_target_pk priority cadence\n",
       " int64     int64         float64       ...        int64         int64   float64\n",
       "-------- ---------- ------------------ ... ------------------- -------- -------\n",
       "63148216 4402839819  27.65221982258546 ...           219007771     2610     nan\n",
       "63165723 4402840160 27.764958026948076 ...           219025847     2610     nan\n",
       "63200144 4402841300 27.510075074405066 ...           219061403     2610     nan"
      ]
     },
     "execution_count": 37,
     "metadata": {},
     "output_type": "execute_result"
    }
   ],
   "source": [
    "# Only 8 of a possible 11 targets were observed! \n",
    "# Which ones were left out?!\n",
    "\n",
    "planet_targets.data[planet_targets.not_assigned_in(example_field)]  # NOT_assigned_in\n",
    "\n",
    "# BOOM!"
   ]
  },
  {
   "cell_type": "markdown",
   "metadata": {},
   "source": [
    "- `available_in` and `assigned_in` will work for Plate objects, too. For example, we would have gotten the same results if we had done,\\\n",
    "\\\n",
    "`planet_targets.data[planet_targets.not_assigned_in(p15004)]`\n",
    "\n",
    "- Better still, the same concepts (and call signature!) are available for plate runs!"
   ]
  },
  {
   "cell_type": "code",
   "execution_count": 38,
   "metadata": {},
   "outputs": [
    {
     "name": "stdout",
     "output_type": "stream",
     "text": [
      "Please be patient.\n",
      "                  Initial target loading for Platerun can take up to 1 second per field.\n",
      "                  Loading target data from 34 Fields...\n"
     ]
    },
    {
     "data": {
      "text/html": [
       "<i>Table length=568</i>\n",
       "<table id=\"table140088901295504\" class=\"table-striped table-bordered table-condensed\">\n",
       "<thead><tr><th>pk</th><th>catalogid</th><th>dec</th><th>epoch</th><th>pmdec</th><th>pmra</th><th>ra</th><th>parallax</th><th>bp</th><th>g</th><th>h</th><th>i</th><th>z</th><th>r</th><th>rp</th><th>carton_to_target_pk</th><th>priority</th><th>cadence</th></tr></thead>\n",
       "<thead><tr><th>int64</th><th>int64</th><th>float64</th><th>float64</th><th>float64</th><th>float64</th><th>float64</th><th>float64</th><th>float64</th><th>float64</th><th>float64</th><th>float64</th><th>float64</th><th>float64</th><th>float64</th><th>int64</th><th>int64</th><th>float64</th></tr></thead>\n",
       "<tr><td>63043325</td><td>4361392765</td><td>40.30319573936042</td><td>2015.5</td><td>2.57513</td><td>-1.71171</td><td>124.29993356000742</td><td>1.29522</td><td>11.2907</td><td>11.259385</td><td>10.61</td><td>11.174022</td><td>11.385002</td><td>11.097343</td><td>10.8232</td><td>218899973</td><td>2610</td><td>nan</td></tr>\n",
       "<tr><td>63043308</td><td>4361394158</td><td>39.858012316963</td><td>2015.5</td><td>-82.8926</td><td>-47.413</td><td>123.76673898038653</td><td>6.22997</td><td>10.5914</td><td>nan</td><td>9.14</td><td>nan</td><td>nan</td><td>nan</td><td>9.89759</td><td>218899956</td><td>2610</td><td>nan</td></tr>\n",
       "<tr><td>63046423</td><td>4361394699</td><td>40.0741261735967</td><td>2015.5</td><td>-30.4811</td><td>-8.30247</td><td>124.83932137785541</td><td>9.33845</td><td>10.806</td><td>11.185884</td><td>8.947</td><td>10.235099</td><td>10.366385</td><td>10.402244</td><td>9.90238</td><td>218903199</td><td>2610</td><td>nan</td></tr>\n",
       "<tr><td>63046424</td><td>4361395060</td><td>40.05878431125135</td><td>2015.5</td><td>-37.7168</td><td>38.2377</td><td>124.87269737908333</td><td>16.2051</td><td>14.8655</td><td>15.444748</td><td>10.397</td><td>16.339457</td><td>12.314884</td><td>13.997108</td><td>12.4992</td><td>218903200</td><td>2610</td><td>nan</td></tr>\n",
       "<tr><td>63046430</td><td>4361395174</td><td>40.00483724068522</td><td>2015.5</td><td>-18.4764</td><td>1.15654</td><td>125.04005154227058</td><td>7.33312</td><td>10.8377</td><td>10.713544</td><td>9.183</td><td>12.130248</td><td>10.746652</td><td>10.480483</td><td>10.0292</td><td>218903206</td><td>2610</td><td>nan</td></tr>\n",
       "<tr><td>63046425</td><td>4361395457</td><td>39.86362188167618</td><td>2015.5</td><td>-50.1928</td><td>17.2616</td><td>124.8510349957936</td><td>8.95021</td><td>10.4808</td><td>10.650796</td><td>8.664</td><td>9.949589</td><td>10.088016</td><td>10.080173</td><td>9.5892</td><td>218903201</td><td>2610</td><td>nan</td></tr>\n",
       "<tr><td>63046420</td><td>4361396270</td><td>39.72395709792673</td><td>2015.5</td><td>-130.866</td><td>-2.67057</td><td>124.69237649985789</td><td>11.2937</td><td>8.63675</td><td>nan</td><td>7.181</td><td>nan</td><td>nan</td><td>nan</td><td>7.94442</td><td>218903196</td><td>2610</td><td>nan</td></tr>\n",
       "<tr><td>63046432</td><td>4361419395</td><td>39.41997190005375</td><td>2015.5</td><td>-17.0</td><td>-18.9</td><td>125.25693084696553</td><td>nan</td><td>10.7824</td><td>10.977473</td><td>9.213</td><td>10.325273</td><td>10.934608</td><td>10.440339</td><td>10.0003</td><td>218903208</td><td>2610</td><td>nan</td></tr>\n",
       "<tr><td>63141658</td><td>4374999660</td><td>-0.5745580067209433</td><td>2015.5</td><td>-61.7323</td><td>4.71508</td><td>14.14356669156949</td><td>9.07565</td><td>11.3563</td><td>11.595617</td><td>9.158</td><td>10.64795</td><td>10.715606</td><td>10.831746</td><td>10.2729</td><td>219001005</td><td>2610</td><td>nan</td></tr>\n",
       "<tr><td>63141663</td><td>4374999813</td><td>-0.47214695295700104</td><td>2015.5</td><td>-0.606086</td><td>27.3854</td><td>14.25212446950399</td><td>6.20353</td><td>9.28446</td><td>9.627617</td><td>8.161</td><td>9.020708</td><td>9.392205</td><td>9.1308155</td><td>8.69107</td><td>219001011</td><td>2610</td><td>nan</td></tr>\n",
       "<tr><td>...</td><td>...</td><td>...</td><td>...</td><td>...</td><td>...</td><td>...</td><td>...</td><td>...</td><td>...</td><td>...</td><td>...</td><td>...</td><td>...</td><td>...</td><td>...</td><td>...</td><td>...</td></tr>\n",
       "<tr><td>63043307</td><td>4555535872</td><td>38.98496289582225</td><td>2015.5</td><td>4.83412</td><td>40.2618</td><td>123.6998809266123</td><td>17.9481</td><td>13.8765</td><td>14.4816065</td><td>9.756</td><td>13.493853</td><td>11.714155</td><td>14.022679</td><td>11.7366</td><td>218899955</td><td>2610</td><td>nan</td></tr>\n",
       "<tr><td>63043315</td><td>4555536623</td><td>38.87993924139887</td><td>2015.5</td><td>-5.16776</td><td>-2.15639</td><td>123.99609162381849</td><td>1.88671</td><td>9.53646</td><td>12.706002</td><td>7.036</td><td>11.878302</td><td>9.179713</td><td>12.083773</td><td>8.36733</td><td>218899963</td><td>2610</td><td>nan</td></tr>\n",
       "<tr><td>63043321</td><td>4555536659</td><td>38.71881087860185</td><td>2015.5</td><td>-58.4651</td><td>75.3848</td><td>124.18519373845528</td><td>9.63697</td><td>10.9125</td><td>11.035837</td><td>8.915</td><td>10.303688</td><td>10.525346</td><td>10.489613</td><td>9.96523</td><td>218899969</td><td>2610</td><td>nan</td></tr>\n",
       "<tr><td>63046417</td><td>4555537682</td><td>38.97073755365673</td><td>2015.5</td><td>-29.8401</td><td>135.098</td><td>124.47849985146189</td><td>25.8652</td><td>17.8445</td><td>18.458498</td><td>11.876</td><td>15.019452</td><td>14.023022</td><td>16.90033</td><td>14.4081</td><td>218903193</td><td>2610</td><td>nan</td></tr>\n",
       "<tr><td>63043324</td><td>4555537707</td><td>39.07191643885236</td><td>2015.5</td><td>-124.7</td><td>96.6677</td><td>124.43101587634926</td><td>16.6009</td><td>13.9592</td><td>14.470152</td><td>9.777</td><td>12.105892</td><td>11.667351</td><td>15.404278</td><td>11.7786</td><td>218899972</td><td>2610</td><td>nan</td></tr>\n",
       "<tr><td>63043299</td><td>4555537845</td><td>39.48581754170121</td><td>2015.5</td><td>-28.8017</td><td>37.9702</td><td>123.50571069570914</td><td>1.91588</td><td>9.75056</td><td>9.962364</td><td>7.174</td><td>8.90523</td><td>9.308903</td><td>14.693459</td><td>8.56018</td><td>218899945</td><td>2610</td><td>nan</td></tr>\n",
       "<tr><td>63046426</td><td>4555548610</td><td>38.5479277021224</td><td>2015.5</td><td>-6.62478</td><td>5.96645</td><td>124.8012667660502</td><td>4.01753</td><td>8.72705</td><td>8.803493</td><td>8.274</td><td>8.799422</td><td>9.187824</td><td>8.702056</td><td>8.49916</td><td>218903202</td><td>2610</td><td>nan</td></tr>\n",
       "<tr><td>63046427</td><td>4555549027</td><td>38.57698301345512</td><td>2015.5</td><td>-256.678</td><td>-181.951</td><td>125.01662360156993</td><td>22.3438</td><td>13.4114</td><td>13.979948</td><td>9.273</td><td>11.636954</td><td>11.278937</td><td>12.53774</td><td>11.2595</td><td>218903203</td><td>2610</td><td>nan</td></tr>\n",
       "<tr><td>63046419</td><td>4555549263</td><td>38.961256682268285</td><td>2015.5</td><td>-391.54</td><td>64.1317</td><td>124.61289448320561</td><td>18.9606</td><td>10.1921</td><td>nan</td><td>7.716</td><td>nan</td><td>nan</td><td>nan</td><td>9.04767</td><td>218903195</td><td>2610</td><td>nan</td></tr>\n",
       "<tr><td>63046431</td><td>4555551203</td><td>39.06769161537164</td><td>2015.5</td><td>-112.67</td><td>0.33</td><td>125.09953436612362</td><td>nan</td><td>12.7035</td><td>13.282244</td><td>8.827</td><td>11.108551</td><td>11.085285</td><td>11.866269</td><td>10.7227</td><td>218903207</td><td>2610</td><td>nan</td></tr>\n",
       "</table>"
      ],
      "text/plain": [
       "<Table length=568>\n",
       "   pk    catalogid          dec          ... priority cadence\n",
       " int64     int64          float64        ...  int64   float64\n",
       "-------- ---------- -------------------- ... -------- -------\n",
       "63043325 4361392765    40.30319573936042 ...     2610     nan\n",
       "63043308 4361394158      39.858012316963 ...     2610     nan\n",
       "63046423 4361394699     40.0741261735967 ...     2610     nan\n",
       "63046424 4361395060    40.05878431125135 ...     2610     nan\n",
       "63046430 4361395174    40.00483724068522 ...     2610     nan\n",
       "63046425 4361395457    39.86362188167618 ...     2610     nan\n",
       "63046420 4361396270    39.72395709792673 ...     2610     nan\n",
       "63046432 4361419395    39.41997190005375 ...     2610     nan\n",
       "63141658 4374999660  -0.5745580067209433 ...     2610     nan\n",
       "63141663 4374999813 -0.47214695295700104 ...     2610     nan\n",
       "     ...        ...                  ... ...      ...     ...\n",
       "63043307 4555535872    38.98496289582225 ...     2610     nan\n",
       "63043315 4555536623    38.87993924139887 ...     2610     nan\n",
       "63043321 4555536659    38.71881087860185 ...     2610     nan\n",
       "63046417 4555537682    38.97073755365673 ...     2610     nan\n",
       "63043324 4555537707    39.07191643885236 ...     2610     nan\n",
       "63043299 4555537845    39.48581754170121 ...     2610     nan\n",
       "63046426 4555548610     38.5479277021224 ...     2610     nan\n",
       "63046427 4555549027    38.57698301345512 ...     2610     nan\n",
       "63046419 4555549263   38.961256682268285 ...     2610     nan\n",
       "63046431 4555551203    39.06769161537164 ...     2610     nan"
      ]
     },
     "execution_count": 38,
     "metadata": {},
     "output_type": "execute_result"
    }
   ],
   "source": [
    "# Available\n",
    "planet_targets.data[planet_targets.available_in(platerun_08c)]"
   ]
  },
  {
   "cell_type": "code",
   "execution_count": 39,
   "metadata": {},
   "outputs": [
    {
     "data": {
      "text/html": [
       "<i>Table length=383</i>\n",
       "<table id=\"table140087196641888\" class=\"table-striped table-bordered table-condensed\">\n",
       "<thead><tr><th>pk</th><th>catalogid</th><th>dec</th><th>epoch</th><th>pmdec</th><th>pmra</th><th>ra</th><th>parallax</th><th>bp</th><th>g</th><th>h</th><th>i</th><th>z</th><th>r</th><th>rp</th><th>carton_to_target_pk</th><th>priority</th><th>cadence</th></tr></thead>\n",
       "<thead><tr><th>int64</th><th>int64</th><th>float64</th><th>float64</th><th>float64</th><th>float64</th><th>float64</th><th>float64</th><th>float64</th><th>float64</th><th>float64</th><th>float64</th><th>float64</th><th>float64</th><th>float64</th><th>int64</th><th>int64</th><th>float64</th></tr></thead>\n",
       "<tr><td>63043325</td><td>4361392765</td><td>40.30319573936042</td><td>2015.5</td><td>2.57513</td><td>-1.71171</td><td>124.29993356000742</td><td>1.29522</td><td>11.2907</td><td>11.259385</td><td>10.61</td><td>11.174022</td><td>11.385002</td><td>11.097343</td><td>10.8232</td><td>218899973</td><td>2610</td><td>nan</td></tr>\n",
       "<tr><td>63043308</td><td>4361394158</td><td>39.858012316963</td><td>2015.5</td><td>-82.8926</td><td>-47.413</td><td>123.76673898038653</td><td>6.22997</td><td>10.5914</td><td>nan</td><td>9.14</td><td>nan</td><td>nan</td><td>nan</td><td>9.89759</td><td>218899956</td><td>2610</td><td>nan</td></tr>\n",
       "<tr><td>63046423</td><td>4361394699</td><td>40.0741261735967</td><td>2015.5</td><td>-30.4811</td><td>-8.30247</td><td>124.83932137785541</td><td>9.33845</td><td>10.806</td><td>11.185884</td><td>8.947</td><td>10.235099</td><td>10.366385</td><td>10.402244</td><td>9.90238</td><td>218903199</td><td>2610</td><td>nan</td></tr>\n",
       "<tr><td>63046424</td><td>4361395060</td><td>40.05878431125135</td><td>2015.5</td><td>-37.7168</td><td>38.2377</td><td>124.87269737908333</td><td>16.2051</td><td>14.8655</td><td>15.444748</td><td>10.397</td><td>16.339457</td><td>12.314884</td><td>13.997108</td><td>12.4992</td><td>218903200</td><td>2610</td><td>nan</td></tr>\n",
       "<tr><td>63046430</td><td>4361395174</td><td>40.00483724068522</td><td>2015.5</td><td>-18.4764</td><td>1.15654</td><td>125.04005154227058</td><td>7.33312</td><td>10.8377</td><td>10.713544</td><td>9.183</td><td>12.130248</td><td>10.746652</td><td>10.480483</td><td>10.0292</td><td>218903206</td><td>2610</td><td>nan</td></tr>\n",
       "<tr><td>63046425</td><td>4361395457</td><td>39.86362188167618</td><td>2015.5</td><td>-50.1928</td><td>17.2616</td><td>124.8510349957936</td><td>8.95021</td><td>10.4808</td><td>10.650796</td><td>8.664</td><td>9.949589</td><td>10.088016</td><td>10.080173</td><td>9.5892</td><td>218903201</td><td>2610</td><td>nan</td></tr>\n",
       "<tr><td>63046420</td><td>4361396270</td><td>39.72395709792673</td><td>2015.5</td><td>-130.866</td><td>-2.67057</td><td>124.69237649985789</td><td>11.2937</td><td>8.63675</td><td>nan</td><td>7.181</td><td>nan</td><td>nan</td><td>nan</td><td>7.94442</td><td>218903196</td><td>2610</td><td>nan</td></tr>\n",
       "<tr><td>63046432</td><td>4361419395</td><td>39.41997190005375</td><td>2015.5</td><td>-17.0</td><td>-18.9</td><td>125.25693084696553</td><td>nan</td><td>10.7824</td><td>10.977473</td><td>9.213</td><td>10.325273</td><td>10.934608</td><td>10.440339</td><td>10.0003</td><td>218903208</td><td>2610</td><td>nan</td></tr>\n",
       "<tr><td>63141658</td><td>4374999660</td><td>-0.5745580067209433</td><td>2015.5</td><td>-61.7323</td><td>4.71508</td><td>14.14356669156949</td><td>9.07565</td><td>11.3563</td><td>11.595617</td><td>9.158</td><td>10.64795</td><td>10.715606</td><td>10.831746</td><td>10.2729</td><td>219001005</td><td>2610</td><td>nan</td></tr>\n",
       "<tr><td>63133308</td><td>4375019387</td><td>-1.9948404079390876</td><td>2015.5</td><td>-85.8486</td><td>43.0382</td><td>18.95472501051597</td><td>7.06504</td><td>10.331</td><td>10.536195</td><td>8.788</td><td>9.892625</td><td>10.6580715</td><td>9.999896</td><td>9.55947</td><td>218992441</td><td>2610</td><td>nan</td></tr>\n",
       "<tr><td>...</td><td>...</td><td>...</td><td>...</td><td>...</td><td>...</td><td>...</td><td>...</td><td>...</td><td>...</td><td>...</td><td>...</td><td>...</td><td>...</td><td>...</td><td>...</td><td>...</td><td>...</td></tr>\n",
       "<tr><td>63043302</td><td>4555500617</td><td>37.58499243058947</td><td>2015.5</td><td>-40.6813</td><td>-3.72825</td><td>123.6059032002805</td><td>7.39195</td><td>10.9476</td><td>11.15356</td><td>9.172</td><td>10.4155655</td><td>10.929435</td><td>10.5551815</td><td>10.0839</td><td>218899948</td><td>2610</td><td>nan</td></tr>\n",
       "<tr><td>63045762</td><td>4555533400</td><td>39.807342282838675</td><td>2015.5</td><td>34.2444</td><td>32.1763</td><td>122.50910331332832</td><td>16.0216</td><td>10.3506</td><td>10.626016</td><td>8.235</td><td>9.691122</td><td>10.324795</td><td>12.875179</td><td>9.35244</td><td>218902510</td><td>2610</td><td>nan</td></tr>\n",
       "<tr><td>63043307</td><td>4555535872</td><td>38.98496289582225</td><td>2015.5</td><td>4.83412</td><td>40.2618</td><td>123.6998809266123</td><td>17.9481</td><td>13.8765</td><td>14.4816065</td><td>9.756</td><td>13.493853</td><td>11.714155</td><td>14.022679</td><td>11.7366</td><td>218899955</td><td>2610</td><td>nan</td></tr>\n",
       "<tr><td>63043315</td><td>4555536623</td><td>38.87993924139887</td><td>2015.5</td><td>-5.16776</td><td>-2.15639</td><td>123.99609162381849</td><td>1.88671</td><td>9.53646</td><td>12.706002</td><td>7.036</td><td>11.878302</td><td>9.179713</td><td>12.083773</td><td>8.36733</td><td>218899963</td><td>2610</td><td>nan</td></tr>\n",
       "<tr><td>63043321</td><td>4555536659</td><td>38.71881087860185</td><td>2015.5</td><td>-58.4651</td><td>75.3848</td><td>124.18519373845528</td><td>9.63697</td><td>10.9125</td><td>11.035837</td><td>8.915</td><td>10.303688</td><td>10.525346</td><td>10.489613</td><td>9.96523</td><td>218899969</td><td>2610</td><td>nan</td></tr>\n",
       "<tr><td>63046417</td><td>4555537682</td><td>38.97073755365673</td><td>2015.5</td><td>-29.8401</td><td>135.098</td><td>124.47849985146189</td><td>25.8652</td><td>17.8445</td><td>18.458498</td><td>11.876</td><td>15.019452</td><td>14.023022</td><td>16.90033</td><td>14.4081</td><td>218903193</td><td>2610</td><td>nan</td></tr>\n",
       "<tr><td>63043324</td><td>4555537707</td><td>39.07191643885236</td><td>2015.5</td><td>-124.7</td><td>96.6677</td><td>124.43101587634926</td><td>16.6009</td><td>13.9592</td><td>14.470152</td><td>9.777</td><td>12.105892</td><td>11.667351</td><td>15.404278</td><td>11.7786</td><td>218899972</td><td>2610</td><td>nan</td></tr>\n",
       "<tr><td>63043299</td><td>4555537845</td><td>39.48581754170121</td><td>2015.5</td><td>-28.8017</td><td>37.9702</td><td>123.50571069570914</td><td>1.91588</td><td>9.75056</td><td>9.962364</td><td>7.174</td><td>8.90523</td><td>9.308903</td><td>14.693459</td><td>8.56018</td><td>218899945</td><td>2610</td><td>nan</td></tr>\n",
       "<tr><td>63046426</td><td>4555548610</td><td>38.5479277021224</td><td>2015.5</td><td>-6.62478</td><td>5.96645</td><td>124.8012667660502</td><td>4.01753</td><td>8.72705</td><td>8.803493</td><td>8.274</td><td>8.799422</td><td>9.187824</td><td>8.702056</td><td>8.49916</td><td>218903202</td><td>2610</td><td>nan</td></tr>\n",
       "<tr><td>63046419</td><td>4555549263</td><td>38.961256682268285</td><td>2015.5</td><td>-391.54</td><td>64.1317</td><td>124.61289448320561</td><td>18.9606</td><td>10.1921</td><td>nan</td><td>7.716</td><td>nan</td><td>nan</td><td>nan</td><td>9.04767</td><td>218903195</td><td>2610</td><td>nan</td></tr>\n",
       "</table>"
      ],
      "text/plain": [
       "<Table length=383>\n",
       "   pk    catalogid          dec         ... carton_to_target_pk priority cadence\n",
       " int64     int64          float64       ...        int64         int64   float64\n",
       "-------- ---------- ------------------- ... ------------------- -------- -------\n",
       "63043325 4361392765   40.30319573936042 ...           218899973     2610     nan\n",
       "63043308 4361394158     39.858012316963 ...           218899956     2610     nan\n",
       "63046423 4361394699    40.0741261735967 ...           218903199     2610     nan\n",
       "63046424 4361395060   40.05878431125135 ...           218903200     2610     nan\n",
       "63046430 4361395174   40.00483724068522 ...           218903206     2610     nan\n",
       "63046425 4361395457   39.86362188167618 ...           218903201     2610     nan\n",
       "63046420 4361396270   39.72395709792673 ...           218903196     2610     nan\n",
       "63046432 4361419395   39.41997190005375 ...           218903208     2610     nan\n",
       "63141658 4374999660 -0.5745580067209433 ...           219001005     2610     nan\n",
       "63133308 4375019387 -1.9948404079390876 ...           218992441     2610     nan\n",
       "     ...        ...                 ... ...                 ...      ...     ...\n",
       "63043302 4555500617   37.58499243058947 ...           218899948     2610     nan\n",
       "63045762 4555533400  39.807342282838675 ...           218902510     2610     nan\n",
       "63043307 4555535872   38.98496289582225 ...           218899955     2610     nan\n",
       "63043315 4555536623   38.87993924139887 ...           218899963     2610     nan\n",
       "63043321 4555536659   38.71881087860185 ...           218899969     2610     nan\n",
       "63046417 4555537682   38.97073755365673 ...           218903193     2610     nan\n",
       "63043324 4555537707   39.07191643885236 ...           218899972     2610     nan\n",
       "63043299 4555537845   39.48581754170121 ...           218899945     2610     nan\n",
       "63046426 4555548610    38.5479277021224 ...           218903202     2610     nan\n",
       "63046419 4555549263  38.961256682268285 ...           218903195     2610     nan"
      ]
     },
     "execution_count": 39,
     "metadata": {},
     "output_type": "execute_result"
    }
   ],
   "source": [
    "# Assigned_in works exactly the same way as for fields\n",
    "planet_targets.data[planet_targets.assigned_in(platerun_08c)]"
   ]
  },
  {
   "cell_type": "markdown",
   "metadata": {},
   "source": [
    "#### Getting more information for assigned targets\n",
    "`available_in` and `assigned_in` help you understand things about your input Targets object.\n",
    "\n",
    "To know HOW, exactly, your targets were assigned, use `assigned_info`.\n",
    "This will pull the relevant rows from the plate files."
   ]
  },
  {
   "cell_type": "code",
   "execution_count": 40,
   "metadata": {},
   "outputs": [
    {
     "data": {
      "text/html": [
       "<i>Table length=8</i>\n",
       "<table id=\"table140087223999264\" class=\"table-striped table-bordered table-condensed\">\n",
       "<thead><tr><th>target_ra</th><th>target_dec</th><th>holetype</th><th>targettype</th><th>catalogid</th><th>tmass_id</th><th>firstcarton</th><th>tmass_h</th><th>gaia_g</th><th>gaia_rp</th><th>gaia_bp</th><th>epoch</th><th>plate</th><th>field</th></tr></thead>\n",
       "<thead><tr><th>float64</th><th>float64</th><th>str13</th><th>str8</th><th>uint64</th><th>str23</th><th>str19</th><th>float64</th><th>float64</th><th>float64</th><th>float64</th><th>float64</th><th>int64</th><th>bytes200</th></tr></thead>\n",
       "<tr><td>3.0179016</td><td>26.516625</td><td>APOGEE_SHARED</td><td>science</td><td>4400726315</td><td>2MASS-J00120421+2631008</td><td>mwm_planet_tess</td><td>9.293</td><td>11.6254</td><td>10.8608</td><td>12.274</td><td>2020.8</td><td>15004</td><td>AQM_001.85_+26.44</td></tr>\n",
       "<tr><td>3.1523758</td><td>26.252226</td><td>APOGEE_SHARED</td><td>science</td><td>4400726404</td><td>2MASS-J00123658+2615081</td><td>mwm_planet_tess</td><td>10.946</td><td>12.3186</td><td>11.8233</td><td>12.6512</td><td>2020.8</td><td>15004</td><td>AQM_001.85_+26.44</td></tr>\n",
       "<tr><td>3.3869881</td><td>26.819795</td><td>APOGEE_SHARED</td><td>science</td><td>4402835549</td><td>2MASS-J00133290+2649115</td><td>mwm_snc_250pc</td><td>9.234</td><td>10.6139</td><td>10.1126</td><td>10.9878</td><td>2020.8</td><td>15004</td><td>AQM_001.85_+26.44</td></tr>\n",
       "<tr><td>2.3777257</td><td>27.31645</td><td>APOGEE_SHARED</td><td>science</td><td>4402838198</td><td>2MASS-J00093051+2718584</td><td>mwm_snc_100pc</td><td>9.911</td><td>12.6616</td><td>11.7227</td><td>13.5774</td><td>2020.8</td><td>15004</td><td>AQM_001.85_+26.44</td></tr>\n",
       "<tr><td>2.3601101</td><td>27.496561</td><td>APOGEE_SHARED</td><td>science</td><td>4402838643</td><td>2MASS-J00092642+2729485</td><td>mwm_snc_250pc</td><td>9.145</td><td>10.7554</td><td>10.2025</td><td>11.1768</td><td>2020.8</td><td>15004</td><td>AQM_001.85_+26.44</td></tr>\n",
       "<tr><td>2.5787315</td><td>27.539313</td><td>APOGEE_SHARED</td><td>science</td><td>4402838933</td><td>2MASS-J00101886+2732218</td><td>mwm_snc_250pc</td><td>9.547</td><td>10.843</td><td>10.3745</td><td>11.1787</td><td>2020.8</td><td>15004</td><td>AQM_001.85_+26.44</td></tr>\n",
       "<tr><td>2.2492676</td><td>27.666838</td><td>APOGEE_SHARED</td><td>science</td><td>4402839837</td><td>2MASS-J00085952+2739581</td><td>mwm_snc_100pc</td><td>9.812</td><td>12.7371</td><td>11.7309</td><td>13.7767</td><td>2020.8</td><td>15004</td><td>AQM_001.85_+26.44</td></tr>\n",
       "<tr><td>2.5314287</td><td>27.629205</td><td>APOGEE_SHARED</td><td>science</td><td>4402840037</td><td>2MASS-J00100745+2737460</td><td>mwm_snc_100pc</td><td>10.121</td><td>13.3348</td><td>12.2451</td><td>14.5475</td><td>2020.8</td><td>15004</td><td>AQM_001.85_+26.44</td></tr>\n",
       "</table>"
      ],
      "text/plain": [
       "<Table length=8>\n",
       "target_ra target_dec    holetype   ...  epoch  plate       field      \n",
       " float64   float64       str13     ... float64 int64      bytes200    \n",
       "--------- ---------- ------------- ... ------- ----- -----------------\n",
       "3.0179016  26.516625 APOGEE_SHARED ...  2020.8 15004 AQM_001.85_+26.44\n",
       "3.1523758  26.252226 APOGEE_SHARED ...  2020.8 15004 AQM_001.85_+26.44\n",
       "3.3869881  26.819795 APOGEE_SHARED ...  2020.8 15004 AQM_001.85_+26.44\n",
       "2.3777257   27.31645 APOGEE_SHARED ...  2020.8 15004 AQM_001.85_+26.44\n",
       "2.3601101  27.496561 APOGEE_SHARED ...  2020.8 15004 AQM_001.85_+26.44\n",
       "2.5787315  27.539313 APOGEE_SHARED ...  2020.8 15004 AQM_001.85_+26.44\n",
       "2.2492676  27.666838 APOGEE_SHARED ...  2020.8 15004 AQM_001.85_+26.44\n",
       "2.5314287  27.629205 APOGEE_SHARED ...  2020.8 15004 AQM_001.85_+26.44"
      ]
     },
     "execution_count": 40,
     "metadata": {},
     "output_type": "execute_result"
    }
   ],
   "source": [
    "planet_targets.assigned_info(example_field)\n",
    "# information includes the instrument used ('holetype') and the carton the object was targeted under ('firstcarton')"
   ]
  },
  {
   "cell_type": "code",
   "execution_count": 41,
   "metadata": {},
   "outputs": [
    {
     "data": {
      "text/html": [
       "<i>Table length=398</i>\n",
       "<table id=\"table140087196639680\" class=\"table-striped table-bordered table-condensed\">\n",
       "<thead><tr><th>target_ra</th><th>target_dec</th><th>holetype</th><th>targettype</th><th>catalogid</th><th>tmass_id</th><th>firstcarton</th><th>tmass_h</th><th>gaia_g</th><th>gaia_rp</th><th>gaia_bp</th><th>epoch</th><th>plate</th><th>field</th></tr></thead>\n",
       "<thead><tr><th>float64</th><th>float64</th><th>str13</th><th>str8</th><th>uint64</th><th>str23</th><th>str21</th><th>float64</th><th>float64</th><th>float64</th><th>float64</th><th>float64</th><th>int64</th><th>bytes200</th></tr></thead>\n",
       "<tr><td>124.29993</td><td>40.303196</td><td>APOGEE_SHARED</td><td>science</td><td>4361392765</td><td>2MASS-J08171198+4018115</td><td>mwm_planet_tess</td><td>10.61</td><td>11.1018</td><td>10.8232</td><td>11.2907</td><td>2020.8</td><td>15026</td><td>AQW_123.88_+38.85</td></tr>\n",
       "<tr><td>123.76674</td><td>39.858012</td><td>APOGEE_SHARED</td><td>science</td><td>4361394158</td><td>2MASS-J08150408+3951302</td><td>mwm_snc_250pc</td><td>9.14</td><td>10.3114</td><td>9.8976</td><td>10.5914</td><td>2020.8</td><td>15026</td><td>AQW_123.88_+38.85</td></tr>\n",
       "<tr><td>124.83932</td><td>40.074126</td><td>APOGEE_SHARED</td><td>science</td><td>4361394699</td><td>2MASS-J08192145+4004273</td><td>mwm_snc_250pc</td><td>8.947</td><td>10.4187</td><td>9.9024</td><td>10.806</td><td>2020.8</td><td>15026</td><td>AQW_123.88_+38.85</td></tr>\n",
       "<tr><td>124.8727</td><td>40.058784</td><td>APOGEE_SHARED</td><td>science</td><td>4361395060</td><td>2MASS-J08192938+4003322</td><td>mwm_snc_100pc</td><td>10.397</td><td>13.6032</td><td>12.4992</td><td>14.8655</td><td>2020.8</td><td>15026</td><td>AQW_123.88_+38.85</td></tr>\n",
       "<tr><td>125.04005</td><td>40.004837</td><td>APOGEE_SHARED</td><td>science</td><td>4361395174</td><td>2MASS-J08200961+4000175</td><td>mwm_snc_250pc</td><td>9.183</td><td>10.5023</td><td>10.0292</td><td>10.8377</td><td>2020.8</td><td>15026</td><td>AQW_123.88_+38.85</td></tr>\n",
       "<tr><td>124.85103</td><td>39.863622</td><td>APOGEE_SHARED</td><td>science</td><td>4361395457</td><td>2MASS-J08192421+3951499</td><td>mwm_snc_250pc</td><td>8.664</td><td>10.1004</td><td>9.5892</td><td>10.4808</td><td>2020.8</td><td>15026</td><td>AQW_123.88_+38.85</td></tr>\n",
       "<tr><td>124.69238</td><td>39.723957</td><td>APOGEE_SHARED</td><td>science</td><td>4361396270</td><td>2MASS-J08184616+3943286</td><td>mwm_snc_100pc</td><td>7.181</td><td>8.3503</td><td>7.9444</td><td>8.6367</td><td>2020.8</td><td>15026</td><td>AQW_123.88_+38.85</td></tr>\n",
       "<tr><td>125.25693</td><td>39.419972</td><td>APOGEE_SHARED</td><td>science</td><td>4361419395</td><td>2MASS-J08210169+3925122</td><td>mwm_snc_250pc</td><td>9.213</td><td>10.4649</td><td>10.0003</td><td>10.7824</td><td>2020.8</td><td>15026</td><td>AQW_123.88_+38.85</td></tr>\n",
       "<tr><td>14.143567</td><td>-0.574558</td><td>APOGEE_SHARED</td><td>science</td><td>4374999660</td><td>2MASS-J00563444-0034274</td><td>mwm_snc_250pc</td><td>9.158</td><td>10.8709</td><td>10.2729</td><td>11.3563</td><td>2020.8</td><td>15008</td><td>AQM_013.71_+00.82</td></tr>\n",
       "<tr><td>18.954725</td><td>-1.9948404</td><td>APOGEE_SHARED</td><td>science</td><td>4375019387</td><td>2MASS-J01154908-0159399</td><td>mwm_snc_250pc</td><td>8.788</td><td>10.0087</td><td>9.5595</td><td>10.331</td><td>2020.8</td><td>15009</td><td>AQM_019.60_-00.75</td></tr>\n",
       "<tr><td>...</td><td>...</td><td>...</td><td>...</td><td>...</td><td>...</td><td>...</td><td>...</td><td>...</td><td>...</td><td>...</td><td>...</td><td>...</td><td>...</td></tr>\n",
       "<tr><td>123.6059</td><td>37.584992</td><td>APOGEE_SHARED</td><td>science</td><td>4555500617</td><td>2MASS-J08142542+3735067</td><td>mwm_snc_250pc</td><td>9.172</td><td>10.5826</td><td>10.0839</td><td>10.9476</td><td>2020.8</td><td>15026</td><td>AQW_123.88_+38.85</td></tr>\n",
       "<tr><td>122.5091</td><td>39.807342</td><td>APOGEE_SHARED</td><td>science</td><td>4555533400</td><td>2MASS-J08100213+3948258</td><td>mwm_snc_100pc</td><td>8.235</td><td>9.9191</td><td>9.3524</td><td>10.3506</td><td>2020.8</td><td>15026</td><td>AQW_123.88_+38.85</td></tr>\n",
       "<tr><td>123.69988</td><td>38.984963</td><td>APOGEE_SHARED</td><td>science</td><td>4555535872</td><td>2MASS-J08144790+3859058</td><td>mwm_snc_100pc</td><td>9.756</td><td>12.7678</td><td>11.7366</td><td>13.8765</td><td>2020.8</td><td>15026</td><td>AQW_123.88_+38.85</td></tr>\n",
       "<tr><td>123.99609</td><td>38.879939</td><td>APOGEE_SHARED</td><td>science</td><td>4555536623</td><td>2MASS-J08155907+3852477</td><td>mwm_planet_tess</td><td>7.036</td><td>9.0053</td><td>8.3673</td><td>9.5365</td><td>2020.8</td><td>15026</td><td>AQW_123.88_+38.85</td></tr>\n",
       "<tr><td>124.18519</td><td>38.718811</td><td>APOGEE_SHARED</td><td>science</td><td>4555536659</td><td>2MASS-J08164433+3843086</td><td>mwm_snc_250pc</td><td>8.915</td><td>10.5066</td><td>9.9652</td><td>10.9125</td><td>2020.8</td><td>15026</td><td>AQW_123.88_+38.85</td></tr>\n",
       "<tr><td>124.4785</td><td>38.970738</td><td>APOGEE_SHARED</td><td>science</td><td>4555537682</td><td>2MASS-J08175464+3858151</td><td>mwm_snc_100pc</td><td>11.876</td><td>15.7622</td><td>14.4081</td><td>17.8445</td><td>2020.8</td><td>15026</td><td>AQW_123.88_+38.85</td></tr>\n",
       "<tr><td>124.43102</td><td>39.071916</td><td>APOGEE_SHARED</td><td>science</td><td>4555537707</td><td>2MASS-J08174329+3904211</td><td>mwm_snc_100pc</td><td>9.777</td><td>12.8279</td><td>11.7786</td><td>13.9592</td><td>2020.8</td><td>15026</td><td>AQW_123.88_+38.85</td></tr>\n",
       "<tr><td>123.50571</td><td>39.485818</td><td>APOGEE_SHARED</td><td>science</td><td>4555537845</td><td>2MASS-J08140130+3929094</td><td>mwm_planet_tess</td><td>7.174</td><td>9.2132</td><td>8.5602</td><td>9.7506</td><td>2020.8</td><td>15026</td><td>AQW_123.88_+38.85</td></tr>\n",
       "<tr><td>124.80127</td><td>38.547928</td><td>APOGEE_SHARED</td><td>science</td><td>4555548610</td><td>2MASS-J08191229+3832526</td><td>mwm_planet_tess</td><td>8.274</td><td>8.6313</td><td>8.4992</td><td>8.7271</td><td>2020.8</td><td>15026</td><td>AQW_123.88_+38.85</td></tr>\n",
       "<tr><td>124.61289</td><td>38.961257</td><td>APOGEE_SHARED</td><td>science</td><td>4555549263</td><td>2MASS-J08182701+3857470</td><td>mwm_snc_100pc</td><td>7.716</td><td>9.6877</td><td>9.0477</td><td>10.1921</td><td>2020.8</td><td>15026</td><td>AQW_123.88_+38.85</td></tr>\n",
       "</table>"
      ],
      "text/plain": [
       "<Table length=398>\n",
       "target_ra target_dec    holetype   ...  epoch  plate       field      \n",
       " float64   float64       str13     ... float64 int64      bytes200    \n",
       "--------- ---------- ------------- ... ------- ----- -----------------\n",
       "124.29993  40.303196 APOGEE_SHARED ...  2020.8 15026 AQW_123.88_+38.85\n",
       "123.76674  39.858012 APOGEE_SHARED ...  2020.8 15026 AQW_123.88_+38.85\n",
       "124.83932  40.074126 APOGEE_SHARED ...  2020.8 15026 AQW_123.88_+38.85\n",
       " 124.8727  40.058784 APOGEE_SHARED ...  2020.8 15026 AQW_123.88_+38.85\n",
       "125.04005  40.004837 APOGEE_SHARED ...  2020.8 15026 AQW_123.88_+38.85\n",
       "124.85103  39.863622 APOGEE_SHARED ...  2020.8 15026 AQW_123.88_+38.85\n",
       "124.69238  39.723957 APOGEE_SHARED ...  2020.8 15026 AQW_123.88_+38.85\n",
       "125.25693  39.419972 APOGEE_SHARED ...  2020.8 15026 AQW_123.88_+38.85\n",
       "14.143567  -0.574558 APOGEE_SHARED ...  2020.8 15008 AQM_013.71_+00.82\n",
       "18.954725 -1.9948404 APOGEE_SHARED ...  2020.8 15009 AQM_019.60_-00.75\n",
       "      ...        ...           ... ...     ...   ...               ...\n",
       " 123.6059  37.584992 APOGEE_SHARED ...  2020.8 15026 AQW_123.88_+38.85\n",
       " 122.5091  39.807342 APOGEE_SHARED ...  2020.8 15026 AQW_123.88_+38.85\n",
       "123.69988  38.984963 APOGEE_SHARED ...  2020.8 15026 AQW_123.88_+38.85\n",
       "123.99609  38.879939 APOGEE_SHARED ...  2020.8 15026 AQW_123.88_+38.85\n",
       "124.18519  38.718811 APOGEE_SHARED ...  2020.8 15026 AQW_123.88_+38.85\n",
       " 124.4785  38.970738 APOGEE_SHARED ...  2020.8 15026 AQW_123.88_+38.85\n",
       "124.43102  39.071916 APOGEE_SHARED ...  2020.8 15026 AQW_123.88_+38.85\n",
       "123.50571  39.485818 APOGEE_SHARED ...  2020.8 15026 AQW_123.88_+38.85\n",
       "124.80127  38.547928 APOGEE_SHARED ...  2020.8 15026 AQW_123.88_+38.85\n",
       "124.61289  38.961257 APOGEE_SHARED ...  2020.8 15026 AQW_123.88_+38.85"
      ]
     },
     "execution_count": 41,
     "metadata": {},
     "output_type": "execute_result"
    }
   ],
   "source": [
    "# also works for a full plate run!\n",
    "planet_targets.assigned_info(platerun_08c)"
   ]
  },
  {
   "cell_type": "markdown",
   "metadata": {},
   "source": [
    "Thanks for reading this through!"
   ]
  }
 ],
 "metadata": {
  "kernelspec": {
   "display_name": "Python 3",
   "language": "python",
   "name": "python3"
  },
  "language_info": {
   "codemirror_mode": {
    "name": "ipython",
    "version": 3
   },
   "file_extension": ".py",
   "mimetype": "text/x-python",
   "name": "python",
   "nbconvert_exporter": "python",
   "pygments_lexer": "ipython3",
   "version": "3.8.6"
  }
 },
 "nbformat": 4,
 "nbformat_minor": 4
}
