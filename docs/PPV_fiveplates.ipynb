{
 "cells": [
  {
   "cell_type": "code",
   "execution_count": null,
   "metadata": {},
   "outputs": [],
   "source": [
    "# this cell is just for display purposes, NOT necessary for your code\n",
    "%config IPCompleter.use_jedi = False\n",
    "# rediculous bug in Jedi it seems"
   ]
  },
  {
   "cell_type": "markdown",
   "metadata": {},
   "source": [
    "# Assumptions\n",
    "#### This short tutorial assumes that you understand the basic concepts and functionality of `ppv`.\n",
    "\n",
    "#### Please review the `PPV_tutorial` first."
   ]
  },
  {
   "cell_type": "markdown",
   "metadata": {},
   "source": [
    "## Setup for five_plates\n",
    "\n",
    "\\# clone the repository\\\n",
    "\n",
    "pwd &nbsp;&nbsp;&nbsp;&nbsp;&nbsp;&nbsp;&nbsp;&nbsp;      \\#  assume the output of this is '/home/user/sdss5' \\\n",
    "git clone https://github.com/sdss/five_plates.git\n",
    "\n",
    "edit your `ppv_setup.ini` file to include the line:\n",
    "\n",
    "fiveplates_dir = /home/user/sdss5/five_plates/plateruns\n",
    "\n",
    "\n"
   ]
  },
  {
   "cell_type": "code",
   "execution_count": null,
   "metadata": {},
   "outputs": [],
   "source": [
    "from astropy.table import Table\n",
    "import ppv  # the FIRST time you import ppv, the platePlans.par file is downloaded\n",
    "# you can ignore the WARNING"
   ]
  },
  {
   "cell_type": "code",
   "execution_count": null,
   "metadata": {},
   "outputs": [],
   "source": [
    "# make the targets object just as before\n",
    "# table of targets from v0.1 of targetDB  (read 'Targets' to see how to get this file; just demoing here)\n",
    "planet_targetDB = Table.read('/home/jquark/projects/sdss5/ppv/data/raw/mwm_planet_0.1.0_targetdb.fits.gz')\n",
    "planet_targetDB"
   ]
  },
  {
   "cell_type": "code",
   "execution_count": null,
   "metadata": {},
   "outputs": [],
   "source": [
    "# Create targets object (see Targets section below for more information)\n",
    "from ppv.targets import Targets\n",
    "\n",
    "planet_targets = Targets(planet_targetDB['ra'], planet_targetDB['dec'],\n",
    "                         planet_targetDB['catalogid'],\n",
    "                         data=planet_targetDB)\n",
    "print(planet_targets)\n"
   ]
  },
  {
   "cell_type": "code",
   "execution_count": null,
   "metadata": {},
   "outputs": [],
   "source": [
    "# find available palteruns in five_plates\n",
    "import ppv.fiveplates\n",
    "\n",
    "ppv.fiveplates.available_plateruns()"
   ]
  },
  {
   "cell_type": "code",
   "execution_count": null,
   "metadata": {},
   "outputs": [],
   "source": [
    "#Define a platerun \n",
    "platerun_08x = ppv.fiveplates.Platerun('2020.08.x.mwm-bhm')"
   ]
  },
  {
   "cell_type": "code",
   "execution_count": null,
   "metadata": {},
   "outputs": [],
   "source": [
    "# SAME functionality as in ppv.groups (for plugplate files)!\n",
    "# Get available targets based on position. \n",
    "# These targets COULD have been observed in this five_plates run\n",
    "\n",
    "maybe_observed = planet_targets.available_in(platerun_08x)\n",
    "planet_targets.data[maybe_observed]"
   ]
  },
  {
   "cell_type": "code",
   "execution_count": null,
   "metadata": {},
   "outputs": [],
   "source": [
    "# Get targets that were assigned a fiber in this five_plates platerun.\n",
    "observed = planet_targets.assigned_in(platerun_08x)\n",
    "planet_targets.data[observed]"
   ]
  },
  {
   "cell_type": "code",
   "execution_count": null,
   "metadata": {},
   "outputs": [],
   "source": [
    "# Get targets that were \"available\" but NOT assigned a fiber in this five_plates run.\n",
    "not_observed = planet_targets.not_assigned_in(platerun_08x)\n",
    "planet_targets.data[not_observed]"
   ]
  },
  {
   "cell_type": "code",
   "execution_count": null,
   "metadata": {},
   "outputs": [],
   "source": [
    "# Get fiber information for the assigned targets (includes instrument and firstcarton)\n",
    "planet_targets.assigned_info(platerun_08x)"
   ]
  },
  {
   "cell_type": "markdown",
   "metadata": {},
   "source": [
    "Thanks for reading this through!"
   ]
  }
 ],
 "metadata": {
  "kernelspec": {
   "display_name": "Python 3",
   "language": "python",
   "name": "python3"
  },
  "language_info": {
   "codemirror_mode": {
    "name": "ipython",
    "version": 3
   },
   "file_extension": ".py",
   "mimetype": "text/x-python",
   "name": "python",
   "nbconvert_exporter": "python",
   "pygments_lexer": "ipython3",
   "version": "3.8.5"
  }
 },
 "nbformat": 4,
 "nbformat_minor": 4
}
