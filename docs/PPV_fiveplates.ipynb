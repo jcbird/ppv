{
 "cells": [
  {
   "cell_type": "code",
   "execution_count": 1,
   "metadata": {},
   "outputs": [],
   "source": [
    "# this cell is just for display purposes, NOT necessary for your code\n",
    "%config IPCompleter.use_jedi = False\n",
    "# rediculous bug in Jedi it seems"
   ]
  },
  {
   "cell_type": "markdown",
   "metadata": {},
   "source": [
    "# Assumptions\n",
    "#### This short tutorial assumes that you understand the basic concepts and functionality of `ppv`.\n",
    "\n",
    "#### Please review the `PPV_tutorial` first."
   ]
  },
  {
   "cell_type": "markdown",
   "metadata": {},
   "source": [
    "## Setup for five_plates\n",
    "\n",
    "\\# clone the repository\\\n",
    "\n",
    "pwd &nbsp;&nbsp;&nbsp;&nbsp;&nbsp;&nbsp;&nbsp;&nbsp;      \\#  assume the output of this is '/home/user/sdss5' \\\n",
    "git clone https://github.com/sdss/five_plates.git\n",
    "\n",
    "edit your `ppv_setup.ini` file to include the line:\n",
    "\n",
    "fiveplates_dir = /home/user/sdss5/five_plates/plateruns\n",
    "\n",
    "\n"
   ]
  },
  {
   "cell_type": "code",
   "execution_count": 2,
   "metadata": {},
   "outputs": [
    {
     "name": "stdout",
     "output_type": "stream",
     "text": [
      "SDSS-V platePlans table written to /home/jquark/obsdata/plates/test10/platePlans_sdss5.fits\n"
     ]
    },
    {
     "name": "stderr",
     "output_type": "stream",
     "text": [
      "WARNING: VerifyWarning: Keyword name '@insert_new_runs_here' is greater than 8 characters or contains characters not allowed by the FITS standard; a HIERARCH card will be created. [astropy.io.fits.card]\n"
     ]
    }
   ],
   "source": [
    "from astropy.table import Table\n",
    "import ppv  # the FIRST time you import ppv, the platePlans.par file is downloaded\n",
    "# you can ignore the WARNING"
   ]
  },
  {
   "cell_type": "code",
   "execution_count": 3,
   "metadata": {},
   "outputs": [
    {
     "data": {
      "text/html": [
       "<i>Table masked=True length=177494</i>\n",
       "<table id=\"table140561508235392\" class=\"table-striped table-bordered table-condensed\">\n",
       "<thead><tr><th>pk</th><th>catalogid</th><th>dec</th><th>epoch</th><th>pmdec</th><th>pmra</th><th>ra</th><th>parallax</th><th>bp</th><th>g</th><th>h</th><th>i</th><th>z</th><th>r</th><th>rp</th><th>carton_to_target_pk</th><th>priority</th><th>cadence</th></tr></thead>\n",
       "<thead><tr><th>int64</th><th>int64</th><th>float64</th><th>float64</th><th>float64</th><th>float64</th><th>float64</th><th>float64</th><th>float64</th><th>float64</th><th>float64</th><th>float64</th><th>float64</th><th>float64</th><th>float64</th><th>int64</th><th>int64</th><th>float64</th></tr></thead>\n",
       "<tr><td>63175099</td><td>5899605923</td><td>-78.21534924835343</td><td>2015.5</td><td>14.1147</td><td>-38.6776</td><td>60.547077373326104</td><td>6.93683</td><td>12.128</td><td>nan</td><td>9.862</td><td>nan</td><td>nan</td><td>nan</td><td>11.0435</td><td>219035535</td><td>2610</td><td>nan</td></tr>\n",
       "<tr><td>63157233</td><td>4402418495</td><td>21.66332767920415</td><td>2015.5</td><td>-109.633</td><td>7.17993</td><td>31.263017487803467</td><td>20.7948</td><td>14.3031</td><td>14.787473</td><td>9.92</td><td>12.3524275</td><td>11.75437</td><td>13.461728</td><td>11.9392</td><td>219017066</td><td>2610</td><td>nan</td></tr>\n",
       "<tr><td>63122016</td><td>5506182135</td><td>-43.21783272575037</td><td>2015.5</td><td>-14.7191</td><td>0.682634</td><td>247.91725296709603</td><td>7.70603</td><td>7.83748</td><td>nan</td><td>7.174</td><td>nan</td><td>nan</td><td>nan</td><td>7.49896</td><td>218980933</td><td>2610</td><td>nan</td></tr>\n",
       "<tr><td>63091382</td><td>4463116855</td><td>-14.513036319380562</td><td>2015.5</td><td>-6.37019</td><td>4.92747</td><td>104.34758191416756</td><td>1.12194</td><td>10.5276</td><td>nan</td><td>7.105</td><td>nan</td><td>nan</td><td>nan</td><td>8.92582</td><td>218949562</td><td>2610</td><td>nan</td></tr>\n",
       "<tr><td>63118257</td><td>5586440847</td><td>-51.41270429850474</td><td>2015.5</td><td>-21.3015</td><td>-13.3081</td><td>260.93348213188403</td><td>5.28588</td><td>10.5844</td><td>nan</td><td>8.957</td><td>nan</td><td>nan</td><td>nan</td><td>9.74636</td><td>218977088</td><td>2610</td><td>nan</td></tr>\n",
       "<tr><td>63091580</td><td>4462892628</td><td>-15.239871845454239</td><td>2015.5</td><td>-2.09111</td><td>8.7913</td><td>104.97090680013638</td><td>4.43258</td><td>8.76869</td><td>nan</td><td>7.386</td><td>nan</td><td>nan</td><td>nan</td><td>8.08015</td><td>218949768</td><td>2610</td><td>nan</td></tr>\n",
       "<tr><td>63108942</td><td>4565510987</td><td>-37.15011033546536</td><td>2015.5</td><td>-3.45415</td><td>1.93608</td><td>174.00421431798677</td><td>5.31434</td><td>10.0641</td><td>nan</td><td>8.811</td><td>nan</td><td>nan</td><td>nan</td><td>9.40888</td><td>218967532</td><td>2610</td><td>nan</td></tr>\n",
       "<tr><td>63168604</td><td>5860755077</td><td>-58.60396191630203</td><td>2015.5</td><td>-7.24925</td><td>-14.9866</td><td>118.09324406932826</td><td>4.37178</td><td>11.0412</td><td>nan</td><td>9.415</td><td>nan</td><td>nan</td><td>nan</td><td>10.2561</td><td>219028843</td><td>2610</td><td>nan</td></tr>\n",
       "<tr><td>63085280</td><td>4359635452</td><td>59.147854858338874</td><td>2015.5</td><td>13.1075</td><td>-37.0682</td><td>177.6627793916816</td><td>5.70058</td><td>10.8702</td><td>11.195846</td><td>9.323</td><td>10.41726</td><td>10.57139</td><td>10.534372</td><td>10.0994</td><td>218943304</td><td>2610</td><td>nan</td></tr>\n",
       "<tr><td>63072890</td><td>5932481921</td><td>-40.69317747383978</td><td>2015.5</td><td>161.619</td><td>135.69</td><td>38.515603314594095</td><td>8.31503</td><td>10.9198</td><td>nan</td><td>9.052</td><td>nan</td><td>nan</td><td>nan</td><td>9.99513</td><td>218930520</td><td>2610</td><td>nan</td></tr>\n",
       "<tr><td>...</td><td>...</td><td>...</td><td>...</td><td>...</td><td>...</td><td>...</td><td>...</td><td>...</td><td>...</td><td>...</td><td>...</td><td>...</td><td>...</td><td>...</td><td>...</td><td>...</td><td>...</td></tr>\n",
       "<tr><td>63195358</td><td>5892268075</td><td>-69.3746317038302</td><td>2015.5</td><td>-8.68023</td><td>12.6084</td><td>325.1945329688176</td><td>2.45252</td><td>8.91657</td><td>nan</td><td>8.165</td><td>nan</td><td>nan</td><td>nan</td><td>8.5458</td><td>218895690</td><td>2605</td><td>nan</td></tr>\n",
       "<tr><td>63195708</td><td>4325907710</td><td>75.26837886678732</td><td>2015.5</td><td>14.6169</td><td>48.2899</td><td>48.37042213660732</td><td>6.28072</td><td>10.894</td><td>nan</td><td>9.211</td><td>nan</td><td>nan</td><td>nan</td><td>10.0878</td><td>218895691</td><td>2605</td><td>nan</td></tr>\n",
       "<tr><td>63196558</td><td>4401870552</td><td>1.6909303337706163</td><td>2015.5</td><td>-2.53159</td><td>397.201</td><td>38.310420410038226</td><td>14.8151</td><td>11.3412</td><td>11.719384</td><td>8.583</td><td>10.339441</td><td>10.409499</td><td>10.681344</td><td>9.96035</td><td>218895692</td><td>2605</td><td>nan</td></tr>\n",
       "<tr><td>63201378</td><td>4980406213</td><td>-34.64665890367149</td><td>2015.5</td><td>-54.5975</td><td>49.3912</td><td>311.362403174722</td><td>6.96663</td><td>9.70466</td><td>nan</td><td>8.343</td><td>nan</td><td>nan</td><td>nan</td><td>9.01957</td><td>218895693</td><td>2605</td><td>nan</td></tr>\n",
       "<tr><td>63202085</td><td>4347765514</td><td>75.88227961455708</td><td>2015.5</td><td>-1.97069</td><td>-18.9349</td><td>261.3748942989903</td><td>7.87874</td><td>12.0087</td><td>nan</td><td>9.607</td><td>nan</td><td>nan</td><td>nan</td><td>10.8327</td><td>218895694</td><td>2605</td><td>nan</td></tr>\n",
       "<tr><td>63202827</td><td>5788702768</td><td>-54.16466351954117</td><td>2015.5</td><td>-0.993491</td><td>-1.7485</td><td>147.34308680452958</td><td>1.56275</td><td>13.2063</td><td>nan</td><td>11.67</td><td>nan</td><td>nan</td><td>nan</td><td>12.4887</td><td>218895695</td><td>2605</td><td>nan</td></tr>\n",
       "<tr><td>63205967</td><td>4398186384</td><td>36.90045563218647</td><td>2015.5</td><td>-77.6596</td><td>112.827</td><td>357.3518362038034</td><td>8.20039</td><td>10.3131</td><td>nan</td><td>8.582</td><td>nan</td><td>nan</td><td>nan</td><td>9.46751</td><td>218895696</td><td>2605</td><td>nan</td></tr>\n",
       "<tr><td>63207442</td><td>5775712787</td><td>-60.575141596843004</td><td>2015.5</td><td>9.12249</td><td>-21.9815</td><td>156.25003178482694</td><td>1.88791</td><td>10.8143</td><td>nan</td><td>10.009</td><td>nan</td><td>nan</td><td>nan</td><td>10.416</td><td>218895697</td><td>2605</td><td>nan</td></tr>\n",
       "<tr><td>63207876</td><td>5787091284</td><td>-59.85171061941523</td><td>2015.5</td><td>3.93221</td><td>-7.36891</td><td>150.3682717854151</td><td>0.969967</td><td>12.6195</td><td>nan</td><td>11.976</td><td>nan</td><td>nan</td><td>nan</td><td>12.2843</td><td>218895698</td><td>2605</td><td>nan</td></tr>\n",
       "<tr><td>63208787</td><td>5816408206</td><td>-64.34707699579073</td><td>2015.5</td><td>9.76431</td><td>-22.1958</td><td>168.74741246252884</td><td>7.25154</td><td>17.0391</td><td>nan</td><td>11.651</td><td>nan</td><td>nan</td><td>nan</td><td>14.0713</td><td>218895699</td><td>2605</td><td>nan</td></tr>\n",
       "</table>"
      ],
      "text/plain": [
       "<Table masked=True length=177494>\n",
       "   pk    catalogid          dec         ... carton_to_target_pk priority cadence\n",
       " int64     int64          float64       ...        int64         int64   float64\n",
       "-------- ---------- ------------------- ... ------------------- -------- -------\n",
       "63175099 5899605923  -78.21534924835343 ...           219035535     2610     nan\n",
       "63157233 4402418495   21.66332767920415 ...           219017066     2610     nan\n",
       "63122016 5506182135  -43.21783272575037 ...           218980933     2610     nan\n",
       "63091382 4463116855 -14.513036319380562 ...           218949562     2610     nan\n",
       "63118257 5586440847  -51.41270429850474 ...           218977088     2610     nan\n",
       "63091580 4462892628 -15.239871845454239 ...           218949768     2610     nan\n",
       "63108942 4565510987  -37.15011033546536 ...           218967532     2610     nan\n",
       "63168604 5860755077  -58.60396191630203 ...           219028843     2610     nan\n",
       "63085280 4359635452  59.147854858338874 ...           218943304     2610     nan\n",
       "63072890 5932481921  -40.69317747383978 ...           218930520     2610     nan\n",
       "     ...        ...                 ... ...                 ...      ...     ...\n",
       "63195358 5892268075   -69.3746317038302 ...           218895690     2605     nan\n",
       "63195708 4325907710   75.26837886678732 ...           218895691     2605     nan\n",
       "63196558 4401870552  1.6909303337706163 ...           218895692     2605     nan\n",
       "63201378 4980406213  -34.64665890367149 ...           218895693     2605     nan\n",
       "63202085 4347765514   75.88227961455708 ...           218895694     2605     nan\n",
       "63202827 5788702768  -54.16466351954117 ...           218895695     2605     nan\n",
       "63205967 4398186384   36.90045563218647 ...           218895696     2605     nan\n",
       "63207442 5775712787 -60.575141596843004 ...           218895697     2605     nan\n",
       "63207876 5787091284  -59.85171061941523 ...           218895698     2605     nan\n",
       "63208787 5816408206  -64.34707699579073 ...           218895699     2605     nan"
      ]
     },
     "execution_count": 3,
     "metadata": {},
     "output_type": "execute_result"
    }
   ],
   "source": [
    "# make the targets object just as before\n",
    "# table of targets from v0.1 of targetDB  (read 'Targets' to see how to get this file; just demoing here)\n",
    "planet_targetDB = Table.read('/home/jquark/projects/sdss5/ppv/data/raw/mwm_planet_0.1.0_targetdb.fits.gz')\n",
    "planet_targetDB"
   ]
  },
  {
   "cell_type": "code",
   "execution_count": 4,
   "metadata": {},
   "outputs": [
    {
     "name": "stdout",
     "output_type": "stream",
     "text": [
      "Assuming RA, Dec are in degrees and 2015.5 epoch\n",
      "177494 targets with IDs: <MaskedColumn name='catalogid' dtype='int64' length=177494>\n",
      "4204692671\n",
      "4204692773\n",
      "4204705857\n",
      "4204751665\n",
      "4204795388\n",
      "4204838200\n",
      "4204854273\n",
      "4204858177\n",
      "4204901910\n",
      "4204917314\n",
      "4204926522\n",
      "4204933546\n",
      "       ...\n",
      "5932663258\n",
      "5932664728\n",
      "5932664785\n",
      "5932665261\n",
      "5932665613\n",
      "5932665963\n",
      "5932666418\n",
      "5932667443\n",
      "5932667724\n",
      "5932667918\n",
      "5932668409\n",
      "5932668452\n"
     ]
    }
   ],
   "source": [
    "from ppv.targets import Targets\n",
    "\n",
    "planet_targets = Targets(planet_targetDB)\n",
    "print(planet_targets)\n"
   ]
  },
  {
   "cell_type": "code",
   "execution_count": 5,
   "metadata": {},
   "outputs": [
    {
     "data": {
      "text/plain": [
       "['2020.08.x.bhm-mwm',\n",
       " '2020.10.x.mwm-bhm',\n",
       " '2020.10.y.mwm-bhm',\n",
       " '2020.09.y.bhm-mwm']"
      ]
     },
     "execution_count": 5,
     "metadata": {},
     "output_type": "execute_result"
    }
   ],
   "source": [
    "# find available palteruns in five_plates\n",
    "import ppv.fiveplates\n",
    "\n",
    "ppv.fiveplates.available_plateruns()"
   ]
  },
  {
   "cell_type": "code",
   "execution_count": 10,
   "metadata": {},
   "outputs": [],
   "source": [
    "#Define a platerun \n",
    "platerun_10y = ppv.fiveplates.Platerun('2020.10.y.mwm-bhm')"
   ]
  },
  {
   "cell_type": "code",
   "execution_count": 11,
   "metadata": {},
   "outputs": [
    {
     "data": {
      "text/html": [
       "<i>Table length=17</i>\n",
       "<table id=\"table140563051904400\" class=\"table-striped table-bordered table-condensed\">\n",
       "<thead><tr><th>FieldName</th><th>PlateID</th><th>DesignID</th><th>LocationID</th><th>RA</th><th>Dec</th><th>Epoch</th><th>Radius</th><th>HA</th><th>CadenceCategory</th><th>Priority</th><th>FiberFilling</th><th>NSky_APOGEE</th><th>NStd_APOGEE</th><th>NSky_BOSS</th><th>NStd_BOSS</th><th>Platerun</th></tr></thead>\n",
       "<thead><tr><th>str14</th><th>int64</th><th>int64</th><th>int64</th><th>float64</th><th>float64</th><th>float64</th><th>float64</th><th>float64</th><th>str4</th><th>float64</th><th>str9</th><th>int64</th><th>int64</th><th>int64</th><th>int64</th><th>str17</th></tr></thead>\n",
       "<tr><td>RV_N188</td><td>15123</td><td>15067</td><td>50067</td><td>11.83254</td><td>85.251</td><td>2020.9</td><td>1.49</td><td>30.0</td><td>RV6</td><td>8.0</td><td>MWM</td><td>35</td><td>15</td><td>150</td><td>50</td><td>2020.10.y.mwm-bhm</td></tr>\n",
       "<tr><td>RV_150-16</td><td>15124</td><td>15068</td><td>50068</td><td>47.39417</td><td>39.50294</td><td>2020.9</td><td>1.49</td><td>0.0</td><td>RV12</td><td>8.0</td><td>MWM</td><td>35</td><td>15</td><td>325</td><td>50</td><td>2020.10.y.mwm-bhm</td></tr>\n",
       "<tr><td>RV_173+12</td><td>15125</td><td>15070</td><td>50070</td><td>94.8905</td><td>41.2531</td><td>2020.9</td><td>1.49</td><td>-15.0</td><td>RV12</td><td>8.0</td><td>MWM</td><td>35</td><td>15</td><td>325</td><td>50</td><td>2020.10.y.mwm-bhm</td></tr>\n",
       "<tr><td>RV_195+18</td><td>15126</td><td>15071</td><td>50071</td><td>111.7472</td><td>23.6726</td><td>2020.9</td><td>1.49</td><td>-15.0</td><td>RV12</td><td>8.0</td><td>MWM</td><td>35</td><td>15</td><td>150</td><td>50</td><td>2020.10.y.mwm-bhm</td></tr>\n",
       "<tr><td>RV_182+25</td><td>15127</td><td>15072</td><td>50072</td><td>114.5958</td><td>37.38599</td><td>2020.9</td><td>1.49</td><td>30.0</td><td>RV12</td><td>8.0</td><td>MWM</td><td>35</td><td>15</td><td>150</td><td>50</td><td>2020.10.y.mwm-bhm</td></tr>\n",
       "<tr><td>RV_NGC2420_btx</td><td>15128</td><td>15073</td><td>50073</td><td>114.5958</td><td>21.0</td><td>2020.9</td><td>1.49</td><td>0.0</td><td>RV12</td><td>8.0</td><td>MWM</td><td>35</td><td>15</td><td>150</td><td>50</td><td>2020.10.y.mwm-bhm</td></tr>\n",
       "<tr><td>RV_247+62_btx</td><td>15129</td><td>15075</td><td>50075</td><td>170.3706</td><td>9.9099</td><td>2020.9</td><td>1.49</td><td>0.0</td><td>RV12</td><td>8.0</td><td>MWM</td><td>35</td><td>15</td><td>350</td><td>50</td><td>2020.10.y.mwm-bhm</td></tr>\n",
       "<tr><td>GG_059</td><td>15130</td><td>15091</td><td>50091</td><td>340.39399</td><td>49.64498</td><td>2020.8</td><td>1.49</td><td>30.0</td><td>GG</td><td>7.0</td><td>MWM_30min</td><td>35</td><td>15</td><td>325</td><td>50</td><td>2020.10.y.mwm-bhm</td></tr>\n",
       "<tr><td>GG_044</td><td>15131</td><td>15097</td><td>50097</td><td>304.33022</td><td>28.42858</td><td>2020.8</td><td>1.49</td><td>30.0</td><td>GG</td><td>7.0</td><td>MWM_30min</td><td>35</td><td>15</td><td>50</td><td>50</td><td>2020.10.y.mwm-bhm</td></tr>\n",
       "<tr><td>YSO_033</td><td>15132</td><td>15104</td><td>50104</td><td>327.75</td><td>47.25</td><td>2020.85</td><td>1.49</td><td>30.0</td><td>YSO</td><td>7.0</td><td>MWM</td><td>35</td><td>15</td><td>50</td><td>50</td><td>2020.10.y.mwm-bhm</td></tr>\n",
       "<tr><td>YSO_042</td><td>15133</td><td>15105</td><td>50105</td><td>347.0</td><td>64.75</td><td>2020.85</td><td>1.49</td><td>30.0</td><td>YSO</td><td>7.0</td><td>MWM</td><td>35</td><td>15</td><td>50</td><td>50</td><td>2020.10.y.mwm-bhm</td></tr>\n",
       "<tr><td>GG_050</td><td>15134</td><td>15109</td><td>50109</td><td>312.11795</td><td>21.02368</td><td>2020.8</td><td>1.49</td><td>30.0</td><td>GG</td><td>7.0</td><td>MWM_30min</td><td>35</td><td>15</td><td>150</td><td>50</td><td>2020.10.y.mwm-bhm</td></tr>\n",
       "<tr><td>GG_051</td><td>15135</td><td>15110</td><td>50110</td><td>313.06823</td><td>59.14986</td><td>2020.8</td><td>1.49</td><td>30.0</td><td>GG</td><td>7.0</td><td>MWM_30min</td><td>35</td><td>15</td><td>50</td><td>50</td><td>2020.10.y.mwm-bhm</td></tr>\n",
       "<tr><td>GG_054</td><td>15136</td><td>15111</td><td>50111</td><td>315.41476</td><td>36.29517</td><td>2020.8</td><td>1.49</td><td>30.0</td><td>GG</td><td>7.0</td><td>MWM_30min</td><td>35</td><td>15</td><td>225</td><td>50</td><td>2020.10.y.mwm-bhm</td></tr>\n",
       "<tr><td>GG_020</td><td>15137</td><td>15117</td><td>50117</td><td>94.30362</td><td>2.00601</td><td>2020.8</td><td>1.49</td><td>0.0</td><td>GG</td><td>6.0</td><td>MWM_30min</td><td>35</td><td>15</td><td>325</td><td>50</td><td>2020.10.y.mwm-bhm</td></tr>\n",
       "<tr><td>YSO_014</td><td>15138</td><td>15119</td><td>50119</td><td>77.0</td><td>-2.75</td><td>2020.85</td><td>1.49</td><td>0.0</td><td>YSO</td><td>6.0</td><td>MWM</td><td>35</td><td>15</td><td>100</td><td>50</td><td>2020.10.y.mwm-bhm</td></tr>\n",
       "<tr><td>GG_022</td><td>15139</td><td>15140</td><td>50140</td><td>95.36422</td><td>-0.18009</td><td>2020.8</td><td>1.49</td><td>0.0</td><td>GG</td><td>5.0</td><td>MWM_30min</td><td>35</td><td>15</td><td>225</td><td>50</td><td>2020.10.y.mwm-bhm</td></tr>\n",
       "</table>"
      ],
      "text/plain": [
       "<Table length=17>\n",
       "  FieldName    PlateID DesignID ... NSky_BOSS NStd_BOSS      Platerun    \n",
       "    str14       int64   int64   ...   int64     int64         str17      \n",
       "-------------- ------- -------- ... --------- --------- -----------------\n",
       "       RV_N188   15123    15067 ...       150        50 2020.10.y.mwm-bhm\n",
       "     RV_150-16   15124    15068 ...       325        50 2020.10.y.mwm-bhm\n",
       "     RV_173+12   15125    15070 ...       325        50 2020.10.y.mwm-bhm\n",
       "     RV_195+18   15126    15071 ...       150        50 2020.10.y.mwm-bhm\n",
       "     RV_182+25   15127    15072 ...       150        50 2020.10.y.mwm-bhm\n",
       "RV_NGC2420_btx   15128    15073 ...       150        50 2020.10.y.mwm-bhm\n",
       " RV_247+62_btx   15129    15075 ...       350        50 2020.10.y.mwm-bhm\n",
       "        GG_059   15130    15091 ...       325        50 2020.10.y.mwm-bhm\n",
       "        GG_044   15131    15097 ...        50        50 2020.10.y.mwm-bhm\n",
       "       YSO_033   15132    15104 ...        50        50 2020.10.y.mwm-bhm\n",
       "       YSO_042   15133    15105 ...        50        50 2020.10.y.mwm-bhm\n",
       "        GG_050   15134    15109 ...       150        50 2020.10.y.mwm-bhm\n",
       "        GG_051   15135    15110 ...        50        50 2020.10.y.mwm-bhm\n",
       "        GG_054   15136    15111 ...       225        50 2020.10.y.mwm-bhm\n",
       "        GG_020   15137    15117 ...       325        50 2020.10.y.mwm-bhm\n",
       "       YSO_014   15138    15119 ...       100        50 2020.10.y.mwm-bhm\n",
       "        GG_022   15139    15140 ...       225        50 2020.10.y.mwm-bhm"
      ]
     },
     "execution_count": 11,
     "metadata": {},
     "output_type": "execute_result"
    }
   ],
   "source": [
    "platerun_10y.platedata"
   ]
  },
  {
   "cell_type": "code",
   "execution_count": 12,
   "metadata": {},
   "outputs": [
    {
     "name": "stdout",
     "output_type": "stream",
     "text": [
      "CPU times: user 204 ms, sys: 4.88 ms, total: 209 ms\n",
      "Wall time: 215 ms\n"
     ]
    },
    {
     "data": {
      "text/plain": [
       "[five_plates Field('RV_N188'),\n",
       " five_plates Field('RV_150-16'),\n",
       " five_plates Field('RV_173+12'),\n",
       " five_plates Field('RV_195+18'),\n",
       " five_plates Field('RV_182+25'),\n",
       " five_plates Field('RV_NGC2420_btx'),\n",
       " five_plates Field('RV_247+62_btx'),\n",
       " five_plates Field('GG_059'),\n",
       " five_plates Field('GG_044'),\n",
       " five_plates Field('YSO_033'),\n",
       " five_plates Field('YSO_042'),\n",
       " five_plates Field('GG_050'),\n",
       " five_plates Field('GG_051'),\n",
       " five_plates Field('GG_054'),\n",
       " five_plates Field('GG_020'),\n",
       " five_plates Field('YSO_014'),\n",
       " five_plates Field('GG_022')]"
      ]
     },
     "execution_count": 12,
     "metadata": {},
     "output_type": "execute_result"
    }
   ],
   "source": [
    "%time platerun_10y.fields"
   ]
  },
  {
   "cell_type": "code",
   "execution_count": 13,
   "metadata": {},
   "outputs": [
    {
     "name": "stdout",
     "output_type": "stream",
     "text": [
      "Please be patient.\n",
      "                  Initial target loading for Platerun can take up to 1 second per field.\n",
      "                  Loading target data from 17 Fields...\n"
     ]
    },
    {
     "data": {
      "text/html": [
       "<i>Table length=499</i>\n",
       "<table id=\"table140561497901664\" class=\"table-striped table-bordered table-condensed\">\n",
       "<thead><tr><th>pk</th><th>catalogid</th><th>dec</th><th>epoch</th><th>pmdec</th><th>pmra</th><th>ra</th><th>parallax</th><th>bp</th><th>g</th><th>h</th><th>i</th><th>z</th><th>r</th><th>rp</th><th>carton_to_target_pk</th><th>priority</th><th>cadence</th></tr></thead>\n",
       "<thead><tr><th>int64</th><th>int64</th><th>float64</th><th>float64</th><th>float64</th><th>float64</th><th>float64</th><th>float64</th><th>float64</th><th>float64</th><th>float64</th><th>float64</th><th>float64</th><th>float64</th><th>float64</th><th>int64</th><th>int64</th><th>float64</th></tr></thead>\n",
       "<tr><td>63128636</td><td>4204692671</td><td>35.507055260891356</td><td>2015.5</td><td>-36.4324</td><td>34.6195</td><td>314.70504810300645</td><td>11.1113</td><td>8.74085</td><td>nan</td><td>7.393</td><td>nan</td><td>nan</td><td>nan</td><td>8.07442</td><td>218987647</td><td>2610</td><td>nan</td></tr>\n",
       "<tr><td>57281472</td><td>4204692773</td><td>35.50585877723215</td><td>2015.5</td><td>-92.3778</td><td>151.013</td><td>314.66064946047004</td><td>23.4859</td><td>15.6522</td><td>nan</td><td>10.521</td><td>nan</td><td>nan</td><td>nan</td><td>12.8586</td><td>218987648</td><td>2610</td><td>nan</td></tr>\n",
       "<tr><td>63101230</td><td>4204705857</td><td>35.750017280889864</td><td>2015.5</td><td>-112.74</td><td>-37.48</td><td>315.73247022276047</td><td>nan</td><td>14.8873</td><td>nan</td><td>11.28</td><td>nan</td><td>nan</td><td>nan</td><td>13.0938</td><td>218959611</td><td>2610</td><td>nan</td></tr>\n",
       "<tr><td>63101280</td><td>4204751665</td><td>35.79906594737839</td><td>2015.5</td><td>25.9392</td><td>62.7519</td><td>315.9418524168014</td><td>10.2483</td><td>16.4312</td><td>nan</td><td>11.855</td><td>nan</td><td>nan</td><td>nan</td><td>13.9626</td><td>218959663</td><td>2610</td><td>nan</td></tr>\n",
       "<tr><td>63141685</td><td>4204795388</td><td>36.122443909280605</td><td>2015.5</td><td>-11.631</td><td>-4.35563</td><td>315.1820345516224</td><td>1.65869</td><td>10.0473</td><td>nan</td><td>7.42</td><td>nan</td><td>nan</td><td>nan</td><td>8.80032</td><td>219001034</td><td>2610</td><td>nan</td></tr>\n",
       "<tr><td>63111952</td><td>4204838200</td><td>36.05874842739879</td><td>2015.5</td><td>-15.6165</td><td>-6.71725</td><td>314.0372156740294</td><td>2.00129</td><td>9.43157</td><td>nan</td><td>7.027</td><td>nan</td><td>nan</td><td>nan</td><td>8.30159</td><td>218970651</td><td>2610</td><td>nan</td></tr>\n",
       "<tr><td>63148114</td><td>4204854273</td><td>36.18418878487504</td><td>2015.5</td><td>39.7188</td><td>56.5939</td><td>314.46160167212315</td><td>14.434</td><td>17.0588</td><td>nan</td><td>11.736</td><td>nan</td><td>nan</td><td>nan</td><td>14.1327</td><td>219007662</td><td>2610</td><td>nan</td></tr>\n",
       "<tr><td>62623544</td><td>4204858177</td><td>36.30326757290942</td><td>2015.5</td><td>-1.61374</td><td>-2.53463</td><td>314.5372096071181</td><td>1.27015</td><td>10.0331</td><td>nan</td><td>8.997</td><td>nan</td><td>nan</td><td>nan</td><td>9.53599</td><td>219007661</td><td>2610</td><td>nan</td></tr>\n",
       "<tr><td>63111953</td><td>4204901910</td><td>36.48058908374484</td><td>2015.5</td><td>-57.3538</td><td>-1.58167</td><td>314.0746138258047</td><td>6.30548</td><td>15.1859</td><td>nan</td><td>11.157</td><td>nan</td><td>nan</td><td>nan</td><td>13.1221</td><td>218970652</td><td>2610</td><td>nan</td></tr>\n",
       "<tr><td>63111966</td><td>4204917314</td><td>36.39666492626859</td><td>2015.5</td><td>-45.7549</td><td>-22.8477</td><td>314.6799511851121</td><td>9.97825</td><td>16.0079</td><td>nan</td><td>11.327</td><td>nan</td><td>nan</td><td>nan</td><td>13.518</td><td>218970667</td><td>2610</td><td>nan</td></tr>\n",
       "<tr><td>...</td><td>...</td><td>...</td><td>...</td><td>...</td><td>...</td><td>...</td><td>...</td><td>...</td><td>...</td><td>...</td><td>...</td><td>...</td><td>...</td><td>...</td><td>...</td><td>...</td><td>...</td></tr>\n",
       "<tr><td>63149467</td><td>5393208141</td><td>20.837683243603898</td><td>2015.5</td><td>19.4971</td><td>9.27603</td><td>313.3124495372054</td><td>6.20314</td><td>11.8789</td><td>nan</td><td>9.806</td><td>nan</td><td>nan</td><td>nan</td><td>10.8822</td><td>219009076</td><td>2610</td><td>nan</td></tr>\n",
       "<tr><td>63149466</td><td>5393211301</td><td>20.952800791833194</td><td>2015.5</td><td>-31.1553</td><td>-29.8673</td><td>313.26321690708176</td><td>4.44716</td><td>10.0777</td><td>nan</td><td>7.739</td><td>nan</td><td>nan</td><td>nan</td><td>8.97115</td><td>219009075</td><td>2610</td><td>nan</td></tr>\n",
       "<tr><td>63149541</td><td>5393215206</td><td>20.89620589029463</td><td>2015.5</td><td>-40.7484</td><td>111.801</td><td>313.61718824525354</td><td>9.41923</td><td>11.1248</td><td>nan</td><td>9.181</td><td>nan</td><td>nan</td><td>nan</td><td>10.2026</td><td>219009155</td><td>2610</td><td>nan</td></tr>\n",
       "<tr><td>63149521</td><td>5393259557</td><td>21.32437506618002</td><td>2015.5</td><td>-8.49674</td><td>0.52596</td><td>313.48809872734415</td><td>5.80908</td><td>9.78941</td><td>nan</td><td>8.251</td><td>nan</td><td>nan</td><td>nan</td><td>9.02214</td><td>219009132</td><td>2610</td><td>nan</td></tr>\n",
       "<tr><td>63149436</td><td>5393261598</td><td>21.60707636159191</td><td>2015.5</td><td>30.0283</td><td>37.3254</td><td>313.1777281731141</td><td>6.36566</td><td>9.89991</td><td>nan</td><td>8.392</td><td>nan</td><td>nan</td><td>nan</td><td>9.15112</td><td>219009045</td><td>2610</td><td>nan</td></tr>\n",
       "<tr><td>63149493</td><td>5393264198</td><td>21.58326714437682</td><td>2015.5</td><td>-103.704</td><td>81.4355</td><td>313.3936324377212</td><td>16.176</td><td>9.64587</td><td>nan</td><td>7.573</td><td>nan</td><td>nan</td><td>nan</td><td>8.63913</td><td>219009103</td><td>2610</td><td>nan</td></tr>\n",
       "<tr><td>63149542</td><td>5393265444</td><td>21.040061926857113</td><td>2015.5</td><td>-145.707</td><td>-115.091</td><td>313.68030661917027</td><td>9.9395</td><td>10.8579</td><td>nan</td><td>8.9</td><td>nan</td><td>nan</td><td>nan</td><td>9.91405</td><td>219009156</td><td>2610</td><td>nan</td></tr>\n",
       "<tr><td>63149543</td><td>5393265681</td><td>21.126183463505953</td><td>2015.5</td><td>22.0341</td><td>28.7937</td><td>313.65282138111826</td><td>8.27459</td><td>12.2502</td><td>nan</td><td>9.715</td><td>nan</td><td>nan</td><td>nan</td><td>11.0528</td><td>219009157</td><td>2610</td><td>nan</td></tr>\n",
       "<tr><td>63149544</td><td>5393269878</td><td>21.31955375425727</td><td>2015.5</td><td>-23.123</td><td>29.5093</td><td>313.63158748949803</td><td>12.1385</td><td>9.86652</td><td>nan</td><td>8.183</td><td>nan</td><td>nan</td><td>nan</td><td>9.00527</td><td>219009158</td><td>2610</td><td>nan</td></tr>\n",
       "<tr><td>63128635</td><td>5414117238</td><td>35.17484935091532</td><td>2015.5</td><td>-13.322</td><td>6.57087</td><td>314.5560902761593</td><td>10.2608</td><td>10.4599</td><td>nan</td><td>7.896</td><td>nan</td><td>nan</td><td>nan</td><td>9.35118</td><td>218987646</td><td>2610</td><td>nan</td></tr>\n",
       "</table>"
      ],
      "text/plain": [
       "<Table length=499>\n",
       "   pk    catalogid         dec         ... carton_to_target_pk priority cadence\n",
       " int64     int64         float64       ...        int64         int64   float64\n",
       "-------- ---------- ------------------ ... ------------------- -------- -------\n",
       "63128636 4204692671 35.507055260891356 ...           218987647     2610     nan\n",
       "57281472 4204692773  35.50585877723215 ...           218987648     2610     nan\n",
       "63101230 4204705857 35.750017280889864 ...           218959611     2610     nan\n",
       "63101280 4204751665  35.79906594737839 ...           218959663     2610     nan\n",
       "63141685 4204795388 36.122443909280605 ...           219001034     2610     nan\n",
       "63111952 4204838200  36.05874842739879 ...           218970651     2610     nan\n",
       "63148114 4204854273  36.18418878487504 ...           219007662     2610     nan\n",
       "62623544 4204858177  36.30326757290942 ...           219007661     2610     nan\n",
       "63111953 4204901910  36.48058908374484 ...           218970652     2610     nan\n",
       "63111966 4204917314  36.39666492626859 ...           218970667     2610     nan\n",
       "     ...        ...                ... ...                 ...      ...     ...\n",
       "63149467 5393208141 20.837683243603898 ...           219009076     2610     nan\n",
       "63149466 5393211301 20.952800791833194 ...           219009075     2610     nan\n",
       "63149541 5393215206  20.89620589029463 ...           219009155     2610     nan\n",
       "63149521 5393259557  21.32437506618002 ...           219009132     2610     nan\n",
       "63149436 5393261598  21.60707636159191 ...           219009045     2610     nan\n",
       "63149493 5393264198  21.58326714437682 ...           219009103     2610     nan\n",
       "63149542 5393265444 21.040061926857113 ...           219009156     2610     nan\n",
       "63149543 5393265681 21.126183463505953 ...           219009157     2610     nan\n",
       "63149544 5393269878  21.31955375425727 ...           219009158     2610     nan\n",
       "63128635 5414117238  35.17484935091532 ...           218987646     2610     nan"
      ]
     },
     "execution_count": 13,
     "metadata": {},
     "output_type": "execute_result"
    }
   ],
   "source": [
    "# SAME functionality as in ppv.groups (for plugplate files)!\n",
    "# Get available targets based on position. \n",
    "# These targets COULD have been observed in this five_plates run\n",
    "\n",
    "maybe_observed = planet_targets.available_in(platerun_10y)\n",
    "planet_targets.data[maybe_observed]"
   ]
  },
  {
   "cell_type": "code",
   "execution_count": 14,
   "metadata": {},
   "outputs": [
    {
     "name": "stdout",
     "output_type": "stream",
     "text": [
      "Please be patient.\n",
      "                      Initial target loading can take up to 1 second per field.\n",
      "                      Loading target data from 17 Fields...\n"
     ]
    },
    {
     "data": {
      "text/html": [
       "<i>Table length=455</i>\n",
       "<table id=\"table140561498352800\" class=\"table-striped table-bordered table-condensed\">\n",
       "<thead><tr><th>pk</th><th>catalogid</th><th>dec</th><th>epoch</th><th>pmdec</th><th>pmra</th><th>ra</th><th>parallax</th><th>bp</th><th>g</th><th>h</th><th>i</th><th>z</th><th>r</th><th>rp</th><th>carton_to_target_pk</th><th>priority</th><th>cadence</th></tr></thead>\n",
       "<thead><tr><th>int64</th><th>int64</th><th>float64</th><th>float64</th><th>float64</th><th>float64</th><th>float64</th><th>float64</th><th>float64</th><th>float64</th><th>float64</th><th>float64</th><th>float64</th><th>float64</th><th>float64</th><th>int64</th><th>int64</th><th>float64</th></tr></thead>\n",
       "<tr><td>63128636</td><td>4204692671</td><td>35.507055260891356</td><td>2015.5</td><td>-36.4324</td><td>34.6195</td><td>314.70504810300645</td><td>11.1113</td><td>8.74085</td><td>nan</td><td>7.393</td><td>nan</td><td>nan</td><td>nan</td><td>8.07442</td><td>218987647</td><td>2610</td><td>nan</td></tr>\n",
       "<tr><td>57281472</td><td>4204692773</td><td>35.50585877723215</td><td>2015.5</td><td>-92.3778</td><td>151.013</td><td>314.66064946047004</td><td>23.4859</td><td>15.6522</td><td>nan</td><td>10.521</td><td>nan</td><td>nan</td><td>nan</td><td>12.8586</td><td>218987648</td><td>2610</td><td>nan</td></tr>\n",
       "<tr><td>63101230</td><td>4204705857</td><td>35.750017280889864</td><td>2015.5</td><td>-112.74</td><td>-37.48</td><td>315.73247022276047</td><td>nan</td><td>14.8873</td><td>nan</td><td>11.28</td><td>nan</td><td>nan</td><td>nan</td><td>13.0938</td><td>218959611</td><td>2610</td><td>nan</td></tr>\n",
       "<tr><td>63101280</td><td>4204751665</td><td>35.79906594737839</td><td>2015.5</td><td>25.9392</td><td>62.7519</td><td>315.9418524168014</td><td>10.2483</td><td>16.4312</td><td>nan</td><td>11.855</td><td>nan</td><td>nan</td><td>nan</td><td>13.9626</td><td>218959663</td><td>2610</td><td>nan</td></tr>\n",
       "<tr><td>63141685</td><td>4204795388</td><td>36.122443909280605</td><td>2015.5</td><td>-11.631</td><td>-4.35563</td><td>315.1820345516224</td><td>1.65869</td><td>10.0473</td><td>nan</td><td>7.42</td><td>nan</td><td>nan</td><td>nan</td><td>8.80032</td><td>219001034</td><td>2610</td><td>nan</td></tr>\n",
       "<tr><td>63111952</td><td>4204838200</td><td>36.05874842739879</td><td>2015.5</td><td>-15.6165</td><td>-6.71725</td><td>314.0372156740294</td><td>2.00129</td><td>9.43157</td><td>nan</td><td>7.027</td><td>nan</td><td>nan</td><td>nan</td><td>8.30159</td><td>218970651</td><td>2610</td><td>nan</td></tr>\n",
       "<tr><td>63148114</td><td>4204854273</td><td>36.18418878487504</td><td>2015.5</td><td>39.7188</td><td>56.5939</td><td>314.46160167212315</td><td>14.434</td><td>17.0588</td><td>nan</td><td>11.736</td><td>nan</td><td>nan</td><td>nan</td><td>14.1327</td><td>219007662</td><td>2610</td><td>nan</td></tr>\n",
       "<tr><td>62623544</td><td>4204858177</td><td>36.30326757290942</td><td>2015.5</td><td>-1.61374</td><td>-2.53463</td><td>314.5372096071181</td><td>1.27015</td><td>10.0331</td><td>nan</td><td>8.997</td><td>nan</td><td>nan</td><td>nan</td><td>9.53599</td><td>219007661</td><td>2610</td><td>nan</td></tr>\n",
       "<tr><td>63111953</td><td>4204901910</td><td>36.48058908374484</td><td>2015.5</td><td>-57.3538</td><td>-1.58167</td><td>314.0746138258047</td><td>6.30548</td><td>15.1859</td><td>nan</td><td>11.157</td><td>nan</td><td>nan</td><td>nan</td><td>13.1221</td><td>218970652</td><td>2610</td><td>nan</td></tr>\n",
       "<tr><td>63111966</td><td>4204917314</td><td>36.39666492626859</td><td>2015.5</td><td>-45.7549</td><td>-22.8477</td><td>314.6799511851121</td><td>9.97825</td><td>16.0079</td><td>nan</td><td>11.327</td><td>nan</td><td>nan</td><td>nan</td><td>13.518</td><td>218970667</td><td>2610</td><td>nan</td></tr>\n",
       "<tr><td>...</td><td>...</td><td>...</td><td>...</td><td>...</td><td>...</td><td>...</td><td>...</td><td>...</td><td>...</td><td>...</td><td>...</td><td>...</td><td>...</td><td>...</td><td>...</td><td>...</td><td>...</td></tr>\n",
       "<tr><td>63149468</td><td>5393207373</td><td>20.77160261506009</td><td>2015.5</td><td>-3.4402</td><td>3.51215</td><td>313.2539771733359</td><td>2.01835</td><td>8.80773</td><td>nan</td><td>8.85</td><td>nan</td><td>nan</td><td>nan</td><td>8.78541</td><td>219009077</td><td>2610</td><td>nan</td></tr>\n",
       "<tr><td>63149434</td><td>5393207426</td><td>20.847201115243216</td><td>2015.5</td><td>-46.7814</td><td>25.8047</td><td>313.1602562775132</td><td>10.4467</td><td>10.8412</td><td>nan</td><td>8.682</td><td>nan</td><td>nan</td><td>nan</td><td>9.78127</td><td>219009043</td><td>2610</td><td>nan</td></tr>\n",
       "<tr><td>63149467</td><td>5393208141</td><td>20.837683243603898</td><td>2015.5</td><td>19.4971</td><td>9.27603</td><td>313.3124495372054</td><td>6.20314</td><td>11.8789</td><td>nan</td><td>9.806</td><td>nan</td><td>nan</td><td>nan</td><td>10.8822</td><td>219009076</td><td>2610</td><td>nan</td></tr>\n",
       "<tr><td>63149466</td><td>5393211301</td><td>20.952800791833194</td><td>2015.5</td><td>-31.1553</td><td>-29.8673</td><td>313.26321690708176</td><td>4.44716</td><td>10.0777</td><td>nan</td><td>7.739</td><td>nan</td><td>nan</td><td>nan</td><td>8.97115</td><td>219009075</td><td>2610</td><td>nan</td></tr>\n",
       "<tr><td>63149541</td><td>5393215206</td><td>20.89620589029463</td><td>2015.5</td><td>-40.7484</td><td>111.801</td><td>313.61718824525354</td><td>9.41923</td><td>11.1248</td><td>nan</td><td>9.181</td><td>nan</td><td>nan</td><td>nan</td><td>10.2026</td><td>219009155</td><td>2610</td><td>nan</td></tr>\n",
       "<tr><td>63149493</td><td>5393264198</td><td>21.58326714437682</td><td>2015.5</td><td>-103.704</td><td>81.4355</td><td>313.3936324377212</td><td>16.176</td><td>9.64587</td><td>nan</td><td>7.573</td><td>nan</td><td>nan</td><td>nan</td><td>8.63913</td><td>219009103</td><td>2610</td><td>nan</td></tr>\n",
       "<tr><td>63149542</td><td>5393265444</td><td>21.040061926857113</td><td>2015.5</td><td>-145.707</td><td>-115.091</td><td>313.68030661917027</td><td>9.9395</td><td>10.8579</td><td>nan</td><td>8.9</td><td>nan</td><td>nan</td><td>nan</td><td>9.91405</td><td>219009156</td><td>2610</td><td>nan</td></tr>\n",
       "<tr><td>63149543</td><td>5393265681</td><td>21.126183463505953</td><td>2015.5</td><td>22.0341</td><td>28.7937</td><td>313.65282138111826</td><td>8.27459</td><td>12.2502</td><td>nan</td><td>9.715</td><td>nan</td><td>nan</td><td>nan</td><td>11.0528</td><td>219009157</td><td>2610</td><td>nan</td></tr>\n",
       "<tr><td>63149544</td><td>5393269878</td><td>21.31955375425727</td><td>2015.5</td><td>-23.123</td><td>29.5093</td><td>313.63158748949803</td><td>12.1385</td><td>9.86652</td><td>nan</td><td>8.183</td><td>nan</td><td>nan</td><td>nan</td><td>9.00527</td><td>219009158</td><td>2610</td><td>nan</td></tr>\n",
       "<tr><td>63128635</td><td>5414117238</td><td>35.17484935091532</td><td>2015.5</td><td>-13.322</td><td>6.57087</td><td>314.5560902761593</td><td>10.2608</td><td>10.4599</td><td>nan</td><td>7.896</td><td>nan</td><td>nan</td><td>nan</td><td>9.35118</td><td>218987646</td><td>2610</td><td>nan</td></tr>\n",
       "</table>"
      ],
      "text/plain": [
       "<Table length=455>\n",
       "   pk    catalogid         dec         ... carton_to_target_pk priority cadence\n",
       " int64     int64         float64       ...        int64         int64   float64\n",
       "-------- ---------- ------------------ ... ------------------- -------- -------\n",
       "63128636 4204692671 35.507055260891356 ...           218987647     2610     nan\n",
       "57281472 4204692773  35.50585877723215 ...           218987648     2610     nan\n",
       "63101230 4204705857 35.750017280889864 ...           218959611     2610     nan\n",
       "63101280 4204751665  35.79906594737839 ...           218959663     2610     nan\n",
       "63141685 4204795388 36.122443909280605 ...           219001034     2610     nan\n",
       "63111952 4204838200  36.05874842739879 ...           218970651     2610     nan\n",
       "63148114 4204854273  36.18418878487504 ...           219007662     2610     nan\n",
       "62623544 4204858177  36.30326757290942 ...           219007661     2610     nan\n",
       "63111953 4204901910  36.48058908374484 ...           218970652     2610     nan\n",
       "63111966 4204917314  36.39666492626859 ...           218970667     2610     nan\n",
       "     ...        ...                ... ...                 ...      ...     ...\n",
       "63149468 5393207373  20.77160261506009 ...           219009077     2610     nan\n",
       "63149434 5393207426 20.847201115243216 ...           219009043     2610     nan\n",
       "63149467 5393208141 20.837683243603898 ...           219009076     2610     nan\n",
       "63149466 5393211301 20.952800791833194 ...           219009075     2610     nan\n",
       "63149541 5393215206  20.89620589029463 ...           219009155     2610     nan\n",
       "63149493 5393264198  21.58326714437682 ...           219009103     2610     nan\n",
       "63149542 5393265444 21.040061926857113 ...           219009156     2610     nan\n",
       "63149543 5393265681 21.126183463505953 ...           219009157     2610     nan\n",
       "63149544 5393269878  21.31955375425727 ...           219009158     2610     nan\n",
       "63128635 5414117238  35.17484935091532 ...           218987646     2610     nan"
      ]
     },
     "execution_count": 14,
     "metadata": {},
     "output_type": "execute_result"
    }
   ],
   "source": [
    "# Get targets that were assigned a fiber in this five_plates platerun.\n",
    "observed = planet_targets.assigned_in(platerun_10y)\n",
    "planet_targets.data[observed]"
   ]
  },
  {
   "cell_type": "code",
   "execution_count": 15,
   "metadata": {},
   "outputs": [
    {
     "name": "stdout",
     "output_type": "stream",
     "text": [
      "Please be patient.\n",
      "                  Initial target loading for Platerun can take up to 1 second per field.\n",
      "                  Loading target data from 17 Fields...\n"
     ]
    },
    {
     "data": {
      "text/html": [
       "<i>Table length=44</i>\n",
       "<table id=\"table140561498044352\" class=\"table-striped table-bordered table-condensed\">\n",
       "<thead><tr><th>pk</th><th>catalogid</th><th>dec</th><th>epoch</th><th>pmdec</th><th>pmra</th><th>ra</th><th>parallax</th><th>bp</th><th>g</th><th>h</th><th>i</th><th>z</th><th>r</th><th>rp</th><th>carton_to_target_pk</th><th>priority</th><th>cadence</th></tr></thead>\n",
       "<thead><tr><th>int64</th><th>int64</th><th>float64</th><th>float64</th><th>float64</th><th>float64</th><th>float64</th><th>float64</th><th>float64</th><th>float64</th><th>float64</th><th>float64</th><th>float64</th><th>float64</th><th>float64</th><th>int64</th><th>int64</th><th>float64</th></tr></thead>\n",
       "<tr><td>63145333</td><td>4270730010</td><td>58.83339335249332</td><td>2015.5</td><td>7.01107</td><td>-15.2733</td><td>310.77347794116594</td><td>6.26214</td><td>10.1935</td><td>10.151218</td><td>8.823</td><td>9.8208275</td><td>10.144579</td><td>9.927032</td><td>9.5141</td><td>219004797</td><td>2610</td><td>nan</td></tr>\n",
       "<tr><td>63145334</td><td>4270732803</td><td>58.93528635359746</td><td>2015.5</td><td>9.91359</td><td>-3.05</td><td>310.7420045694025</td><td>5.71383</td><td>10.1135</td><td>nan</td><td>8.867</td><td>nan</td><td>nan</td><td>nan</td><td>9.48698</td><td>219004798</td><td>2610</td><td>nan</td></tr>\n",
       "<tr><td>63107521</td><td>4304703954</td><td>38.93274282737396</td><td>2015.5</td><td>-32.2243</td><td>51.7037</td><td>48.45054124548075</td><td>6.79961</td><td>9.7069</td><td>9.947624</td><td>8.056</td><td>9.214823</td><td>11.035697</td><td>9.348341</td><td>8.89617</td><td>218966077</td><td>2610</td><td>nan</td></tr>\n",
       "<tr><td>63107522</td><td>4304728831</td><td>38.53453806798409</td><td>2015.5</td><td>-20.3183</td><td>84.5581</td><td>48.448145672460896</td><td>13.1163</td><td>10.1705</td><td>10.438906</td><td>8.146</td><td>9.5074415</td><td>10.1581545</td><td>9.712579</td><td>9.18601</td><td>218966078</td><td>2610</td><td>nan</td></tr>\n",
       "<tr><td>63207715</td><td>4326131202</td><td>84.04414974511933</td><td>2015.5</td><td>-14.3599</td><td>127.683</td><td>3.2934793948198062</td><td>8.02181</td><td>9.1646</td><td>nan</td><td>7.832</td><td>nan</td><td>nan</td><td>nan</td><td>8.50294</td><td>219069307</td><td>2610</td><td>nan</td></tr>\n",
       "<tr><td>63207728</td><td>4326196342</td><td>85.23725920264876</td><td>2015.5</td><td>0.0801139</td><td>43.9234</td><td>10.683155937866342</td><td>6.79606</td><td>9.73337</td><td>nan</td><td>8.457</td><td>nan</td><td>nan</td><td>nan</td><td>9.08088</td><td>219069321</td><td>2610</td><td>nan</td></tr>\n",
       "<tr><td>63207733</td><td>4326197665</td><td>84.63558528341203</td><td>2015.5</td><td>2.43795</td><td>12.7569</td><td>12.748234007093675</td><td>5.1233</td><td>8.83317</td><td>nan</td><td>7.519</td><td>nan</td><td>nan</td><td>nan</td><td>8.17833</td><td>219069326</td><td>2610</td><td>nan</td></tr>\n",
       "<tr><td>63207725</td><td>4326209709</td><td>85.52443665375715</td><td>2015.5</td><td>-32.3185</td><td>-35.3122</td><td>9.793602336191556</td><td>17.6893</td><td>15.2159</td><td>nan</td><td>10.324</td><td>nan</td><td>nan</td><td>nan</td><td>12.5911</td><td>219069318</td><td>2610</td><td>nan</td></tr>\n",
       "<tr><td>63207723</td><td>4326210522</td><td>85.93261060150432</td><td>2015.5</td><td>-30.2318</td><td>98.6156</td><td>6.416103719114152</td><td>6.23783</td><td>10.467</td><td>nan</td><td>9.025</td><td>nan</td><td>nan</td><td>nan</td><td>9.75131</td><td>219069315</td><td>2610</td><td>nan</td></tr>\n",
       "<tr><td>63207737</td><td>4326216943</td><td>85.83107615013765</td><td>2015.5</td><td>-14.7706</td><td>25.1418</td><td>14.903007554621524</td><td>6.06584</td><td>10.3569</td><td>nan</td><td>8.908</td><td>nan</td><td>nan</td><td>nan</td><td>9.65384</td><td>219069330</td><td>2610</td><td>nan</td></tr>\n",
       "<tr><td>...</td><td>...</td><td>...</td><td>...</td><td>...</td><td>...</td><td>...</td><td>...</td><td>...</td><td>...</td><td>...</td><td>...</td><td>...</td><td>...</td><td>...</td><td>...</td><td>...</td><td>...</td></tr>\n",
       "<tr><td>63149433</td><td>5393081963</td><td>20.783561267719755</td><td>2015.5</td><td>-0.932715</td><td>1.39802</td><td>313.0688164908789</td><td>5.50951</td><td>10.4887</td><td>nan</td><td>9.152</td><td>nan</td><td>nan</td><td>nan</td><td>9.82977</td><td>219009042</td><td>2610</td><td>nan</td></tr>\n",
       "<tr><td>63121963</td><td>5393084769</td><td>21.12585548790862</td><td>2015.5</td><td>48.635</td><td>22.8299</td><td>312.90436692062815</td><td>4.389</td><td>10.8151</td><td>nan</td><td>9.211</td><td>nan</td><td>nan</td><td>nan</td><td>10.0184</td><td>218980876</td><td>2610</td><td>nan</td></tr>\n",
       "<tr><td>63117742</td><td>5393088590</td><td>21.8964963300163</td><td>2015.5</td><td>-24.4383</td><td>28.6589</td><td>311.2899813194202</td><td>6.94347</td><td>10.6636</td><td>nan</td><td>9.041</td><td>nan</td><td>nan</td><td>nan</td><td>9.86513</td><td>218976558</td><td>2610</td><td>nan</td></tr>\n",
       "<tr><td>63117763</td><td>5393103181</td><td>21.834719821293632</td><td>2015.5</td><td>5.62158</td><td>5.90356</td><td>311.70572377221106</td><td>3.96001</td><td>10.5401</td><td>nan</td><td>9.102</td><td>nan</td><td>nan</td><td>nan</td><td>9.85062</td><td>218976579</td><td>2610</td><td>nan</td></tr>\n",
       "<tr><td>63121953</td><td>5393152671</td><td>21.92591969274807</td><td>2015.5</td><td>31.6474</td><td>17.8197</td><td>312.5158425084418</td><td>6.09942</td><td>9.45675</td><td>nan</td><td>8.37</td><td>nan</td><td>nan</td><td>nan</td><td>8.88529</td><td>218980866</td><td>2610</td><td>nan</td></tr>\n",
       "<tr><td>63149411</td><td>5393179237</td><td>21.86861758870696</td><td>2015.5</td><td>-11.9913</td><td>20.7048</td><td>312.9578697842061</td><td>9.22698</td><td>8.34328</td><td>nan</td><td>7.089</td><td>nan</td><td>nan</td><td>nan</td><td>7.71323</td><td>219009019</td><td>2610</td><td>nan</td></tr>\n",
       "<tr><td>63149437</td><td>5393180189</td><td>21.870305943067407</td><td>2015.5</td><td>-34.8575</td><td>-10.6062</td><td>313.0903166926942</td><td>5.95337</td><td>9.73641</td><td>nan</td><td>8.486</td><td>nan</td><td>nan</td><td>nan</td><td>9.10648</td><td>219009046</td><td>2610</td><td>nan</td></tr>\n",
       "<tr><td>63149438</td><td>5393181630</td><td>22.004048071620733</td><td>2015.5</td><td>-52.267</td><td>-23.5636</td><td>313.1178389401958</td><td>7.56636</td><td>9.97755</td><td>nan</td><td>8.58</td><td>nan</td><td>nan</td><td>nan</td><td>9.26418</td><td>219009047</td><td>2610</td><td>nan</td></tr>\n",
       "<tr><td>63149521</td><td>5393259557</td><td>21.32437506618002</td><td>2015.5</td><td>-8.49674</td><td>0.52596</td><td>313.48809872734415</td><td>5.80908</td><td>9.78941</td><td>nan</td><td>8.251</td><td>nan</td><td>nan</td><td>nan</td><td>9.02214</td><td>219009132</td><td>2610</td><td>nan</td></tr>\n",
       "<tr><td>63149436</td><td>5393261598</td><td>21.60707636159191</td><td>2015.5</td><td>30.0283</td><td>37.3254</td><td>313.1777281731141</td><td>6.36566</td><td>9.89991</td><td>nan</td><td>8.392</td><td>nan</td><td>nan</td><td>nan</td><td>9.15112</td><td>219009045</td><td>2610</td><td>nan</td></tr>\n",
       "</table>"
      ],
      "text/plain": [
       "<Table length=44>\n",
       "   pk    catalogid         dec         ... carton_to_target_pk priority cadence\n",
       " int64     int64         float64       ...        int64         int64   float64\n",
       "-------- ---------- ------------------ ... ------------------- -------- -------\n",
       "63145333 4270730010  58.83339335249332 ...           219004797     2610     nan\n",
       "63145334 4270732803  58.93528635359746 ...           219004798     2610     nan\n",
       "63107521 4304703954  38.93274282737396 ...           218966077     2610     nan\n",
       "63107522 4304728831  38.53453806798409 ...           218966078     2610     nan\n",
       "63207715 4326131202  84.04414974511933 ...           219069307     2610     nan\n",
       "63207728 4326196342  85.23725920264876 ...           219069321     2610     nan\n",
       "63207733 4326197665  84.63558528341203 ...           219069326     2610     nan\n",
       "63207725 4326209709  85.52443665375715 ...           219069318     2610     nan\n",
       "63207723 4326210522  85.93261060150432 ...           219069315     2610     nan\n",
       "63207737 4326216943  85.83107615013765 ...           219069330     2610     nan\n",
       "     ...        ...                ... ...                 ...      ...     ...\n",
       "63149433 5393081963 20.783561267719755 ...           219009042     2610     nan\n",
       "63121963 5393084769  21.12585548790862 ...           218980876     2610     nan\n",
       "63117742 5393088590   21.8964963300163 ...           218976558     2610     nan\n",
       "63117763 5393103181 21.834719821293632 ...           218976579     2610     nan\n",
       "63121953 5393152671  21.92591969274807 ...           218980866     2610     nan\n",
       "63149411 5393179237  21.86861758870696 ...           219009019     2610     nan\n",
       "63149437 5393180189 21.870305943067407 ...           219009046     2610     nan\n",
       "63149438 5393181630 22.004048071620733 ...           219009047     2610     nan\n",
       "63149521 5393259557  21.32437506618002 ...           219009132     2610     nan\n",
       "63149436 5393261598  21.60707636159191 ...           219009045     2610     nan"
      ]
     },
     "execution_count": 15,
     "metadata": {},
     "output_type": "execute_result"
    }
   ],
   "source": [
    "# Get targets that were \"available\" but NOT assigned a fiber in this five_plates run.\n",
    "not_observed = planet_targets.not_assigned_in(platerun_10y)\n",
    "planet_targets.data[not_observed]"
   ]
  },
  {
   "cell_type": "code",
   "execution_count": 16,
   "metadata": {},
   "outputs": [
    {
     "data": {
      "text/html": [
       "<i>Table length=460</i>\n",
       "<table id=\"table140561498352992\" class=\"table-striped table-bordered table-condensed\">\n",
       "<thead><tr><th>Program</th><th>First_Carton</th><th>Type</th><th>RA</th><th>Dec</th><th>catalogid</th><th>Priority</th><th>NCartons</th><th>g_mag</th><th>r_mag</th><th>i_mag</th><th>z_mag</th><th>bp_mag</th><th>rp_mag</th><th>h_mag</th><th>apogee_flags0</th><th>boss_flags0</th><th>transformation_flags</th><th>2MASSS_ID</th><th>pmRA</th><th>pmDec</th><th>GaiaG</th><th>instrument</th><th>order_priority</th><th>order_name</th><th>field</th><th>designID</th></tr></thead>\n",
       "<thead><tr><th>str11</th><th>str22</th><th>int64</th><th>float64</th><th>float64</th><th>int64</th><th>int64</th><th>int64</th><th>float64</th><th>float64</th><th>float64</th><th>float64</th><th>float64</th><th>float64</th><th>float64</th><th>str16</th><th>str14</th><th>str12</th><th>str17</th><th>float64</th><th>float64</th><th>float64</th><th>str6</th><th>int64</th><th>str29</th><th>str14</th><th>int64</th></tr></thead>\n",
       "<tr><td>mwm_snc</td><td>mwm_snc_100pc</td><td>0</td><td>314.7050481</td><td>35.5070553</td><td>4204692671</td><td>1800</td><td>4</td><td>8.7154</td><td>9.289</td><td>9.379</td><td>99.99</td><td>8.7409</td><td>8.0744</td><td>7.393</td><td>7-8-13</td><td>2-37-43</td><td>3-6-9-14</td><td>J20584916+3530259</td><td>34.62</td><td>-36.432</td><td>8.4665</td><td>apogee</td><td>5</td><td>apogee_SCI_mwm_snc_shared</td><td>GG_054</td><td>15111</td></tr>\n",
       "<tr><td>mwm_snc</td><td>mwm_snc_100pc</td><td>0</td><td>314.6606495</td><td>35.5058588</td><td>4204692773</td><td>1800</td><td>3</td><td>99.99</td><td>99.99</td><td>15.6259</td><td>99.99</td><td>15.6522</td><td>12.8586</td><td>10.521</td><td>7-13-21</td><td>37-</td><td>4-7-9-14</td><td>J20583835+3530225</td><td>151.013</td><td>-92.378</td><td>14.0828</td><td>apogee</td><td>5</td><td>apogee_SCI_mwm_snc_shared</td><td>GG_054</td><td>15111</td></tr>\n",
       "<tr><td>mwm_planet</td><td>mwm_planet_tess</td><td>0</td><td>315.7324702</td><td>35.7500173</td><td>4204705857</td><td>2610</td><td>1</td><td>13.2449</td><td>14.8518</td><td>15.4592</td><td>99.99</td><td>14.8873</td><td>13.0938</td><td>11.28</td><td>13-</td><td>-</td><td>3-6-9-14</td><td>J21025583+3545019</td><td>-37.48</td><td>-112.74</td><td>14.0982</td><td>apogee</td><td>6</td><td>apogee_SCI_mwm_planet</td><td>GG_054</td><td>15111</td></tr>\n",
       "<tr><td>mwm_snc</td><td>mwm_snc_100pc</td><td>0</td><td>315.9418524</td><td>35.7990659</td><td>4204751665</td><td>1800</td><td>2</td><td>99.99</td><td>15.4883</td><td>16.6121</td><td>99.99</td><td>16.4312</td><td>13.9626</td><td>11.855</td><td>7-13</td><td>37-</td><td>4-6-9-14</td><td>J21034595+3547561</td><td>62.752</td><td>25.939</td><td>15.106</td><td>boss</td><td>3</td><td>boss_SCI_mwm_snc_shared</td><td>GG_054</td><td>15111</td></tr>\n",
       "<tr><td>mwm_rv</td><td>mwm_rv_short-fps</td><td>0</td><td>315.1820346</td><td>36.1224439</td><td>4204795388</td><td>2510</td><td>2</td><td>9.2152</td><td>10.3332</td><td>10.655</td><td>99.99</td><td>10.0473</td><td>8.8003</td><td>7.42</td><td>13-26</td><td>-</td><td>3-6-9-14</td><td>J21004369+3607209</td><td>-4.356</td><td>-11.631</td><td>9.4793</td><td>apogee</td><td>19</td><td>apogee_SCI_mwm_rv_fps_shared</td><td>GG_054</td><td>15111</td></tr>\n",
       "<tr><td>mwm_rv</td><td>mwm_rv_short-fps</td><td>0</td><td>314.0372157</td><td>36.0587484</td><td>4204838200</td><td>2510</td><td>2</td><td>8.775</td><td>9.7827</td><td>10.0537</td><td>99.99</td><td>9.4316</td><td>8.3016</td><td>7.027</td><td>13-26</td><td>-</td><td>3-6-9-14</td><td>J20560895+3603318</td><td>-6.717</td><td>-15.617</td><td>8.9255</td><td>apogee</td><td>19</td><td>apogee_SCI_mwm_rv_fps_shared</td><td>GG_054</td><td>15111</td></tr>\n",
       "<tr><td>mwm_snc</td><td>mwm_snc_100pc</td><td>0</td><td>314.4616017</td><td>36.1841888</td><td>4204854273</td><td>1800</td><td>2</td><td>99.99</td><td>99.99</td><td>16.9391</td><td>99.99</td><td>17.0588</td><td>14.1327</td><td>11.736</td><td>7-13</td><td>37-</td><td>4-7-9-14</td><td>J20575071+3611025</td><td>56.594</td><td>39.719</td><td>15.3872</td><td>boss</td><td>3</td><td>boss_SCI_mwm_snc_shared</td><td>GG_054</td><td>15111</td></tr>\n",
       "<tr><td>mwm_planet</td><td>mwm_planet_tess</td><td>0</td><td>314.5372096</td><td>36.3032676</td><td>4204858177</td><td>2610</td><td>1</td><td>10.2111</td><td>10.6327</td><td>10.6609</td><td>99.99</td><td>10.0331</td><td>9.536</td><td>8.997</td><td>13-</td><td>-</td><td>3-6-9-14</td><td>J20580893+3618118</td><td>-2.535</td><td>-1.614</td><td>9.838</td><td>apogee</td><td>6</td><td>apogee_SCI_mwm_planet</td><td>GG_054</td><td>15111</td></tr>\n",
       "<tr><td>mwm_planet</td><td>mwm_planet_tess</td><td>0</td><td>314.0746138</td><td>36.4805891</td><td>4204901910</td><td>2610</td><td>1</td><td>99.99</td><td>14.7764</td><td>15.5644</td><td>99.99</td><td>15.1859</td><td>13.1221</td><td>11.157</td><td>13-</td><td>-</td><td>4-6-9-14</td><td>J20561791+3628510</td><td>-1.582</td><td>-57.354</td><td>14.1342</td><td>apogee</td><td>6</td><td>apogee_SCI_mwm_planet</td><td>GG_054</td><td>15111</td></tr>\n",
       "<tr><td>mwm_planet</td><td>mwm_planet_tess</td><td>0</td><td>314.6799512</td><td>36.3966649</td><td>4204917314</td><td>2610</td><td>1</td><td>99.99</td><td>15.031</td><td>16.1749</td><td>99.99</td><td>16.0079</td><td>13.518</td><td>11.327</td><td>13-</td><td>-</td><td>4-6-9-14</td><td>J20584321+3623488</td><td>-22.848</td><td>-45.755</td><td>14.6657</td><td>apogee</td><td>6</td><td>apogee_SCI_mwm_planet</td><td>GG_054</td><td>15111</td></tr>\n",
       "<tr><td>...</td><td>...</td><td>...</td><td>...</td><td>...</td><td>...</td><td>...</td><td>...</td><td>...</td><td>...</td><td>...</td><td>...</td><td>...</td><td>...</td><td>...</td><td>...</td><td>...</td><td>...</td><td>...</td><td>...</td><td>...</td><td>...</td><td>...</td><td>...</td><td>...</td><td>...</td><td>...</td></tr>\n",
       "<tr><td>mwm_planet</td><td>mwm_planet_tess</td><td>0</td><td>313.2539772</td><td>20.7716026</td><td>5393207373</td><td>2610</td><td>1</td><td>9.4479</td><td>99.99</td><td>9.3364</td><td>99.99</td><td>8.8077</td><td>8.7854</td><td>8.85</td><td>13-</td><td>-</td><td>3-7-9-14</td><td>J20530094+2046177</td><td>3.512</td><td>-3.44</td><td>8.7957</td><td>apogee</td><td>6</td><td>apogee_SCI_mwm_planet</td><td>GG_050</td><td>15109</td></tr>\n",
       "<tr><td>mwm_snc</td><td>mwm_snc_100pc</td><td>0</td><td>313.1602563</td><td>20.8472011</td><td>5393207426</td><td>1800</td><td>4</td><td>10.2896</td><td>11.2311</td><td>11.4729</td><td>99.99</td><td>10.8412</td><td>9.7813</td><td>8.682</td><td>7-8-13-26</td><td>37-43</td><td>3-6-9-14</td><td>J20523842+2050505</td><td>25.805</td><td>-46.781</td><td>10.3745</td><td>apogee</td><td>5</td><td>apogee_SCI_mwm_snc_shared</td><td>GG_050</td><td>15109</td></tr>\n",
       "<tr><td>mwm_snc</td><td>mwm_snc_250pc</td><td>0</td><td>313.3124495</td><td>20.8376832</td><td>5393208141</td><td>1810</td><td>2</td><td>11.414</td><td>12.2958</td><td>12.5119</td><td>99.99</td><td>11.8789</td><td>10.8822</td><td>9.806</td><td>8-13</td><td>43-</td><td>3-6-9-14</td><td>J20531498+2050153</td><td>9.276</td><td>19.497</td><td>11.4413</td><td>apogee</td><td>5</td><td>apogee_SCI_mwm_snc_shared</td><td>GG_050</td><td>15109</td></tr>\n",
       "<tr><td>mwm_snc</td><td>mwm_snc_250pc</td><td>0</td><td>313.2632169</td><td>20.9528008</td><td>5393211301</td><td>1810</td><td>2</td><td>9.4582</td><td>10.4439</td><td>10.7049</td><td>99.99</td><td>10.0777</td><td>8.9711</td><td>7.739</td><td>8-13</td><td>43-</td><td>3-6-9-14</td><td>J20530320+2057105</td><td>-29.867</td><td>-31.155</td><td>9.5866</td><td>apogee</td><td>5</td><td>apogee_SCI_mwm_snc_shared</td><td>GG_050</td><td>15109</td></tr>\n",
       "<tr><td>mwm_snc</td><td>mwm_snc_250pc</td><td>0</td><td>313.6171882</td><td>20.8962059</td><td>5393215206</td><td>1810</td><td>2</td><td>10.7742</td><td>11.5856</td><td>11.7723</td><td>99.99</td><td>11.1248</td><td>10.2026</td><td>9.181</td><td>8-13</td><td>43-</td><td>3-6-9-14</td><td>J20542800+2053468</td><td>111.801</td><td>-40.748</td><td>10.7353</td><td>apogee</td><td>5</td><td>apogee_SCI_mwm_snc_shared</td><td>GG_050</td><td>15109</td></tr>\n",
       "<tr><td>mwm_snc</td><td>mwm_snc_100pc</td><td>0</td><td>313.3936324</td><td>21.5832671</td><td>5393264198</td><td>1800</td><td>3</td><td>9.1695</td><td>10.0608</td><td>10.2809</td><td>99.99</td><td>9.6459</td><td>8.6391</td><td>7.573</td><td>7-8-13</td><td>37-43</td><td>3-6-9-14</td><td>J20533438+2135012</td><td>81.436</td><td>-103.704</td><td>9.2058</td><td>apogee</td><td>5</td><td>apogee_SCI_mwm_snc_shared</td><td>GG_050</td><td>15109</td></tr>\n",
       "<tr><td>mwm_snc</td><td>mwm_snc_250pc</td><td>0</td><td>313.6803066</td><td>21.0400619</td><td>5393265444</td><td>1810</td><td>2</td><td>10.477</td><td>11.3089</td><td>11.504</td><td>99.99</td><td>10.8579</td><td>9.914</td><td>8.9</td><td>8-13</td><td>43-</td><td>3-6-9-14</td><td>J20544339+2102263</td><td>-115.091</td><td>-145.707</td><td>10.4571</td><td>apogee</td><td>5</td><td>apogee_SCI_mwm_snc_shared</td><td>GG_050</td><td>15109</td></tr>\n",
       "<tr><td>mwm_rv</td><td>mwm_rv_short-fps</td><td>0</td><td>313.6528214</td><td>21.1261835</td><td>5393265681</td><td>2510</td><td>2</td><td>11.4966</td><td>12.5679</td><td>12.8678</td><td>99.99</td><td>12.2502</td><td>11.0528</td><td>9.715</td><td>13-26</td><td>-</td><td>3-6-9-14</td><td>J20543664+2107338</td><td>28.794</td><td>22.034</td><td>11.7119</td><td>apogee</td><td>19</td><td>apogee_SCI_mwm_rv_fps_shared</td><td>GG_050</td><td>15109</td></tr>\n",
       "<tr><td>mwm_snc</td><td>mwm_snc_100pc</td><td>0</td><td>313.6315875</td><td>21.3195538</td><td>5393269878</td><td>1800</td><td>3</td><td>9.5915</td><td>10.3456</td><td>10.5087</td><td>99.99</td><td>9.8665</td><td>9.0053</td><td>8.183</td><td>7-8-13</td><td>37-43</td><td>3-6-9-14</td><td>J20543154+2119107</td><td>29.509</td><td>-23.123</td><td>9.5002</td><td>apogee</td><td>5</td><td>apogee_SCI_mwm_snc_shared</td><td>GG_050</td><td>15109</td></tr>\n",
       "<tr><td>mwm_snc</td><td>mwm_snc_100pc</td><td>0</td><td>314.5560903</td><td>35.1748494</td><td>5414117238</td><td>1800</td><td>3</td><td>9.9504</td><td>10.9381</td><td>11.2</td><td>99.99</td><td>10.4599</td><td>9.3512</td><td>7.896</td><td>7-8-13</td><td>37-43</td><td>3-6-9-14</td><td>J20581343+3510298</td><td>6.571</td><td>-13.322</td><td>10.0808</td><td>apogee</td><td>5</td><td>apogee_SCI_mwm_snc_shared</td><td>GG_054</td><td>15111</td></tr>\n",
       "</table>"
      ],
      "text/plain": [
       "<Table length=460>\n",
       " Program     First_Carton    Type ... field  designID\n",
       "  str11         str22       int64 ... str14   int64  \n",
       "---------- ---------------- ----- ... ------ --------\n",
       "   mwm_snc    mwm_snc_100pc     0 ... GG_054    15111\n",
       "   mwm_snc    mwm_snc_100pc     0 ... GG_054    15111\n",
       "mwm_planet  mwm_planet_tess     0 ... GG_054    15111\n",
       "   mwm_snc    mwm_snc_100pc     0 ... GG_054    15111\n",
       "    mwm_rv mwm_rv_short-fps     0 ... GG_054    15111\n",
       "    mwm_rv mwm_rv_short-fps     0 ... GG_054    15111\n",
       "   mwm_snc    mwm_snc_100pc     0 ... GG_054    15111\n",
       "mwm_planet  mwm_planet_tess     0 ... GG_054    15111\n",
       "mwm_planet  mwm_planet_tess     0 ... GG_054    15111\n",
       "mwm_planet  mwm_planet_tess     0 ... GG_054    15111\n",
       "       ...              ...   ... ...    ...      ...\n",
       "mwm_planet  mwm_planet_tess     0 ... GG_050    15109\n",
       "   mwm_snc    mwm_snc_100pc     0 ... GG_050    15109\n",
       "   mwm_snc    mwm_snc_250pc     0 ... GG_050    15109\n",
       "   mwm_snc    mwm_snc_250pc     0 ... GG_050    15109\n",
       "   mwm_snc    mwm_snc_250pc     0 ... GG_050    15109\n",
       "   mwm_snc    mwm_snc_100pc     0 ... GG_050    15109\n",
       "   mwm_snc    mwm_snc_250pc     0 ... GG_050    15109\n",
       "    mwm_rv mwm_rv_short-fps     0 ... GG_050    15109\n",
       "   mwm_snc    mwm_snc_100pc     0 ... GG_050    15109\n",
       "   mwm_snc    mwm_snc_100pc     0 ... GG_054    15111"
      ]
     },
     "execution_count": 16,
     "metadata": {},
     "output_type": "execute_result"
    }
   ],
   "source": [
    "# Get fiber information for the assigned targets (includes instrument and firstcarton)\n",
    "planet_targets.assigned_info(platerun_10y)"
   ]
  },
  {
   "cell_type": "markdown",
   "metadata": {},
   "source": [
    "Thanks for reading this through!"
   ]
  }
 ],
 "metadata": {
  "kernelspec": {
   "display_name": "Python 3",
   "language": "python",
   "name": "python3"
  },
  "language_info": {
   "codemirror_mode": {
    "name": "ipython",
    "version": 3
   },
   "file_extension": ".py",
   "mimetype": "text/x-python",
   "name": "python",
   "nbconvert_exporter": "python",
   "pygments_lexer": "ipython3",
   "version": "3.8.5"
  }
 },
 "nbformat": 4,
 "nbformat_minor": 4
}
