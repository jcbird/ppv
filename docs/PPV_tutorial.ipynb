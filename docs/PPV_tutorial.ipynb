{
 "cells": [
  {
   "cell_type": "code",
   "execution_count": null,
   "metadata": {},
   "outputs": [],
   "source": [
    "# this cell is just for display purposes, NOT necessary for your code\n",
    "%config IPCompleter.use_jedi = False\n",
    "# rediculous bug in Jedi it seems"
   ]
  },
  {
   "cell_type": "markdown",
   "metadata": {},
   "source": [
    "# READ FIRST - `ppv_setup.ini`\n",
    "Before proceeding, let's make sure that the ppv_setup.ini is properly configured:\n",
    "\n",
    "Contents of '~/.config/ppv_setup.ini'\n",
    "\n",
    "> [paths]  \n",
    "> plate_dir = /home/user/obsdata/plates/test5  \n",
    ">\n",
    "> \\# If you want your plate files in, e.g., /home/user/data/plates/0150XX  \n",
    "> \\# and /home/user/data/plates/0160XX, then edit the plate_dir line to read  \n",
    "> \\# plate_dir = /home/user/data/plates  \n",
    ">\n",
    "> [username]  \n",
    "> sdss_org = username_at_utah  \n",
    "> \\# NO quotes  \n",
    "> \\# If you do NOT have an account at Utah, please get one at  \n",
    "> \\# https://wiki.sdss.org/display/DATA/Utah+Accounts  \n",
    "\n",
    "\n",
    "You NEED to edit this file before using any further `ppv` functionality. Importing `ppv` will automatically look for this file in the `~/.config` directory.\n"
   ]
  },
  {
   "cell_type": "markdown",
   "metadata": {},
   "source": [
    "## A first quick spin with `ppv`\n",
    "\n",
    "Note that `ppv` will automagically download the files it needs using rsync as long as `ppv_setup.ini` is correctly configured. \n",
    "\n",
    "**NOTE** If needed, you will be prompted for your utah password. For now, the call is through the `apogee.sdss.org` server at Utah.\n"
   ]
  },
  {
   "cell_type": "code",
   "execution_count": null,
   "metadata": {},
   "outputs": [],
   "source": [
    "from astropy.table import Table\n",
    "import ppv  # the FIRST time you import ppv, the platePlans.par file is downloaded\n",
    "# you can ignore the WARNING"
   ]
  },
  {
   "cell_type": "code",
   "execution_count": null,
   "metadata": {},
   "outputs": [],
   "source": [
    "# good practice to get the latest plateplan and plug files from Utah\n",
    "ppv.ppv.update_platefiles()"
   ]
  },
  {
   "cell_type": "code",
   "execution_count": null,
   "metadata": {},
   "outputs": [],
   "source": [
    "# table of targets from v0.1 of targetDB  (read 'Targets' to see how to get this file; just demoing here)\n",
    "planet_targetDB = Table.read('/home/jquark/projects/sdss5/ppv/data/raw/mwm_planet_0.1.0_targetdb.fits.gz')\n",
    "planet_targetDB"
   ]
  },
  {
   "cell_type": "code",
   "execution_count": null,
   "metadata": {},
   "outputs": [],
   "source": [
    "# Create targets object (see Targets section below for more information)\n",
    "from ppv.targets import Targets\n",
    "\n",
    "planet_targets = Targets(planet_targetDB)\n",
    "# Check in the 'targets' section below for more info on how to make a targets object\n",
    "# If you are using the targetDB files, it's as easy as above!\n",
    "print(planet_targets)\n"
   ]
  },
  {
   "cell_type": "code",
   "execution_count": null,
   "metadata": {},
   "outputs": [],
   "source": [
    "# Define a plate run using the correct string identifier\n",
    "from ppv.groups import Platerun\n",
    "\n",
    "plate_run_2020 = Platerun('2020.10.a.mwm-bhm')\n"
   ]
  },
  {
   "cell_type": "code",
   "execution_count": null,
   "metadata": {},
   "outputs": [],
   "source": [
    "# Get available targets based on position. \n",
    "# These targets COULD have been observed in this plate run, i.e.,\n",
    "# their position is withing 1.49 degrees of a field center belonging to this plate run.\n",
    "# This takes ~30 seconds, it's loading all the plates/fields associated with the plate run.\n",
    "# If this is your first time needed these plates,\n",
    "# they will be downloaded and you will get a password prompt for apogee.sdss.org (Utah)\n",
    "\n",
    "maybe_observed = planet_targets.available_in(plate_run_2020)\n",
    "planet_targets.data[maybe_observed]"
   ]
  },
  {
   "cell_type": "code",
   "execution_count": null,
   "metadata": {},
   "outputs": [],
   "source": [
    "# Get targets that were assigned a fiber in this platerun.\n",
    "observed = planet_targets.assigned_in(plate_run_2020)\n",
    "planet_targets.data[observed]"
   ]
  },
  {
   "cell_type": "code",
   "execution_count": null,
   "metadata": {},
   "outputs": [],
   "source": [
    "# Get targets that were \"available\" but NOT assigned a fiber.\n",
    "not_observed = planet_targets.not_assigned_in(plate_run_2020)\n",
    "planet_targets.data[not_observed]"
   ]
  },
  {
   "cell_type": "code",
   "execution_count": null,
   "metadata": {},
   "outputs": [],
   "source": [
    "# Get fiber information for the assigned targets (includes instrument and firstcarton)\n",
    "planet_targets.assigned_info(plate_run_2020)"
   ]
  },
  {
   "cell_type": "markdown",
   "metadata": {},
   "source": [
    "## A longer `ppv` Walkthrough\n",
    "Please read though to get a better sense of how `ppv` works"
   ]
  },
  {
   "cell_type": "markdown",
   "metadata": {},
   "source": [
    "### Convenient References"
   ]
  },
  {
   "cell_type": "code",
   "execution_count": null,
   "metadata": {},
   "outputs": [],
   "source": [
    "# From the base package, you can access the full plate summary\n",
    "ppv.ppv.allplate_summary"
   ]
  },
  {
   "cell_type": "code",
   "execution_count": null,
   "metadata": {},
   "outputs": [],
   "source": [
    "# You can also get a list of all available plateruns (this is handy)\n",
    "ppv.ppv.available_plateruns()"
   ]
  },
  {
   "cell_type": "markdown",
   "metadata": {},
   "source": [
    "### Plate\n",
    "- A plate holds all the relevant information of a plate, including all targets that are assigned fibers.\n",
    "\n",
    "- This class (and the Field and Platerun classes) will automagically download the relevant plugHoles files (you don't even need to think about it). \n",
    "\n"
   ]
  },
  {
   "cell_type": "code",
   "execution_count": null,
   "metadata": {},
   "outputs": [],
   "source": [
    "# let's say I am interested in plate 15004. Let's look at the plate summary.\n",
    "ppv.ppv.allplate_summary[ppv.ppv.allplate_summary['plateid'] == 15004]"
   ]
  },
  {
   "cell_type": "code",
   "execution_count": null,
   "metadata": {},
   "outputs": [],
   "source": [
    "from ppv.plate import Plate"
   ]
  },
  {
   "cell_type": "code",
   "execution_count": null,
   "metadata": {},
   "outputs": [],
   "source": [
    "# Let's load plate 15004 and automatically download the file if it's missing.\n",
    "\n",
    "p15004 = Plate(15004)\n",
    "print(p15004)  # show the plate center and ID\n",
    "\n",
    "# It will take just a few seconds to download if needed.\n",
    "# This will only need to happen once for every \"plate batch\"\n",
    "# which is every ~50 plates (at least one platerun)"
   ]
  },
  {
   "cell_type": "markdown",
   "metadata": {},
   "source": [
    "Viola!"
   ]
  },
  {
   "cell_type": "code",
   "execution_count": null,
   "metadata": {},
   "outputs": [],
   "source": [
    "p15004.targets  # this is a table containing all the positions that are assigned fibers in the plate"
   ]
  },
  {
   "cell_type": "markdown",
   "metadata": {},
   "source": [
    "### Field\n",
    "- A field represents a FOV on the sky. It has a center position\n",
    "- All fields contain at least one plate\n",
    "- If you want to know about targets at a particular position in the sky, you should do so by Field; the Plates within a field could be checked for multiple observations."
   ]
  },
  {
   "cell_type": "code",
   "execution_count": null,
   "metadata": {},
   "outputs": [],
   "source": [
    "from ppv.groups import Field"
   ]
  },
  {
   "cell_type": "code",
   "execution_count": null,
   "metadata": {},
   "outputs": [],
   "source": [
    "# Let's look at the information for plate 15004 again\n",
    "ppv.ppv.allplate_summary[ppv.ppv.allplate_summary['plateid'] == 15004]"
   ]
  },
  {
   "cell_type": "code",
   "execution_count": null,
   "metadata": {},
   "outputs": [],
   "source": [
    "# The field name for plate 15004 is \n",
    "field_name = ppv.ppv.allplate_summary['name'][ppv.ppv.allplate_summary['plateid'] == 15004][0]  # [0] indx just turns column into the data entry\n",
    "print(field_name)"
   ]
  },
  {
   "cell_type": "code",
   "execution_count": null,
   "metadata": {},
   "outputs": [],
   "source": [
    "example_field = Field(field_name)\n",
    "print(example_field)"
   ]
  },
  {
   "cell_type": "code",
   "execution_count": null,
   "metadata": {},
   "outputs": [],
   "source": [
    "# We can see the program that submitted the field center\n",
    "example_field.programname"
   ]
  },
  {
   "cell_type": "code",
   "execution_count": null,
   "metadata": {},
   "outputs": [],
   "source": [
    "# The plates associated with the field\n",
    "example_field.plates\n",
    "# Just the one plate for this field\n",
    "# Note, this is the full Plates object"
   ]
  },
  {
   "cell_type": "code",
   "execution_count": null,
   "metadata": {},
   "outputs": [],
   "source": [
    "# There is also a targets property, which contains all the target information for assigned fibers in this field\n",
    "# If there was more than one plate for this field, this table would a concatenation of all plates.\n",
    "example_field.targets  # Almost identical to the Plate.targets table, except for a column showing the field name."
   ]
  },
  {
   "cell_type": "markdown",
   "metadata": {},
   "source": [
    "### Platerun\n",
    "- A Platerun is simply a collection of fields (as a field is a collection of plates).\n"
   ]
  },
  {
   "cell_type": "code",
   "execution_count": null,
   "metadata": {},
   "outputs": [],
   "source": [
    "from ppv.groups import Platerun"
   ]
  },
  {
   "cell_type": "code",
   "execution_count": null,
   "metadata": {},
   "outputs": [],
   "source": [
    "# Let's check available plateruns again\n",
    "ppv.ppv.available_plateruns()"
   ]
  },
  {
   "cell_type": "code",
   "execution_count": null,
   "metadata": {},
   "outputs": [],
   "source": [
    "platerun_08c = Platerun('2020.08.c.bhm-mwm')  "
   ]
  },
  {
   "cell_type": "code",
   "execution_count": null,
   "metadata": {},
   "outputs": [],
   "source": [
    "# When you access the fields of a platerun, they get loaded from disk.\n",
    "# This takes approximately 1 second per field on my laptop. You only need to do this ONCE per session.\n",
    "print(f'{len(platerun_08c.fields)} fields in prun_c\\n')\n",
    "print(platerun_08c.fields)\n",
    "# ~ 30 fields"
   ]
  },
  {
   "cell_type": "code",
   "execution_count": null,
   "metadata": {},
   "outputs": [],
   "source": [
    "# other handy things\n",
    "print(platerun_08c.fieldnames)  # just get the field names associated with the plate run.\n",
    "print(platerun_08c.platesummary) # print the part of the allplate_summary that contains this plate run."
   ]
  },
  {
   "cell_type": "code",
   "execution_count": null,
   "metadata": {},
   "outputs": [],
   "source": [
    "# A huge table containing all targets assigned fibers in the plate run.\n",
    "# This is akin to the \"summary\" table sent around during the very first plate run\n",
    "platerun_08c.targets  "
   ]
  },
  {
   "cell_type": "markdown",
   "metadata": {},
   "source": [
    "### Targets\n",
    "- Contains the set of targets that you are interested in checking.\n",
    "- Used as an interface with Plate, Field, and Platerun."
   ]
  },
  {
   "cell_type": "markdown",
   "metadata": {},
   "source": [
    "#### Easiest way to completely load targets\n",
    "Use the outputs from Jos&eacute;  for targetDB 0.1, you can download a carton of targets at\n",
    "\n",
    "https://data.sdss.org/sas/sdss5/target/development/0.1.0/   (requires standard SDSS password)"
   ]
  },
  {
   "cell_type": "code",
   "execution_count": null,
   "metadata": {},
   "outputs": [],
   "source": [
    "# Let's look at the mwm_planet carton\n",
    "from astropy.table import Table\n",
    "\n",
    "\n",
    "planet_targetDB = Table.read('/home/jquark/projects/sdss5/ppv/data/raw/mwm_planet_0.1.0_targetdb.fits.gz')\n",
    "\n",
    "# and the table\n",
    "planet_targetDB"
   ]
  },
  {
   "cell_type": "markdown",
   "metadata": {},
   "source": [
    "#### Targets object creation"
   ]
  },
  {
   "cell_type": "code",
   "execution_count": null,
   "metadata": {},
   "outputs": [],
   "source": [
    "# To create the Targets object, just supply a table-like object (astropy table, numpy record array, or a dictionary)\n",
    "# The data object needs to AT LEAST contain a catalogID array.\n",
    "# If you want to use 'available_in', you need to supply the RA and Dec as well.\n",
    "# Let's look at the call signature\n",
    "Targets?"
   ]
  },
  {
   "cell_type": "markdown",
   "metadata": {},
   "source": [
    "`colnames` is a list of column/field names that refer to, in order, the catalogID, RA, and Dec array.\n",
    "\n",
    "The default is: \n",
    "> colnames = ['catalogid', 'ra', 'dec']  \n",
    "\n",
    "These are the names of the columns containing the catalogID, RA, and Dec; respectively, withing the targetDB files.\n",
    "If you use these carton files, you can just give the astropy table and you are good to go.\n",
    "\n",
    "Otherwise, specify the catalogID, RA, and Dec columns/fields/keys as strings."
   ]
  },
  {
   "cell_type": "code",
   "execution_count": null,
   "metadata": {},
   "outputs": [],
   "source": [
    "# The rest are optional and can be kept via the 'ancillary' keyword.\n",
    "# Note, you COULD make a Targets object with 3 arrays of the same length: RA, DEC, catalogID\n",
    "\n",
    "planet_targets = Targets(planet_targetDB)"
   ]
  },
  {
   "cell_type": "code",
   "execution_count": null,
   "metadata": {},
   "outputs": [],
   "source": [
    "planet_targets"
   ]
  },
  {
   "cell_type": "markdown",
   "metadata": {},
   "source": [
    "#### Available and Assigned\n",
    "- A target is 'available' if the target's position is in a particular field.\n",
    "\n",
    "- A target is 'assigned' if a fiber was assigned to that target.\n"
   ]
  },
  {
   "cell_type": "code",
   "execution_count": null,
   "metadata": {},
   "outputs": [],
   "source": [
    "# Let's check if any planet_targets are in the example field\n",
    "\n",
    "print(planet_targets.available_in(example_field))   # this is a boolean array just stating if a target is available\n",
    "planet_targets.data[planet_targets.available_in(example_field)]\n",
    "\n",
    "# Viola! We get the 11 targets that COULD have been observed"
   ]
  },
  {
   "cell_type": "code",
   "execution_count": null,
   "metadata": {},
   "outputs": [],
   "source": [
    "# Now let's check what was assigned in this field\n",
    "# Same approach as 'available' his is a boolean array just stating if a target is available\n",
    "planet_targets.data[planet_targets.assigned_in(example_field)]"
   ]
  },
  {
   "cell_type": "code",
   "execution_count": null,
   "metadata": {},
   "outputs": [],
   "source": [
    "# Only 8 of a possible 11 targets were observed! \n",
    "# Which ones were left out?!\n",
    "\n",
    "planet_targets.data[planet_targets.not_assigned_in(example_field)]  # NOT_assigned_in\n",
    "\n",
    "# BOOM!"
   ]
  },
  {
   "cell_type": "markdown",
   "metadata": {},
   "source": [
    "- `available_in` and `assigned_in` will work for Plate objects, too. For example, we would have gotten the same results if we had done,\\\n",
    "\\\n",
    "`planet_targets.data[planet_targets.not_assigned_in(p15004)]`\n",
    "\n",
    "- Better still, the same concepts (and call signature!) are available for plate runs!"
   ]
  },
  {
   "cell_type": "code",
   "execution_count": null,
   "metadata": {},
   "outputs": [],
   "source": [
    "# Available\n",
    "planet_targets.data[planet_targets.available_in(platerun_08c)]"
   ]
  },
  {
   "cell_type": "code",
   "execution_count": null,
   "metadata": {},
   "outputs": [],
   "source": [
    "# Assigned_in works exactly the same way as for fields\n",
    "planet_targets.data[planet_targets.assigned_in(platerun_08c)]"
   ]
  },
  {
   "cell_type": "markdown",
   "metadata": {},
   "source": [
    "#### Getting more information for assigned targets\n",
    "`available_in` and `assigned_in` help you understand things about your input Targets object.\n",
    "\n",
    "To know HOW, exactly, your targets were assigned, use `assigned_info`.\n",
    "This will pull the relevant rows from the plate files."
   ]
  },
  {
   "cell_type": "code",
   "execution_count": null,
   "metadata": {},
   "outputs": [],
   "source": [
    "planet_targets.assigned_info(example_field)\n",
    "# information includes the instrument used ('holetype') and the carton the object was targeted under ('firstcarton')"
   ]
  },
  {
   "cell_type": "code",
   "execution_count": null,
   "metadata": {},
   "outputs": [],
   "source": [
    "# also works for a full plate run!\n",
    "planet_targets.assigned_info(platerun_08c)"
   ]
  },
  {
   "cell_type": "markdown",
   "metadata": {},
   "source": [
    "Thanks for reading this through!"
   ]
  }
 ],
 "metadata": {
  "kernelspec": {
   "display_name": "Python 3",
   "language": "python",
   "name": "python3"
  },
  "language_info": {
   "codemirror_mode": {
    "name": "ipython",
    "version": 3
   },
   "file_extension": ".py",
   "mimetype": "text/x-python",
   "name": "python",
   "nbconvert_exporter": "python",
   "pygments_lexer": "ipython3",
   "version": "3.8.5"
  }
 },
 "nbformat": 4,
 "nbformat_minor": 4
}
