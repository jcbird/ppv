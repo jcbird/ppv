{
 "cells": [
  {
   "cell_type": "code",
   "execution_count": 31,
   "metadata": {},
   "outputs": [],
   "source": [
    "# this cell is just for display purposes, NOT necessary for your code\n",
    "import IPython.display\n",
    "from pathlib import Path\n",
    "%config IPCompleter.use_jedi = False\n",
    "# rediculous bug in Jedi it seems"
   ]
  },
  {
   "cell_type": "markdown",
   "metadata": {},
   "source": [
    "## A quick spin with `ppv`"
   ]
  },
  {
   "cell_type": "code",
   "execution_count": null,
   "metadata": {},
   "outputs": [],
   "source": [
    "import ppv\n",
    "from astropy.table import Table"
   ]
  },
  {
   "cell_type": "code",
   "execution_count": null,
   "metadata": {},
   "outputs": [],
   "source": [
    "# table of targets from v0.1 of targetDB \n",
    "planet_targetDB = Table.read('/home/jquark/projects/sdss5/ppv/data/raw/mwm_planet_0.1.0_targetdb.fits.gz')\n",
    "planet_targetDB"
   ]
  },
  {
   "cell_type": "code",
   "execution_count": null,
   "metadata": {},
   "outputs": [],
   "source": [
    "# Create targets object\n",
    "planet_targets = ppv.Targets(planet_targetDB['ra'], planet_targetDB['dec'],\n",
    "                             planet_targetDB['catalogid'],\n",
    "                             data=planet_targetDB)\n"
   ]
  },
  {
   "cell_type": "code",
   "execution_count": 81,
   "metadata": {},
   "outputs": [],
   "source": [
    "# Define a plate run\n",
    "plate_run_2020_08_c = ppv.Platerun('2020.08.c.bhm-mwm')\n"
   ]
  },
  {
   "cell_type": "code",
   "execution_count": null,
   "metadata": {},
   "outputs": [],
   "source": [
    "# Get available targets based on position. COULD have been observed in this plate run.\n",
    "\n",
    "maybe_observed = planet_targets.available_in_platerun(plate_run_2020_08_c)\n",
    "planet_targets.data[maybe_observed]"
   ]
  },
  {
   "cell_type": "code",
   "execution_count": null,
   "metadata": {},
   "outputs": [],
   "source": [
    "# Get targets that were assigned a fiber.\n",
    "observed = planet_targets.assigned_in(plate_run_2020_08_c)\n",
    "planet_targets.data[observed]"
   ]
  },
  {
   "cell_type": "code",
   "execution_count": null,
   "metadata": {},
   "outputs": [],
   "source": [
    "# Get targets that were available but NOT assigned a fiber.\n",
    "not_observed = planet_targets.not_assigned_in(plate_run_2020_08_c)\n",
    "planet_targets.data[not_observed]"
   ]
  },
  {
   "cell_type": "code",
   "execution_count": null,
   "metadata": {},
   "outputs": [],
   "source": []
  },
  {
   "cell_type": "markdown",
   "metadata": {},
   "source": [
    "## `ppv` Walkthrough"
   ]
  },
  {
   "cell_type": "markdown",
   "metadata": {},
   "source": [
    "### Convenient References"
   ]
  },
  {
   "cell_type": "code",
   "execution_count": null,
   "metadata": {},
   "outputs": [],
   "source": [
    "import ppv"
   ]
  },
  {
   "cell_type": "code",
   "execution_count": 6,
   "metadata": {},
   "outputs": [
    {
     "data": {
      "text/html": [
       "<i>Table length=39</i>\n",
       "<table id=\"table140550490520304\" class=\"table-striped table-bordered table-condensed\">\n",
       "<thead><tr><th>plateid</th><th>designid</th><th>locationid</th><th>tileid</th><th>plateDesignVersion</th><th>ha [6]</th><th>temp</th><th>epoch</th><th>raCen</th><th>decCen</th><th>survey</th><th>programname</th><th>drillstyle</th><th>rerun</th><th>platerun</th><th>chunk</th><th>name</th><th>comments</th></tr></thead>\n",
       "<thead><tr><th>int32</th><th>int32</th><th>int32</th><th>int32</th><th>bytes20</th><th>float32</th><th>float32</th><th>float32</th><th>float64</th><th>float64</th><th>bytes20</th><th>bytes40</th><th>bytes20</th><th>bytes50</th><th>bytes200</th><th>bytes200</th><th>bytes200</th><th>bytes200</th></tr></thead>\n",
       "<tr><td>90100</td><td>90100</td><td>90100</td><td>-1</td><td>v1</td><td>0.0 .. 0.0</td><td>10.0</td><td>2020.9</td><td>213.7042</td><td>53.08333</td><td>mwm-bhm</td><td>test</td><td>apogee_boss</td><td></td><td>2020.01.e.bhm-mwm</td><td>2020.01.e.bhm-mwm</td><td>test APOGEE and BOSS</td><td>none</td></tr>\n",
       "<tr><td>90101</td><td>90101</td><td>90101</td><td>-1</td><td>v1</td><td>0.0 .. 0.0</td><td>10.0</td><td>2020.9</td><td>213.7042</td><td>53.08333</td><td>mwm-bhm</td><td>test</td><td>bosshalf</td><td></td><td>2020.02.b.bhm</td><td>2020.02.b.bhm</td><td>test BOSSHALF</td><td>none</td></tr>\n",
       "<tr><td>15000</td><td>15000</td><td>50000</td><td>-1</td><td>v1</td><td>0.0 .. 0.0</td><td>11.0</td><td>2020.8</td><td>35.708333</td><td>-5.05</td><td>bhm-mwm</td><td>RM</td><td>apogee_boss</td><td></td><td>2020.08.a.bhm-mwm</td><td>2020.08.a.bhm-mwm</td><td>RM_XMM-LSS</td><td>100</td></tr>\n",
       "<tr><td>15001</td><td>15000</td><td>50000</td><td>-1</td><td>v1</td><td>-25.0 .. 0.0</td><td>11.0</td><td>2020.8</td><td>35.708333</td><td>-5.05</td><td>bhm-mwm</td><td>RM</td><td>apogee_boss</td><td></td><td>2020.08.a.bhm-mwm</td><td>2020.08.a.bhm-mwm</td><td>RM_XMM-LSS</td><td>100</td></tr>\n",
       "<tr><td>15002</td><td>15000</td><td>50000</td><td>-1</td><td>v1</td><td>25.0 .. 0.0</td><td>9.0</td><td>2020.8</td><td>35.708333</td><td>-5.05</td><td>bhm-mwm</td><td>RM</td><td>apogee_boss</td><td></td><td>2020.08.a.bhm-mwm</td><td>2020.08.a.bhm-mwm</td><td>RM_XMM-LSS</td><td>100</td></tr>\n",
       "<tr><td>15004</td><td>15001</td><td>50001</td><td>-1</td><td>v2</td><td>-15.0 .. 0.0</td><td>13.0</td><td>2020.8</td><td>1.845703</td><td>26.443334</td><td>bhm-mwm</td><td>AQMES-Medium</td><td>apogee_boss</td><td></td><td>2020.08.c.bhm-mwm</td><td>2020.08.c.bhm-mwm</td><td>AQM_001.85_+26.44</td><td></td></tr>\n",
       "<tr><td>15005</td><td>15002</td><td>50002</td><td>-1</td><td>v2</td><td>-15.0 .. 0.0</td><td>13.0</td><td>2020.8</td><td>8.525391</td><td>1.044512</td><td>bhm-mwm</td><td>AQMES-Medium</td><td>apogee_boss</td><td></td><td>2020.08.c.bhm-mwm</td><td>2020.08.c.bhm-mwm</td><td>AQM_008.53_+01.04</td><td></td></tr>\n",
       "<tr><td>15006</td><td>15003</td><td>50003</td><td>-1</td><td>v2</td><td>-15.0 .. 0.0</td><td>13.0</td><td>2020.8</td><td>9.316406</td><td>25.530378</td><td>bhm-mwm</td><td>AQMES-Medium</td><td>apogee_boss</td><td></td><td>2020.08.c.bhm-mwm</td><td>2020.08.c.bhm-mwm</td><td>AQM_009.32_+25.53</td><td></td></tr>\n",
       "<tr><td>15007</td><td>15004</td><td>50004</td><td>-1</td><td>v2</td><td>0.0 .. 0.0</td><td>11.0</td><td>2020.8</td><td>10.458984</td><td>-0.447628</td><td>bhm-mwm</td><td>AQMES-Medium</td><td>apogee_boss</td><td></td><td>2020.08.c.bhm-mwm</td><td>2020.08.c.bhm-mwm</td><td>AQM_010.46_-00.45</td><td></td></tr>\n",
       "<tr><td>15008</td><td>15005</td><td>50005</td><td>-1</td><td>v2</td><td>0.0 .. 0.0</td><td>11.0</td><td>2020.8</td><td>13.710938</td><td>0.820671</td><td>bhm-mwm</td><td>AQMES-Medium</td><td>apogee_boss</td><td></td><td>2020.08.c.bhm-mwm</td><td>2020.08.c.bhm-mwm</td><td>AQM_013.71_+00.82</td><td></td></tr>\n",
       "<tr><td>...</td><td>...</td><td>...</td><td>...</td><td>...</td><td>...</td><td>...</td><td>...</td><td>...</td><td>...</td><td>...</td><td>...</td><td>...</td><td>...</td><td>...</td><td>...</td><td>...</td><td>...</td></tr>\n",
       "<tr><td>15028</td><td>15025</td><td>50025</td><td>-1</td><td>v2</td><td>0.0 .. 0.0</td><td>14.0</td><td>2020.8</td><td>344.17969</td><td>19.234005</td><td>bhm-mwm</td><td>AQMES-Medium</td><td>apogee_boss</td><td></td><td>2020.08.c.bhm-mwm</td><td>2020.08.c.bhm-mwm</td><td>AQM_344.18_+19.23</td><td></td></tr>\n",
       "<tr><td>15029</td><td>15026</td><td>50026</td><td>-1</td><td>v2</td><td>-15.0 .. 0.0</td><td>15.0</td><td>2020.8</td><td>334.95117</td><td>0.895283</td><td>bhm-mwm</td><td>AQMES-Medium</td><td>apogee_boss</td><td></td><td>2020.08.c.bhm-mwm</td><td>2020.08.c.bhm-mwm</td><td>AQM_334.95_+00.90</td><td></td></tr>\n",
       "<tr><td>15030</td><td>15027</td><td>50027</td><td>-1</td><td>v2</td><td>-15.0 .. 0.0</td><td>15.0</td><td>2020.8</td><td>335.6543</td><td>20.423615</td><td>bhm-mwm</td><td>AQMES-Wide</td><td>apogee_boss</td><td></td><td>2020.08.c.bhm-mwm</td><td>2020.08.c.bhm-mwm</td><td>AQW_335.65_+20.42</td><td></td></tr>\n",
       "<tr><td>15031</td><td>15028</td><td>50028</td><td>-1</td><td>v2</td><td>0.0 .. 0.0</td><td>14.0</td><td>2020.8</td><td>339.25781</td><td>24.051153</td><td>bhm-mwm</td><td>AQMES-Wide</td><td>apogee_boss</td><td></td><td>2020.08.c.bhm-mwm</td><td>2020.08.c.bhm-mwm</td><td>AQW_339.26_+24.05</td><td></td></tr>\n",
       "<tr><td>15032</td><td>15029</td><td>50029</td><td>-1</td><td>v2</td><td>0.0 .. 0.0</td><td>14.0</td><td>2020.8</td><td>340.04883</td><td>26.610098</td><td>bhm-mwm</td><td>AQMES-Wide</td><td>apogee_boss</td><td></td><td>2020.08.c.bhm-mwm</td><td>2020.08.c.bhm-mwm</td><td>AQW_340.05_+26.61</td><td></td></tr>\n",
       "<tr><td>15033</td><td>15030</td><td>50030</td><td>-1</td><td>v2</td><td>-10.0 .. 0.0</td><td>14.0</td><td>2020.8</td><td>354.46289</td><td>-0.447628</td><td>bhm-mwm</td><td>AQMES-Medium</td><td>apogee_boss</td><td></td><td>2020.08.c.bhm-mwm</td><td>2020.08.c.bhm-mwm</td><td>AQM_354.46_-00.45</td><td></td></tr>\n",
       "<tr><td>15034</td><td>15031</td><td>50031</td><td>-1</td><td>v2</td><td>-10.0 .. 0.0</td><td>14.0</td><td>2020.8</td><td>357.09961</td><td>0.0</td><td>bhm-mwm</td><td>AQMES-Medium</td><td>apogee_boss</td><td></td><td>2020.08.c.bhm-mwm</td><td>2020.08.c.bhm-mwm</td><td>AQM_357.10_+00.00</td><td></td></tr>\n",
       "<tr><td>15035</td><td>15032</td><td>50032</td><td>-1</td><td>v2</td><td>0.0 .. 0.0</td><td>14.0</td><td>2020.8</td><td>359.38477</td><td>0.149208</td><td>bhm-mwm</td><td>AQMES-Medium</td><td>apogee_boss</td><td></td><td>2020.08.c.bhm-mwm</td><td>2020.08.c.bhm-mwm</td><td>AQM_359.38_+00.15</td><td></td></tr>\n",
       "<tr><td>15036</td><td>15033</td><td>50033</td><td>-1</td><td>v2</td><td>-10.0 .. 0.0</td><td>14.0</td><td>2020.8</td><td>351.03516</td><td>24.378358</td><td>bhm-mwm</td><td>AQMES-Wide</td><td>apogee_boss</td><td></td><td>2020.08.c.bhm-mwm</td><td>2020.08.c.bhm-mwm</td><td>AQW_351.04_+24.38</td><td></td></tr>\n",
       "<tr><td>15037</td><td>15034</td><td>50034</td><td>-1</td><td>v2</td><td>-10.0 .. 0.0</td><td>14.0</td><td>2020.8</td><td>353.58398</td><td>23.969482</td><td>bhm-mwm</td><td>AQMES-Wide</td><td>apogee_boss</td><td></td><td>2020.08.c.bhm-mwm</td><td>2020.08.c.bhm-mwm</td><td>AQW_353.58_+23.97</td><td></td></tr>\n",
       "</table>"
      ],
      "text/plain": [
       "<Table length=39>\n",
       "plateid designid locationid ...       chunk               name         comments\n",
       " int32   int32     int32    ...      bytes200           bytes200       bytes200\n",
       "------- -------- ---------- ... ----------------- -------------------- --------\n",
       "  90100    90100      90100 ... 2020.01.e.bhm-mwm test APOGEE and BOSS     none\n",
       "  90101    90101      90101 ...     2020.02.b.bhm        test BOSSHALF     none\n",
       "  15000    15000      50000 ... 2020.08.a.bhm-mwm           RM_XMM-LSS      100\n",
       "  15001    15000      50000 ... 2020.08.a.bhm-mwm           RM_XMM-LSS      100\n",
       "  15002    15000      50000 ... 2020.08.a.bhm-mwm           RM_XMM-LSS      100\n",
       "  15004    15001      50001 ... 2020.08.c.bhm-mwm    AQM_001.85_+26.44         \n",
       "  15005    15002      50002 ... 2020.08.c.bhm-mwm    AQM_008.53_+01.04         \n",
       "  15006    15003      50003 ... 2020.08.c.bhm-mwm    AQM_009.32_+25.53         \n",
       "  15007    15004      50004 ... 2020.08.c.bhm-mwm    AQM_010.46_-00.45         \n",
       "  15008    15005      50005 ... 2020.08.c.bhm-mwm    AQM_013.71_+00.82         \n",
       "    ...      ...        ... ...               ...                  ...      ...\n",
       "  15028    15025      50025 ... 2020.08.c.bhm-mwm    AQM_344.18_+19.23         \n",
       "  15029    15026      50026 ... 2020.08.c.bhm-mwm    AQM_334.95_+00.90         \n",
       "  15030    15027      50027 ... 2020.08.c.bhm-mwm    AQW_335.65_+20.42         \n",
       "  15031    15028      50028 ... 2020.08.c.bhm-mwm    AQW_339.26_+24.05         \n",
       "  15032    15029      50029 ... 2020.08.c.bhm-mwm    AQW_340.05_+26.61         \n",
       "  15033    15030      50030 ... 2020.08.c.bhm-mwm    AQM_354.46_-00.45         \n",
       "  15034    15031      50031 ... 2020.08.c.bhm-mwm    AQM_357.10_+00.00         \n",
       "  15035    15032      50032 ... 2020.08.c.bhm-mwm    AQM_359.38_+00.15         \n",
       "  15036    15033      50033 ... 2020.08.c.bhm-mwm    AQW_351.04_+24.38         \n",
       "  15037    15034      50034 ... 2020.08.c.bhm-mwm    AQW_353.58_+23.97         "
      ]
     },
     "execution_count": 6,
     "metadata": {},
     "output_type": "execute_result"
    }
   ],
   "source": [
    "# From the base package, you can access the full plate summary\n",
    "ppv.allplate_summary"
   ]
  },
  {
   "cell_type": "code",
   "execution_count": 7,
   "metadata": {},
   "outputs": [
    {
     "data": {
      "text/plain": [
       "['2020.02.b.bhm',\n",
       " '2020.08.a.bhm-mwm',\n",
       " '2020.01.e.bhm-mwm',\n",
       " '2020.08.c.bhm-mwm']"
      ]
     },
     "execution_count": 7,
     "metadata": {},
     "output_type": "execute_result"
    }
   ],
   "source": [
    "# You can also get a list of all available plateruns (this is handy)\n",
    "ppv.available_plateruns"
   ]
  },
  {
   "cell_type": "markdown",
   "metadata": {},
   "source": [
    "### Plate\n",
    "- A plate holds all the relevant information of a plate, including all targets that are assigned fibers.\n",
    "\n",
    "- This class (and the Field and Platerun classes) will automagically download the relevant plugHoles files (you don't even need to think about it). \n",
    "\n"
   ]
  },
  {
   "cell_type": "code",
   "execution_count": 11,
   "metadata": {},
   "outputs": [
    {
     "data": {
      "text/html": [
       "<i>Table length=39</i>\n",
       "<table id=\"table140550490520304\" class=\"table-striped table-bordered table-condensed\">\n",
       "<thead><tr><th>plateid</th><th>designid</th><th>locationid</th><th>tileid</th><th>plateDesignVersion</th><th>ha [6]</th><th>temp</th><th>epoch</th><th>raCen</th><th>decCen</th><th>survey</th><th>programname</th><th>drillstyle</th><th>rerun</th><th>platerun</th><th>chunk</th><th>name</th><th>comments</th></tr></thead>\n",
       "<thead><tr><th>int32</th><th>int32</th><th>int32</th><th>int32</th><th>bytes20</th><th>float32</th><th>float32</th><th>float32</th><th>float64</th><th>float64</th><th>bytes20</th><th>bytes40</th><th>bytes20</th><th>bytes50</th><th>bytes200</th><th>bytes200</th><th>bytes200</th><th>bytes200</th></tr></thead>\n",
       "<tr><td>90100</td><td>90100</td><td>90100</td><td>-1</td><td>v1</td><td>0.0 .. 0.0</td><td>10.0</td><td>2020.9</td><td>213.7042</td><td>53.08333</td><td>mwm-bhm</td><td>test</td><td>apogee_boss</td><td></td><td>2020.01.e.bhm-mwm</td><td>2020.01.e.bhm-mwm</td><td>test APOGEE and BOSS</td><td>none</td></tr>\n",
       "<tr><td>90101</td><td>90101</td><td>90101</td><td>-1</td><td>v1</td><td>0.0 .. 0.0</td><td>10.0</td><td>2020.9</td><td>213.7042</td><td>53.08333</td><td>mwm-bhm</td><td>test</td><td>bosshalf</td><td></td><td>2020.02.b.bhm</td><td>2020.02.b.bhm</td><td>test BOSSHALF</td><td>none</td></tr>\n",
       "<tr><td>15000</td><td>15000</td><td>50000</td><td>-1</td><td>v1</td><td>0.0 .. 0.0</td><td>11.0</td><td>2020.8</td><td>35.708333</td><td>-5.05</td><td>bhm-mwm</td><td>RM</td><td>apogee_boss</td><td></td><td>2020.08.a.bhm-mwm</td><td>2020.08.a.bhm-mwm</td><td>RM_XMM-LSS</td><td>100</td></tr>\n",
       "<tr><td>15001</td><td>15000</td><td>50000</td><td>-1</td><td>v1</td><td>-25.0 .. 0.0</td><td>11.0</td><td>2020.8</td><td>35.708333</td><td>-5.05</td><td>bhm-mwm</td><td>RM</td><td>apogee_boss</td><td></td><td>2020.08.a.bhm-mwm</td><td>2020.08.a.bhm-mwm</td><td>RM_XMM-LSS</td><td>100</td></tr>\n",
       "<tr><td>15002</td><td>15000</td><td>50000</td><td>-1</td><td>v1</td><td>25.0 .. 0.0</td><td>9.0</td><td>2020.8</td><td>35.708333</td><td>-5.05</td><td>bhm-mwm</td><td>RM</td><td>apogee_boss</td><td></td><td>2020.08.a.bhm-mwm</td><td>2020.08.a.bhm-mwm</td><td>RM_XMM-LSS</td><td>100</td></tr>\n",
       "<tr><td>15004</td><td>15001</td><td>50001</td><td>-1</td><td>v2</td><td>-15.0 .. 0.0</td><td>13.0</td><td>2020.8</td><td>1.845703</td><td>26.443334</td><td>bhm-mwm</td><td>AQMES-Medium</td><td>apogee_boss</td><td></td><td>2020.08.c.bhm-mwm</td><td>2020.08.c.bhm-mwm</td><td>AQM_001.85_+26.44</td><td></td></tr>\n",
       "<tr><td>15005</td><td>15002</td><td>50002</td><td>-1</td><td>v2</td><td>-15.0 .. 0.0</td><td>13.0</td><td>2020.8</td><td>8.525391</td><td>1.044512</td><td>bhm-mwm</td><td>AQMES-Medium</td><td>apogee_boss</td><td></td><td>2020.08.c.bhm-mwm</td><td>2020.08.c.bhm-mwm</td><td>AQM_008.53_+01.04</td><td></td></tr>\n",
       "<tr><td>15006</td><td>15003</td><td>50003</td><td>-1</td><td>v2</td><td>-15.0 .. 0.0</td><td>13.0</td><td>2020.8</td><td>9.316406</td><td>25.530378</td><td>bhm-mwm</td><td>AQMES-Medium</td><td>apogee_boss</td><td></td><td>2020.08.c.bhm-mwm</td><td>2020.08.c.bhm-mwm</td><td>AQM_009.32_+25.53</td><td></td></tr>\n",
       "<tr><td>15007</td><td>15004</td><td>50004</td><td>-1</td><td>v2</td><td>0.0 .. 0.0</td><td>11.0</td><td>2020.8</td><td>10.458984</td><td>-0.447628</td><td>bhm-mwm</td><td>AQMES-Medium</td><td>apogee_boss</td><td></td><td>2020.08.c.bhm-mwm</td><td>2020.08.c.bhm-mwm</td><td>AQM_010.46_-00.45</td><td></td></tr>\n",
       "<tr><td>15008</td><td>15005</td><td>50005</td><td>-1</td><td>v2</td><td>0.0 .. 0.0</td><td>11.0</td><td>2020.8</td><td>13.710938</td><td>0.820671</td><td>bhm-mwm</td><td>AQMES-Medium</td><td>apogee_boss</td><td></td><td>2020.08.c.bhm-mwm</td><td>2020.08.c.bhm-mwm</td><td>AQM_013.71_+00.82</td><td></td></tr>\n",
       "<tr><td>...</td><td>...</td><td>...</td><td>...</td><td>...</td><td>...</td><td>...</td><td>...</td><td>...</td><td>...</td><td>...</td><td>...</td><td>...</td><td>...</td><td>...</td><td>...</td><td>...</td><td>...</td></tr>\n",
       "<tr><td>15028</td><td>15025</td><td>50025</td><td>-1</td><td>v2</td><td>0.0 .. 0.0</td><td>14.0</td><td>2020.8</td><td>344.17969</td><td>19.234005</td><td>bhm-mwm</td><td>AQMES-Medium</td><td>apogee_boss</td><td></td><td>2020.08.c.bhm-mwm</td><td>2020.08.c.bhm-mwm</td><td>AQM_344.18_+19.23</td><td></td></tr>\n",
       "<tr><td>15029</td><td>15026</td><td>50026</td><td>-1</td><td>v2</td><td>-15.0 .. 0.0</td><td>15.0</td><td>2020.8</td><td>334.95117</td><td>0.895283</td><td>bhm-mwm</td><td>AQMES-Medium</td><td>apogee_boss</td><td></td><td>2020.08.c.bhm-mwm</td><td>2020.08.c.bhm-mwm</td><td>AQM_334.95_+00.90</td><td></td></tr>\n",
       "<tr><td>15030</td><td>15027</td><td>50027</td><td>-1</td><td>v2</td><td>-15.0 .. 0.0</td><td>15.0</td><td>2020.8</td><td>335.6543</td><td>20.423615</td><td>bhm-mwm</td><td>AQMES-Wide</td><td>apogee_boss</td><td></td><td>2020.08.c.bhm-mwm</td><td>2020.08.c.bhm-mwm</td><td>AQW_335.65_+20.42</td><td></td></tr>\n",
       "<tr><td>15031</td><td>15028</td><td>50028</td><td>-1</td><td>v2</td><td>0.0 .. 0.0</td><td>14.0</td><td>2020.8</td><td>339.25781</td><td>24.051153</td><td>bhm-mwm</td><td>AQMES-Wide</td><td>apogee_boss</td><td></td><td>2020.08.c.bhm-mwm</td><td>2020.08.c.bhm-mwm</td><td>AQW_339.26_+24.05</td><td></td></tr>\n",
       "<tr><td>15032</td><td>15029</td><td>50029</td><td>-1</td><td>v2</td><td>0.0 .. 0.0</td><td>14.0</td><td>2020.8</td><td>340.04883</td><td>26.610098</td><td>bhm-mwm</td><td>AQMES-Wide</td><td>apogee_boss</td><td></td><td>2020.08.c.bhm-mwm</td><td>2020.08.c.bhm-mwm</td><td>AQW_340.05_+26.61</td><td></td></tr>\n",
       "<tr><td>15033</td><td>15030</td><td>50030</td><td>-1</td><td>v2</td><td>-10.0 .. 0.0</td><td>14.0</td><td>2020.8</td><td>354.46289</td><td>-0.447628</td><td>bhm-mwm</td><td>AQMES-Medium</td><td>apogee_boss</td><td></td><td>2020.08.c.bhm-mwm</td><td>2020.08.c.bhm-mwm</td><td>AQM_354.46_-00.45</td><td></td></tr>\n",
       "<tr><td>15034</td><td>15031</td><td>50031</td><td>-1</td><td>v2</td><td>-10.0 .. 0.0</td><td>14.0</td><td>2020.8</td><td>357.09961</td><td>0.0</td><td>bhm-mwm</td><td>AQMES-Medium</td><td>apogee_boss</td><td></td><td>2020.08.c.bhm-mwm</td><td>2020.08.c.bhm-mwm</td><td>AQM_357.10_+00.00</td><td></td></tr>\n",
       "<tr><td>15035</td><td>15032</td><td>50032</td><td>-1</td><td>v2</td><td>0.0 .. 0.0</td><td>14.0</td><td>2020.8</td><td>359.38477</td><td>0.149208</td><td>bhm-mwm</td><td>AQMES-Medium</td><td>apogee_boss</td><td></td><td>2020.08.c.bhm-mwm</td><td>2020.08.c.bhm-mwm</td><td>AQM_359.38_+00.15</td><td></td></tr>\n",
       "<tr><td>15036</td><td>15033</td><td>50033</td><td>-1</td><td>v2</td><td>-10.0 .. 0.0</td><td>14.0</td><td>2020.8</td><td>351.03516</td><td>24.378358</td><td>bhm-mwm</td><td>AQMES-Wide</td><td>apogee_boss</td><td></td><td>2020.08.c.bhm-mwm</td><td>2020.08.c.bhm-mwm</td><td>AQW_351.04_+24.38</td><td></td></tr>\n",
       "<tr><td>15037</td><td>15034</td><td>50034</td><td>-1</td><td>v2</td><td>-10.0 .. 0.0</td><td>14.0</td><td>2020.8</td><td>353.58398</td><td>23.969482</td><td>bhm-mwm</td><td>AQMES-Wide</td><td>apogee_boss</td><td></td><td>2020.08.c.bhm-mwm</td><td>2020.08.c.bhm-mwm</td><td>AQW_353.58_+23.97</td><td></td></tr>\n",
       "</table>"
      ],
      "text/plain": [
       "<Table length=39>\n",
       "plateid designid locationid ...       chunk               name         comments\n",
       " int32   int32     int32    ...      bytes200           bytes200       bytes200\n",
       "------- -------- ---------- ... ----------------- -------------------- --------\n",
       "  90100    90100      90100 ... 2020.01.e.bhm-mwm test APOGEE and BOSS     none\n",
       "  90101    90101      90101 ...     2020.02.b.bhm        test BOSSHALF     none\n",
       "  15000    15000      50000 ... 2020.08.a.bhm-mwm           RM_XMM-LSS      100\n",
       "  15001    15000      50000 ... 2020.08.a.bhm-mwm           RM_XMM-LSS      100\n",
       "  15002    15000      50000 ... 2020.08.a.bhm-mwm           RM_XMM-LSS      100\n",
       "  15004    15001      50001 ... 2020.08.c.bhm-mwm    AQM_001.85_+26.44         \n",
       "  15005    15002      50002 ... 2020.08.c.bhm-mwm    AQM_008.53_+01.04         \n",
       "  15006    15003      50003 ... 2020.08.c.bhm-mwm    AQM_009.32_+25.53         \n",
       "  15007    15004      50004 ... 2020.08.c.bhm-mwm    AQM_010.46_-00.45         \n",
       "  15008    15005      50005 ... 2020.08.c.bhm-mwm    AQM_013.71_+00.82         \n",
       "    ...      ...        ... ...               ...                  ...      ...\n",
       "  15028    15025      50025 ... 2020.08.c.bhm-mwm    AQM_344.18_+19.23         \n",
       "  15029    15026      50026 ... 2020.08.c.bhm-mwm    AQM_334.95_+00.90         \n",
       "  15030    15027      50027 ... 2020.08.c.bhm-mwm    AQW_335.65_+20.42         \n",
       "  15031    15028      50028 ... 2020.08.c.bhm-mwm    AQW_339.26_+24.05         \n",
       "  15032    15029      50029 ... 2020.08.c.bhm-mwm    AQW_340.05_+26.61         \n",
       "  15033    15030      50030 ... 2020.08.c.bhm-mwm    AQM_354.46_-00.45         \n",
       "  15034    15031      50031 ... 2020.08.c.bhm-mwm    AQM_357.10_+00.00         \n",
       "  15035    15032      50032 ... 2020.08.c.bhm-mwm    AQM_359.38_+00.15         \n",
       "  15036    15033      50033 ... 2020.08.c.bhm-mwm    AQW_351.04_+24.38         \n",
       "  15037    15034      50034 ... 2020.08.c.bhm-mwm    AQW_353.58_+23.97         "
      ]
     },
     "execution_count": 11,
     "metadata": {},
     "output_type": "execute_result"
    }
   ],
   "source": [
    "ppv.allplate_summary"
   ]
  },
  {
   "cell_type": "code",
   "execution_count": 12,
   "metadata": {},
   "outputs": [
    {
     "data": {
      "text/html": [
       "<i>Table length=1</i>\n",
       "<table id=\"table140550331936928\" class=\"table-striped table-bordered table-condensed\">\n",
       "<thead><tr><th>plateid</th><th>designid</th><th>locationid</th><th>tileid</th><th>plateDesignVersion</th><th>ha [6]</th><th>temp</th><th>epoch</th><th>raCen</th><th>decCen</th><th>survey</th><th>programname</th><th>drillstyle</th><th>rerun</th><th>platerun</th><th>chunk</th><th>name</th><th>comments</th></tr></thead>\n",
       "<thead><tr><th>int32</th><th>int32</th><th>int32</th><th>int32</th><th>bytes20</th><th>float32</th><th>float32</th><th>float32</th><th>float64</th><th>float64</th><th>bytes20</th><th>bytes40</th><th>bytes20</th><th>bytes50</th><th>bytes200</th><th>bytes200</th><th>bytes200</th><th>bytes200</th></tr></thead>\n",
       "<tr><td>15004</td><td>15001</td><td>50001</td><td>-1</td><td>v2</td><td>-15.0 .. 0.0</td><td>13.0</td><td>2020.8</td><td>1.845703</td><td>26.443334</td><td>bhm-mwm</td><td>AQMES-Medium</td><td>apogee_boss</td><td></td><td>2020.08.c.bhm-mwm</td><td>2020.08.c.bhm-mwm</td><td>AQM_001.85_+26.44</td><td></td></tr>\n",
       "</table>"
      ],
      "text/plain": [
       "<Table length=1>\n",
       "plateid designid locationid ...       chunk              name       comments\n",
       " int32   int32     int32    ...      bytes200          bytes200     bytes200\n",
       "------- -------- ---------- ... ----------------- ----------------- --------\n",
       "  15004    15001      50001 ... 2020.08.c.bhm-mwm AQM_001.85_+26.44         "
      ]
     },
     "execution_count": 12,
     "metadata": {},
     "output_type": "execute_result"
    }
   ],
   "source": [
    "# let's say I am interested in plate 15004. Let's look at the plate summary.\n",
    "ppv.allplate_summary[ppv.allplate_summary['plateid'] == 15004]"
   ]
  },
  {
   "cell_type": "markdown",
   "metadata": {},
   "source": [
    "### ppv_setup.ini\n",
    "Before proceeding, let's make sure that the ppv_setup.ini is properly configured:"
   ]
  },
  {
   "cell_type": "markdown",
   "metadata": {},
   "source": [
    "Contents of '~/.config/ppv_setup.ini'\n",
    "\n",
    "> [paths]  \n",
    "> plate_dir = /home/user/obsdata/plates/test5  \n",
    ">\n",
    "> \\# If your plate files were in, e.g., /home/user/data/plates/0150XX  \n",
    "> \\# and /home/user/data/plates/0160XX, then edit the plate_dir line to read  \n",
    "> \\# plate_dir = /home/user/data/plates  \n",
    ">\n",
    "> [username]  \n",
    "> sdss_org = u600XXXX  \n",
    "\n",
    "You NEED to edit this file before using any further `ppv` functionality.\n"
   ]
  },
  {
   "cell_type": "markdown",
   "metadata": {},
   "source": [
    "#### Automagically download files\n",
    "If `ppv` doesn't find a plate file that it is looking for, it will use rsync to grab the latest plateHoles files. \n",
    "\n",
    "**NOTE** If needed, you will be prompted for your utah password. For now, the call is through the `apogee.sdss.org` server at Utah."
   ]
  },
  {
   "cell_type": "code",
   "execution_count": 29,
   "metadata": {},
   "outputs": [
    {
     "name": "stdout",
     "output_type": "stream",
     "text": [
      "/home/jquark/obsdata/plates/test5/0150XX/015004/plateHoles-015004.par does not exist. Getting files via rsync now\n",
      "--- Please enter your password for u6009166 below --\n",
      "Running command:\n",
      "rsync -avz --include='plateHoles-*.par' --include='*/' --exclude='*' u6009166@apogee.sdss.org:///uufs/chpc.utah.edu/common/home/sdss05/software/svn.sdss.org/data/sdss/platelist/trunk/plates/0150XX/ /home/jquark/obsdata/plates/test5/0150XX/\n"
     ]
    }
   ],
   "source": [
    "# Let's load plate 15004 and automatically download the file if it's missing.\n",
    "\n",
    "p15004 = ppv.Plate(15004)\n",
    "\n",
    "\n",
    "# It will take just a few seconds to download. \n",
    "# This will only need to happen once for every \"plate batch\"\n",
    "# which is every ~50 plates (at least one platerun)"
   ]
  },
  {
   "cell_type": "markdown",
   "metadata": {},
   "source": [
    "Viola!"
   ]
  },
  {
   "cell_type": "code",
   "execution_count": 33,
   "metadata": {},
   "outputs": [
    {
     "name": "stdout",
     "output_type": "stream",
     "text": [
      "Plate: 15004; RA: 1.845703; Dec: 26.443334\n"
     ]
    }
   ],
   "source": [
    "print(p15004)  # show the plate center and ID"
   ]
  },
  {
   "cell_type": "code",
   "execution_count": 34,
   "metadata": {},
   "outputs": [
    {
     "data": {
      "text/html": [
       "<i>Table length=835</i>\n",
       "<table id=\"table140550339767792\" class=\"table-striped table-bordered table-condensed\">\n",
       "<thead><tr><th>target_ra</th><th>target_dec</th><th>holetype</th><th>targettype</th><th>catalogid</th><th>tmass_id</th><th>firstcarton</th><th>tmass_h</th><th>gaia_g</th><th>gaia_rp</th><th>gaia_bp</th><th>epoch</th><th>plate</th></tr></thead>\n",
       "<thead><tr><th>float64</th><th>float64</th><th>str13</th><th>str8</th><th>uint64</th><th>str23</th><th>str19</th><th>float64</th><th>float64</th><th>float64</th><th>float64</th><th>float64</th><th>int64</th></tr></thead>\n",
       "<tr><td>0.0</td><td>0.0</td><td>CENTER</td><td>NA</td><td>0</td><td>NA</td><td>NA</td><td>-9999.0</td><td>0.0</td><td>0.0</td><td>0.0</td><td>2020.8</td><td>15004</td></tr>\n",
       "<tr><td>2.3022188</td><td>26.839717</td><td>BOSS_SHARED</td><td>science</td><td>4402832120</td><td>2MASS-J00091250+2650230</td><td>bhm_aqmes_med</td><td>16.475</td><td>17.6381</td><td>17.3689</td><td>17.6729</td><td>2020.8</td><td>15004</td></tr>\n",
       "<tr><td>0.4196239</td><td>26.073782</td><td>BOSS_SHARED</td><td>science</td><td>4400708300</td><td>None</td><td>bhm_aqmes_med</td><td>-9.99999</td><td>19.1244</td><td>18.6681</td><td>19.3397</td><td>2020.8</td><td>15004</td></tr>\n",
       "<tr><td>1.127178</td><td>25.730631</td><td>BOSS_SHARED</td><td>science</td><td>4400706485</td><td>None</td><td>bhm_aqmes_med</td><td>-9.99999</td><td>18.5271</td><td>18.1093</td><td>18.636</td><td>2020.8</td><td>15004</td></tr>\n",
       "<tr><td>0.3114712</td><td>26.690989</td><td>BOSS_SHARED</td><td>science</td><td>4402817510</td><td>None</td><td>bhm_aqmes_med</td><td>-9.99999</td><td>18.0585</td><td>17.6746</td><td>18.1992</td><td>2020.8</td><td>15004</td></tr>\n",
       "<tr><td>1.2285048</td><td>25.531598</td><td>BOSS_SHARED</td><td>science</td><td>4400706076</td><td>None</td><td>bhm_aqmes_med</td><td>-9.99999</td><td>18.7186</td><td>18.2931</td><td>18.8423</td><td>2020.8</td><td>15004</td></tr>\n",
       "<tr><td>1.5229276</td><td>25.379252</td><td>BOSS_SHARED</td><td>science</td><td>4400705517</td><td>None</td><td>bhm_aqmes_med</td><td>-9.99999</td><td>18.4583</td><td>17.9959</td><td>18.6406</td><td>2020.8</td><td>15004</td></tr>\n",
       "<tr><td>0.3186912</td><td>26.549428</td><td>BOSS_SHARED</td><td>science</td><td>4400710148</td><td>2MASS-J00011648+2632580</td><td>bhm_aqmes_med</td><td>15.15</td><td>18.6231</td><td>17.2762</td><td>18.3915</td><td>2020.8</td><td>15004</td></tr>\n",
       "<tr><td>2.8022426</td><td>26.02159</td><td>BOSS_SHARED</td><td>science</td><td>4400724447</td><td>None</td><td>bhm_aqmes_med</td><td>-9.99999</td><td>18.8746</td><td>18.5293</td><td>19.0061</td><td>2020.8</td><td>15004</td></tr>\n",
       "<tr><td>1.4024277</td><td>26.42032</td><td>BOSS_SHARED</td><td>science</td><td>4400713931</td><td>None</td><td>bhm_aqmes_med</td><td>-9.99999</td><td>18.973</td><td>18.3108</td><td>19.3651</td><td>2020.8</td><td>15004</td></tr>\n",
       "<tr><td>...</td><td>...</td><td>...</td><td>...</td><td>...</td><td>...</td><td>...</td><td>...</td><td>...</td><td>...</td><td>...</td><td>...</td><td>...</td></tr>\n",
       "<tr><td>0.0</td><td>0.0</td><td>ALIGNMENT</td><td>NA</td><td>0</td><td>NA</td><td>NA</td><td>-9999.0</td><td>0.0</td><td>0.0</td><td>0.0</td><td>2011.0</td><td>15004</td></tr>\n",
       "<tr><td>0.0</td><td>0.0</td><td>ALIGNMENT</td><td>NA</td><td>0</td><td>NA</td><td>NA</td><td>-9999.0</td><td>0.0</td><td>0.0</td><td>0.0</td><td>2011.0</td><td>15004</td></tr>\n",
       "<tr><td>0.0</td><td>0.0</td><td>ALIGNMENT</td><td>NA</td><td>0</td><td>NA</td><td>NA</td><td>-9999.0</td><td>0.0</td><td>0.0</td><td>0.0</td><td>2011.0</td><td>15004</td></tr>\n",
       "<tr><td>0.0</td><td>0.0</td><td>ALIGNMENT</td><td>NA</td><td>0</td><td>NA</td><td>NA</td><td>-9999.0</td><td>0.0</td><td>0.0</td><td>0.0</td><td>2011.0</td><td>15004</td></tr>\n",
       "<tr><td>0.0</td><td>0.0</td><td>ALIGNMENT</td><td>NA</td><td>0</td><td>NA</td><td>NA</td><td>-9999.0</td><td>0.0</td><td>0.0</td><td>0.0</td><td>2011.0</td><td>15004</td></tr>\n",
       "<tr><td>0.0</td><td>0.0</td><td>ALIGNMENT</td><td>NA</td><td>0</td><td>NA</td><td>NA</td><td>-9999.0</td><td>0.0</td><td>0.0</td><td>0.0</td><td>2011.0</td><td>15004</td></tr>\n",
       "<tr><td>0.0</td><td>0.0</td><td>ALIGNMENT</td><td>NA</td><td>0</td><td>NA</td><td>NA</td><td>-9999.0</td><td>0.0</td><td>0.0</td><td>0.0</td><td>2011.0</td><td>15004</td></tr>\n",
       "<tr><td>0.0</td><td>0.0</td><td>ALIGNMENT</td><td>NA</td><td>0</td><td>NA</td><td>NA</td><td>-9999.0</td><td>0.0</td><td>0.0</td><td>0.0</td><td>2011.0</td><td>15004</td></tr>\n",
       "<tr><td>0.0</td><td>0.0</td><td>ALIGNMENT</td><td>NA</td><td>0</td><td>NA</td><td>NA</td><td>-9999.0</td><td>0.0</td><td>0.0</td><td>0.0</td><td>2011.0</td><td>15004</td></tr>\n",
       "<tr><td>0.0</td><td>0.0</td><td>ALIGNMENT</td><td>NA</td><td>0</td><td>NA</td><td>NA</td><td>-9999.0</td><td>0.0</td><td>0.0</td><td>0.0</td><td>2011.0</td><td>15004</td></tr>\n",
       "</table>"
      ],
      "text/plain": [
       "<Table length=835>\n",
       "target_ra target_dec   holetype  targettype ... gaia_rp gaia_bp  epoch  plate\n",
       " float64   float64      str13       str8    ... float64 float64 float64 int64\n",
       "--------- ---------- ----------- ---------- ... ------- ------- ------- -----\n",
       "      0.0        0.0      CENTER         NA ...     0.0     0.0  2020.8 15004\n",
       "2.3022188  26.839717 BOSS_SHARED    science ... 17.3689 17.6729  2020.8 15004\n",
       "0.4196239  26.073782 BOSS_SHARED    science ... 18.6681 19.3397  2020.8 15004\n",
       " 1.127178  25.730631 BOSS_SHARED    science ... 18.1093  18.636  2020.8 15004\n",
       "0.3114712  26.690989 BOSS_SHARED    science ... 17.6746 18.1992  2020.8 15004\n",
       "1.2285048  25.531598 BOSS_SHARED    science ... 18.2931 18.8423  2020.8 15004\n",
       "1.5229276  25.379252 BOSS_SHARED    science ... 17.9959 18.6406  2020.8 15004\n",
       "0.3186912  26.549428 BOSS_SHARED    science ... 17.2762 18.3915  2020.8 15004\n",
       "2.8022426   26.02159 BOSS_SHARED    science ... 18.5293 19.0061  2020.8 15004\n",
       "1.4024277   26.42032 BOSS_SHARED    science ... 18.3108 19.3651  2020.8 15004\n",
       "      ...        ...         ...        ... ...     ...     ...     ...   ...\n",
       "      0.0        0.0   ALIGNMENT         NA ...     0.0     0.0  2011.0 15004\n",
       "      0.0        0.0   ALIGNMENT         NA ...     0.0     0.0  2011.0 15004\n",
       "      0.0        0.0   ALIGNMENT         NA ...     0.0     0.0  2011.0 15004\n",
       "      0.0        0.0   ALIGNMENT         NA ...     0.0     0.0  2011.0 15004\n",
       "      0.0        0.0   ALIGNMENT         NA ...     0.0     0.0  2011.0 15004\n",
       "      0.0        0.0   ALIGNMENT         NA ...     0.0     0.0  2011.0 15004\n",
       "      0.0        0.0   ALIGNMENT         NA ...     0.0     0.0  2011.0 15004\n",
       "      0.0        0.0   ALIGNMENT         NA ...     0.0     0.0  2011.0 15004\n",
       "      0.0        0.0   ALIGNMENT         NA ...     0.0     0.0  2011.0 15004\n",
       "      0.0        0.0   ALIGNMENT         NA ...     0.0     0.0  2011.0 15004"
      ]
     },
     "execution_count": 34,
     "metadata": {},
     "output_type": "execute_result"
    }
   ],
   "source": [
    "p15004.targets  # this is a table containing all the positions that are assigned fibers in the plate"
   ]
  },
  {
   "cell_type": "markdown",
   "metadata": {},
   "source": [
    "### Field\n",
    "- A field represents a FOV on the sky. It has a center position\n",
    "- All fields contain at least one plate\n",
    "- If you want to know about targets at a particular position in the sky, you should do so by Field; the Plates within a field could be checked for multiple observations."
   ]
  },
  {
   "cell_type": "code",
   "execution_count": 36,
   "metadata": {},
   "outputs": [
    {
     "data": {
      "text/html": [
       "<i>Table length=1</i>\n",
       "<table id=\"table140550320212240\" class=\"table-striped table-bordered table-condensed\">\n",
       "<thead><tr><th>plateid</th><th>designid</th><th>locationid</th><th>tileid</th><th>plateDesignVersion</th><th>ha [6]</th><th>temp</th><th>epoch</th><th>raCen</th><th>decCen</th><th>survey</th><th>programname</th><th>drillstyle</th><th>rerun</th><th>platerun</th><th>chunk</th><th>name</th><th>comments</th></tr></thead>\n",
       "<thead><tr><th>int32</th><th>int32</th><th>int32</th><th>int32</th><th>bytes20</th><th>float32</th><th>float32</th><th>float32</th><th>float64</th><th>float64</th><th>bytes20</th><th>bytes40</th><th>bytes20</th><th>bytes50</th><th>bytes200</th><th>bytes200</th><th>bytes200</th><th>bytes200</th></tr></thead>\n",
       "<tr><td>15004</td><td>15001</td><td>50001</td><td>-1</td><td>v2</td><td>-15.0 .. 0.0</td><td>13.0</td><td>2020.8</td><td>1.845703</td><td>26.443334</td><td>bhm-mwm</td><td>AQMES-Medium</td><td>apogee_boss</td><td></td><td>2020.08.c.bhm-mwm</td><td>2020.08.c.bhm-mwm</td><td>AQM_001.85_+26.44</td><td></td></tr>\n",
       "</table>"
      ],
      "text/plain": [
       "<Table length=1>\n",
       "plateid designid locationid ...       chunk              name       comments\n",
       " int32   int32     int32    ...      bytes200          bytes200     bytes200\n",
       "------- -------- ---------- ... ----------------- ----------------- --------\n",
       "  15004    15001      50001 ... 2020.08.c.bhm-mwm AQM_001.85_+26.44         "
      ]
     },
     "execution_count": 36,
     "metadata": {},
     "output_type": "execute_result"
    }
   ],
   "source": [
    "# Let's look at the information for plate 15004 again\n",
    "ppv.allplate_summary[ppv.allplate_summary['plateid'] == 15004]"
   ]
  },
  {
   "cell_type": "code",
   "execution_count": 43,
   "metadata": {},
   "outputs": [
    {
     "name": "stdout",
     "output_type": "stream",
     "text": [
      "AQM_001.85_+26.44\n"
     ]
    }
   ],
   "source": [
    "# The field name for plate 15004 is \n",
    "field_name = ppv.allplate_summary['name'][ppv.allplate_summary['plateid'] == 15004][0]  # [0] indx just turns column into the data entry\n",
    "print(field_name)"
   ]
  },
  {
   "cell_type": "code",
   "execution_count": 44,
   "metadata": {},
   "outputs": [
    {
     "name": "stdout",
     "output_type": "stream",
     "text": [
      "Field: 'AQM_001.85_+26.44', RA: <Quantity 1.845703 deg>, Dec: <Quantity 26.443334 deg>Plate Numbers: [15004]\n"
     ]
    }
   ],
   "source": [
    "example_field = ppv.Field(field_name)\n",
    "print(example_field)"
   ]
  },
  {
   "cell_type": "code",
   "execution_count": 45,
   "metadata": {},
   "outputs": [
    {
     "data": {
      "text/plain": [
       "'AQMES-Medium'"
      ]
     },
     "execution_count": 45,
     "metadata": {},
     "output_type": "execute_result"
    }
   ],
   "source": [
    "# We can see the program that submitted the field center\n",
    "example_field.programname"
   ]
  },
  {
   "cell_type": "code",
   "execution_count": 47,
   "metadata": {},
   "outputs": [
    {
     "data": {
      "text/plain": [
       "[Plate(15004)]"
      ]
     },
     "execution_count": 47,
     "metadata": {},
     "output_type": "execute_result"
    }
   ],
   "source": [
    "# The plates associated with the field\n",
    "example_field.plates\n",
    "# Just the one plate for this field"
   ]
  },
  {
   "cell_type": "code",
   "execution_count": 49,
   "metadata": {},
   "outputs": [
    {
     "data": {
      "text/html": [
       "<i>Table length=835</i>\n",
       "<table id=\"table140550320333104\" class=\"table-striped table-bordered table-condensed\">\n",
       "<thead><tr><th>target_ra</th><th>target_dec</th><th>holetype</th><th>targettype</th><th>catalogid</th><th>tmass_id</th><th>firstcarton</th><th>tmass_h</th><th>gaia_g</th><th>gaia_rp</th><th>gaia_bp</th><th>epoch</th><th>plate</th><th>field</th></tr></thead>\n",
       "<thead><tr><th>float64</th><th>float64</th><th>str13</th><th>str8</th><th>uint64</th><th>str23</th><th>str19</th><th>float64</th><th>float64</th><th>float64</th><th>float64</th><th>float64</th><th>int64</th><th>bytes200</th></tr></thead>\n",
       "<tr><td>0.0</td><td>0.0</td><td>CENTER</td><td>NA</td><td>0</td><td>NA</td><td>NA</td><td>-9999.0</td><td>0.0</td><td>0.0</td><td>0.0</td><td>2020.8</td><td>15004</td><td>AQM_001.85_+26.44</td></tr>\n",
       "<tr><td>2.3022188</td><td>26.839717</td><td>BOSS_SHARED</td><td>science</td><td>4402832120</td><td>2MASS-J00091250+2650230</td><td>bhm_aqmes_med</td><td>16.475</td><td>17.6381</td><td>17.3689</td><td>17.6729</td><td>2020.8</td><td>15004</td><td>AQM_001.85_+26.44</td></tr>\n",
       "<tr><td>0.4196239</td><td>26.073782</td><td>BOSS_SHARED</td><td>science</td><td>4400708300</td><td>None</td><td>bhm_aqmes_med</td><td>-9.99999</td><td>19.1244</td><td>18.6681</td><td>19.3397</td><td>2020.8</td><td>15004</td><td>AQM_001.85_+26.44</td></tr>\n",
       "<tr><td>1.127178</td><td>25.730631</td><td>BOSS_SHARED</td><td>science</td><td>4400706485</td><td>None</td><td>bhm_aqmes_med</td><td>-9.99999</td><td>18.5271</td><td>18.1093</td><td>18.636</td><td>2020.8</td><td>15004</td><td>AQM_001.85_+26.44</td></tr>\n",
       "<tr><td>0.3114712</td><td>26.690989</td><td>BOSS_SHARED</td><td>science</td><td>4402817510</td><td>None</td><td>bhm_aqmes_med</td><td>-9.99999</td><td>18.0585</td><td>17.6746</td><td>18.1992</td><td>2020.8</td><td>15004</td><td>AQM_001.85_+26.44</td></tr>\n",
       "<tr><td>1.2285048</td><td>25.531598</td><td>BOSS_SHARED</td><td>science</td><td>4400706076</td><td>None</td><td>bhm_aqmes_med</td><td>-9.99999</td><td>18.7186</td><td>18.2931</td><td>18.8423</td><td>2020.8</td><td>15004</td><td>AQM_001.85_+26.44</td></tr>\n",
       "<tr><td>1.5229276</td><td>25.379252</td><td>BOSS_SHARED</td><td>science</td><td>4400705517</td><td>None</td><td>bhm_aqmes_med</td><td>-9.99999</td><td>18.4583</td><td>17.9959</td><td>18.6406</td><td>2020.8</td><td>15004</td><td>AQM_001.85_+26.44</td></tr>\n",
       "<tr><td>0.3186912</td><td>26.549428</td><td>BOSS_SHARED</td><td>science</td><td>4400710148</td><td>2MASS-J00011648+2632580</td><td>bhm_aqmes_med</td><td>15.15</td><td>18.6231</td><td>17.2762</td><td>18.3915</td><td>2020.8</td><td>15004</td><td>AQM_001.85_+26.44</td></tr>\n",
       "<tr><td>2.8022426</td><td>26.02159</td><td>BOSS_SHARED</td><td>science</td><td>4400724447</td><td>None</td><td>bhm_aqmes_med</td><td>-9.99999</td><td>18.8746</td><td>18.5293</td><td>19.0061</td><td>2020.8</td><td>15004</td><td>AQM_001.85_+26.44</td></tr>\n",
       "<tr><td>1.4024277</td><td>26.42032</td><td>BOSS_SHARED</td><td>science</td><td>4400713931</td><td>None</td><td>bhm_aqmes_med</td><td>-9.99999</td><td>18.973</td><td>18.3108</td><td>19.3651</td><td>2020.8</td><td>15004</td><td>AQM_001.85_+26.44</td></tr>\n",
       "<tr><td>...</td><td>...</td><td>...</td><td>...</td><td>...</td><td>...</td><td>...</td><td>...</td><td>...</td><td>...</td><td>...</td><td>...</td><td>...</td><td>...</td></tr>\n",
       "<tr><td>0.0</td><td>0.0</td><td>ALIGNMENT</td><td>NA</td><td>0</td><td>NA</td><td>NA</td><td>-9999.0</td><td>0.0</td><td>0.0</td><td>0.0</td><td>2011.0</td><td>15004</td><td>AQM_001.85_+26.44</td></tr>\n",
       "<tr><td>0.0</td><td>0.0</td><td>ALIGNMENT</td><td>NA</td><td>0</td><td>NA</td><td>NA</td><td>-9999.0</td><td>0.0</td><td>0.0</td><td>0.0</td><td>2011.0</td><td>15004</td><td>AQM_001.85_+26.44</td></tr>\n",
       "<tr><td>0.0</td><td>0.0</td><td>ALIGNMENT</td><td>NA</td><td>0</td><td>NA</td><td>NA</td><td>-9999.0</td><td>0.0</td><td>0.0</td><td>0.0</td><td>2011.0</td><td>15004</td><td>AQM_001.85_+26.44</td></tr>\n",
       "<tr><td>0.0</td><td>0.0</td><td>ALIGNMENT</td><td>NA</td><td>0</td><td>NA</td><td>NA</td><td>-9999.0</td><td>0.0</td><td>0.0</td><td>0.0</td><td>2011.0</td><td>15004</td><td>AQM_001.85_+26.44</td></tr>\n",
       "<tr><td>0.0</td><td>0.0</td><td>ALIGNMENT</td><td>NA</td><td>0</td><td>NA</td><td>NA</td><td>-9999.0</td><td>0.0</td><td>0.0</td><td>0.0</td><td>2011.0</td><td>15004</td><td>AQM_001.85_+26.44</td></tr>\n",
       "<tr><td>0.0</td><td>0.0</td><td>ALIGNMENT</td><td>NA</td><td>0</td><td>NA</td><td>NA</td><td>-9999.0</td><td>0.0</td><td>0.0</td><td>0.0</td><td>2011.0</td><td>15004</td><td>AQM_001.85_+26.44</td></tr>\n",
       "<tr><td>0.0</td><td>0.0</td><td>ALIGNMENT</td><td>NA</td><td>0</td><td>NA</td><td>NA</td><td>-9999.0</td><td>0.0</td><td>0.0</td><td>0.0</td><td>2011.0</td><td>15004</td><td>AQM_001.85_+26.44</td></tr>\n",
       "<tr><td>0.0</td><td>0.0</td><td>ALIGNMENT</td><td>NA</td><td>0</td><td>NA</td><td>NA</td><td>-9999.0</td><td>0.0</td><td>0.0</td><td>0.0</td><td>2011.0</td><td>15004</td><td>AQM_001.85_+26.44</td></tr>\n",
       "<tr><td>0.0</td><td>0.0</td><td>ALIGNMENT</td><td>NA</td><td>0</td><td>NA</td><td>NA</td><td>-9999.0</td><td>0.0</td><td>0.0</td><td>0.0</td><td>2011.0</td><td>15004</td><td>AQM_001.85_+26.44</td></tr>\n",
       "<tr><td>0.0</td><td>0.0</td><td>ALIGNMENT</td><td>NA</td><td>0</td><td>NA</td><td>NA</td><td>-9999.0</td><td>0.0</td><td>0.0</td><td>0.0</td><td>2011.0</td><td>15004</td><td>AQM_001.85_+26.44</td></tr>\n",
       "</table>"
      ],
      "text/plain": [
       "<Table length=835>\n",
       "target_ra target_dec   holetype  targettype ...  epoch  plate       field      \n",
       " float64   float64      str13       str8    ... float64 int64      bytes200    \n",
       "--------- ---------- ----------- ---------- ... ------- ----- -----------------\n",
       "      0.0        0.0      CENTER         NA ...  2020.8 15004 AQM_001.85_+26.44\n",
       "2.3022188  26.839717 BOSS_SHARED    science ...  2020.8 15004 AQM_001.85_+26.44\n",
       "0.4196239  26.073782 BOSS_SHARED    science ...  2020.8 15004 AQM_001.85_+26.44\n",
       " 1.127178  25.730631 BOSS_SHARED    science ...  2020.8 15004 AQM_001.85_+26.44\n",
       "0.3114712  26.690989 BOSS_SHARED    science ...  2020.8 15004 AQM_001.85_+26.44\n",
       "1.2285048  25.531598 BOSS_SHARED    science ...  2020.8 15004 AQM_001.85_+26.44\n",
       "1.5229276  25.379252 BOSS_SHARED    science ...  2020.8 15004 AQM_001.85_+26.44\n",
       "0.3186912  26.549428 BOSS_SHARED    science ...  2020.8 15004 AQM_001.85_+26.44\n",
       "2.8022426   26.02159 BOSS_SHARED    science ...  2020.8 15004 AQM_001.85_+26.44\n",
       "1.4024277   26.42032 BOSS_SHARED    science ...  2020.8 15004 AQM_001.85_+26.44\n",
       "      ...        ...         ...        ... ...     ...   ...               ...\n",
       "      0.0        0.0   ALIGNMENT         NA ...  2011.0 15004 AQM_001.85_+26.44\n",
       "      0.0        0.0   ALIGNMENT         NA ...  2011.0 15004 AQM_001.85_+26.44\n",
       "      0.0        0.0   ALIGNMENT         NA ...  2011.0 15004 AQM_001.85_+26.44\n",
       "      0.0        0.0   ALIGNMENT         NA ...  2011.0 15004 AQM_001.85_+26.44\n",
       "      0.0        0.0   ALIGNMENT         NA ...  2011.0 15004 AQM_001.85_+26.44\n",
       "      0.0        0.0   ALIGNMENT         NA ...  2011.0 15004 AQM_001.85_+26.44\n",
       "      0.0        0.0   ALIGNMENT         NA ...  2011.0 15004 AQM_001.85_+26.44\n",
       "      0.0        0.0   ALIGNMENT         NA ...  2011.0 15004 AQM_001.85_+26.44\n",
       "      0.0        0.0   ALIGNMENT         NA ...  2011.0 15004 AQM_001.85_+26.44\n",
       "      0.0        0.0   ALIGNMENT         NA ...  2011.0 15004 AQM_001.85_+26.44"
      ]
     },
     "execution_count": 49,
     "metadata": {},
     "output_type": "execute_result"
    }
   ],
   "source": [
    "# There is also a targets property, which contains all the target information for assigned fibers in this field\n",
    "# If there was more than one plate for this field, this table would a concatenation of all plates.\n",
    "example_field.targets  # Almost identical to the Plate.targets table, except for a column showing the field name."
   ]
  },
  {
   "cell_type": "markdown",
   "metadata": {},
   "source": [
    "### Platerun\n",
    "- A Platerun is simply a collection of fields (as a field is a collection of plates).\n"
   ]
  },
  {
   "cell_type": "code",
   "execution_count": 50,
   "metadata": {},
   "outputs": [
    {
     "data": {
      "text/plain": [
       "['2020.02.b.bhm',\n",
       " '2020.08.a.bhm-mwm',\n",
       " '2020.01.e.bhm-mwm',\n",
       " '2020.08.c.bhm-mwm']"
      ]
     },
     "execution_count": 50,
     "metadata": {},
     "output_type": "execute_result"
    }
   ],
   "source": [
    "# Let's check available plateruns again\n",
    "ppv.available_plateruns"
   ]
  },
  {
   "cell_type": "code",
   "execution_count": 51,
   "metadata": {},
   "outputs": [],
   "source": [
    "prun_c = ppv.Platerun('2020.08.c.bhm-mwm')   #  ppv.available_plateruns[3]"
   ]
  },
  {
   "cell_type": "code",
   "execution_count": 54,
   "metadata": {},
   "outputs": [
    {
     "name": "stdout",
     "output_type": "stream",
     "text": [
      "34 fields in prun_c\n",
      "\n",
      "[Field('AQM_001.85_+26.44'), Field('AQM_008.53_+01.04'), Field('AQM_009.32_+25.53'), Field('AQM_010.46_-00.45'), Field('AQM_013.71_+00.82'), Field('AQM_019.60_-00.75'), Field('AQM_021.01_+14.79'), Field('AQM_022.15_+00.52'), Field('AQM_024.61_-00.52'), Field('AQM_028.56_+00.15'), Field('AQM_038.50_+00.82'), Field('AQM_040.87_-00.60'), Field('AQM_321.68_-00.67'), Field('AQM_334.95_+00.90'), Field('AQM_344.18_+19.23'), Field('AQM_354.46_-00.45'), Field('AQM_357.10_+00.00'), Field('AQM_359.38_+00.15'), Field('AQW_114.81_+29.83'), Field('AQW_115.68_+38.10'), Field('AQW_116.50_+31.59'), Field('AQW_117.80_+29.33'), Field('AQW_118.85_+37.42'), Field('AQW_119.07_+27.14'), Field('AQW_120.08_+35.03'), Field('AQW_121.38_+32.85'), Field('AQW_122.06_+26.83'), Field('AQW_123.29_+34.70'), Field('AQW_123.88_+38.85'), Field('AQW_335.65_+20.42'), Field('AQW_339.26_+24.05'), Field('AQW_340.05_+26.61'), Field('AQW_351.04_+24.38'), Field('AQW_353.58_+23.97')]\n"
     ]
    }
   ],
   "source": [
    "# When you access the fields of a platerun, they get loaded from disk.\n",
    "# This takes approximately 1 second per field on my laptop. You only need to do this ONCE per session.\n",
    "print(f'{len(prun_c.fields)} fields in prun_c\\n')\n",
    "print(prun_c.fields)\n",
    "\n",
    "# ~ 30 fields"
   ]
  },
  {
   "cell_type": "code",
   "execution_count": 56,
   "metadata": {},
   "outputs": [
    {
     "name": "stdout",
     "output_type": "stream",
     "text": [
      "       name      \n",
      "-----------------\n",
      "AQM_001.85_+26.44\n",
      "AQM_008.53_+01.04\n",
      "AQM_009.32_+25.53\n",
      "AQM_010.46_-00.45\n",
      "AQM_013.71_+00.82\n",
      "AQM_019.60_-00.75\n",
      "AQM_021.01_+14.79\n",
      "AQM_022.15_+00.52\n",
      "AQM_024.61_-00.52\n",
      "AQM_028.56_+00.15\n",
      "              ...\n",
      "AQW_119.07_+27.14\n",
      "AQW_120.08_+35.03\n",
      "AQW_121.38_+32.85\n",
      "AQW_122.06_+26.83\n",
      "AQW_123.29_+34.70\n",
      "AQW_123.88_+38.85\n",
      "AQW_335.65_+20.42\n",
      "AQW_339.26_+24.05\n",
      "AQW_340.05_+26.61\n",
      "AQW_351.04_+24.38\n",
      "AQW_353.58_+23.97\n",
      "Length = 34 rows\n",
      "plateid designid locationid ...       chunk              name       comments\n",
      "------- -------- ---------- ... ----------------- ----------------- --------\n",
      "  15004    15001      50001 ... 2020.08.c.bhm-mwm AQM_001.85_+26.44         \n",
      "  15005    15002      50002 ... 2020.08.c.bhm-mwm AQM_008.53_+01.04         \n",
      "  15006    15003      50003 ... 2020.08.c.bhm-mwm AQM_009.32_+25.53         \n",
      "  15007    15004      50004 ... 2020.08.c.bhm-mwm AQM_010.46_-00.45         \n",
      "  15008    15005      50005 ... 2020.08.c.bhm-mwm AQM_013.71_+00.82         \n",
      "  15009    15006      50006 ... 2020.08.c.bhm-mwm AQM_019.60_-00.75         \n",
      "  15010    15007      50007 ... 2020.08.c.bhm-mwm AQM_021.01_+14.79         \n",
      "  15011    15008      50008 ... 2020.08.c.bhm-mwm AQM_022.15_+00.52         \n",
      "  15012    15009      50009 ... 2020.08.c.bhm-mwm AQM_024.61_-00.52         \n",
      "  15013    15010      50010 ... 2020.08.c.bhm-mwm AQM_028.56_+00.15         \n",
      "    ...      ...        ... ...               ...               ...      ...\n",
      "  15027    15024      50024 ... 2020.08.c.bhm-mwm AQM_321.68_-00.67         \n",
      "  15028    15025      50025 ... 2020.08.c.bhm-mwm AQM_344.18_+19.23         \n",
      "  15029    15026      50026 ... 2020.08.c.bhm-mwm AQM_334.95_+00.90         \n",
      "  15030    15027      50027 ... 2020.08.c.bhm-mwm AQW_335.65_+20.42         \n",
      "  15031    15028      50028 ... 2020.08.c.bhm-mwm AQW_339.26_+24.05         \n",
      "  15032    15029      50029 ... 2020.08.c.bhm-mwm AQW_340.05_+26.61         \n",
      "  15033    15030      50030 ... 2020.08.c.bhm-mwm AQM_354.46_-00.45         \n",
      "  15034    15031      50031 ... 2020.08.c.bhm-mwm AQM_357.10_+00.00         \n",
      "  15035    15032      50032 ... 2020.08.c.bhm-mwm AQM_359.38_+00.15         \n",
      "  15036    15033      50033 ... 2020.08.c.bhm-mwm AQW_351.04_+24.38         \n",
      "  15037    15034      50034 ... 2020.08.c.bhm-mwm AQW_353.58_+23.97         \n",
      "Length = 34 rows\n"
     ]
    }
   ],
   "source": [
    "# other handy things\n",
    "print(prun_c.fieldnames)  # just get the field names associated with the plate run.\n",
    "\n",
    "print(prun_c.platesummary) # print the part of the allplate_summary that contains this plate run."
   ]
  },
  {
   "cell_type": "code",
   "execution_count": 57,
   "metadata": {},
   "outputs": [
    {
     "data": {
      "text/html": [
       "<i>Table length=28400</i>\n",
       "<table id=\"table140550339337904\" class=\"table-striped table-bordered table-condensed\">\n",
       "<thead><tr><th>target_ra</th><th>target_dec</th><th>holetype</th><th>targettype</th><th>catalogid</th><th>tmass_id</th><th>firstcarton</th><th>tmass_h</th><th>gaia_g</th><th>gaia_rp</th><th>gaia_bp</th><th>epoch</th><th>plate</th><th>field</th></tr></thead>\n",
       "<thead><tr><th>float64</th><th>float64</th><th>str13</th><th>str8</th><th>uint64</th><th>str23</th><th>str21</th><th>float64</th><th>float64</th><th>float64</th><th>float64</th><th>float64</th><th>int64</th><th>bytes200</th></tr></thead>\n",
       "<tr><td>0.0</td><td>0.0</td><td>CENTER</td><td>NA</td><td>0</td><td>NA</td><td>NA</td><td>-9999.0</td><td>0.0</td><td>0.0</td><td>0.0</td><td>2020.8</td><td>15004</td><td>AQM_001.85_+26.44</td></tr>\n",
       "<tr><td>2.3022188</td><td>26.839717</td><td>BOSS_SHARED</td><td>science</td><td>4402832120</td><td>2MASS-J00091250+2650230</td><td>bhm_aqmes_med</td><td>16.475</td><td>17.6381</td><td>17.3689</td><td>17.6729</td><td>2020.8</td><td>15004</td><td>AQM_001.85_+26.44</td></tr>\n",
       "<tr><td>0.4196239</td><td>26.073782</td><td>BOSS_SHARED</td><td>science</td><td>4400708300</td><td>None</td><td>bhm_aqmes_med</td><td>-9.99999</td><td>19.1244</td><td>18.6681</td><td>19.3397</td><td>2020.8</td><td>15004</td><td>AQM_001.85_+26.44</td></tr>\n",
       "<tr><td>1.127178</td><td>25.730631</td><td>BOSS_SHARED</td><td>science</td><td>4400706485</td><td>None</td><td>bhm_aqmes_med</td><td>-9.99999</td><td>18.5271</td><td>18.1093</td><td>18.636</td><td>2020.8</td><td>15004</td><td>AQM_001.85_+26.44</td></tr>\n",
       "<tr><td>0.3114712</td><td>26.690989</td><td>BOSS_SHARED</td><td>science</td><td>4402817510</td><td>None</td><td>bhm_aqmes_med</td><td>-9.99999</td><td>18.0585</td><td>17.6746</td><td>18.1992</td><td>2020.8</td><td>15004</td><td>AQM_001.85_+26.44</td></tr>\n",
       "<tr><td>1.2285048</td><td>25.531598</td><td>BOSS_SHARED</td><td>science</td><td>4400706076</td><td>None</td><td>bhm_aqmes_med</td><td>-9.99999</td><td>18.7186</td><td>18.2931</td><td>18.8423</td><td>2020.8</td><td>15004</td><td>AQM_001.85_+26.44</td></tr>\n",
       "<tr><td>1.5229276</td><td>25.379252</td><td>BOSS_SHARED</td><td>science</td><td>4400705517</td><td>None</td><td>bhm_aqmes_med</td><td>-9.99999</td><td>18.4583</td><td>17.9959</td><td>18.6406</td><td>2020.8</td><td>15004</td><td>AQM_001.85_+26.44</td></tr>\n",
       "<tr><td>0.3186912</td><td>26.549428</td><td>BOSS_SHARED</td><td>science</td><td>4400710148</td><td>2MASS-J00011648+2632580</td><td>bhm_aqmes_med</td><td>15.15</td><td>18.6231</td><td>17.2762</td><td>18.3915</td><td>2020.8</td><td>15004</td><td>AQM_001.85_+26.44</td></tr>\n",
       "<tr><td>2.8022426</td><td>26.02159</td><td>BOSS_SHARED</td><td>science</td><td>4400724447</td><td>None</td><td>bhm_aqmes_med</td><td>-9.99999</td><td>18.8746</td><td>18.5293</td><td>19.0061</td><td>2020.8</td><td>15004</td><td>AQM_001.85_+26.44</td></tr>\n",
       "<tr><td>1.4024277</td><td>26.42032</td><td>BOSS_SHARED</td><td>science</td><td>4400713931</td><td>None</td><td>bhm_aqmes_med</td><td>-9.99999</td><td>18.973</td><td>18.3108</td><td>19.3651</td><td>2020.8</td><td>15004</td><td>AQM_001.85_+26.44</td></tr>\n",
       "<tr><td>...</td><td>...</td><td>...</td><td>...</td><td>...</td><td>...</td><td>...</td><td>...</td><td>...</td><td>...</td><td>...</td><td>...</td><td>...</td><td>...</td></tr>\n",
       "<tr><td>0.0</td><td>0.0</td><td>ALIGNMENT</td><td>NA</td><td>0</td><td>NA</td><td>NA</td><td>-9999.0</td><td>0.0</td><td>0.0</td><td>0.0</td><td>2011.0</td><td>15037</td><td>AQW_353.58_+23.97</td></tr>\n",
       "<tr><td>0.0</td><td>0.0</td><td>ALIGNMENT</td><td>NA</td><td>0</td><td>NA</td><td>NA</td><td>-9999.0</td><td>0.0</td><td>0.0</td><td>0.0</td><td>2011.0</td><td>15037</td><td>AQW_353.58_+23.97</td></tr>\n",
       "<tr><td>0.0</td><td>0.0</td><td>ALIGNMENT</td><td>NA</td><td>0</td><td>NA</td><td>NA</td><td>-9999.0</td><td>0.0</td><td>0.0</td><td>0.0</td><td>2011.0</td><td>15037</td><td>AQW_353.58_+23.97</td></tr>\n",
       "<tr><td>0.0</td><td>0.0</td><td>ALIGNMENT</td><td>NA</td><td>0</td><td>NA</td><td>NA</td><td>-9999.0</td><td>0.0</td><td>0.0</td><td>0.0</td><td>2011.0</td><td>15037</td><td>AQW_353.58_+23.97</td></tr>\n",
       "<tr><td>0.0</td><td>0.0</td><td>ALIGNMENT</td><td>NA</td><td>0</td><td>NA</td><td>NA</td><td>-9999.0</td><td>0.0</td><td>0.0</td><td>0.0</td><td>2011.0</td><td>15037</td><td>AQW_353.58_+23.97</td></tr>\n",
       "<tr><td>0.0</td><td>0.0</td><td>ALIGNMENT</td><td>NA</td><td>0</td><td>NA</td><td>NA</td><td>-9999.0</td><td>0.0</td><td>0.0</td><td>0.0</td><td>2011.0</td><td>15037</td><td>AQW_353.58_+23.97</td></tr>\n",
       "<tr><td>0.0</td><td>0.0</td><td>ALIGNMENT</td><td>NA</td><td>0</td><td>NA</td><td>NA</td><td>-9999.0</td><td>0.0</td><td>0.0</td><td>0.0</td><td>2011.0</td><td>15037</td><td>AQW_353.58_+23.97</td></tr>\n",
       "<tr><td>0.0</td><td>0.0</td><td>ALIGNMENT</td><td>NA</td><td>0</td><td>NA</td><td>NA</td><td>-9999.0</td><td>0.0</td><td>0.0</td><td>0.0</td><td>2011.0</td><td>15037</td><td>AQW_353.58_+23.97</td></tr>\n",
       "<tr><td>0.0</td><td>0.0</td><td>ALIGNMENT</td><td>NA</td><td>0</td><td>NA</td><td>NA</td><td>-9999.0</td><td>0.0</td><td>0.0</td><td>0.0</td><td>2011.0</td><td>15037</td><td>AQW_353.58_+23.97</td></tr>\n",
       "<tr><td>0.0</td><td>0.0</td><td>ALIGNMENT</td><td>NA</td><td>0</td><td>NA</td><td>NA</td><td>-9999.0</td><td>0.0</td><td>0.0</td><td>0.0</td><td>2011.0</td><td>15037</td><td>AQW_353.58_+23.97</td></tr>\n",
       "</table>"
      ],
      "text/plain": [
       "<Table length=28400>\n",
       "target_ra target_dec   holetype  targettype ...  epoch  plate       field      \n",
       " float64   float64      str13       str8    ... float64 int64      bytes200    \n",
       "--------- ---------- ----------- ---------- ... ------- ----- -----------------\n",
       "      0.0        0.0      CENTER         NA ...  2020.8 15004 AQM_001.85_+26.44\n",
       "2.3022188  26.839717 BOSS_SHARED    science ...  2020.8 15004 AQM_001.85_+26.44\n",
       "0.4196239  26.073782 BOSS_SHARED    science ...  2020.8 15004 AQM_001.85_+26.44\n",
       " 1.127178  25.730631 BOSS_SHARED    science ...  2020.8 15004 AQM_001.85_+26.44\n",
       "0.3114712  26.690989 BOSS_SHARED    science ...  2020.8 15004 AQM_001.85_+26.44\n",
       "1.2285048  25.531598 BOSS_SHARED    science ...  2020.8 15004 AQM_001.85_+26.44\n",
       "1.5229276  25.379252 BOSS_SHARED    science ...  2020.8 15004 AQM_001.85_+26.44\n",
       "0.3186912  26.549428 BOSS_SHARED    science ...  2020.8 15004 AQM_001.85_+26.44\n",
       "2.8022426   26.02159 BOSS_SHARED    science ...  2020.8 15004 AQM_001.85_+26.44\n",
       "1.4024277   26.42032 BOSS_SHARED    science ...  2020.8 15004 AQM_001.85_+26.44\n",
       "      ...        ...         ...        ... ...     ...   ...               ...\n",
       "      0.0        0.0   ALIGNMENT         NA ...  2011.0 15037 AQW_353.58_+23.97\n",
       "      0.0        0.0   ALIGNMENT         NA ...  2011.0 15037 AQW_353.58_+23.97\n",
       "      0.0        0.0   ALIGNMENT         NA ...  2011.0 15037 AQW_353.58_+23.97\n",
       "      0.0        0.0   ALIGNMENT         NA ...  2011.0 15037 AQW_353.58_+23.97\n",
       "      0.0        0.0   ALIGNMENT         NA ...  2011.0 15037 AQW_353.58_+23.97\n",
       "      0.0        0.0   ALIGNMENT         NA ...  2011.0 15037 AQW_353.58_+23.97\n",
       "      0.0        0.0   ALIGNMENT         NA ...  2011.0 15037 AQW_353.58_+23.97\n",
       "      0.0        0.0   ALIGNMENT         NA ...  2011.0 15037 AQW_353.58_+23.97\n",
       "      0.0        0.0   ALIGNMENT         NA ...  2011.0 15037 AQW_353.58_+23.97\n",
       "      0.0        0.0   ALIGNMENT         NA ...  2011.0 15037 AQW_353.58_+23.97"
      ]
     },
     "execution_count": 57,
     "metadata": {},
     "output_type": "execute_result"
    }
   ],
   "source": [
    "# A huge table containing all targets assigned fibers in the plate run.\n",
    "# This is akin to the \"summary\" table sent around during the very first plate run\n",
    "prun_c.targets  "
   ]
  },
  {
   "cell_type": "markdown",
   "metadata": {},
   "source": [
    "### Targets\n",
    "- Contains the set of targets that you are interested in checking.\n",
    "- Used as an interface with Plate, Field, and Platerun."
   ]
  },
  {
   "cell_type": "markdown",
   "metadata": {},
   "source": [
    "#### Easiest way to completely load targets\n",
    "Use the outputs from Jose (accent needed on \"e\") for targetDB 0.1, you can download a carton of targets at:\n",
    "\n",
    "Note that the page below is proprietary and only for SDSS-V collaborators (requires standard SDSS password)\n",
    "https://data.sdss.org/sas/sdss5/target/development/0.1.0/"
   ]
  },
  {
   "cell_type": "code",
   "execution_count": 60,
   "metadata": {},
   "outputs": [
    {
     "data": {
      "text/html": [
       "<i>Table masked=True length=177494</i>\n",
       "<table id=\"table140550332900928\" class=\"table-striped table-bordered table-condensed\">\n",
       "<thead><tr><th>pk</th><th>catalogid</th><th>dec</th><th>epoch</th><th>pmdec</th><th>pmra</th><th>ra</th><th>parallax</th><th>bp</th><th>g</th><th>h</th><th>i</th><th>z</th><th>r</th><th>rp</th><th>carton_to_target_pk</th><th>priority</th><th>cadence</th></tr></thead>\n",
       "<thead><tr><th>int64</th><th>int64</th><th>float64</th><th>float64</th><th>float64</th><th>float64</th><th>float64</th><th>float64</th><th>float64</th><th>float64</th><th>float64</th><th>float64</th><th>float64</th><th>float64</th><th>float64</th><th>int64</th><th>int64</th><th>float64</th></tr></thead>\n",
       "<tr><td>63175099</td><td>5899605923</td><td>-78.21534924835343</td><td>2015.5</td><td>14.1147</td><td>-38.6776</td><td>60.547077373326104</td><td>6.93683</td><td>12.128</td><td>nan</td><td>9.862</td><td>nan</td><td>nan</td><td>nan</td><td>11.0435</td><td>219035535</td><td>2610</td><td>nan</td></tr>\n",
       "<tr><td>63157233</td><td>4402418495</td><td>21.66332767920415</td><td>2015.5</td><td>-109.633</td><td>7.17993</td><td>31.263017487803467</td><td>20.7948</td><td>14.3031</td><td>14.787473</td><td>9.92</td><td>12.3524275</td><td>11.75437</td><td>13.461728</td><td>11.9392</td><td>219017066</td><td>2610</td><td>nan</td></tr>\n",
       "<tr><td>63122016</td><td>5506182135</td><td>-43.21783272575037</td><td>2015.5</td><td>-14.7191</td><td>0.682634</td><td>247.91725296709603</td><td>7.70603</td><td>7.83748</td><td>nan</td><td>7.174</td><td>nan</td><td>nan</td><td>nan</td><td>7.49896</td><td>218980933</td><td>2610</td><td>nan</td></tr>\n",
       "<tr><td>63091382</td><td>4463116855</td><td>-14.513036319380562</td><td>2015.5</td><td>-6.37019</td><td>4.92747</td><td>104.34758191416756</td><td>1.12194</td><td>10.5276</td><td>nan</td><td>7.105</td><td>nan</td><td>nan</td><td>nan</td><td>8.92582</td><td>218949562</td><td>2610</td><td>nan</td></tr>\n",
       "<tr><td>63118257</td><td>5586440847</td><td>-51.41270429850474</td><td>2015.5</td><td>-21.3015</td><td>-13.3081</td><td>260.93348213188403</td><td>5.28588</td><td>10.5844</td><td>nan</td><td>8.957</td><td>nan</td><td>nan</td><td>nan</td><td>9.74636</td><td>218977088</td><td>2610</td><td>nan</td></tr>\n",
       "<tr><td>63091580</td><td>4462892628</td><td>-15.239871845454239</td><td>2015.5</td><td>-2.09111</td><td>8.7913</td><td>104.97090680013638</td><td>4.43258</td><td>8.76869</td><td>nan</td><td>7.386</td><td>nan</td><td>nan</td><td>nan</td><td>8.08015</td><td>218949768</td><td>2610</td><td>nan</td></tr>\n",
       "<tr><td>63108942</td><td>4565510987</td><td>-37.15011033546536</td><td>2015.5</td><td>-3.45415</td><td>1.93608</td><td>174.00421431798677</td><td>5.31434</td><td>10.0641</td><td>nan</td><td>8.811</td><td>nan</td><td>nan</td><td>nan</td><td>9.40888</td><td>218967532</td><td>2610</td><td>nan</td></tr>\n",
       "<tr><td>63168604</td><td>5860755077</td><td>-58.60396191630203</td><td>2015.5</td><td>-7.24925</td><td>-14.9866</td><td>118.09324406932826</td><td>4.37178</td><td>11.0412</td><td>nan</td><td>9.415</td><td>nan</td><td>nan</td><td>nan</td><td>10.2561</td><td>219028843</td><td>2610</td><td>nan</td></tr>\n",
       "<tr><td>63085280</td><td>4359635452</td><td>59.147854858338874</td><td>2015.5</td><td>13.1075</td><td>-37.0682</td><td>177.6627793916816</td><td>5.70058</td><td>10.8702</td><td>11.195846</td><td>9.323</td><td>10.41726</td><td>10.57139</td><td>10.534372</td><td>10.0994</td><td>218943304</td><td>2610</td><td>nan</td></tr>\n",
       "<tr><td>63072890</td><td>5932481921</td><td>-40.69317747383978</td><td>2015.5</td><td>161.619</td><td>135.69</td><td>38.515603314594095</td><td>8.31503</td><td>10.9198</td><td>nan</td><td>9.052</td><td>nan</td><td>nan</td><td>nan</td><td>9.99513</td><td>218930520</td><td>2610</td><td>nan</td></tr>\n",
       "<tr><td>...</td><td>...</td><td>...</td><td>...</td><td>...</td><td>...</td><td>...</td><td>...</td><td>...</td><td>...</td><td>...</td><td>...</td><td>...</td><td>...</td><td>...</td><td>...</td><td>...</td><td>...</td></tr>\n",
       "<tr><td>63195358</td><td>5892268075</td><td>-69.3746317038302</td><td>2015.5</td><td>-8.68023</td><td>12.6084</td><td>325.1945329688176</td><td>2.45252</td><td>8.91657</td><td>nan</td><td>8.165</td><td>nan</td><td>nan</td><td>nan</td><td>8.5458</td><td>218895690</td><td>2605</td><td>nan</td></tr>\n",
       "<tr><td>63195708</td><td>4325907710</td><td>75.26837886678732</td><td>2015.5</td><td>14.6169</td><td>48.2899</td><td>48.37042213660732</td><td>6.28072</td><td>10.894</td><td>nan</td><td>9.211</td><td>nan</td><td>nan</td><td>nan</td><td>10.0878</td><td>218895691</td><td>2605</td><td>nan</td></tr>\n",
       "<tr><td>63196558</td><td>4401870552</td><td>1.6909303337706163</td><td>2015.5</td><td>-2.53159</td><td>397.201</td><td>38.310420410038226</td><td>14.8151</td><td>11.3412</td><td>11.719384</td><td>8.583</td><td>10.339441</td><td>10.409499</td><td>10.681344</td><td>9.96035</td><td>218895692</td><td>2605</td><td>nan</td></tr>\n",
       "<tr><td>63201378</td><td>4980406213</td><td>-34.64665890367149</td><td>2015.5</td><td>-54.5975</td><td>49.3912</td><td>311.362403174722</td><td>6.96663</td><td>9.70466</td><td>nan</td><td>8.343</td><td>nan</td><td>nan</td><td>nan</td><td>9.01957</td><td>218895693</td><td>2605</td><td>nan</td></tr>\n",
       "<tr><td>63202085</td><td>4347765514</td><td>75.88227961455708</td><td>2015.5</td><td>-1.97069</td><td>-18.9349</td><td>261.3748942989903</td><td>7.87874</td><td>12.0087</td><td>nan</td><td>9.607</td><td>nan</td><td>nan</td><td>nan</td><td>10.8327</td><td>218895694</td><td>2605</td><td>nan</td></tr>\n",
       "<tr><td>63202827</td><td>5788702768</td><td>-54.16466351954117</td><td>2015.5</td><td>-0.993491</td><td>-1.7485</td><td>147.34308680452958</td><td>1.56275</td><td>13.2063</td><td>nan</td><td>11.67</td><td>nan</td><td>nan</td><td>nan</td><td>12.4887</td><td>218895695</td><td>2605</td><td>nan</td></tr>\n",
       "<tr><td>63205967</td><td>4398186384</td><td>36.90045563218647</td><td>2015.5</td><td>-77.6596</td><td>112.827</td><td>357.3518362038034</td><td>8.20039</td><td>10.3131</td><td>nan</td><td>8.582</td><td>nan</td><td>nan</td><td>nan</td><td>9.46751</td><td>218895696</td><td>2605</td><td>nan</td></tr>\n",
       "<tr><td>63207442</td><td>5775712787</td><td>-60.575141596843004</td><td>2015.5</td><td>9.12249</td><td>-21.9815</td><td>156.25003178482694</td><td>1.88791</td><td>10.8143</td><td>nan</td><td>10.009</td><td>nan</td><td>nan</td><td>nan</td><td>10.416</td><td>218895697</td><td>2605</td><td>nan</td></tr>\n",
       "<tr><td>63207876</td><td>5787091284</td><td>-59.85171061941523</td><td>2015.5</td><td>3.93221</td><td>-7.36891</td><td>150.3682717854151</td><td>0.969967</td><td>12.6195</td><td>nan</td><td>11.976</td><td>nan</td><td>nan</td><td>nan</td><td>12.2843</td><td>218895698</td><td>2605</td><td>nan</td></tr>\n",
       "<tr><td>63208787</td><td>5816408206</td><td>-64.34707699579073</td><td>2015.5</td><td>9.76431</td><td>-22.1958</td><td>168.74741246252884</td><td>7.25154</td><td>17.0391</td><td>nan</td><td>11.651</td><td>nan</td><td>nan</td><td>nan</td><td>14.0713</td><td>218895699</td><td>2605</td><td>nan</td></tr>\n",
       "</table>"
      ],
      "text/plain": [
       "<Table masked=True length=177494>\n",
       "   pk    catalogid          dec         ... carton_to_target_pk priority cadence\n",
       " int64     int64          float64       ...        int64         int64   float64\n",
       "-------- ---------- ------------------- ... ------------------- -------- -------\n",
       "63175099 5899605923  -78.21534924835343 ...           219035535     2610     nan\n",
       "63157233 4402418495   21.66332767920415 ...           219017066     2610     nan\n",
       "63122016 5506182135  -43.21783272575037 ...           218980933     2610     nan\n",
       "63091382 4463116855 -14.513036319380562 ...           218949562     2610     nan\n",
       "63118257 5586440847  -51.41270429850474 ...           218977088     2610     nan\n",
       "63091580 4462892628 -15.239871845454239 ...           218949768     2610     nan\n",
       "63108942 4565510987  -37.15011033546536 ...           218967532     2610     nan\n",
       "63168604 5860755077  -58.60396191630203 ...           219028843     2610     nan\n",
       "63085280 4359635452  59.147854858338874 ...           218943304     2610     nan\n",
       "63072890 5932481921  -40.69317747383978 ...           218930520     2610     nan\n",
       "     ...        ...                 ... ...                 ...      ...     ...\n",
       "63195358 5892268075   -69.3746317038302 ...           218895690     2605     nan\n",
       "63195708 4325907710   75.26837886678732 ...           218895691     2605     nan\n",
       "63196558 4401870552  1.6909303337706163 ...           218895692     2605     nan\n",
       "63201378 4980406213  -34.64665890367149 ...           218895693     2605     nan\n",
       "63202085 4347765514   75.88227961455708 ...           218895694     2605     nan\n",
       "63202827 5788702768  -54.16466351954117 ...           218895695     2605     nan\n",
       "63205967 4398186384   36.90045563218647 ...           218895696     2605     nan\n",
       "63207442 5775712787 -60.575141596843004 ...           218895697     2605     nan\n",
       "63207876 5787091284  -59.85171061941523 ...           218895698     2605     nan\n",
       "63208787 5816408206  -64.34707699579073 ...           218895699     2605     nan"
      ]
     },
     "execution_count": 60,
     "metadata": {},
     "output_type": "execute_result"
    }
   ],
   "source": [
    "# Let's look at the mwm_planet carton\n",
    "from astropy.table import Table\n",
    "\n",
    "\n",
    "planet_targetDB = Table.read('/home/jquark/projects/sdss5/ppv/data/raw/mwm_planet_0.1.0_targetdb.fits.gz')\n",
    "\n",
    "# and the table\n",
    "planet_targetDB"
   ]
  },
  {
   "cell_type": "code",
   "execution_count": 63,
   "metadata": {},
   "outputs": [
    {
     "name": "stdout",
     "output_type": "stream",
     "text": [
      "Assuming RA, Dec are in degrees and 2015.5 epoch\n"
     ]
    }
   ],
   "source": [
    "# To create the Targets object, just need to supply RA, DEC, and catalogID columns.\n",
    "# The rest are optional and can be kept via the 'ancillary' keyword.\n",
    "# Note, you COULD make a Targets object with 3 arrays of the same length: RA, DEC, catalogID\n",
    "\n",
    "planet_targets = ppv.Targets(planet_targetDB['ra'], planet_targetDB['dec'],\n",
    "                             planet_targetDB['catalogid'],\n",
    "                             data=planet_targetDB)\n",
    "\n",
    "# For the coders: I don't love the constructor of this class.  If you have suggestions,\n",
    "# e.g., load from a dictionary, etc."
   ]
  },
  {
   "cell_type": "code",
   "execution_count": 66,
   "metadata": {},
   "outputs": [
    {
     "data": {
      "text/plain": [
       "<ppv.targets.Targets at 0x7fd46be32340>"
      ]
     },
     "execution_count": 66,
     "metadata": {},
     "output_type": "execute_result"
    }
   ],
   "source": [
    "planet_targets"
   ]
  },
  {
   "cell_type": "markdown",
   "metadata": {},
   "source": [
    "#### Available and Assigned\n",
    "- A target is 'available' if the target's position is in a particular field.\n",
    "\n",
    "- A target is 'assigned' if a fiber was assigned to that target.\n"
   ]
  },
  {
   "cell_type": "code",
   "execution_count": null,
   "metadata": {},
   "outputs": [],
   "source": [
    "# Let's check if any planet_targets are in the p15004 plate\n",
    "planet_targets.ava"
   ]
  },
  {
   "cell_type": "code",
   "execution_count": 70,
   "metadata": {},
   "outputs": [
    {
     "name": "stdout",
     "output_type": "stream",
     "text": [
      "[False False False ... False False False]\n"
     ]
    },
    {
     "data": {
      "text/html": [
       "<i>Table masked=True length=11</i>\n",
       "<table id=\"table140550332912448\" class=\"table-striped table-bordered table-condensed\">\n",
       "<thead><tr><th>pk</th><th>catalogid</th><th>dec</th><th>epoch</th><th>pmdec</th><th>pmra</th><th>ra</th><th>parallax</th><th>bp</th><th>g</th><th>h</th><th>i</th><th>z</th><th>r</th><th>rp</th><th>carton_to_target_pk</th><th>priority</th><th>cadence</th></tr></thead>\n",
       "<thead><tr><th>int64</th><th>int64</th><th>float64</th><th>float64</th><th>float64</th><th>float64</th><th>float64</th><th>float64</th><th>float64</th><th>float64</th><th>float64</th><th>float64</th><th>float64</th><th>float64</th><th>float64</th><th>int64</th><th>int64</th><th>float64</th></tr></thead>\n",
       "<tr><td>63200148</td><td>4402835549</td><td>26.81979450154741</td><td>2015.5</td><td>-14.5468</td><td>-17.4957</td><td>3.3869881453212867</td><td>7.72339</td><td>10.9878</td><td>11.293857</td><td>9.234</td><td>10.443971</td><td>10.474189</td><td>10.604778</td><td>10.1126</td><td>219061408</td><td>2610</td><td>nan</td></tr>\n",
       "<tr><td>63165723</td><td>4402840160</td><td>27.764958026948076</td><td>2015.5</td><td>-3.98578</td><td>-4.70774</td><td>2.5429351496859987</td><td>1.5423</td><td>10.4018</td><td>10.721768</td><td>7.425</td><td>9.303644</td><td>9.377136</td><td>9.637439</td><td>9.01802</td><td>219025847</td><td>2610</td><td>nan</td></tr>\n",
       "<tr><td>63200136</td><td>4402839837</td><td>27.666837577512847</td><td>2015.5</td><td>144.804</td><td>222.239</td><td>2.2492675946101794</td><td>16.535</td><td>13.7767</td><td>14.37903</td><td>9.812</td><td>12.096777</td><td>11.653342</td><td>13.499054</td><td>11.7309</td><td>219061395</td><td>2610</td><td>nan</td></tr>\n",
       "<tr><td>63148216</td><td>4402839819</td><td>27.65221982258546</td><td>2015.5</td><td>145.471</td><td>222.988</td><td>2.2631552646876965</td><td>16.5175</td><td>11.9499</td><td>14.241348</td><td>8.777</td><td>10.735708</td><td>11.299208</td><td>11.204476</td><td>10.4117</td><td>219007771</td><td>2610</td><td>nan</td></tr>\n",
       "<tr><td>63148215</td><td>4402838643</td><td>27.496560527547583</td><td>2015.5</td><td>-55.7289</td><td>-2.86079</td><td>2.360110141369754</td><td>8.92773</td><td>11.1768</td><td>11.416542</td><td>9.145</td><td>15.27082</td><td>10.906687</td><td>10.808616</td><td>10.2025</td><td>219007770</td><td>2610</td><td>nan</td></tr>\n",
       "<tr><td>63148214</td><td>4402838198</td><td>27.316449524906293</td><td>2015.5</td><td>45.2254</td><td>111.928</td><td>2.3777257433414243</td><td>13.8652</td><td>13.5774</td><td>14.1181555</td><td>9.911</td><td>12.085736</td><td>11.687693</td><td>12.754909</td><td>11.7227</td><td>219007769</td><td>2610</td><td>nan</td></tr>\n",
       "<tr><td>63165724</td><td>4402840037</td><td>27.62920463874903</td><td>2015.5</td><td>-53.9078</td><td>82.6503</td><td>2.5314287283254515</td><td>15.3694</td><td>14.5475</td><td>15.101445</td><td>10.121</td><td>12.637509</td><td>12.075852</td><td>13.708468</td><td>12.2451</td><td>219025848</td><td>2610</td><td>nan</td></tr>\n",
       "<tr><td>63200143</td><td>4400726315</td><td>26.516624646335984</td><td>2015.5</td><td>-56.43</td><td>43.69</td><td>3.017901588779658</td><td>nan</td><td>12.274</td><td>12.590871</td><td>9.293</td><td>11.220837</td><td>10.989637</td><td>11.615499</td><td>10.8608</td><td>219061402</td><td>2610</td><td>nan</td></tr>\n",
       "<tr><td>63130318</td><td>4400726404</td><td>26.252226477392497</td><td>2015.5</td><td>-7.54142</td><td>-5.06581</td><td>3.1523757514693362</td><td>2.29675</td><td>12.6512</td><td>12.739884</td><td>10.946</td><td>12.137205</td><td>12.083581</td><td>12.301875</td><td>11.8233</td><td>218989341</td><td>2610</td><td>nan</td></tr>\n",
       "<tr><td>63200144</td><td>4402841300</td><td>27.510075074405066</td><td>2015.5</td><td>-26.1208</td><td>4.0662</td><td>2.9407840006128296</td><td>8.51073</td><td>8.57606</td><td>8.70825</td><td>7.317</td><td>8.276394</td><td>8.574736</td><td>8.331132</td><td>7.95118</td><td>219061403</td><td>2610</td><td>nan</td></tr>\n",
       "<tr><td>63165725</td><td>4402838933</td><td>27.539312853258306</td><td>2015.5</td><td>-13.3591</td><td>24.7408</td><td>2.578731482902514</td><td>5.78841</td><td>11.1787</td><td>11.246591</td><td>9.547</td><td>10.69413</td><td>10.715225</td><td>10.818146</td><td>10.3745</td><td>219025849</td><td>2610</td><td>nan</td></tr>\n",
       "</table>"
      ],
      "text/plain": [
       "<Table masked=True length=11>\n",
       "   pk    catalogid         dec         ... carton_to_target_pk priority cadence\n",
       " int64     int64         float64       ...        int64         int64   float64\n",
       "-------- ---------- ------------------ ... ------------------- -------- -------\n",
       "63200148 4402835549  26.81979450154741 ...           219061408     2610     nan\n",
       "63165723 4402840160 27.764958026948076 ...           219025847     2610     nan\n",
       "63200136 4402839837 27.666837577512847 ...           219061395     2610     nan\n",
       "63148216 4402839819  27.65221982258546 ...           219007771     2610     nan\n",
       "63148215 4402838643 27.496560527547583 ...           219007770     2610     nan\n",
       "63148214 4402838198 27.316449524906293 ...           219007769     2610     nan\n",
       "63165724 4402840037  27.62920463874903 ...           219025848     2610     nan\n",
       "63200143 4400726315 26.516624646335984 ...           219061402     2610     nan\n",
       "63130318 4400726404 26.252226477392497 ...           218989341     2610     nan\n",
       "63200144 4402841300 27.510075074405066 ...           219061403     2610     nan\n",
       "63165725 4402838933 27.539312853258306 ...           219025849     2610     nan"
      ]
     },
     "execution_count": 70,
     "metadata": {},
     "output_type": "execute_result"
    }
   ],
   "source": [
    "# Let's check if any planet_targets are in the example field\n",
    "\n",
    "print(planet_targets.available_in(example_field))   # this is a boolean array just stating if a target is available\n",
    "planet_targets.data[planet_targets.available_in(example_field)]\n",
    "\n",
    "# Viola! We get the 11 targets that COULD have been observed"
   ]
  },
  {
   "cell_type": "code",
   "execution_count": 71,
   "metadata": {},
   "outputs": [
    {
     "data": {
      "text/html": [
       "<i>Table masked=True length=8</i>\n",
       "<table id=\"table140550319963344\" class=\"table-striped table-bordered table-condensed\">\n",
       "<thead><tr><th>pk</th><th>catalogid</th><th>dec</th><th>epoch</th><th>pmdec</th><th>pmra</th><th>ra</th><th>parallax</th><th>bp</th><th>g</th><th>h</th><th>i</th><th>z</th><th>r</th><th>rp</th><th>carton_to_target_pk</th><th>priority</th><th>cadence</th></tr></thead>\n",
       "<thead><tr><th>int64</th><th>int64</th><th>float64</th><th>float64</th><th>float64</th><th>float64</th><th>float64</th><th>float64</th><th>float64</th><th>float64</th><th>float64</th><th>float64</th><th>float64</th><th>float64</th><th>float64</th><th>int64</th><th>int64</th><th>float64</th></tr></thead>\n",
       "<tr><td>63200148</td><td>4402835549</td><td>26.81979450154741</td><td>2015.5</td><td>-14.5468</td><td>-17.4957</td><td>3.3869881453212867</td><td>7.72339</td><td>10.9878</td><td>11.293857</td><td>9.234</td><td>10.443971</td><td>10.474189</td><td>10.604778</td><td>10.1126</td><td>219061408</td><td>2610</td><td>nan</td></tr>\n",
       "<tr><td>63200136</td><td>4402839837</td><td>27.666837577512847</td><td>2015.5</td><td>144.804</td><td>222.239</td><td>2.2492675946101794</td><td>16.535</td><td>13.7767</td><td>14.37903</td><td>9.812</td><td>12.096777</td><td>11.653342</td><td>13.499054</td><td>11.7309</td><td>219061395</td><td>2610</td><td>nan</td></tr>\n",
       "<tr><td>63148215</td><td>4402838643</td><td>27.496560527547583</td><td>2015.5</td><td>-55.7289</td><td>-2.86079</td><td>2.360110141369754</td><td>8.92773</td><td>11.1768</td><td>11.416542</td><td>9.145</td><td>15.27082</td><td>10.906687</td><td>10.808616</td><td>10.2025</td><td>219007770</td><td>2610</td><td>nan</td></tr>\n",
       "<tr><td>63148214</td><td>4402838198</td><td>27.316449524906293</td><td>2015.5</td><td>45.2254</td><td>111.928</td><td>2.3777257433414243</td><td>13.8652</td><td>13.5774</td><td>14.1181555</td><td>9.911</td><td>12.085736</td><td>11.687693</td><td>12.754909</td><td>11.7227</td><td>219007769</td><td>2610</td><td>nan</td></tr>\n",
       "<tr><td>63165724</td><td>4402840037</td><td>27.62920463874903</td><td>2015.5</td><td>-53.9078</td><td>82.6503</td><td>2.5314287283254515</td><td>15.3694</td><td>14.5475</td><td>15.101445</td><td>10.121</td><td>12.637509</td><td>12.075852</td><td>13.708468</td><td>12.2451</td><td>219025848</td><td>2610</td><td>nan</td></tr>\n",
       "<tr><td>63200143</td><td>4400726315</td><td>26.516624646335984</td><td>2015.5</td><td>-56.43</td><td>43.69</td><td>3.017901588779658</td><td>nan</td><td>12.274</td><td>12.590871</td><td>9.293</td><td>11.220837</td><td>10.989637</td><td>11.615499</td><td>10.8608</td><td>219061402</td><td>2610</td><td>nan</td></tr>\n",
       "<tr><td>63130318</td><td>4400726404</td><td>26.252226477392497</td><td>2015.5</td><td>-7.54142</td><td>-5.06581</td><td>3.1523757514693362</td><td>2.29675</td><td>12.6512</td><td>12.739884</td><td>10.946</td><td>12.137205</td><td>12.083581</td><td>12.301875</td><td>11.8233</td><td>218989341</td><td>2610</td><td>nan</td></tr>\n",
       "<tr><td>63165725</td><td>4402838933</td><td>27.539312853258306</td><td>2015.5</td><td>-13.3591</td><td>24.7408</td><td>2.578731482902514</td><td>5.78841</td><td>11.1787</td><td>11.246591</td><td>9.547</td><td>10.69413</td><td>10.715225</td><td>10.818146</td><td>10.3745</td><td>219025849</td><td>2610</td><td>nan</td></tr>\n",
       "</table>"
      ],
      "text/plain": [
       "<Table masked=True length=8>\n",
       "   pk    catalogid         dec         ... carton_to_target_pk priority cadence\n",
       " int64     int64         float64       ...        int64         int64   float64\n",
       "-------- ---------- ------------------ ... ------------------- -------- -------\n",
       "63200148 4402835549  26.81979450154741 ...           219061408     2610     nan\n",
       "63200136 4402839837 27.666837577512847 ...           219061395     2610     nan\n",
       "63148215 4402838643 27.496560527547583 ...           219007770     2610     nan\n",
       "63148214 4402838198 27.316449524906293 ...           219007769     2610     nan\n",
       "63165724 4402840037  27.62920463874903 ...           219025848     2610     nan\n",
       "63200143 4400726315 26.516624646335984 ...           219061402     2610     nan\n",
       "63130318 4400726404 26.252226477392497 ...           218989341     2610     nan\n",
       "63165725 4402838933 27.539312853258306 ...           219025849     2610     nan"
      ]
     },
     "execution_count": 71,
     "metadata": {},
     "output_type": "execute_result"
    }
   ],
   "source": [
    "# Now let's check what was assigned in this field\n",
    "# Same approach as 'available' his is a boolean array just stating if a target is available\n",
    "planet_targets.data[planet_targets.assigned_in(example_field)]"
   ]
  },
  {
   "cell_type": "code",
   "execution_count": 73,
   "metadata": {},
   "outputs": [
    {
     "data": {
      "text/html": [
       "<i>Table masked=True length=3</i>\n",
       "<table id=\"table140550319844224\" class=\"table-striped table-bordered table-condensed\">\n",
       "<thead><tr><th>pk</th><th>catalogid</th><th>dec</th><th>epoch</th><th>pmdec</th><th>pmra</th><th>ra</th><th>parallax</th><th>bp</th><th>g</th><th>h</th><th>i</th><th>z</th><th>r</th><th>rp</th><th>carton_to_target_pk</th><th>priority</th><th>cadence</th></tr></thead>\n",
       "<thead><tr><th>int64</th><th>int64</th><th>float64</th><th>float64</th><th>float64</th><th>float64</th><th>float64</th><th>float64</th><th>float64</th><th>float64</th><th>float64</th><th>float64</th><th>float64</th><th>float64</th><th>float64</th><th>int64</th><th>int64</th><th>float64</th></tr></thead>\n",
       "<tr><td>63165723</td><td>4402840160</td><td>27.764958026948076</td><td>2015.5</td><td>-3.98578</td><td>-4.70774</td><td>2.5429351496859987</td><td>1.5423</td><td>10.4018</td><td>10.721768</td><td>7.425</td><td>9.303644</td><td>9.377136</td><td>9.637439</td><td>9.01802</td><td>219025847</td><td>2610</td><td>nan</td></tr>\n",
       "<tr><td>63148216</td><td>4402839819</td><td>27.65221982258546</td><td>2015.5</td><td>145.471</td><td>222.988</td><td>2.2631552646876965</td><td>16.5175</td><td>11.9499</td><td>14.241348</td><td>8.777</td><td>10.735708</td><td>11.299208</td><td>11.204476</td><td>10.4117</td><td>219007771</td><td>2610</td><td>nan</td></tr>\n",
       "<tr><td>63200144</td><td>4402841300</td><td>27.510075074405066</td><td>2015.5</td><td>-26.1208</td><td>4.0662</td><td>2.9407840006128296</td><td>8.51073</td><td>8.57606</td><td>8.70825</td><td>7.317</td><td>8.276394</td><td>8.574736</td><td>8.331132</td><td>7.95118</td><td>219061403</td><td>2610</td><td>nan</td></tr>\n",
       "</table>"
      ],
      "text/plain": [
       "<Table masked=True length=3>\n",
       "   pk    catalogid         dec         ... carton_to_target_pk priority cadence\n",
       " int64     int64         float64       ...        int64         int64   float64\n",
       "-------- ---------- ------------------ ... ------------------- -------- -------\n",
       "63165723 4402840160 27.764958026948076 ...           219025847     2610     nan\n",
       "63148216 4402839819  27.65221982258546 ...           219007771     2610     nan\n",
       "63200144 4402841300 27.510075074405066 ...           219061403     2610     nan"
      ]
     },
     "execution_count": 73,
     "metadata": {},
     "output_type": "execute_result"
    }
   ],
   "source": [
    "# Only 8 of a possible 11 targets were observed! \n",
    "# Which ones were left out?!\n",
    "\n",
    "planet_targets.data[planet_targets.not_assigned_in(example_field)]  # NOT_assigned_in\n",
    "\n",
    "# BOOM!"
   ]
  },
  {
   "cell_type": "markdown",
   "metadata": {},
   "source": [
    "- `available_in` and `assigned_in` will work for Plate objects, too. For example, we would have gotten the same results if we had done,\\\n",
    "\\\n",
    "`planet_targets.data[planet_targets.not_assigned_in(p15004)]`\\\n",
    "\\\n",
    "- Better still, the same concepts are available for plate runs! Just used `available_in_platerun` instead and you are good to go!"
   ]
  },
  {
   "cell_type": "code",
   "execution_count": 74,
   "metadata": {},
   "outputs": [
    {
     "data": {
      "text/html": [
       "<i>Table masked=True length=568</i>\n",
       "<table id=\"table140550320081312\" class=\"table-striped table-bordered table-condensed\">\n",
       "<thead><tr><th>pk</th><th>catalogid</th><th>dec</th><th>epoch</th><th>pmdec</th><th>pmra</th><th>ra</th><th>parallax</th><th>bp</th><th>g</th><th>h</th><th>i</th><th>z</th><th>r</th><th>rp</th><th>carton_to_target_pk</th><th>priority</th><th>cadence</th></tr></thead>\n",
       "<thead><tr><th>int64</th><th>int64</th><th>float64</th><th>float64</th><th>float64</th><th>float64</th><th>float64</th><th>float64</th><th>float64</th><th>float64</th><th>float64</th><th>float64</th><th>float64</th><th>float64</th><th>float64</th><th>int64</th><th>int64</th><th>float64</th></tr></thead>\n",
       "<tr><td>63056027</td><td>4555247278</td><td>36.11709158221013</td><td>2015.5</td><td>80.4157</td><td>4.08167</td><td>118.80090615668855</td><td>28.4559</td><td>15.4818</td><td>16.108744</td><td>10.676</td><td>14.245443</td><td>12.616594</td><td>15.407179</td><td>12.8518</td><td>218913088</td><td>2610</td><td>nan</td></tr>\n",
       "<tr><td>63196594</td><td>4401864225</td><td>0.9698410396007963</td><td>2015.5</td><td>47.6221</td><td>90.694</td><td>39.07852354398106</td><td>10.0168</td><td>nan</td><td>12.155219</td><td>9.428</td><td>10.964708</td><td>12.101047</td><td>11.214764</td><td>nan</td><td>219057716</td><td>2610</td><td>nan</td></tr>\n",
       "<tr><td>63040748</td><td>4554605003</td><td>30.90983695531293</td><td>2015.5</td><td>-26.6509</td><td>-8.5071</td><td>117.18485753714032</td><td>5.94561</td><td>8.63233</td><td>8.730012</td><td>7.693</td><td>8.487422</td><td>8.834852</td><td>11.788547</td><td>8.18033</td><td>218897339</td><td>2610</td><td>nan</td></tr>\n",
       "<tr><td>63196600</td><td>4401884612</td><td>1.8400560683729368</td><td>2015.5</td><td>-8.92046</td><td>-8.21054</td><td>39.13731000281303</td><td>6.51725</td><td>10.6218</td><td>10.665486</td><td>9.045</td><td>10.128338</td><td>10.582211</td><td>10.250301</td><td>9.8415</td><td>219057722</td><td>2610</td><td>nan</td></tr>\n",
       "<tr><td>63045762</td><td>4555533400</td><td>39.807342282838675</td><td>2015.5</td><td>34.2444</td><td>32.1763</td><td>122.50910331332832</td><td>16.0216</td><td>10.3506</td><td>10.626016</td><td>8.235</td><td>9.691122</td><td>10.324795</td><td>12.875179</td><td>9.35244</td><td>218902510</td><td>2610</td><td>nan</td></tr>\n",
       "<tr><td>57604325</td><td>4399883152</td><td>0.5161246658693178</td><td>2015.5</td><td>-22.19</td><td>55.79</td><td>22.26974853633527</td><td>nan</td><td>16.0827</td><td>16.671696</td><td>10.692</td><td>13.598673</td><td>12.75001</td><td>15.18125</td><td>13.0822</td><td>219029580</td><td>2610</td><td>nan</td></tr>\n",
       "<tr><td>63105230</td><td>4554364806</td><td>27.01157359020544</td><td>2015.5</td><td>-9.23811</td><td>-8.87375</td><td>118.92027412567178</td><td>1.79779</td><td>9.99367</td><td>10.352288</td><td>7.169</td><td>9.123975</td><td>9.141856</td><td>9.385731</td><td>8.69501</td><td>218963713</td><td>2610</td><td>nan</td></tr>\n",
       "<tr><td>63054484</td><td>4376208813</td><td>-0.20603547861311644</td><td>2015.5</td><td>47.4507</td><td>33.8929</td><td>41.862284500684176</td><td>14.4362</td><td>9.83604</td><td>10.047157</td><td>7.509</td><td>9.11789</td><td>9.361223</td><td>9.386684</td><td>8.76348</td><td>218911502</td><td>2610</td><td>nan</td></tr>\n",
       "<tr><td>63045761</td><td>4555531584</td><td>39.495448185807284</td><td>2015.5</td><td>2.05463</td><td>-7.56862</td><td>122.50668537029524</td><td>5.76034</td><td>10.1332</td><td>10.322261</td><td>8.725</td><td>9.726861</td><td>10.43197</td><td>13.018948</td><td>9.40569</td><td>218902509</td><td>2610</td><td>nan</td></tr>\n",
       "<tr><td>63169325</td><td>4399887488</td><td>1.4757205535368445</td><td>2015.5</td><td>-49.3486</td><td>-35.8331</td><td>22.87146245992089</td><td>8.25659</td><td>11.8881</td><td>12.316097</td><td>9.538</td><td>11.113364</td><td>12.164226</td><td>11.367599</td><td>10.7633</td><td>219029593</td><td>2610</td><td>nan</td></tr>\n",
       "<tr><td>...</td><td>...</td><td>...</td><td>...</td><td>...</td><td>...</td><td>...</td><td>...</td><td>...</td><td>...</td><td>...</td><td>...</td><td>...</td><td>...</td><td>...</td><td>...</td><td>...</td><td>...</td></tr>\n",
       "<tr><td>63200977</td><td>4400897541</td><td>25.7078179261229</td><td>2015.5</td><td>17.0471</td><td>34.5592</td><td>8.259809244574473</td><td>2.47637</td><td>12.3757</td><td>12.471117</td><td>10.879</td><td>11.977029</td><td>12.035175</td><td>12.084181</td><td>11.6536</td><td>219062271</td><td>2610</td><td>nan</td></tr>\n",
       "<tr><td>63054490</td><td>4376206985</td><td>-0.8580655822704932</td><td>2015.5</td><td>-51.7277</td><td>-78.6544</td><td>42.09501877717805</td><td>9.45227</td><td>12.3525</td><td>12.858117</td><td>9.492</td><td>11.290373</td><td>12.376678</td><td>11.64367</td><td>10.9591</td><td>218911508</td><td>2610</td><td>nan</td></tr>\n",
       "<tr><td>63049608</td><td>4400904629</td><td>24.95024646189144</td><td>2015.5</td><td>-65.3821</td><td>282.53</td><td>10.539889388128856</td><td>13.6555</td><td>13.0955</td><td>14.436264</td><td>9.391</td><td>11.084682</td><td>12.234246</td><td>15.600865</td><td>11.2382</td><td>218906475</td><td>2610</td><td>nan</td></tr>\n",
       "<tr><td>63086349</td><td>4555271551</td><td>34.94207403011327</td><td>2015.5</td><td>-1502.23</td><td>-508.474</td><td>120.77283458976403</td><td>37.6296</td><td>16.584</td><td>17.137762</td><td>11.04</td><td>14.041096</td><td>12.960227</td><td>15.662766</td><td>13.3599</td><td>218944410</td><td>2610</td><td>nan</td></tr>\n",
       "<tr><td>63065294</td><td>4554140868</td><td>38.79495745218146</td><td>2015.5</td><td>-28.0982</td><td>-15.1022</td><td>114.85402634379976</td><td>4.67327</td><td>8.82434</td><td>8.88966</td><td>7.52</td><td>8.491733</td><td>9.076952</td><td>8.559912</td><td>8.16625</td><td>218922696</td><td>2610</td><td>nan</td></tr>\n",
       "<tr><td>63054415</td><td>4376162976</td><td>-0.361737246672854</td><td>2015.5</td><td>0.486445</td><td>-14.3852</td><td>39.89345399980164</td><td>5.67453</td><td>11.1029</td><td>11.174337</td><td>9.445</td><td>10.593443</td><td>10.8159685</td><td>10.724957</td><td>10.2735</td><td>218911428</td><td>2610</td><td>nan</td></tr>\n",
       "<tr><td>63115689</td><td>4555205615</td><td>32.983491382772</td><td>2015.5</td><td>11.5112</td><td>-35.8539</td><td>120.62763041568067</td><td>12.0058</td><td>11.3107</td><td>11.774472</td><td>8.912</td><td>10.477714</td><td>10.773762</td><td>10.741514</td><td>10.1495</td><td>218974456</td><td>2610</td><td>nan</td></tr>\n",
       "<tr><td>63181710</td><td>4399787363</td><td>0.3469705503166911</td><td>2015.5</td><td>-33.4403</td><td>-6.90277</td><td>19.461135976392676</td><td>2.08903</td><td>12.5404</td><td>15.383265</td><td>10.879</td><td>11.951436</td><td>12.052569</td><td>16.084072</td><td>11.7411</td><td>218895321</td><td>2600</td><td>nan</td></tr>\n",
       "<tr><td>63196412</td><td>4401495973</td><td>0.7588246970687504</td><td>2015.5</td><td>-7.09346</td><td>23.305</td><td>29.263450589426053</td><td>2.72889</td><td>10.8861</td><td>11.069519</td><td>9.416</td><td>10.4581175</td><td>11.07616</td><td>10.564281</td><td>10.1183</td><td>218895408</td><td>2600</td><td>nan</td></tr>\n",
       "<tr><td>63196558</td><td>4401870552</td><td>1.6909303337706163</td><td>2015.5</td><td>-2.53159</td><td>397.201</td><td>38.310420410038226</td><td>14.8151</td><td>11.3412</td><td>11.719384</td><td>8.583</td><td>10.339441</td><td>10.409499</td><td>10.681344</td><td>9.96035</td><td>218895692</td><td>2605</td><td>nan</td></tr>\n",
       "</table>"
      ],
      "text/plain": [
       "<Table masked=True length=568>\n",
       "   pk    catalogid          dec          ... priority cadence\n",
       " int64     int64          float64        ...  int64   float64\n",
       "-------- ---------- -------------------- ... -------- -------\n",
       "63056027 4555247278    36.11709158221013 ...     2610     nan\n",
       "63196594 4401864225   0.9698410396007963 ...     2610     nan\n",
       "63040748 4554605003    30.90983695531293 ...     2610     nan\n",
       "63196600 4401884612   1.8400560683729368 ...     2610     nan\n",
       "63045762 4555533400   39.807342282838675 ...     2610     nan\n",
       "57604325 4399883152   0.5161246658693178 ...     2610     nan\n",
       "63105230 4554364806    27.01157359020544 ...     2610     nan\n",
       "63054484 4376208813 -0.20603547861311644 ...     2610     nan\n",
       "63045761 4555531584   39.495448185807284 ...     2610     nan\n",
       "63169325 4399887488   1.4757205535368445 ...     2610     nan\n",
       "     ...        ...                  ... ...      ...     ...\n",
       "63200977 4400897541     25.7078179261229 ...     2610     nan\n",
       "63054490 4376206985  -0.8580655822704932 ...     2610     nan\n",
       "63049608 4400904629    24.95024646189144 ...     2610     nan\n",
       "63086349 4555271551    34.94207403011327 ...     2610     nan\n",
       "63065294 4554140868    38.79495745218146 ...     2610     nan\n",
       "63054415 4376162976   -0.361737246672854 ...     2610     nan\n",
       "63115689 4555205615      32.983491382772 ...     2610     nan\n",
       "63181710 4399787363   0.3469705503166911 ...     2600     nan\n",
       "63196412 4401495973   0.7588246970687504 ...     2600     nan\n",
       "63196558 4401870552   1.6909303337706163 ...     2605     nan"
      ]
     },
     "execution_count": 74,
     "metadata": {},
     "output_type": "execute_result"
    }
   ],
   "source": [
    "# Available\n",
    "planet_targets.data[planet_targets.available_in_platerun(prun_c)]"
   ]
  },
  {
   "cell_type": "code",
   "execution_count": 75,
   "metadata": {},
   "outputs": [
    {
     "data": {
      "text/html": [
       "<i>Table masked=True length=383</i>\n",
       "<table id=\"table140551997350384\" class=\"table-striped table-bordered table-condensed\">\n",
       "<thead><tr><th>pk</th><th>catalogid</th><th>dec</th><th>epoch</th><th>pmdec</th><th>pmra</th><th>ra</th><th>parallax</th><th>bp</th><th>g</th><th>h</th><th>i</th><th>z</th><th>r</th><th>rp</th><th>carton_to_target_pk</th><th>priority</th><th>cadence</th></tr></thead>\n",
       "<thead><tr><th>int64</th><th>int64</th><th>float64</th><th>float64</th><th>float64</th><th>float64</th><th>float64</th><th>float64</th><th>float64</th><th>float64</th><th>float64</th><th>float64</th><th>float64</th><th>float64</th><th>float64</th><th>int64</th><th>int64</th><th>float64</th></tr></thead>\n",
       "<tr><td>63056027</td><td>4555247278</td><td>36.11709158221013</td><td>2015.5</td><td>80.4157</td><td>4.08167</td><td>118.80090615668855</td><td>28.4559</td><td>15.4818</td><td>16.108744</td><td>10.676</td><td>14.245443</td><td>12.616594</td><td>15.407179</td><td>12.8518</td><td>218913088</td><td>2610</td><td>nan</td></tr>\n",
       "<tr><td>63045762</td><td>4555533400</td><td>39.807342282838675</td><td>2015.5</td><td>34.2444</td><td>32.1763</td><td>122.50910331332832</td><td>16.0216</td><td>10.3506</td><td>10.626016</td><td>8.235</td><td>9.691122</td><td>10.324795</td><td>12.875179</td><td>9.35244</td><td>218902510</td><td>2610</td><td>nan</td></tr>\n",
       "<tr><td>57604325</td><td>4399883152</td><td>0.5161246658693178</td><td>2015.5</td><td>-22.19</td><td>55.79</td><td>22.26974853633527</td><td>nan</td><td>16.0827</td><td>16.671696</td><td>10.692</td><td>13.598673</td><td>12.75001</td><td>15.18125</td><td>13.0822</td><td>219029580</td><td>2610</td><td>nan</td></tr>\n",
       "<tr><td>63105230</td><td>4554364806</td><td>27.01157359020544</td><td>2015.5</td><td>-9.23811</td><td>-8.87375</td><td>118.92027412567178</td><td>1.79779</td><td>9.99367</td><td>10.352288</td><td>7.169</td><td>9.123975</td><td>9.141856</td><td>9.385731</td><td>8.69501</td><td>218963713</td><td>2610</td><td>nan</td></tr>\n",
       "<tr><td>63169325</td><td>4399887488</td><td>1.4757205535368445</td><td>2015.5</td><td>-49.3486</td><td>-35.8331</td><td>22.87146245992089</td><td>8.25659</td><td>11.8881</td><td>12.316097</td><td>9.538</td><td>11.113364</td><td>12.164226</td><td>11.367599</td><td>10.7633</td><td>219029593</td><td>2610</td><td>nan</td></tr>\n",
       "<tr><td>63105232</td><td>4554590919</td><td>28.946509419635948</td><td>2015.5</td><td>29.1887</td><td>-40.3823</td><td>119.06807653627418</td><td>10.1559</td><td>10.5974</td><td>15.354837</td><td>8.678</td><td>10.024873</td><td>9.579479</td><td>10.029227</td><td>9.68751</td><td>218963715</td><td>2610</td><td>nan</td></tr>\n",
       "<tr><td>63200148</td><td>4402835549</td><td>26.81979450154741</td><td>2015.5</td><td>-14.5468</td><td>-17.4957</td><td>3.3869881453212867</td><td>7.72339</td><td>10.9878</td><td>11.293857</td><td>9.234</td><td>10.443971</td><td>10.474189</td><td>10.604778</td><td>10.1126</td><td>219061408</td><td>2610</td><td>nan</td></tr>\n",
       "<tr><td>63065292</td><td>4554137370</td><td>38.48915134346151</td><td>2015.5</td><td>-105.118</td><td>-44.6422</td><td>114.77483981973309</td><td>15.8116</td><td>13.4771</td><td>14.036316</td><td>9.434</td><td>11.772613</td><td>12.22734</td><td>13.49332</td><td>11.4129</td><td>218922694</td><td>2610</td><td>nan</td></tr>\n",
       "<tr><td>63134057</td><td>4401855312</td><td>0.07697398868207271</td><td>2015.5</td><td>16.6909</td><td>147.387</td><td>37.30554471514638</td><td>22.0953</td><td>13.5097</td><td>nan</td><td>9.158</td><td>nan</td><td>nan</td><td>nan</td><td>11.2324</td><td>218993203</td><td>2610</td><td>nan</td></tr>\n",
       "<tr><td>63134127</td><td>4376149973</td><td>-0.3497829946129545</td><td>2015.5</td><td>-5.82404</td><td>11.6363</td><td>38.95282609655888</td><td>3.32341</td><td>8.7333</td><td>8.740849</td><td>7.778</td><td>8.560745</td><td>9.147035</td><td>8.586595</td><td>8.24174</td><td>218993273</td><td>2610</td><td>nan</td></tr>\n",
       "<tr><td>...</td><td>...</td><td>...</td><td>...</td><td>...</td><td>...</td><td>...</td><td>...</td><td>...</td><td>...</td><td>...</td><td>...</td><td>...</td><td>...</td><td>...</td><td>...</td><td>...</td><td>...</td></tr>\n",
       "<tr><td>63054422</td><td>4376161284</td><td>-0.9243257062522315</td><td>2015.5</td><td>39.7228</td><td>25.5789</td><td>40.12928148445251</td><td>8.08317</td><td>10.1575</td><td>10.50982</td><td>8.797</td><td>9.752969</td><td>10.429315</td><td>9.862339</td><td>9.44767</td><td>218911436</td><td>2610</td><td>nan</td></tr>\n",
       "<tr><td>63200977</td><td>4400897541</td><td>25.7078179261229</td><td>2015.5</td><td>17.0471</td><td>34.5592</td><td>8.259809244574473</td><td>2.47637</td><td>12.3757</td><td>12.471117</td><td>10.879</td><td>11.977029</td><td>12.035175</td><td>12.084181</td><td>11.6536</td><td>219062271</td><td>2610</td><td>nan</td></tr>\n",
       "<tr><td>63054490</td><td>4376206985</td><td>-0.8580655822704932</td><td>2015.5</td><td>-51.7277</td><td>-78.6544</td><td>42.09501877717805</td><td>9.45227</td><td>12.3525</td><td>12.858117</td><td>9.492</td><td>11.290373</td><td>12.376678</td><td>11.64367</td><td>10.9591</td><td>218911508</td><td>2610</td><td>nan</td></tr>\n",
       "<tr><td>63049608</td><td>4400904629</td><td>24.95024646189144</td><td>2015.5</td><td>-65.3821</td><td>282.53</td><td>10.539889388128856</td><td>13.6555</td><td>13.0955</td><td>14.436264</td><td>9.391</td><td>11.084682</td><td>12.234246</td><td>15.600865</td><td>11.2382</td><td>218906475</td><td>2610</td><td>nan</td></tr>\n",
       "<tr><td>63086349</td><td>4555271551</td><td>34.94207403011327</td><td>2015.5</td><td>-1502.23</td><td>-508.474</td><td>120.77283458976403</td><td>37.6296</td><td>16.584</td><td>17.137762</td><td>11.04</td><td>14.041096</td><td>12.960227</td><td>15.662766</td><td>13.3599</td><td>218944410</td><td>2610</td><td>nan</td></tr>\n",
       "<tr><td>63054415</td><td>4376162976</td><td>-0.361737246672854</td><td>2015.5</td><td>0.486445</td><td>-14.3852</td><td>39.89345399980164</td><td>5.67453</td><td>11.1029</td><td>11.174337</td><td>9.445</td><td>10.593443</td><td>10.8159685</td><td>10.724957</td><td>10.2735</td><td>218911428</td><td>2610</td><td>nan</td></tr>\n",
       "<tr><td>63115689</td><td>4555205615</td><td>32.983491382772</td><td>2015.5</td><td>11.5112</td><td>-35.8539</td><td>120.62763041568067</td><td>12.0058</td><td>11.3107</td><td>11.774472</td><td>8.912</td><td>10.477714</td><td>10.773762</td><td>10.741514</td><td>10.1495</td><td>218974456</td><td>2610</td><td>nan</td></tr>\n",
       "<tr><td>63181710</td><td>4399787363</td><td>0.3469705503166911</td><td>2015.5</td><td>-33.4403</td><td>-6.90277</td><td>19.461135976392676</td><td>2.08903</td><td>12.5404</td><td>15.383265</td><td>10.879</td><td>11.951436</td><td>12.052569</td><td>16.084072</td><td>11.7411</td><td>218895321</td><td>2600</td><td>nan</td></tr>\n",
       "<tr><td>63196412</td><td>4401495973</td><td>0.7588246970687504</td><td>2015.5</td><td>-7.09346</td><td>23.305</td><td>29.263450589426053</td><td>2.72889</td><td>10.8861</td><td>11.069519</td><td>9.416</td><td>10.4581175</td><td>11.07616</td><td>10.564281</td><td>10.1183</td><td>218895408</td><td>2600</td><td>nan</td></tr>\n",
       "<tr><td>63196558</td><td>4401870552</td><td>1.6909303337706163</td><td>2015.5</td><td>-2.53159</td><td>397.201</td><td>38.310420410038226</td><td>14.8151</td><td>11.3412</td><td>11.719384</td><td>8.583</td><td>10.339441</td><td>10.409499</td><td>10.681344</td><td>9.96035</td><td>218895692</td><td>2605</td><td>nan</td></tr>\n",
       "</table>"
      ],
      "text/plain": [
       "<Table masked=True length=383>\n",
       "   pk    catalogid          dec         ... carton_to_target_pk priority cadence\n",
       " int64     int64          float64       ...        int64         int64   float64\n",
       "-------- ---------- ------------------- ... ------------------- -------- -------\n",
       "63056027 4555247278   36.11709158221013 ...           218913088     2610     nan\n",
       "63045762 4555533400  39.807342282838675 ...           218902510     2610     nan\n",
       "57604325 4399883152  0.5161246658693178 ...           219029580     2610     nan\n",
       "63105230 4554364806   27.01157359020544 ...           218963713     2610     nan\n",
       "63169325 4399887488  1.4757205535368445 ...           219029593     2610     nan\n",
       "63105232 4554590919  28.946509419635948 ...           218963715     2610     nan\n",
       "63200148 4402835549   26.81979450154741 ...           219061408     2610     nan\n",
       "63065292 4554137370   38.48915134346151 ...           218922694     2610     nan\n",
       "63134057 4401855312 0.07697398868207271 ...           218993203     2610     nan\n",
       "63134127 4376149973 -0.3497829946129545 ...           218993273     2610     nan\n",
       "     ...        ...                 ... ...                 ...      ...     ...\n",
       "63054422 4376161284 -0.9243257062522315 ...           218911436     2610     nan\n",
       "63200977 4400897541    25.7078179261229 ...           219062271     2610     nan\n",
       "63054490 4376206985 -0.8580655822704932 ...           218911508     2610     nan\n",
       "63049608 4400904629   24.95024646189144 ...           218906475     2610     nan\n",
       "63086349 4555271551   34.94207403011327 ...           218944410     2610     nan\n",
       "63054415 4376162976  -0.361737246672854 ...           218911428     2610     nan\n",
       "63115689 4555205615     32.983491382772 ...           218974456     2610     nan\n",
       "63181710 4399787363  0.3469705503166911 ...           218895321     2600     nan\n",
       "63196412 4401495973  0.7588246970687504 ...           218895408     2600     nan\n",
       "63196558 4401870552  1.6909303337706163 ...           218895692     2605     nan"
      ]
     },
     "execution_count": 75,
     "metadata": {},
     "output_type": "execute_result"
    }
   ],
   "source": [
    "# Assigned_in works exactly the same way as for fields\n",
    "planet_targets.data[planet_targets.assigned_in(prun_c)]"
   ]
  },
  {
   "cell_type": "markdown",
   "metadata": {},
   "source": [
    "#### Getting more information for assigned targets\n",
    "`available_in` and `assigned_in` help you understand things about your input Targets object.\n",
    "\n",
    "To know HOW, exactly, your targets were assigned, use `assigned_info`.\n",
    "This will pull the relevant rows from the plate files."
   ]
  },
  {
   "cell_type": "code",
   "execution_count": 79,
   "metadata": {},
   "outputs": [
    {
     "data": {
      "text/html": [
       "<i>Table length=8</i>\n",
       "<table id=\"table140550331937888\" class=\"table-striped table-bordered table-condensed\">\n",
       "<thead><tr><th>target_ra</th><th>target_dec</th><th>holetype</th><th>targettype</th><th>catalogid</th><th>tmass_id</th><th>firstcarton</th><th>tmass_h</th><th>gaia_g</th><th>gaia_rp</th><th>gaia_bp</th><th>epoch</th><th>plate</th><th>field</th></tr></thead>\n",
       "<thead><tr><th>float64</th><th>float64</th><th>str13</th><th>str8</th><th>uint64</th><th>str23</th><th>str19</th><th>float64</th><th>float64</th><th>float64</th><th>float64</th><th>float64</th><th>int64</th><th>bytes200</th></tr></thead>\n",
       "<tr><td>2.5314287</td><td>27.629205</td><td>APOGEE_SHARED</td><td>science</td><td>4402840037</td><td>2MASS-J00100745+2737460</td><td>mwm_snc_100pc</td><td>10.121</td><td>13.3348</td><td>12.2451</td><td>14.5475</td><td>2020.8</td><td>15004</td><td>AQM_001.85_+26.44</td></tr>\n",
       "<tr><td>2.3777257</td><td>27.31645</td><td>APOGEE_SHARED</td><td>science</td><td>4402838198</td><td>2MASS-J00093051+2718584</td><td>mwm_snc_100pc</td><td>9.911</td><td>12.6616</td><td>11.7227</td><td>13.5774</td><td>2020.8</td><td>15004</td><td>AQM_001.85_+26.44</td></tr>\n",
       "<tr><td>2.2492676</td><td>27.666838</td><td>APOGEE_SHARED</td><td>science</td><td>4402839837</td><td>2MASS-J00085952+2739581</td><td>mwm_snc_100pc</td><td>9.812</td><td>12.7371</td><td>11.7309</td><td>13.7767</td><td>2020.8</td><td>15004</td><td>AQM_001.85_+26.44</td></tr>\n",
       "<tr><td>2.5787315</td><td>27.539313</td><td>APOGEE_SHARED</td><td>science</td><td>4402838933</td><td>2MASS-J00101886+2732218</td><td>mwm_snc_250pc</td><td>9.547</td><td>10.843</td><td>10.3745</td><td>11.1787</td><td>2020.8</td><td>15004</td><td>AQM_001.85_+26.44</td></tr>\n",
       "<tr><td>2.3601101</td><td>27.496561</td><td>APOGEE_SHARED</td><td>science</td><td>4402838643</td><td>2MASS-J00092642+2729485</td><td>mwm_snc_250pc</td><td>9.145</td><td>10.7554</td><td>10.2025</td><td>11.1768</td><td>2020.8</td><td>15004</td><td>AQM_001.85_+26.44</td></tr>\n",
       "<tr><td>3.3869881</td><td>26.819795</td><td>APOGEE_SHARED</td><td>science</td><td>4402835549</td><td>2MASS-J00133290+2649115</td><td>mwm_snc_250pc</td><td>9.234</td><td>10.6139</td><td>10.1126</td><td>10.9878</td><td>2020.8</td><td>15004</td><td>AQM_001.85_+26.44</td></tr>\n",
       "<tr><td>3.0179016</td><td>26.516625</td><td>APOGEE_SHARED</td><td>science</td><td>4400726315</td><td>2MASS-J00120421+2631008</td><td>mwm_planet_tess</td><td>9.293</td><td>11.6254</td><td>10.8608</td><td>12.274</td><td>2020.8</td><td>15004</td><td>AQM_001.85_+26.44</td></tr>\n",
       "<tr><td>3.1523758</td><td>26.252226</td><td>APOGEE_SHARED</td><td>science</td><td>4400726404</td><td>2MASS-J00123658+2615081</td><td>mwm_planet_tess</td><td>10.946</td><td>12.3186</td><td>11.8233</td><td>12.6512</td><td>2020.8</td><td>15004</td><td>AQM_001.85_+26.44</td></tr>\n",
       "</table>"
      ],
      "text/plain": [
       "<Table length=8>\n",
       "target_ra target_dec    holetype   ...  epoch  plate       field      \n",
       " float64   float64       str13     ... float64 int64      bytes200    \n",
       "--------- ---------- ------------- ... ------- ----- -----------------\n",
       "2.5314287  27.629205 APOGEE_SHARED ...  2020.8 15004 AQM_001.85_+26.44\n",
       "2.3777257   27.31645 APOGEE_SHARED ...  2020.8 15004 AQM_001.85_+26.44\n",
       "2.2492676  27.666838 APOGEE_SHARED ...  2020.8 15004 AQM_001.85_+26.44\n",
       "2.5787315  27.539313 APOGEE_SHARED ...  2020.8 15004 AQM_001.85_+26.44\n",
       "2.3601101  27.496561 APOGEE_SHARED ...  2020.8 15004 AQM_001.85_+26.44\n",
       "3.3869881  26.819795 APOGEE_SHARED ...  2020.8 15004 AQM_001.85_+26.44\n",
       "3.0179016  26.516625 APOGEE_SHARED ...  2020.8 15004 AQM_001.85_+26.44\n",
       "3.1523758  26.252226 APOGEE_SHARED ...  2020.8 15004 AQM_001.85_+26.44"
      ]
     },
     "execution_count": 79,
     "metadata": {},
     "output_type": "execute_result"
    }
   ],
   "source": [
    "planet_targets.assigned_info(example_field)\n",
    "# information includes the instrument used ('holetype') and the carton the object was targeted under ('firstcarton')"
   ]
  },
  {
   "cell_type": "code",
   "execution_count": 80,
   "metadata": {},
   "outputs": [
    {
     "data": {
      "text/html": [
       "<i>Table length=398</i>\n",
       "<table id=\"table140550332915616\" class=\"table-striped table-bordered table-condensed\">\n",
       "<thead><tr><th>target_ra</th><th>target_dec</th><th>holetype</th><th>targettype</th><th>catalogid</th><th>tmass_id</th><th>firstcarton</th><th>tmass_h</th><th>gaia_g</th><th>gaia_rp</th><th>gaia_bp</th><th>epoch</th><th>plate</th><th>field</th></tr></thead>\n",
       "<thead><tr><th>float64</th><th>float64</th><th>str13</th><th>str8</th><th>uint64</th><th>str23</th><th>str21</th><th>float64</th><th>float64</th><th>float64</th><th>float64</th><th>float64</th><th>int64</th><th>bytes200</th></tr></thead>\n",
       "<tr><td>2.5314287</td><td>27.629205</td><td>APOGEE_SHARED</td><td>science</td><td>4402840037</td><td>2MASS-J00100745+2737460</td><td>mwm_snc_100pc</td><td>10.121</td><td>13.3348</td><td>12.2451</td><td>14.5475</td><td>2020.8</td><td>15004</td><td>AQM_001.85_+26.44</td></tr>\n",
       "<tr><td>2.3777257</td><td>27.31645</td><td>APOGEE_SHARED</td><td>science</td><td>4402838198</td><td>2MASS-J00093051+2718584</td><td>mwm_snc_100pc</td><td>9.911</td><td>12.6616</td><td>11.7227</td><td>13.5774</td><td>2020.8</td><td>15004</td><td>AQM_001.85_+26.44</td></tr>\n",
       "<tr><td>2.2492676</td><td>27.666838</td><td>APOGEE_SHARED</td><td>science</td><td>4402839837</td><td>2MASS-J00085952+2739581</td><td>mwm_snc_100pc</td><td>9.812</td><td>12.7371</td><td>11.7309</td><td>13.7767</td><td>2020.8</td><td>15004</td><td>AQM_001.85_+26.44</td></tr>\n",
       "<tr><td>2.5787315</td><td>27.539313</td><td>APOGEE_SHARED</td><td>science</td><td>4402838933</td><td>2MASS-J00101886+2732218</td><td>mwm_snc_250pc</td><td>9.547</td><td>10.843</td><td>10.3745</td><td>11.1787</td><td>2020.8</td><td>15004</td><td>AQM_001.85_+26.44</td></tr>\n",
       "<tr><td>2.3601101</td><td>27.496561</td><td>APOGEE_SHARED</td><td>science</td><td>4402838643</td><td>2MASS-J00092642+2729485</td><td>mwm_snc_250pc</td><td>9.145</td><td>10.7554</td><td>10.2025</td><td>11.1768</td><td>2020.8</td><td>15004</td><td>AQM_001.85_+26.44</td></tr>\n",
       "<tr><td>3.3869881</td><td>26.819795</td><td>APOGEE_SHARED</td><td>science</td><td>4402835549</td><td>2MASS-J00133290+2649115</td><td>mwm_snc_250pc</td><td>9.234</td><td>10.6139</td><td>10.1126</td><td>10.9878</td><td>2020.8</td><td>15004</td><td>AQM_001.85_+26.44</td></tr>\n",
       "<tr><td>3.0179016</td><td>26.516625</td><td>APOGEE_SHARED</td><td>science</td><td>4400726315</td><td>2MASS-J00120421+2631008</td><td>mwm_planet_tess</td><td>9.293</td><td>11.6254</td><td>10.8608</td><td>12.274</td><td>2020.8</td><td>15004</td><td>AQM_001.85_+26.44</td></tr>\n",
       "<tr><td>3.1523758</td><td>26.252226</td><td>APOGEE_SHARED</td><td>science</td><td>4400726404</td><td>2MASS-J00123658+2615081</td><td>mwm_planet_tess</td><td>10.946</td><td>12.3186</td><td>11.8233</td><td>12.6512</td><td>2020.8</td><td>15004</td><td>AQM_001.85_+26.44</td></tr>\n",
       "<tr><td>9.5389084</td><td>25.8872</td><td>APOGEE_SHARED</td><td>science</td><td>4400907875</td><td>2MASS-J00380942+2553145</td><td>mwm_snc_100pc</td><td>10.278</td><td>13.6524</td><td>12.4825</td><td>15.0674</td><td>2020.8</td><td>15006</td><td>AQM_009.32_+25.53</td></tr>\n",
       "<tr><td>8.6989824</td><td>26.065578</td><td>APOGEE_SHARED</td><td>science</td><td>4400899851</td><td>2MASS-J00344729+2603570</td><td>mwm_snc_100pc</td><td>7.225</td><td>9.1703</td><td>8.5181</td><td>9.7079</td><td>2020.8</td><td>15006</td><td>AQM_009.32_+25.53</td></tr>\n",
       "<tr><td>...</td><td>...</td><td>...</td><td>...</td><td>...</td><td>...</td><td>...</td><td>...</td><td>...</td><td>...</td><td>...</td><td>...</td><td>...</td><td>...</td></tr>\n",
       "<tr><td>124.85103</td><td>39.863622</td><td>APOGEE_SHARED</td><td>science</td><td>4361395457</td><td>2MASS-J08192421+3951499</td><td>mwm_snc_250pc</td><td>8.664</td><td>10.1004</td><td>9.5892</td><td>10.4808</td><td>2020.8</td><td>15026</td><td>AQW_123.88_+38.85</td></tr>\n",
       "<tr><td>123.6059</td><td>37.584992</td><td>APOGEE_SHARED</td><td>science</td><td>4555500617</td><td>2MASS-J08142542+3735067</td><td>mwm_snc_250pc</td><td>9.172</td><td>10.5826</td><td>10.0839</td><td>10.9476</td><td>2020.8</td><td>15026</td><td>AQW_123.88_+38.85</td></tr>\n",
       "<tr><td>125.25693</td><td>39.419972</td><td>APOGEE_SHARED</td><td>science</td><td>4361419395</td><td>2MASS-J08210169+3925122</td><td>mwm_snc_250pc</td><td>9.213</td><td>10.4649</td><td>10.0003</td><td>10.7824</td><td>2020.8</td><td>15026</td><td>AQW_123.88_+38.85</td></tr>\n",
       "<tr><td>124.18519</td><td>38.718811</td><td>APOGEE_SHARED</td><td>science</td><td>4555536659</td><td>2MASS-J08164433+3843086</td><td>mwm_snc_250pc</td><td>8.915</td><td>10.5066</td><td>9.9652</td><td>10.9125</td><td>2020.8</td><td>15026</td><td>AQW_123.88_+38.85</td></tr>\n",
       "<tr><td>124.83932</td><td>40.074126</td><td>APOGEE_SHARED</td><td>science</td><td>4361394699</td><td>2MASS-J08192145+4004273</td><td>mwm_snc_250pc</td><td>8.947</td><td>10.4187</td><td>9.9024</td><td>10.806</td><td>2020.8</td><td>15026</td><td>AQW_123.88_+38.85</td></tr>\n",
       "<tr><td>122.51053</td><td>37.902086</td><td>APOGEE_SHARED</td><td>science</td><td>4555495442</td><td>2MASS-J08100256+3754076</td><td>mwm_snc_250pc</td><td>9.369</td><td>11.0034</td><td>10.4409</td><td>11.4327</td><td>2020.8</td><td>15026</td><td>AQW_123.88_+38.85</td></tr>\n",
       "<tr><td>124.29993</td><td>40.303196</td><td>APOGEE_SHARED</td><td>science</td><td>4361392765</td><td>2MASS-J08171198+4018115</td><td>mwm_planet_tess</td><td>10.61</td><td>11.1018</td><td>10.8232</td><td>11.2907</td><td>2020.8</td><td>15026</td><td>AQW_123.88_+38.85</td></tr>\n",
       "<tr><td>123.50571</td><td>39.485818</td><td>APOGEE_SHARED</td><td>science</td><td>4555537845</td><td>2MASS-J08140130+3929094</td><td>mwm_planet_tess</td><td>7.174</td><td>9.2132</td><td>8.5602</td><td>9.7506</td><td>2020.8</td><td>15026</td><td>AQW_123.88_+38.85</td></tr>\n",
       "<tr><td>123.99609</td><td>38.879939</td><td>APOGEE_SHARED</td><td>science</td><td>4555536623</td><td>2MASS-J08155907+3852477</td><td>mwm_planet_tess</td><td>7.036</td><td>9.0053</td><td>8.3673</td><td>9.5365</td><td>2020.8</td><td>15026</td><td>AQW_123.88_+38.85</td></tr>\n",
       "<tr><td>124.80127</td><td>38.547928</td><td>APOGEE_SHARED</td><td>science</td><td>4555548610</td><td>2MASS-J08191229+3832526</td><td>mwm_planet_tess</td><td>8.274</td><td>8.6313</td><td>8.4992</td><td>8.7271</td><td>2020.8</td><td>15026</td><td>AQW_123.88_+38.85</td></tr>\n",
       "</table>"
      ],
      "text/plain": [
       "<Table length=398>\n",
       "target_ra target_dec    holetype   ...  epoch  plate       field      \n",
       " float64   float64       str13     ... float64 int64      bytes200    \n",
       "--------- ---------- ------------- ... ------- ----- -----------------\n",
       "2.5314287  27.629205 APOGEE_SHARED ...  2020.8 15004 AQM_001.85_+26.44\n",
       "2.3777257   27.31645 APOGEE_SHARED ...  2020.8 15004 AQM_001.85_+26.44\n",
       "2.2492676  27.666838 APOGEE_SHARED ...  2020.8 15004 AQM_001.85_+26.44\n",
       "2.5787315  27.539313 APOGEE_SHARED ...  2020.8 15004 AQM_001.85_+26.44\n",
       "2.3601101  27.496561 APOGEE_SHARED ...  2020.8 15004 AQM_001.85_+26.44\n",
       "3.3869881  26.819795 APOGEE_SHARED ...  2020.8 15004 AQM_001.85_+26.44\n",
       "3.0179016  26.516625 APOGEE_SHARED ...  2020.8 15004 AQM_001.85_+26.44\n",
       "3.1523758  26.252226 APOGEE_SHARED ...  2020.8 15004 AQM_001.85_+26.44\n",
       "9.5389084    25.8872 APOGEE_SHARED ...  2020.8 15006 AQM_009.32_+25.53\n",
       "8.6989824  26.065578 APOGEE_SHARED ...  2020.8 15006 AQM_009.32_+25.53\n",
       "      ...        ...           ... ...     ...   ...               ...\n",
       "124.85103  39.863622 APOGEE_SHARED ...  2020.8 15026 AQW_123.88_+38.85\n",
       " 123.6059  37.584992 APOGEE_SHARED ...  2020.8 15026 AQW_123.88_+38.85\n",
       "125.25693  39.419972 APOGEE_SHARED ...  2020.8 15026 AQW_123.88_+38.85\n",
       "124.18519  38.718811 APOGEE_SHARED ...  2020.8 15026 AQW_123.88_+38.85\n",
       "124.83932  40.074126 APOGEE_SHARED ...  2020.8 15026 AQW_123.88_+38.85\n",
       "122.51053  37.902086 APOGEE_SHARED ...  2020.8 15026 AQW_123.88_+38.85\n",
       "124.29993  40.303196 APOGEE_SHARED ...  2020.8 15026 AQW_123.88_+38.85\n",
       "123.50571  39.485818 APOGEE_SHARED ...  2020.8 15026 AQW_123.88_+38.85\n",
       "123.99609  38.879939 APOGEE_SHARED ...  2020.8 15026 AQW_123.88_+38.85\n",
       "124.80127  38.547928 APOGEE_SHARED ...  2020.8 15026 AQW_123.88_+38.85"
      ]
     },
     "execution_count": 80,
     "metadata": {},
     "output_type": "execute_result"
    }
   ],
   "source": [
    "# also works for a full plate run!\n",
    "planet_targets.assigned_info(prun_c)"
   ]
  },
  {
   "cell_type": "code",
   "execution_count": null,
   "metadata": {},
   "outputs": [],
   "source": [
    "# Get fiber information for the assigned targets\n",
    "planet_targets.assigned_info(plate_run_2020_08_c)"
   ]
  }
 ],
 "metadata": {
  "kernelspec": {
   "display_name": "Python 3",
   "language": "python",
   "name": "python3"
  },
  "language_info": {
   "codemirror_mode": {
    "name": "ipython",
    "version": 3
   },
   "file_extension": ".py",
   "mimetype": "text/x-python",
   "name": "python",
   "nbconvert_exporter": "python",
   "pygments_lexer": "ipython3",
   "version": "3.8.5"
  }
 },
 "nbformat": 4,
 "nbformat_minor": 4
}
