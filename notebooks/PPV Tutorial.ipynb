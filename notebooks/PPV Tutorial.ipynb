{
 "cells": [
  {
   "cell_type": "code",
   "execution_count": 1,
   "metadata": {},
   "outputs": [],
   "source": [
    "from ppv.plate import Plate\n",
    "from ppv.targets import Targets"
   ]
  },
  {
   "cell_type": "code",
   "execution_count": 2,
   "metadata": {},
   "outputs": [],
   "source": [
    "from pathlib import Path"
   ]
  },
  {
   "cell_type": "code",
   "execution_count": 3,
   "metadata": {},
   "outputs": [],
   "source": [
    "from astropy.table import Table"
   ]
  },
  {
   "cell_type": "code",
   "execution_count": 4,
   "metadata": {},
   "outputs": [],
   "source": [
    "# Loading target data\n",
    "# This could be done with a string path as well, e.g.\n",
    "# Table.read('../data/raw/mwm_planet_0.1.0_targetdb.fits.gz')\n",
    "data_dir = Path.cwd().parent / 'data/raw'\n",
    "\n",
    "selected_file = data_dir / 'mwm_planet_0.1.0.fits.gz'\n",
    "sel_targDB_file = data_dir / 'mwm_planet_0.1.0_targetdb.fits.gz'\n",
    "\n",
    "sel_targ = Table.read(selected_file.as_posix())\n",
    "sel_targDB = Table.read(sel_targDB_file.as_posix())\n",
    "\n",
    "sel_targ.sort('catalogid')\n",
    "sel_targDB.sort('catalogid')"
   ]
  },
  {
   "cell_type": "code",
   "execution_count": 5,
   "metadata": {},
   "outputs": [
    {
     "name": "stdout",
     "output_type": "stream",
     "text": [
      "Assuming RA, Dec are in degrees and 2015.5 epoch\n"
     ]
    }
   ],
   "source": [
    "targs = Targets(sel_targDB['ra'], sel_targDB['dec'], catalogid=sel_targDB['catalogid'],\n",
    "                ancillary=sel_targDB)\n",
    "# TODO create Targets instance given a table and column names\n",
    "# catalogid is doing the matching now\n",
    "# MAYBE todo for creating a target list using only RA, DEC"
   ]
  },
  {
   "cell_type": "code",
   "execution_count": 6,
   "metadata": {},
   "outputs": [
    {
     "data": {
      "text/html": [
       "<i>Table masked=True length=177494</i>\n",
       "<table id=\"table139815866233232\" class=\"table-striped table-bordered table-condensed\">\n",
       "<thead><tr><th>pk</th><th>catalogid</th><th>dec</th><th>epoch</th><th>pmdec</th><th>pmra</th><th>ra</th><th>parallax</th><th>bp</th><th>g</th><th>h</th><th>i</th><th>z</th><th>r</th><th>rp</th><th>carton_to_target_pk</th><th>priority</th><th>cadence</th></tr></thead>\n",
       "<thead><tr><th>int64</th><th>int64</th><th>float64</th><th>float64</th><th>float64</th><th>float64</th><th>float64</th><th>float64</th><th>float64</th><th>float64</th><th>float64</th><th>float64</th><th>float64</th><th>float64</th><th>float64</th><th>int64</th><th>int64</th><th>float64</th></tr></thead>\n",
       "<tr><td>63128636</td><td>4204692671</td><td>35.507055260891356</td><td>2015.5</td><td>-36.4324</td><td>34.6195</td><td>314.70504810300645</td><td>11.1113</td><td>8.74085</td><td>nan</td><td>7.393</td><td>nan</td><td>nan</td><td>nan</td><td>8.07442</td><td>218987647</td><td>2610</td><td>nan</td></tr>\n",
       "<tr><td>57281472</td><td>4204692773</td><td>35.50585877723215</td><td>2015.5</td><td>-92.3778</td><td>151.013</td><td>314.66064946047004</td><td>23.4859</td><td>15.6522</td><td>nan</td><td>10.521</td><td>nan</td><td>nan</td><td>nan</td><td>12.8586</td><td>218987648</td><td>2610</td><td>nan</td></tr>\n",
       "<tr><td>63101230</td><td>4204705857</td><td>35.750017280889864</td><td>2015.5</td><td>-112.74</td><td>-37.48</td><td>315.73247022276047</td><td>nan</td><td>14.8873</td><td>nan</td><td>11.28</td><td>nan</td><td>nan</td><td>nan</td><td>13.0938</td><td>218959611</td><td>2610</td><td>nan</td></tr>\n",
       "<tr><td>63101280</td><td>4204751665</td><td>35.79906594737839</td><td>2015.5</td><td>25.9392</td><td>62.7519</td><td>315.9418524168014</td><td>10.2483</td><td>16.4312</td><td>nan</td><td>11.855</td><td>nan</td><td>nan</td><td>nan</td><td>13.9626</td><td>218959663</td><td>2610</td><td>nan</td></tr>\n",
       "<tr><td>63141685</td><td>4204795388</td><td>36.122443909280605</td><td>2015.5</td><td>-11.631</td><td>-4.35563</td><td>315.1820345516224</td><td>1.65869</td><td>10.0473</td><td>nan</td><td>7.42</td><td>nan</td><td>nan</td><td>nan</td><td>8.80032</td><td>219001034</td><td>2610</td><td>nan</td></tr>\n",
       "<tr><td>63111952</td><td>4204838200</td><td>36.05874842739879</td><td>2015.5</td><td>-15.6165</td><td>-6.71725</td><td>314.0372156740294</td><td>2.00129</td><td>9.43157</td><td>nan</td><td>7.027</td><td>nan</td><td>nan</td><td>nan</td><td>8.30159</td><td>218970651</td><td>2610</td><td>nan</td></tr>\n",
       "<tr><td>63148114</td><td>4204854273</td><td>36.18418878487504</td><td>2015.5</td><td>39.7188</td><td>56.5939</td><td>314.46160167212315</td><td>14.434</td><td>17.0588</td><td>nan</td><td>11.736</td><td>nan</td><td>nan</td><td>nan</td><td>14.1327</td><td>219007662</td><td>2610</td><td>nan</td></tr>\n",
       "<tr><td>62623544</td><td>4204858177</td><td>36.30326757290942</td><td>2015.5</td><td>-1.61374</td><td>-2.53463</td><td>314.5372096071181</td><td>1.27015</td><td>10.0331</td><td>nan</td><td>8.997</td><td>nan</td><td>nan</td><td>nan</td><td>9.53599</td><td>219007661</td><td>2610</td><td>nan</td></tr>\n",
       "<tr><td>63111953</td><td>4204901910</td><td>36.48058908374484</td><td>2015.5</td><td>-57.3538</td><td>-1.58167</td><td>314.0746138258047</td><td>6.30548</td><td>15.1859</td><td>nan</td><td>11.157</td><td>nan</td><td>nan</td><td>nan</td><td>13.1221</td><td>218970652</td><td>2610</td><td>nan</td></tr>\n",
       "<tr><td>63111966</td><td>4204917314</td><td>36.39666492626859</td><td>2015.5</td><td>-45.7549</td><td>-22.8477</td><td>314.6799511851121</td><td>9.97825</td><td>16.0079</td><td>nan</td><td>11.327</td><td>nan</td><td>nan</td><td>nan</td><td>13.518</td><td>218970667</td><td>2610</td><td>nan</td></tr>\n",
       "<tr><td>...</td><td>...</td><td>...</td><td>...</td><td>...</td><td>...</td><td>...</td><td>...</td><td>...</td><td>...</td><td>...</td><td>...</td><td>...</td><td>...</td><td>...</td><td>...</td><td>...</td><td>...</td></tr>\n",
       "<tr><td>63106501</td><td>5932664785</td><td>-36.1239125510786</td><td>2015.5</td><td>-9.25399</td><td>54.9248</td><td>45.486779630229584</td><td>13.2769</td><td>17.7765</td><td>nan</td><td>11.757</td><td>nan</td><td>nan</td><td>nan</td><td>14.3888</td><td>218965026</td><td>2610</td><td>nan</td></tr>\n",
       "<tr><td>63117662</td><td>5932665261</td><td>-35.912798010508304</td><td>2015.5</td><td>46.805</td><td>22.4345</td><td>45.985504775875796</td><td>7.3766</td><td>9.52926</td><td>nan</td><td>8.309</td><td>nan</td><td>nan</td><td>nan</td><td>8.90232</td><td>218976476</td><td>2610</td><td>nan</td></tr>\n",
       "<tr><td>63163216</td><td>5932665613</td><td>-36.45642712636279</td><td>2015.5</td><td>-21.3067</td><td>14.4253</td><td>44.1235864142832</td><td>nan</td><td>16.5659</td><td>nan</td><td>11.898</td><td>nan</td><td>nan</td><td>nan</td><td>14.0126</td><td>219023235</td><td>2610</td><td>nan</td></tr>\n",
       "<tr><td>63163209</td><td>5932665963</td><td>-36.244203345429995</td><td>2015.5</td><td>67.567</td><td>34.5773</td><td>43.84959597977311</td><td>21.6585</td><td>11.3753</td><td>nan</td><td>8.187</td><td>nan</td><td>nan</td><td>nan</td><td>9.80724</td><td>219023228</td><td>2610</td><td>nan</td></tr>\n",
       "<tr><td>63163217</td><td>5932666418</td><td>-36.153737269566626</td><td>2015.5</td><td>-265.575</td><td>-172.933</td><td>44.19639814238757</td><td>14.576</td><td>9.96724</td><td>nan</td><td>8.118</td><td>nan</td><td>nan</td><td>nan</td><td>9.059</td><td>219023236</td><td>2610</td><td>nan</td></tr>\n",
       "<tr><td>63072855</td><td>5932667443</td><td>-35.89314802597019</td><td>2015.5</td><td>-0.515501</td><td>24.0675</td><td>43.79221221065847</td><td>1.39136</td><td>10.3808</td><td>nan</td><td>7.541</td><td>nan</td><td>nan</td><td>nan</td><td>9.0652</td><td>218930485</td><td>2610</td><td>nan</td></tr>\n",
       "<tr><td>63117638</td><td>5932667724</td><td>-35.93729101794876</td><td>2015.5</td><td>75.0634</td><td>252.795</td><td>45.1760884472495</td><td>17.2208</td><td>9.38226</td><td>nan</td><td>7.548</td><td>nan</td><td>nan</td><td>nan</td><td>8.48438</td><td>218976451</td><td>2610</td><td>nan</td></tr>\n",
       "<tr><td>63117629</td><td>5932667918</td><td>-35.85892566596591</td><td>2015.5</td><td>-15.0535</td><td>29.4027</td><td>44.65731779010968</td><td>1.42199</td><td>10.2818</td><td>nan</td><td>7.602</td><td>nan</td><td>nan</td><td>nan</td><td>9.04155</td><td>218976442</td><td>2610</td><td>nan</td></tr>\n",
       "<tr><td>63117639</td><td>5932668409</td><td>-35.68156110991912</td><td>2015.5</td><td>-143.386</td><td>-37.7324</td><td>45.325444629919154</td><td>13.2851</td><td>14.1559</td><td>nan</td><td>9.953</td><td>nan</td><td>nan</td><td>nan</td><td>11.9188</td><td>218976452</td><td>2610</td><td>nan</td></tr>\n",
       "<tr><td>63117640</td><td>5932668452</td><td>-35.64521813410422</td><td>2015.5</td><td>-19.2431</td><td>43.9597</td><td>45.31606533459471</td><td>6.21664</td><td>11.1976</td><td>nan</td><td>9.22</td><td>nan</td><td>nan</td><td>nan</td><td>10.2438</td><td>218976453</td><td>2610</td><td>nan</td></tr>\n",
       "</table>"
      ],
      "text/plain": [
       "<Table masked=True length=177494>\n",
       "   pk    catalogid          dec         ... carton_to_target_pk priority cadence\n",
       " int64     int64          float64       ...        int64         int64   float64\n",
       "-------- ---------- ------------------- ... ------------------- -------- -------\n",
       "63128636 4204692671  35.507055260891356 ...           218987647     2610     nan\n",
       "57281472 4204692773   35.50585877723215 ...           218987648     2610     nan\n",
       "63101230 4204705857  35.750017280889864 ...           218959611     2610     nan\n",
       "63101280 4204751665   35.79906594737839 ...           218959663     2610     nan\n",
       "63141685 4204795388  36.122443909280605 ...           219001034     2610     nan\n",
       "63111952 4204838200   36.05874842739879 ...           218970651     2610     nan\n",
       "63148114 4204854273   36.18418878487504 ...           219007662     2610     nan\n",
       "62623544 4204858177   36.30326757290942 ...           219007661     2610     nan\n",
       "63111953 4204901910   36.48058908374484 ...           218970652     2610     nan\n",
       "63111966 4204917314   36.39666492626859 ...           218970667     2610     nan\n",
       "     ...        ...                 ... ...                 ...      ...     ...\n",
       "63106501 5932664785   -36.1239125510786 ...           218965026     2610     nan\n",
       "63117662 5932665261 -35.912798010508304 ...           218976476     2610     nan\n",
       "63163216 5932665613  -36.45642712636279 ...           219023235     2610     nan\n",
       "63163209 5932665963 -36.244203345429995 ...           219023228     2610     nan\n",
       "63163217 5932666418 -36.153737269566626 ...           219023236     2610     nan\n",
       "63072855 5932667443  -35.89314802597019 ...           218930485     2610     nan\n",
       "63117638 5932667724  -35.93729101794876 ...           218976451     2610     nan\n",
       "63117629 5932667918  -35.85892566596591 ...           218976442     2610     nan\n",
       "63117639 5932668409  -35.68156110991912 ...           218976452     2610     nan\n",
       "63117640 5932668452  -35.64521813410422 ...           218976453     2610     nan"
      ]
     },
     "execution_count": 6,
     "metadata": {},
     "output_type": "execute_result"
    }
   ],
   "source": [
    "targs.data"
   ]
  },
  {
   "cell_type": "code",
   "execution_count": 7,
   "metadata": {},
   "outputs": [
    {
     "data": {
      "text/plain": [
       "<SkyCoord (ICRS): (ra, dec) in deg\n",
       "    [(314.7050481 ,  35.50705526), (314.66064946,  35.50585878),\n",
       "     (315.73247022,  35.75001728), ..., ( 44.65731779, -35.85892567),\n",
       "     ( 45.32544463, -35.68156111), ( 45.31606533, -35.64521813)]>"
      ]
     },
     "execution_count": 7,
     "metadata": {},
     "output_type": "execute_result"
    }
   ],
   "source": [
    "\n",
    "targs.coords"
   ]
  },
  {
   "cell_type": "code",
   "execution_count": 8,
   "metadata": {},
   "outputs": [
    {
     "data": {
      "text/html": [
       "&lt;MaskedColumn name=&apos;catalogid&apos; dtype=&apos;int64&apos; length=177494&gt;\n",
       "<table>\n",
       "<tr><td>4204692671</td></tr>\n",
       "<tr><td>4204692773</td></tr>\n",
       "<tr><td>4204705857</td></tr>\n",
       "<tr><td>4204751665</td></tr>\n",
       "<tr><td>4204795388</td></tr>\n",
       "<tr><td>4204838200</td></tr>\n",
       "<tr><td>4204854273</td></tr>\n",
       "<tr><td>4204858177</td></tr>\n",
       "<tr><td>4204901910</td></tr>\n",
       "<tr><td>4204917314</td></tr>\n",
       "<tr><td>4204926522</td></tr>\n",
       "<tr><td>4204933546</td></tr>\n",
       "<tr><td>...</td></tr>\n",
       "<tr><td>5932663258</td></tr>\n",
       "<tr><td>5932664728</td></tr>\n",
       "<tr><td>5932664785</td></tr>\n",
       "<tr><td>5932665261</td></tr>\n",
       "<tr><td>5932665613</td></tr>\n",
       "<tr><td>5932665963</td></tr>\n",
       "<tr><td>5932666418</td></tr>\n",
       "<tr><td>5932667443</td></tr>\n",
       "<tr><td>5932667724</td></tr>\n",
       "<tr><td>5932667918</td></tr>\n",
       "<tr><td>5932668409</td></tr>\n",
       "<tr><td>5932668452</td></tr>\n",
       "</table>"
      ],
      "text/plain": [
       "<MaskedColumn name='catalogid' dtype='int64' length=177494>\n",
       "4204692671\n",
       "4204692773\n",
       "4204705857\n",
       "4204751665\n",
       "4204795388\n",
       "4204838200\n",
       "4204854273\n",
       "4204858177\n",
       "4204901910\n",
       "4204917314\n",
       "4204926522\n",
       "4204933546\n",
       "       ...\n",
       "5932663258\n",
       "5932664728\n",
       "5932664785\n",
       "5932665261\n",
       "5932665613\n",
       "5932665963\n",
       "5932666418\n",
       "5932667443\n",
       "5932667724\n",
       "5932667918\n",
       "5932668409\n",
       "5932668452"
      ]
     },
     "execution_count": 8,
     "metadata": {},
     "output_type": "execute_result"
    }
   ],
   "source": [
    "targs.catalogid"
   ]
  },
  {
   "cell_type": "code",
   "execution_count": 9,
   "metadata": {},
   "outputs": [],
   "source": [
    "# Lets look at a plate \n",
    "platenum = 15004\n",
    "\n",
    "p15004 = Plate(15004)"
   ]
  },
  {
   "cell_type": "code",
   "execution_count": 10,
   "metadata": {},
   "outputs": [
    {
     "name": "stdout",
     "output_type": "stream",
     "text": [
      "Plate: 15004; RA: 1.845703; Dec: 26.443334\n"
     ]
    },
    {
     "data": {
      "text/plain": [
       "Plate(15004)"
      ]
     },
     "execution_count": 10,
     "metadata": {},
     "output_type": "execute_result"
    }
   ],
   "source": [
    "print(p15004)\n",
    "p15004"
   ]
  },
  {
   "cell_type": "code",
   "execution_count": 11,
   "metadata": {},
   "outputs": [],
   "source": [
    "import numpy as np"
   ]
  },
  {
   "cell_type": "code",
   "execution_count": 12,
   "metadata": {},
   "outputs": [
    {
     "name": "stdout",
     "output_type": "stream",
     "text": [
      "CPU times: user 106 µs, sys: 92 µs, total: 198 µs\n",
      "Wall time: 204 µs\n"
     ]
    },
    {
     "data": {
      "text/plain": [
       "array([], dtype=int64)"
      ]
     },
     "execution_count": 12,
     "metadata": {},
     "output_type": "execute_result"
    }
   ],
   "source": [
    "%time np.where(p15004.targets['catalogid'] == targs.catalogid[0])[0]"
   ]
  },
  {
   "cell_type": "code",
   "execution_count": 13,
   "metadata": {},
   "outputs": [
    {
     "data": {
      "text/html": [
       "<i>Table length=835</i>\n",
       "<table id=\"table139817528471504\" class=\"table-striped table-bordered table-condensed\">\n",
       "<thead><tr><th>target_ra</th><th>target_dec</th><th>holetype</th><th>targettype</th><th>catalogid</th><th>tmass_id</th><th>firstcarton</th><th>tmass_h</th><th>gaia_g</th><th>gaia_rp</th><th>gaia_bp</th><th>epoch</th><th>plate</th></tr></thead>\n",
       "<thead><tr><th>float64</th><th>float64</th><th>str13</th><th>str8</th><th>uint64</th><th>str23</th><th>str19</th><th>float64</th><th>float64</th><th>float64</th><th>float64</th><th>float64</th><th>int64</th></tr></thead>\n",
       "<tr><td>0.0</td><td>0.0</td><td>CENTER</td><td>NA</td><td>0</td><td>NA</td><td>NA</td><td>-9999.0</td><td>0.0</td><td>0.0</td><td>0.0</td><td>2020.8</td><td>15004</td></tr>\n",
       "<tr><td>2.3022188</td><td>26.839717</td><td>BOSS_SHARED</td><td>science</td><td>4402832120</td><td>2MASS-J00091250+2650230</td><td>bhm_aqmes_med</td><td>16.475</td><td>17.6381</td><td>17.3689</td><td>17.6729</td><td>2020.8</td><td>15004</td></tr>\n",
       "<tr><td>0.4196239</td><td>26.073782</td><td>BOSS_SHARED</td><td>science</td><td>4400708300</td><td>None</td><td>bhm_aqmes_med</td><td>-9.99999</td><td>19.1244</td><td>18.6681</td><td>19.3397</td><td>2020.8</td><td>15004</td></tr>\n",
       "<tr><td>1.127178</td><td>25.730631</td><td>BOSS_SHARED</td><td>science</td><td>4400706485</td><td>None</td><td>bhm_aqmes_med</td><td>-9.99999</td><td>18.5271</td><td>18.1093</td><td>18.636</td><td>2020.8</td><td>15004</td></tr>\n",
       "<tr><td>0.3114712</td><td>26.690989</td><td>BOSS_SHARED</td><td>science</td><td>4402817510</td><td>None</td><td>bhm_aqmes_med</td><td>-9.99999</td><td>18.0585</td><td>17.6746</td><td>18.1992</td><td>2020.8</td><td>15004</td></tr>\n",
       "<tr><td>1.2285048</td><td>25.531598</td><td>BOSS_SHARED</td><td>science</td><td>4400706076</td><td>None</td><td>bhm_aqmes_med</td><td>-9.99999</td><td>18.7186</td><td>18.2931</td><td>18.8423</td><td>2020.8</td><td>15004</td></tr>\n",
       "<tr><td>1.5229276</td><td>25.379252</td><td>BOSS_SHARED</td><td>science</td><td>4400705517</td><td>None</td><td>bhm_aqmes_med</td><td>-9.99999</td><td>18.4583</td><td>17.9959</td><td>18.6406</td><td>2020.8</td><td>15004</td></tr>\n",
       "<tr><td>0.3186912</td><td>26.549428</td><td>BOSS_SHARED</td><td>science</td><td>4400710148</td><td>2MASS-J00011648+2632580</td><td>bhm_aqmes_med</td><td>15.15</td><td>18.6231</td><td>17.2762</td><td>18.3915</td><td>2020.8</td><td>15004</td></tr>\n",
       "<tr><td>2.8022426</td><td>26.02159</td><td>BOSS_SHARED</td><td>science</td><td>4400724447</td><td>None</td><td>bhm_aqmes_med</td><td>-9.99999</td><td>18.8746</td><td>18.5293</td><td>19.0061</td><td>2020.8</td><td>15004</td></tr>\n",
       "<tr><td>1.4024277</td><td>26.42032</td><td>BOSS_SHARED</td><td>science</td><td>4400713931</td><td>None</td><td>bhm_aqmes_med</td><td>-9.99999</td><td>18.973</td><td>18.3108</td><td>19.3651</td><td>2020.8</td><td>15004</td></tr>\n",
       "<tr><td>...</td><td>...</td><td>...</td><td>...</td><td>...</td><td>...</td><td>...</td><td>...</td><td>...</td><td>...</td><td>...</td><td>...</td><td>...</td></tr>\n",
       "<tr><td>0.0</td><td>0.0</td><td>ALIGNMENT</td><td>NA</td><td>0</td><td>NA</td><td>NA</td><td>-9999.0</td><td>0.0</td><td>0.0</td><td>0.0</td><td>2011.0</td><td>15004</td></tr>\n",
       "<tr><td>0.0</td><td>0.0</td><td>ALIGNMENT</td><td>NA</td><td>0</td><td>NA</td><td>NA</td><td>-9999.0</td><td>0.0</td><td>0.0</td><td>0.0</td><td>2011.0</td><td>15004</td></tr>\n",
       "<tr><td>0.0</td><td>0.0</td><td>ALIGNMENT</td><td>NA</td><td>0</td><td>NA</td><td>NA</td><td>-9999.0</td><td>0.0</td><td>0.0</td><td>0.0</td><td>2011.0</td><td>15004</td></tr>\n",
       "<tr><td>0.0</td><td>0.0</td><td>ALIGNMENT</td><td>NA</td><td>0</td><td>NA</td><td>NA</td><td>-9999.0</td><td>0.0</td><td>0.0</td><td>0.0</td><td>2011.0</td><td>15004</td></tr>\n",
       "<tr><td>0.0</td><td>0.0</td><td>ALIGNMENT</td><td>NA</td><td>0</td><td>NA</td><td>NA</td><td>-9999.0</td><td>0.0</td><td>0.0</td><td>0.0</td><td>2011.0</td><td>15004</td></tr>\n",
       "<tr><td>0.0</td><td>0.0</td><td>ALIGNMENT</td><td>NA</td><td>0</td><td>NA</td><td>NA</td><td>-9999.0</td><td>0.0</td><td>0.0</td><td>0.0</td><td>2011.0</td><td>15004</td></tr>\n",
       "<tr><td>0.0</td><td>0.0</td><td>ALIGNMENT</td><td>NA</td><td>0</td><td>NA</td><td>NA</td><td>-9999.0</td><td>0.0</td><td>0.0</td><td>0.0</td><td>2011.0</td><td>15004</td></tr>\n",
       "<tr><td>0.0</td><td>0.0</td><td>ALIGNMENT</td><td>NA</td><td>0</td><td>NA</td><td>NA</td><td>-9999.0</td><td>0.0</td><td>0.0</td><td>0.0</td><td>2011.0</td><td>15004</td></tr>\n",
       "<tr><td>0.0</td><td>0.0</td><td>ALIGNMENT</td><td>NA</td><td>0</td><td>NA</td><td>NA</td><td>-9999.0</td><td>0.0</td><td>0.0</td><td>0.0</td><td>2011.0</td><td>15004</td></tr>\n",
       "<tr><td>0.0</td><td>0.0</td><td>ALIGNMENT</td><td>NA</td><td>0</td><td>NA</td><td>NA</td><td>-9999.0</td><td>0.0</td><td>0.0</td><td>0.0</td><td>2011.0</td><td>15004</td></tr>\n",
       "</table>"
      ],
      "text/plain": [
       "<Table length=835>\n",
       "target_ra target_dec   holetype  targettype ... gaia_rp gaia_bp  epoch  plate\n",
       " float64   float64      str13       str8    ... float64 float64 float64 int64\n",
       "--------- ---------- ----------- ---------- ... ------- ------- ------- -----\n",
       "      0.0        0.0      CENTER         NA ...     0.0     0.0  2020.8 15004\n",
       "2.3022188  26.839717 BOSS_SHARED    science ... 17.3689 17.6729  2020.8 15004\n",
       "0.4196239  26.073782 BOSS_SHARED    science ... 18.6681 19.3397  2020.8 15004\n",
       " 1.127178  25.730631 BOSS_SHARED    science ... 18.1093  18.636  2020.8 15004\n",
       "0.3114712  26.690989 BOSS_SHARED    science ... 17.6746 18.1992  2020.8 15004\n",
       "1.2285048  25.531598 BOSS_SHARED    science ... 18.2931 18.8423  2020.8 15004\n",
       "1.5229276  25.379252 BOSS_SHARED    science ... 17.9959 18.6406  2020.8 15004\n",
       "0.3186912  26.549428 BOSS_SHARED    science ... 17.2762 18.3915  2020.8 15004\n",
       "2.8022426   26.02159 BOSS_SHARED    science ... 18.5293 19.0061  2020.8 15004\n",
       "1.4024277   26.42032 BOSS_SHARED    science ... 18.3108 19.3651  2020.8 15004\n",
       "      ...        ...         ...        ... ...     ...     ...     ...   ...\n",
       "      0.0        0.0   ALIGNMENT         NA ...     0.0     0.0  2011.0 15004\n",
       "      0.0        0.0   ALIGNMENT         NA ...     0.0     0.0  2011.0 15004\n",
       "      0.0        0.0   ALIGNMENT         NA ...     0.0     0.0  2011.0 15004\n",
       "      0.0        0.0   ALIGNMENT         NA ...     0.0     0.0  2011.0 15004\n",
       "      0.0        0.0   ALIGNMENT         NA ...     0.0     0.0  2011.0 15004\n",
       "      0.0        0.0   ALIGNMENT         NA ...     0.0     0.0  2011.0 15004\n",
       "      0.0        0.0   ALIGNMENT         NA ...     0.0     0.0  2011.0 15004\n",
       "      0.0        0.0   ALIGNMENT         NA ...     0.0     0.0  2011.0 15004\n",
       "      0.0        0.0   ALIGNMENT         NA ...     0.0     0.0  2011.0 15004\n",
       "      0.0        0.0   ALIGNMENT         NA ...     0.0     0.0  2011.0 15004"
      ]
     },
     "execution_count": 13,
     "metadata": {},
     "output_type": "execute_result"
    }
   ],
   "source": [
    "p15004.targets"
   ]
  },
  {
   "cell_type": "code",
   "execution_count": 14,
   "metadata": {},
   "outputs": [
    {
     "name": "stdout",
     "output_type": "stream",
     "text": [
      "[   'STRUCT1',\n",
      "    'plateId',\n",
      "    'ha',\n",
      "    'ha_observable_min',\n",
      "    'ha_observable_max',\n",
      "    'programname',\n",
      "    'temp',\n",
      "    'design_platescale_alt',\n",
      "    'design_platescale_az',\n",
      "    'design_parallactic_angle',\n",
      "    'guider_coeff_0',\n",
      "    'guider_coeff_1',\n",
      "    'guider_coeff_2',\n",
      "    'guider_coeff_3',\n",
      "    'guider_coeff_4',\n",
      "    'guider_coeff_5',\n",
      "    'guider_coeff_6',\n",
      "    'guider_coeff_7',\n",
      "    'guider_coeff_8',\n",
      "    'guider_coeff_9',\n",
      "    'locationId',\n",
      "    'instruments',\n",
      "    'npointings',\n",
      "    'noffsets',\n",
      "    'maxskyinblockboss_shared',\n",
      "    'minskyinblockboss_shared',\n",
      "    'gfibertype',\n",
      "    'guidetype',\n",
      "    'guidenums1',\n",
      "    'guidemag_minmax',\n",
      "    'guide_lambda_eff',\n",
      "    'nguidemax',\n",
      "    'ferrulesizeboss_shared',\n",
      "    'buffersizeboss_shared',\n",
      "    'ferrulesizeapogee_shared',\n",
      "    'buffersizeapogee_shared',\n",
      "    'ferrulesizeguide',\n",
      "    'buffersizeguide',\n",
      "    'platedesignstandards',\n",
      "    'standardtype',\n",
      "    'platedesignskies',\n",
      "    'skytype',\n",
      "    'plugmapstyle',\n",
      "    'bossmagtype',\n",
      "    'pointing_name',\n",
      "    'max_off_fiber_for_ha',\n",
      "    'collectfactor',\n",
      "    'designid',\n",
      "    'platedesignversion',\n",
      "    'platetype',\n",
      "    'raCen',\n",
      "    'decCen',\n",
      "    'ninputs',\n",
      "    'plateinput1',\n",
      "    'plateinput2',\n",
      "    'plateinput3',\n",
      "    'plateinput4',\n",
      "    'plateinput5',\n",
      "    'plateinput6',\n",
      "    'plateinput7',\n",
      "    'plateinput8',\n",
      "    'plateinput9',\n",
      "    'plateinput10',\n",
      "    'plateinput11',\n",
      "    'plateinput12',\n",
      "    'plateinput13',\n",
      "    'plateinput14',\n",
      "    'plateinput15',\n",
      "    'skyinput16',\n",
      "    'plateinput17',\n",
      "    'priority',\n",
      "    'relaxed_fiber_classes',\n",
      "    'targettypes',\n",
      "    'napogee_shared_standard',\n",
      "    'napogee_shared_science',\n",
      "    'napogee_shared_sky',\n",
      "    'nboss_shared_standard',\n",
      "    'nboss_shared_science',\n",
      "    'nboss_shared_sky',\n",
      "    'minstandardinblockboss_shared',\n",
      "    'reddeningMed',\n",
      "    'tileId',\n",
      "    'theta',\n",
      "    'platerun',\n",
      "    'platedesign_version']\n"
     ]
    }
   ],
   "source": [
    "p15004.properties()"
   ]
  },
  {
   "cell_type": "code",
   "execution_count": 15,
   "metadata": {},
   "outputs": [
    {
     "name": "stdout",
     "output_type": "stream",
     "text": [
      "2020.08.c.bhm-mwm AQMES-Medium\n"
     ]
    }
   ],
   "source": [
    "print(p15004.property('platerun'), p15004.property('programname'))"
   ]
  },
  {
   "cell_type": "code",
   "execution_count": 16,
   "metadata": {},
   "outputs": [
    {
     "data": {
      "text/html": [
       "<i>Table length=835</i>\n",
       "<table id=\"table139817528471504\" class=\"table-striped table-bordered table-condensed\">\n",
       "<thead><tr><th>target_ra</th><th>target_dec</th><th>holetype</th><th>targettype</th><th>catalogid</th><th>tmass_id</th><th>firstcarton</th><th>tmass_h</th><th>gaia_g</th><th>gaia_rp</th><th>gaia_bp</th><th>epoch</th><th>plate</th></tr></thead>\n",
       "<thead><tr><th>float64</th><th>float64</th><th>str13</th><th>str8</th><th>uint64</th><th>str23</th><th>str19</th><th>float64</th><th>float64</th><th>float64</th><th>float64</th><th>float64</th><th>int64</th></tr></thead>\n",
       "<tr><td>0.0</td><td>0.0</td><td>CENTER</td><td>NA</td><td>0</td><td>NA</td><td>NA</td><td>-9999.0</td><td>0.0</td><td>0.0</td><td>0.0</td><td>2020.8</td><td>15004</td></tr>\n",
       "<tr><td>2.3022188</td><td>26.839717</td><td>BOSS_SHARED</td><td>science</td><td>4402832120</td><td>2MASS-J00091250+2650230</td><td>bhm_aqmes_med</td><td>16.475</td><td>17.6381</td><td>17.3689</td><td>17.6729</td><td>2020.8</td><td>15004</td></tr>\n",
       "<tr><td>0.4196239</td><td>26.073782</td><td>BOSS_SHARED</td><td>science</td><td>4400708300</td><td>None</td><td>bhm_aqmes_med</td><td>-9.99999</td><td>19.1244</td><td>18.6681</td><td>19.3397</td><td>2020.8</td><td>15004</td></tr>\n",
       "<tr><td>1.127178</td><td>25.730631</td><td>BOSS_SHARED</td><td>science</td><td>4400706485</td><td>None</td><td>bhm_aqmes_med</td><td>-9.99999</td><td>18.5271</td><td>18.1093</td><td>18.636</td><td>2020.8</td><td>15004</td></tr>\n",
       "<tr><td>0.3114712</td><td>26.690989</td><td>BOSS_SHARED</td><td>science</td><td>4402817510</td><td>None</td><td>bhm_aqmes_med</td><td>-9.99999</td><td>18.0585</td><td>17.6746</td><td>18.1992</td><td>2020.8</td><td>15004</td></tr>\n",
       "<tr><td>1.2285048</td><td>25.531598</td><td>BOSS_SHARED</td><td>science</td><td>4400706076</td><td>None</td><td>bhm_aqmes_med</td><td>-9.99999</td><td>18.7186</td><td>18.2931</td><td>18.8423</td><td>2020.8</td><td>15004</td></tr>\n",
       "<tr><td>1.5229276</td><td>25.379252</td><td>BOSS_SHARED</td><td>science</td><td>4400705517</td><td>None</td><td>bhm_aqmes_med</td><td>-9.99999</td><td>18.4583</td><td>17.9959</td><td>18.6406</td><td>2020.8</td><td>15004</td></tr>\n",
       "<tr><td>0.3186912</td><td>26.549428</td><td>BOSS_SHARED</td><td>science</td><td>4400710148</td><td>2MASS-J00011648+2632580</td><td>bhm_aqmes_med</td><td>15.15</td><td>18.6231</td><td>17.2762</td><td>18.3915</td><td>2020.8</td><td>15004</td></tr>\n",
       "<tr><td>2.8022426</td><td>26.02159</td><td>BOSS_SHARED</td><td>science</td><td>4400724447</td><td>None</td><td>bhm_aqmes_med</td><td>-9.99999</td><td>18.8746</td><td>18.5293</td><td>19.0061</td><td>2020.8</td><td>15004</td></tr>\n",
       "<tr><td>1.4024277</td><td>26.42032</td><td>BOSS_SHARED</td><td>science</td><td>4400713931</td><td>None</td><td>bhm_aqmes_med</td><td>-9.99999</td><td>18.973</td><td>18.3108</td><td>19.3651</td><td>2020.8</td><td>15004</td></tr>\n",
       "<tr><td>...</td><td>...</td><td>...</td><td>...</td><td>...</td><td>...</td><td>...</td><td>...</td><td>...</td><td>...</td><td>...</td><td>...</td><td>...</td></tr>\n",
       "<tr><td>0.0</td><td>0.0</td><td>ALIGNMENT</td><td>NA</td><td>0</td><td>NA</td><td>NA</td><td>-9999.0</td><td>0.0</td><td>0.0</td><td>0.0</td><td>2011.0</td><td>15004</td></tr>\n",
       "<tr><td>0.0</td><td>0.0</td><td>ALIGNMENT</td><td>NA</td><td>0</td><td>NA</td><td>NA</td><td>-9999.0</td><td>0.0</td><td>0.0</td><td>0.0</td><td>2011.0</td><td>15004</td></tr>\n",
       "<tr><td>0.0</td><td>0.0</td><td>ALIGNMENT</td><td>NA</td><td>0</td><td>NA</td><td>NA</td><td>-9999.0</td><td>0.0</td><td>0.0</td><td>0.0</td><td>2011.0</td><td>15004</td></tr>\n",
       "<tr><td>0.0</td><td>0.0</td><td>ALIGNMENT</td><td>NA</td><td>0</td><td>NA</td><td>NA</td><td>-9999.0</td><td>0.0</td><td>0.0</td><td>0.0</td><td>2011.0</td><td>15004</td></tr>\n",
       "<tr><td>0.0</td><td>0.0</td><td>ALIGNMENT</td><td>NA</td><td>0</td><td>NA</td><td>NA</td><td>-9999.0</td><td>0.0</td><td>0.0</td><td>0.0</td><td>2011.0</td><td>15004</td></tr>\n",
       "<tr><td>0.0</td><td>0.0</td><td>ALIGNMENT</td><td>NA</td><td>0</td><td>NA</td><td>NA</td><td>-9999.0</td><td>0.0</td><td>0.0</td><td>0.0</td><td>2011.0</td><td>15004</td></tr>\n",
       "<tr><td>0.0</td><td>0.0</td><td>ALIGNMENT</td><td>NA</td><td>0</td><td>NA</td><td>NA</td><td>-9999.0</td><td>0.0</td><td>0.0</td><td>0.0</td><td>2011.0</td><td>15004</td></tr>\n",
       "<tr><td>0.0</td><td>0.0</td><td>ALIGNMENT</td><td>NA</td><td>0</td><td>NA</td><td>NA</td><td>-9999.0</td><td>0.0</td><td>0.0</td><td>0.0</td><td>2011.0</td><td>15004</td></tr>\n",
       "<tr><td>0.0</td><td>0.0</td><td>ALIGNMENT</td><td>NA</td><td>0</td><td>NA</td><td>NA</td><td>-9999.0</td><td>0.0</td><td>0.0</td><td>0.0</td><td>2011.0</td><td>15004</td></tr>\n",
       "<tr><td>0.0</td><td>0.0</td><td>ALIGNMENT</td><td>NA</td><td>0</td><td>NA</td><td>NA</td><td>-9999.0</td><td>0.0</td><td>0.0</td><td>0.0</td><td>2011.0</td><td>15004</td></tr>\n",
       "</table>"
      ],
      "text/plain": [
       "<Table length=835>\n",
       "target_ra target_dec   holetype  targettype ... gaia_rp gaia_bp  epoch  plate\n",
       " float64   float64      str13       str8    ... float64 float64 float64 int64\n",
       "--------- ---------- ----------- ---------- ... ------- ------- ------- -----\n",
       "      0.0        0.0      CENTER         NA ...     0.0     0.0  2020.8 15004\n",
       "2.3022188  26.839717 BOSS_SHARED    science ... 17.3689 17.6729  2020.8 15004\n",
       "0.4196239  26.073782 BOSS_SHARED    science ... 18.6681 19.3397  2020.8 15004\n",
       " 1.127178  25.730631 BOSS_SHARED    science ... 18.1093  18.636  2020.8 15004\n",
       "0.3114712  26.690989 BOSS_SHARED    science ... 17.6746 18.1992  2020.8 15004\n",
       "1.2285048  25.531598 BOSS_SHARED    science ... 18.2931 18.8423  2020.8 15004\n",
       "1.5229276  25.379252 BOSS_SHARED    science ... 17.9959 18.6406  2020.8 15004\n",
       "0.3186912  26.549428 BOSS_SHARED    science ... 17.2762 18.3915  2020.8 15004\n",
       "2.8022426   26.02159 BOSS_SHARED    science ... 18.5293 19.0061  2020.8 15004\n",
       "1.4024277   26.42032 BOSS_SHARED    science ... 18.3108 19.3651  2020.8 15004\n",
       "      ...        ...         ...        ... ...     ...     ...     ...   ...\n",
       "      0.0        0.0   ALIGNMENT         NA ...     0.0     0.0  2011.0 15004\n",
       "      0.0        0.0   ALIGNMENT         NA ...     0.0     0.0  2011.0 15004\n",
       "      0.0        0.0   ALIGNMENT         NA ...     0.0     0.0  2011.0 15004\n",
       "      0.0        0.0   ALIGNMENT         NA ...     0.0     0.0  2011.0 15004\n",
       "      0.0        0.0   ALIGNMENT         NA ...     0.0     0.0  2011.0 15004\n",
       "      0.0        0.0   ALIGNMENT         NA ...     0.0     0.0  2011.0 15004\n",
       "      0.0        0.0   ALIGNMENT         NA ...     0.0     0.0  2011.0 15004\n",
       "      0.0        0.0   ALIGNMENT         NA ...     0.0     0.0  2011.0 15004\n",
       "      0.0        0.0   ALIGNMENT         NA ...     0.0     0.0  2011.0 15004\n",
       "      0.0        0.0   ALIGNMENT         NA ...     0.0     0.0  2011.0 15004"
      ]
     },
     "execution_count": 16,
     "metadata": {},
     "output_type": "execute_result"
    }
   ],
   "source": [
    "p15004.targets   # Positions and information of holes on the plate"
   ]
  },
  {
   "cell_type": "code",
   "execution_count": 17,
   "metadata": {},
   "outputs": [
    {
     "name": "stdout",
     "output_type": "stream",
     "text": [
      "   holetype  \n",
      "-------------\n",
      "    ALIGNMENT\n",
      "APOGEE_SHARED\n",
      "  BOSS_SHARED\n",
      "       CENTER\n",
      "        GUIDE\n",
      "         TRAP targettype\n",
      "----------\n",
      "        NA\n",
      "   science\n",
      "       sky\n",
      "  standard\n"
     ]
    }
   ],
   "source": [
    "print(np.unique(p15004.targets['holetype']),\n",
    "      np.unique(p15004.targets['targettype']))"
   ]
  },
  {
   "cell_type": "code",
   "execution_count": 18,
   "metadata": {},
   "outputs": [
    {
     "data": {
      "text/html": [
       "<i>Table length=85</i>\n",
       "<table id=\"table139815866528816\" class=\"table-striped table-bordered table-condensed\">\n",
       "<thead><tr><th>target_ra</th><th>target_dec</th><th>holetype</th><th>targettype</th><th>catalogid</th><th>tmass_id</th><th>firstcarton</th><th>tmass_h</th><th>gaia_g</th><th>gaia_rp</th><th>gaia_bp</th><th>epoch</th><th>plate</th></tr></thead>\n",
       "<thead><tr><th>float64</th><th>float64</th><th>str13</th><th>str8</th><th>uint64</th><th>str23</th><th>str19</th><th>float64</th><th>float64</th><th>float64</th><th>float64</th><th>float64</th><th>int64</th></tr></thead>\n",
       "<tr><td>2.4514255</td><td>26.677108</td><td>BOSS_SHARED</td><td>standard</td><td>4402831761</td><td>2MASS-J00094828+2640379</td><td>ops_std_eboss</td><td>16.273</td><td>17.5301</td><td>17.062</td><td>17.828</td><td>2020.8</td><td>15004</td></tr>\n",
       "<tr><td>3.3615392</td><td>26.735893</td><td>BOSS_SHARED</td><td>standard</td><td>4402835451</td><td>2MASS-J00132677+2644094</td><td>ops_std_eboss</td><td>16.227</td><td>17.6622</td><td>17.1931</td><td>17.957</td><td>2020.8</td><td>15004</td></tr>\n",
       "<tr><td>1.5325846</td><td>26.76731</td><td>BOSS_SHARED</td><td>standard</td><td>4402821856</td><td>2MASS-J00060784+2646022</td><td>ops_std_eboss</td><td>15.333</td><td>16.7303</td><td>16.2841</td><td>16.9937</td><td>2020.8</td><td>15004</td></tr>\n",
       "<tr><td>2.118108</td><td>25.040359</td><td>BOSS_SHARED</td><td>standard</td><td>4400696648</td><td>2MASS-J00082835+2502256</td><td>ops_std_eboss</td><td>16.01</td><td>17.0885</td><td>16.6706</td><td>17.3323</td><td>2020.8</td><td>15004</td></tr>\n",
       "<tr><td>2.3721537</td><td>26.900775</td><td>BOSS_SHARED</td><td>standard</td><td>4402832184</td><td>2MASS-J00092931+2654028</td><td>ops_std_eboss</td><td>15.693</td><td>17.1111</td><td>16.6531</td><td>17.3909</td><td>2020.8</td><td>15004</td></tr>\n",
       "<tr><td>2.8622209</td><td>27.595347</td><td>BOSS_SHARED</td><td>standard</td><td>4402841255</td><td>2MASS-J00112694+2735433</td><td>ops_std_eboss</td><td>15.93</td><td>17.5407</td><td>17.0326</td><td>17.8671</td><td>2020.8</td><td>15004</td></tr>\n",
       "<tr><td>1.6790304</td><td>26.586023</td><td>BOSS_SHARED</td><td>standard</td><td>4402821658</td><td>2MASS-J00064296+2635098</td><td>ops_std_eboss</td><td>15.507</td><td>17.0123</td><td>16.5469</td><td>17.3115</td><td>2020.8</td><td>15004</td></tr>\n",
       "<tr><td>0.7196453</td><td>26.141722</td><td>BOSS_SHARED</td><td>standard</td><td>4400709241</td><td>None</td><td>ops_std_eboss</td><td>-9.99999</td><td>17.803</td><td>17.3406</td><td>18.1159</td><td>2020.8</td><td>15004</td></tr>\n",
       "<tr><td>2.3690938</td><td>25.527872</td><td>BOSS_SHARED</td><td>standard</td><td>4400716860</td><td>None</td><td>ops_std_eboss</td><td>-9.99999</td><td>17.9446</td><td>17.4808</td><td>18.2031</td><td>2020.8</td><td>15004</td></tr>\n",
       "<tr><td>1.0137038</td><td>26.191861</td><td>BOSS_SHARED</td><td>standard</td><td>4400711598</td><td>2MASS-J00040328+2611308</td><td>ops_std_eboss</td><td>15.681</td><td>17.4706</td><td>16.9924</td><td>17.7912</td><td>2020.8</td><td>15004</td></tr>\n",
       "<tr><td>...</td><td>...</td><td>...</td><td>...</td><td>...</td><td>...</td><td>...</td><td>...</td><td>...</td><td>...</td><td>...</td><td>...</td><td>...</td></tr>\n",
       "<tr><td>1.050078</td><td>27.007175</td><td>APOGEE_SHARED</td><td>standard</td><td>0</td><td>2MASS-J00041201+2700258</td><td>None</td><td>10.032</td><td>-9.99999</td><td>-9.99999</td><td>-9.99999</td><td>2020.8</td><td>15004</td></tr>\n",
       "<tr><td>0.878033</td><td>26.352077</td><td>APOGEE_SHARED</td><td>standard</td><td>0</td><td>2MASS-J00033072+2621074</td><td>None</td><td>10.099</td><td>-9.99999</td><td>-9.99999</td><td>-9.99999</td><td>2020.8</td><td>15004</td></tr>\n",
       "<tr><td>3.190298</td><td>27.103777</td><td>APOGEE_SHARED</td><td>standard</td><td>0</td><td>2MASS-J00124567+2706135</td><td>None</td><td>10.137</td><td>-9.99999</td><td>-9.99999</td><td>-9.99999</td><td>2020.8</td><td>15004</td></tr>\n",
       "<tr><td>2.940787</td><td>27.51018</td><td>APOGEE_SHARED</td><td>standard</td><td>0</td><td>2MASS-J00114578+2730366</td><td>None</td><td>7.317</td><td>-9.99999</td><td>-9.99999</td><td>-9.99999</td><td>2020.8</td><td>15004</td></tr>\n",
       "<tr><td>1.737505</td><td>27.742836</td><td>APOGEE_SHARED</td><td>standard</td><td>0</td><td>2MASS-J00065700+2744342</td><td>None</td><td>10.142</td><td>-9.99999</td><td>-9.99999</td><td>-9.99999</td><td>2020.8</td><td>15004</td></tr>\n",
       "<tr><td>1.398297</td><td>27.603859</td><td>APOGEE_SHARED</td><td>standard</td><td>0</td><td>2MASS-J00053559+2736138</td><td>None</td><td>9.164</td><td>-9.99999</td><td>-9.99999</td><td>-9.99999</td><td>2020.8</td><td>15004</td></tr>\n",
       "<tr><td>0.700103</td><td>26.462358</td><td>APOGEE_SHARED</td><td>standard</td><td>0</td><td>2MASS-J00024802+2627444</td><td>None</td><td>10.06</td><td>-9.99999</td><td>-9.99999</td><td>-9.99999</td><td>2020.8</td><td>15004</td></tr>\n",
       "<tr><td>0.255047</td><td>26.336231</td><td>APOGEE_SHARED</td><td>standard</td><td>0</td><td>2MASS-J00010121+2620104</td><td>None</td><td>10.161</td><td>-9.99999</td><td>-9.99999</td><td>-9.99999</td><td>2020.8</td><td>15004</td></tr>\n",
       "<tr><td>1.165085</td><td>25.265448</td><td>APOGEE_SHARED</td><td>standard</td><td>0</td><td>2MASS-J00043962+2515556</td><td>None</td><td>8.982</td><td>-9.99999</td><td>-9.99999</td><td>-9.99999</td><td>2020.8</td><td>15004</td></tr>\n",
       "<tr><td>2.042921</td><td>25.30027</td><td>APOGEE_SHARED</td><td>standard</td><td>0</td><td>2MASS-J00081030+2518009</td><td>None</td><td>7.669</td><td>-9.99999</td><td>-9.99999</td><td>-9.99999</td><td>2020.8</td><td>15004</td></tr>\n",
       "</table>"
      ],
      "text/plain": [
       "<Table length=85>\n",
       "target_ra target_dec    holetype   targettype ... gaia_bp   epoch  plate\n",
       " float64   float64       str13        str8    ... float64  float64 int64\n",
       "--------- ---------- ------------- ---------- ... -------- ------- -----\n",
       "2.4514255  26.677108   BOSS_SHARED   standard ...   17.828  2020.8 15004\n",
       "3.3615392  26.735893   BOSS_SHARED   standard ...   17.957  2020.8 15004\n",
       "1.5325846   26.76731   BOSS_SHARED   standard ...  16.9937  2020.8 15004\n",
       " 2.118108  25.040359   BOSS_SHARED   standard ...  17.3323  2020.8 15004\n",
       "2.3721537  26.900775   BOSS_SHARED   standard ...  17.3909  2020.8 15004\n",
       "2.8622209  27.595347   BOSS_SHARED   standard ...  17.8671  2020.8 15004\n",
       "1.6790304  26.586023   BOSS_SHARED   standard ...  17.3115  2020.8 15004\n",
       "0.7196453  26.141722   BOSS_SHARED   standard ...  18.1159  2020.8 15004\n",
       "2.3690938  25.527872   BOSS_SHARED   standard ...  18.2031  2020.8 15004\n",
       "1.0137038  26.191861   BOSS_SHARED   standard ...  17.7912  2020.8 15004\n",
       "      ...        ...           ...        ... ...      ...     ...   ...\n",
       " 1.050078  27.007175 APOGEE_SHARED   standard ... -9.99999  2020.8 15004\n",
       " 0.878033  26.352077 APOGEE_SHARED   standard ... -9.99999  2020.8 15004\n",
       " 3.190298  27.103777 APOGEE_SHARED   standard ... -9.99999  2020.8 15004\n",
       " 2.940787   27.51018 APOGEE_SHARED   standard ... -9.99999  2020.8 15004\n",
       " 1.737505  27.742836 APOGEE_SHARED   standard ... -9.99999  2020.8 15004\n",
       " 1.398297  27.603859 APOGEE_SHARED   standard ... -9.99999  2020.8 15004\n",
       " 0.700103  26.462358 APOGEE_SHARED   standard ... -9.99999  2020.8 15004\n",
       " 0.255047  26.336231 APOGEE_SHARED   standard ... -9.99999  2020.8 15004\n",
       " 1.165085  25.265448 APOGEE_SHARED   standard ... -9.99999  2020.8 15004\n",
       " 2.042921   25.30027 APOGEE_SHARED   standard ... -9.99999  2020.8 15004"
      ]
     },
     "execution_count": 18,
     "metadata": {},
     "output_type": "execute_result"
    }
   ],
   "source": [
    "p15004.targets[p15004.targets['targettype'] == 'standard']"
   ]
  },
  {
   "cell_type": "markdown",
   "metadata": {},
   "source": [
    "There is a \"bug\" in five_plates (https://github.com/sdss/five_plates/issues/6)  that doesn't report the catalogID for APOGEE standard stars. Note that if a star is ONLY selected as a standard, it will NOT show as observed by the Targets class."
   ]
  },
  {
   "cell_type": "code",
   "execution_count": 19,
   "metadata": {},
   "outputs": [],
   "source": [
    "%config IPCompleter.use_jedi = False\n",
    "# rediculous bug in Jedi it seems"
   ]
  },
  {
   "cell_type": "code",
   "execution_count": 20,
   "metadata": {},
   "outputs": [
    {
     "data": {
      "text/plain": [
       "11"
      ]
     },
     "execution_count": 20,
     "metadata": {},
     "output_type": "execute_result"
    }
   ],
   "source": [
    "targs.available_in(p15004).sum()"
   ]
  },
  {
   "cell_type": "code",
   "execution_count": null,
   "metadata": {},
   "outputs": [],
   "source": []
  },
  {
   "cell_type": "code",
   "execution_count": null,
   "metadata": {},
   "outputs": [],
   "source": []
  },
  {
   "cell_type": "code",
   "execution_count": 21,
   "metadata": {},
   "outputs": [],
   "source": [
    "from ppv.groups import Field\n",
    "from ppv.groups import Platerun"
   ]
  },
  {
   "cell_type": "code",
   "execution_count": 22,
   "metadata": {},
   "outputs": [],
   "source": [
    "import ppv.groups"
   ]
  },
  {
   "cell_type": "code",
   "execution_count": 23,
   "metadata": {},
   "outputs": [
    {
     "data": {
      "text/html": [
       "<i>Table length=39</i>\n",
       "<table id=\"table139815866507072\" class=\"table-striped table-bordered table-condensed\">\n",
       "<thead><tr><th>plateid</th><th>designid</th><th>locationid</th><th>tileid</th><th>plateDesignVersion</th><th>ha [6]</th><th>temp</th><th>epoch</th><th>raCen</th><th>decCen</th><th>survey</th><th>programname</th><th>drillstyle</th><th>rerun</th><th>platerun</th><th>chunk</th><th>name</th><th>comments</th></tr></thead>\n",
       "<thead><tr><th>int32</th><th>int32</th><th>int32</th><th>int32</th><th>bytes20</th><th>float32</th><th>float32</th><th>float32</th><th>float64</th><th>float64</th><th>bytes20</th><th>bytes40</th><th>bytes20</th><th>bytes50</th><th>bytes200</th><th>bytes200</th><th>bytes200</th><th>bytes200</th></tr></thead>\n",
       "<tr><td>90100</td><td>90100</td><td>90100</td><td>-1</td><td>v1</td><td>0.0 .. 0.0</td><td>10.0</td><td>2020.9</td><td>213.7042</td><td>53.08333</td><td>mwm-bhm</td><td>test</td><td>apogee_boss</td><td></td><td>2020.01.e.bhm-mwm</td><td>2020.01.e.bhm-mwm</td><td>test APOGEE and BOSS</td><td>none</td></tr>\n",
       "<tr><td>90101</td><td>90101</td><td>90101</td><td>-1</td><td>v1</td><td>0.0 .. 0.0</td><td>10.0</td><td>2020.9</td><td>213.7042</td><td>53.08333</td><td>mwm-bhm</td><td>test</td><td>bosshalf</td><td></td><td>2020.02.b.bhm</td><td>2020.02.b.bhm</td><td>test BOSSHALF</td><td>none</td></tr>\n",
       "<tr><td>15000</td><td>15000</td><td>50000</td><td>-1</td><td>v1</td><td>0.0 .. 0.0</td><td>11.0</td><td>2020.8</td><td>35.708333</td><td>-5.05</td><td>bhm-mwm</td><td>RM</td><td>apogee_boss</td><td></td><td>2020.08.a.bhm-mwm</td><td>2020.08.a.bhm-mwm</td><td>RM_XMM-LSS</td><td>100</td></tr>\n",
       "<tr><td>15001</td><td>15000</td><td>50000</td><td>-1</td><td>v1</td><td>-25.0 .. 0.0</td><td>11.0</td><td>2020.8</td><td>35.708333</td><td>-5.05</td><td>bhm-mwm</td><td>RM</td><td>apogee_boss</td><td></td><td>2020.08.a.bhm-mwm</td><td>2020.08.a.bhm-mwm</td><td>RM_XMM-LSS</td><td>100</td></tr>\n",
       "<tr><td>15002</td><td>15000</td><td>50000</td><td>-1</td><td>v1</td><td>25.0 .. 0.0</td><td>9.0</td><td>2020.8</td><td>35.708333</td><td>-5.05</td><td>bhm-mwm</td><td>RM</td><td>apogee_boss</td><td></td><td>2020.08.a.bhm-mwm</td><td>2020.08.a.bhm-mwm</td><td>RM_XMM-LSS</td><td>100</td></tr>\n",
       "<tr><td>15004</td><td>15001</td><td>50001</td><td>-1</td><td>v2</td><td>-15.0 .. 0.0</td><td>13.0</td><td>2020.8</td><td>1.845703</td><td>26.443334</td><td>bhm-mwm</td><td>AQMES-Medium</td><td>apogee_boss</td><td></td><td>2020.08.c.bhm-mwm</td><td>2020.08.c.bhm-mwm</td><td>AQM_001.85_+26.44</td><td></td></tr>\n",
       "<tr><td>15005</td><td>15002</td><td>50002</td><td>-1</td><td>v2</td><td>-15.0 .. 0.0</td><td>13.0</td><td>2020.8</td><td>8.525391</td><td>1.044512</td><td>bhm-mwm</td><td>AQMES-Medium</td><td>apogee_boss</td><td></td><td>2020.08.c.bhm-mwm</td><td>2020.08.c.bhm-mwm</td><td>AQM_008.53_+01.04</td><td></td></tr>\n",
       "<tr><td>15006</td><td>15003</td><td>50003</td><td>-1</td><td>v2</td><td>-15.0 .. 0.0</td><td>13.0</td><td>2020.8</td><td>9.316406</td><td>25.530378</td><td>bhm-mwm</td><td>AQMES-Medium</td><td>apogee_boss</td><td></td><td>2020.08.c.bhm-mwm</td><td>2020.08.c.bhm-mwm</td><td>AQM_009.32_+25.53</td><td></td></tr>\n",
       "<tr><td>15007</td><td>15004</td><td>50004</td><td>-1</td><td>v2</td><td>0.0 .. 0.0</td><td>11.0</td><td>2020.8</td><td>10.458984</td><td>-0.447628</td><td>bhm-mwm</td><td>AQMES-Medium</td><td>apogee_boss</td><td></td><td>2020.08.c.bhm-mwm</td><td>2020.08.c.bhm-mwm</td><td>AQM_010.46_-00.45</td><td></td></tr>\n",
       "<tr><td>15008</td><td>15005</td><td>50005</td><td>-1</td><td>v2</td><td>0.0 .. 0.0</td><td>11.0</td><td>2020.8</td><td>13.710938</td><td>0.820671</td><td>bhm-mwm</td><td>AQMES-Medium</td><td>apogee_boss</td><td></td><td>2020.08.c.bhm-mwm</td><td>2020.08.c.bhm-mwm</td><td>AQM_013.71_+00.82</td><td></td></tr>\n",
       "<tr><td>...</td><td>...</td><td>...</td><td>...</td><td>...</td><td>...</td><td>...</td><td>...</td><td>...</td><td>...</td><td>...</td><td>...</td><td>...</td><td>...</td><td>...</td><td>...</td><td>...</td><td>...</td></tr>\n",
       "<tr><td>15028</td><td>15025</td><td>50025</td><td>-1</td><td>v2</td><td>0.0 .. 0.0</td><td>14.0</td><td>2020.8</td><td>344.17969</td><td>19.234005</td><td>bhm-mwm</td><td>AQMES-Medium</td><td>apogee_boss</td><td></td><td>2020.08.c.bhm-mwm</td><td>2020.08.c.bhm-mwm</td><td>AQM_344.18_+19.23</td><td></td></tr>\n",
       "<tr><td>15029</td><td>15026</td><td>50026</td><td>-1</td><td>v2</td><td>-15.0 .. 0.0</td><td>15.0</td><td>2020.8</td><td>334.95117</td><td>0.895283</td><td>bhm-mwm</td><td>AQMES-Medium</td><td>apogee_boss</td><td></td><td>2020.08.c.bhm-mwm</td><td>2020.08.c.bhm-mwm</td><td>AQM_334.95_+00.90</td><td></td></tr>\n",
       "<tr><td>15030</td><td>15027</td><td>50027</td><td>-1</td><td>v2</td><td>-15.0 .. 0.0</td><td>15.0</td><td>2020.8</td><td>335.6543</td><td>20.423615</td><td>bhm-mwm</td><td>AQMES-Wide</td><td>apogee_boss</td><td></td><td>2020.08.c.bhm-mwm</td><td>2020.08.c.bhm-mwm</td><td>AQW_335.65_+20.42</td><td></td></tr>\n",
       "<tr><td>15031</td><td>15028</td><td>50028</td><td>-1</td><td>v2</td><td>0.0 .. 0.0</td><td>14.0</td><td>2020.8</td><td>339.25781</td><td>24.051153</td><td>bhm-mwm</td><td>AQMES-Wide</td><td>apogee_boss</td><td></td><td>2020.08.c.bhm-mwm</td><td>2020.08.c.bhm-mwm</td><td>AQW_339.26_+24.05</td><td></td></tr>\n",
       "<tr><td>15032</td><td>15029</td><td>50029</td><td>-1</td><td>v2</td><td>0.0 .. 0.0</td><td>14.0</td><td>2020.8</td><td>340.04883</td><td>26.610098</td><td>bhm-mwm</td><td>AQMES-Wide</td><td>apogee_boss</td><td></td><td>2020.08.c.bhm-mwm</td><td>2020.08.c.bhm-mwm</td><td>AQW_340.05_+26.61</td><td></td></tr>\n",
       "<tr><td>15033</td><td>15030</td><td>50030</td><td>-1</td><td>v2</td><td>-10.0 .. 0.0</td><td>14.0</td><td>2020.8</td><td>354.46289</td><td>-0.447628</td><td>bhm-mwm</td><td>AQMES-Medium</td><td>apogee_boss</td><td></td><td>2020.08.c.bhm-mwm</td><td>2020.08.c.bhm-mwm</td><td>AQM_354.46_-00.45</td><td></td></tr>\n",
       "<tr><td>15034</td><td>15031</td><td>50031</td><td>-1</td><td>v2</td><td>-10.0 .. 0.0</td><td>14.0</td><td>2020.8</td><td>357.09961</td><td>0.0</td><td>bhm-mwm</td><td>AQMES-Medium</td><td>apogee_boss</td><td></td><td>2020.08.c.bhm-mwm</td><td>2020.08.c.bhm-mwm</td><td>AQM_357.10_+00.00</td><td></td></tr>\n",
       "<tr><td>15035</td><td>15032</td><td>50032</td><td>-1</td><td>v2</td><td>0.0 .. 0.0</td><td>14.0</td><td>2020.8</td><td>359.38477</td><td>0.149208</td><td>bhm-mwm</td><td>AQMES-Medium</td><td>apogee_boss</td><td></td><td>2020.08.c.bhm-mwm</td><td>2020.08.c.bhm-mwm</td><td>AQM_359.38_+00.15</td><td></td></tr>\n",
       "<tr><td>15036</td><td>15033</td><td>50033</td><td>-1</td><td>v2</td><td>-10.0 .. 0.0</td><td>14.0</td><td>2020.8</td><td>351.03516</td><td>24.378358</td><td>bhm-mwm</td><td>AQMES-Wide</td><td>apogee_boss</td><td></td><td>2020.08.c.bhm-mwm</td><td>2020.08.c.bhm-mwm</td><td>AQW_351.04_+24.38</td><td></td></tr>\n",
       "<tr><td>15037</td><td>15034</td><td>50034</td><td>-1</td><td>v2</td><td>-10.0 .. 0.0</td><td>14.0</td><td>2020.8</td><td>353.58398</td><td>23.969482</td><td>bhm-mwm</td><td>AQMES-Wide</td><td>apogee_boss</td><td></td><td>2020.08.c.bhm-mwm</td><td>2020.08.c.bhm-mwm</td><td>AQW_353.58_+23.97</td><td></td></tr>\n",
       "</table>"
      ],
      "text/plain": [
       "<Table length=39>\n",
       "plateid designid locationid ...       chunk               name         comments\n",
       " int32   int32     int32    ...      bytes200           bytes200       bytes200\n",
       "------- -------- ---------- ... ----------------- -------------------- --------\n",
       "  90100    90100      90100 ... 2020.01.e.bhm-mwm test APOGEE and BOSS     none\n",
       "  90101    90101      90101 ...     2020.02.b.bhm        test BOSSHALF     none\n",
       "  15000    15000      50000 ... 2020.08.a.bhm-mwm           RM_XMM-LSS      100\n",
       "  15001    15000      50000 ... 2020.08.a.bhm-mwm           RM_XMM-LSS      100\n",
       "  15002    15000      50000 ... 2020.08.a.bhm-mwm           RM_XMM-LSS      100\n",
       "  15004    15001      50001 ... 2020.08.c.bhm-mwm    AQM_001.85_+26.44         \n",
       "  15005    15002      50002 ... 2020.08.c.bhm-mwm    AQM_008.53_+01.04         \n",
       "  15006    15003      50003 ... 2020.08.c.bhm-mwm    AQM_009.32_+25.53         \n",
       "  15007    15004      50004 ... 2020.08.c.bhm-mwm    AQM_010.46_-00.45         \n",
       "  15008    15005      50005 ... 2020.08.c.bhm-mwm    AQM_013.71_+00.82         \n",
       "    ...      ...        ... ...               ...                  ...      ...\n",
       "  15028    15025      50025 ... 2020.08.c.bhm-mwm    AQM_344.18_+19.23         \n",
       "  15029    15026      50026 ... 2020.08.c.bhm-mwm    AQM_334.95_+00.90         \n",
       "  15030    15027      50027 ... 2020.08.c.bhm-mwm    AQW_335.65_+20.42         \n",
       "  15031    15028      50028 ... 2020.08.c.bhm-mwm    AQW_339.26_+24.05         \n",
       "  15032    15029      50029 ... 2020.08.c.bhm-mwm    AQW_340.05_+26.61         \n",
       "  15033    15030      50030 ... 2020.08.c.bhm-mwm    AQM_354.46_-00.45         \n",
       "  15034    15031      50031 ... 2020.08.c.bhm-mwm    AQM_357.10_+00.00         \n",
       "  15035    15032      50032 ... 2020.08.c.bhm-mwm    AQM_359.38_+00.15         \n",
       "  15036    15033      50033 ... 2020.08.c.bhm-mwm    AQW_351.04_+24.38         \n",
       "  15037    15034      50034 ... 2020.08.c.bhm-mwm    AQW_353.58_+23.97         "
      ]
     },
     "execution_count": 23,
     "metadata": {},
     "output_type": "execute_result"
    }
   ],
   "source": [
    "ppv.groups.allplate_summary"
   ]
  },
  {
   "cell_type": "code",
   "execution_count": 24,
   "metadata": {},
   "outputs": [],
   "source": [
    "prun_name = ppv.groups.allplate_summary['platerun'][-1]"
   ]
  },
  {
   "cell_type": "code",
   "execution_count": 25,
   "metadata": {},
   "outputs": [
    {
     "data": {
      "text/plain": [
       "'2020.08.c.bhm-mwm'"
      ]
     },
     "execution_count": 25,
     "metadata": {},
     "output_type": "execute_result"
    }
   ],
   "source": [
    "prun_name"
   ]
  },
  {
   "cell_type": "code",
   "execution_count": 26,
   "metadata": {},
   "outputs": [],
   "source": [
    "fname = \"AQM_001.85_+26.44\"\n",
    "\n"
   ]
  },
  {
   "cell_type": "code",
   "execution_count": 27,
   "metadata": {},
   "outputs": [],
   "source": [
    "fAQM = Field(fname)"
   ]
  },
  {
   "cell_type": "code",
   "execution_count": 28,
   "metadata": {},
   "outputs": [],
   "source": [
    "platerun = Platerun(prun_name)"
   ]
  },
  {
   "cell_type": "code",
   "execution_count": 29,
   "metadata": {},
   "outputs": [
    {
     "data": {
      "text/html": [
       "&lt;Column name=&apos;name&apos; dtype=&apos;str200&apos; length=34&gt;\n",
       "<table>\n",
       "<tr><td>AQM_001.85_+26.44</td></tr>\n",
       "<tr><td>AQM_008.53_+01.04</td></tr>\n",
       "<tr><td>AQM_009.32_+25.53</td></tr>\n",
       "<tr><td>AQM_010.46_-00.45</td></tr>\n",
       "<tr><td>AQM_013.71_+00.82</td></tr>\n",
       "<tr><td>AQM_019.60_-00.75</td></tr>\n",
       "<tr><td>AQM_021.01_+14.79</td></tr>\n",
       "<tr><td>AQM_022.15_+00.52</td></tr>\n",
       "<tr><td>AQM_024.61_-00.52</td></tr>\n",
       "<tr><td>AQM_028.56_+00.15</td></tr>\n",
       "<tr><td>AQM_038.50_+00.82</td></tr>\n",
       "<tr><td>AQM_040.87_-00.60</td></tr>\n",
       "<tr><td>...</td></tr>\n",
       "<tr><td>AQW_118.85_+37.42</td></tr>\n",
       "<tr><td>AQW_119.07_+27.14</td></tr>\n",
       "<tr><td>AQW_120.08_+35.03</td></tr>\n",
       "<tr><td>AQW_121.38_+32.85</td></tr>\n",
       "<tr><td>AQW_122.06_+26.83</td></tr>\n",
       "<tr><td>AQW_123.29_+34.70</td></tr>\n",
       "<tr><td>AQW_123.88_+38.85</td></tr>\n",
       "<tr><td>AQW_335.65_+20.42</td></tr>\n",
       "<tr><td>AQW_339.26_+24.05</td></tr>\n",
       "<tr><td>AQW_340.05_+26.61</td></tr>\n",
       "<tr><td>AQW_351.04_+24.38</td></tr>\n",
       "<tr><td>AQW_353.58_+23.97</td></tr>\n",
       "</table>"
      ],
      "text/plain": [
       "<Column name='name' dtype='str200' length=34>\n",
       "AQM_001.85_+26.44\n",
       "AQM_008.53_+01.04\n",
       "AQM_009.32_+25.53\n",
       "AQM_010.46_-00.45\n",
       "AQM_013.71_+00.82\n",
       "AQM_019.60_-00.75\n",
       "AQM_021.01_+14.79\n",
       "AQM_022.15_+00.52\n",
       "AQM_024.61_-00.52\n",
       "AQM_028.56_+00.15\n",
       "AQM_038.50_+00.82\n",
       "AQM_040.87_-00.60\n",
       "              ...\n",
       "AQW_118.85_+37.42\n",
       "AQW_119.07_+27.14\n",
       "AQW_120.08_+35.03\n",
       "AQW_121.38_+32.85\n",
       "AQW_122.06_+26.83\n",
       "AQW_123.29_+34.70\n",
       "AQW_123.88_+38.85\n",
       "AQW_335.65_+20.42\n",
       "AQW_339.26_+24.05\n",
       "AQW_340.05_+26.61\n",
       "AQW_351.04_+24.38\n",
       "AQW_353.58_+23.97"
      ]
     },
     "execution_count": 29,
     "metadata": {},
     "output_type": "execute_result"
    }
   ],
   "source": [
    "platerun.fieldnames"
   ]
  },
  {
   "cell_type": "code",
   "execution_count": 30,
   "metadata": {},
   "outputs": [
    {
     "data": {
      "text/plain": [
       "11"
      ]
     },
     "execution_count": 30,
     "metadata": {},
     "output_type": "execute_result"
    }
   ],
   "source": [
    "targs.available_in(fAQM).sum()"
   ]
  },
  {
   "cell_type": "code",
   "execution_count": 31,
   "metadata": {},
   "outputs": [
    {
     "data": {
      "text/plain": [
       "array([False, False, False, ..., False, False, False])"
      ]
     },
     "execution_count": 31,
     "metadata": {},
     "output_type": "execute_result"
    }
   ],
   "source": [
    "targs.assigned_in(fAQM)"
   ]
  },
  {
   "cell_type": "code",
   "execution_count": 32,
   "metadata": {},
   "outputs": [
    {
     "data": {
      "text/html": [
       "<i>Table masked=True length=8</i>\n",
       "<table id=\"table139815866590928\" class=\"table-striped table-bordered table-condensed\">\n",
       "<thead><tr><th>pk</th><th>catalogid</th><th>dec</th><th>epoch</th><th>pmdec</th><th>pmra</th><th>ra</th><th>parallax</th><th>bp</th><th>g</th><th>h</th><th>i</th><th>z</th><th>r</th><th>rp</th><th>carton_to_target_pk</th><th>priority</th><th>cadence</th></tr></thead>\n",
       "<thead><tr><th>int64</th><th>int64</th><th>float64</th><th>float64</th><th>float64</th><th>float64</th><th>float64</th><th>float64</th><th>float64</th><th>float64</th><th>float64</th><th>float64</th><th>float64</th><th>float64</th><th>float64</th><th>int64</th><th>int64</th><th>float64</th></tr></thead>\n",
       "<tr><td>63200143</td><td>4400726315</td><td>26.516624646335984</td><td>2015.5</td><td>-56.43</td><td>43.69</td><td>3.017901588779658</td><td>nan</td><td>12.274</td><td>12.590871</td><td>9.293</td><td>11.220837</td><td>10.989637</td><td>11.615499</td><td>10.8608</td><td>219061402</td><td>2610</td><td>nan</td></tr>\n",
       "<tr><td>63130318</td><td>4400726404</td><td>26.252226477392497</td><td>2015.5</td><td>-7.54142</td><td>-5.06581</td><td>3.1523757514693362</td><td>2.29675</td><td>12.6512</td><td>12.739884</td><td>10.946</td><td>12.137205</td><td>12.083581</td><td>12.301875</td><td>11.8233</td><td>218989341</td><td>2610</td><td>nan</td></tr>\n",
       "<tr><td>63200148</td><td>4402835549</td><td>26.81979450154741</td><td>2015.5</td><td>-14.5468</td><td>-17.4957</td><td>3.3869881453212867</td><td>7.72339</td><td>10.9878</td><td>11.293857</td><td>9.234</td><td>10.443971</td><td>10.474189</td><td>10.604778</td><td>10.1126</td><td>219061408</td><td>2610</td><td>nan</td></tr>\n",
       "<tr><td>63148214</td><td>4402838198</td><td>27.316449524906293</td><td>2015.5</td><td>45.2254</td><td>111.928</td><td>2.3777257433414243</td><td>13.8652</td><td>13.5774</td><td>14.1181555</td><td>9.911</td><td>12.085736</td><td>11.687693</td><td>12.754909</td><td>11.7227</td><td>219007769</td><td>2610</td><td>nan</td></tr>\n",
       "<tr><td>63148215</td><td>4402838643</td><td>27.496560527547583</td><td>2015.5</td><td>-55.7289</td><td>-2.86079</td><td>2.360110141369754</td><td>8.92773</td><td>11.1768</td><td>11.416542</td><td>9.145</td><td>15.27082</td><td>10.906687</td><td>10.808616</td><td>10.2025</td><td>219007770</td><td>2610</td><td>nan</td></tr>\n",
       "<tr><td>63165725</td><td>4402838933</td><td>27.539312853258306</td><td>2015.5</td><td>-13.3591</td><td>24.7408</td><td>2.578731482902514</td><td>5.78841</td><td>11.1787</td><td>11.246591</td><td>9.547</td><td>10.69413</td><td>10.715225</td><td>10.818146</td><td>10.3745</td><td>219025849</td><td>2610</td><td>nan</td></tr>\n",
       "<tr><td>63200136</td><td>4402839837</td><td>27.666837577512847</td><td>2015.5</td><td>144.804</td><td>222.239</td><td>2.2492675946101794</td><td>16.535</td><td>13.7767</td><td>14.37903</td><td>9.812</td><td>12.096777</td><td>11.653342</td><td>13.499054</td><td>11.7309</td><td>219061395</td><td>2610</td><td>nan</td></tr>\n",
       "<tr><td>63165724</td><td>4402840037</td><td>27.62920463874903</td><td>2015.5</td><td>-53.9078</td><td>82.6503</td><td>2.5314287283254515</td><td>15.3694</td><td>14.5475</td><td>15.101445</td><td>10.121</td><td>12.637509</td><td>12.075852</td><td>13.708468</td><td>12.2451</td><td>219025848</td><td>2610</td><td>nan</td></tr>\n",
       "</table>"
      ],
      "text/plain": [
       "<Table masked=True length=8>\n",
       "   pk    catalogid         dec         ... carton_to_target_pk priority cadence\n",
       " int64     int64         float64       ...        int64         int64   float64\n",
       "-------- ---------- ------------------ ... ------------------- -------- -------\n",
       "63200143 4400726315 26.516624646335984 ...           219061402     2610     nan\n",
       "63130318 4400726404 26.252226477392497 ...           218989341     2610     nan\n",
       "63200148 4402835549  26.81979450154741 ...           219061408     2610     nan\n",
       "63148214 4402838198 27.316449524906293 ...           219007769     2610     nan\n",
       "63148215 4402838643 27.496560527547583 ...           219007770     2610     nan\n",
       "63165725 4402838933 27.539312853258306 ...           219025849     2610     nan\n",
       "63200136 4402839837 27.666837577512847 ...           219061395     2610     nan\n",
       "63165724 4402840037  27.62920463874903 ...           219025848     2610     nan"
      ]
     },
     "execution_count": 32,
     "metadata": {},
     "output_type": "execute_result"
    }
   ],
   "source": [
    "targs.data[targs.assigned_in(fAQM)]"
   ]
  },
  {
   "cell_type": "code",
   "execution_count": 33,
   "metadata": {},
   "outputs": [
    {
     "data": {
      "text/html": [
       "<i>Table masked=True length=3</i>\n",
       "<table id=\"table139815866530736\" class=\"table-striped table-bordered table-condensed\">\n",
       "<thead><tr><th>pk</th><th>catalogid</th><th>dec</th><th>epoch</th><th>pmdec</th><th>pmra</th><th>ra</th><th>parallax</th><th>bp</th><th>g</th><th>h</th><th>i</th><th>z</th><th>r</th><th>rp</th><th>carton_to_target_pk</th><th>priority</th><th>cadence</th></tr></thead>\n",
       "<thead><tr><th>int64</th><th>int64</th><th>float64</th><th>float64</th><th>float64</th><th>float64</th><th>float64</th><th>float64</th><th>float64</th><th>float64</th><th>float64</th><th>float64</th><th>float64</th><th>float64</th><th>float64</th><th>int64</th><th>int64</th><th>float64</th></tr></thead>\n",
       "<tr><td>63148216</td><td>4402839819</td><td>27.65221982258546</td><td>2015.5</td><td>145.471</td><td>222.988</td><td>2.2631552646876965</td><td>16.5175</td><td>11.9499</td><td>14.241348</td><td>8.777</td><td>10.735708</td><td>11.299208</td><td>11.204476</td><td>10.4117</td><td>219007771</td><td>2610</td><td>nan</td></tr>\n",
       "<tr><td>63165723</td><td>4402840160</td><td>27.764958026948076</td><td>2015.5</td><td>-3.98578</td><td>-4.70774</td><td>2.5429351496859987</td><td>1.5423</td><td>10.4018</td><td>10.721768</td><td>7.425</td><td>9.303644</td><td>9.377136</td><td>9.637439</td><td>9.01802</td><td>219025847</td><td>2610</td><td>nan</td></tr>\n",
       "<tr><td>63200144</td><td>4402841300</td><td>27.510075074405066</td><td>2015.5</td><td>-26.1208</td><td>4.0662</td><td>2.9407840006128296</td><td>8.51073</td><td>8.57606</td><td>8.70825</td><td>7.317</td><td>8.276394</td><td>8.574736</td><td>8.331132</td><td>7.95118</td><td>219061403</td><td>2610</td><td>nan</td></tr>\n",
       "</table>"
      ],
      "text/plain": [
       "<Table masked=True length=3>\n",
       "   pk    catalogid         dec         ... carton_to_target_pk priority cadence\n",
       " int64     int64         float64       ...        int64         int64   float64\n",
       "-------- ---------- ------------------ ... ------------------- -------- -------\n",
       "63148216 4402839819  27.65221982258546 ...           219007771     2610     nan\n",
       "63165723 4402840160 27.764958026948076 ...           219025847     2610     nan\n",
       "63200144 4402841300 27.510075074405066 ...           219061403     2610     nan"
      ]
     },
     "execution_count": 33,
     "metadata": {},
     "output_type": "execute_result"
    }
   ],
   "source": [
    "targs.data[targs.not_assigned_in(fAQM)]"
   ]
  },
  {
   "cell_type": "code",
   "execution_count": 34,
   "metadata": {},
   "outputs": [
    {
     "data": {
      "text/html": [
       "<i>Table masked=True length=3</i>\n",
       "<table id=\"table139815866528912\" class=\"table-striped table-bordered table-condensed\">\n",
       "<thead><tr><th>pk</th><th>catalogid</th><th>dec</th><th>epoch</th><th>pmdec</th><th>pmra</th><th>ra</th><th>parallax</th><th>bp</th><th>g</th><th>h</th><th>i</th><th>z</th><th>r</th><th>rp</th><th>carton_to_target_pk</th><th>priority</th><th>cadence</th></tr></thead>\n",
       "<thead><tr><th>int64</th><th>int64</th><th>float64</th><th>float64</th><th>float64</th><th>float64</th><th>float64</th><th>float64</th><th>float64</th><th>float64</th><th>float64</th><th>float64</th><th>float64</th><th>float64</th><th>float64</th><th>int64</th><th>int64</th><th>float64</th></tr></thead>\n",
       "<tr><td>63148216</td><td>4402839819</td><td>27.65221982258546</td><td>2015.5</td><td>145.471</td><td>222.988</td><td>2.2631552646876965</td><td>16.5175</td><td>11.9499</td><td>14.241348</td><td>8.777</td><td>10.735708</td><td>11.299208</td><td>11.204476</td><td>10.4117</td><td>219007771</td><td>2610</td><td>nan</td></tr>\n",
       "<tr><td>63165723</td><td>4402840160</td><td>27.764958026948076</td><td>2015.5</td><td>-3.98578</td><td>-4.70774</td><td>2.5429351496859987</td><td>1.5423</td><td>10.4018</td><td>10.721768</td><td>7.425</td><td>9.303644</td><td>9.377136</td><td>9.637439</td><td>9.01802</td><td>219025847</td><td>2610</td><td>nan</td></tr>\n",
       "<tr><td>63200144</td><td>4402841300</td><td>27.510075074405066</td><td>2015.5</td><td>-26.1208</td><td>4.0662</td><td>2.9407840006128296</td><td>8.51073</td><td>8.57606</td><td>8.70825</td><td>7.317</td><td>8.276394</td><td>8.574736</td><td>8.331132</td><td>7.95118</td><td>219061403</td><td>2610</td><td>nan</td></tr>\n",
       "</table>"
      ],
      "text/plain": [
       "<Table masked=True length=3>\n",
       "   pk    catalogid         dec         ... carton_to_target_pk priority cadence\n",
       " int64     int64         float64       ...        int64         int64   float64\n",
       "-------- ---------- ------------------ ... ------------------- -------- -------\n",
       "63148216 4402839819  27.65221982258546 ...           219007771     2610     nan\n",
       "63165723 4402840160 27.764958026948076 ...           219025847     2610     nan\n",
       "63200144 4402841300 27.510075074405066 ...           219061403     2610     nan"
      ]
     },
     "execution_count": 34,
     "metadata": {},
     "output_type": "execute_result"
    }
   ],
   "source": [
    "targs.data[targs.not_assigned_in(p15004)]"
   ]
  },
  {
   "cell_type": "code",
   "execution_count": 35,
   "metadata": {},
   "outputs": [
    {
     "data": {
      "text/html": [
       "<i>Table length=835</i>\n",
       "<table id=\"table139817528468912\" class=\"table-striped table-bordered table-condensed\">\n",
       "<thead><tr><th>target_ra</th><th>target_dec</th><th>holetype</th><th>targettype</th><th>catalogid</th><th>tmass_id</th><th>firstcarton</th><th>tmass_h</th><th>gaia_g</th><th>gaia_rp</th><th>gaia_bp</th><th>epoch</th><th>plate</th><th>field</th></tr></thead>\n",
       "<thead><tr><th>float64</th><th>float64</th><th>str13</th><th>str8</th><th>uint64</th><th>str23</th><th>str19</th><th>float64</th><th>float64</th><th>float64</th><th>float64</th><th>float64</th><th>int64</th><th>bytes200</th></tr></thead>\n",
       "<tr><td>0.0</td><td>0.0</td><td>CENTER</td><td>NA</td><td>0</td><td>NA</td><td>NA</td><td>-9999.0</td><td>0.0</td><td>0.0</td><td>0.0</td><td>2020.8</td><td>15004</td><td>AQM_001.85_+26.44</td></tr>\n",
       "<tr><td>2.3022188</td><td>26.839717</td><td>BOSS_SHARED</td><td>science</td><td>4402832120</td><td>2MASS-J00091250+2650230</td><td>bhm_aqmes_med</td><td>16.475</td><td>17.6381</td><td>17.3689</td><td>17.6729</td><td>2020.8</td><td>15004</td><td>AQM_001.85_+26.44</td></tr>\n",
       "<tr><td>0.4196239</td><td>26.073782</td><td>BOSS_SHARED</td><td>science</td><td>4400708300</td><td>None</td><td>bhm_aqmes_med</td><td>-9.99999</td><td>19.1244</td><td>18.6681</td><td>19.3397</td><td>2020.8</td><td>15004</td><td>AQM_001.85_+26.44</td></tr>\n",
       "<tr><td>1.127178</td><td>25.730631</td><td>BOSS_SHARED</td><td>science</td><td>4400706485</td><td>None</td><td>bhm_aqmes_med</td><td>-9.99999</td><td>18.5271</td><td>18.1093</td><td>18.636</td><td>2020.8</td><td>15004</td><td>AQM_001.85_+26.44</td></tr>\n",
       "<tr><td>0.3114712</td><td>26.690989</td><td>BOSS_SHARED</td><td>science</td><td>4402817510</td><td>None</td><td>bhm_aqmes_med</td><td>-9.99999</td><td>18.0585</td><td>17.6746</td><td>18.1992</td><td>2020.8</td><td>15004</td><td>AQM_001.85_+26.44</td></tr>\n",
       "<tr><td>1.2285048</td><td>25.531598</td><td>BOSS_SHARED</td><td>science</td><td>4400706076</td><td>None</td><td>bhm_aqmes_med</td><td>-9.99999</td><td>18.7186</td><td>18.2931</td><td>18.8423</td><td>2020.8</td><td>15004</td><td>AQM_001.85_+26.44</td></tr>\n",
       "<tr><td>1.5229276</td><td>25.379252</td><td>BOSS_SHARED</td><td>science</td><td>4400705517</td><td>None</td><td>bhm_aqmes_med</td><td>-9.99999</td><td>18.4583</td><td>17.9959</td><td>18.6406</td><td>2020.8</td><td>15004</td><td>AQM_001.85_+26.44</td></tr>\n",
       "<tr><td>0.3186912</td><td>26.549428</td><td>BOSS_SHARED</td><td>science</td><td>4400710148</td><td>2MASS-J00011648+2632580</td><td>bhm_aqmes_med</td><td>15.15</td><td>18.6231</td><td>17.2762</td><td>18.3915</td><td>2020.8</td><td>15004</td><td>AQM_001.85_+26.44</td></tr>\n",
       "<tr><td>2.8022426</td><td>26.02159</td><td>BOSS_SHARED</td><td>science</td><td>4400724447</td><td>None</td><td>bhm_aqmes_med</td><td>-9.99999</td><td>18.8746</td><td>18.5293</td><td>19.0061</td><td>2020.8</td><td>15004</td><td>AQM_001.85_+26.44</td></tr>\n",
       "<tr><td>1.4024277</td><td>26.42032</td><td>BOSS_SHARED</td><td>science</td><td>4400713931</td><td>None</td><td>bhm_aqmes_med</td><td>-9.99999</td><td>18.973</td><td>18.3108</td><td>19.3651</td><td>2020.8</td><td>15004</td><td>AQM_001.85_+26.44</td></tr>\n",
       "<tr><td>...</td><td>...</td><td>...</td><td>...</td><td>...</td><td>...</td><td>...</td><td>...</td><td>...</td><td>...</td><td>...</td><td>...</td><td>...</td><td>...</td></tr>\n",
       "<tr><td>0.0</td><td>0.0</td><td>ALIGNMENT</td><td>NA</td><td>0</td><td>NA</td><td>NA</td><td>-9999.0</td><td>0.0</td><td>0.0</td><td>0.0</td><td>2011.0</td><td>15004</td><td>AQM_001.85_+26.44</td></tr>\n",
       "<tr><td>0.0</td><td>0.0</td><td>ALIGNMENT</td><td>NA</td><td>0</td><td>NA</td><td>NA</td><td>-9999.0</td><td>0.0</td><td>0.0</td><td>0.0</td><td>2011.0</td><td>15004</td><td>AQM_001.85_+26.44</td></tr>\n",
       "<tr><td>0.0</td><td>0.0</td><td>ALIGNMENT</td><td>NA</td><td>0</td><td>NA</td><td>NA</td><td>-9999.0</td><td>0.0</td><td>0.0</td><td>0.0</td><td>2011.0</td><td>15004</td><td>AQM_001.85_+26.44</td></tr>\n",
       "<tr><td>0.0</td><td>0.0</td><td>ALIGNMENT</td><td>NA</td><td>0</td><td>NA</td><td>NA</td><td>-9999.0</td><td>0.0</td><td>0.0</td><td>0.0</td><td>2011.0</td><td>15004</td><td>AQM_001.85_+26.44</td></tr>\n",
       "<tr><td>0.0</td><td>0.0</td><td>ALIGNMENT</td><td>NA</td><td>0</td><td>NA</td><td>NA</td><td>-9999.0</td><td>0.0</td><td>0.0</td><td>0.0</td><td>2011.0</td><td>15004</td><td>AQM_001.85_+26.44</td></tr>\n",
       "<tr><td>0.0</td><td>0.0</td><td>ALIGNMENT</td><td>NA</td><td>0</td><td>NA</td><td>NA</td><td>-9999.0</td><td>0.0</td><td>0.0</td><td>0.0</td><td>2011.0</td><td>15004</td><td>AQM_001.85_+26.44</td></tr>\n",
       "<tr><td>0.0</td><td>0.0</td><td>ALIGNMENT</td><td>NA</td><td>0</td><td>NA</td><td>NA</td><td>-9999.0</td><td>0.0</td><td>0.0</td><td>0.0</td><td>2011.0</td><td>15004</td><td>AQM_001.85_+26.44</td></tr>\n",
       "<tr><td>0.0</td><td>0.0</td><td>ALIGNMENT</td><td>NA</td><td>0</td><td>NA</td><td>NA</td><td>-9999.0</td><td>0.0</td><td>0.0</td><td>0.0</td><td>2011.0</td><td>15004</td><td>AQM_001.85_+26.44</td></tr>\n",
       "<tr><td>0.0</td><td>0.0</td><td>ALIGNMENT</td><td>NA</td><td>0</td><td>NA</td><td>NA</td><td>-9999.0</td><td>0.0</td><td>0.0</td><td>0.0</td><td>2011.0</td><td>15004</td><td>AQM_001.85_+26.44</td></tr>\n",
       "<tr><td>0.0</td><td>0.0</td><td>ALIGNMENT</td><td>NA</td><td>0</td><td>NA</td><td>NA</td><td>-9999.0</td><td>0.0</td><td>0.0</td><td>0.0</td><td>2011.0</td><td>15004</td><td>AQM_001.85_+26.44</td></tr>\n",
       "</table>"
      ],
      "text/plain": [
       "<Table length=835>\n",
       "target_ra target_dec   holetype  targettype ...  epoch  plate       field      \n",
       " float64   float64      str13       str8    ... float64 int64      bytes200    \n",
       "--------- ---------- ----------- ---------- ... ------- ----- -----------------\n",
       "      0.0        0.0      CENTER         NA ...  2020.8 15004 AQM_001.85_+26.44\n",
       "2.3022188  26.839717 BOSS_SHARED    science ...  2020.8 15004 AQM_001.85_+26.44\n",
       "0.4196239  26.073782 BOSS_SHARED    science ...  2020.8 15004 AQM_001.85_+26.44\n",
       " 1.127178  25.730631 BOSS_SHARED    science ...  2020.8 15004 AQM_001.85_+26.44\n",
       "0.3114712  26.690989 BOSS_SHARED    science ...  2020.8 15004 AQM_001.85_+26.44\n",
       "1.2285048  25.531598 BOSS_SHARED    science ...  2020.8 15004 AQM_001.85_+26.44\n",
       "1.5229276  25.379252 BOSS_SHARED    science ...  2020.8 15004 AQM_001.85_+26.44\n",
       "0.3186912  26.549428 BOSS_SHARED    science ...  2020.8 15004 AQM_001.85_+26.44\n",
       "2.8022426   26.02159 BOSS_SHARED    science ...  2020.8 15004 AQM_001.85_+26.44\n",
       "1.4024277   26.42032 BOSS_SHARED    science ...  2020.8 15004 AQM_001.85_+26.44\n",
       "      ...        ...         ...        ... ...     ...   ...               ...\n",
       "      0.0        0.0   ALIGNMENT         NA ...  2011.0 15004 AQM_001.85_+26.44\n",
       "      0.0        0.0   ALIGNMENT         NA ...  2011.0 15004 AQM_001.85_+26.44\n",
       "      0.0        0.0   ALIGNMENT         NA ...  2011.0 15004 AQM_001.85_+26.44\n",
       "      0.0        0.0   ALIGNMENT         NA ...  2011.0 15004 AQM_001.85_+26.44\n",
       "      0.0        0.0   ALIGNMENT         NA ...  2011.0 15004 AQM_001.85_+26.44\n",
       "      0.0        0.0   ALIGNMENT         NA ...  2011.0 15004 AQM_001.85_+26.44\n",
       "      0.0        0.0   ALIGNMENT         NA ...  2011.0 15004 AQM_001.85_+26.44\n",
       "      0.0        0.0   ALIGNMENT         NA ...  2011.0 15004 AQM_001.85_+26.44\n",
       "      0.0        0.0   ALIGNMENT         NA ...  2011.0 15004 AQM_001.85_+26.44\n",
       "      0.0        0.0   ALIGNMENT         NA ...  2011.0 15004 AQM_001.85_+26.44"
      ]
     },
     "execution_count": 35,
     "metadata": {},
     "output_type": "execute_result"
    }
   ],
   "source": [
    "fAQM.targets"
   ]
  },
  {
   "cell_type": "code",
   "execution_count": null,
   "metadata": {},
   "outputs": [],
   "source": []
  },
  {
   "cell_type": "code",
   "execution_count": 36,
   "metadata": {},
   "outputs": [
    {
     "data": {
      "text/html": [
       "<i>Table length=34</i>\n",
       "<table id=\"table139815856795952\" class=\"table-striped table-bordered table-condensed\">\n",
       "<thead><tr><th>plateid</th><th>designid</th><th>locationid</th><th>tileid</th><th>plateDesignVersion</th><th>ha [6]</th><th>temp</th><th>epoch</th><th>raCen</th><th>decCen</th><th>survey</th><th>programname</th><th>drillstyle</th><th>rerun</th><th>platerun</th><th>chunk</th><th>name</th><th>comments</th></tr></thead>\n",
       "<thead><tr><th>int32</th><th>int32</th><th>int32</th><th>int32</th><th>bytes20</th><th>float32</th><th>float32</th><th>float32</th><th>float64</th><th>float64</th><th>bytes20</th><th>bytes40</th><th>bytes20</th><th>bytes50</th><th>bytes200</th><th>bytes200</th><th>bytes200</th><th>bytes200</th></tr></thead>\n",
       "<tr><td>15004</td><td>15001</td><td>50001</td><td>-1</td><td>v2</td><td>-15.0 .. 0.0</td><td>13.0</td><td>2020.8</td><td>1.845703</td><td>26.443334</td><td>bhm-mwm</td><td>AQMES-Medium</td><td>apogee_boss</td><td></td><td>2020.08.c.bhm-mwm</td><td>2020.08.c.bhm-mwm</td><td>AQM_001.85_+26.44</td><td></td></tr>\n",
       "<tr><td>15005</td><td>15002</td><td>50002</td><td>-1</td><td>v2</td><td>-15.0 .. 0.0</td><td>13.0</td><td>2020.8</td><td>8.525391</td><td>1.044512</td><td>bhm-mwm</td><td>AQMES-Medium</td><td>apogee_boss</td><td></td><td>2020.08.c.bhm-mwm</td><td>2020.08.c.bhm-mwm</td><td>AQM_008.53_+01.04</td><td></td></tr>\n",
       "<tr><td>15006</td><td>15003</td><td>50003</td><td>-1</td><td>v2</td><td>-15.0 .. 0.0</td><td>13.0</td><td>2020.8</td><td>9.316406</td><td>25.530378</td><td>bhm-mwm</td><td>AQMES-Medium</td><td>apogee_boss</td><td></td><td>2020.08.c.bhm-mwm</td><td>2020.08.c.bhm-mwm</td><td>AQM_009.32_+25.53</td><td></td></tr>\n",
       "<tr><td>15007</td><td>15004</td><td>50004</td><td>-1</td><td>v2</td><td>0.0 .. 0.0</td><td>11.0</td><td>2020.8</td><td>10.458984</td><td>-0.447628</td><td>bhm-mwm</td><td>AQMES-Medium</td><td>apogee_boss</td><td></td><td>2020.08.c.bhm-mwm</td><td>2020.08.c.bhm-mwm</td><td>AQM_010.46_-00.45</td><td></td></tr>\n",
       "<tr><td>15008</td><td>15005</td><td>50005</td><td>-1</td><td>v2</td><td>0.0 .. 0.0</td><td>11.0</td><td>2020.8</td><td>13.710938</td><td>0.820671</td><td>bhm-mwm</td><td>AQMES-Medium</td><td>apogee_boss</td><td></td><td>2020.08.c.bhm-mwm</td><td>2020.08.c.bhm-mwm</td><td>AQM_013.71_+00.82</td><td></td></tr>\n",
       "<tr><td>15009</td><td>15006</td><td>50006</td><td>-1</td><td>v2</td><td>0.0 .. 0.0</td><td>11.0</td><td>2020.8</td><td>19.599609</td><td>-0.74606</td><td>bhm-mwm</td><td>AQMES-Medium</td><td>apogee_boss</td><td></td><td>2020.08.c.bhm-mwm</td><td>2020.08.c.bhm-mwm</td><td>AQM_019.60_-00.75</td><td></td></tr>\n",
       "<tr><td>15010</td><td>15007</td><td>50007</td><td>-1</td><td>v2</td><td>0.0 .. 0.0</td><td>11.0</td><td>2020.8</td><td>21.005859</td><td>14.78593</td><td>bhm-mwm</td><td>AQMES-Medium</td><td>apogee_boss</td><td></td><td>2020.08.c.bhm-mwm</td><td>2020.08.c.bhm-mwm</td><td>AQM_021.01_+14.79</td><td></td></tr>\n",
       "<tr><td>15011</td><td>15008</td><td>50008</td><td>-1</td><td>v2</td><td>0.0 .. 0.0</td><td>11.0</td><td>2020.8</td><td>22.148438</td><td>0.522234</td><td>bhm-mwm</td><td>AQMES-Medium</td><td>apogee_boss</td><td></td><td>2020.08.c.bhm-mwm</td><td>2020.08.c.bhm-mwm</td><td>AQM_022.15_+00.52</td><td></td></tr>\n",
       "<tr><td>15012</td><td>15009</td><td>50009</td><td>-1</td><td>v2</td><td>0.0 .. 0.0</td><td>11.0</td><td>2020.8</td><td>24.609375</td><td>-0.522234</td><td>bhm-mwm</td><td>AQMES-Medium</td><td>apogee_boss</td><td></td><td>2020.08.c.bhm-mwm</td><td>2020.08.c.bhm-mwm</td><td>AQM_024.61_-00.52</td><td></td></tr>\n",
       "<tr><td>15013</td><td>15010</td><td>50010</td><td>-1</td><td>v2</td><td>0.0 .. 0.0</td><td>11.0</td><td>2020.8</td><td>28.564453</td><td>0.149208</td><td>bhm-mwm</td><td>AQMES-Medium</td><td>apogee_boss</td><td></td><td>2020.08.c.bhm-mwm</td><td>2020.08.c.bhm-mwm</td><td>AQM_028.56_+00.15</td><td></td></tr>\n",
       "<tr><td>...</td><td>...</td><td>...</td><td>...</td><td>...</td><td>...</td><td>...</td><td>...</td><td>...</td><td>...</td><td>...</td><td>...</td><td>...</td><td>...</td><td>...</td><td>...</td><td>...</td><td>...</td></tr>\n",
       "<tr><td>15028</td><td>15025</td><td>50025</td><td>-1</td><td>v2</td><td>0.0 .. 0.0</td><td>14.0</td><td>2020.8</td><td>344.17969</td><td>19.234005</td><td>bhm-mwm</td><td>AQMES-Medium</td><td>apogee_boss</td><td></td><td>2020.08.c.bhm-mwm</td><td>2020.08.c.bhm-mwm</td><td>AQM_344.18_+19.23</td><td></td></tr>\n",
       "<tr><td>15029</td><td>15026</td><td>50026</td><td>-1</td><td>v2</td><td>-15.0 .. 0.0</td><td>15.0</td><td>2020.8</td><td>334.95117</td><td>0.895283</td><td>bhm-mwm</td><td>AQMES-Medium</td><td>apogee_boss</td><td></td><td>2020.08.c.bhm-mwm</td><td>2020.08.c.bhm-mwm</td><td>AQM_334.95_+00.90</td><td></td></tr>\n",
       "<tr><td>15030</td><td>15027</td><td>50027</td><td>-1</td><td>v2</td><td>-15.0 .. 0.0</td><td>15.0</td><td>2020.8</td><td>335.6543</td><td>20.423615</td><td>bhm-mwm</td><td>AQMES-Wide</td><td>apogee_boss</td><td></td><td>2020.08.c.bhm-mwm</td><td>2020.08.c.bhm-mwm</td><td>AQW_335.65_+20.42</td><td></td></tr>\n",
       "<tr><td>15031</td><td>15028</td><td>50028</td><td>-1</td><td>v2</td><td>0.0 .. 0.0</td><td>14.0</td><td>2020.8</td><td>339.25781</td><td>24.051153</td><td>bhm-mwm</td><td>AQMES-Wide</td><td>apogee_boss</td><td></td><td>2020.08.c.bhm-mwm</td><td>2020.08.c.bhm-mwm</td><td>AQW_339.26_+24.05</td><td></td></tr>\n",
       "<tr><td>15032</td><td>15029</td><td>50029</td><td>-1</td><td>v2</td><td>0.0 .. 0.0</td><td>14.0</td><td>2020.8</td><td>340.04883</td><td>26.610098</td><td>bhm-mwm</td><td>AQMES-Wide</td><td>apogee_boss</td><td></td><td>2020.08.c.bhm-mwm</td><td>2020.08.c.bhm-mwm</td><td>AQW_340.05_+26.61</td><td></td></tr>\n",
       "<tr><td>15033</td><td>15030</td><td>50030</td><td>-1</td><td>v2</td><td>-10.0 .. 0.0</td><td>14.0</td><td>2020.8</td><td>354.46289</td><td>-0.447628</td><td>bhm-mwm</td><td>AQMES-Medium</td><td>apogee_boss</td><td></td><td>2020.08.c.bhm-mwm</td><td>2020.08.c.bhm-mwm</td><td>AQM_354.46_-00.45</td><td></td></tr>\n",
       "<tr><td>15034</td><td>15031</td><td>50031</td><td>-1</td><td>v2</td><td>-10.0 .. 0.0</td><td>14.0</td><td>2020.8</td><td>357.09961</td><td>0.0</td><td>bhm-mwm</td><td>AQMES-Medium</td><td>apogee_boss</td><td></td><td>2020.08.c.bhm-mwm</td><td>2020.08.c.bhm-mwm</td><td>AQM_357.10_+00.00</td><td></td></tr>\n",
       "<tr><td>15035</td><td>15032</td><td>50032</td><td>-1</td><td>v2</td><td>0.0 .. 0.0</td><td>14.0</td><td>2020.8</td><td>359.38477</td><td>0.149208</td><td>bhm-mwm</td><td>AQMES-Medium</td><td>apogee_boss</td><td></td><td>2020.08.c.bhm-mwm</td><td>2020.08.c.bhm-mwm</td><td>AQM_359.38_+00.15</td><td></td></tr>\n",
       "<tr><td>15036</td><td>15033</td><td>50033</td><td>-1</td><td>v2</td><td>-10.0 .. 0.0</td><td>14.0</td><td>2020.8</td><td>351.03516</td><td>24.378358</td><td>bhm-mwm</td><td>AQMES-Wide</td><td>apogee_boss</td><td></td><td>2020.08.c.bhm-mwm</td><td>2020.08.c.bhm-mwm</td><td>AQW_351.04_+24.38</td><td></td></tr>\n",
       "<tr><td>15037</td><td>15034</td><td>50034</td><td>-1</td><td>v2</td><td>-10.0 .. 0.0</td><td>14.0</td><td>2020.8</td><td>353.58398</td><td>23.969482</td><td>bhm-mwm</td><td>AQMES-Wide</td><td>apogee_boss</td><td></td><td>2020.08.c.bhm-mwm</td><td>2020.08.c.bhm-mwm</td><td>AQW_353.58_+23.97</td><td></td></tr>\n",
       "</table>"
      ],
      "text/plain": [
       "<Table length=34>\n",
       "plateid designid locationid ...       chunk              name       comments\n",
       " int32   int32     int32    ...      bytes200          bytes200     bytes200\n",
       "------- -------- ---------- ... ----------------- ----------------- --------\n",
       "  15004    15001      50001 ... 2020.08.c.bhm-mwm AQM_001.85_+26.44         \n",
       "  15005    15002      50002 ... 2020.08.c.bhm-mwm AQM_008.53_+01.04         \n",
       "  15006    15003      50003 ... 2020.08.c.bhm-mwm AQM_009.32_+25.53         \n",
       "  15007    15004      50004 ... 2020.08.c.bhm-mwm AQM_010.46_-00.45         \n",
       "  15008    15005      50005 ... 2020.08.c.bhm-mwm AQM_013.71_+00.82         \n",
       "  15009    15006      50006 ... 2020.08.c.bhm-mwm AQM_019.60_-00.75         \n",
       "  15010    15007      50007 ... 2020.08.c.bhm-mwm AQM_021.01_+14.79         \n",
       "  15011    15008      50008 ... 2020.08.c.bhm-mwm AQM_022.15_+00.52         \n",
       "  15012    15009      50009 ... 2020.08.c.bhm-mwm AQM_024.61_-00.52         \n",
       "  15013    15010      50010 ... 2020.08.c.bhm-mwm AQM_028.56_+00.15         \n",
       "    ...      ...        ... ...               ...               ...      ...\n",
       "  15028    15025      50025 ... 2020.08.c.bhm-mwm AQM_344.18_+19.23         \n",
       "  15029    15026      50026 ... 2020.08.c.bhm-mwm AQM_334.95_+00.90         \n",
       "  15030    15027      50027 ... 2020.08.c.bhm-mwm AQW_335.65_+20.42         \n",
       "  15031    15028      50028 ... 2020.08.c.bhm-mwm AQW_339.26_+24.05         \n",
       "  15032    15029      50029 ... 2020.08.c.bhm-mwm AQW_340.05_+26.61         \n",
       "  15033    15030      50030 ... 2020.08.c.bhm-mwm AQM_354.46_-00.45         \n",
       "  15034    15031      50031 ... 2020.08.c.bhm-mwm AQM_357.10_+00.00         \n",
       "  15035    15032      50032 ... 2020.08.c.bhm-mwm AQM_359.38_+00.15         \n",
       "  15036    15033      50033 ... 2020.08.c.bhm-mwm AQW_351.04_+24.38         \n",
       "  15037    15034      50034 ... 2020.08.c.bhm-mwm AQW_353.58_+23.97         "
      ]
     },
     "execution_count": 36,
     "metadata": {},
     "output_type": "execute_result"
    }
   ],
   "source": [
    "platerun.platesummary"
   ]
  },
  {
   "cell_type": "code",
   "execution_count": 37,
   "metadata": {},
   "outputs": [
    {
     "name": "stdout",
     "output_type": "stream",
     "text": [
      "CPU times: user 27.3 s, sys: 120 ms, total: 27.4 s\n",
      "Wall time: 27.7 s\n"
     ]
    },
    {
     "data": {
      "text/plain": [
       "[Field('AQM_001.85_+26.44'),\n",
       " Field('AQM_008.53_+01.04'),\n",
       " Field('AQM_009.32_+25.53'),\n",
       " Field('AQM_010.46_-00.45'),\n",
       " Field('AQM_013.71_+00.82'),\n",
       " Field('AQM_019.60_-00.75'),\n",
       " Field('AQM_021.01_+14.79'),\n",
       " Field('AQM_022.15_+00.52'),\n",
       " Field('AQM_024.61_-00.52'),\n",
       " Field('AQM_028.56_+00.15'),\n",
       " Field('AQM_038.50_+00.82'),\n",
       " Field('AQM_040.87_-00.60'),\n",
       " Field('AQM_321.68_-00.67'),\n",
       " Field('AQM_334.95_+00.90'),\n",
       " Field('AQM_344.18_+19.23'),\n",
       " Field('AQM_354.46_-00.45'),\n",
       " Field('AQM_357.10_+00.00'),\n",
       " Field('AQM_359.38_+00.15'),\n",
       " Field('AQW_114.81_+29.83'),\n",
       " Field('AQW_115.68_+38.10'),\n",
       " Field('AQW_116.50_+31.59'),\n",
       " Field('AQW_117.80_+29.33'),\n",
       " Field('AQW_118.85_+37.42'),\n",
       " Field('AQW_119.07_+27.14'),\n",
       " Field('AQW_120.08_+35.03'),\n",
       " Field('AQW_121.38_+32.85'),\n",
       " Field('AQW_122.06_+26.83'),\n",
       " Field('AQW_123.29_+34.70'),\n",
       " Field('AQW_123.88_+38.85'),\n",
       " Field('AQW_335.65_+20.42'),\n",
       " Field('AQW_339.26_+24.05'),\n",
       " Field('AQW_340.05_+26.61'),\n",
       " Field('AQW_351.04_+24.38'),\n",
       " Field('AQW_353.58_+23.97')]"
      ]
     },
     "execution_count": 37,
     "metadata": {},
     "output_type": "execute_result"
    }
   ],
   "source": [
    "%time platerun.fields"
   ]
  },
  {
   "cell_type": "code",
   "execution_count": 38,
   "metadata": {},
   "outputs": [
    {
     "data": {
      "text/html": [
       "<i>Table length=28400</i>\n",
       "<table id=\"table139817528469680\" class=\"table-striped table-bordered table-condensed\">\n",
       "<thead><tr><th>target_ra</th><th>target_dec</th><th>holetype</th><th>targettype</th><th>catalogid</th><th>tmass_id</th><th>firstcarton</th><th>tmass_h</th><th>gaia_g</th><th>gaia_rp</th><th>gaia_bp</th><th>epoch</th><th>plate</th><th>field</th></tr></thead>\n",
       "<thead><tr><th>float64</th><th>float64</th><th>str13</th><th>str8</th><th>uint64</th><th>str23</th><th>str21</th><th>float64</th><th>float64</th><th>float64</th><th>float64</th><th>float64</th><th>int64</th><th>bytes200</th></tr></thead>\n",
       "<tr><td>0.0</td><td>0.0</td><td>CENTER</td><td>NA</td><td>0</td><td>NA</td><td>NA</td><td>-9999.0</td><td>0.0</td><td>0.0</td><td>0.0</td><td>2020.8</td><td>15004</td><td>AQM_001.85_+26.44</td></tr>\n",
       "<tr><td>2.3022188</td><td>26.839717</td><td>BOSS_SHARED</td><td>science</td><td>4402832120</td><td>2MASS-J00091250+2650230</td><td>bhm_aqmes_med</td><td>16.475</td><td>17.6381</td><td>17.3689</td><td>17.6729</td><td>2020.8</td><td>15004</td><td>AQM_001.85_+26.44</td></tr>\n",
       "<tr><td>0.4196239</td><td>26.073782</td><td>BOSS_SHARED</td><td>science</td><td>4400708300</td><td>None</td><td>bhm_aqmes_med</td><td>-9.99999</td><td>19.1244</td><td>18.6681</td><td>19.3397</td><td>2020.8</td><td>15004</td><td>AQM_001.85_+26.44</td></tr>\n",
       "<tr><td>1.127178</td><td>25.730631</td><td>BOSS_SHARED</td><td>science</td><td>4400706485</td><td>None</td><td>bhm_aqmes_med</td><td>-9.99999</td><td>18.5271</td><td>18.1093</td><td>18.636</td><td>2020.8</td><td>15004</td><td>AQM_001.85_+26.44</td></tr>\n",
       "<tr><td>0.3114712</td><td>26.690989</td><td>BOSS_SHARED</td><td>science</td><td>4402817510</td><td>None</td><td>bhm_aqmes_med</td><td>-9.99999</td><td>18.0585</td><td>17.6746</td><td>18.1992</td><td>2020.8</td><td>15004</td><td>AQM_001.85_+26.44</td></tr>\n",
       "<tr><td>1.2285048</td><td>25.531598</td><td>BOSS_SHARED</td><td>science</td><td>4400706076</td><td>None</td><td>bhm_aqmes_med</td><td>-9.99999</td><td>18.7186</td><td>18.2931</td><td>18.8423</td><td>2020.8</td><td>15004</td><td>AQM_001.85_+26.44</td></tr>\n",
       "<tr><td>1.5229276</td><td>25.379252</td><td>BOSS_SHARED</td><td>science</td><td>4400705517</td><td>None</td><td>bhm_aqmes_med</td><td>-9.99999</td><td>18.4583</td><td>17.9959</td><td>18.6406</td><td>2020.8</td><td>15004</td><td>AQM_001.85_+26.44</td></tr>\n",
       "<tr><td>0.3186912</td><td>26.549428</td><td>BOSS_SHARED</td><td>science</td><td>4400710148</td><td>2MASS-J00011648+2632580</td><td>bhm_aqmes_med</td><td>15.15</td><td>18.6231</td><td>17.2762</td><td>18.3915</td><td>2020.8</td><td>15004</td><td>AQM_001.85_+26.44</td></tr>\n",
       "<tr><td>2.8022426</td><td>26.02159</td><td>BOSS_SHARED</td><td>science</td><td>4400724447</td><td>None</td><td>bhm_aqmes_med</td><td>-9.99999</td><td>18.8746</td><td>18.5293</td><td>19.0061</td><td>2020.8</td><td>15004</td><td>AQM_001.85_+26.44</td></tr>\n",
       "<tr><td>1.4024277</td><td>26.42032</td><td>BOSS_SHARED</td><td>science</td><td>4400713931</td><td>None</td><td>bhm_aqmes_med</td><td>-9.99999</td><td>18.973</td><td>18.3108</td><td>19.3651</td><td>2020.8</td><td>15004</td><td>AQM_001.85_+26.44</td></tr>\n",
       "<tr><td>...</td><td>...</td><td>...</td><td>...</td><td>...</td><td>...</td><td>...</td><td>...</td><td>...</td><td>...</td><td>...</td><td>...</td><td>...</td><td>...</td></tr>\n",
       "<tr><td>0.0</td><td>0.0</td><td>ALIGNMENT</td><td>NA</td><td>0</td><td>NA</td><td>NA</td><td>-9999.0</td><td>0.0</td><td>0.0</td><td>0.0</td><td>2011.0</td><td>15037</td><td>AQW_353.58_+23.97</td></tr>\n",
       "<tr><td>0.0</td><td>0.0</td><td>ALIGNMENT</td><td>NA</td><td>0</td><td>NA</td><td>NA</td><td>-9999.0</td><td>0.0</td><td>0.0</td><td>0.0</td><td>2011.0</td><td>15037</td><td>AQW_353.58_+23.97</td></tr>\n",
       "<tr><td>0.0</td><td>0.0</td><td>ALIGNMENT</td><td>NA</td><td>0</td><td>NA</td><td>NA</td><td>-9999.0</td><td>0.0</td><td>0.0</td><td>0.0</td><td>2011.0</td><td>15037</td><td>AQW_353.58_+23.97</td></tr>\n",
       "<tr><td>0.0</td><td>0.0</td><td>ALIGNMENT</td><td>NA</td><td>0</td><td>NA</td><td>NA</td><td>-9999.0</td><td>0.0</td><td>0.0</td><td>0.0</td><td>2011.0</td><td>15037</td><td>AQW_353.58_+23.97</td></tr>\n",
       "<tr><td>0.0</td><td>0.0</td><td>ALIGNMENT</td><td>NA</td><td>0</td><td>NA</td><td>NA</td><td>-9999.0</td><td>0.0</td><td>0.0</td><td>0.0</td><td>2011.0</td><td>15037</td><td>AQW_353.58_+23.97</td></tr>\n",
       "<tr><td>0.0</td><td>0.0</td><td>ALIGNMENT</td><td>NA</td><td>0</td><td>NA</td><td>NA</td><td>-9999.0</td><td>0.0</td><td>0.0</td><td>0.0</td><td>2011.0</td><td>15037</td><td>AQW_353.58_+23.97</td></tr>\n",
       "<tr><td>0.0</td><td>0.0</td><td>ALIGNMENT</td><td>NA</td><td>0</td><td>NA</td><td>NA</td><td>-9999.0</td><td>0.0</td><td>0.0</td><td>0.0</td><td>2011.0</td><td>15037</td><td>AQW_353.58_+23.97</td></tr>\n",
       "<tr><td>0.0</td><td>0.0</td><td>ALIGNMENT</td><td>NA</td><td>0</td><td>NA</td><td>NA</td><td>-9999.0</td><td>0.0</td><td>0.0</td><td>0.0</td><td>2011.0</td><td>15037</td><td>AQW_353.58_+23.97</td></tr>\n",
       "<tr><td>0.0</td><td>0.0</td><td>ALIGNMENT</td><td>NA</td><td>0</td><td>NA</td><td>NA</td><td>-9999.0</td><td>0.0</td><td>0.0</td><td>0.0</td><td>2011.0</td><td>15037</td><td>AQW_353.58_+23.97</td></tr>\n",
       "<tr><td>0.0</td><td>0.0</td><td>ALIGNMENT</td><td>NA</td><td>0</td><td>NA</td><td>NA</td><td>-9999.0</td><td>0.0</td><td>0.0</td><td>0.0</td><td>2011.0</td><td>15037</td><td>AQW_353.58_+23.97</td></tr>\n",
       "</table>"
      ],
      "text/plain": [
       "<Table length=28400>\n",
       "target_ra target_dec   holetype  targettype ...  epoch  plate       field      \n",
       " float64   float64      str13       str8    ... float64 int64      bytes200    \n",
       "--------- ---------- ----------- ---------- ... ------- ----- -----------------\n",
       "      0.0        0.0      CENTER         NA ...  2020.8 15004 AQM_001.85_+26.44\n",
       "2.3022188  26.839717 BOSS_SHARED    science ...  2020.8 15004 AQM_001.85_+26.44\n",
       "0.4196239  26.073782 BOSS_SHARED    science ...  2020.8 15004 AQM_001.85_+26.44\n",
       " 1.127178  25.730631 BOSS_SHARED    science ...  2020.8 15004 AQM_001.85_+26.44\n",
       "0.3114712  26.690989 BOSS_SHARED    science ...  2020.8 15004 AQM_001.85_+26.44\n",
       "1.2285048  25.531598 BOSS_SHARED    science ...  2020.8 15004 AQM_001.85_+26.44\n",
       "1.5229276  25.379252 BOSS_SHARED    science ...  2020.8 15004 AQM_001.85_+26.44\n",
       "0.3186912  26.549428 BOSS_SHARED    science ...  2020.8 15004 AQM_001.85_+26.44\n",
       "2.8022426   26.02159 BOSS_SHARED    science ...  2020.8 15004 AQM_001.85_+26.44\n",
       "1.4024277   26.42032 BOSS_SHARED    science ...  2020.8 15004 AQM_001.85_+26.44\n",
       "      ...        ...         ...        ... ...     ...   ...               ...\n",
       "      0.0        0.0   ALIGNMENT         NA ...  2011.0 15037 AQW_353.58_+23.97\n",
       "      0.0        0.0   ALIGNMENT         NA ...  2011.0 15037 AQW_353.58_+23.97\n",
       "      0.0        0.0   ALIGNMENT         NA ...  2011.0 15037 AQW_353.58_+23.97\n",
       "      0.0        0.0   ALIGNMENT         NA ...  2011.0 15037 AQW_353.58_+23.97\n",
       "      0.0        0.0   ALIGNMENT         NA ...  2011.0 15037 AQW_353.58_+23.97\n",
       "      0.0        0.0   ALIGNMENT         NA ...  2011.0 15037 AQW_353.58_+23.97\n",
       "      0.0        0.0   ALIGNMENT         NA ...  2011.0 15037 AQW_353.58_+23.97\n",
       "      0.0        0.0   ALIGNMENT         NA ...  2011.0 15037 AQW_353.58_+23.97\n",
       "      0.0        0.0   ALIGNMENT         NA ...  2011.0 15037 AQW_353.58_+23.97\n",
       "      0.0        0.0   ALIGNMENT         NA ...  2011.0 15037 AQW_353.58_+23.97"
      ]
     },
     "execution_count": 38,
     "metadata": {},
     "output_type": "execute_result"
    }
   ],
   "source": [
    "platerun.targets"
   ]
  },
  {
   "cell_type": "code",
   "execution_count": null,
   "metadata": {},
   "outputs": [],
   "source": []
  },
  {
   "cell_type": "code",
   "execution_count": 39,
   "metadata": {},
   "outputs": [
    {
     "data": {
      "text/plain": [
       "array([False, False, False, ..., False, False, False])"
      ]
     },
     "execution_count": 39,
     "metadata": {},
     "output_type": "execute_result"
    }
   ],
   "source": [
    "targs.available_in_platerun(platerun)"
   ]
  },
  {
   "cell_type": "code",
   "execution_count": 40,
   "metadata": {},
   "outputs": [
    {
     "data": {
      "text/html": [
       "<i>Table length=8</i>\n",
       "<table id=\"table139815856796624\" class=\"table-striped table-bordered table-condensed\">\n",
       "<thead><tr><th>target_ra</th><th>target_dec</th><th>holetype</th><th>targettype</th><th>catalogid</th><th>tmass_id</th><th>firstcarton</th><th>tmass_h</th><th>gaia_g</th><th>gaia_rp</th><th>gaia_bp</th><th>epoch</th><th>plate</th><th>field</th></tr></thead>\n",
       "<thead><tr><th>float64</th><th>float64</th><th>str13</th><th>str8</th><th>uint64</th><th>str23</th><th>str19</th><th>float64</th><th>float64</th><th>float64</th><th>float64</th><th>float64</th><th>int64</th><th>bytes200</th></tr></thead>\n",
       "<tr><td>2.5314287</td><td>27.629205</td><td>APOGEE_SHARED</td><td>science</td><td>4402840037</td><td>2MASS-J00100745+2737460</td><td>mwm_snc_100pc</td><td>10.121</td><td>13.3348</td><td>12.2451</td><td>14.5475</td><td>2020.8</td><td>15004</td><td>AQM_001.85_+26.44</td></tr>\n",
       "<tr><td>2.3777257</td><td>27.31645</td><td>APOGEE_SHARED</td><td>science</td><td>4402838198</td><td>2MASS-J00093051+2718584</td><td>mwm_snc_100pc</td><td>9.911</td><td>12.6616</td><td>11.7227</td><td>13.5774</td><td>2020.8</td><td>15004</td><td>AQM_001.85_+26.44</td></tr>\n",
       "<tr><td>2.2492676</td><td>27.666838</td><td>APOGEE_SHARED</td><td>science</td><td>4402839837</td><td>2MASS-J00085952+2739581</td><td>mwm_snc_100pc</td><td>9.812</td><td>12.7371</td><td>11.7309</td><td>13.7767</td><td>2020.8</td><td>15004</td><td>AQM_001.85_+26.44</td></tr>\n",
       "<tr><td>2.5787315</td><td>27.539313</td><td>APOGEE_SHARED</td><td>science</td><td>4402838933</td><td>2MASS-J00101886+2732218</td><td>mwm_snc_250pc</td><td>9.547</td><td>10.843</td><td>10.3745</td><td>11.1787</td><td>2020.8</td><td>15004</td><td>AQM_001.85_+26.44</td></tr>\n",
       "<tr><td>2.3601101</td><td>27.496561</td><td>APOGEE_SHARED</td><td>science</td><td>4402838643</td><td>2MASS-J00092642+2729485</td><td>mwm_snc_250pc</td><td>9.145</td><td>10.7554</td><td>10.2025</td><td>11.1768</td><td>2020.8</td><td>15004</td><td>AQM_001.85_+26.44</td></tr>\n",
       "<tr><td>3.3869881</td><td>26.819795</td><td>APOGEE_SHARED</td><td>science</td><td>4402835549</td><td>2MASS-J00133290+2649115</td><td>mwm_snc_250pc</td><td>9.234</td><td>10.6139</td><td>10.1126</td><td>10.9878</td><td>2020.8</td><td>15004</td><td>AQM_001.85_+26.44</td></tr>\n",
       "<tr><td>3.0179016</td><td>26.516625</td><td>APOGEE_SHARED</td><td>science</td><td>4400726315</td><td>2MASS-J00120421+2631008</td><td>mwm_planet_tess</td><td>9.293</td><td>11.6254</td><td>10.8608</td><td>12.274</td><td>2020.8</td><td>15004</td><td>AQM_001.85_+26.44</td></tr>\n",
       "<tr><td>3.1523758</td><td>26.252226</td><td>APOGEE_SHARED</td><td>science</td><td>4400726404</td><td>2MASS-J00123658+2615081</td><td>mwm_planet_tess</td><td>10.946</td><td>12.3186</td><td>11.8233</td><td>12.6512</td><td>2020.8</td><td>15004</td><td>AQM_001.85_+26.44</td></tr>\n",
       "</table>"
      ],
      "text/plain": [
       "<Table length=8>\n",
       "target_ra target_dec    holetype   ...  epoch  plate       field      \n",
       " float64   float64       str13     ... float64 int64      bytes200    \n",
       "--------- ---------- ------------- ... ------- ----- -----------------\n",
       "2.5314287  27.629205 APOGEE_SHARED ...  2020.8 15004 AQM_001.85_+26.44\n",
       "2.3777257   27.31645 APOGEE_SHARED ...  2020.8 15004 AQM_001.85_+26.44\n",
       "2.2492676  27.666838 APOGEE_SHARED ...  2020.8 15004 AQM_001.85_+26.44\n",
       "2.5787315  27.539313 APOGEE_SHARED ...  2020.8 15004 AQM_001.85_+26.44\n",
       "2.3601101  27.496561 APOGEE_SHARED ...  2020.8 15004 AQM_001.85_+26.44\n",
       "3.3869881  26.819795 APOGEE_SHARED ...  2020.8 15004 AQM_001.85_+26.44\n",
       "3.0179016  26.516625 APOGEE_SHARED ...  2020.8 15004 AQM_001.85_+26.44\n",
       "3.1523758  26.252226 APOGEE_SHARED ...  2020.8 15004 AQM_001.85_+26.44"
      ]
     },
     "execution_count": 40,
     "metadata": {},
     "output_type": "execute_result"
    }
   ],
   "source": [
    "targs.assigned_info(fAQM)"
   ]
  },
  {
   "cell_type": "code",
   "execution_count": 41,
   "metadata": {},
   "outputs": [
    {
     "data": {
      "text/html": [
       "<i>Table length=398</i>\n",
       "<table id=\"table139815866590736\" class=\"table-striped table-bordered table-condensed\">\n",
       "<thead><tr><th>target_ra</th><th>target_dec</th><th>holetype</th><th>targettype</th><th>catalogid</th><th>tmass_id</th><th>firstcarton</th><th>tmass_h</th><th>gaia_g</th><th>gaia_rp</th><th>gaia_bp</th><th>epoch</th><th>plate</th><th>field</th></tr></thead>\n",
       "<thead><tr><th>float64</th><th>float64</th><th>str13</th><th>str8</th><th>uint64</th><th>str23</th><th>str21</th><th>float64</th><th>float64</th><th>float64</th><th>float64</th><th>float64</th><th>int64</th><th>bytes200</th></tr></thead>\n",
       "<tr><td>2.5314287</td><td>27.629205</td><td>APOGEE_SHARED</td><td>science</td><td>4402840037</td><td>2MASS-J00100745+2737460</td><td>mwm_snc_100pc</td><td>10.121</td><td>13.3348</td><td>12.2451</td><td>14.5475</td><td>2020.8</td><td>15004</td><td>AQM_001.85_+26.44</td></tr>\n",
       "<tr><td>2.3777257</td><td>27.31645</td><td>APOGEE_SHARED</td><td>science</td><td>4402838198</td><td>2MASS-J00093051+2718584</td><td>mwm_snc_100pc</td><td>9.911</td><td>12.6616</td><td>11.7227</td><td>13.5774</td><td>2020.8</td><td>15004</td><td>AQM_001.85_+26.44</td></tr>\n",
       "<tr><td>2.2492676</td><td>27.666838</td><td>APOGEE_SHARED</td><td>science</td><td>4402839837</td><td>2MASS-J00085952+2739581</td><td>mwm_snc_100pc</td><td>9.812</td><td>12.7371</td><td>11.7309</td><td>13.7767</td><td>2020.8</td><td>15004</td><td>AQM_001.85_+26.44</td></tr>\n",
       "<tr><td>2.5787315</td><td>27.539313</td><td>APOGEE_SHARED</td><td>science</td><td>4402838933</td><td>2MASS-J00101886+2732218</td><td>mwm_snc_250pc</td><td>9.547</td><td>10.843</td><td>10.3745</td><td>11.1787</td><td>2020.8</td><td>15004</td><td>AQM_001.85_+26.44</td></tr>\n",
       "<tr><td>2.3601101</td><td>27.496561</td><td>APOGEE_SHARED</td><td>science</td><td>4402838643</td><td>2MASS-J00092642+2729485</td><td>mwm_snc_250pc</td><td>9.145</td><td>10.7554</td><td>10.2025</td><td>11.1768</td><td>2020.8</td><td>15004</td><td>AQM_001.85_+26.44</td></tr>\n",
       "<tr><td>3.3869881</td><td>26.819795</td><td>APOGEE_SHARED</td><td>science</td><td>4402835549</td><td>2MASS-J00133290+2649115</td><td>mwm_snc_250pc</td><td>9.234</td><td>10.6139</td><td>10.1126</td><td>10.9878</td><td>2020.8</td><td>15004</td><td>AQM_001.85_+26.44</td></tr>\n",
       "<tr><td>3.0179016</td><td>26.516625</td><td>APOGEE_SHARED</td><td>science</td><td>4400726315</td><td>2MASS-J00120421+2631008</td><td>mwm_planet_tess</td><td>9.293</td><td>11.6254</td><td>10.8608</td><td>12.274</td><td>2020.8</td><td>15004</td><td>AQM_001.85_+26.44</td></tr>\n",
       "<tr><td>3.1523758</td><td>26.252226</td><td>APOGEE_SHARED</td><td>science</td><td>4400726404</td><td>2MASS-J00123658+2615081</td><td>mwm_planet_tess</td><td>10.946</td><td>12.3186</td><td>11.8233</td><td>12.6512</td><td>2020.8</td><td>15004</td><td>AQM_001.85_+26.44</td></tr>\n",
       "<tr><td>9.5389084</td><td>25.8872</td><td>APOGEE_SHARED</td><td>science</td><td>4400907875</td><td>2MASS-J00380942+2553145</td><td>mwm_snc_100pc</td><td>10.278</td><td>13.6524</td><td>12.4825</td><td>15.0674</td><td>2020.8</td><td>15006</td><td>AQM_009.32_+25.53</td></tr>\n",
       "<tr><td>8.6989824</td><td>26.065578</td><td>APOGEE_SHARED</td><td>science</td><td>4400899851</td><td>2MASS-J00344729+2603570</td><td>mwm_snc_100pc</td><td>7.225</td><td>9.1703</td><td>8.5181</td><td>9.7079</td><td>2020.8</td><td>15006</td><td>AQM_009.32_+25.53</td></tr>\n",
       "<tr><td>...</td><td>...</td><td>...</td><td>...</td><td>...</td><td>...</td><td>...</td><td>...</td><td>...</td><td>...</td><td>...</td><td>...</td><td>...</td><td>...</td></tr>\n",
       "<tr><td>124.85103</td><td>39.863622</td><td>APOGEE_SHARED</td><td>science</td><td>4361395457</td><td>2MASS-J08192421+3951499</td><td>mwm_snc_250pc</td><td>8.664</td><td>10.1004</td><td>9.5892</td><td>10.4808</td><td>2020.8</td><td>15026</td><td>AQW_123.88_+38.85</td></tr>\n",
       "<tr><td>123.6059</td><td>37.584992</td><td>APOGEE_SHARED</td><td>science</td><td>4555500617</td><td>2MASS-J08142542+3735067</td><td>mwm_snc_250pc</td><td>9.172</td><td>10.5826</td><td>10.0839</td><td>10.9476</td><td>2020.8</td><td>15026</td><td>AQW_123.88_+38.85</td></tr>\n",
       "<tr><td>125.25693</td><td>39.419972</td><td>APOGEE_SHARED</td><td>science</td><td>4361419395</td><td>2MASS-J08210169+3925122</td><td>mwm_snc_250pc</td><td>9.213</td><td>10.4649</td><td>10.0003</td><td>10.7824</td><td>2020.8</td><td>15026</td><td>AQW_123.88_+38.85</td></tr>\n",
       "<tr><td>124.18519</td><td>38.718811</td><td>APOGEE_SHARED</td><td>science</td><td>4555536659</td><td>2MASS-J08164433+3843086</td><td>mwm_snc_250pc</td><td>8.915</td><td>10.5066</td><td>9.9652</td><td>10.9125</td><td>2020.8</td><td>15026</td><td>AQW_123.88_+38.85</td></tr>\n",
       "<tr><td>124.83932</td><td>40.074126</td><td>APOGEE_SHARED</td><td>science</td><td>4361394699</td><td>2MASS-J08192145+4004273</td><td>mwm_snc_250pc</td><td>8.947</td><td>10.4187</td><td>9.9024</td><td>10.806</td><td>2020.8</td><td>15026</td><td>AQW_123.88_+38.85</td></tr>\n",
       "<tr><td>122.51053</td><td>37.902086</td><td>APOGEE_SHARED</td><td>science</td><td>4555495442</td><td>2MASS-J08100256+3754076</td><td>mwm_snc_250pc</td><td>9.369</td><td>11.0034</td><td>10.4409</td><td>11.4327</td><td>2020.8</td><td>15026</td><td>AQW_123.88_+38.85</td></tr>\n",
       "<tr><td>124.29993</td><td>40.303196</td><td>APOGEE_SHARED</td><td>science</td><td>4361392765</td><td>2MASS-J08171198+4018115</td><td>mwm_planet_tess</td><td>10.61</td><td>11.1018</td><td>10.8232</td><td>11.2907</td><td>2020.8</td><td>15026</td><td>AQW_123.88_+38.85</td></tr>\n",
       "<tr><td>123.50571</td><td>39.485818</td><td>APOGEE_SHARED</td><td>science</td><td>4555537845</td><td>2MASS-J08140130+3929094</td><td>mwm_planet_tess</td><td>7.174</td><td>9.2132</td><td>8.5602</td><td>9.7506</td><td>2020.8</td><td>15026</td><td>AQW_123.88_+38.85</td></tr>\n",
       "<tr><td>123.99609</td><td>38.879939</td><td>APOGEE_SHARED</td><td>science</td><td>4555536623</td><td>2MASS-J08155907+3852477</td><td>mwm_planet_tess</td><td>7.036</td><td>9.0053</td><td>8.3673</td><td>9.5365</td><td>2020.8</td><td>15026</td><td>AQW_123.88_+38.85</td></tr>\n",
       "<tr><td>124.80127</td><td>38.547928</td><td>APOGEE_SHARED</td><td>science</td><td>4555548610</td><td>2MASS-J08191229+3832526</td><td>mwm_planet_tess</td><td>8.274</td><td>8.6313</td><td>8.4992</td><td>8.7271</td><td>2020.8</td><td>15026</td><td>AQW_123.88_+38.85</td></tr>\n",
       "</table>"
      ],
      "text/plain": [
       "<Table length=398>\n",
       "target_ra target_dec    holetype   ...  epoch  plate       field      \n",
       " float64   float64       str13     ... float64 int64      bytes200    \n",
       "--------- ---------- ------------- ... ------- ----- -----------------\n",
       "2.5314287  27.629205 APOGEE_SHARED ...  2020.8 15004 AQM_001.85_+26.44\n",
       "2.3777257   27.31645 APOGEE_SHARED ...  2020.8 15004 AQM_001.85_+26.44\n",
       "2.2492676  27.666838 APOGEE_SHARED ...  2020.8 15004 AQM_001.85_+26.44\n",
       "2.5787315  27.539313 APOGEE_SHARED ...  2020.8 15004 AQM_001.85_+26.44\n",
       "2.3601101  27.496561 APOGEE_SHARED ...  2020.8 15004 AQM_001.85_+26.44\n",
       "3.3869881  26.819795 APOGEE_SHARED ...  2020.8 15004 AQM_001.85_+26.44\n",
       "3.0179016  26.516625 APOGEE_SHARED ...  2020.8 15004 AQM_001.85_+26.44\n",
       "3.1523758  26.252226 APOGEE_SHARED ...  2020.8 15004 AQM_001.85_+26.44\n",
       "9.5389084    25.8872 APOGEE_SHARED ...  2020.8 15006 AQM_009.32_+25.53\n",
       "8.6989824  26.065578 APOGEE_SHARED ...  2020.8 15006 AQM_009.32_+25.53\n",
       "      ...        ...           ... ...     ...   ...               ...\n",
       "124.85103  39.863622 APOGEE_SHARED ...  2020.8 15026 AQW_123.88_+38.85\n",
       " 123.6059  37.584992 APOGEE_SHARED ...  2020.8 15026 AQW_123.88_+38.85\n",
       "125.25693  39.419972 APOGEE_SHARED ...  2020.8 15026 AQW_123.88_+38.85\n",
       "124.18519  38.718811 APOGEE_SHARED ...  2020.8 15026 AQW_123.88_+38.85\n",
       "124.83932  40.074126 APOGEE_SHARED ...  2020.8 15026 AQW_123.88_+38.85\n",
       "122.51053  37.902086 APOGEE_SHARED ...  2020.8 15026 AQW_123.88_+38.85\n",
       "124.29993  40.303196 APOGEE_SHARED ...  2020.8 15026 AQW_123.88_+38.85\n",
       "123.50571  39.485818 APOGEE_SHARED ...  2020.8 15026 AQW_123.88_+38.85\n",
       "123.99609  38.879939 APOGEE_SHARED ...  2020.8 15026 AQW_123.88_+38.85\n",
       "124.80127  38.547928 APOGEE_SHARED ...  2020.8 15026 AQW_123.88_+38.85"
      ]
     },
     "execution_count": 41,
     "metadata": {},
     "output_type": "execute_result"
    }
   ],
   "source": [
    "targs.assigned_info(platerun)"
   ]
  },
  {
   "cell_type": "code",
   "execution_count": 62,
   "metadata": {},
   "outputs": [
    {
     "data": {
      "text/plain": [
       "383"
      ]
     },
     "execution_count": 62,
     "metadata": {},
     "output_type": "execute_result"
    }
   ],
   "source": [
    "targs.assigned_in(platerun).sum()"
   ]
  },
  {
   "cell_type": "code",
   "execution_count": 63,
   "metadata": {},
   "outputs": [
    {
     "name": "stdout",
     "output_type": "stream",
     "text": [
      "<ppv.groups.Platerun object at 0x7f21b0c2e4c0> appears to be a platerun. Use available_in_platerun method instead.\n"
     ]
    }
   ],
   "source": [
    "targs.available_in(platerun)"
   ]
  },
  {
   "cell_type": "code",
   "execution_count": 65,
   "metadata": {},
   "outputs": [
    {
     "ename": "AttributeError",
     "evalue": "'Field' object has no attribute 'fields'",
     "output_type": "error",
     "traceback": [
      "\u001b[0;31m---------------------------------------------------------------------------\u001b[0m",
      "\u001b[0;31mAttributeError\u001b[0m                            Traceback (most recent call last)",
      "\u001b[0;32m<ipython-input-65-98377c6c0523>\u001b[0m in \u001b[0;36m<module>\u001b[0;34m\u001b[0m\n\u001b[0;32m----> 1\u001b[0;31m \u001b[0mtargs\u001b[0m\u001b[0;34m.\u001b[0m\u001b[0mavailable_in_platerun\u001b[0m\u001b[0;34m(\u001b[0m\u001b[0mfAQM\u001b[0m\u001b[0;34m)\u001b[0m\u001b[0;34m\u001b[0m\u001b[0;34m\u001b[0m\u001b[0m\n\u001b[0m",
      "\u001b[0;32m~/projects/sdss5/ppv/src/ppv/targets.py\u001b[0m in \u001b[0;36mavailable_in_platerun\u001b[0;34m(self, platerun_)\u001b[0m\n\u001b[1;32m     93\u001b[0m         \u001b[0;32min\u001b[0m \u001b[0many\u001b[0m \u001b[0mfield\u001b[0m \u001b[0mof\u001b[0m \u001b[0mthe\u001b[0m \u001b[0mplaterun\u001b[0m\u001b[0;34m.\u001b[0m\u001b[0;34m\u001b[0m\u001b[0;34m\u001b[0m\u001b[0m\n\u001b[1;32m     94\u001b[0m         \"\"\"\n\u001b[0;32m---> 95\u001b[0;31m         \u001b[0mindx_all\u001b[0m \u001b[0;34m=\u001b[0m \u001b[0;34m[\u001b[0m\u001b[0mself\u001b[0m\u001b[0;34m.\u001b[0m\u001b[0mavailable_in\u001b[0m\u001b[0;34m(\u001b[0m\u001b[0mfield\u001b[0m\u001b[0;34m)\u001b[0m \u001b[0;32mfor\u001b[0m \u001b[0mfield\u001b[0m \u001b[0;32min\u001b[0m \u001b[0mplaterun_\u001b[0m\u001b[0;34m.\u001b[0m\u001b[0mfields\u001b[0m\u001b[0;34m]\u001b[0m\u001b[0;34m\u001b[0m\u001b[0;34m\u001b[0m\u001b[0m\n\u001b[0m\u001b[1;32m     96\u001b[0m         \u001b[0;32mreturn\u001b[0m \u001b[0mnp\u001b[0m\u001b[0;34m.\u001b[0m\u001b[0mbitwise_or\u001b[0m\u001b[0;34m.\u001b[0m\u001b[0mreduce\u001b[0m\u001b[0;34m(\u001b[0m\u001b[0mindx_all\u001b[0m\u001b[0;34m)\u001b[0m\u001b[0;34m\u001b[0m\u001b[0;34m\u001b[0m\u001b[0m\n\u001b[1;32m     97\u001b[0m \u001b[0;34m\u001b[0m\u001b[0m\n",
      "\u001b[0;31mAttributeError\u001b[0m: 'Field' object has no attribute 'fields'"
     ]
    }
   ],
   "source": [
    "targs.available_in_platerun(fAQM)"
   ]
  },
  {
   "cell_type": "code",
   "execution_count": 64,
   "metadata": {},
   "outputs": [
    {
     "name": "stdout",
     "output_type": "stream",
     "text": [
      "<ppv.groups.Platerun object at 0x7f21b0c2e4c0> appears to be a platerun. Use available_in_platerun method instead.\n"
     ]
    },
    {
     "data": {
      "text/plain": [
       "array([False, False, False, ..., False, False, False])"
      ]
     },
     "execution_count": 64,
     "metadata": {},
     "output_type": "execute_result"
    }
   ],
   "source": [
    "targs.not_assigned_in(platerun)"
   ]
  },
  {
   "cell_type": "code",
   "execution_count": 37,
   "metadata": {},
   "outputs": [
    {
     "data": {
      "text/html": [
       "&lt;Column name=&apos;name&apos; dtype=&apos;str200&apos; length=34&gt;\n",
       "<table>\n",
       "<tr><td>AQM_001.85_+26.44</td></tr>\n",
       "<tr><td>AQM_008.53_+01.04</td></tr>\n",
       "<tr><td>AQM_009.32_+25.53</td></tr>\n",
       "<tr><td>AQM_010.46_-00.45</td></tr>\n",
       "<tr><td>AQM_013.71_+00.82</td></tr>\n",
       "<tr><td>AQM_019.60_-00.75</td></tr>\n",
       "<tr><td>AQM_021.01_+14.79</td></tr>\n",
       "<tr><td>AQM_022.15_+00.52</td></tr>\n",
       "<tr><td>AQM_024.61_-00.52</td></tr>\n",
       "<tr><td>AQM_028.56_+00.15</td></tr>\n",
       "<tr><td>AQM_038.50_+00.82</td></tr>\n",
       "<tr><td>AQM_040.87_-00.60</td></tr>\n",
       "<tr><td>...</td></tr>\n",
       "<tr><td>AQW_118.85_+37.42</td></tr>\n",
       "<tr><td>AQW_119.07_+27.14</td></tr>\n",
       "<tr><td>AQW_120.08_+35.03</td></tr>\n",
       "<tr><td>AQW_121.38_+32.85</td></tr>\n",
       "<tr><td>AQW_122.06_+26.83</td></tr>\n",
       "<tr><td>AQW_123.29_+34.70</td></tr>\n",
       "<tr><td>AQW_123.88_+38.85</td></tr>\n",
       "<tr><td>AQW_335.65_+20.42</td></tr>\n",
       "<tr><td>AQW_339.26_+24.05</td></tr>\n",
       "<tr><td>AQW_340.05_+26.61</td></tr>\n",
       "<tr><td>AQW_351.04_+24.38</td></tr>\n",
       "<tr><td>AQW_353.58_+23.97</td></tr>\n",
       "</table>"
      ],
      "text/plain": [
       "<Column name='name' dtype='str200' length=34>\n",
       "AQM_001.85_+26.44\n",
       "AQM_008.53_+01.04\n",
       "AQM_009.32_+25.53\n",
       "AQM_010.46_-00.45\n",
       "AQM_013.71_+00.82\n",
       "AQM_019.60_-00.75\n",
       "AQM_021.01_+14.79\n",
       "AQM_022.15_+00.52\n",
       "AQM_024.61_-00.52\n",
       "AQM_028.56_+00.15\n",
       "AQM_038.50_+00.82\n",
       "AQM_040.87_-00.60\n",
       "              ...\n",
       "AQW_118.85_+37.42\n",
       "AQW_119.07_+27.14\n",
       "AQW_120.08_+35.03\n",
       "AQW_121.38_+32.85\n",
       "AQW_122.06_+26.83\n",
       "AQW_123.29_+34.70\n",
       "AQW_123.88_+38.85\n",
       "AQW_335.65_+20.42\n",
       "AQW_339.26_+24.05\n",
       "AQW_340.05_+26.61\n",
       "AQW_351.04_+24.38\n",
       "AQW_353.58_+23.97"
      ]
     },
     "execution_count": 37,
     "metadata": {},
     "output_type": "execute_result"
    }
   ],
   "source": [
    "platerun.fieldnames"
   ]
  },
  {
   "cell_type": "code",
   "execution_count": 24,
   "metadata": {},
   "outputs": [
    {
     "name": "stdout",
     "output_type": "stream",
     "text": [
      "[   'STRUCT1',\n",
      "    'plateId',\n",
      "    'ha',\n",
      "    'ha_observable_min',\n",
      "    'ha_observable_max',\n",
      "    'programname',\n",
      "    'temp',\n",
      "    'design_platescale_alt',\n",
      "    'design_platescale_az',\n",
      "    'design_parallactic_angle',\n",
      "    'guider_coeff_0',\n",
      "    'guider_coeff_1',\n",
      "    'guider_coeff_2',\n",
      "    'guider_coeff_3',\n",
      "    'guider_coeff_4',\n",
      "    'guider_coeff_5',\n",
      "    'guider_coeff_6',\n",
      "    'guider_coeff_7',\n",
      "    'guider_coeff_8',\n",
      "    'guider_coeff_9',\n",
      "    'locationId',\n",
      "    'instruments',\n",
      "    'npointings',\n",
      "    'noffsets',\n",
      "    'maxskyinblockboss_shared',\n",
      "    'minskyinblockboss_shared',\n",
      "    'gfibertype',\n",
      "    'guidetype',\n",
      "    'guidenums1',\n",
      "    'guidemag_minmax',\n",
      "    'guide_lambda_eff',\n",
      "    'nguidemax',\n",
      "    'ferrulesizeboss_shared',\n",
      "    'buffersizeboss_shared',\n",
      "    'ferrulesizeapogee_shared',\n",
      "    'buffersizeapogee_shared',\n",
      "    'ferrulesizeguide',\n",
      "    'buffersizeguide',\n",
      "    'platedesignstandards',\n",
      "    'standardtype',\n",
      "    'platedesignskies',\n",
      "    'skytype',\n",
      "    'plugmapstyle',\n",
      "    'bossmagtype',\n",
      "    'pointing_name',\n",
      "    'max_off_fiber_for_ha',\n",
      "    'collectfactor',\n",
      "    'designid',\n",
      "    'platedesignversion',\n",
      "    'platetype',\n",
      "    'raCen',\n",
      "    'decCen',\n",
      "    'ninputs',\n",
      "    'plateinput1',\n",
      "    'plateinput2',\n",
      "    'plateinput3',\n",
      "    'plateinput4',\n",
      "    'plateinput5',\n",
      "    'plateinput6',\n",
      "    'plateinput7',\n",
      "    'plateinput8',\n",
      "    'plateinput9',\n",
      "    'plateinput10',\n",
      "    'plateinput11',\n",
      "    'plateinput12',\n",
      "    'plateinput13',\n",
      "    'plateinput14',\n",
      "    'plateinput15',\n",
      "    'skyinput16',\n",
      "    'plateinput17',\n",
      "    'priority',\n",
      "    'relaxed_fiber_classes',\n",
      "    'targettypes',\n",
      "    'napogee_shared_standard',\n",
      "    'napogee_shared_science',\n",
      "    'napogee_shared_sky',\n",
      "    'nboss_shared_standard',\n",
      "    'nboss_shared_science',\n",
      "    'nboss_shared_sky',\n",
      "    'minstandardinblockboss_shared',\n",
      "    'reddeningMed',\n",
      "    'tileId',\n",
      "    'theta',\n",
      "    'platerun',\n",
      "    'platedesign_version']\n",
      "None\n"
     ]
    }
   ],
   "source": [
    "print(p15004.properties())"
   ]
  },
  {
   "cell_type": "code",
   "execution_count": null,
   "metadata": {},
   "outputs": [],
   "source": []
  },
  {
   "cell_type": "code",
   "execution_count": null,
   "metadata": {},
   "outputs": [],
   "source": []
  },
  {
   "cell_type": "code",
   "execution_count": 8,
   "metadata": {},
   "outputs": [
    {
     "ename": "NameError",
     "evalue": "name 'field' is not defined",
     "output_type": "error",
     "traceback": [
      "\u001b[0;31m---------------------------------------------------------------------------\u001b[0m",
      "\u001b[0;31mNameError\u001b[0m                                 Traceback (most recent call last)",
      "\u001b[0;32m<ipython-input-8-b9fa38300381>\u001b[0m in \u001b[0;36m<module>\u001b[0;34m\u001b[0m\n\u001b[0;32m----> 1\u001b[0;31m \u001b[0mfname\u001b[0m \u001b[0;34m=\u001b[0m \u001b[0mfield\u001b[0m\u001b[0;34m.\u001b[0m\u001b[0mallplate_summary\u001b[0m\u001b[0;34m[\u001b[0m\u001b[0;34m'name'\u001b[0m\u001b[0;34m]\u001b[0m\u001b[0;34m[\u001b[0m\u001b[0;36m5\u001b[0m\u001b[0;34m]\u001b[0m\u001b[0;34m\u001b[0m\u001b[0;34m\u001b[0m\u001b[0m\n\u001b[0m",
      "\u001b[0;31mNameError\u001b[0m: name 'field' is not defined"
     ]
    }
   ],
   "source": [
    "fname = field.allplate_summary['name'][5]"
   ]
  },
  {
   "cell_type": "code",
   "execution_count": 7,
   "metadata": {},
   "outputs": [],
   "source": [
    "ex_field = field.Field(fname)\n"
   ]
  },
  {
   "cell_type": "code",
   "execution_count": 8,
   "metadata": {},
   "outputs": [
    {
     "data": {
      "text/plain": [
       "<SkyCoord (ICRS): (ra, dec) in deg\n",
       "    (1.845703, 26.443334)>"
      ]
     },
     "execution_count": 8,
     "metadata": {},
     "output_type": "execute_result"
    }
   ],
   "source": [
    "ex_field.center"
   ]
  },
  {
   "cell_type": "code",
   "execution_count": 9,
   "metadata": {},
   "outputs": [],
   "source": [
    "import numpy as np"
   ]
  },
  {
   "cell_type": "code",
   "execution_count": 10,
   "metadata": {},
   "outputs": [],
   "source": [
    "from astropy import units as u"
   ]
  },
  {
   "cell_type": "code",
   "execution_count": 11,
   "metadata": {},
   "outputs": [
    {
     "data": {
      "text/html": [
       "<i>Table masked=True length=11</i>\n",
       "<table id=\"table139977148961600\" class=\"table-striped table-bordered table-condensed\">\n",
       "<thead><tr><th>pk</th><th>catalogid</th><th>dec</th><th>epoch</th><th>pmdec</th><th>pmra</th><th>ra</th><th>parallax</th><th>bp</th><th>g</th><th>h</th><th>i</th><th>z</th><th>r</th><th>rp</th><th>carton_to_target_pk</th><th>priority</th><th>cadence</th></tr></thead>\n",
       "<thead><tr><th>int64</th><th>int64</th><th>float64</th><th>float64</th><th>float64</th><th>float64</th><th>float64</th><th>float64</th><th>float64</th><th>float64</th><th>float64</th><th>float64</th><th>float64</th><th>float64</th><th>float64</th><th>int64</th><th>int64</th><th>float64</th></tr></thead>\n",
       "<tr><td>63200143</td><td>4400726315</td><td>26.516624646335984</td><td>2015.5</td><td>-56.43</td><td>43.69</td><td>3.017901588779658</td><td>nan</td><td>12.274</td><td>12.590871</td><td>9.293</td><td>11.220837</td><td>10.989637</td><td>11.615499</td><td>10.8608</td><td>219061402</td><td>2610</td><td>nan</td></tr>\n",
       "<tr><td>63130318</td><td>4400726404</td><td>26.252226477392497</td><td>2015.5</td><td>-7.54142</td><td>-5.06581</td><td>3.1523757514693362</td><td>2.29675</td><td>12.6512</td><td>12.739884</td><td>10.946</td><td>12.137205</td><td>12.083581</td><td>12.301875</td><td>11.8233</td><td>218989341</td><td>2610</td><td>nan</td></tr>\n",
       "<tr><td>63200148</td><td>4402835549</td><td>26.81979450154741</td><td>2015.5</td><td>-14.5468</td><td>-17.4957</td><td>3.3869881453212867</td><td>7.72339</td><td>10.9878</td><td>11.293857</td><td>9.234</td><td>10.443971</td><td>10.474189</td><td>10.604778</td><td>10.1126</td><td>219061408</td><td>2610</td><td>nan</td></tr>\n",
       "<tr><td>63148214</td><td>4402838198</td><td>27.316449524906293</td><td>2015.5</td><td>45.2254</td><td>111.928</td><td>2.3777257433414243</td><td>13.8652</td><td>13.5774</td><td>14.1181555</td><td>9.911</td><td>12.085736</td><td>11.687693</td><td>12.754909</td><td>11.7227</td><td>219007769</td><td>2610</td><td>nan</td></tr>\n",
       "<tr><td>63148215</td><td>4402838643</td><td>27.496560527547583</td><td>2015.5</td><td>-55.7289</td><td>-2.86079</td><td>2.360110141369754</td><td>8.92773</td><td>11.1768</td><td>11.416542</td><td>9.145</td><td>15.27082</td><td>10.906687</td><td>10.808616</td><td>10.2025</td><td>219007770</td><td>2610</td><td>nan</td></tr>\n",
       "<tr><td>63165725</td><td>4402838933</td><td>27.539312853258306</td><td>2015.5</td><td>-13.3591</td><td>24.7408</td><td>2.578731482902514</td><td>5.78841</td><td>11.1787</td><td>11.246591</td><td>9.547</td><td>10.69413</td><td>10.715225</td><td>10.818146</td><td>10.3745</td><td>219025849</td><td>2610</td><td>nan</td></tr>\n",
       "<tr><td>63148216</td><td>4402839819</td><td>27.65221982258546</td><td>2015.5</td><td>145.471</td><td>222.988</td><td>2.2631552646876965</td><td>16.5175</td><td>11.9499</td><td>14.241348</td><td>8.777</td><td>10.735708</td><td>11.299208</td><td>11.204476</td><td>10.4117</td><td>219007771</td><td>2610</td><td>nan</td></tr>\n",
       "<tr><td>63200136</td><td>4402839837</td><td>27.666837577512847</td><td>2015.5</td><td>144.804</td><td>222.239</td><td>2.2492675946101794</td><td>16.535</td><td>13.7767</td><td>14.37903</td><td>9.812</td><td>12.096777</td><td>11.653342</td><td>13.499054</td><td>11.7309</td><td>219061395</td><td>2610</td><td>nan</td></tr>\n",
       "<tr><td>63165724</td><td>4402840037</td><td>27.62920463874903</td><td>2015.5</td><td>-53.9078</td><td>82.6503</td><td>2.5314287283254515</td><td>15.3694</td><td>14.5475</td><td>15.101445</td><td>10.121</td><td>12.637509</td><td>12.075852</td><td>13.708468</td><td>12.2451</td><td>219025848</td><td>2610</td><td>nan</td></tr>\n",
       "<tr><td>63165723</td><td>4402840160</td><td>27.764958026948076</td><td>2015.5</td><td>-3.98578</td><td>-4.70774</td><td>2.5429351496859987</td><td>1.5423</td><td>10.4018</td><td>10.721768</td><td>7.425</td><td>9.303644</td><td>9.377136</td><td>9.637439</td><td>9.01802</td><td>219025847</td><td>2610</td><td>nan</td></tr>\n",
       "<tr><td>63200144</td><td>4402841300</td><td>27.510075074405066</td><td>2015.5</td><td>-26.1208</td><td>4.0662</td><td>2.9407840006128296</td><td>8.51073</td><td>8.57606</td><td>8.70825</td><td>7.317</td><td>8.276394</td><td>8.574736</td><td>8.331132</td><td>7.95118</td><td>219061403</td><td>2610</td><td>nan</td></tr>\n",
       "</table>"
      ],
      "text/plain": [
       "<Table masked=True length=11>\n",
       "   pk    catalogid         dec         ... carton_to_target_pk priority cadence\n",
       " int64     int64         float64       ...        int64         int64   float64\n",
       "-------- ---------- ------------------ ... ------------------- -------- -------\n",
       "63200143 4400726315 26.516624646335984 ...           219061402     2610     nan\n",
       "63130318 4400726404 26.252226477392497 ...           218989341     2610     nan\n",
       "63200148 4402835549  26.81979450154741 ...           219061408     2610     nan\n",
       "63148214 4402838198 27.316449524906293 ...           219007769     2610     nan\n",
       "63148215 4402838643 27.496560527547583 ...           219007770     2610     nan\n",
       "63165725 4402838933 27.539312853258306 ...           219025849     2610     nan\n",
       "63148216 4402839819  27.65221982258546 ...           219007771     2610     nan\n",
       "63200136 4402839837 27.666837577512847 ...           219061395     2610     nan\n",
       "63165724 4402840037  27.62920463874903 ...           219025848     2610     nan\n",
       "63165723 4402840160 27.764958026948076 ...           219025847     2610     nan\n",
       "63200144 4402841300 27.510075074405066 ...           219061403     2610     nan"
      ]
     },
     "execution_count": 11,
     "metadata": {},
     "output_type": "execute_result"
    }
   ],
   "source": [
    "targs.available(ex_field)"
   ]
  },
  {
   "cell_type": "code",
   "execution_count": 12,
   "metadata": {},
   "outputs": [
    {
     "data": {
      "text/plain": [
       "[<SkyCoord (ICRS): (ra, dec) in deg\n",
       "     [(3.01790159, 26.51662465), (3.15237575, 26.25222648),\n",
       "      (3.38698815, 26.8197945 ), (2.37772574, 27.31644952),\n",
       "      (2.36011014, 27.49656053), (2.57873148, 27.53931285),\n",
       "      (2.24926759, 27.66683758), (2.53142873, 27.62920464)]>]"
      ]
     },
     "execution_count": 12,
     "metadata": {},
     "output_type": "execute_result"
    }
   ],
   "source": [
    "targs.assigned(ex_field, coords=True)"
   ]
  },
  {
   "cell_type": "code",
   "execution_count": 25,
   "metadata": {},
   "outputs": [
    {
     "data": {
      "text/html": [
       "&lt;MaskedColumn name=&apos;catalogid&apos; dtype=&apos;int64&apos; length=177494&gt;\n",
       "<table>\n",
       "<tr><td>4204692671</td></tr>\n",
       "<tr><td>4204692773</td></tr>\n",
       "<tr><td>4204705857</td></tr>\n",
       "<tr><td>4204751665</td></tr>\n",
       "<tr><td>4204795388</td></tr>\n",
       "<tr><td>4204838200</td></tr>\n",
       "<tr><td>4204854273</td></tr>\n",
       "<tr><td>4204858177</td></tr>\n",
       "<tr><td>4204901910</td></tr>\n",
       "<tr><td>4204917314</td></tr>\n",
       "<tr><td>4204926522</td></tr>\n",
       "<tr><td>4204933546</td></tr>\n",
       "<tr><td>...</td></tr>\n",
       "<tr><td>5932663258</td></tr>\n",
       "<tr><td>5932664728</td></tr>\n",
       "<tr><td>5932664785</td></tr>\n",
       "<tr><td>5932665261</td></tr>\n",
       "<tr><td>5932665613</td></tr>\n",
       "<tr><td>5932665963</td></tr>\n",
       "<tr><td>5932666418</td></tr>\n",
       "<tr><td>5932667443</td></tr>\n",
       "<tr><td>5932667724</td></tr>\n",
       "<tr><td>5932667918</td></tr>\n",
       "<tr><td>5932668409</td></tr>\n",
       "<tr><td>5932668452</td></tr>\n",
       "</table>"
      ],
      "text/plain": [
       "<MaskedColumn name='catalogid' dtype='int64' length=177494>\n",
       "4204692671\n",
       "4204692773\n",
       "4204705857\n",
       "4204751665\n",
       "4204795388\n",
       "4204838200\n",
       "4204854273\n",
       "4204858177\n",
       "4204901910\n",
       "4204917314\n",
       "4204926522\n",
       "4204933546\n",
       "       ...\n",
       "5932663258\n",
       "5932664728\n",
       "5932664785\n",
       "5932665261\n",
       "5932665613\n",
       "5932665963\n",
       "5932666418\n",
       "5932667443\n",
       "5932667724\n",
       "5932667918\n",
       "5932668409\n",
       "5932668452"
      ]
     },
     "execution_count": 25,
     "metadata": {},
     "output_type": "execute_result"
    }
   ],
   "source": [
    "targs.data['catalogid']"
   ]
  },
  {
   "cell_type": "code",
   "execution_count": 21,
   "metadata": {},
   "outputs": [
    {
     "data": {
      "text/plain": [
       "18446744072737011716"
      ]
     },
     "execution_count": 21,
     "metadata": {},
     "output_type": "execute_result"
    }
   ],
   "source": [
    "ex_field.plate_data[0]['catalogid'].max()"
   ]
  },
  {
   "cell_type": "code",
   "execution_count": 27,
   "metadata": {},
   "outputs": [
    {
     "data": {
      "text/plain": [
       "[15004]"
      ]
     },
     "execution_count": 27,
     "metadata": {},
     "output_type": "execute_result"
    }
   ],
   "source": [
    "ex_field._plates"
   ]
  },
  {
   "cell_type": "code",
   "execution_count": 26,
   "metadata": {},
   "outputs": [],
   "source": [
    "from ppv import plate"
   ]
  },
  {
   "cell_type": "code",
   "execution_count": 40,
   "metadata": {},
   "outputs": [],
   "source": [
    "plate_dict = plate.get_dict(15004)"
   ]
  },
  {
   "cell_type": "code",
   "execution_count": 46,
   "metadata": {},
   "outputs": [
    {
     "data": {
      "text/plain": [
       "['pk',\n",
       " 'catalogid',\n",
       " 'dec',\n",
       " 'epoch',\n",
       " 'pmdec',\n",
       " 'pmra',\n",
       " 'ra',\n",
       " 'parallax',\n",
       " 'bp',\n",
       " 'g',\n",
       " 'h',\n",
       " 'i',\n",
       " 'z',\n",
       " 'r',\n",
       " 'rp',\n",
       " 'carton_to_target_pk',\n",
       " 'priority',\n",
       " 'cadence']"
      ]
     },
     "execution_count": 46,
     "metadata": {},
     "output_type": "execute_result"
    }
   ],
   "source": [
    "targs.data.colnames"
   ]
  },
  {
   "cell_type": "code",
   "execution_count": 42,
   "metadata": {},
   "outputs": [
    {
     "data": {
      "text/plain": [
       "dict_keys(['holetype', 'targettype', 'sourcetype', 'target_ra', 'target_dec', 'iplateinput', 'pointing', 'offset', 'fiberid', 'block', 'iguide', 'xf_default', 'yf_default', 'lambda_eff', 'zoffset', 'bluefiber', 'chunk', 'ifinal', 'origfile', 'fileindx', 'diameter', 'buffer', 'priority', 'assigned', 'conflicted', 'ranout', 'outside', 'mangaid', 'ifudesign', 'ifudesignsize', 'bundle_size', 'fiber_size', 'tmass_j', 'tmass_h', 'tmass_k', 'gsc_vmag', 'tyc_bmag', 'tyc_vmag', 'mfd_mag', 'usnob_mag', 'source_id', 'phot_g_mean_mag', 'sp_param_source', 'sp_params', 'sp_param_err', 'marvels_target1', 'marvels_target2', 'boss_target1', 'boss_target2', 'ancillary_target1', 'ancillary_target2', 'segue2_target1', 'segue2_target2', 'segueb_target1', 'segueb_target2', 'apogee_target1', 'apogee_target2', 'manga_target1', 'manga_target2', 'manga_target3', 'eboss_target0', 'eboss_target1', 'eboss_target2', 'eboss_target_id', 'thing_id_targeting', 'objid_targeting', 'apogee2_target1', 'apogee2_target2', 'apogee2_target3', 'run', 'rerun', 'camcol', 'field', 'id', 'psfflux', 'psfflux_ivar', 'fiberflux', 'fiberflux_ivar', 'fiber2flux', 'fiber2flux_ivar', 'psfmag', 'fibermag', 'fiber2mag', 'mag', 'epoch', 'pmra', 'pmdec', 'targetids', 'ifuid', 'catalogid', 'gaia_bp', 'gaia_rp', 'gaia_g', 'tmass_id', 'sdssv_apogee_target0', 'sdssv_boss_target0', 'gri_gaia_transform', 'firstcarton', 'xfocal', 'yfocal'])"
      ]
     },
     "execution_count": 42,
     "metadata": {},
     "output_type": "execute_result"
    }
   ],
   "source": [
    "plate_dict.keys()"
   ]
  },
  {
   "cell_type": "code",
   "execution_count": 30,
   "metadata": {},
   "outputs": [],
   "source": [
    "targs_avail = targs.available_in_field(ex_field, coords=True)"
   ]
  },
  {
   "cell_type": "code",
   "execution_count": 32,
   "metadata": {},
   "outputs": [],
   "source": [
    "idx, sep2d, _ = targs_avail.match_to_catalog_sky(ex_field.plugged_coords[0])"
   ]
  },
  {
   "cell_type": "code",
   "execution_count": 35,
   "metadata": {},
   "outputs": [
    {
     "data": {
      "text/plain": [
       "11"
      ]
     },
     "execution_count": 35,
     "metadata": {},
     "output_type": "execute_result"
    }
   ],
   "source": [
    "len(targs_avail)"
   ]
  },
  {
   "cell_type": "code",
   "execution_count": 52,
   "metadata": {},
   "outputs": [
    {
     "data": {
      "text/latex": [
       "[$0^\\circ00{}^\\prime00.0013{}^{\\prime\\prime}$\n",
       " $0^\\circ00{}^\\prime00.0017{}^{\\prime\\prime}$\n",
       " $0^\\circ00{}^\\prime00.0018{}^{\\prime\\prime}$\n",
       " $0^\\circ00{}^\\prime00.0017{}^{\\prime\\prime}$\n",
       " $0^\\circ00{}^\\prime00.0017{}^{\\prime\\prime}$\n",
       " $0^\\circ00{}^\\prime00.0005{}^{\\prime\\prime}$\n",
       " $0^\\circ01{}^\\prime08.7775{}^{\\prime\\prime}$\n",
       " $0^\\circ00{}^\\prime00.0015{}^{\\prime\\prime}$\n",
       " $0^\\circ00{}^\\prime00.0013{}^{\\prime\\prime}$\n",
       " $0^\\circ01{}^\\prime00.2909{}^{\\prime\\prime}$\n",
       " $0^\\circ00{}^\\prime00.3779{}^{\\prime\\prime}$]"
      ],
      "text/plain": [
       "<Angle [3.53806499e-07, 4.79372530e-07, 5.00090857e-07, 4.76651775e-07,\n",
       "        4.73875434e-07, 1.47522738e-07, 1.91048694e-02, 4.22514122e-07,\n",
       "        3.62121586e-07, 1.67474807e-02, 1.04959313e-04] deg>"
      ]
     },
     "execution_count": 52,
     "metadata": {},
     "output_type": "execute_result"
    }
   ],
   "source": [
    "sep2d"
   ]
  },
  {
   "cell_type": "code",
   "execution_count": 51,
   "metadata": {},
   "outputs": [
    {
     "data": {
      "text/html": [
       "&lt;MaskedColumn name=&apos;h&apos; dtype=&apos;float64&apos; length=11&gt;\n",
       "<table>\n",
       "<tr><td>0.0</td></tr>\n",
       "<tr><td>0.0</td></tr>\n",
       "<tr><td>0.0</td></tr>\n",
       "<tr><td>0.0</td></tr>\n",
       "<tr><td>0.0</td></tr>\n",
       "<tr><td>0.0</td></tr>\n",
       "<tr><td>-1.0350000000000001</td></tr>\n",
       "<tr><td>0.0</td></tr>\n",
       "<tr><td>0.0</td></tr>\n",
       "<tr><td>-3.1480000000000006</td></tr>\n",
       "<tr><td>0.0</td></tr>\n",
       "</table>"
      ],
      "text/plain": [
       "<MaskedColumn name='h' dtype='float64' length=11>\n",
       "                0.0\n",
       "                0.0\n",
       "                0.0\n",
       "                0.0\n",
       "                0.0\n",
       "                0.0\n",
       "-1.0350000000000001\n",
       "                0.0\n",
       "                0.0\n",
       "-3.1480000000000006\n",
       "                0.0"
      ]
     },
     "execution_count": 51,
     "metadata": {},
     "output_type": "execute_result"
    }
   ],
   "source": [
    "targs.available(ex_field)['h'] - ex_field.plate_data[0][idx]['tmass_h']"
   ]
  },
  {
   "cell_type": "code",
   "execution_count": 38,
   "metadata": {},
   "outputs": [
    {
     "data": {
      "text/html": [
       "<i>Table masked=True length=11</i>\n",
       "<table id=\"table139975426501600\" class=\"table-striped table-bordered table-condensed\">\n",
       "<thead><tr><th>pk</th><th>catalogid</th><th>dec</th><th>epoch</th><th>pmdec</th><th>pmra</th><th>ra</th><th>parallax</th><th>bp</th><th>g</th><th>h</th><th>i</th><th>z</th><th>r</th><th>rp</th><th>carton_to_target_pk</th><th>priority</th><th>cadence</th></tr></thead>\n",
       "<thead><tr><th>int64</th><th>int64</th><th>float64</th><th>float64</th><th>float64</th><th>float64</th><th>float64</th><th>float64</th><th>float64</th><th>float64</th><th>float64</th><th>float64</th><th>float64</th><th>float64</th><th>float64</th><th>int64</th><th>int64</th><th>float64</th></tr></thead>\n",
       "<tr><td>63200143</td><td>4400726315</td><td>26.516624646335984</td><td>2015.5</td><td>-56.43</td><td>43.69</td><td>3.017901588779658</td><td>nan</td><td>12.274</td><td>12.590871</td><td>9.293</td><td>11.220837</td><td>10.989637</td><td>11.615499</td><td>10.8608</td><td>219061402</td><td>2610</td><td>nan</td></tr>\n",
       "<tr><td>63130318</td><td>4400726404</td><td>26.252226477392497</td><td>2015.5</td><td>-7.54142</td><td>-5.06581</td><td>3.1523757514693362</td><td>2.29675</td><td>12.6512</td><td>12.739884</td><td>10.946</td><td>12.137205</td><td>12.083581</td><td>12.301875</td><td>11.8233</td><td>218989341</td><td>2610</td><td>nan</td></tr>\n",
       "<tr><td>63200148</td><td>4402835549</td><td>26.81979450154741</td><td>2015.5</td><td>-14.5468</td><td>-17.4957</td><td>3.3869881453212867</td><td>7.72339</td><td>10.9878</td><td>11.293857</td><td>9.234</td><td>10.443971</td><td>10.474189</td><td>10.604778</td><td>10.1126</td><td>219061408</td><td>2610</td><td>nan</td></tr>\n",
       "<tr><td>63148214</td><td>4402838198</td><td>27.316449524906293</td><td>2015.5</td><td>45.2254</td><td>111.928</td><td>2.3777257433414243</td><td>13.8652</td><td>13.5774</td><td>14.1181555</td><td>9.911</td><td>12.085736</td><td>11.687693</td><td>12.754909</td><td>11.7227</td><td>219007769</td><td>2610</td><td>nan</td></tr>\n",
       "<tr><td>63148215</td><td>4402838643</td><td>27.496560527547583</td><td>2015.5</td><td>-55.7289</td><td>-2.86079</td><td>2.360110141369754</td><td>8.92773</td><td>11.1768</td><td>11.416542</td><td>9.145</td><td>15.27082</td><td>10.906687</td><td>10.808616</td><td>10.2025</td><td>219007770</td><td>2610</td><td>nan</td></tr>\n",
       "<tr><td>63165725</td><td>4402838933</td><td>27.539312853258306</td><td>2015.5</td><td>-13.3591</td><td>24.7408</td><td>2.578731482902514</td><td>5.78841</td><td>11.1787</td><td>11.246591</td><td>9.547</td><td>10.69413</td><td>10.715225</td><td>10.818146</td><td>10.3745</td><td>219025849</td><td>2610</td><td>nan</td></tr>\n",
       "<tr><td>63148216</td><td>4402839819</td><td>27.65221982258546</td><td>2015.5</td><td>145.471</td><td>222.988</td><td>2.2631552646876965</td><td>16.5175</td><td>11.9499</td><td>14.241348</td><td>8.777</td><td>10.735708</td><td>11.299208</td><td>11.204476</td><td>10.4117</td><td>219007771</td><td>2610</td><td>nan</td></tr>\n",
       "<tr><td>63200136</td><td>4402839837</td><td>27.666837577512847</td><td>2015.5</td><td>144.804</td><td>222.239</td><td>2.2492675946101794</td><td>16.535</td><td>13.7767</td><td>14.37903</td><td>9.812</td><td>12.096777</td><td>11.653342</td><td>13.499054</td><td>11.7309</td><td>219061395</td><td>2610</td><td>nan</td></tr>\n",
       "<tr><td>63165724</td><td>4402840037</td><td>27.62920463874903</td><td>2015.5</td><td>-53.9078</td><td>82.6503</td><td>2.5314287283254515</td><td>15.3694</td><td>14.5475</td><td>15.101445</td><td>10.121</td><td>12.637509</td><td>12.075852</td><td>13.708468</td><td>12.2451</td><td>219025848</td><td>2610</td><td>nan</td></tr>\n",
       "<tr><td>63165723</td><td>4402840160</td><td>27.764958026948076</td><td>2015.5</td><td>-3.98578</td><td>-4.70774</td><td>2.5429351496859987</td><td>1.5423</td><td>10.4018</td><td>10.721768</td><td>7.425</td><td>9.303644</td><td>9.377136</td><td>9.637439</td><td>9.01802</td><td>219025847</td><td>2610</td><td>nan</td></tr>\n",
       "<tr><td>63200144</td><td>4402841300</td><td>27.510075074405066</td><td>2015.5</td><td>-26.1208</td><td>4.0662</td><td>2.9407840006128296</td><td>8.51073</td><td>8.57606</td><td>8.70825</td><td>7.317</td><td>8.276394</td><td>8.574736</td><td>8.331132</td><td>7.95118</td><td>219061403</td><td>2610</td><td>nan</td></tr>\n",
       "</table>"
      ],
      "text/plain": [
       "<Table masked=True length=11>\n",
       "   pk    catalogid         dec         ... carton_to_target_pk priority cadence\n",
       " int64     int64         float64       ...        int64         int64   float64\n",
       "-------- ---------- ------------------ ... ------------------- -------- -------\n",
       "63200143 4400726315 26.516624646335984 ...           219061402     2610     nan\n",
       "63130318 4400726404 26.252226477392497 ...           218989341     2610     nan\n",
       "63200148 4402835549  26.81979450154741 ...           219061408     2610     nan\n",
       "63148214 4402838198 27.316449524906293 ...           219007769     2610     nan\n",
       "63148215 4402838643 27.496560527547583 ...           219007770     2610     nan\n",
       "63165725 4402838933 27.539312853258306 ...           219025849     2610     nan\n",
       "63148216 4402839819  27.65221982258546 ...           219007771     2610     nan\n",
       "63200136 4402839837 27.666837577512847 ...           219061395     2610     nan\n",
       "63165724 4402840037  27.62920463874903 ...           219025848     2610     nan\n",
       "63165723 4402840160 27.764958026948076 ...           219025847     2610     nan\n",
       "63200144 4402841300 27.510075074405066 ...           219061403     2610     nan"
      ]
     },
     "execution_count": 38,
     "metadata": {},
     "output_type": "execute_result"
    }
   ],
   "source": [
    "targs.data[targs._available_indx[ex_field.name]]"
   ]
  },
  {
   "cell_type": "code",
   "execution_count": 48,
   "metadata": {},
   "outputs": [
    {
     "data": {
      "text/plain": [
       "11"
      ]
     },
     "execution_count": 48,
     "metadata": {},
     "output_type": "execute_result"
    }
   ],
   "source": [
    "len(idx)"
   ]
  },
  {
   "cell_type": "code",
   "execution_count": 39,
   "metadata": {},
   "outputs": [
    {
     "data": {
      "text/html": [
       "<i>Table length=11</i>\n",
       "<table id=\"table139975423292752\" class=\"table-striped table-bordered table-condensed\">\n",
       "<thead><tr><th>target_ra</th><th>target_dec</th><th>holetype</th><th>targettype</th><th>catalogid</th><th>tmass_id</th><th>firstcarton</th><th>tmass_h</th><th>gaia_g</th><th>gaia_rp</th><th>gaia_bp</th></tr></thead>\n",
       "<thead><tr><th>float64</th><th>float64</th><th>str13</th><th>str8</th><th>uint64</th><th>str23</th><th>str19</th><th>float64</th><th>float64</th><th>float64</th><th>float64</th></tr></thead>\n",
       "<tr><td>3.0179016</td><td>26.516625</td><td>APOGEE_SHARED</td><td>science</td><td>105759019</td><td>2MASS-J00120421+2631008</td><td>mwm_planet_tess</td><td>9.293</td><td>11.6254</td><td>10.8608</td><td>12.274</td></tr>\n",
       "<tr><td>3.1523758</td><td>26.252226</td><td>APOGEE_SHARED</td><td>science</td><td>105759108</td><td>2MASS-J00123658+2615081</td><td>mwm_planet_tess</td><td>10.946</td><td>12.3186</td><td>11.8233</td><td>12.6512</td></tr>\n",
       "<tr><td>3.3869881</td><td>26.819795</td><td>APOGEE_SHARED</td><td>science</td><td>107868253</td><td>2MASS-J00133290+2649115</td><td>mwm_snc_250pc</td><td>9.234</td><td>10.6139</td><td>10.1126</td><td>10.9878</td></tr>\n",
       "<tr><td>2.3777257</td><td>27.31645</td><td>APOGEE_SHARED</td><td>science</td><td>107870902</td><td>2MASS-J00093051+2718584</td><td>mwm_snc_100pc</td><td>9.911</td><td>12.6616</td><td>11.7227</td><td>13.5774</td></tr>\n",
       "<tr><td>2.3601101</td><td>27.496561</td><td>APOGEE_SHARED</td><td>science</td><td>107871347</td><td>2MASS-J00092642+2729485</td><td>mwm_snc_250pc</td><td>9.145</td><td>10.7554</td><td>10.2025</td><td>11.1768</td></tr>\n",
       "<tr><td>2.5787315</td><td>27.539313</td><td>APOGEE_SHARED</td><td>science</td><td>107871637</td><td>2MASS-J00101886+2732218</td><td>mwm_snc_250pc</td><td>9.547</td><td>10.843</td><td>10.3745</td><td>11.1787</td></tr>\n",
       "<tr><td>2.2492676</td><td>27.666838</td><td>APOGEE_SHARED</td><td>science</td><td>107872541</td><td>2MASS-J00085952+2739581</td><td>mwm_snc_100pc</td><td>9.812</td><td>12.7371</td><td>11.7309</td><td>13.7767</td></tr>\n",
       "<tr><td>2.2492676</td><td>27.666838</td><td>APOGEE_SHARED</td><td>science</td><td>107872541</td><td>2MASS-J00085952+2739581</td><td>mwm_snc_100pc</td><td>9.812</td><td>12.7371</td><td>11.7309</td><td>13.7767</td></tr>\n",
       "<tr><td>2.5314287</td><td>27.629205</td><td>APOGEE_SHARED</td><td>science</td><td>107872741</td><td>2MASS-J00100745+2737460</td><td>mwm_snc_100pc</td><td>10.121</td><td>13.3348</td><td>12.2451</td><td>14.5475</td></tr>\n",
       "<tr><td>2.534958</td><td>27.749771</td><td>APOGEE_SHARED</td><td>science</td><td>107872858</td><td>2MASS-J00100842+2744593</td><td>mwm_snc_250pc</td><td>10.573</td><td>12.2474</td><td>11.6858</td><td>12.6529</td></tr>\n",
       "<tr><td>2.940787</td><td>27.51018</td><td>APOGEE_SHARED</td><td>standard</td><td>0</td><td>2MASS-J00114578+2730366</td><td>None</td><td>7.317</td><td>-9.99999</td><td>-9.99999</td><td>-9.99999</td></tr>\n",
       "</table>"
      ],
      "text/plain": [
       "<Table length=11>\n",
       "target_ra target_dec    holetype   targettype ...  gaia_g  gaia_rp  gaia_bp \n",
       " float64   float64       str13        str8    ... float64  float64  float64 \n",
       "--------- ---------- ------------- ---------- ... -------- -------- --------\n",
       "3.0179016  26.516625 APOGEE_SHARED    science ...  11.6254  10.8608   12.274\n",
       "3.1523758  26.252226 APOGEE_SHARED    science ...  12.3186  11.8233  12.6512\n",
       "3.3869881  26.819795 APOGEE_SHARED    science ...  10.6139  10.1126  10.9878\n",
       "2.3777257   27.31645 APOGEE_SHARED    science ...  12.6616  11.7227  13.5774\n",
       "2.3601101  27.496561 APOGEE_SHARED    science ...  10.7554  10.2025  11.1768\n",
       "2.5787315  27.539313 APOGEE_SHARED    science ...   10.843  10.3745  11.1787\n",
       "2.2492676  27.666838 APOGEE_SHARED    science ...  12.7371  11.7309  13.7767\n",
       "2.2492676  27.666838 APOGEE_SHARED    science ...  12.7371  11.7309  13.7767\n",
       "2.5314287  27.629205 APOGEE_SHARED    science ...  13.3348  12.2451  14.5475\n",
       " 2.534958  27.749771 APOGEE_SHARED    science ...  12.2474  11.6858  12.6529\n",
       " 2.940787   27.51018 APOGEE_SHARED   standard ... -9.99999 -9.99999 -9.99999"
      ]
     },
     "execution_count": 39,
     "metadata": {},
     "output_type": "execute_result"
    }
   ],
   "source": [
    "ex_field.plate_data[0][idx]"
   ]
  },
  {
   "cell_type": "markdown",
   "metadata": {},
   "source": [
    "# aa = plate.get_dict(15004)\n",
    "aa['catalogid']"
   ]
  },
  {
   "cell_type": "code",
   "execution_count": null,
   "metadata": {},
   "outputs": [],
   "source": []
  },
  {
   "cell_type": "code",
   "execution_count": 17,
   "metadata": {},
   "outputs": [
    {
     "data": {
      "text/plain": [
       "0"
      ]
     },
     "execution_count": 17,
     "metadata": {},
     "output_type": "execute_result"
    }
   ],
   "source": [
    "np.sum(np.in1d(targs.data['catalogid'], ex_field.plate_data[0]['catalogid']))"
   ]
  },
  {
   "cell_type": "code",
   "execution_count": null,
   "metadata": {},
   "outputs": [],
   "source": []
  },
  {
   "cell_type": "code",
   "execution_count": null,
   "metadata": {},
   "outputs": [],
   "source": []
  },
  {
   "cell_type": "code",
   "execution_count": null,
   "metadata": {},
   "outputs": [],
   "source": []
  },
  {
   "cell_type": "code",
   "execution_count": null,
   "metadata": {},
   "outputs": [],
   "source": []
  },
  {
   "cell_type": "code",
   "execution_count": 14,
   "metadata": {},
   "outputs": [],
   "source": [
    "prun_c = platerun.PlateRun('2020.08.c.bhm-mwm')"
   ]
  },
  {
   "cell_type": "code",
   "execution_count": 15,
   "metadata": {},
   "outputs": [
    {
     "data": {
      "text/html": [
       "&lt;Column name=&apos;name&apos; dtype=&apos;str200&apos; length=34&gt;\n",
       "<table>\n",
       "<tr><td>AQM_001.85_+26.44</td></tr>\n",
       "<tr><td>AQM_008.53_+01.04</td></tr>\n",
       "<tr><td>AQM_009.32_+25.53</td></tr>\n",
       "<tr><td>AQM_010.46_-00.45</td></tr>\n",
       "<tr><td>AQM_013.71_+00.82</td></tr>\n",
       "<tr><td>AQM_019.60_-00.75</td></tr>\n",
       "<tr><td>AQM_021.01_+14.79</td></tr>\n",
       "<tr><td>AQM_022.15_+00.52</td></tr>\n",
       "<tr><td>AQM_024.61_-00.52</td></tr>\n",
       "<tr><td>AQM_028.56_+00.15</td></tr>\n",
       "<tr><td>AQM_038.50_+00.82</td></tr>\n",
       "<tr><td>AQM_040.87_-00.60</td></tr>\n",
       "<tr><td>...</td></tr>\n",
       "<tr><td>AQW_118.85_+37.42</td></tr>\n",
       "<tr><td>AQW_119.07_+27.14</td></tr>\n",
       "<tr><td>AQW_120.08_+35.03</td></tr>\n",
       "<tr><td>AQW_121.38_+32.85</td></tr>\n",
       "<tr><td>AQW_122.06_+26.83</td></tr>\n",
       "<tr><td>AQW_123.29_+34.70</td></tr>\n",
       "<tr><td>AQW_123.88_+38.85</td></tr>\n",
       "<tr><td>AQW_335.65_+20.42</td></tr>\n",
       "<tr><td>AQW_339.26_+24.05</td></tr>\n",
       "<tr><td>AQW_340.05_+26.61</td></tr>\n",
       "<tr><td>AQW_351.04_+24.38</td></tr>\n",
       "<tr><td>AQW_353.58_+23.97</td></tr>\n",
       "</table>"
      ],
      "text/plain": [
       "<Column name='name' dtype='str200' length=34>\n",
       "AQM_001.85_+26.44\n",
       "AQM_008.53_+01.04\n",
       "AQM_009.32_+25.53\n",
       "AQM_010.46_-00.45\n",
       "AQM_013.71_+00.82\n",
       "AQM_019.60_-00.75\n",
       "AQM_021.01_+14.79\n",
       "AQM_022.15_+00.52\n",
       "AQM_024.61_-00.52\n",
       "AQM_028.56_+00.15\n",
       "AQM_038.50_+00.82\n",
       "AQM_040.87_-00.60\n",
       "              ...\n",
       "AQW_118.85_+37.42\n",
       "AQW_119.07_+27.14\n",
       "AQW_120.08_+35.03\n",
       "AQW_121.38_+32.85\n",
       "AQW_122.06_+26.83\n",
       "AQW_123.29_+34.70\n",
       "AQW_123.88_+38.85\n",
       "AQW_335.65_+20.42\n",
       "AQW_339.26_+24.05\n",
       "AQW_340.05_+26.61\n",
       "AQW_351.04_+24.38\n",
       "AQW_353.58_+23.97"
      ]
     },
     "execution_count": 15,
     "metadata": {},
     "output_type": "execute_result"
    }
   ],
   "source": [
    "prun_c.fieldnamesselect(Car.carton,Car.program,Car.category_pk,Car.ve"
   ]
  },
  {
   "cell_type": "code",
   "execution_count": 16,
   "metadata": {},
   "outputs": [],
   "source": [
    "tass = targs.assigned(prun_c)"
   ]
  },
  {
   "cell_type": "code",
   "execution_count": 18,
   "metadata": {},
   "outputs": [],
   "source": [
    "import ppv.util"
   ]
  },
  {
   "cell_type": "code",
   "execution_count": 19,
   "metadata": {},
   "outputs": [
    {
     "data": {
      "text/html": [
       "<i>Table length=401</i>\n",
       "<table id=\"table140470030742192\" class=\"table-striped table-bordered table-condensed\">\n",
       "<thead><tr><th>pk</th><th>catalogid</th><th>dec</th><th>epoch</th><th>pmdec</th><th>pmra</th><th>ra</th><th>parallax</th><th>bp</th><th>g</th><th>h</th><th>i</th><th>z</th><th>r</th><th>rp</th><th>carton_to_target_pk</th><th>priority</th><th>cadence</th><th>field</th></tr></thead>\n",
       "<thead><tr><th>int64</th><th>int64</th><th>float64</th><th>float64</th><th>float64</th><th>float64</th><th>float64</th><th>float64</th><th>float64</th><th>float64</th><th>float64</th><th>float64</th><th>float64</th><th>float64</th><th>float64</th><th>int64</th><th>int64</th><th>float64</th><th>str17</th></tr></thead>\n",
       "<tr><td>57600446</td><td>4375143539</td><td>-0.6515067491362416</td><td>2015.5</td><td>-135.044</td><td>258.692</td><td>24.236442686584866</td><td>23.9705</td><td>16.1197</td><td>16.699734</td><td>10.882</td><td>13.728591</td><td>12.896981</td><td>15.192972</td><td>13.2338</td><td>218911400</td><td>2610</td><td>nan</td><td>AQM_024.61_-00.52</td></tr>\n",
       "<tr><td>57604306</td><td>4399876421</td><td>0.8302183051062618</td><td>2015.5</td><td>-64.6456</td><td>-52.3607</td><td>20.96719140515083</td><td>16.7391</td><td>16.0691</td><td>16.66419</td><td>10.973</td><td>13.746907</td><td>12.958217</td><td>15.188503</td><td>13.2503</td><td>219049632</td><td>2610</td><td>nan</td><td>AQM_022.15_+00.52</td></tr>\n",
       "<tr><td>57604325</td><td>4399883152</td><td>0.5161246658693178</td><td>2015.5</td><td>-22.19</td><td>55.79</td><td>22.26974853633527</td><td>nan</td><td>16.0827</td><td>16.671696</td><td>10.692</td><td>13.598673</td><td>12.75001</td><td>15.18125</td><td>13.0822</td><td>219029580</td><td>2610</td><td>nan</td><td>AQM_022.15_+00.52</td></tr>\n",
       "<tr><td>57604421</td><td>4401113713</td><td>16.123698233514197</td><td>2015.5</td><td>-68.6776</td><td>-76.9885</td><td>20.59071206361603</td><td>22.4419</td><td>16.1837</td><td>16.772816</td><td>10.996</td><td>13.841165</td><td>13.030337</td><td>15.288196</td><td>13.329</td><td>219044068</td><td>2610</td><td>nan</td><td>AQM_021.01_+14.79</td></tr>\n",
       "<tr><td>57604501</td><td>4401877814</td><td>1.0154258922456252</td><td>2015.5</td><td>-319.264</td><td>-166.505</td><td>39.37666189251729</td><td>39.3623</td><td>15.9316</td><td>nan</td><td>10.587</td><td>nan</td><td>nan</td><td>nan</td><td>12.9139</td><td>219057729</td><td>2610</td><td>nan</td><td>AQM_038.50_+00.82</td></tr>\n",
       "<tr><td>57604502</td><td>4401875892</td><td>0.3568901057112036</td><td>2015.5</td><td>-169.67</td><td>502.465</td><td>39.37583754006894</td><td>43.5106</td><td>15.3861</td><td>nan</td><td>9.967</td><td>nan</td><td>nan</td><td>nan</td><td>12.3572</td><td>219057730</td><td>2610</td><td>nan</td><td>AQM_038.50_+00.82</td></tr>\n",
       "<tr><td>57731169</td><td>4551590336</td><td>31.211609269075446</td><td>2015.5</td><td>-233.994</td><td>-52.8591</td><td>116.25261975915487</td><td>19.9533</td><td>16.0232</td><td>nan</td><td>10.935</td><td>nan</td><td>nan</td><td>nan</td><td>13.2442</td><td>218897300</td><td>2610</td><td>nan</td><td>AQW_116.50_+31.59</td></tr>\n",
       "<tr><td>57731596</td><td>4553887138</td><td>37.27404215111514</td><td>2015.5</td><td>-85.6575</td><td>160.015</td><td>116.458970527504</td><td>22.4647</td><td>16.2973</td><td>16.90436</td><td>10.997</td><td>13.899994</td><td>13.05571</td><td>15.447947</td><td>13.3634</td><td>218904213</td><td>2610</td><td>nan</td><td>AQW_115.68_+38.10</td></tr>\n",
       "<tr><td>57731697</td><td>4555355971</td><td>36.123665868095</td><td>2015.5</td><td>-196.907</td><td>-509.591</td><td>122.81073289140114</td><td>39.8041</td><td>14.5422</td><td>15.0692</td><td>9.309</td><td>16.755268</td><td>14.296207</td><td>16.628836</td><td>11.6411</td><td>218902516</td><td>2610</td><td>nan</td><td>AQW_123.29_+34.70</td></tr>\n",
       "<tr><td>63040605</td><td>4551566636</td><td>31.022949942883844</td><td>2015.5</td><td>19.9092</td><td>-8.28582</td><td>114.29484630096131</td><td>17.725</td><td>11.7898</td><td>13.815159</td><td>8.583</td><td>10.548904</td><td>10.848041</td><td>11.004367</td><td>10.2092</td><td>218897193</td><td>2610</td><td>nan</td><td>AQW_114.81_+29.83</td></tr>\n",
       "<tr><td>...</td><td>...</td><td>...</td><td>...</td><td>...</td><td>...</td><td>...</td><td>...</td><td>...</td><td>...</td><td>...</td><td>...</td><td>...</td><td>...</td><td>...</td><td>...</td><td>...</td><td>...</td><td>...</td></tr>\n",
       "<tr><td>63200136</td><td>4402839837</td><td>27.666837577512847</td><td>2015.5</td><td>144.804</td><td>222.239</td><td>2.2492675946101794</td><td>16.535</td><td>13.7767</td><td>14.37903</td><td>9.812</td><td>12.096777</td><td>11.653342</td><td>13.499054</td><td>11.7309</td><td>219061395</td><td>2610</td><td>nan</td><td>AQM_001.85_+26.44</td></tr>\n",
       "<tr><td>63200143</td><td>4400726315</td><td>26.516624646335984</td><td>2015.5</td><td>-56.43</td><td>43.69</td><td>3.017901588779658</td><td>nan</td><td>12.274</td><td>12.590871</td><td>9.293</td><td>11.220837</td><td>10.989637</td><td>11.615499</td><td>10.8608</td><td>219061402</td><td>2610</td><td>nan</td><td>AQM_001.85_+26.44</td></tr>\n",
       "<tr><td>63200148</td><td>4402835549</td><td>26.81979450154741</td><td>2015.5</td><td>-14.5468</td><td>-17.4957</td><td>3.3869881453212867</td><td>7.72339</td><td>10.9878</td><td>11.293857</td><td>9.234</td><td>10.443971</td><td>10.474189</td><td>10.604778</td><td>10.1126</td><td>219061408</td><td>2610</td><td>nan</td><td>AQM_001.85_+26.44</td></tr>\n",
       "<tr><td>63200961</td><td>4400895254</td><td>25.704098815215648</td><td>2015.5</td><td>-17.1871</td><td>13.793</td><td>7.969127765641617</td><td>13.8762</td><td>9.55891</td><td>12.255044</td><td>7.533</td><td>8.930486</td><td>9.728119</td><td>9.111869</td><td>8.58782</td><td>219062254</td><td>2610</td><td>nan</td><td>AQM_009.32_+25.53</td></tr>\n",
       "<tr><td>63200977</td><td>4400897541</td><td>25.7078179261229</td><td>2015.5</td><td>17.0471</td><td>34.5592</td><td>8.259809244574473</td><td>2.47637</td><td>12.3757</td><td>12.471117</td><td>10.879</td><td>11.977029</td><td>12.035175</td><td>12.084181</td><td>11.6536</td><td>219062271</td><td>2610</td><td>nan</td><td>AQM_009.32_+25.53</td></tr>\n",
       "<tr><td>63200978</td><td>4400893013</td><td>25.428190891278252</td><td>2015.5</td><td>-7.07092</td><td>8.24067</td><td>8.290322220034714</td><td>4.96746</td><td>10.1331</td><td>10.2639265</td><td>8.997</td><td>9.739638</td><td>10.359647</td><td>9.776857</td><td>9.56247</td><td>219062272</td><td>2610</td><td>nan</td><td>AQM_009.32_+25.53</td></tr>\n",
       "<tr><td>63207767</td><td>4555274785</td><td>35.016246197058074</td><td>2015.5</td><td>-8.11581</td><td>-8.06106</td><td>121.86371814790776</td><td>5.10199</td><td>14.3511</td><td>14.842198</td><td>10.655</td><td>12.8835125</td><td>12.523568</td><td>13.537995</td><td>12.528</td><td>219069362</td><td>2610</td><td>nan</td><td>AQW_120.08_+35.03</td></tr>\n",
       "<tr><td>63207767</td><td>4555274785</td><td>35.016246197058074</td><td>2015.5</td><td>-8.11581</td><td>-8.06106</td><td>121.86371814790776</td><td>5.10199</td><td>14.3511</td><td>14.842198</td><td>10.655</td><td>12.8835125</td><td>12.523568</td><td>13.537995</td><td>12.528</td><td>219069362</td><td>2610</td><td>nan</td><td>AQW_123.29_+34.70</td></tr>\n",
       "<tr><td>63207770</td><td>4555213129</td><td>32.70397711100681</td><td>2015.5</td><td>-25.9925</td><td>18.1017</td><td>121.76543353348887</td><td>9.26177</td><td>12.0255</td><td>12.253795</td><td>9.496</td><td>11.14133</td><td>11.036699</td><td>11.414367</td><td>10.807</td><td>219069365</td><td>2610</td><td>nan</td><td>AQW_121.38_+32.85</td></tr>\n",
       "<tr><td>63207771</td><td>4554729892</td><td>32.218371984912935</td><td>2015.5</td><td>-253.657</td><td>-372.99</td><td>121.85671942712185</td><td>52.9698</td><td>19.5038</td><td>20.29702</td><td>11.455</td><td>15.986128</td><td>14.360169</td><td>18.542656</td><td>14.9388</td><td>219069366</td><td>2610</td><td>nan</td><td>AQW_121.38_+32.85</td></tr>\n",
       "</table>"
      ],
      "text/plain": [
       "<Table length=401>\n",
       "   pk    catalogid          dec         ... priority cadence       field      \n",
       " int64     int64          float64       ...  int64   float64       str17      \n",
       "-------- ---------- ------------------- ... -------- ------- -----------------\n",
       "57600446 4375143539 -0.6515067491362416 ...     2610     nan AQM_024.61_-00.52\n",
       "57604306 4399876421  0.8302183051062618 ...     2610     nan AQM_022.15_+00.52\n",
       "57604325 4399883152  0.5161246658693178 ...     2610     nan AQM_022.15_+00.52\n",
       "57604421 4401113713  16.123698233514197 ...     2610     nan AQM_021.01_+14.79\n",
       "57604501 4401877814  1.0154258922456252 ...     2610     nan AQM_038.50_+00.82\n",
       "57604502 4401875892  0.3568901057112036 ...     2610     nan AQM_038.50_+00.82\n",
       "57731169 4551590336  31.211609269075446 ...     2610     nan AQW_116.50_+31.59\n",
       "57731596 4553887138   37.27404215111514 ...     2610     nan AQW_115.68_+38.10\n",
       "57731697 4555355971     36.123665868095 ...     2610     nan AQW_123.29_+34.70\n",
       "63040605 4551566636  31.022949942883844 ...     2610     nan AQW_114.81_+29.83\n",
       "     ...        ...                 ... ...      ...     ...               ...\n",
       "63200136 4402839837  27.666837577512847 ...     2610     nan AQM_001.85_+26.44\n",
       "63200143 4400726315  26.516624646335984 ...     2610     nan AQM_001.85_+26.44\n",
       "63200148 4402835549   26.81979450154741 ...     2610     nan AQM_001.85_+26.44\n",
       "63200961 4400895254  25.704098815215648 ...     2610     nan AQM_009.32_+25.53\n",
       "63200977 4400897541    25.7078179261229 ...     2610     nan AQM_009.32_+25.53\n",
       "63200978 4400893013  25.428190891278252 ...     2610     nan AQM_009.32_+25.53\n",
       "63207767 4555274785  35.016246197058074 ...     2610     nan AQW_120.08_+35.03\n",
       "63207767 4555274785  35.016246197058074 ...     2610     nan AQW_123.29_+34.70\n",
       "63207770 4555213129   32.70397711100681 ...     2610     nan AQW_121.38_+32.85\n",
       "63207771 4554729892  32.218371984912935 ...     2610     nan AQW_121.38_+32.85"
      ]
     },
     "execution_count": 19,
     "metadata": {},
     "output_type": "execute_result"
    }
   ],
   "source": [
    "ppv.util.unique_cat_w_provenance(targs.assigned(prun_c), prun_c.fieldnames, 'field')"
   ]
  },
  {
   "cell_type": "code",
   "execution_count": 21,
   "metadata": {},
   "outputs": [
    {
     "data": {
      "text/html": [
       "<i>Table length=27908</i>\n",
       "<table id=\"table140469996625488\" class=\"table-striped table-bordered table-condensed\">\n",
       "<thead><tr><th>target_ra</th><th>target_dec</th><th>holetype</th><th>targettype</th><th>catalogid</th><th>tmass_id</th><th>firstcarton</th><th>tmass_h</th><th>gaia_g</th><th>gaia_rp</th><th>gaia_bp</th><th>plate</th><th>field</th></tr></thead>\n",
       "<thead><tr><th>float64</th><th>float64</th><th>str13</th><th>str8</th><th>uint64</th><th>str23</th><th>str21</th><th>float64</th><th>float64</th><th>float64</th><th>float64</th><th>int64</th><th>str17</th></tr></thead>\n",
       "<tr><td>0.0</td><td>0.0</td><td>ALIGNMENT</td><td>NA</td><td>0</td><td>NA</td><td>NA</td><td>-9999.0</td><td>0.0</td><td>0.0</td><td>0.0</td><td>15004</td><td>AQM_001.85_+26.44</td></tr>\n",
       "<tr><td>0.0</td><td>0.0</td><td>ALIGNMENT</td><td>NA</td><td>0</td><td>NA</td><td>NA</td><td>-9999.0</td><td>0.0</td><td>0.0</td><td>0.0</td><td>15005</td><td>AQM_008.53_+01.04</td></tr>\n",
       "<tr><td>0.0</td><td>0.0</td><td>ALIGNMENT</td><td>NA</td><td>0</td><td>NA</td><td>NA</td><td>-9999.0</td><td>0.0</td><td>0.0</td><td>0.0</td><td>15006</td><td>AQM_009.32_+25.53</td></tr>\n",
       "<tr><td>0.0</td><td>0.0</td><td>ALIGNMENT</td><td>NA</td><td>0</td><td>NA</td><td>NA</td><td>-9999.0</td><td>0.0</td><td>0.0</td><td>0.0</td><td>15007</td><td>AQM_010.46_-00.45</td></tr>\n",
       "<tr><td>0.0</td><td>0.0</td><td>ALIGNMENT</td><td>NA</td><td>0</td><td>NA</td><td>NA</td><td>-9999.0</td><td>0.0</td><td>0.0</td><td>0.0</td><td>15008</td><td>AQM_013.71_+00.82</td></tr>\n",
       "<tr><td>0.0</td><td>0.0</td><td>ALIGNMENT</td><td>NA</td><td>0</td><td>NA</td><td>NA</td><td>-9999.0</td><td>0.0</td><td>0.0</td><td>0.0</td><td>15009</td><td>AQM_019.60_-00.75</td></tr>\n",
       "<tr><td>0.0</td><td>0.0</td><td>ALIGNMENT</td><td>NA</td><td>0</td><td>NA</td><td>NA</td><td>-9999.0</td><td>0.0</td><td>0.0</td><td>0.0</td><td>15010</td><td>AQM_021.01_+14.79</td></tr>\n",
       "<tr><td>0.0</td><td>0.0</td><td>ALIGNMENT</td><td>NA</td><td>0</td><td>NA</td><td>NA</td><td>-9999.0</td><td>0.0</td><td>0.0</td><td>0.0</td><td>15011</td><td>AQM_022.15_+00.52</td></tr>\n",
       "<tr><td>0.0</td><td>0.0</td><td>ALIGNMENT</td><td>NA</td><td>0</td><td>NA</td><td>NA</td><td>-9999.0</td><td>0.0</td><td>0.0</td><td>0.0</td><td>15012</td><td>AQM_024.61_-00.52</td></tr>\n",
       "<tr><td>0.0</td><td>0.0</td><td>ALIGNMENT</td><td>NA</td><td>0</td><td>NA</td><td>NA</td><td>-9999.0</td><td>0.0</td><td>0.0</td><td>0.0</td><td>15013</td><td>AQM_028.56_+00.15</td></tr>\n",
       "<tr><td>...</td><td>...</td><td>...</td><td>...</td><td>...</td><td>...</td><td>...</td><td>...</td><td>...</td><td>...</td><td>...</td><td>...</td><td>...</td></tr>\n",
       "<tr><td>359.9809</td><td>1.4721018</td><td>BOSS_SHARED</td><td>science</td><td>87284284</td><td>None</td><td>bhm_aqmes_med-faint</td><td>-9.99999</td><td>20.3706</td><td>19.6424</td><td>20.4132</td><td>15035</td><td>AQM_359.38_+00.15</td></tr>\n",
       "<tr><td>359.98121</td><td>0.6528313</td><td>BOSS_SHARED</td><td>science</td><td>87278639</td><td>None</td><td>mwm_wd_core</td><td>-9.99999</td><td>19.2054</td><td>19.0518</td><td>19.1653</td><td>15035</td><td>AQM_359.38_+00.15</td></tr>\n",
       "<tr><td>359.98364</td><td>1.0249407</td><td>APOGEE_SHARED</td><td>science</td><td>87282795</td><td>2MASS-J23595602+0101294</td><td>mwm_snc_250pc</td><td>10.584</td><td>12.2067</td><td>11.6354</td><td>12.632</td><td>15035</td><td>AQM_359.38_+00.15</td></tr>\n",
       "<tr><td>359.98601</td><td>0.9294744</td><td>BOSS_SHARED</td><td>standard</td><td>87282719</td><td>2MASS-J23595665+0055466</td><td>ops_std_eboss</td><td>15.995</td><td>17.252</td><td>16.7702</td><td>17.4935</td><td>15035</td><td>AQM_359.38_+00.15</td></tr>\n",
       "<tr><td>359.98776</td><td>-0.3788363</td><td>BOSS_SHARED</td><td>science</td><td>76229615</td><td>None</td><td>bhm_aqmes_med-faint</td><td>-9.99999</td><td>21.0102</td><td>-9.99999</td><td>-9.99999</td><td>15035</td><td>AQM_359.38_+00.15</td></tr>\n",
       "<tr><td>359.99256</td><td>0.8610583</td><td>BOSS_SHARED</td><td>science</td><td>87279002</td><td>None</td><td>bhm_aqmes_med</td><td>-9.99999</td><td>19.0912</td><td>18.5738</td><td>19.1334</td><td>15035</td><td>AQM_359.38_+00.15</td></tr>\n",
       "<tr><td>359.99444</td><td>-1.2070516</td><td>BOSS_SHARED</td><td>science</td><td>76224445</td><td>None</td><td>bhm_aqmes_med</td><td>-9.99999</td><td>18.7319</td><td>18.2935</td><td>18.8309</td><td>15035</td><td>AQM_359.38_+00.15</td></tr>\n",
       "<tr><td>359.99469</td><td>0.562592</td><td>BOSS_SHARED</td><td>science</td><td>87278617</td><td>None</td><td>bhm_aqmes_med-faint</td><td>-9.99999</td><td>19.3116</td><td>18.8309</td><td>19.3529</td><td>15035</td><td>AQM_359.38_+00.15</td></tr>\n",
       "<tr><td>359.99674</td><td>1.2394765</td><td>APOGEE_SHARED</td><td>science</td><td>87283177</td><td>2MASS-J23595920+0114222</td><td>mwm_tessrgb_core</td><td>10.025</td><td>11.8993</td><td>11.269</td><td>12.3916</td><td>15035</td><td>AQM_359.38_+00.15</td></tr>\n",
       "<tr><td>359.99907</td><td>-0.0653861</td><td>APOGEE_SHARED</td><td>science</td><td>76229979</td><td>2MASS-J23595977-0003554</td><td>mwm_tessrgb_core</td><td>7.38</td><td>9.9386</td><td>9.1543</td><td>10.6505</td><td>15035</td><td>AQM_359.38_+00.15</td></tr>\n",
       "</table>"
      ],
      "text/plain": [
       "<Table length=27908>\n",
       "target_ra target_dec    holetype   ... gaia_bp  plate       field      \n",
       " float64   float64       str13     ... float64  int64       str17      \n",
       "--------- ---------- ------------- ... -------- ----- -----------------\n",
       "      0.0        0.0     ALIGNMENT ...      0.0 15004 AQM_001.85_+26.44\n",
       "      0.0        0.0     ALIGNMENT ...      0.0 15005 AQM_008.53_+01.04\n",
       "      0.0        0.0     ALIGNMENT ...      0.0 15006 AQM_009.32_+25.53\n",
       "      0.0        0.0     ALIGNMENT ...      0.0 15007 AQM_010.46_-00.45\n",
       "      0.0        0.0     ALIGNMENT ...      0.0 15008 AQM_013.71_+00.82\n",
       "      0.0        0.0     ALIGNMENT ...      0.0 15009 AQM_019.60_-00.75\n",
       "      0.0        0.0     ALIGNMENT ...      0.0 15010 AQM_021.01_+14.79\n",
       "      0.0        0.0     ALIGNMENT ...      0.0 15011 AQM_022.15_+00.52\n",
       "      0.0        0.0     ALIGNMENT ...      0.0 15012 AQM_024.61_-00.52\n",
       "      0.0        0.0     ALIGNMENT ...      0.0 15013 AQM_028.56_+00.15\n",
       "      ...        ...           ... ...      ...   ...               ...\n",
       " 359.9809  1.4721018   BOSS_SHARED ...  20.4132 15035 AQM_359.38_+00.15\n",
       "359.98121  0.6528313   BOSS_SHARED ...  19.1653 15035 AQM_359.38_+00.15\n",
       "359.98364  1.0249407 APOGEE_SHARED ...   12.632 15035 AQM_359.38_+00.15\n",
       "359.98601  0.9294744   BOSS_SHARED ...  17.4935 15035 AQM_359.38_+00.15\n",
       "359.98776 -0.3788363   BOSS_SHARED ... -9.99999 15035 AQM_359.38_+00.15\n",
       "359.99256  0.8610583   BOSS_SHARED ...  19.1334 15035 AQM_359.38_+00.15\n",
       "359.99444 -1.2070516   BOSS_SHARED ...  18.8309 15035 AQM_359.38_+00.15\n",
       "359.99469   0.562592   BOSS_SHARED ...  19.3529 15035 AQM_359.38_+00.15\n",
       "359.99674  1.2394765 APOGEE_SHARED ...  12.3916 15035 AQM_359.38_+00.15\n",
       "359.99907 -0.0653861 APOGEE_SHARED ...  10.6505 15035 AQM_359.38_+00.15"
      ]
     },
     "execution_count": 21,
     "metadata": {},
     "output_type": "execute_result"
    }
   ],
   "source": [
    "prun_c.assigned_table()"
   ]
  },
  {
   "cell_type": "code",
   "execution_count": null,
   "metadata": {},
   "outputs": [],
   "source": []
  }
 ],
 "metadata": {
  "kernelspec": {
   "display_name": "Python 3",
   "language": "python",
   "name": "python3"
  },
  "language_info": {
   "codemirror_mode": {
    "name": "ipython",
    "version": 3
   },
   "file_extension": ".py",
   "mimetype": "text/x-python",
   "name": "python",
   "nbconvert_exporter": "python",
   "pygments_lexer": "ipython3",
   "version": "3.8.5"
  }
 },
 "nbformat": 4,
 "nbformat_minor": 4
}
