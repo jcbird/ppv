{
 "cells": [
  {
   "cell_type": "code",
   "execution_count": 1,
   "metadata": {},
   "outputs": [],
   "source": [
    "from astropy.table import Table\n",
    "from pathlib import Path"
   ]
  },
  {
   "cell_type": "code",
   "execution_count": 2,
   "metadata": {},
   "outputs": [],
   "source": [
    "from ppv import platerun"
   ]
  },
  {
   "cell_type": "code",
   "execution_count": null,
   "metadata": {},
   "outputs": [],
   "source": []
  },
  {
   "cell_type": "code",
   "execution_count": 3,
   "metadata": {},
   "outputs": [],
   "source": [
    "data_dir = Path.cwd().parent / 'data/raw'\n",
    "\n",
    "selected_file = data_dir / 'mwm_planet_0.1.0.fits.gz'\n",
    "sel_targDB_file = data_dir / 'mwm_planet_0.1.0_targetdb.fits.gz'\n",
    "\n",
    "sel_targ = Table.read(selected_file.as_posix())\n",
    "sel_targDB = Table.read(sel_targDB_file.as_posix())\n",
    "\n",
    "sel_targ.sort('catalogid')\n",
    "sel_targDB.sort('catalogid')"
   ]
  },
  {
   "cell_type": "code",
   "execution_count": 4,
   "metadata": {},
   "outputs": [],
   "source": [
    "from ppv.targets import Targets\n",
    "from ppv import field"
   ]
  },
  {
   "cell_type": "code",
   "execution_count": 5,
   "metadata": {},
   "outputs": [
    {
     "name": "stdout",
     "output_type": "stream",
     "text": [
      "Assuming RA, Dec are in degrees and 2015.5 epoch\n"
     ]
    }
   ],
   "source": [
    "targs = Targets(sel_targDB['ra'], sel_targDB['dec'], ancillary=sel_targDB)\n"
   ]
  },
  {
   "cell_type": "code",
   "execution_count": 6,
   "metadata": {},
   "outputs": [],
   "source": [
    "fname = field.allplate_summary['name'][5]"
   ]
  },
  {
   "cell_type": "code",
   "execution_count": 7,
   "metadata": {},
   "outputs": [],
   "source": [
    "ex_field = field.Field(fname)\n"
   ]
  },
  {
   "cell_type": "code",
   "execution_count": 8,
   "metadata": {},
   "outputs": [
    {
     "data": {
      "text/plain": [
       "<SkyCoord (ICRS): (ra, dec) in deg\n",
       "    (1.845703, 26.443334)>"
      ]
     },
     "execution_count": 8,
     "metadata": {},
     "output_type": "execute_result"
    }
   ],
   "source": [
    "ex_field.center"
   ]
  },
  {
   "cell_type": "code",
   "execution_count": 9,
   "metadata": {},
   "outputs": [],
   "source": [
    "import numpy as np"
   ]
  },
  {
   "cell_type": "code",
   "execution_count": 10,
   "metadata": {},
   "outputs": [],
   "source": [
    "from astropy import units as u"
   ]
  },
  {
   "cell_type": "code",
   "execution_count": 11,
   "metadata": {},
   "outputs": [
    {
     "data": {
      "text/html": [
       "<i>Table masked=True length=11</i>\n",
       "<table id=\"table139977148961600\" class=\"table-striped table-bordered table-condensed\">\n",
       "<thead><tr><th>pk</th><th>catalogid</th><th>dec</th><th>epoch</th><th>pmdec</th><th>pmra</th><th>ra</th><th>parallax</th><th>bp</th><th>g</th><th>h</th><th>i</th><th>z</th><th>r</th><th>rp</th><th>carton_to_target_pk</th><th>priority</th><th>cadence</th></tr></thead>\n",
       "<thead><tr><th>int64</th><th>int64</th><th>float64</th><th>float64</th><th>float64</th><th>float64</th><th>float64</th><th>float64</th><th>float64</th><th>float64</th><th>float64</th><th>float64</th><th>float64</th><th>float64</th><th>float64</th><th>int64</th><th>int64</th><th>float64</th></tr></thead>\n",
       "<tr><td>63200143</td><td>4400726315</td><td>26.516624646335984</td><td>2015.5</td><td>-56.43</td><td>43.69</td><td>3.017901588779658</td><td>nan</td><td>12.274</td><td>12.590871</td><td>9.293</td><td>11.220837</td><td>10.989637</td><td>11.615499</td><td>10.8608</td><td>219061402</td><td>2610</td><td>nan</td></tr>\n",
       "<tr><td>63130318</td><td>4400726404</td><td>26.252226477392497</td><td>2015.5</td><td>-7.54142</td><td>-5.06581</td><td>3.1523757514693362</td><td>2.29675</td><td>12.6512</td><td>12.739884</td><td>10.946</td><td>12.137205</td><td>12.083581</td><td>12.301875</td><td>11.8233</td><td>218989341</td><td>2610</td><td>nan</td></tr>\n",
       "<tr><td>63200148</td><td>4402835549</td><td>26.81979450154741</td><td>2015.5</td><td>-14.5468</td><td>-17.4957</td><td>3.3869881453212867</td><td>7.72339</td><td>10.9878</td><td>11.293857</td><td>9.234</td><td>10.443971</td><td>10.474189</td><td>10.604778</td><td>10.1126</td><td>219061408</td><td>2610</td><td>nan</td></tr>\n",
       "<tr><td>63148214</td><td>4402838198</td><td>27.316449524906293</td><td>2015.5</td><td>45.2254</td><td>111.928</td><td>2.3777257433414243</td><td>13.8652</td><td>13.5774</td><td>14.1181555</td><td>9.911</td><td>12.085736</td><td>11.687693</td><td>12.754909</td><td>11.7227</td><td>219007769</td><td>2610</td><td>nan</td></tr>\n",
       "<tr><td>63148215</td><td>4402838643</td><td>27.496560527547583</td><td>2015.5</td><td>-55.7289</td><td>-2.86079</td><td>2.360110141369754</td><td>8.92773</td><td>11.1768</td><td>11.416542</td><td>9.145</td><td>15.27082</td><td>10.906687</td><td>10.808616</td><td>10.2025</td><td>219007770</td><td>2610</td><td>nan</td></tr>\n",
       "<tr><td>63165725</td><td>4402838933</td><td>27.539312853258306</td><td>2015.5</td><td>-13.3591</td><td>24.7408</td><td>2.578731482902514</td><td>5.78841</td><td>11.1787</td><td>11.246591</td><td>9.547</td><td>10.69413</td><td>10.715225</td><td>10.818146</td><td>10.3745</td><td>219025849</td><td>2610</td><td>nan</td></tr>\n",
       "<tr><td>63148216</td><td>4402839819</td><td>27.65221982258546</td><td>2015.5</td><td>145.471</td><td>222.988</td><td>2.2631552646876965</td><td>16.5175</td><td>11.9499</td><td>14.241348</td><td>8.777</td><td>10.735708</td><td>11.299208</td><td>11.204476</td><td>10.4117</td><td>219007771</td><td>2610</td><td>nan</td></tr>\n",
       "<tr><td>63200136</td><td>4402839837</td><td>27.666837577512847</td><td>2015.5</td><td>144.804</td><td>222.239</td><td>2.2492675946101794</td><td>16.535</td><td>13.7767</td><td>14.37903</td><td>9.812</td><td>12.096777</td><td>11.653342</td><td>13.499054</td><td>11.7309</td><td>219061395</td><td>2610</td><td>nan</td></tr>\n",
       "<tr><td>63165724</td><td>4402840037</td><td>27.62920463874903</td><td>2015.5</td><td>-53.9078</td><td>82.6503</td><td>2.5314287283254515</td><td>15.3694</td><td>14.5475</td><td>15.101445</td><td>10.121</td><td>12.637509</td><td>12.075852</td><td>13.708468</td><td>12.2451</td><td>219025848</td><td>2610</td><td>nan</td></tr>\n",
       "<tr><td>63165723</td><td>4402840160</td><td>27.764958026948076</td><td>2015.5</td><td>-3.98578</td><td>-4.70774</td><td>2.5429351496859987</td><td>1.5423</td><td>10.4018</td><td>10.721768</td><td>7.425</td><td>9.303644</td><td>9.377136</td><td>9.637439</td><td>9.01802</td><td>219025847</td><td>2610</td><td>nan</td></tr>\n",
       "<tr><td>63200144</td><td>4402841300</td><td>27.510075074405066</td><td>2015.5</td><td>-26.1208</td><td>4.0662</td><td>2.9407840006128296</td><td>8.51073</td><td>8.57606</td><td>8.70825</td><td>7.317</td><td>8.276394</td><td>8.574736</td><td>8.331132</td><td>7.95118</td><td>219061403</td><td>2610</td><td>nan</td></tr>\n",
       "</table>"
      ],
      "text/plain": [
       "<Table masked=True length=11>\n",
       "   pk    catalogid         dec         ... carton_to_target_pk priority cadence\n",
       " int64     int64         float64       ...        int64         int64   float64\n",
       "-------- ---------- ------------------ ... ------------------- -------- -------\n",
       "63200143 4400726315 26.516624646335984 ...           219061402     2610     nan\n",
       "63130318 4400726404 26.252226477392497 ...           218989341     2610     nan\n",
       "63200148 4402835549  26.81979450154741 ...           219061408     2610     nan\n",
       "63148214 4402838198 27.316449524906293 ...           219007769     2610     nan\n",
       "63148215 4402838643 27.496560527547583 ...           219007770     2610     nan\n",
       "63165725 4402838933 27.539312853258306 ...           219025849     2610     nan\n",
       "63148216 4402839819  27.65221982258546 ...           219007771     2610     nan\n",
       "63200136 4402839837 27.666837577512847 ...           219061395     2610     nan\n",
       "63165724 4402840037  27.62920463874903 ...           219025848     2610     nan\n",
       "63165723 4402840160 27.764958026948076 ...           219025847     2610     nan\n",
       "63200144 4402841300 27.510075074405066 ...           219061403     2610     nan"
      ]
     },
     "execution_count": 11,
     "metadata": {},
     "output_type": "execute_result"
    }
   ],
   "source": [
    "targs.available(ex_field)"
   ]
  },
  {
   "cell_type": "code",
   "execution_count": 12,
   "metadata": {},
   "outputs": [
    {
     "data": {
      "text/plain": [
       "[<SkyCoord (ICRS): (ra, dec) in deg\n",
       "     [(3.01790159, 26.51662465), (3.15237575, 26.25222648),\n",
       "      (3.38698815, 26.8197945 ), (2.37772574, 27.31644952),\n",
       "      (2.36011014, 27.49656053), (2.57873148, 27.53931285),\n",
       "      (2.24926759, 27.66683758), (2.53142873, 27.62920464)]>]"
      ]
     },
     "execution_count": 12,
     "metadata": {},
     "output_type": "execute_result"
    }
   ],
   "source": [
    "targs.assigned(ex_field, coords=True)"
   ]
  },
  {
   "cell_type": "code",
   "execution_count": 25,
   "metadata": {},
   "outputs": [
    {
     "data": {
      "text/html": [
       "&lt;MaskedColumn name=&apos;catalogid&apos; dtype=&apos;int64&apos; length=177494&gt;\n",
       "<table>\n",
       "<tr><td>4204692671</td></tr>\n",
       "<tr><td>4204692773</td></tr>\n",
       "<tr><td>4204705857</td></tr>\n",
       "<tr><td>4204751665</td></tr>\n",
       "<tr><td>4204795388</td></tr>\n",
       "<tr><td>4204838200</td></tr>\n",
       "<tr><td>4204854273</td></tr>\n",
       "<tr><td>4204858177</td></tr>\n",
       "<tr><td>4204901910</td></tr>\n",
       "<tr><td>4204917314</td></tr>\n",
       "<tr><td>4204926522</td></tr>\n",
       "<tr><td>4204933546</td></tr>\n",
       "<tr><td>...</td></tr>\n",
       "<tr><td>5932663258</td></tr>\n",
       "<tr><td>5932664728</td></tr>\n",
       "<tr><td>5932664785</td></tr>\n",
       "<tr><td>5932665261</td></tr>\n",
       "<tr><td>5932665613</td></tr>\n",
       "<tr><td>5932665963</td></tr>\n",
       "<tr><td>5932666418</td></tr>\n",
       "<tr><td>5932667443</td></tr>\n",
       "<tr><td>5932667724</td></tr>\n",
       "<tr><td>5932667918</td></tr>\n",
       "<tr><td>5932668409</td></tr>\n",
       "<tr><td>5932668452</td></tr>\n",
       "</table>"
      ],
      "text/plain": [
       "<MaskedColumn name='catalogid' dtype='int64' length=177494>\n",
       "4204692671\n",
       "4204692773\n",
       "4204705857\n",
       "4204751665\n",
       "4204795388\n",
       "4204838200\n",
       "4204854273\n",
       "4204858177\n",
       "4204901910\n",
       "4204917314\n",
       "4204926522\n",
       "4204933546\n",
       "       ...\n",
       "5932663258\n",
       "5932664728\n",
       "5932664785\n",
       "5932665261\n",
       "5932665613\n",
       "5932665963\n",
       "5932666418\n",
       "5932667443\n",
       "5932667724\n",
       "5932667918\n",
       "5932668409\n",
       "5932668452"
      ]
     },
     "execution_count": 25,
     "metadata": {},
     "output_type": "execute_result"
    }
   ],
   "source": [
    "targs.data['catalogid']"
   ]
  },
  {
   "cell_type": "code",
   "execution_count": 21,
   "metadata": {},
   "outputs": [
    {
     "data": {
      "text/plain": [
       "18446744072737011716"
      ]
     },
     "execution_count": 21,
     "metadata": {},
     "output_type": "execute_result"
    }
   ],
   "source": [
    "ex_field.plate_data[0]['catalogid'].max()"
   ]
  },
  {
   "cell_type": "code",
   "execution_count": 27,
   "metadata": {},
   "outputs": [
    {
     "data": {
      "text/plain": [
       "[15004]"
      ]
     },
     "execution_count": 27,
     "metadata": {},
     "output_type": "execute_result"
    }
   ],
   "source": [
    "ex_field._plates"
   ]
  },
  {
   "cell_type": "code",
   "execution_count": 26,
   "metadata": {},
   "outputs": [],
   "source": [
    "from ppv import plate"
   ]
  },
  {
   "cell_type": "code",
   "execution_count": 40,
   "metadata": {},
   "outputs": [],
   "source": [
    "plate_dict = plate.get_dict(15004)"
   ]
  },
  {
   "cell_type": "code",
   "execution_count": 46,
   "metadata": {},
   "outputs": [
    {
     "data": {
      "text/plain": [
       "['pk',\n",
       " 'catalogid',\n",
       " 'dec',\n",
       " 'epoch',\n",
       " 'pmdec',\n",
       " 'pmra',\n",
       " 'ra',\n",
       " 'parallax',\n",
       " 'bp',\n",
       " 'g',\n",
       " 'h',\n",
       " 'i',\n",
       " 'z',\n",
       " 'r',\n",
       " 'rp',\n",
       " 'carton_to_target_pk',\n",
       " 'priority',\n",
       " 'cadence']"
      ]
     },
     "execution_count": 46,
     "metadata": {},
     "output_type": "execute_result"
    }
   ],
   "source": [
    "targs.data.colnames"
   ]
  },
  {
   "cell_type": "code",
   "execution_count": 42,
   "metadata": {},
   "outputs": [
    {
     "data": {
      "text/plain": [
       "dict_keys(['holetype', 'targettype', 'sourcetype', 'target_ra', 'target_dec', 'iplateinput', 'pointing', 'offset', 'fiberid', 'block', 'iguide', 'xf_default', 'yf_default', 'lambda_eff', 'zoffset', 'bluefiber', 'chunk', 'ifinal', 'origfile', 'fileindx', 'diameter', 'buffer', 'priority', 'assigned', 'conflicted', 'ranout', 'outside', 'mangaid', 'ifudesign', 'ifudesignsize', 'bundle_size', 'fiber_size', 'tmass_j', 'tmass_h', 'tmass_k', 'gsc_vmag', 'tyc_bmag', 'tyc_vmag', 'mfd_mag', 'usnob_mag', 'source_id', 'phot_g_mean_mag', 'sp_param_source', 'sp_params', 'sp_param_err', 'marvels_target1', 'marvels_target2', 'boss_target1', 'boss_target2', 'ancillary_target1', 'ancillary_target2', 'segue2_target1', 'segue2_target2', 'segueb_target1', 'segueb_target2', 'apogee_target1', 'apogee_target2', 'manga_target1', 'manga_target2', 'manga_target3', 'eboss_target0', 'eboss_target1', 'eboss_target2', 'eboss_target_id', 'thing_id_targeting', 'objid_targeting', 'apogee2_target1', 'apogee2_target2', 'apogee2_target3', 'run', 'rerun', 'camcol', 'field', 'id', 'psfflux', 'psfflux_ivar', 'fiberflux', 'fiberflux_ivar', 'fiber2flux', 'fiber2flux_ivar', 'psfmag', 'fibermag', 'fiber2mag', 'mag', 'epoch', 'pmra', 'pmdec', 'targetids', 'ifuid', 'catalogid', 'gaia_bp', 'gaia_rp', 'gaia_g', 'tmass_id', 'sdssv_apogee_target0', 'sdssv_boss_target0', 'gri_gaia_transform', 'firstcarton', 'xfocal', 'yfocal'])"
      ]
     },
     "execution_count": 42,
     "metadata": {},
     "output_type": "execute_result"
    }
   ],
   "source": [
    "plate_dict.keys()"
   ]
  },
  {
   "cell_type": "code",
   "execution_count": 30,
   "metadata": {},
   "outputs": [],
   "source": [
    "targs_avail = targs.available_in_field(ex_field, coords=True)"
   ]
  },
  {
   "cell_type": "code",
   "execution_count": 32,
   "metadata": {},
   "outputs": [],
   "source": [
    "idx, sep2d, _ = targs_avail.match_to_catalog_sky(ex_field.plugged_coords[0])"
   ]
  },
  {
   "cell_type": "code",
   "execution_count": 35,
   "metadata": {},
   "outputs": [
    {
     "data": {
      "text/plain": [
       "11"
      ]
     },
     "execution_count": 35,
     "metadata": {},
     "output_type": "execute_result"
    }
   ],
   "source": [
    "len(targs_avail)"
   ]
  },
  {
   "cell_type": "code",
   "execution_count": 33,
   "metadata": {},
   "outputs": [
    {
     "data": {
      "text/latex": [
       "[$0^\\circ00{}^\\prime00.0013{}^{\\prime\\prime}$\n",
       " $0^\\circ00{}^\\prime00.0017{}^{\\prime\\prime}$\n",
       " $0^\\circ00{}^\\prime00.0018{}^{\\prime\\prime}$\n",
       " $0^\\circ00{}^\\prime00.0017{}^{\\prime\\prime}$\n",
       " $0^\\circ00{}^\\prime00.0017{}^{\\prime\\prime}$\n",
       " $0^\\circ00{}^\\prime00.0005{}^{\\prime\\prime}$\n",
       " $0^\\circ01{}^\\prime08.7775{}^{\\prime\\prime}$\n",
       " $0^\\circ00{}^\\prime00.0015{}^{\\prime\\prime}$\n",
       " $0^\\circ00{}^\\prime00.0013{}^{\\prime\\prime}$\n",
       " $0^\\circ01{}^\\prime00.2909{}^{\\prime\\prime}$\n",
       " $0^\\circ00{}^\\prime00.3779{}^{\\prime\\prime}$]"
      ],
      "text/plain": [
       "<Angle [3.53806499e-07, 4.79372530e-07, 5.00090857e-07, 4.76651775e-07,\n",
       "        4.73875434e-07, 1.47522738e-07, 1.91048694e-02, 4.22514122e-07,\n",
       "        3.62121586e-07, 1.67474807e-02, 1.04959313e-04] deg>"
      ]
     },
     "execution_count": 33,
     "metadata": {},
     "output_type": "execute_result"
    }
   ],
   "source": [
    "sep2d"
   ]
  },
  {
   "cell_type": "code",
   "execution_count": 51,
   "metadata": {},
   "outputs": [
    {
     "data": {
      "text/html": [
       "&lt;MaskedColumn name=&apos;h&apos; dtype=&apos;float64&apos; length=11&gt;\n",
       "<table>\n",
       "<tr><td>0.0</td></tr>\n",
       "<tr><td>0.0</td></tr>\n",
       "<tr><td>0.0</td></tr>\n",
       "<tr><td>0.0</td></tr>\n",
       "<tr><td>0.0</td></tr>\n",
       "<tr><td>0.0</td></tr>\n",
       "<tr><td>-1.0350000000000001</td></tr>\n",
       "<tr><td>0.0</td></tr>\n",
       "<tr><td>0.0</td></tr>\n",
       "<tr><td>-3.1480000000000006</td></tr>\n",
       "<tr><td>0.0</td></tr>\n",
       "</table>"
      ],
      "text/plain": [
       "<MaskedColumn name='h' dtype='float64' length=11>\n",
       "                0.0\n",
       "                0.0\n",
       "                0.0\n",
       "                0.0\n",
       "                0.0\n",
       "                0.0\n",
       "-1.0350000000000001\n",
       "                0.0\n",
       "                0.0\n",
       "-3.1480000000000006\n",
       "                0.0"
      ]
     },
     "execution_count": 51,
     "metadata": {},
     "output_type": "execute_result"
    }
   ],
   "source": [
    "targs.available(ex_field)['h'] - ex_field.plate_data[0][idx]['tmass_h']"
   ]
  },
  {
   "cell_type": "code",
   "execution_count": 38,
   "metadata": {},
   "outputs": [
    {
     "data": {
      "text/html": [
       "<i>Table masked=True length=11</i>\n",
       "<table id=\"table139975426501600\" class=\"table-striped table-bordered table-condensed\">\n",
       "<thead><tr><th>pk</th><th>catalogid</th><th>dec</th><th>epoch</th><th>pmdec</th><th>pmra</th><th>ra</th><th>parallax</th><th>bp</th><th>g</th><th>h</th><th>i</th><th>z</th><th>r</th><th>rp</th><th>carton_to_target_pk</th><th>priority</th><th>cadence</th></tr></thead>\n",
       "<thead><tr><th>int64</th><th>int64</th><th>float64</th><th>float64</th><th>float64</th><th>float64</th><th>float64</th><th>float64</th><th>float64</th><th>float64</th><th>float64</th><th>float64</th><th>float64</th><th>float64</th><th>float64</th><th>int64</th><th>int64</th><th>float64</th></tr></thead>\n",
       "<tr><td>63200143</td><td>4400726315</td><td>26.516624646335984</td><td>2015.5</td><td>-56.43</td><td>43.69</td><td>3.017901588779658</td><td>nan</td><td>12.274</td><td>12.590871</td><td>9.293</td><td>11.220837</td><td>10.989637</td><td>11.615499</td><td>10.8608</td><td>219061402</td><td>2610</td><td>nan</td></tr>\n",
       "<tr><td>63130318</td><td>4400726404</td><td>26.252226477392497</td><td>2015.5</td><td>-7.54142</td><td>-5.06581</td><td>3.1523757514693362</td><td>2.29675</td><td>12.6512</td><td>12.739884</td><td>10.946</td><td>12.137205</td><td>12.083581</td><td>12.301875</td><td>11.8233</td><td>218989341</td><td>2610</td><td>nan</td></tr>\n",
       "<tr><td>63200148</td><td>4402835549</td><td>26.81979450154741</td><td>2015.5</td><td>-14.5468</td><td>-17.4957</td><td>3.3869881453212867</td><td>7.72339</td><td>10.9878</td><td>11.293857</td><td>9.234</td><td>10.443971</td><td>10.474189</td><td>10.604778</td><td>10.1126</td><td>219061408</td><td>2610</td><td>nan</td></tr>\n",
       "<tr><td>63148214</td><td>4402838198</td><td>27.316449524906293</td><td>2015.5</td><td>45.2254</td><td>111.928</td><td>2.3777257433414243</td><td>13.8652</td><td>13.5774</td><td>14.1181555</td><td>9.911</td><td>12.085736</td><td>11.687693</td><td>12.754909</td><td>11.7227</td><td>219007769</td><td>2610</td><td>nan</td></tr>\n",
       "<tr><td>63148215</td><td>4402838643</td><td>27.496560527547583</td><td>2015.5</td><td>-55.7289</td><td>-2.86079</td><td>2.360110141369754</td><td>8.92773</td><td>11.1768</td><td>11.416542</td><td>9.145</td><td>15.27082</td><td>10.906687</td><td>10.808616</td><td>10.2025</td><td>219007770</td><td>2610</td><td>nan</td></tr>\n",
       "<tr><td>63165725</td><td>4402838933</td><td>27.539312853258306</td><td>2015.5</td><td>-13.3591</td><td>24.7408</td><td>2.578731482902514</td><td>5.78841</td><td>11.1787</td><td>11.246591</td><td>9.547</td><td>10.69413</td><td>10.715225</td><td>10.818146</td><td>10.3745</td><td>219025849</td><td>2610</td><td>nan</td></tr>\n",
       "<tr><td>63148216</td><td>4402839819</td><td>27.65221982258546</td><td>2015.5</td><td>145.471</td><td>222.988</td><td>2.2631552646876965</td><td>16.5175</td><td>11.9499</td><td>14.241348</td><td>8.777</td><td>10.735708</td><td>11.299208</td><td>11.204476</td><td>10.4117</td><td>219007771</td><td>2610</td><td>nan</td></tr>\n",
       "<tr><td>63200136</td><td>4402839837</td><td>27.666837577512847</td><td>2015.5</td><td>144.804</td><td>222.239</td><td>2.2492675946101794</td><td>16.535</td><td>13.7767</td><td>14.37903</td><td>9.812</td><td>12.096777</td><td>11.653342</td><td>13.499054</td><td>11.7309</td><td>219061395</td><td>2610</td><td>nan</td></tr>\n",
       "<tr><td>63165724</td><td>4402840037</td><td>27.62920463874903</td><td>2015.5</td><td>-53.9078</td><td>82.6503</td><td>2.5314287283254515</td><td>15.3694</td><td>14.5475</td><td>15.101445</td><td>10.121</td><td>12.637509</td><td>12.075852</td><td>13.708468</td><td>12.2451</td><td>219025848</td><td>2610</td><td>nan</td></tr>\n",
       "<tr><td>63165723</td><td>4402840160</td><td>27.764958026948076</td><td>2015.5</td><td>-3.98578</td><td>-4.70774</td><td>2.5429351496859987</td><td>1.5423</td><td>10.4018</td><td>10.721768</td><td>7.425</td><td>9.303644</td><td>9.377136</td><td>9.637439</td><td>9.01802</td><td>219025847</td><td>2610</td><td>nan</td></tr>\n",
       "<tr><td>63200144</td><td>4402841300</td><td>27.510075074405066</td><td>2015.5</td><td>-26.1208</td><td>4.0662</td><td>2.9407840006128296</td><td>8.51073</td><td>8.57606</td><td>8.70825</td><td>7.317</td><td>8.276394</td><td>8.574736</td><td>8.331132</td><td>7.95118</td><td>219061403</td><td>2610</td><td>nan</td></tr>\n",
       "</table>"
      ],
      "text/plain": [
       "<Table masked=True length=11>\n",
       "   pk    catalogid         dec         ... carton_to_target_pk priority cadence\n",
       " int64     int64         float64       ...        int64         int64   float64\n",
       "-------- ---------- ------------------ ... ------------------- -------- -------\n",
       "63200143 4400726315 26.516624646335984 ...           219061402     2610     nan\n",
       "63130318 4400726404 26.252226477392497 ...           218989341     2610     nan\n",
       "63200148 4402835549  26.81979450154741 ...           219061408     2610     nan\n",
       "63148214 4402838198 27.316449524906293 ...           219007769     2610     nan\n",
       "63148215 4402838643 27.496560527547583 ...           219007770     2610     nan\n",
       "63165725 4402838933 27.539312853258306 ...           219025849     2610     nan\n",
       "63148216 4402839819  27.65221982258546 ...           219007771     2610     nan\n",
       "63200136 4402839837 27.666837577512847 ...           219061395     2610     nan\n",
       "63165724 4402840037  27.62920463874903 ...           219025848     2610     nan\n",
       "63165723 4402840160 27.764958026948076 ...           219025847     2610     nan\n",
       "63200144 4402841300 27.510075074405066 ...           219061403     2610     nan"
      ]
     },
     "execution_count": 38,
     "metadata": {},
     "output_type": "execute_result"
    }
   ],
   "source": [
    "targs.data[targs._available_indx[ex_field.name]]"
   ]
  },
  {
   "cell_type": "code",
   "execution_count": 48,
   "metadata": {},
   "outputs": [
    {
     "data": {
      "text/plain": [
       "11"
      ]
     },
     "execution_count": 48,
     "metadata": {},
     "output_type": "execute_result"
    }
   ],
   "source": [
    "len(idx)"
   ]
  },
  {
   "cell_type": "code",
   "execution_count": 39,
   "metadata": {},
   "outputs": [
    {
     "data": {
      "text/html": [
       "<i>Table length=11</i>\n",
       "<table id=\"table139975423292752\" class=\"table-striped table-bordered table-condensed\">\n",
       "<thead><tr><th>target_ra</th><th>target_dec</th><th>holetype</th><th>targettype</th><th>catalogid</th><th>tmass_id</th><th>firstcarton</th><th>tmass_h</th><th>gaia_g</th><th>gaia_rp</th><th>gaia_bp</th></tr></thead>\n",
       "<thead><tr><th>float64</th><th>float64</th><th>str13</th><th>str8</th><th>uint64</th><th>str23</th><th>str19</th><th>float64</th><th>float64</th><th>float64</th><th>float64</th></tr></thead>\n",
       "<tr><td>3.0179016</td><td>26.516625</td><td>APOGEE_SHARED</td><td>science</td><td>105759019</td><td>2MASS-J00120421+2631008</td><td>mwm_planet_tess</td><td>9.293</td><td>11.6254</td><td>10.8608</td><td>12.274</td></tr>\n",
       "<tr><td>3.1523758</td><td>26.252226</td><td>APOGEE_SHARED</td><td>science</td><td>105759108</td><td>2MASS-J00123658+2615081</td><td>mwm_planet_tess</td><td>10.946</td><td>12.3186</td><td>11.8233</td><td>12.6512</td></tr>\n",
       "<tr><td>3.3869881</td><td>26.819795</td><td>APOGEE_SHARED</td><td>science</td><td>107868253</td><td>2MASS-J00133290+2649115</td><td>mwm_snc_250pc</td><td>9.234</td><td>10.6139</td><td>10.1126</td><td>10.9878</td></tr>\n",
       "<tr><td>2.3777257</td><td>27.31645</td><td>APOGEE_SHARED</td><td>science</td><td>107870902</td><td>2MASS-J00093051+2718584</td><td>mwm_snc_100pc</td><td>9.911</td><td>12.6616</td><td>11.7227</td><td>13.5774</td></tr>\n",
       "<tr><td>2.3601101</td><td>27.496561</td><td>APOGEE_SHARED</td><td>science</td><td>107871347</td><td>2MASS-J00092642+2729485</td><td>mwm_snc_250pc</td><td>9.145</td><td>10.7554</td><td>10.2025</td><td>11.1768</td></tr>\n",
       "<tr><td>2.5787315</td><td>27.539313</td><td>APOGEE_SHARED</td><td>science</td><td>107871637</td><td>2MASS-J00101886+2732218</td><td>mwm_snc_250pc</td><td>9.547</td><td>10.843</td><td>10.3745</td><td>11.1787</td></tr>\n",
       "<tr><td>2.2492676</td><td>27.666838</td><td>APOGEE_SHARED</td><td>science</td><td>107872541</td><td>2MASS-J00085952+2739581</td><td>mwm_snc_100pc</td><td>9.812</td><td>12.7371</td><td>11.7309</td><td>13.7767</td></tr>\n",
       "<tr><td>2.2492676</td><td>27.666838</td><td>APOGEE_SHARED</td><td>science</td><td>107872541</td><td>2MASS-J00085952+2739581</td><td>mwm_snc_100pc</td><td>9.812</td><td>12.7371</td><td>11.7309</td><td>13.7767</td></tr>\n",
       "<tr><td>2.5314287</td><td>27.629205</td><td>APOGEE_SHARED</td><td>science</td><td>107872741</td><td>2MASS-J00100745+2737460</td><td>mwm_snc_100pc</td><td>10.121</td><td>13.3348</td><td>12.2451</td><td>14.5475</td></tr>\n",
       "<tr><td>2.534958</td><td>27.749771</td><td>APOGEE_SHARED</td><td>science</td><td>107872858</td><td>2MASS-J00100842+2744593</td><td>mwm_snc_250pc</td><td>10.573</td><td>12.2474</td><td>11.6858</td><td>12.6529</td></tr>\n",
       "<tr><td>2.940787</td><td>27.51018</td><td>APOGEE_SHARED</td><td>standard</td><td>0</td><td>2MASS-J00114578+2730366</td><td>None</td><td>7.317</td><td>-9.99999</td><td>-9.99999</td><td>-9.99999</td></tr>\n",
       "</table>"
      ],
      "text/plain": [
       "<Table length=11>\n",
       "target_ra target_dec    holetype   targettype ...  gaia_g  gaia_rp  gaia_bp \n",
       " float64   float64       str13        str8    ... float64  float64  float64 \n",
       "--------- ---------- ------------- ---------- ... -------- -------- --------\n",
       "3.0179016  26.516625 APOGEE_SHARED    science ...  11.6254  10.8608   12.274\n",
       "3.1523758  26.252226 APOGEE_SHARED    science ...  12.3186  11.8233  12.6512\n",
       "3.3869881  26.819795 APOGEE_SHARED    science ...  10.6139  10.1126  10.9878\n",
       "2.3777257   27.31645 APOGEE_SHARED    science ...  12.6616  11.7227  13.5774\n",
       "2.3601101  27.496561 APOGEE_SHARED    science ...  10.7554  10.2025  11.1768\n",
       "2.5787315  27.539313 APOGEE_SHARED    science ...   10.843  10.3745  11.1787\n",
       "2.2492676  27.666838 APOGEE_SHARED    science ...  12.7371  11.7309  13.7767\n",
       "2.2492676  27.666838 APOGEE_SHARED    science ...  12.7371  11.7309  13.7767\n",
       "2.5314287  27.629205 APOGEE_SHARED    science ...  13.3348  12.2451  14.5475\n",
       " 2.534958  27.749771 APOGEE_SHARED    science ...  12.2474  11.6858  12.6529\n",
       " 2.940787   27.51018 APOGEE_SHARED   standard ... -9.99999 -9.99999 -9.99999"
      ]
     },
     "execution_count": 39,
     "metadata": {},
     "output_type": "execute_result"
    }
   ],
   "source": [
    "ex_field.plate_data[0][idx]"
   ]
  },
  {
   "cell_type": "markdown",
   "metadata": {},
   "source": [
    "# aa = plate.get_dict(15004)\n",
    "aa['catalogid']"
   ]
  },
  {
   "cell_type": "code",
   "execution_count": null,
   "metadata": {},
   "outputs": [],
   "source": []
  },
  {
   "cell_type": "code",
   "execution_count": 17,
   "metadata": {},
   "outputs": [
    {
     "data": {
      "text/plain": [
       "0"
      ]
     },
     "execution_count": 17,
     "metadata": {},
     "output_type": "execute_result"
    }
   ],
   "source": [
    "np.sum(np.in1d(targs.data['catalogid'], ex_field.plate_data[0]['catalogid']))"
   ]
  },
  {
   "cell_type": "code",
   "execution_count": null,
   "metadata": {},
   "outputs": [],
   "source": []
  },
  {
   "cell_type": "code",
   "execution_count": null,
   "metadata": {},
   "outputs": [],
   "source": []
  },
  {
   "cell_type": "code",
   "execution_count": null,
   "metadata": {},
   "outputs": [],
   "source": []
  },
  {
   "cell_type": "code",
   "execution_count": null,
   "metadata": {},
   "outputs": [],
   "source": []
  },
  {
   "cell_type": "code",
   "execution_count": 14,
   "metadata": {},
   "outputs": [],
   "source": [
    "prun_c = platerun.PlateRun('2020.08.c.bhm-mwm')"
   ]
  },
  {
   "cell_type": "code",
   "execution_count": 15,
   "metadata": {},
   "outputs": [
    {
     "data": {
      "text/html": [
       "&lt;Column name=&apos;name&apos; dtype=&apos;str200&apos; length=34&gt;\n",
       "<table>\n",
       "<tr><td>AQM_001.85_+26.44</td></tr>\n",
       "<tr><td>AQM_008.53_+01.04</td></tr>\n",
       "<tr><td>AQM_009.32_+25.53</td></tr>\n",
       "<tr><td>AQM_010.46_-00.45</td></tr>\n",
       "<tr><td>AQM_013.71_+00.82</td></tr>\n",
       "<tr><td>AQM_019.60_-00.75</td></tr>\n",
       "<tr><td>AQM_021.01_+14.79</td></tr>\n",
       "<tr><td>AQM_022.15_+00.52</td></tr>\n",
       "<tr><td>AQM_024.61_-00.52</td></tr>\n",
       "<tr><td>AQM_028.56_+00.15</td></tr>\n",
       "<tr><td>AQM_038.50_+00.82</td></tr>\n",
       "<tr><td>AQM_040.87_-00.60</td></tr>\n",
       "<tr><td>...</td></tr>\n",
       "<tr><td>AQW_118.85_+37.42</td></tr>\n",
       "<tr><td>AQW_119.07_+27.14</td></tr>\n",
       "<tr><td>AQW_120.08_+35.03</td></tr>\n",
       "<tr><td>AQW_121.38_+32.85</td></tr>\n",
       "<tr><td>AQW_122.06_+26.83</td></tr>\n",
       "<tr><td>AQW_123.29_+34.70</td></tr>\n",
       "<tr><td>AQW_123.88_+38.85</td></tr>\n",
       "<tr><td>AQW_335.65_+20.42</td></tr>\n",
       "<tr><td>AQW_339.26_+24.05</td></tr>\n",
       "<tr><td>AQW_340.05_+26.61</td></tr>\n",
       "<tr><td>AQW_351.04_+24.38</td></tr>\n",
       "<tr><td>AQW_353.58_+23.97</td></tr>\n",
       "</table>"
      ],
      "text/plain": [
       "<Column name='name' dtype='str200' length=34>\n",
       "AQM_001.85_+26.44\n",
       "AQM_008.53_+01.04\n",
       "AQM_009.32_+25.53\n",
       "AQM_010.46_-00.45\n",
       "AQM_013.71_+00.82\n",
       "AQM_019.60_-00.75\n",
       "AQM_021.01_+14.79\n",
       "AQM_022.15_+00.52\n",
       "AQM_024.61_-00.52\n",
       "AQM_028.56_+00.15\n",
       "AQM_038.50_+00.82\n",
       "AQM_040.87_-00.60\n",
       "              ...\n",
       "AQW_118.85_+37.42\n",
       "AQW_119.07_+27.14\n",
       "AQW_120.08_+35.03\n",
       "AQW_121.38_+32.85\n",
       "AQW_122.06_+26.83\n",
       "AQW_123.29_+34.70\n",
       "AQW_123.88_+38.85\n",
       "AQW_335.65_+20.42\n",
       "AQW_339.26_+24.05\n",
       "AQW_340.05_+26.61\n",
       "AQW_351.04_+24.38\n",
       "AQW_353.58_+23.97"
      ]
     },
     "execution_count": 15,
     "metadata": {},
     "output_type": "execute_result"
    }
   ],
   "source": [
    "prun_c.fieldnamesselect(Car.carton,Car.program,Car.category_pk,Car.ve"
   ]
  },
  {
   "cell_type": "code",
   "execution_count": 16,
   "metadata": {},
   "outputs": [],
   "source": [
    "tass = targs.assigned(prun_c)"
   ]
  },
  {
   "cell_type": "code",
   "execution_count": 18,
   "metadata": {},
   "outputs": [],
   "source": [
    "import ppv.util"
   ]
  },
  {
   "cell_type": "code",
   "execution_count": 19,
   "metadata": {},
   "outputs": [
    {
     "data": {
      "text/html": [
       "<i>Table length=401</i>\n",
       "<table id=\"table140470030742192\" class=\"table-striped table-bordered table-condensed\">\n",
       "<thead><tr><th>pk</th><th>catalogid</th><th>dec</th><th>epoch</th><th>pmdec</th><th>pmra</th><th>ra</th><th>parallax</th><th>bp</th><th>g</th><th>h</th><th>i</th><th>z</th><th>r</th><th>rp</th><th>carton_to_target_pk</th><th>priority</th><th>cadence</th><th>field</th></tr></thead>\n",
       "<thead><tr><th>int64</th><th>int64</th><th>float64</th><th>float64</th><th>float64</th><th>float64</th><th>float64</th><th>float64</th><th>float64</th><th>float64</th><th>float64</th><th>float64</th><th>float64</th><th>float64</th><th>float64</th><th>int64</th><th>int64</th><th>float64</th><th>str17</th></tr></thead>\n",
       "<tr><td>57600446</td><td>4375143539</td><td>-0.6515067491362416</td><td>2015.5</td><td>-135.044</td><td>258.692</td><td>24.236442686584866</td><td>23.9705</td><td>16.1197</td><td>16.699734</td><td>10.882</td><td>13.728591</td><td>12.896981</td><td>15.192972</td><td>13.2338</td><td>218911400</td><td>2610</td><td>nan</td><td>AQM_024.61_-00.52</td></tr>\n",
       "<tr><td>57604306</td><td>4399876421</td><td>0.8302183051062618</td><td>2015.5</td><td>-64.6456</td><td>-52.3607</td><td>20.96719140515083</td><td>16.7391</td><td>16.0691</td><td>16.66419</td><td>10.973</td><td>13.746907</td><td>12.958217</td><td>15.188503</td><td>13.2503</td><td>219049632</td><td>2610</td><td>nan</td><td>AQM_022.15_+00.52</td></tr>\n",
       "<tr><td>57604325</td><td>4399883152</td><td>0.5161246658693178</td><td>2015.5</td><td>-22.19</td><td>55.79</td><td>22.26974853633527</td><td>nan</td><td>16.0827</td><td>16.671696</td><td>10.692</td><td>13.598673</td><td>12.75001</td><td>15.18125</td><td>13.0822</td><td>219029580</td><td>2610</td><td>nan</td><td>AQM_022.15_+00.52</td></tr>\n",
       "<tr><td>57604421</td><td>4401113713</td><td>16.123698233514197</td><td>2015.5</td><td>-68.6776</td><td>-76.9885</td><td>20.59071206361603</td><td>22.4419</td><td>16.1837</td><td>16.772816</td><td>10.996</td><td>13.841165</td><td>13.030337</td><td>15.288196</td><td>13.329</td><td>219044068</td><td>2610</td><td>nan</td><td>AQM_021.01_+14.79</td></tr>\n",
       "<tr><td>57604501</td><td>4401877814</td><td>1.0154258922456252</td><td>2015.5</td><td>-319.264</td><td>-166.505</td><td>39.37666189251729</td><td>39.3623</td><td>15.9316</td><td>nan</td><td>10.587</td><td>nan</td><td>nan</td><td>nan</td><td>12.9139</td><td>219057729</td><td>2610</td><td>nan</td><td>AQM_038.50_+00.82</td></tr>\n",
       "<tr><td>57604502</td><td>4401875892</td><td>0.3568901057112036</td><td>2015.5</td><td>-169.67</td><td>502.465</td><td>39.37583754006894</td><td>43.5106</td><td>15.3861</td><td>nan</td><td>9.967</td><td>nan</td><td>nan</td><td>nan</td><td>12.3572</td><td>219057730</td><td>2610</td><td>nan</td><td>AQM_038.50_+00.82</td></tr>\n",
       "<tr><td>57731169</td><td>4551590336</td><td>31.211609269075446</td><td>2015.5</td><td>-233.994</td><td>-52.8591</td><td>116.25261975915487</td><td>19.9533</td><td>16.0232</td><td>nan</td><td>10.935</td><td>nan</td><td>nan</td><td>nan</td><td>13.2442</td><td>218897300</td><td>2610</td><td>nan</td><td>AQW_116.50_+31.59</td></tr>\n",
       "<tr><td>57731596</td><td>4553887138</td><td>37.27404215111514</td><td>2015.5</td><td>-85.6575</td><td>160.015</td><td>116.458970527504</td><td>22.4647</td><td>16.2973</td><td>16.90436</td><td>10.997</td><td>13.899994</td><td>13.05571</td><td>15.447947</td><td>13.3634</td><td>218904213</td><td>2610</td><td>nan</td><td>AQW_115.68_+38.10</td></tr>\n",
       "<tr><td>57731697</td><td>4555355971</td><td>36.123665868095</td><td>2015.5</td><td>-196.907</td><td>-509.591</td><td>122.81073289140114</td><td>39.8041</td><td>14.5422</td><td>15.0692</td><td>9.309</td><td>16.755268</td><td>14.296207</td><td>16.628836</td><td>11.6411</td><td>218902516</td><td>2610</td><td>nan</td><td>AQW_123.29_+34.70</td></tr>\n",
       "<tr><td>63040605</td><td>4551566636</td><td>31.022949942883844</td><td>2015.5</td><td>19.9092</td><td>-8.28582</td><td>114.29484630096131</td><td>17.725</td><td>11.7898</td><td>13.815159</td><td>8.583</td><td>10.548904</td><td>10.848041</td><td>11.004367</td><td>10.2092</td><td>218897193</td><td>2610</td><td>nan</td><td>AQW_114.81_+29.83</td></tr>\n",
       "<tr><td>...</td><td>...</td><td>...</td><td>...</td><td>...</td><td>...</td><td>...</td><td>...</td><td>...</td><td>...</td><td>...</td><td>...</td><td>...</td><td>...</td><td>...</td><td>...</td><td>...</td><td>...</td><td>...</td></tr>\n",
       "<tr><td>63200136</td><td>4402839837</td><td>27.666837577512847</td><td>2015.5</td><td>144.804</td><td>222.239</td><td>2.2492675946101794</td><td>16.535</td><td>13.7767</td><td>14.37903</td><td>9.812</td><td>12.096777</td><td>11.653342</td><td>13.499054</td><td>11.7309</td><td>219061395</td><td>2610</td><td>nan</td><td>AQM_001.85_+26.44</td></tr>\n",
       "<tr><td>63200143</td><td>4400726315</td><td>26.516624646335984</td><td>2015.5</td><td>-56.43</td><td>43.69</td><td>3.017901588779658</td><td>nan</td><td>12.274</td><td>12.590871</td><td>9.293</td><td>11.220837</td><td>10.989637</td><td>11.615499</td><td>10.8608</td><td>219061402</td><td>2610</td><td>nan</td><td>AQM_001.85_+26.44</td></tr>\n",
       "<tr><td>63200148</td><td>4402835549</td><td>26.81979450154741</td><td>2015.5</td><td>-14.5468</td><td>-17.4957</td><td>3.3869881453212867</td><td>7.72339</td><td>10.9878</td><td>11.293857</td><td>9.234</td><td>10.443971</td><td>10.474189</td><td>10.604778</td><td>10.1126</td><td>219061408</td><td>2610</td><td>nan</td><td>AQM_001.85_+26.44</td></tr>\n",
       "<tr><td>63200961</td><td>4400895254</td><td>25.704098815215648</td><td>2015.5</td><td>-17.1871</td><td>13.793</td><td>7.969127765641617</td><td>13.8762</td><td>9.55891</td><td>12.255044</td><td>7.533</td><td>8.930486</td><td>9.728119</td><td>9.111869</td><td>8.58782</td><td>219062254</td><td>2610</td><td>nan</td><td>AQM_009.32_+25.53</td></tr>\n",
       "<tr><td>63200977</td><td>4400897541</td><td>25.7078179261229</td><td>2015.5</td><td>17.0471</td><td>34.5592</td><td>8.259809244574473</td><td>2.47637</td><td>12.3757</td><td>12.471117</td><td>10.879</td><td>11.977029</td><td>12.035175</td><td>12.084181</td><td>11.6536</td><td>219062271</td><td>2610</td><td>nan</td><td>AQM_009.32_+25.53</td></tr>\n",
       "<tr><td>63200978</td><td>4400893013</td><td>25.428190891278252</td><td>2015.5</td><td>-7.07092</td><td>8.24067</td><td>8.290322220034714</td><td>4.96746</td><td>10.1331</td><td>10.2639265</td><td>8.997</td><td>9.739638</td><td>10.359647</td><td>9.776857</td><td>9.56247</td><td>219062272</td><td>2610</td><td>nan</td><td>AQM_009.32_+25.53</td></tr>\n",
       "<tr><td>63207767</td><td>4555274785</td><td>35.016246197058074</td><td>2015.5</td><td>-8.11581</td><td>-8.06106</td><td>121.86371814790776</td><td>5.10199</td><td>14.3511</td><td>14.842198</td><td>10.655</td><td>12.8835125</td><td>12.523568</td><td>13.537995</td><td>12.528</td><td>219069362</td><td>2610</td><td>nan</td><td>AQW_120.08_+35.03</td></tr>\n",
       "<tr><td>63207767</td><td>4555274785</td><td>35.016246197058074</td><td>2015.5</td><td>-8.11581</td><td>-8.06106</td><td>121.86371814790776</td><td>5.10199</td><td>14.3511</td><td>14.842198</td><td>10.655</td><td>12.8835125</td><td>12.523568</td><td>13.537995</td><td>12.528</td><td>219069362</td><td>2610</td><td>nan</td><td>AQW_123.29_+34.70</td></tr>\n",
       "<tr><td>63207770</td><td>4555213129</td><td>32.70397711100681</td><td>2015.5</td><td>-25.9925</td><td>18.1017</td><td>121.76543353348887</td><td>9.26177</td><td>12.0255</td><td>12.253795</td><td>9.496</td><td>11.14133</td><td>11.036699</td><td>11.414367</td><td>10.807</td><td>219069365</td><td>2610</td><td>nan</td><td>AQW_121.38_+32.85</td></tr>\n",
       "<tr><td>63207771</td><td>4554729892</td><td>32.218371984912935</td><td>2015.5</td><td>-253.657</td><td>-372.99</td><td>121.85671942712185</td><td>52.9698</td><td>19.5038</td><td>20.29702</td><td>11.455</td><td>15.986128</td><td>14.360169</td><td>18.542656</td><td>14.9388</td><td>219069366</td><td>2610</td><td>nan</td><td>AQW_121.38_+32.85</td></tr>\n",
       "</table>"
      ],
      "text/plain": [
       "<Table length=401>\n",
       "   pk    catalogid          dec         ... priority cadence       field      \n",
       " int64     int64          float64       ...  int64   float64       str17      \n",
       "-------- ---------- ------------------- ... -------- ------- -----------------\n",
       "57600446 4375143539 -0.6515067491362416 ...     2610     nan AQM_024.61_-00.52\n",
       "57604306 4399876421  0.8302183051062618 ...     2610     nan AQM_022.15_+00.52\n",
       "57604325 4399883152  0.5161246658693178 ...     2610     nan AQM_022.15_+00.52\n",
       "57604421 4401113713  16.123698233514197 ...     2610     nan AQM_021.01_+14.79\n",
       "57604501 4401877814  1.0154258922456252 ...     2610     nan AQM_038.50_+00.82\n",
       "57604502 4401875892  0.3568901057112036 ...     2610     nan AQM_038.50_+00.82\n",
       "57731169 4551590336  31.211609269075446 ...     2610     nan AQW_116.50_+31.59\n",
       "57731596 4553887138   37.27404215111514 ...     2610     nan AQW_115.68_+38.10\n",
       "57731697 4555355971     36.123665868095 ...     2610     nan AQW_123.29_+34.70\n",
       "63040605 4551566636  31.022949942883844 ...     2610     nan AQW_114.81_+29.83\n",
       "     ...        ...                 ... ...      ...     ...               ...\n",
       "63200136 4402839837  27.666837577512847 ...     2610     nan AQM_001.85_+26.44\n",
       "63200143 4400726315  26.516624646335984 ...     2610     nan AQM_001.85_+26.44\n",
       "63200148 4402835549   26.81979450154741 ...     2610     nan AQM_001.85_+26.44\n",
       "63200961 4400895254  25.704098815215648 ...     2610     nan AQM_009.32_+25.53\n",
       "63200977 4400897541    25.7078179261229 ...     2610     nan AQM_009.32_+25.53\n",
       "63200978 4400893013  25.428190891278252 ...     2610     nan AQM_009.32_+25.53\n",
       "63207767 4555274785  35.016246197058074 ...     2610     nan AQW_120.08_+35.03\n",
       "63207767 4555274785  35.016246197058074 ...     2610     nan AQW_123.29_+34.70\n",
       "63207770 4555213129   32.70397711100681 ...     2610     nan AQW_121.38_+32.85\n",
       "63207771 4554729892  32.218371984912935 ...     2610     nan AQW_121.38_+32.85"
      ]
     },
     "execution_count": 19,
     "metadata": {},
     "output_type": "execute_result"
    }
   ],
   "source": [
    "ppv.util.unique_cat_w_provenance(targs.assigned(prun_c), prun_c.fieldnames, 'field')"
   ]
  },
  {
   "cell_type": "code",
   "execution_count": 21,
   "metadata": {},
   "outputs": [
    {
     "data": {
      "text/html": [
       "<i>Table length=27908</i>\n",
       "<table id=\"table140469996625488\" class=\"table-striped table-bordered table-condensed\">\n",
       "<thead><tr><th>target_ra</th><th>target_dec</th><th>holetype</th><th>targettype</th><th>catalogid</th><th>tmass_id</th><th>firstcarton</th><th>tmass_h</th><th>gaia_g</th><th>gaia_rp</th><th>gaia_bp</th><th>plate</th><th>field</th></tr></thead>\n",
       "<thead><tr><th>float64</th><th>float64</th><th>str13</th><th>str8</th><th>uint64</th><th>str23</th><th>str21</th><th>float64</th><th>float64</th><th>float64</th><th>float64</th><th>int64</th><th>str17</th></tr></thead>\n",
       "<tr><td>0.0</td><td>0.0</td><td>ALIGNMENT</td><td>NA</td><td>0</td><td>NA</td><td>NA</td><td>-9999.0</td><td>0.0</td><td>0.0</td><td>0.0</td><td>15004</td><td>AQM_001.85_+26.44</td></tr>\n",
       "<tr><td>0.0</td><td>0.0</td><td>ALIGNMENT</td><td>NA</td><td>0</td><td>NA</td><td>NA</td><td>-9999.0</td><td>0.0</td><td>0.0</td><td>0.0</td><td>15005</td><td>AQM_008.53_+01.04</td></tr>\n",
       "<tr><td>0.0</td><td>0.0</td><td>ALIGNMENT</td><td>NA</td><td>0</td><td>NA</td><td>NA</td><td>-9999.0</td><td>0.0</td><td>0.0</td><td>0.0</td><td>15006</td><td>AQM_009.32_+25.53</td></tr>\n",
       "<tr><td>0.0</td><td>0.0</td><td>ALIGNMENT</td><td>NA</td><td>0</td><td>NA</td><td>NA</td><td>-9999.0</td><td>0.0</td><td>0.0</td><td>0.0</td><td>15007</td><td>AQM_010.46_-00.45</td></tr>\n",
       "<tr><td>0.0</td><td>0.0</td><td>ALIGNMENT</td><td>NA</td><td>0</td><td>NA</td><td>NA</td><td>-9999.0</td><td>0.0</td><td>0.0</td><td>0.0</td><td>15008</td><td>AQM_013.71_+00.82</td></tr>\n",
       "<tr><td>0.0</td><td>0.0</td><td>ALIGNMENT</td><td>NA</td><td>0</td><td>NA</td><td>NA</td><td>-9999.0</td><td>0.0</td><td>0.0</td><td>0.0</td><td>15009</td><td>AQM_019.60_-00.75</td></tr>\n",
       "<tr><td>0.0</td><td>0.0</td><td>ALIGNMENT</td><td>NA</td><td>0</td><td>NA</td><td>NA</td><td>-9999.0</td><td>0.0</td><td>0.0</td><td>0.0</td><td>15010</td><td>AQM_021.01_+14.79</td></tr>\n",
       "<tr><td>0.0</td><td>0.0</td><td>ALIGNMENT</td><td>NA</td><td>0</td><td>NA</td><td>NA</td><td>-9999.0</td><td>0.0</td><td>0.0</td><td>0.0</td><td>15011</td><td>AQM_022.15_+00.52</td></tr>\n",
       "<tr><td>0.0</td><td>0.0</td><td>ALIGNMENT</td><td>NA</td><td>0</td><td>NA</td><td>NA</td><td>-9999.0</td><td>0.0</td><td>0.0</td><td>0.0</td><td>15012</td><td>AQM_024.61_-00.52</td></tr>\n",
       "<tr><td>0.0</td><td>0.0</td><td>ALIGNMENT</td><td>NA</td><td>0</td><td>NA</td><td>NA</td><td>-9999.0</td><td>0.0</td><td>0.0</td><td>0.0</td><td>15013</td><td>AQM_028.56_+00.15</td></tr>\n",
       "<tr><td>...</td><td>...</td><td>...</td><td>...</td><td>...</td><td>...</td><td>...</td><td>...</td><td>...</td><td>...</td><td>...</td><td>...</td><td>...</td></tr>\n",
       "<tr><td>359.9809</td><td>1.4721018</td><td>BOSS_SHARED</td><td>science</td><td>87284284</td><td>None</td><td>bhm_aqmes_med-faint</td><td>-9.99999</td><td>20.3706</td><td>19.6424</td><td>20.4132</td><td>15035</td><td>AQM_359.38_+00.15</td></tr>\n",
       "<tr><td>359.98121</td><td>0.6528313</td><td>BOSS_SHARED</td><td>science</td><td>87278639</td><td>None</td><td>mwm_wd_core</td><td>-9.99999</td><td>19.2054</td><td>19.0518</td><td>19.1653</td><td>15035</td><td>AQM_359.38_+00.15</td></tr>\n",
       "<tr><td>359.98364</td><td>1.0249407</td><td>APOGEE_SHARED</td><td>science</td><td>87282795</td><td>2MASS-J23595602+0101294</td><td>mwm_snc_250pc</td><td>10.584</td><td>12.2067</td><td>11.6354</td><td>12.632</td><td>15035</td><td>AQM_359.38_+00.15</td></tr>\n",
       "<tr><td>359.98601</td><td>0.9294744</td><td>BOSS_SHARED</td><td>standard</td><td>87282719</td><td>2MASS-J23595665+0055466</td><td>ops_std_eboss</td><td>15.995</td><td>17.252</td><td>16.7702</td><td>17.4935</td><td>15035</td><td>AQM_359.38_+00.15</td></tr>\n",
       "<tr><td>359.98776</td><td>-0.3788363</td><td>BOSS_SHARED</td><td>science</td><td>76229615</td><td>None</td><td>bhm_aqmes_med-faint</td><td>-9.99999</td><td>21.0102</td><td>-9.99999</td><td>-9.99999</td><td>15035</td><td>AQM_359.38_+00.15</td></tr>\n",
       "<tr><td>359.99256</td><td>0.8610583</td><td>BOSS_SHARED</td><td>science</td><td>87279002</td><td>None</td><td>bhm_aqmes_med</td><td>-9.99999</td><td>19.0912</td><td>18.5738</td><td>19.1334</td><td>15035</td><td>AQM_359.38_+00.15</td></tr>\n",
       "<tr><td>359.99444</td><td>-1.2070516</td><td>BOSS_SHARED</td><td>science</td><td>76224445</td><td>None</td><td>bhm_aqmes_med</td><td>-9.99999</td><td>18.7319</td><td>18.2935</td><td>18.8309</td><td>15035</td><td>AQM_359.38_+00.15</td></tr>\n",
       "<tr><td>359.99469</td><td>0.562592</td><td>BOSS_SHARED</td><td>science</td><td>87278617</td><td>None</td><td>bhm_aqmes_med-faint</td><td>-9.99999</td><td>19.3116</td><td>18.8309</td><td>19.3529</td><td>15035</td><td>AQM_359.38_+00.15</td></tr>\n",
       "<tr><td>359.99674</td><td>1.2394765</td><td>APOGEE_SHARED</td><td>science</td><td>87283177</td><td>2MASS-J23595920+0114222</td><td>mwm_tessrgb_core</td><td>10.025</td><td>11.8993</td><td>11.269</td><td>12.3916</td><td>15035</td><td>AQM_359.38_+00.15</td></tr>\n",
       "<tr><td>359.99907</td><td>-0.0653861</td><td>APOGEE_SHARED</td><td>science</td><td>76229979</td><td>2MASS-J23595977-0003554</td><td>mwm_tessrgb_core</td><td>7.38</td><td>9.9386</td><td>9.1543</td><td>10.6505</td><td>15035</td><td>AQM_359.38_+00.15</td></tr>\n",
       "</table>"
      ],
      "text/plain": [
       "<Table length=27908>\n",
       "target_ra target_dec    holetype   ... gaia_bp  plate       field      \n",
       " float64   float64       str13     ... float64  int64       str17      \n",
       "--------- ---------- ------------- ... -------- ----- -----------------\n",
       "      0.0        0.0     ALIGNMENT ...      0.0 15004 AQM_001.85_+26.44\n",
       "      0.0        0.0     ALIGNMENT ...      0.0 15005 AQM_008.53_+01.04\n",
       "      0.0        0.0     ALIGNMENT ...      0.0 15006 AQM_009.32_+25.53\n",
       "      0.0        0.0     ALIGNMENT ...      0.0 15007 AQM_010.46_-00.45\n",
       "      0.0        0.0     ALIGNMENT ...      0.0 15008 AQM_013.71_+00.82\n",
       "      0.0        0.0     ALIGNMENT ...      0.0 15009 AQM_019.60_-00.75\n",
       "      0.0        0.0     ALIGNMENT ...      0.0 15010 AQM_021.01_+14.79\n",
       "      0.0        0.0     ALIGNMENT ...      0.0 15011 AQM_022.15_+00.52\n",
       "      0.0        0.0     ALIGNMENT ...      0.0 15012 AQM_024.61_-00.52\n",
       "      0.0        0.0     ALIGNMENT ...      0.0 15013 AQM_028.56_+00.15\n",
       "      ...        ...           ... ...      ...   ...               ...\n",
       " 359.9809  1.4721018   BOSS_SHARED ...  20.4132 15035 AQM_359.38_+00.15\n",
       "359.98121  0.6528313   BOSS_SHARED ...  19.1653 15035 AQM_359.38_+00.15\n",
       "359.98364  1.0249407 APOGEE_SHARED ...   12.632 15035 AQM_359.38_+00.15\n",
       "359.98601  0.9294744   BOSS_SHARED ...  17.4935 15035 AQM_359.38_+00.15\n",
       "359.98776 -0.3788363   BOSS_SHARED ... -9.99999 15035 AQM_359.38_+00.15\n",
       "359.99256  0.8610583   BOSS_SHARED ...  19.1334 15035 AQM_359.38_+00.15\n",
       "359.99444 -1.2070516   BOSS_SHARED ...  18.8309 15035 AQM_359.38_+00.15\n",
       "359.99469   0.562592   BOSS_SHARED ...  19.3529 15035 AQM_359.38_+00.15\n",
       "359.99674  1.2394765 APOGEE_SHARED ...  12.3916 15035 AQM_359.38_+00.15\n",
       "359.99907 -0.0653861 APOGEE_SHARED ...  10.6505 15035 AQM_359.38_+00.15"
      ]
     },
     "execution_count": 21,
     "metadata": {},
     "output_type": "execute_result"
    }
   ],
   "source": [
    "prun_c.assigned_table()"
   ]
  },
  {
   "cell_type": "code",
   "execution_count": null,
   "metadata": {},
   "outputs": [],
   "source": []
  }
 ],
 "metadata": {
  "kernelspec": {
   "display_name": "Python 3",
   "language": "python",
   "name": "python3"
  },
  "language_info": {
   "codemirror_mode": {
    "name": "ipython",
    "version": 3
   },
   "file_extension": ".py",
   "mimetype": "text/x-python",
   "name": "python",
   "nbconvert_exporter": "python",
   "pygments_lexer": "ipython3",
   "version": "3.8.5"
  }
 },
 "nbformat": 4,
 "nbformat_minor": 4
}
